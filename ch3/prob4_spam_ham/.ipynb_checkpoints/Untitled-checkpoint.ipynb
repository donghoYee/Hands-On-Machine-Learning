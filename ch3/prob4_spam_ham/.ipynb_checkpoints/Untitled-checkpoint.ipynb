{
 "cells": [
  {
   "cell_type": "code",
   "execution_count": 1,
   "id": "bc9b562a",
   "metadata": {},
   "outputs": [],
   "source": [
    "import os"
   ]
  },
  {
   "cell_type": "code",
   "execution_count": 10,
   "id": "d8ab56db",
   "metadata": {},
   "outputs": [],
   "source": [
    "ham_filenames , spam_filenames = [],[]\n",
    "for name in sorted(os.listdir(\"ham\")):\n",
    "    if(len(name) > 20):\n",
    "        ham_filenames.append(name)\n",
    "        #print(name)\n",
    "        \n",
    "for sname in sorted(os.listdir(\"spam\")):\n",
    "    if(len(sname) > 20):\n",
    "        spam_filenames.append(sname)"
   ]
  },
  {
   "cell_type": "code",
   "execution_count": 11,
   "id": "627d4154",
   "metadata": {},
   "outputs": [
    {
     "name": "stdout",
     "output_type": "stream",
     "text": [
      "3951\n",
      "2398\n",
      "00001.1a31cc283af0060967a233d26548a6ce\n",
      "0000.7b1b73cf36cf9dbc3d64e3f2ee2b91f1\n"
     ]
    }
   ],
   "source": [
    "print(len(ham_filenames))\n",
    "print(len(spam_filenames))\n",
    "print(ham_filenames[0])\n",
    "print(spam_filenames[0])"
   ]
  },
  {
   "cell_type": "code",
   "execution_count": 12,
   "id": "bda31d00",
   "metadata": {},
   "outputs": [],
   "source": [
    "import email\n",
    "import email.policy"
   ]
  },
  {
   "cell_type": "markdown",
   "id": "5648e07d",
   "metadata": {},
   "source": []
  },
  {
   "cell_type": "code",
   "execution_count": 13,
   "id": "830a5a5c",
   "metadata": {},
   "outputs": [],
   "source": [
    "ham_emails, spam_emails = [], []\n",
    "\n",
    "for ham_filename in ham_filenames:\n",
    "    with open(\"ham/\"+ham_filename, \"rb\") as f:\n",
    "        ham_emails.append(email.parser.BytesParser(policy=email.policy.default).parse(f))\n",
    "        \n",
    "for spam_filename in spam_filenames:\n",
    "    with open(\"spam/\"+spam_filename, \"rb\") as f:\n",
    "        spam_emails.append(email.parser.BytesParser(policy=email.policy.default).parse(f))"
   ]
  },
  {
   "cell_type": "code",
   "execution_count": 22,
   "id": "a6e6373f",
   "metadata": {},
   "outputs": [
    {
     "name": "stdout",
     "output_type": "stream",
     "text": [
      "3951\n",
      "2398\n",
      "Date:        Tue, 20 Aug 2002 17:27:47 -0500\n",
      "    From:        Chris Garrigues <cwg-exmh@DeepEddy.Com>\n",
      "    Message-ID:  <1029882468.3116.TMDA@deepeddy.vircio.com>\n",
      "\n",
      "\n",
      "  | I'm hoping that all people with no additional sequences will notice are\n",
      "  | purely cosmetic changes.\n",
      "\n",
      "Well, first, when exmh (the latest one with your changes) starts, I get...\n",
      "\n",
      "can't read \"flist(totalcount,unseen)\": no such element in array\n",
      "    while executing\n",
      "\"if {$flist(totalcount,$mhProfile(unseen-sequence)) > 0} {\n",
      "\tFlagInner spool iconspool labelup\n",
      "    } else {\n",
      "\tFlagInner down icondown labeldown\n",
      "    }\"\n",
      "    (procedure \"Flag_MsgSeen\" line 3)\n",
      "    invoked from within\n",
      "\"Flag_MsgSeen\"\n",
      "    (procedure \"MsgSeen\" line 8)\n",
      "    invoked from within\n",
      "\"MsgSeen $msgid\"\n",
      "    (procedure \"MsgShow\" line 12)\n",
      "    invoked from within\n",
      "\"MsgShow $msgid\"\n",
      "    (procedure \"MsgChange\" line 17)\n",
      "    invoked from within\n",
      "\"MsgChange 4862 show\"\n",
      "    invoked from within\n",
      "\"time [list MsgChange $msgid $show\"\n",
      "    (procedure \"Msg_Change\" line 3)\n",
      "    invoked from within\n",
      "\"Msg_Change $msg(id) $show\"\n",
      "    (procedure \"Msg_Show\" line 7)\n",
      "    invoked from within\n",
      "\"Msg_Show cur\"\n",
      "    (\"eval\" body line 1)\n",
      "    invoked from within\n",
      "\"eval $msgShowProc\"\n",
      "    (procedure \"FolderChange\" line 55)\n",
      "    invoked from within\n",
      "\"FolderChange inbox {Msg_Show cur}\"\n",
      "    invoked from within\n",
      "\"time [list  FolderChange $folder $msgShowProc\"\n",
      "    (procedure \"Folder_Change\" line 3)\n",
      "    invoked from within\n",
      "\"Folder_Change $exmh(folder)\"\n",
      "    (procedure \"Exmh\" line 101)\n",
      "    invoked from within\n",
      "\"Exmh\"\n",
      "    (\"after\" script)\n",
      "\n",
      "which is probably related to my not having an \"unseen\" sequence anywhere\n",
      "(certainly not in inbox) - I read all of my outstanding mail before I\n",
      "tried this new exmh ...\n",
      "\n",
      "Second, I've been used to having a key binding which was to Msg_MarkUnseen\n",
      "which doesn't seem to exist any more, and I'm not sure what I should replace\n",
      "that with.   There's obviously a way as the \"Sequences\" menu does this.\n",
      "The \"Mark Unseen\" menu entry in the message \"More\" menu is still wanting\n",
      "that function as well...\n",
      "\n",
      "  | For those who have other sequences defined, the window will widen to\n",
      "  | display the other sequences.\n",
      "\n",
      "Any chance of having that lengthen instead?   I like all my exmh stuff\n",
      "in nice columns (fits the display better).   That is, I use the detached\n",
      "folder list, one column.   The main exmh window takes up full screen,\n",
      "top to bottom, but less than half the width, etc...\n",
      "\n",
      "I have space for more sequences, in the \"unseen\" window, as long as they\n",
      "remain once nice narrow window (best would be if the sequences could be\n",
      "ordered by some preference, then ones which didn't fit would just fall\n",
      "off the bottom, and not be shown).\n",
      "\n",
      "I'd also prefer it if that window had no unusual background colouring,\n",
      "just one constant colour - I have been running the unseen window with\n",
      "background black, on a root window that is all black, with no borders or\n",
      "other decorations, but made \"sticky\" - the appearance is just like the\n",
      "folders with unseen messages (and their counts) are written into the\n",
      "root window (because it is sticky, this small display follows me around\n",
      "and do I can see when new mail needs processing).\n",
      "\n",
      "I also find that I tend to have a bunch of sequences that only ever occur\n",
      "in one folder (some I had forgotten I ever created).  So in addition to\n",
      "the \"sequences to always show\" and \"sequences to never show\", a\n",
      "preference to only show sequences that occur in more than one folder\n",
      "would be useful, and then have the sequences that occor only in the\n",
      "folder I'm visiting appear in the list when that folder is current.\n",
      "This is just to keep the list size somewhat manageable while remaining\n",
      "productive (I quite often use a sequence to remember a particular message\n",
      "in a folder - the name is used only there, and only for one message,\n",
      "it gives me a handle on the message which remains as the folder is\n",
      "packed, sorted, etc).\n",
      "\n",
      "I haven't updated my exmh for some time now, so I'm not sure if this\n",
      "next one is new, or just new since 2.5, but the Sequences menu (on the\n",
      "bar with New Flist Search ...) only contains \"unseen\" and \"urgent\".\n",
      "It would be useful if it contained all of the sequences that the folder\n",
      "happens to have defined.   A \"New sequence\" entry would also be useful\n",
      "(to mark the message with a sequence name that didn't previously exist,\n",
      "which can be done now using \"Search\" and the pick interface, but is\n",
      "clumsy that way)\n",
      "\n",
      "Actually, you once could, now when I try this, entering a sequence name\n",
      "in the pick box, and a single message number, or a range N-N in the\n",
      "list of messages, and no pick attributes at all, I now get ...\n",
      "\n",
      "syntax error in expression \"int(1+1+(1 hit-1)*(3868-1-2)/(4878-1))\"\n",
      "    while executing\n",
      "\"expr int($minlineno+1+($msgid-$minmsgid)*($maxlineno-$minlineno-2)/($maxmsgid-$minmsgid))\"\n",
      "    (procedure \"Ftoc_FindMsg\" line 46)\n",
      "    invoked from within\n",
      "\"Ftoc_FindMsg $msg\"\n",
      "    (procedure \"Ftoc_FindMsgs\" line 5)\n",
      "    invoked from within\n",
      "\"Ftoc_FindMsgs $msgids\"\n",
      "    (procedure \"Ftoc_PickMsgs\" line 5)\n",
      "    invoked from within\n",
      "\"Ftoc_PickMsgs $pick(ids) $pick(addtosel)\"\n",
      "    (procedure \"PickInner\" line 13)\n",
      "    invoked from within\n",
      "\"PickInner {exec pick +inbox -list} {4852 -sequence mercury}\"\n",
      "    (\"uplevel\" body line 1)\n",
      "    invoked from within\n",
      "\"uplevel #0 $cmd\"\n",
      "    (procedure \"busyCursorInner\" line 8)\n",
      "    invoked from within\n",
      "\"busyCursorInner $cmd $widgets\"\n",
      "    (procedure \"busyCursorHack\" line 32)\n",
      "    invoked from within\n",
      "\"busyCursorHack $args\"\n",
      "    (\"cursor\" arm line 1)\n",
      "    invoked from within\n",
      "\"switch $busy(style) {\n",
      "\ticon\t\t{busyIcon $args}\n",
      "\tcursorAll\t{busyCursor $args}\n",
      "\tcursor\t\t{busyCursorHack $args}\n",
      "\tdefault\t\t{eval $args}\n",
      "    }\"\n",
      "    (procedure \"busy\" line 3)\n",
      "    invoked from within\n",
      "\"busy PickInner $cmd $msgs\"\n",
      "    (procedure \"Pick_It\" line 51)\n",
      "    invoked from within\n",
      "\"Pick_It\"\n",
      "    invoked from within\n",
      "\".pick.but.pick invoke\"\n",
      "    (\"uplevel\" body line 1)\n",
      "    invoked from within\n",
      "\"uplevel #0 [list $w invoke]\"\n",
      "    (procedure \"tkButtonUp\" line 7)\n",
      "    invoked from within\n",
      "\"tkButtonUp .pick.but.pick\n",
      "\"\n",
      "    (command bound to event)\n",
      "\n",
      "It has been ages since I did this last though.   I tried adding a Subject\n",
      "to pick on (easy as I know what's in the message...) which made no difference.\n",
      "Looks as if something is now saying \"1 hit\" when before it didn't, or\n",
      "similar.\n",
      "\n",
      "  | I've also changed the ftoc colorization as discussed briefly on the list a \n",
      "  | week or so ago.\n",
      "\n",
      "Any chance of making the current message a little brighter background?\n",
      "Just to make it stand out a fraction more than it does (maybe this is\n",
      "more apparent to me than many, as I use very small fonts everywhere,\n",
      "the background of the ftoc line isn't very wide).\n",
      "\n",
      "Hope this helps.\n",
      "\n",
      "kre\n",
      "\n",
      "\n",
      "\n",
      "_______________________________________________\n",
      "Exmh-workers mailing list\n",
      "Exmh-workers@redhat.com\n",
      "https://listman.redhat.com/mailman/listinfo/exmh-workers\n",
      "**************************************************\n",
      "Greetings!\n",
      "\n",
      "You are receiving this letter because you have expressed an interest in \n",
      "receiving information about online business opportunities. If this is \n",
      "erroneous then please accept my most sincere apology. This is a one-time \n",
      "mailing, so no removal is necessary.\n",
      "\n",
      "If you've been burned, betrayed, and back-stabbed by multi-level marketing, \n",
      "MLM, then please read this letter. It could be the most important one that \n",
      "has ever landed in your Inbox.\n",
      "\n",
      "MULTI-LEVEL MARKETING IS A HUGE MISTAKE FOR MOST PEOPLE\n",
      "\n",
      "MLM has failed to deliver on its promises for the past 50 years. The pursuit \n",
      "of the \"MLM Dream\" has cost hundreds of thousands of people their friends, \n",
      "their fortunes and their sacred honor. The fact is that MLM is fatally \n",
      "flawed, meaning that it CANNOT work for most people.\n",
      "\n",
      "The companies and the few who earn the big money in MLM are NOT going to \n",
      "tell you the real story. FINALLY, there is someone who has the courage to \n",
      "cut through the hype and lies and tell the TRUTH about MLM.\n",
      "\n",
      "HERE'S GOOD NEWS\n",
      "\n",
      "There IS an alternative to MLM that WORKS, and works BIG! If you haven't yet \n",
      "abandoned your dreams, then you need to see this. Earning the kind of income \n",
      "you've dreamed about is easier than you think!\n",
      "\n",
      "With your permission, I'd like to send you a brief letter that will tell you \n",
      "WHY MLM doesn't work for most people and will then introduce you to \n",
      "something so new and refreshing that you'll wonder why you haven't heard of \n",
      "this before.\n",
      "\n",
      "I promise that there will be NO unwanted follow up, NO sales pitch, no one \n",
      "will call you, and your email address will only be used to send you the \n",
      "information. Period.\n",
      "\n",
      "To receive this free, life-changing information, simply click Reply, type \n",
      "\"Send Info\" in the Subject box and hit Send. I'll get the information to you \n",
      "within 24 hours. Just look for the words MLM WALL OF SHAME in your Inbox.\n",
      "\n",
      "Cordially,\n",
      "\n",
      "Siddhi\n",
      "\n",
      "P.S. Someone recently sent the letter to me and it has been the most \n",
      "eye-opening, financially beneficial information I have ever received. I \n",
      "honestly believe that you will feel the same way once you've read it. And \n",
      "it's FREE!\n",
      "\n",
      "\n",
      "------------------------------------------------------------\n",
      "This email is NEVER sent unsolicited.  THIS IS NOT \"SPAM\". You are receiving \n",
      "this email because you EXPLICITLY signed yourself up to our list with our \n",
      "online signup form or through use of our FFA Links Page and E-MailDOM \n",
      "systems, which have EXPLICIT terms of use which state that through its use \n",
      "you agree to receive our emailings.  You may also be a member of a Altra \n",
      "Computer Systems list or one of many numerous FREE Marketing Services and as \n",
      "such you agreed when you signed up for such list that you would also be \n",
      "receiving this emailing.\n",
      "Due to the above, this email message cannot be considered unsolicitated, or \n",
      "spam.\n",
      "-----------------------------------------------------------\n",
      "\n",
      "\n",
      "\n",
      "\n",
      "-- \n",
      "Irish Linux Users' Group: ilug@linux.ie\n",
      "http://www.linux.ie/mailman/listinfo/ilug for (un)subscription information.\n",
      "List maintainer: listmaster@linux.ie\n"
     ]
    }
   ],
   "source": [
    "print(len(ham_emails))\n",
    "print(len(spam_emails))\n",
    "print(ham_emails[0].get_content().strip())\n",
    "print('*'*50)\n",
    "print(spam_emails[1].get_content().strip())"
   ]
  },
  {
   "cell_type": "code",
   "execution_count": 26,
   "id": "52f2732f",
   "metadata": {},
   "outputs": [
    {
     "name": "stdout",
     "output_type": "stream",
     "text": [
      "Return-Path : <12a1mailbot1@web.de>\n",
      "Delivered-To : zzzz@localhost.spamassassin.taint.org\n",
      "Received : from localhost (localhost [127.0.0.1])\tby phobos.labs.spamassassin.taint.org (Postfix) with ESMTP id 136B943C32\tfor <zzzz@localhost>; Thu, 22 Aug 2002 08:17:21 -0400 (EDT)\n",
      "Received : from mail.webnote.net [193.120.211.219]\tby localhost with POP3 (fetchmail-5.9.0)\tfor zzzz@localhost (single-drop); Thu, 22 Aug 2002 13:17:21 +0100 (IST)\n",
      "Received : from dd_it7 ([210.97.77.167])\tby webnote.net (8.9.3/8.9.3) with ESMTP id NAA04623\tfor <zzzz@spamassassin.taint.org>; Thu, 22 Aug 2002 13:09:41 +0100\n",
      "From : 12a1mailbot1@web.de\n",
      "Received : from r-smtp.korea.com - 203.122.2.197 by dd_it7  with Microsoft SMTPSVC(5.5.1775.675.6);\t Sat, 24 Aug 2002 09:42:10 +0900\n",
      "To : dcek1a1@netsgo.com\n",
      "Subject : Life Insurance - Why Pay More?\n",
      "Date : Wed, 21 Aug 2002 20:31:57 -1600\n",
      "MIME-Version : 1.0\n",
      "Message-ID : <0103c1042001882DD_IT7@dd_it7>\n",
      "Content-Type : text/html; charset=\"iso-8859-1\"\n",
      "Content-Transfer-Encoding : quoted-printable\n"
     ]
    }
   ],
   "source": [
    "for header, value in spam_emails[2].items():\n",
    "    print(header, \":\", value)"
   ]
  },
  {
   "cell_type": "code",
   "execution_count": 28,
   "id": "e2d934a8",
   "metadata": {},
   "outputs": [
    {
     "data": {
      "text/plain": [
       "'Re: New Sequences Window'"
      ]
     },
     "execution_count": 28,
     "metadata": {},
     "output_type": "execute_result"
    }
   ],
   "source": [
    "ham_emails[2][\"subject\"]"
   ]
  },
  {
   "cell_type": "code",
   "execution_count": 30,
   "id": "eff507d5",
   "metadata": {},
   "outputs": [],
   "source": [
    "import numpy as np\n",
    "from sklearn.model_selection import train_test_split"
   ]
  },
  {
   "cell_type": "code",
   "execution_count": 40,
   "id": "17cdf76d",
   "metadata": {},
   "outputs": [],
   "source": [
    "ham_emails_cp = ham_emails.copy()\n",
    "spam_emails_cp = spam_emails.copy()"
   ]
  },
  {
   "cell_type": "code",
   "execution_count": 41,
   "id": "b20489de",
   "metadata": {},
   "outputs": [],
   "source": [
    "for email in ham_emails_cp:\n",
    "    if(email[\"subject\"]== None ):\n",
    "        ham_emails.remove(email)\n",
    "        \n",
    "for email in spam_emails_cp:\n",
    "    if(email[\"subject\"] == None ):\n",
    "        spam_emails.remove(email)"
   ]
  },
  {
   "cell_type": "code",
   "execution_count": 46,
   "id": "26def5a2",
   "metadata": {},
   "outputs": [
    {
     "name": "stdout",
     "output_type": "stream",
     "text": [
      "3946\n",
      "2397\n"
     ]
    }
   ],
   "source": [
    "print(len(ham_emails))\n",
    "print(len(spam_emails))"
   ]
  },
  {
   "cell_type": "code",
   "execution_count": 175,
   "id": "cff2dc82",
   "metadata": {},
   "outputs": [],
   "source": [
    "X = np.array(ham_emails + spam_emails, dtype=object) # using object, we can store anything in a numpy() array!\n",
    "y = np.array([0]*len(ham_emails) + [1]*len(spam_emails))\n",
    "\n",
    "X_train, X_test, y_train, y_test = train_test_split(X, y, test_size=0.2, random_state=42) # we can split two entities with the same order!!"
   ]
  },
  {
   "cell_type": "code",
   "execution_count": 176,
   "id": "78280a9c",
   "metadata": {},
   "outputs": [
    {
     "name": "stdout",
     "output_type": "stream",
     "text": [
      "<class 'str'>\n",
      "Gary Lawrence Murphy wrote\n",
      ">Wasn't the Aztec population that greeted Cortez already largely\n",
      ">decimated by the microbiology brought over by DeSoto nearly a hundred\n",
      ">years before?\n",
      "\n",
      "Well IIRC, Cortez arrived in 1519, and DeSoto was born circa 1500.\n",
      "You do the math.\n",
      "\n",
      "I guess that's a \"no\".\n",
      "\n",
      "R\n",
      " \n",
      "PS: Funny how the New World world population supposedly had no immunity\n",
      "    to Old World diseases and died like flies, but the Old World\n",
      "    population was completely unaffected by New World diseases (other\n",
      "    than tabacco and syphilis...)  Bullshit meter red-lining again...\n",
      "http://xent.com/mailman/listinfo/fork\n",
      "\n",
      "\n"
     ]
    }
   ],
   "source": [
    "num = 9\n",
    "print(type(X_train[num].get_content()))\n",
    "print(X_train[num].get_content())\n"
   ]
  },
  {
   "cell_type": "code",
   "execution_count": 177,
   "id": "71d0c4ab",
   "metadata": {},
   "outputs": [
    {
     "name": "stdout",
     "output_type": "stream",
     "text": [
      "5074\n"
     ]
    }
   ],
   "source": [
    "print(len(X_train))"
   ]
  },
  {
   "cell_type": "code",
   "execution_count": 178,
   "id": "af2253a1",
   "metadata": {},
   "outputs": [],
   "source": [
    "def prepocess_email_and_return_str(X,y):\n",
    "    string = \"\"\n",
    "    big_list = []\n",
    "    label_list = []\n",
    "    for idx, email in enumerate(X):\n",
    "        try:\n",
    "            string = \"\"\n",
    "            for char in email.get_content():\n",
    "                if(char in ['<','>','~','-','_','#','*','\\n','\\t']):\n",
    "                    continue\n",
    "                string += char\n",
    "            string = string.lower()\n",
    "            big_list.append(\" \".join(string.split(' ')).split())\n",
    "            label_list.append(y[idx])\n",
    "        except:\n",
    "            pass\n",
    "    return big_list, label_list        \n",
    "    "
   ]
  },
  {
   "cell_type": "code",
   "execution_count": 179,
   "id": "1f663c7f",
   "metadata": {},
   "outputs": [],
   "source": [
    "X_train_str, y_train_label = prepocess_email_and_return_str(X_train, y_train)"
   ]
  },
  {
   "cell_type": "code",
   "execution_count": 180,
   "id": "ec0b30db",
   "metadata": {},
   "outputs": [
    {
     "name": "stdout",
     "output_type": "stream",
     "text": [
      "4602\n",
      "4602\n"
     ]
    }
   ],
   "source": [
    "print(len(X_train_str))\n",
    "print(len(y_train_label))"
   ]
  },
  {
   "cell_type": "code",
   "execution_count": 182,
   "id": "720dc87c",
   "metadata": {},
   "outputs": [],
   "source": [
    "X_test_str, y_test_label = prepocess_email_and_return_str(X_test, y_test)"
   ]
  },
  {
   "cell_type": "code",
   "execution_count": 183,
   "id": "39789cc9",
   "metadata": {},
   "outputs": [
    {
     "name": "stdout",
     "output_type": "stream",
     "text": [
      "['on', 'thursday', '05', 'september', '2002', '04:10', 'cet', 'mike', 'burger', 'wrote:', 'just', 'loaded', 'up', 'sa', '2.40', 'from', \"theo's\", 'rpms...spamassassin2.401', 'and', 'perlmailspamassassin2.401', 'on', 'a', 'rh', '7.1', 'system', 'with', 'perl', '5.6.1', 'running', 'on', 'it.', \"i'm\", 'getting', 'messages', 'that', 'seem', 'to', 'indicate', 'that', 'sa', \"can't\", 'find', 'permsgstatus,', 'like', 'so:', 'sep', '4', '21:01:59', 'burgers', 'spamd[17579]:', 'failed', 'to', 'run', 'ctypejusthtml', 'spamassassin', 'test,', 'skipping:', \"^i(can't\", 'locate', 'object', 'method', '\"checkforcontenttypejusthtml\"', 'via', 'package', '\"mail::spamassassin::permsgstatus\"', '(perhaps', 'you', 'forgot', 'to', 'load', '\"mail::spamassassin::permsgstatus\"?)', 'at', '/usr/lib/perl5/siteperl/5.6.1/mail/spamassassin/permsgstatus.pm', 'line', '1814,', 'stdin', 'line', '21.', ')[...]', 'any', 'ideas?perl', \"doesn't\", 'complain', 'that', 'it', \"can't\", 'find', 'permsgstatus.pm', 'but', 'the', 'function', 'checkforcontenttypejusthtml().', 'do', 'you', 'probably', 'have', 'some', 'old', 'rules', 'files', 'still', 'lurking', 'around?', 'this', 'test', 'existed', 'in', '2.31', 'but', 'is', 'gone/was', 'renamed', 'with', '2.40.malte', 'coding', 'is', 'art.', 'this', 'sf.net', 'email', 'is', 'sponsored', 'by:', 'osdn', 'tired', 'of', 'that', 'same', 'oldcell', 'phone?', 'get', 'a', 'new', 'here', 'for', 'free!https://www.inphonic.com/r.asp?r=sourceforge1&refcode1=vs3390spamassassintalk', 'mailing', 'listspamassassintalk@lists.sourceforge.nethttps://lists.sourceforge.net/lists/listinfo/spamassassintalk']\n"
     ]
    }
   ],
   "source": [
    "print(X_train_str[20])"
   ]
  },
  {
   "cell_type": "code",
   "execution_count": 184,
   "id": "613e1425",
   "metadata": {},
   "outputs": [
    {
     "name": "stdout",
     "output_type": "stream",
     "text": [
      "4602\n"
     ]
    }
   ],
   "source": [
    "print(len(X_train_str))"
   ]
  },
  {
   "cell_type": "code",
   "execution_count": 185,
   "id": "792d50cf",
   "metadata": {},
   "outputs": [],
   "source": [
    "def create_list_containing_important_words(X):\n",
    "    dictionary_of_words = {}\n",
    "    for email in X:\n",
    "        for word in email:\n",
    "            if(word in dictionary_of_words.keys()):\n",
    "                dictionary_of_words[word] +=1\n",
    "            else:\n",
    "                dictionary_of_words[word] = 0\n",
    "    \n",
    "    list_of_important_words = []\n",
    "    for key, value in dictionary_of_words.items():\n",
    "        if(value > 30):\n",
    "            list_of_important_words.append(key)\n",
    "    \n",
    "    return list_of_important_words\n",
    "    "
   ]
  },
  {
   "cell_type": "code",
   "execution_count": 186,
   "id": "ff54be72",
   "metadata": {},
   "outputs": [],
   "source": [
    "list_of_importan_words = create_list_containing_important_words(X_train_str)"
   ]
  },
  {
   "cell_type": "code",
   "execution_count": 187,
   "id": "b3b555e8",
   "metadata": {},
   "outputs": [
    {
     "name": "stdout",
     "output_type": "stream",
     "text": [
      "3454\n",
      "['quoting', 'kevin', 'anyone', 'here', 'have', 'experience', 'with', 'windows', 'cvs', 'clients', 'a', 'server', 'using', 'of', 'some', 'form', 'or', 'and', 'the', 'something', 'i', '\"i', \"don't\", 'like', 'country', 'but', 'mean', 'to', 'those', 'who', 'do.', 'and,', 'for', 'people', 'means', 'irish', 'linux', \"users'\", 'group:', 'ilug@linux.iehttp://www.linux.ie/mailman/listinfo/ilug', '(un)subscription', 'information.list', 'maintainer:', 'listmaster@linux.ie', 'hi', 'looking', 'get', 'my', 'hands', 'ii', 'cannot', 'access', 'site', 'because', 'ofthe', 'place', 'know', 'where', 'copy', '(which', 'running', 'on', 'time', 'asked', 'in', 'game', 'they', 'me', 'would', 'ask', 'that', \"wouldn't\", 'be', 'purchasing', 'group', 'social', 'events:', 'social@linux.iehttp://www.linux.ie/mailman/listinfo/social', 'url:', 'not', 'has', 'named', 'new', 'president', 'paul', 'did', 'his', 'spending', 'expense', 'safety', 'building', 'california', 'number', 'available', 'sale', 'so', 'on.', 'james', 'used', 'head', 'euro', 'link[1]', 'said:', '1.', 'these', 'messages', 'could', 'end', 'up', 'being', '(or', 'reported', 'etc.', 'certain', 'too.', 'think', 'results', 'tests', 'can', 'trusted', 'any', 'way,', 'when', 'over', 'public', 'note', '2.', 'also', 'submitted', 'than', 'projects', 'spamassassin', 'rely', 'ga', 'second', 'problem', 'by', 'adding', 'signature', 'file', '(the', 'format', 'giving', 'message', 'files', 'unique', 'names', 'each', 'maybe', 'will', 'help', 'here,', 'should', 'pick', 'them', 'out.', \"i'll\", 'do', 'that.', '3.', 'spammers', 'good', 'off', 'course,', \"there's\", 'always', 'technology', 'both', 'third', \"doesn't\", 'really', 'worry', 'problems', '(and', 'perhaps', 'others', 'are', 'spam', 'other', 'their', 'own', 'set', 'having', 'multiple', 'independent', 'finding', 'better', 'ways', 'testing', 'seems', 'more', 'solution', \"i'm\", 'glad', \"we're\", 'working', 'exactly', 'if', \"you're\", 'going', 'seriously', 'work', 'filter', 'corpus', 'is', 'much', 'work.', 'you', 'enough', 'spam,', 'creating', 'pretty', 'thousands', 'every', 'primary', 'reason', 'released', 'this,', 'was', 'provide', 'good,', 'it', 'allows', 'tobe', 'between', 'known', 'everyone', 'maintain', 'we', 'guarantee', 'before', 'ever', 'show', 'green', 'take', 'out', 'your', 'sign', 'free', 'test', 'drive', 'our', 'system.', 'no', 'obligation', 'limit', 'system', 'powerful', '400', 'into', 'first', 'signed', 'use', 'sure', 'request', 'info', 'subject', 'line', 'does', 'national', 'attention', 'this', 'program', 'incredible', 'next', 'above', 'below', 'all', 'home', 'business', 'from', 'future', 'turns', 'an', 'conflict', 'old', 'sound', 'checking', 'setup', 'kernel', 'still', 'picked', 'card', '5', 'works', 'fine', 'now', 'confused', 'as', 'why', 'worked', 'decided', 'upgrade', 'machine', 'at', 'latest', 'which', 'however', 'one', 'problem,', 'network', 'work,', 'well', 'kind', 'instead', '10', 'aug', '4', 'address', '00', '5.', 'coming', 'while', 'go', 'come', 'in.', \"i've\", 'tried', 'then', 'bit', 'gets', 'got', 'suggestions', 'what', 'its', 'debian', 'seem', 'ok,', 'missed', 'al', 'posting', 'way', 'held', 'sun', 'products', 'included', 'rather', 'tool', 'since', 'fact', \"it's\", 'unsolicited', \"can't\", 'mailing', 'list.', 'how', 'list', 'even', 'say', 'about', 'just', 'put', 'website,', 'way.', 'website', 'worst', 'said', 'might', 'read', 'it.', 'long', 'send', 'individuals', 'clearly', \"didn't\", 'trouble', 'requesting', 'plus,', 'block', 'web', \"shouldn't\", 'may', '7', '��', '2002', 'lifetime', 'spend', 'dvd', 'alternative', 'exact', 'same', 'thing', 'now.', 'best', 'price', 'click', 'here:', 'remove', 'http://xent.com/mailman/listinfo/fork', '!', 'saved', 'url=(0022)http://internet.email', '!doctype', 'html', '\"//w3c//dtd', '{textdecoration:', 'none;', 'color:', 'topmargin=\"0\"', 'table', 'border=\"1\"', 'cellspacing=\"0\"', 'cellpadding=\"2\"', 'bordercolor=\"000000\"', 'tr', 'td', 'border=\"0\"', 'cellpadding=\"4\"', 'align=\"center\"', 'size=\"2\"', 'color=\"ffffff\"', 'face=\"arial,', 'helvetica,', 'u', 'n', 'v', 'e', 'r', 's', 't', '.', 'd', 'p', 'l', 'o', 'm', '/tr', 'bgcolor=\"000000\"', 'valign=\"middle\"', 'div', 'align=\"center\"font', 'face=\"verdana,', 'arial,', 'sansserif\"', 'want', 'future,', 'increased', 'money', 'earning', 'respect', '/td', 'assist', 'based', 'present', 'knowledge', 'life', '/div', 'bfont', 'required', 'field', 'choice', \"that's\", 'right,', 'become', 'lawyer', 'receive', 'benefits', 'comes', 'size=\"5\"', 'turned', 'change', 'br', '/p', 'pfont', 'either', 'call', 'us', '24', 'hours', 'day,', 'days', 'font', '/font', 'within', 'days,', 'start', '/table', 'cellspacing=\"2\"', 'trtd', 'email', 'advertisement', 'goal', 'only', 'target', 'advantage', 'offers.', \"you'd\", 'removed', 'list,', 'please', 'link', 'below.', 'immediately', 'automatically', 'tdfont', 'protect', 'addresses', 'thank', 'gary', 'lawrence', 'murphy', 'population', 'already', 'brought', 'nearly', 'guess', 'world', 'had', 'died', 'completely', 'west', 'bank', 'once', 'upon', 'time,', 'wrote', ':', 'been', 'unable', 'play', 'dvds', 'picture', 'run', 'see', 'error', 'fill', 'audio', 'jump', 'seen', 'fix', 'it?', 'bug', 'all,', 'sorry', 'private', 'last', 'idea', 'different', 'single', 'packages', 'source', 'remember', 'user', 'particular', 'recent', \"haven't\", 'heard', 'clean', 'custom', 'red', 'hat', 'rpm', 'release', '7.3', '(valhalla)', 'rpmlist@freshrpms.nethttp://lists.freshrpms.net/mailman/listinfo/rpmlist', 'tue,', 'sep', 'microsoft', 'htmlbody', 'align=centerfont', 'color=ffffff', 'won', '$30', '&amp;', 'online', 'collect', 'cash', '/fonta', 'align=centera', 'dollars', 'align=center', 'cellpadding=\"0\"', 'bgcolor=\"cccccc\"', 'sent', 'compliance', 'per', 'section', 'paragraph', 's.', 'sender', 'cost', 'entering', 'clicking', 'submit', '/fontfont', 'optin', 'enter', 'provided', 'box', 'you.', 'input', 'type=\"hidden\"', 'type=\"submit\"', 'content=\"mshtml', 'name=generator/headbody', 'center', 'tbody', 'face=\"verdana\"a', 'nothing', 'huge', 'big', 'true\"', 'href=\"http://www.jeweldive.com:81/nsi/big/natural/bindex.htm\"font', 'color=redimg', 'border=\"0\"/font/a/font/td', '/tbody', 'face=\"verdana\"', '@', 'sample', '&nbsp;&nbsp;&nbsp;&nbsp;', '/center', 'p&nbsp;/p', 'here/font/afont', 'penis', 'here/a', '/font/p', '==', 'writes:', '...', 'so,', 'yeah,', 'ms', 'author', 'wants', 'things', 'opinion', 'states', 'joe', 'williams', 'week,', 'garym@teledyn.com', 'teledynamics', 'communications', 'through', 'open', 'http://www.teledyn.com\"computers', 'useless.', 'give', 'answers.\"(pablo', 'mon,', '23', 'comment', 'do,', 'starting', 'job', \"wasn't\", 'especially', 'hand', 'imagine', 'begin', 'pgp', 'pm', 'robert', 'harley', 'wrote:', 'excellent', 'whole', 'in,', 'around', 'war,', 'technology,', 'everything', 'else', 'worth', 'life.', 'progress', '\"the', 'stuff', 'r.', 'a.', 'hettinga', 'mailto:', 'rah@ibuc.comthe', 'internet', 'bearer', 'underwriting', 'corporation', 'http://www.ibuc.com/44', 'farquhar', 'street,', 'boston,', 'ma', '02131', 'usa\"...', 'deserve', 'usefulness', 'antiquity,[predicting', 'world]', 'found', 'agreeable', 'toexperience.\"', 'edward', 'gibbon,', \"'decline\", 'fall', 'roman', 'na', 'sa', 'se', 'da', 'ne', 'je', 'pa', 'im', 'li', 'ce', 'unsubscribe', 'follow', 'welcome', 'express', 'approved', 'lowest', 'possible', 'important', 'confidential', 'dr.', 'global', 'licensed', 'worldwide', 'hour', 'delivery', 'order', 'simply', 'prices', 'satisfaction', 'guaranteed', 'carry', 'weight', 'loss', 'hair', 'september', 'mike', 'rh', 'perl', 'getting', 'indicate', 'find', 'failed', 'locate', 'object', 'method', 'via', 'package', 'load', 'function', 'probably', 'rules', 'sf.net', 'sponsored', 'by:', 'osdn', 'tired', 'oldcell', 'phone?', 'free!https://www.inphonic.com/r.asp?r=sourceforge1&refcode1=vs3390spamassassintalk', 'listspamassassintalk@lists.sourceforge.nethttps://lists.sourceforge.net/lists/listinfo/spamassassintalk', 'course', 'study', 'thursday,', '19,', '2002,', 'bill', 'today,', 'geek', 'tips', 'he', 'favorite', 'missing', 'wondering', 'tell', 'couple', 'actual', 'ship', 'hard', 'her', \"won't\", 'firm', 'language', 'almost', 'years', 'later', 'saying', 'character', 'john', 'me,', \"you'll\", 'many', 'gone', 'then,', 'tim', 'thought', 'ham', 'sets', 'tp', 'gave', 'wonderful', 'several', 'data,', 'favor', 'currently', 'million', 'stuff,', 'isp', 'let', 'cheap', 'whitelist', 'spams', 'lists', \"you've\", 'case,', 'la', 'by:thinkgeekwelcome', 'heaven.http://thinkgeek.com/sfspamassassintalk', 'additional', 'comments', 'answer', 'question', 'post', 'version', 'receiving', 'mail', 'watching', 'listspamassassindevel@lists.sourceforge.nethttps://lists.sourceforge.net/lists/listinfo/spamassassindevel', 'original', 'from:', 'wednesday,', 'july', 're:', '[razorusers]', 'wed,', 'jul', '0400,', 'razor', 'client', 'solaris', '9', 'sendmail', 'managed', 'sort', 'light', 'during', 'traffic', 'times', ',', 'core', 'well.', 'terms', '(i', '15', 'often', 'valid', 'seconds', 'close', 'hardware', 'relevant', 'log', '31', 'data', '[', 'razorcheck', 'error:', 'discovery', 'reading', 'config', 'created', 'default', 'values', 'man', '=', 'after', 'it,', 'output', 'text', 'file.', 'such', 'directory', 'servers', 'connection', '29', '1', 'proper', 'port', 'appear', 'though', 'there', 'must', 'apparently', 'two', 'separate', 'dice', 'leading', 'hightech', 'professionals.', 'search', 'apply', 'tech', 'jobs', 'listrazorusers@lists.sourceforge.nethttps://lists.sourceforge.net/lists/listinfo/razorusers', 'account', 'adult', 'club', 'offers', 'membership', '3', 'sites', 'absolutely', 'instant', 'name:', 'news', 'members', 'free,', 'month', 'were', 'offering', 'advertisers', 'pay', 'ad', 'space', 'true', 'never', 'friends', 'yes,', 'age', 'following', 'links', 'charge', 'believe', 'us,', 'membership!!', 'added', 'live', 'sex', 'ultimate', 'xxx', 'shows', 'part', 'sites,', \"they're\", 'free!', 'strongly', 'against', 'sending', 'emails', 'wish', 'opted', 'affiliate', 'time.', 'attained', 'services', 'party', 'overlook', 'management', 'removal', 'services.', 'email.', 'further', 'mailings,', 'accept', 'apologies', 'error.', 'honor', 'attempts', 'politics', 'real', 'life,', 'says', 'degree', 'cause', 'earn', 'legitimate', 'existing', 'professional', 'high', 'school', 'minimum', 'three', 'seeking', 'know,', 'promote', 'skills', 'piece', 'wealth', 'now!', 'demand', 'promotion', 'without', 'taking', 'leave', 'current', 'qualify', 'career', 'personal', 'down', 'wall', 'official', 'writing', 'requested', 'college', '&', 'university', 'meet', 'highest', 'issues', 'gold', 'raised', 'taken', 'reply', 'subject.', 'name', 'share', 'risk', 'opportunity', 'before.', 'consumer', 'ability', 'buy', 'make', 'networking', 'rich', 'save', 'join', 'check', 'unlimited', '$14.95', '/', 'learn', 'aboutthe', 'exciting', 'visit', 'page', 'lose', 'potentially', 'lot', 'necessary', 'tuesday,', 'august', '20,', '[ilug]', 'subject:', 'critical', 'until', 'review', 'header', 'posted', 'ok', 'thats', 'thousand', 'very', 'evidence', \"i'd\", 'sun,', '8', 'agree', 'thinking', 'sure,', 'k', 'generally', 'virus', 'issue', 'switch', 'outside', 'industry', 'extremely', 'orders', 'higher', 'one.', 'installed', 'laptop', 'i.e.', 'few', 'anywhere', 'stop', 'again', 'little', 'previously', 'errors', 'pci', 'costs', 'less', '20', 'design', 'direct', 'fax', 'dear', 'urgent', 'confidence', 'nature', 'top', 'member', 'nigeria', 'federal', 'government', 'trade', 'me.', 'seek', 'operation', 'execution', 'deal', 'described', 'benefit', 'parties', 'hope', 'keep', 'secret', 'ministry', 'resources', 'director', 'engineering', 'cooperation', 'four', 'under', 'control', 'contract', 'bills', 'united', 'transfer', 'foreign', 'assistance', 'company', 'funds', 'behalf', 'reliable', 'individual', 'fund', 'military', 'months,', 'officials', 'companies', 'themselves', 'various', 'contracts', 'aware', 'payment', 'identified', 'central', 'ready', 'position', 'civil', 'acquire', 'therefore', 'matter', 'colleagues', 'look', 'partner', 'whose', 'sum', 'hence', 'determined', 'relationship', 'financial', 'include', 'finance', 'providing', 'main', 'information', 'changing', 'letters', 'claim', 'company.', 'process', 'internal', 'authority', 'partners', 'involved', 'willing', 'transaction,', 'itself', '100%', 'treat', 'area', 'successful', 'transaction.', 'bring', 'complete', 'transaction', 'respond', 'heaven.http://thinkgeek.com/sfspamassassinsightings', 'listspamassassinsightings@lists.sourceforge.nethttps://lists.sourceforge.net/lists/listinfo/spamassassinsightings', 'face=\"arial', 'border=0', 'cellspacing=0', '$25,000', 'guaranteed!', 'face=\"arial\"font', 'day', 'given', 'away', 'face=\"verdana\"font', 'grant', 'away,', 'size=1you', 'grants', 'fact,', 'businesses', 'across', 'millions', '18', 'paid', 'american', 'size=1this', 'conventional', 'requires', 'agencies', 'operate', 'banks', 'decide', 'lawful', 'amount', 'yours', 'non', 'interest', 'programs', 'credit', 'check,', 'security', 'bankruptcy', 'bad', 'credit,', 'matter,', 'tax', 'u.s.', 'entitled', 'programs,', 'state', 'year', 'border', 'cellpadding=3', 'size=1over', 'expand', 'color=\"cc0000\"font', \"world's\", 'largest', 'style=\"marginleft:', '1cm;', 'marginright:', '1cm\"font', 'living', 'right', 'america', 'billion', 'research', 'economy', 'need', 'greater', 'economic', 'development', 'great', 'approximately', 'applied', 'equal', 'somehow', 'feel', 'them,', 'too', 'is,', 'however,', 'government,', 'income', 'repair', 'home,', 'mortgage', 'purchase', 'general', 'summer', 'music', 'art', 'senior', 'estate', 'medical', 'someone', 'fire', 'education,', 'women', 'computer', 'studies', 'specific', 'money.', 'made', 'you,', 'margintop:', 'done', 'obtaining', 'guide', 'most', 'money,', 'electronic', 'meaning', 'minutes', 'color=\"000000\"font', 'thousandsof', 'loan', 'step', 'instructions', 'proposal', 'contact', 'governmentgrants', 'size=1direct', 'offered', 'detailed', 'phone', 'expert', 'related', 'venture', 'capital', 'size=1a', 'allow', 'generate', 'listing', 'recently', 'announced', 'funding', 'small', '100', 'discover', 'programs.', 'loans', 'size=1how', 'advice', 'businesses,', 'buying', 'land', 'develop', 'size=1the', 'provides', '$500', 'more.', 'black', 'qualified', '30', 'sources', 'true,', 'business,', 'family.', 'another', 'received', 'least', 'or,', 'ebook', '12', 'back', 'refund', 'questions', 'order,', 'entirely', 'risk.', 'full', 'moneyback', 'feeling', 'material', 'immediate', 'price.', 'style=\"textalign:', 'valuable', 'color=\"0000cc\"free', 'bonus', 'fully', 'software', 'alone', 'cd', 'say,', 'accepted', 'interactive', 'walk', 'teach', 'write', 'competitive', 'able', 'compare', 'insider', 'special', 'experts', 'techniques', 'secrets', 'car', 'auto', 'equity', 'loans,', 'major', 'telephone', 'services,', 'food', 'prescription', 'drugs', 'manual', 'guidelines', 'tools', 'succeed', 'simple', 'easy', 'idea.', 'hundreds', 'sold', \"what's\", 'determine', 'inthe', 'predict', 'losing', 'plan', 'investors', 'easily', 'making', 'pocket', 'business.', 'stand', 'chance', 'specifically', 'following:', 'service', 'retail', 'company,', 'nobody', 'told', 'common', 'keeps', 'select', 'cutting', 'mine', 'average', 'reduction', 'marketing', 'lead', 'developing', 'sales', 'increase', 'profits', 'profit', 'planning', 'uses', 'style=\"textdecoration:', \"here's\", 'behind', 'dollar', 'tip', 'proven', 'turn', 'avoid', 'legal', '/b', 'success', 'ideas', 'image', 'response', 'managing', 'solve', 'am', 'past', 'manager', 'leader', 'owner', 'five', 'helped', 'obtain', 'market,', 'sell', 'practically', 'activity', 'presented', 'contains', 'technique', 'learned', 'normally', 'serious', 'delay', 'moment', 'style=\"marginbottom:', 'handling', 'secure', 'jabber', 'fastest', 'growing', 'realtime', 'platform!', 'im.', 'build', 'in!', 'http://www.jabber.com/osdn/ximspamassassinsightings', 'report', 'today.', 'happiness', 'quite', 'that,', 'size=5', 'lenders', 'compete', 'size=2', 'size=3', 'face=\"times', 'roman,', 'rates', 'point', '40', 'rate', 'situation', 'matching', 'needs', 'perfect', 'owners', 'buyers', 'plans', 'face=verdana,arial,helvetica', 'face=\"arial,helvetica\"', 'regarding', 'longer', 'error,', 'series', 'talk', 'mark', '21,', '+0100,', 'oh', 'smart', 'fairly', 'dont', 'appears', 'confirm', 'regular', 'permission', 'try', 'require', 'messages.', 'systemworks', 'this:', 'goes', 'id', 'create', 'dangerous', 'quality', 'yet', 'hell', 'calls', '\"', 'except', 'uk', 'became', 'talking', 'stick', 'fun', 'temple', 'group,', 'to:', 'yahoo!', 'groups', 'http://docs.yahoo.com/info/terms/', 'sponsor', '+s&p', 'to:forteanaunsubscribe@egroups.com', 'pc', 'store', 'drives', 'lock', 'leaving', 'setting', 'users', 'enable', 'ago,', 'seemed', \"couldn't\", 'anything', 'up.', 'grow', 'mind', ';)', 'looked', 'lots', 'clues', '(like', 'meant', 'wrong', 'looks', 'code', '16', 'basically', 'counting', '0.01', 'none', 'record', 'extreme', 'happened', 'one,', 'wonder', 'ads', 'body', 'discussion', 'highly', 'technical', 'words', 'ran', 'interesting', 'lines', 'seventh', 'bunch', 'url', 'followed', 'tags', 'plus', \"aren't\", 'remains', 'biggest', 'trained', 'trying', 'far', 'email,', 'expected', 'bigger', 'relatively', 'training', \"he's\", 'van', 'tom', 'genetic', 'information,', 'content=\"text/html;', 'bgcolor=ffffff', 'cellpadding=0', 'align=left', 'valign=top', 'monthly', 'late', 'low', 'debt', 'color=ff0000', 'property', 'size=1', 'products,', 'desire', 'size=\"1\"', 'color', 'paste', 'suite', 'img', 'african', 'leaders', '|', '0', 'here.', 'them.', 'domain', 'pull', \"they've\", 'culture', 'face', 'market', 'repository', 'possibly', 'due', 'aptget', 'update', 'hit', 'http://apt.freshrpms.net', 'matthias', 'saou', 'edificio', 'norte', 'plantasystem', 'engineer', '08039', 'barcelona,', 'spainelectronic', '+34', '936', '23rpmlist', 'suppose', 'modern', 'equivalent', 'beat', 'cds', 'laser', 'printer', 'commercial', 'bgcolor=\"ffffff\"', 'valign=\"top\"a', 'valign=\"top\"', 'size=\"4\"', 'color=\"ff0000\"', 'color=\"000000\"', 'surprised', 'friend', 'showed', 'she', 'played', 'sweet', 'young', 'possible,', 'mailings.', '3rd', 'thu,', '22', 'doing', 'insert', 'keyboard', 'mouse', 'things,', 'exmh', 'files,', 'beginning', 'up,', 'all.', 'item', 'listed', 'actually', 'option', 'directly', 'window', 'prior', '6', 'choose', 'execute', 'on,', 'attempt', 'script', 'helps', 'sitting', 'actively', 'waiting', 'away.', 'listexmhusers@redhat.comhttps://listman.redhat.com/mailman/listinfo/exmhusers', 'class', 'now,', 'large', '\"in', '2000', 'numbers', 'figured', 'break', 'yes', '11', 'site.', 'investment', 'needed', 'subscriber', 'fontfamily:', 'fontweight:', 'textdecoration:', 'width=600', 'align=right', 'cellpadding=4', 'face=arial', 'apologize', 'noticed', 'charges', 'processing', 'span', 'unix', 'dell', 'disk', 'suse', 'cd,', 'panel', 'video', 'card,', 'feature', 'driver', '(as', 'recommended', 'problem.', '(in', 'reach', 'power', 'cable', 'thanks', 'indian', 'forwarded', 'march', 'washington', 'human', 'children', 'routine', 'daily', 'unwanted', 'death', 'strong', 'man,', 'india', 'knows', 'capable', \"india's\", 'certainly', 'so.', 'police', 'defend', 'men', 'nation', 'political', 'usual', 'notice', 'international', 'excess', 'truth', 'happens', 'down.', 'lets', 'december', 'built', 'god', 'attack', '(with', 'government.', 'minister', 'hold', \"isn't\", 'result', 'failure', 'dead', 'slow', 'rights', 'prepared', 'letter', 'speaking', 'week', 'en', 'indeed', 'takes', 'makes', 'world,', 'well,', 'kill', \"we've\", 'easier', 'collection', 'paper', 'book', 'purchased', 'revenue', 'mr', 'gives', 'size=4', 'more,', 'agents', 'application', 'offer', 'problems.', 'recognized', 'trust', 'return', 'us.', 'kept', 'strictly', 'size', '&nbsp;&nbsp;/tdtdinput', 'name=\"body\"', 'type=\"text\"', 'size=\"21\"', 'north', 'south', 'standard', 'usb', 'runs', 'shares', 'city', '4.0', 'httpequiv=contenttype', '{', 'helvetica\"', 'color=000000', 'size=3font', '(stock', 'newsletters', 'cbyi', 'filed', 'larger', 'trading', 'near', 'future.', '&nbsp;', 'watch', 'invest', 'profitable', 'track', 'estimates', '50%', 'environmental', 'equipment', 'exclusive', 'including', 'air', 'force,', 'heavy', 'revenues', 'million,', '$25', 'subscribers', 'took', 'recommendation', 'color=0000ff', 'statements', 'contained', 'securities', 'act', 'similar', 'registered', 'profiled', 'companies.', 'publish', 'report.', 'investing', 'highrisk', 'purposes', 'only.', 'sole', 'advised', 'attorney', 'decision', 'entire', 'publication', 'portion', 'date', 'stated', 'intended', 'residents', 'c', 'joseph', 'pages', 'puts', 'no,', 'mozilla', 'browser', 'print', 'httpequiv=\"contenttype\"', 'tdimg', 'height=\"1\"', 'border=\"0\"/td', 'width=\"1\"', 'border=\"0\"/a/td', 'tda', '/tr/tabletable', 'width=\"500\"', 'border=1', 'width=\"600\"', 'yourself', 'blank', 'postal', 'gay', 'updated', 'gcc', 'out,', 'written', 'bottom', 'instruction', 'no.', 'introduced', 'pentium', 'directed', 'percent', 'compiled', 'earlier', 'started', 'properly', 'generated', 'faster', 'compiler', 'fair', 'according', 'road', 'extra', 'speed', 'code.', 'sometimes', 'copies', 'memory', 'mostly', 'supports', 'handle', 'shared', 'register', 'prize', 'edge', 'difference', 'htmlheadmeta', 'charset=windows1252\"meta', 'name=\"generator\"', 'content=\"microsoft', 'frontpage', '4.0\"meta', 'name=\"progid\"', 'available.', 'considered', 'health', '25', '0700', 'waste', 'contents', 'forward', 'agent', 'heaven.http://thinkgeek.com/sfrazorusers', 'value', 'defined', 'unit', 'fit', 'device', 'press', 'instantly', 'digital', 'finally', 'photo', 'love', 'mobile', 'useful', 'monday,', 'am,', 'iii', 'rob', 'yet,', '1st', '2', 'persons', 'saw', 'tv', 'night', 'miss', ':)', 'wanted', 'pictures', 'cell', 'bought', 'resolution', 'father', 'word', 'file,', 'install', 'guy', 'binary', 'understand', 'early', 'rpms', '14,', '0700,', '14', 'short', 'files.', 'obvious', 'implementation', 'patch', '01', 'pm,', 'java', 'programming', 'despite', 'significant', 'points', 'gnu', 'lost', 'happen', 'graphics', 'ibm', 'strange', 'environment', 'add', '50', 'payments', 'kinds', 'wait', 'not,', 'peter', 'realize', 'usually', 'removing', 'forms', 'established', 'engines', 'interface', 'engine', 'complex', 'advanced', 'michael', 'email:', 'leftmargin=\"0\"', 'bgcolor=\"ffffff\"table', 'bottle', 'fresh', \"we'll\", 'fortune', 'align=\"left\"', 'amazing', 'back.', 'align=\"left\"font', 'miles', 'movie', 'playing', 'customer', 'hspace=\"0\"', 'vspace=\"0\"', 'face=\"arial\"', 'subscribed', 'color=\"000000\"click', 'correspondence', 'tothe', '/body', '/html', 'steve', 'mime', ')', 'though.', 'among', 'broken', 'reasons', 'mentioned', 'parts', '1,', '3,', 'mention', 'meeting', 'along', 'called', 'free!https://www.inphonic.com/r.asp?r=sourceforge1&refcode1=vs3390razorusers', '\"remove\"', 'mlm', 'deliver', 'years.', 'friends,', 'people.', 'cut', 'works,', 'this.', 'brief', 'introduce', 'promise', 'information.', 'type', 'hours.', 'onto', 'online,', '+0200,', 'assume', 'use.', 'redhat', 'to,', 'os', 'brian', 'hear', 'view', 'includes', 'shipping', 'illegal', 'delivered', 'j.', 'judge', 'considering', 'him', 'ago', 'staff', 'majority', 'country.', '\"you', 'person', 'f', 'claims', 'hearing', 'france', 'rest', 'family', 'too,', 'says,', 'support', 'preferences', 'hi,', 'key', 'le', 'went', 'whether', 'message.', 'fixed', 'storage', 'places', '(not', 'thinks', 'sequences', 'expensive', 'times,', 'date:', '28', 'sequence', 'again.', 'chris', '200', 'war', 'vs.', 'listexmhworkers@redhat.comhttps://listman.redhat.com/mailman/listinfo/exmhworkers', 'sans', 'color=2f2f4f', 'conference', 'virtually', 'sharing', 'compatible', 'usage', 'cents', 'width=500', 'reduce', 'travel', 'saving', 'align=middlefont', 'color=5c4033', 'align=middle', 'method=post', 'width=\"100%\"', 'width=\"50%\"font', 'size=2/font/td', 'tdinput', 'type=submit', 'distribution', '1)', '2)', 'serial', 'muscle', 'title', 'spent', 'exercise', 'point.', 'published', 'mind,', 'features', 'creative', 'discovered', 'famous', 'moved', '1999', 'sense', 'william', 'but,', 'developed', 'criminal', 'books', 'doubt', 'destructive', 'towards', 'society', 'believes', 'focus', '\"it', 'cold', 'gordon', 'changed', 'seven', 'term', 'holding', 'ten', 'half', 'day.', '60', 'dream', '\"we', 'fat', 'publishing', 'october', 'again,', 'friday', 'justin', 'headers', 'returned', 'mr.', 'personally', 'hundred', 'shall', 'stay', 'years,', 'journal', 'receipt', 'fear', 'kindly', 'w.', '13', 'example', 'fails', 'you?', 'empty', 'previous', 'gnome', 'although', \"hadn't\", 'fed', 'british', 'office', 'tend', 'messagefrom:', 'forkadmin@xent.com', '[mailto:forkadmin@xent.com]on', '23,', 'content', '(tm)', '.net', 'suspect', 'later,', 'fri,', 'mentioned:', 'delete', 'prefer', 'customers', 'face=\"times\"', 'size=\"6\"', 'insurance', 'comfortable', 'policy', 'size=\"3\"', 'quote', 'contacts', 'behavior', 'abuse', 'remain', 'percentage', 'unlike', 'motivated', 'practice', 'northern', 'rogers', 'medium', \"let's\", 'classified', 'targeted', 'exchange', 'there,', 'today', 'message,', 'alt=\"\"', 'cellpadding=\"3\"', 'height=\"5\"', 'arial\"', 'privacy', 'partners.', 'unsubscribe,', 'cover', 'hate', '..', 'speech', 'court', 'consider', 'laws', 'types', 'level', 'protection', 'action', 'reasonable', 'greg', 'database', 'side', 'ones', 'configuration', 'tony', 'vulnerability', 'exists', 'community', 'string', 'gain', 'keys', 'case', '19', '02', '2002.', 'requests', 'copyright', 'inc.', 'believed', 'warranty', 'event', 'resulting', 'fee', 'modified', 'sent:', 'this?', 'spam.', '0\"', 'bush', 'confirmation', 'straight', 'powers', 'everybody', 'limited', 'hello', 'b', 'remote', 'nor', 'dave', 'him.', 'g', '(', 'articles', 'help.', '500', 'employed', 'form.', 'train', 'form,', 'final', 'project', 'style', 'improve', 'modules', 'code,', 'basic', 'networks', 'bits', 'expect', 'felt', 'myself', 'months', 'impact', 'extended', 'tollfree', 'service.', '3)', 'trip', 'removal.', 'questions,', '300', 'at:', \"today's\", 'you!', 'board', 'p.', 'vote', 'self', 'ago.', 'though,', 'pass', 'burning', 'net', 'carefully', 'selling', 'advertising', 'soon', 'win', 'gift', 'shopping', 'line,', 'site,', 'product', 'quickly', 'automated', 'product,', 'service,', 'and/or', 'serve', 'pop', 'host', 'websites', 'games', 'hosting', 'cool', 'menu', 'minute', 'enjoy', 'left', 'suggest', 'moving', 'also,', 'figure', 'association', 'nice', 'earth', 'background', 'putting', 'checked', 'bar', 'variety', 'designed', 'minor', 'june', 'address,', '2001', 'reached', 'interested', 'edit', 'preferences,', 'opened', 'geneva,', 'sansserif\"font', 'color=\"000066\"font', 'agreement', 'optout', 'shown', 'face=\"verdana,arial,helvetica,sansserif\"', 'subscription', 'interests', 'effect', 'placing', 'scripts', 'care', 'installing', 'inside', 'httpequiv=\"contentlanguage\"', 'content=\"enus\"meta', 'cellspacing=\"3\"', 'bordercolor=\"ffffff\"', 'style=\"bordercollapse:', 'collapse\"', 'align=\"center\"bfont', 'face=\"tahoma\"', 'six', 'featurepacked', 'backup', 'quick', \"pc's\", 'performance', 'border=\"4\"', 'height=\"4\"', 'color=\"000080\"', 'combined', '/font/fontfont', 'prey', 'viruses', 'height=\"44\"', 'height=\"38\"', 'style=\"color:', 'fontsize:', 'obtained', 'unsubscribed', 'shape', '/tr/table/body/html', 'manage', 'applications', 'reports', 'free.', 'brto', 'acknowledged', 'mailings', 'records', 'meta', 'height=1', 'src=\"images/spacer.gif\"', 'hot', 'voice', 'initial', 'sounds', 'totally', 'methods', 'corporate', 'lack', 'stock', 'difficult', 'searching', '+', 'first,', 'server.', 'there.', '1000', 'mail,', 'thus', 'system,', 'likely', 'use,', 'sorts', 'ensure', 'location', 'slightly', 'effort', 'screen', 'depending', 'beyond', 'force', 'together', 'rule', 'burn', 'story', 'world.', 'investigation', 'folks', 'article', '(1)', 'regards,', 'bitbitch', 'j', 'region', 'intelligence', 'images', 'areas', 'ground', 'allowed', 'cases', 'friday,', 'texas', 'entertainment', 'radio', 'television', 'broadcast', 'substantial', 'move', 'trial', 'kids', 'potential', 'server,', 'continue', 'establish', 'negative', 'score', 'concerned', 'approach', 'xml', 'becomes', 'reverse', 'fast', 'items', 'led', 'plug', 'reference', 'supply', 'adam', 'path', 'pattern', 'account.', 'attacks', 'otherwise', 'identity', 'it!', 'greatest', 'century', 'popular', 'internet.', 'domains', '500,000', 'address:', 'fax:', 'ffffff\"', 'style=\"backgroundcolor:', 'align=leftfont', 'ignore', 'placed', 'presently', 'line.', 'fast,', 'team', 'stopped', '48', 'law', 'telling', 'down,', 'stocks', 'year.', 'associates', 'solid', 'freedom', 'for.', 'calling', 'today!', 'unless', 'l.', 'beberg', 'un', 'socialism', 'systems', 'countries', '\"duncan\"', 'http://www.mithral.com/beberg/', 'somebody', 'safe', 'requirements', 'passed', 'congress', 'width=\"6\"', 'width=\"538\"', 'height=\"36\"', 'height=\"2\"', 'align=\"right\"', 'canada', 'produced', 'charset=iso88591\"/headbody', 'valign=\"top\"font', 'face=\"verdana', 'color=000066', 'appropriate', 'offer.', 'anybody', 'modem', 'installation', 'download', 'question,', 'connect', 'example,', 'obviously', 'recommend', 'virtual', 'base', 'steps', 'boot', '(if', 'deep', 'random', '(a', 'happy', 'local', 'aid', 'mode', 'alsa', 'front', '(for', 'rpmlist', 'rpmlist@freshrpms.net', ']', 'rebuild', 'options', '13,', 'double', 'addition', 'floppy', '?', '||', 'monday', 'continues', 'writes', 'php', 'alter', '0.', '19972002', 'pudge.', 'reserved.======================================================================you', 'iton', 'perl.', 'othermessages', 'perl,', 'messagesor', 'page.http://use.perl.org/my/messages/you', 'administration', 'americans', 'history', 'sept.', '11,', 'york', 'terrorists', 'terrorism', 'defense', 'particularly', 'challenge', 'risks', 'concept', 'department', 'acts', 'grand', 'ordered', 'committee', 'lower', 'argument', 'forget', 'seeing', 'asking', 'came', 'said.', 'yet.', 'policies', 'changes', 'vast', 'chief', 'issued', 'said,', 'former', 'weeks', 'forced', 'accounts', 'executive', 'role', '\"a', 'statement', 'nationwide', 'automatic', 'whatever', 'constitution', 'prevent', 'granted', 'marshall', 'declared', 'twice', 'jurisdiction', 'declaration', 'normal', 'model', 'opportunities', 'media', 'rss', 'flow', '[1]', '(thanks,', 'discuss[2]', 'feedback', 'battery', '%', '\\\\', 'pipe', '5,', '05,', 'bitbitch@magnesium.net', 'cc:', 'fork', '(no', 'french', 'son', 'peace', 'keeping', 'document', 'deposited', 'whom', 'total', 'count', 'located', 'proposed', 'fight', 'law,', 'responsible', 'paying', 'george', 'invoked', 'responses', 'morning', 'false', 'fees', 'netscape', 'width=\"582\"', 'border=\"2\"', 'cellpadding=\"5\"', 'colspan=\"3\"', 'width=\"204\"', 'colspan=\"2\"', 'laurent', 'oct', 'cards', 'frame', 'launch', 'week.', 'production', 'machines', 'middle', 'versions', 'correct', 'display', 'processes', 'anyway,', 'definitely', '20%', '2.0', 'library', 'google', 'program.', 'software,', 'auction', 'software.', 'typical', 'c++', 'note:', 'border=0tbodytrtd', 'style=\"fontsize:', '12px;', 'verdana,', 'tahoma,', 'bgcolor=d6cfab', 'style=\"width:', 'height:', 'amounts', 'bordercolor=111111', 'face=verdana', 'ftp', '$50', 'size=2bfont', '{color:', 'serif\"', 'align=\"right\"font', 'et', 'vulnerable', 'more!', 'operating', 'leads', 'combination', 'vendor', 'contacted', 'spec', 'sat,', '17', 'ip', 'increases', 'face=\"ms', 'hr', 'achieve', 'participate', 'dial', 'street', 'democratic', 'husband', 'republic', 'purpose', 'kabila', 'european', 'africa', 'discuss', 'x', 'represent', 'explain', 'throughout', 'male', 'commonly', 'generation', 'basis', 'driving', 'poor', 'dynamic', 'is.', 'positive', 'skip', '}', 'w', 'yield', 'met', 'science', 'hams', '70%', 'button', 'cat', 'mother', 'room', 'wife', '\"how', 'boy', 'lives', 'sleep', 'learning', 'bulk', 'period', 'days.', 'people,', 'startup', 'plenty', 'required.', 'employment', 'home.', 'campaign', 'mass', 'internet,', 'verify', 'cash,', 'price:', 'states.', 'shop', 'marked', 'gpl', 'stupid', 'width=400', 'cellspacing=1', 'mac', '4.', 'tuesday', 'details', 'ptsize=10', 'family=\"sansserif\"', 'back=\"000000\"', '000000\"', 'color=\"0000ff\"', 'ptsize=12', 'lang=\"0\"', '26', 'english', 'touch', 'communication', 'europe', 'folder', 'deleted', 'heart', 'headline', 'point,', 'apt', '8.0', 'updates', '$5', 'brand', 'resell', 'containing', 'selected', 'successfully', 'efforts', 'roman\"', 'align=\"left\"bfont', 'ul', 'lifont', '/ul', 've', 'drop', 'consolidation', 'helping', 'clear', 'appreciate', 'eat', 'listen', 'cdrom', 'smoking', 'master', '5,000', '10,000', 'massive', 'suggested', 'weekly', 'super', 'onthe', 'invite', 'strategies', 'newsletter', 'width=1', 'face=\"verdana,arial,helvetica\"', 'bra', '/abra', 'intro', 'valign=\"bottom\"', 'target=\"blank\"img', 'physical', 'effects', 'child', 'david', 'caused', '[mailto:forkadmin@xent.com]', 'banned', 'cd.', 'fake', 'promotions', 'showing', 'releases', 'extensive', 'documents', 'selection', 'companies,', 'wide', 'truly', 'house', 'active', 'drug', 'effective', 'year,', 'balance', 'aging', 'dieting', 'england', 'forever!', 'strength', 'stability', 'natural', 'sexual', 'associated', 'hidden', '/font/bfont', 'brain', 'blood', 'wake', 'pleased', '90', 'savings', 'mt', 'neither', 'produce', 'embedded', '1.0', 'widely', 'solutions', 'conditions', 'perfectly', 'tells', 'woman', 'eventually', 'theory', 'bgcolor=white', 'colspan=3', 'colspan=2', 'guys', 'subscribe', 'ownership', 'valign=center', 'recognition', 'tablet', 'compile', 'geege', 'schuman', 'command', 'solid;', 'bgcolor=\"ffff00\"', 'pbfont', 'color=\"ffffff\"font', 'toner', 'style=\"fontfamily:', 'events', \"it'll\", 'killed', 'oil', 'merchant', 'unfortunately,', 'agreed', 'knew', '0400', 'size=2font', 'type=radio', 'vipul', 'usa', 'directories', 'islands,', 'name,', 'advertise', 'address.', '$', 'priority', 'shipped', 'razorusers', 'razorusers@lists.sourceforge.net', 'checks', 'gnome2', ':(', \"hasn't\", 'beta', '//', 'ignored', 'range', 'revision', '0;', 'sansserif;', 'domestic', 'analysis', 'wireless', 'technologies', '.:', 'false\"', 'lean', 'module', 'contain', 'msgs', 'data.', '@@', 'face=\"arial\"br', '72', 'bordercolor=\"111111\"', 'size=\"2\"font', 'height=\"10\"', '�', 'procmail', 'reporting', 'acquired', 'assets', 'ourselves', 'rapid', 'stylus', 'align=\"center\"&nbsp;/pp', 'supposed', 'king', 'january', 'friend,', 'white', 'farmers', 'deposit', '2,', 'traditional', 'discount', '.biz', '.info', 'names,', '.com', '08,', 'tree', 'emails.', 'ordering', 'state,', 'responsibility', 'scores', 'models', 'water', 'either.', 'yourself,', 'pounds', 'weeks,', 'align=centerbfont', 'black\"', 'color=000080', 'refer', 'desktop', 'align=\"center\"a', 'to.', \"company's\", 'documentation', 'commission', 'replace', 'color=999999', 'somewhere', 'mh', 'jim', 'style=\"margintop:', 'lineheight:', 'nations', 'collaboration', 'joined', 'herba', 'kathmandu', 'ragga', 'stoney', 'aqueous', 'capillaris', '“3”', 'dagga', 'substance', 'botanical', 'proprietary', 'seed', 'stuff.', 'vjestika', 'aphrodisia', 'drops', 'prosaka', 'tablets', 'gentle', 'ferocity', 'equivalence', 'dragon', 'wing', 'spray', 'pain', 'herbal', 'heaven', 'oz.', 'jigget/bar', '(free', 'jar', 'tablets)', '(save', '(reg.', 'assuming', 'strategy', '27', '0in;', 'class=msonormal', 'p2p', 'networks,', 'enterprise', 'began', 'rick', 'vice', 'align=\"left\"&nbsp;/pp', '21', 'program,', 'dreams', 'report,', 'envelope', 'receive,', '0.2%', 'responded', '100,000', 'jody', 'de', 'growth', 'players', 'capacity', \"empire'\", 'supported', 'target=\"blank\"', 'root', 'threats', 'face=\"comic', 'ms\"', 'hp', 'cartridge', 'face=\"lucida', 'typewriter\"', 'laserjet', 'face=\"courier', 'apple', '16,', 'adds', 'china', 'chinese', 'forthe', 'moore', 'color=\"ffffff\"click', 'license', 'speak', 'new,', 'effectively', 'forces', 'passing', 'markets', 'film', 'weapons', 'face=\"tahoma,', 'width=\"4\"', 'borderwidth:', 'size=\"2\"b', '/a', 'ddbfont', 'face=\"webdings\"', 'ptsize=\"10\"', 'none\"', 'oh,', 'warning:', 'craig', 'proxy', 'archive', 'not.', 'threat', 'states,', 'lift', 'regional', 'actions', 'distance', 'sovereign', 'investments', 'western', 'status', 'energy', 'climate', 'levels', 'affairs', 'bugs', 'ou', 'une', 'stamps', '1:', 'guides', 'width=450', 'border=0/a/td', 'hotel', 'pacific', 'number,', 'fn', 'strip', 'exist', 'align=\"center\"&nbsp;/p', 'income.', 'impression', 'smtp', 'inc', 'nowrap', 'sansserif\"bfont', '/font/td', 'datapower', 'kelly', 'paramount', 'ass', 'san', 'understanding', 'telecom', 'facts', 'ebay', 'patrick', 'paypal', '10%', 'size=\"+1\"', '(\"l', 'dns', '\"if', '0.01;', '0.99;', 'fp', 'habeas', 'satellite', 'strongfont', 'tied', '0.000', '/font/td/tr', 'color=\"cc0000\"', 'bgcolor=\"ffff99\"', 'bordercolor=\"ffff99\"', 'plugin', 'unseen', 'color=666600', 'statement,', 'marginbottom:', 'gaming', 'island', 'class=\"msonormal\"', '0px;', '/li', 'historical', '0px', 'face=verdana,arial,helvetica,sansserif', '1px', 'width=715', 'src=\"http://www.salealerts.com/dot.gif\"', '220', '30th', 'width=\"50%\"', '18.0pt;', \"`'\", 'formal', 'formula', ';', 'src=\"http://a248.e.akamai.net/f/1596/1167/1d/images.columbiahouse.com/ch/images/demo/email/clear.gif\"', 'alt=\"\"/tdtd', 'width=\"10\"', 'href=\"http://adfarm.mediaplex.com/ad/ck/9901736513861\"font', 'shape=\"rect\"', 'width=100', 'class=woongtd', 'vous', 'est', 'des', 'pour', 'les', 'à', 'savoir', 'du', 'sur', 'release,', 'width=\"200\"', 'align=\"middle\"', 'check[3469]:', '468', '334', '336', 'native', 'href=\"http://www.fromyou2.com/nasty/milf/milf/bindex.htm\"font', 'color=limeimg', 'poker', '·', '(procedure', 'spam:', 'ffff00\"', 'align=justifyfont', 'usd', 'impact;', 'back=\"ffffff\"', '�m���o��', 'enenkio', 'rmi', 'monarch', 'taongi', 'atoll', 'atolls', 'islands', 'kingdom', 'marshallese', 'hermios,', 'enenkio,', 'majesty', 'remios,', 'eneenkio', 'atoll,', 'iroijlaplap', 'murjel', 'ratak', 'hermios', '::', 'changes:', '(gpl)url:', 'license:', 'style=\"border:', '{fontfamily:', '0.025', 'f.c.c.', 'powell', '&149;', 'face=\"geneva,', 'searcher', 'color=0000ffeasy', 'color=\"ffff00\"', 'alb', '0in', 'width=\"18\"', 'src=\"http://e89.friendfinder.com/banners/aff/adimages/0.gif\"', 'face=\"arial,helvetica,geneva,swiss,sunsansregular\"', 'class=\"body\"font', '0cm;\"font', 'align=absmiddle', 'face=굴림span', 'width=22', 'size=\"+0\"', 'bgcolor=d5d5d5&nbsp;/td', 'color=\"ff0000\"b', 'lists/lk', 'mbox:', 'color=\"ffff00\"b', 'br/b/fontfont']\n"
     ]
    }
   ],
   "source": [
    "print(len(list_of_importan_words))\n",
    "print(list_of_importan_words)"
   ]
  },
  {
   "cell_type": "code",
   "execution_count": 188,
   "id": "a117049e",
   "metadata": {},
   "outputs": [],
   "source": [
    "def create_email_vector(X, list_of_words):\n",
    "    big_list = np.zeros((len(X), len(list_of_words)))\n",
    "    for idx, email in enumerate(X):\n",
    "        for loc, important_words in enumerate(list_of_words):\n",
    "            num = email.count(important_words)\n",
    "            if(num ==0 ):\n",
    "                continue\n",
    "            big_list[idx][loc] = num\n",
    "            \n",
    "    return big_list\n",
    "            "
   ]
  },
  {
   "cell_type": "code",
   "execution_count": 189,
   "id": "a68245a4",
   "metadata": {},
   "outputs": [],
   "source": [
    "X_train_vector = create_email_vector(X_train_str, list_of_importan_words)"
   ]
  },
  {
   "cell_type": "code",
   "execution_count": 190,
   "id": "58db7cc8",
   "metadata": {},
   "outputs": [
    {
     "name": "stdout",
     "output_type": "stream",
     "text": [
      "(4602, 3454)\n",
      "4602\n"
     ]
    }
   ],
   "source": [
    "print(X_train_vector.shape)\n",
    "print(len(y_train_label))"
   ]
  },
  {
   "cell_type": "code",
   "execution_count": 191,
   "id": "f290469d",
   "metadata": {},
   "outputs": [],
   "source": [
    "from sklearn.svm import SVC\n",
    "from sklearn.model_selection import cross_val_score\n",
    "svm_clf = SVC()\n",
    "\n",
    "scores = cross_val_score(svm_clf, X_train_vector, y_train_label, cv=3)"
   ]
  },
  {
   "cell_type": "code",
   "execution_count": 192,
   "id": "3bd1906b",
   "metadata": {},
   "outputs": [
    {
     "name": "stdout",
     "output_type": "stream",
     "text": [
      "[0.92829205 0.92698827 0.910691  ]\n"
     ]
    }
   ],
   "source": [
    "print(scores)"
   ]
  },
  {
   "cell_type": "code",
   "execution_count": 194,
   "id": "7a34ac5c",
   "metadata": {},
   "outputs": [
    {
     "data": {
      "text/plain": [
       "SVC()"
      ]
     },
     "execution_count": 194,
     "metadata": {},
     "output_type": "execute_result"
    }
   ],
   "source": [
    "svm_clf.fit(X_train_vector, y_train_label)"
   ]
  },
  {
   "cell_type": "code",
   "execution_count": 195,
   "id": "98145ca3",
   "metadata": {},
   "outputs": [],
   "source": [
    "X_test_vector = create_email_vector(X_test_str, list_of_importan_words)"
   ]
  },
  {
   "cell_type": "code",
   "execution_count": 196,
   "id": "17d8999d",
   "metadata": {},
   "outputs": [],
   "source": [
    "test_pred = svm_clf.predict(X_test_vector)"
   ]
  },
  {
   "cell_type": "code",
   "execution_count": 197,
   "id": "e6dbad55",
   "metadata": {},
   "outputs": [],
   "source": [
    "from sklearn.metrics import accuracy_score"
   ]
  },
  {
   "cell_type": "code",
   "execution_count": 206,
   "id": "0cbaf643",
   "metadata": {},
   "outputs": [
    {
     "name": "stdout",
     "output_type": "stream",
     "text": [
      "0.9228100607111882\n"
     ]
    }
   ],
   "source": [
    "score = accuracy_score(y_test_label, test_pred)\n",
    "print(score)"
   ]
  },
  {
   "cell_type": "code",
   "execution_count": 238,
   "id": "1a5644e1",
   "metadata": {},
   "outputs": [],
   "source": [
    "test_idx = 12"
   ]
  },
  {
   "cell_type": "code",
   "execution_count": 239,
   "id": "fe621f77",
   "metadata": {},
   "outputs": [],
   "source": [
    "X_test_vector_solo = create_email_vector([X_test_str[test_idx]], list_of_importan_words)"
   ]
  },
  {
   "cell_type": "code",
   "execution_count": 240,
   "id": "ab9b86e3",
   "metadata": {},
   "outputs": [
    {
     "name": "stdout",
     "output_type": "stream",
     "text": [
      "[0]\n"
     ]
    }
   ],
   "source": [
    "print(svm_clf.predict(X_test_vector_solo))"
   ]
  },
  {
   "cell_type": "code",
   "execution_count": 241,
   "id": "f5c09474",
   "metadata": {},
   "outputs": [
    {
     "name": "stdout",
     "output_type": "stream",
     "text": [
      "0\n"
     ]
    }
   ],
   "source": [
    "print(y_test_label[test_idx])"
   ]
  },
  {
   "cell_type": "code",
   "execution_count": 242,
   "id": "f76a3a00",
   "metadata": {},
   "outputs": [
    {
     "name": "stdout",
     "output_type": "stream",
     "text": [
      "['wintermute', 'wrote:anyone', 'know', 'where', 'in', 'ireland', 'i', 'can', 'get', 'a', 'replacement', 'external', 'donglefor', 'a', 'xircom', 'ce3b100', 'pcmcia', 'nic?failing', 'that,', 'who', 'delivers', 'fastest', 'to', 'ireland?regards,vin', 'i', 'went', 'into', 'maplin', 'looking', 'for', 'exactly', 'this', 'sort', 'of', 'thing,', 'only', 'to', 'be', 'told', 'i', 'would', 'have', 'to', 'by', 'a', 'whole', 'new', 'card.....', 'buy', '&', 'sell', \"i'd\", 'say', 'else', 'just', 'by', 'a', 'new', 'nic...(which', 'i', \"didn't\", 'do)', 'i', 'just', 'live', 'with', 'the', 'fact', 'i', 'have', 'to', 'angle', 'the', 'cat', '5', 'at', 'a', 'certain', 'angle', 'to', 'my', 'nic', 'or', 'the', 'dongle', 'will', 'fall', 'out!well,', 'i', 'went', 'hunting', 'online', 'and', 'it', 'is', 'definitely', 'possible', 'to', 'getreplacement', 'dongles,', 'specifically', 'for', 'this', 'card', 'but', 'also', 'forothers.tricky', 'though', ';)vin', 'irish', 'linux', \"users'\", 'group:', 'ilug@linux.iehttp://www.linux.ie/mailman/listinfo/ilug', 'for', '(un)subscription', 'information.list', 'maintainer:', 'listmaster@linux.ie']\n"
     ]
    }
   ],
   "source": [
    "print(X_test_str[test_idx])"
   ]
  },
  {
   "cell_type": "code",
   "execution_count": 243,
   "id": "93e7b6c9",
   "metadata": {},
   "outputs": [
    {
     "name": "stdout",
     "output_type": "stream",
     "text": [
      "['quoting', 'kevin', 'anyone', 'here', 'have', 'experience', 'with', 'windows', 'cvs', 'clients', 'a', 'server', 'using', 'of', 'some', 'form', 'or', 'and', 'the', 'something', 'i', '\"i', \"don't\", 'like', 'country', 'but', 'mean', 'to', 'those', 'who', 'do.', 'and,', 'for', 'people', 'means', 'irish', 'linux', \"users'\", 'group:', 'ilug@linux.iehttp://www.linux.ie/mailman/listinfo/ilug', '(un)subscription', 'information.list', 'maintainer:', 'listmaster@linux.ie', 'hi', 'looking', 'get', 'my', 'hands', 'ii', 'cannot', 'access', 'site', 'because', 'ofthe', 'place', 'know', 'where', 'copy', '(which', 'running', 'on', 'time', 'asked', 'in', 'game', 'they', 'me', 'would', 'ask', 'that', \"wouldn't\", 'be', 'purchasing', 'group', 'social', 'events:', 'social@linux.iehttp://www.linux.ie/mailman/listinfo/social', 'url:', 'not', 'has', 'named', 'new', 'president', 'paul', 'did', 'his', 'spending', 'expense', 'safety', 'building', 'california', 'number', 'available', 'sale', 'so', 'on.', 'james', 'used', 'head', 'euro', 'link[1]', 'said:', '1.', 'these', 'messages', 'could', 'end', 'up', 'being', '(or', 'reported', 'etc.', 'certain', 'too.', 'think', 'results', 'tests', 'can', 'trusted', 'any', 'way,', 'when', 'over', 'public', 'note', '2.', 'also', 'submitted', 'than', 'projects', 'spamassassin', 'rely', 'ga', 'second', 'problem', 'by', 'adding', 'signature', 'file', '(the', 'format', 'giving', 'message', 'files', 'unique', 'names', 'each', 'maybe', 'will', 'help', 'here,', 'should', 'pick', 'them', 'out.', \"i'll\", 'do', 'that.', '3.', 'spammers', 'good', 'off', 'course,', \"there's\", 'always', 'technology', 'both', 'third', \"doesn't\", 'really', 'worry', 'problems', '(and', 'perhaps', 'others', 'are', 'spam', 'other', 'their', 'own', 'set', 'having', 'multiple', 'independent', 'finding', 'better', 'ways', 'testing', 'seems', 'more', 'solution', \"i'm\", 'glad', \"we're\", 'working', 'exactly', 'if', \"you're\", 'going', 'seriously', 'work', 'filter', 'corpus', 'is', 'much', 'work.', 'you', 'enough', 'spam,', 'creating', 'pretty', 'thousands', 'every', 'primary', 'reason', 'released', 'this,', 'was', 'provide', 'good,', 'it', 'allows', 'tobe', 'between', 'known', 'everyone', 'maintain', 'we', 'guarantee', 'before', 'ever', 'show', 'green', 'take', 'out', 'your', 'sign', 'free', 'test', 'drive', 'our', 'system.', 'no', 'obligation', 'limit', 'system', 'powerful', '400', 'into', 'first', 'signed', 'use', 'sure', 'request', 'info', 'subject', 'line', 'does', 'national', 'attention', 'this', 'program', 'incredible', 'next', 'above', 'below', 'all', 'home', 'business', 'from', 'future', 'turns', 'an', 'conflict', 'old', 'sound', 'checking', 'setup', 'kernel', 'still', 'picked', 'card', '5', 'works', 'fine', 'now', 'confused', 'as', 'why', 'worked', 'decided', 'upgrade', 'machine', 'at', 'latest', 'which', 'however', 'one', 'problem,', 'network', 'work,', 'well', 'kind', 'instead', '10', 'aug', '4', 'address', '00', '5.', 'coming', 'while', 'go', 'come', 'in.', \"i've\", 'tried', 'then', 'bit', 'gets', 'got', 'suggestions', 'what', 'its', 'debian', 'seem', 'ok,', 'missed', 'al', 'posting', 'way', 'held', 'sun', 'products', 'included', 'rather', 'tool', 'since', 'fact', \"it's\", 'unsolicited', \"can't\", 'mailing', 'list.', 'how', 'list', 'even', 'say', 'about', 'just', 'put', 'website,', 'way.', 'website', 'worst', 'said', 'might', 'read', 'it.', 'long', 'send', 'individuals', 'clearly', \"didn't\", 'trouble', 'requesting', 'plus,', 'block', 'web', \"shouldn't\", 'may', '7', '��', '2002', 'lifetime', 'spend', 'dvd', 'alternative', 'exact', 'same', 'thing', 'now.', 'best', 'price', 'click', 'here:', 'remove', 'http://xent.com/mailman/listinfo/fork', '!', 'saved', 'url=(0022)http://internet.email', '!doctype', 'html', '\"//w3c//dtd', '{textdecoration:', 'none;', 'color:', 'topmargin=\"0\"', 'table', 'border=\"1\"', 'cellspacing=\"0\"', 'cellpadding=\"2\"', 'bordercolor=\"000000\"', 'tr', 'td', 'border=\"0\"', 'cellpadding=\"4\"', 'align=\"center\"', 'size=\"2\"', 'color=\"ffffff\"', 'face=\"arial,', 'helvetica,', 'u', 'n', 'v', 'e', 'r', 's', 't', '.', 'd', 'p', 'l', 'o', 'm', '/tr', 'bgcolor=\"000000\"', 'valign=\"middle\"', 'div', 'align=\"center\"font', 'face=\"verdana,', 'arial,', 'sansserif\"', 'want', 'future,', 'increased', 'money', 'earning', 'respect', '/td', 'assist', 'based', 'present', 'knowledge', 'life', '/div', 'bfont', 'required', 'field', 'choice', \"that's\", 'right,', 'become', 'lawyer', 'receive', 'benefits', 'comes', 'size=\"5\"', 'turned', 'change', 'br', '/p', 'pfont', 'either', 'call', 'us', '24', 'hours', 'day,', 'days', 'font', '/font', 'within', 'days,', 'start', '/table', 'cellspacing=\"2\"', 'trtd', 'email', 'advertisement', 'goal', 'only', 'target', 'advantage', 'offers.', \"you'd\", 'removed', 'list,', 'please', 'link', 'below.', 'immediately', 'automatically', 'tdfont', 'protect', 'addresses', 'thank', 'gary', 'lawrence', 'murphy', 'population', 'already', 'brought', 'nearly', 'guess', 'world', 'had', 'died', 'completely', 'west', 'bank', 'once', 'upon', 'time,', 'wrote', ':', 'been', 'unable', 'play', 'dvds', 'picture', 'run', 'see', 'error', 'fill', 'audio', 'jump', 'seen', 'fix', 'it?', 'bug', 'all,', 'sorry', 'private', 'last', 'idea', 'different', 'single', 'packages', 'source', 'remember', 'user', 'particular', 'recent', \"haven't\", 'heard', 'clean', 'custom', 'red', 'hat', 'rpm', 'release', '7.3', '(valhalla)', 'rpmlist@freshrpms.nethttp://lists.freshrpms.net/mailman/listinfo/rpmlist', 'tue,', 'sep', 'microsoft', 'htmlbody', 'align=centerfont', 'color=ffffff', 'won', '$30', '&amp;', 'online', 'collect', 'cash', '/fonta', 'align=centera', 'dollars', 'align=center', 'cellpadding=\"0\"', 'bgcolor=\"cccccc\"', 'sent', 'compliance', 'per', 'section', 'paragraph', 's.', 'sender', 'cost', 'entering', 'clicking', 'submit', '/fontfont', 'optin', 'enter', 'provided', 'box', 'you.', 'input', 'type=\"hidden\"', 'type=\"submit\"', 'content=\"mshtml', 'name=generator/headbody', 'center', 'tbody', 'face=\"verdana\"a', 'nothing', 'huge', 'big', 'true\"', 'href=\"http://www.jeweldive.com:81/nsi/big/natural/bindex.htm\"font', 'color=redimg', 'border=\"0\"/font/a/font/td', '/tbody', 'face=\"verdana\"', '@', 'sample', '&nbsp;&nbsp;&nbsp;&nbsp;', '/center', 'p&nbsp;/p', 'here/font/afont', 'penis', 'here/a', '/font/p', '==', 'writes:', '...', 'so,', 'yeah,', 'ms', 'author', 'wants', 'things', 'opinion', 'states', 'joe', 'williams', 'week,', 'garym@teledyn.com', 'teledynamics', 'communications', 'through', 'open', 'http://www.teledyn.com\"computers', 'useless.', 'give', 'answers.\"(pablo', 'mon,', '23', 'comment', 'do,', 'starting', 'job', \"wasn't\", 'especially', 'hand', 'imagine', 'begin', 'pgp', 'pm', 'robert', 'harley', 'wrote:', 'excellent', 'whole', 'in,', 'around', 'war,', 'technology,', 'everything', 'else', 'worth', 'life.', 'progress', '\"the', 'stuff', 'r.', 'a.', 'hettinga', 'mailto:', 'rah@ibuc.comthe', 'internet', 'bearer', 'underwriting', 'corporation', 'http://www.ibuc.com/44', 'farquhar', 'street,', 'boston,', 'ma', '02131', 'usa\"...', 'deserve', 'usefulness', 'antiquity,[predicting', 'world]', 'found', 'agreeable', 'toexperience.\"', 'edward', 'gibbon,', \"'decline\", 'fall', 'roman', 'na', 'sa', 'se', 'da', 'ne', 'je', 'pa', 'im', 'li', 'ce', 'unsubscribe', 'follow', 'welcome', 'express', 'approved', 'lowest', 'possible', 'important', 'confidential', 'dr.', 'global', 'licensed', 'worldwide', 'hour', 'delivery', 'order', 'simply', 'prices', 'satisfaction', 'guaranteed', 'carry', 'weight', 'loss', 'hair', 'september', 'mike', 'rh', 'perl', 'getting', 'indicate', 'find', 'failed', 'locate', 'object', 'method', 'via', 'package', 'load', 'function', 'probably', 'rules', 'sf.net', 'sponsored', 'by:', 'osdn', 'tired', 'oldcell', 'phone?', 'free!https://www.inphonic.com/r.asp?r=sourceforge1&refcode1=vs3390spamassassintalk', 'listspamassassintalk@lists.sourceforge.nethttps://lists.sourceforge.net/lists/listinfo/spamassassintalk', 'course', 'study', 'thursday,', '19,', '2002,', 'bill', 'today,', 'geek', 'tips', 'he', 'favorite', 'missing', 'wondering', 'tell', 'couple', 'actual', 'ship', 'hard', 'her', \"won't\", 'firm', 'language', 'almost', 'years', 'later', 'saying', 'character', 'john', 'me,', \"you'll\", 'many', 'gone', 'then,', 'tim', 'thought', 'ham', 'sets', 'tp', 'gave', 'wonderful', 'several', 'data,', 'favor', 'currently', 'million', 'stuff,', 'isp', 'let', 'cheap', 'whitelist', 'spams', 'lists', \"you've\", 'case,', 'la', 'by:thinkgeekwelcome', 'heaven.http://thinkgeek.com/sfspamassassintalk', 'additional', 'comments', 'answer', 'question', 'post', 'version', 'receiving', 'mail', 'watching', 'listspamassassindevel@lists.sourceforge.nethttps://lists.sourceforge.net/lists/listinfo/spamassassindevel', 'original', 'from:', 'wednesday,', 'july', 're:', '[razorusers]', 'wed,', 'jul', '0400,', 'razor', 'client', 'solaris', '9', 'sendmail', 'managed', 'sort', 'light', 'during', 'traffic', 'times', ',', 'core', 'well.', 'terms', '(i', '15', 'often', 'valid', 'seconds', 'close', 'hardware', 'relevant', 'log', '31', 'data', '[', 'razorcheck', 'error:', 'discovery', 'reading', 'config', 'created', 'default', 'values', 'man', '=', 'after', 'it,', 'output', 'text', 'file.', 'such', 'directory', 'servers', 'connection', '29', '1', 'proper', 'port', 'appear', 'though', 'there', 'must', 'apparently', 'two', 'separate', 'dice', 'leading', 'hightech', 'professionals.', 'search', 'apply', 'tech', 'jobs', 'listrazorusers@lists.sourceforge.nethttps://lists.sourceforge.net/lists/listinfo/razorusers', 'account', 'adult', 'club', 'offers', 'membership', '3', 'sites', 'absolutely', 'instant', 'name:', 'news', 'members', 'free,', 'month', 'were', 'offering', 'advertisers', 'pay', 'ad', 'space', 'true', 'never', 'friends', 'yes,', 'age', 'following', 'links', 'charge', 'believe', 'us,', 'membership!!', 'added', 'live', 'sex', 'ultimate', 'xxx', 'shows', 'part', 'sites,', \"they're\", 'free!', 'strongly', 'against', 'sending', 'emails', 'wish', 'opted', 'affiliate', 'time.', 'attained', 'services', 'party', 'overlook', 'management', 'removal', 'services.', 'email.', 'further', 'mailings,', 'accept', 'apologies', 'error.', 'honor', 'attempts', 'politics', 'real', 'life,', 'says', 'degree', 'cause', 'earn', 'legitimate', 'existing', 'professional', 'high', 'school', 'minimum', 'three', 'seeking', 'know,', 'promote', 'skills', 'piece', 'wealth', 'now!', 'demand', 'promotion', 'without', 'taking', 'leave', 'current', 'qualify', 'career', 'personal', 'down', 'wall', 'official', 'writing', 'requested', 'college', '&', 'university', 'meet', 'highest', 'issues', 'gold', 'raised', 'taken', 'reply', 'subject.', 'name', 'share', 'risk', 'opportunity', 'before.', 'consumer', 'ability', 'buy', 'make', 'networking', 'rich', 'save', 'join', 'check', 'unlimited', '$14.95', '/', 'learn', 'aboutthe', 'exciting', 'visit', 'page', 'lose', 'potentially', 'lot', 'necessary', 'tuesday,', 'august', '20,', '[ilug]', 'subject:', 'critical', 'until', 'review', 'header', 'posted', 'ok', 'thats', 'thousand', 'very', 'evidence', \"i'd\", 'sun,', '8', 'agree', 'thinking', 'sure,', 'k', 'generally', 'virus', 'issue', 'switch', 'outside', 'industry', 'extremely', 'orders', 'higher', 'one.', 'installed', 'laptop', 'i.e.', 'few', 'anywhere', 'stop', 'again', 'little', 'previously', 'errors', 'pci', 'costs', 'less', '20', 'design', 'direct', 'fax', 'dear', 'urgent', 'confidence', 'nature', 'top', 'member', 'nigeria', 'federal', 'government', 'trade', 'me.', 'seek', 'operation', 'execution', 'deal', 'described', 'benefit', 'parties', 'hope', 'keep', 'secret', 'ministry', 'resources', 'director', 'engineering', 'cooperation', 'four', 'under', 'control', 'contract', 'bills', 'united', 'transfer', 'foreign', 'assistance', 'company', 'funds', 'behalf', 'reliable', 'individual', 'fund', 'military', 'months,', 'officials', 'companies', 'themselves', 'various', 'contracts', 'aware', 'payment', 'identified', 'central', 'ready', 'position', 'civil', 'acquire', 'therefore', 'matter', 'colleagues', 'look', 'partner', 'whose', 'sum', 'hence', 'determined', 'relationship', 'financial', 'include', 'finance', 'providing', 'main', 'information', 'changing', 'letters', 'claim', 'company.', 'process', 'internal', 'authority', 'partners', 'involved', 'willing', 'transaction,', 'itself', '100%', 'treat', 'area', 'successful', 'transaction.', 'bring', 'complete', 'transaction', 'respond', 'heaven.http://thinkgeek.com/sfspamassassinsightings', 'listspamassassinsightings@lists.sourceforge.nethttps://lists.sourceforge.net/lists/listinfo/spamassassinsightings', 'face=\"arial', 'border=0', 'cellspacing=0', '$25,000', 'guaranteed!', 'face=\"arial\"font', 'day', 'given', 'away', 'face=\"verdana\"font', 'grant', 'away,', 'size=1you', 'grants', 'fact,', 'businesses', 'across', 'millions', '18', 'paid', 'american', 'size=1this', 'conventional', 'requires', 'agencies', 'operate', 'banks', 'decide', 'lawful', 'amount', 'yours', 'non', 'interest', 'programs', 'credit', 'check,', 'security', 'bankruptcy', 'bad', 'credit,', 'matter,', 'tax', 'u.s.', 'entitled', 'programs,', 'state', 'year', 'border', 'cellpadding=3', 'size=1over', 'expand', 'color=\"cc0000\"font', \"world's\", 'largest', 'style=\"marginleft:', '1cm;', 'marginright:', '1cm\"font', 'living', 'right', 'america', 'billion', 'research', 'economy', 'need', 'greater', 'economic', 'development', 'great', 'approximately', 'applied', 'equal', 'somehow', 'feel', 'them,', 'too', 'is,', 'however,', 'government,', 'income', 'repair', 'home,', 'mortgage', 'purchase', 'general', 'summer', 'music', 'art', 'senior', 'estate', 'medical', 'someone', 'fire', 'education,', 'women', 'computer', 'studies', 'specific', 'money.', 'made', 'you,', 'margintop:', 'done', 'obtaining', 'guide', 'most', 'money,', 'electronic', 'meaning', 'minutes', 'color=\"000000\"font', 'thousandsof', 'loan', 'step', 'instructions', 'proposal', 'contact', 'governmentgrants', 'size=1direct', 'offered', 'detailed', 'phone', 'expert', 'related', 'venture', 'capital', 'size=1a', 'allow', 'generate', 'listing', 'recently', 'announced', 'funding', 'small', '100', 'discover', 'programs.', 'loans', 'size=1how', 'advice', 'businesses,', 'buying', 'land', 'develop', 'size=1the', 'provides', '$500', 'more.', 'black', 'qualified', '30', 'sources', 'true,', 'business,', 'family.', 'another', 'received', 'least', 'or,', 'ebook', '12', 'back', 'refund', 'questions', 'order,', 'entirely', 'risk.', 'full', 'moneyback', 'feeling', 'material', 'immediate', 'price.', 'style=\"textalign:', 'valuable', 'color=\"0000cc\"free', 'bonus', 'fully', 'software', 'alone', 'cd', 'say,', 'accepted', 'interactive', 'walk', 'teach', 'write', 'competitive', 'able', 'compare', 'insider', 'special', 'experts', 'techniques', 'secrets', 'car', 'auto', 'equity', 'loans,', 'major', 'telephone', 'services,', 'food', 'prescription', 'drugs', 'manual', 'guidelines', 'tools', 'succeed', 'simple', 'easy', 'idea.', 'hundreds', 'sold', \"what's\", 'determine', 'inthe', 'predict', 'losing', 'plan', 'investors', 'easily', 'making', 'pocket', 'business.', 'stand', 'chance', 'specifically', 'following:', 'service', 'retail', 'company,', 'nobody', 'told', 'common', 'keeps', 'select', 'cutting', 'mine', 'average', 'reduction', 'marketing', 'lead', 'developing', 'sales', 'increase', 'profits', 'profit', 'planning', 'uses', 'style=\"textdecoration:', \"here's\", 'behind', 'dollar', 'tip', 'proven', 'turn', 'avoid', 'legal', '/b', 'success', 'ideas', 'image', 'response', 'managing', 'solve', 'am', 'past', 'manager', 'leader', 'owner', 'five', 'helped', 'obtain', 'market,', 'sell', 'practically', 'activity', 'presented', 'contains', 'technique', 'learned', 'normally', 'serious', 'delay', 'moment', 'style=\"marginbottom:', 'handling', 'secure', 'jabber', 'fastest', 'growing', 'realtime', 'platform!', 'im.', 'build', 'in!', 'http://www.jabber.com/osdn/ximspamassassinsightings', 'report', 'today.', 'happiness', 'quite', 'that,', 'size=5', 'lenders', 'compete', 'size=2', 'size=3', 'face=\"times', 'roman,', 'rates', 'point', '40', 'rate', 'situation', 'matching', 'needs', 'perfect', 'owners', 'buyers', 'plans', 'face=verdana,arial,helvetica', 'face=\"arial,helvetica\"', 'regarding', 'longer', 'error,', 'series', 'talk', 'mark', '21,', '+0100,', 'oh', 'smart', 'fairly', 'dont', 'appears', 'confirm', 'regular', 'permission', 'try', 'require', 'messages.', 'systemworks', 'this:', 'goes', 'id', 'create', 'dangerous', 'quality', 'yet', 'hell', 'calls', '\"', 'except', 'uk', 'became', 'talking', 'stick', 'fun', 'temple', 'group,', 'to:', 'yahoo!', 'groups', 'http://docs.yahoo.com/info/terms/', 'sponsor', '+s&p', 'to:forteanaunsubscribe@egroups.com', 'pc', 'store', 'drives', 'lock', 'leaving', 'setting', 'users', 'enable', 'ago,', 'seemed', \"couldn't\", 'anything', 'up.', 'grow', 'mind', ';)', 'looked', 'lots', 'clues', '(like', 'meant', 'wrong', 'looks', 'code', '16', 'basically', 'counting', '0.01', 'none', 'record', 'extreme', 'happened', 'one,', 'wonder', 'ads', 'body', 'discussion', 'highly', 'technical', 'words', 'ran', 'interesting', 'lines', 'seventh', 'bunch', 'url', 'followed', 'tags', 'plus', \"aren't\", 'remains', 'biggest', 'trained', 'trying', 'far', 'email,', 'expected', 'bigger', 'relatively', 'training', \"he's\", 'van', 'tom', 'genetic', 'information,', 'content=\"text/html;', 'bgcolor=ffffff', 'cellpadding=0', 'align=left', 'valign=top', 'monthly', 'late', 'low', 'debt', 'color=ff0000', 'property', 'size=1', 'products,', 'desire', 'size=\"1\"', 'color', 'paste', 'suite', 'img', 'african', 'leaders', '|', '0', 'here.', 'them.', 'domain', 'pull', \"they've\", 'culture', 'face', 'market', 'repository', 'possibly', 'due', 'aptget', 'update', 'hit', 'http://apt.freshrpms.net', 'matthias', 'saou', 'edificio', 'norte', 'plantasystem', 'engineer', '08039', 'barcelona,', 'spainelectronic', '+34', '936', '23rpmlist', 'suppose', 'modern', 'equivalent', 'beat', 'cds', 'laser', 'printer', 'commercial', 'bgcolor=\"ffffff\"', 'valign=\"top\"a', 'valign=\"top\"', 'size=\"4\"', 'color=\"ff0000\"', 'color=\"000000\"', 'surprised', 'friend', 'showed', 'she', 'played', 'sweet', 'young', 'possible,', 'mailings.', '3rd', 'thu,', '22', 'doing', 'insert', 'keyboard', 'mouse', 'things,', 'exmh', 'files,', 'beginning', 'up,', 'all.', 'item', 'listed', 'actually', 'option', 'directly', 'window', 'prior', '6', 'choose', 'execute', 'on,', 'attempt', 'script', 'helps', 'sitting', 'actively', 'waiting', 'away.', 'listexmhusers@redhat.comhttps://listman.redhat.com/mailman/listinfo/exmhusers', 'class', 'now,', 'large', '\"in', '2000', 'numbers', 'figured', 'break', 'yes', '11', 'site.', 'investment', 'needed', 'subscriber', 'fontfamily:', 'fontweight:', 'textdecoration:', 'width=600', 'align=right', 'cellpadding=4', 'face=arial', 'apologize', 'noticed', 'charges', 'processing', 'span', 'unix', 'dell', 'disk', 'suse', 'cd,', 'panel', 'video', 'card,', 'feature', 'driver', '(as', 'recommended', 'problem.', '(in', 'reach', 'power', 'cable', 'thanks', 'indian', 'forwarded', 'march', 'washington', 'human', 'children', 'routine', 'daily', 'unwanted', 'death', 'strong', 'man,', 'india', 'knows', 'capable', \"india's\", 'certainly', 'so.', 'police', 'defend', 'men', 'nation', 'political', 'usual', 'notice', 'international', 'excess', 'truth', 'happens', 'down.', 'lets', 'december', 'built', 'god', 'attack', '(with', 'government.', 'minister', 'hold', \"isn't\", 'result', 'failure', 'dead', 'slow', 'rights', 'prepared', 'letter', 'speaking', 'week', 'en', 'indeed', 'takes', 'makes', 'world,', 'well,', 'kill', \"we've\", 'easier', 'collection', 'paper', 'book', 'purchased', 'revenue', 'mr', 'gives', 'size=4', 'more,', 'agents', 'application', 'offer', 'problems.', 'recognized', 'trust', 'return', 'us.', 'kept', 'strictly', 'size', '&nbsp;&nbsp;/tdtdinput', 'name=\"body\"', 'type=\"text\"', 'size=\"21\"', 'north', 'south', 'standard', 'usb', 'runs', 'shares', 'city', '4.0', 'httpequiv=contenttype', '{', 'helvetica\"', 'color=000000', 'size=3font', '(stock', 'newsletters', 'cbyi', 'filed', 'larger', 'trading', 'near', 'future.', '&nbsp;', 'watch', 'invest', 'profitable', 'track', 'estimates', '50%', 'environmental', 'equipment', 'exclusive', 'including', 'air', 'force,', 'heavy', 'revenues', 'million,', '$25', 'subscribers', 'took', 'recommendation', 'color=0000ff', 'statements', 'contained', 'securities', 'act', 'similar', 'registered', 'profiled', 'companies.', 'publish', 'report.', 'investing', 'highrisk', 'purposes', 'only.', 'sole', 'advised', 'attorney', 'decision', 'entire', 'publication', 'portion', 'date', 'stated', 'intended', 'residents', 'c', 'joseph', 'pages', 'puts', 'no,', 'mozilla', 'browser', 'print', 'httpequiv=\"contenttype\"', 'tdimg', 'height=\"1\"', 'border=\"0\"/td', 'width=\"1\"', 'border=\"0\"/a/td', 'tda', '/tr/tabletable', 'width=\"500\"', 'border=1', 'width=\"600\"', 'yourself', 'blank', 'postal', 'gay', 'updated', 'gcc', 'out,', 'written', 'bottom', 'instruction', 'no.', 'introduced', 'pentium', 'directed', 'percent', 'compiled', 'earlier', 'started', 'properly', 'generated', 'faster', 'compiler', 'fair', 'according', 'road', 'extra', 'speed', 'code.', 'sometimes', 'copies', 'memory', 'mostly', 'supports', 'handle', 'shared', 'register', 'prize', 'edge', 'difference', 'htmlheadmeta', 'charset=windows1252\"meta', 'name=\"generator\"', 'content=\"microsoft', 'frontpage', '4.0\"meta', 'name=\"progid\"', 'available.', 'considered', 'health', '25', '0700', 'waste', 'contents', 'forward', 'agent', 'heaven.http://thinkgeek.com/sfrazorusers', 'value', 'defined', 'unit', 'fit', 'device', 'press', 'instantly', 'digital', 'finally', 'photo', 'love', 'mobile', 'useful', 'monday,', 'am,', 'iii', 'rob', 'yet,', '1st', '2', 'persons', 'saw', 'tv', 'night', 'miss', ':)', 'wanted', 'pictures', 'cell', 'bought', 'resolution', 'father', 'word', 'file,', 'install', 'guy', 'binary', 'understand', 'early', 'rpms', '14,', '0700,', '14', 'short', 'files.', 'obvious', 'implementation', 'patch', '01', 'pm,', 'java', 'programming', 'despite', 'significant', 'points', 'gnu', 'lost', 'happen', 'graphics', 'ibm', 'strange', 'environment', 'add', '50', 'payments', 'kinds', 'wait', 'not,', 'peter', 'realize', 'usually', 'removing', 'forms', 'established', 'engines', 'interface', 'engine', 'complex', 'advanced', 'michael', 'email:', 'leftmargin=\"0\"', 'bgcolor=\"ffffff\"table', 'bottle', 'fresh', \"we'll\", 'fortune', 'align=\"left\"', 'amazing', 'back.', 'align=\"left\"font', 'miles', 'movie', 'playing', 'customer', 'hspace=\"0\"', 'vspace=\"0\"', 'face=\"arial\"', 'subscribed', 'color=\"000000\"click', 'correspondence', 'tothe', '/body', '/html', 'steve', 'mime', ')', 'though.', 'among', 'broken', 'reasons', 'mentioned', 'parts', '1,', '3,', 'mention', 'meeting', 'along', 'called', 'free!https://www.inphonic.com/r.asp?r=sourceforge1&refcode1=vs3390razorusers', '\"remove\"', 'mlm', 'deliver', 'years.', 'friends,', 'people.', 'cut', 'works,', 'this.', 'brief', 'introduce', 'promise', 'information.', 'type', 'hours.', 'onto', 'online,', '+0200,', 'assume', 'use.', 'redhat', 'to,', 'os', 'brian', 'hear', 'view', 'includes', 'shipping', 'illegal', 'delivered', 'j.', 'judge', 'considering', 'him', 'ago', 'staff', 'majority', 'country.', '\"you', 'person', 'f', 'claims', 'hearing', 'france', 'rest', 'family', 'too,', 'says,', 'support', 'preferences', 'hi,', 'key', 'le', 'went', 'whether', 'message.', 'fixed', 'storage', 'places', '(not', 'thinks', 'sequences', 'expensive', 'times,', 'date:', '28', 'sequence', 'again.', 'chris', '200', 'war', 'vs.', 'listexmhworkers@redhat.comhttps://listman.redhat.com/mailman/listinfo/exmhworkers', 'sans', 'color=2f2f4f', 'conference', 'virtually', 'sharing', 'compatible', 'usage', 'cents', 'width=500', 'reduce', 'travel', 'saving', 'align=middlefont', 'color=5c4033', 'align=middle', 'method=post', 'width=\"100%\"', 'width=\"50%\"font', 'size=2/font/td', 'tdinput', 'type=submit', 'distribution', '1)', '2)', 'serial', 'muscle', 'title', 'spent', 'exercise', 'point.', 'published', 'mind,', 'features', 'creative', 'discovered', 'famous', 'moved', '1999', 'sense', 'william', 'but,', 'developed', 'criminal', 'books', 'doubt', 'destructive', 'towards', 'society', 'believes', 'focus', '\"it', 'cold', 'gordon', 'changed', 'seven', 'term', 'holding', 'ten', 'half', 'day.', '60', 'dream', '\"we', 'fat', 'publishing', 'october', 'again,', 'friday', 'justin', 'headers', 'returned', 'mr.', 'personally', 'hundred', 'shall', 'stay', 'years,', 'journal', 'receipt', 'fear', 'kindly', 'w.', '13', 'example', 'fails', 'you?', 'empty', 'previous', 'gnome', 'although', \"hadn't\", 'fed', 'british', 'office', 'tend', 'messagefrom:', 'forkadmin@xent.com', '[mailto:forkadmin@xent.com]on', '23,', 'content', '(tm)', '.net', 'suspect', 'later,', 'fri,', 'mentioned:', 'delete', 'prefer', 'customers', 'face=\"times\"', 'size=\"6\"', 'insurance', 'comfortable', 'policy', 'size=\"3\"', 'quote', 'contacts', 'behavior', 'abuse', 'remain', 'percentage', 'unlike', 'motivated', 'practice', 'northern', 'rogers', 'medium', \"let's\", 'classified', 'targeted', 'exchange', 'there,', 'today', 'message,', 'alt=\"\"', 'cellpadding=\"3\"', 'height=\"5\"', 'arial\"', 'privacy', 'partners.', 'unsubscribe,', 'cover', 'hate', '..', 'speech', 'court', 'consider', 'laws', 'types', 'level', 'protection', 'action', 'reasonable', 'greg', 'database', 'side', 'ones', 'configuration', 'tony', 'vulnerability', 'exists', 'community', 'string', 'gain', 'keys', 'case', '19', '02', '2002.', 'requests', 'copyright', 'inc.', 'believed', 'warranty', 'event', 'resulting', 'fee', 'modified', 'sent:', 'this?', 'spam.', '0\"', 'bush', 'confirmation', 'straight', 'powers', 'everybody', 'limited', 'hello', 'b', 'remote', 'nor', 'dave', 'him.', 'g', '(', 'articles', 'help.', '500', 'employed', 'form.', 'train', 'form,', 'final', 'project', 'style', 'improve', 'modules', 'code,', 'basic', 'networks', 'bits', 'expect', 'felt', 'myself', 'months', 'impact', 'extended', 'tollfree', 'service.', '3)', 'trip', 'removal.', 'questions,', '300', 'at:', \"today's\", 'you!', 'board', 'p.', 'vote', 'self', 'ago.', 'though,', 'pass', 'burning', 'net', 'carefully', 'selling', 'advertising', 'soon', 'win', 'gift', 'shopping', 'line,', 'site,', 'product', 'quickly', 'automated', 'product,', 'service,', 'and/or', 'serve', 'pop', 'host', 'websites', 'games', 'hosting', 'cool', 'menu', 'minute', 'enjoy', 'left', 'suggest', 'moving', 'also,', 'figure', 'association', 'nice', 'earth', 'background', 'putting', 'checked', 'bar', 'variety', 'designed', 'minor', 'june', 'address,', '2001', 'reached', 'interested', 'edit', 'preferences,', 'opened', 'geneva,', 'sansserif\"font', 'color=\"000066\"font', 'agreement', 'optout', 'shown', 'face=\"verdana,arial,helvetica,sansserif\"', 'subscription', 'interests', 'effect', 'placing', 'scripts', 'care', 'installing', 'inside', 'httpequiv=\"contentlanguage\"', 'content=\"enus\"meta', 'cellspacing=\"3\"', 'bordercolor=\"ffffff\"', 'style=\"bordercollapse:', 'collapse\"', 'align=\"center\"bfont', 'face=\"tahoma\"', 'six', 'featurepacked', 'backup', 'quick', \"pc's\", 'performance', 'border=\"4\"', 'height=\"4\"', 'color=\"000080\"', 'combined', '/font/fontfont', 'prey', 'viruses', 'height=\"44\"', 'height=\"38\"', 'style=\"color:', 'fontsize:', 'obtained', 'unsubscribed', 'shape', '/tr/table/body/html', 'manage', 'applications', 'reports', 'free.', 'brto', 'acknowledged', 'mailings', 'records', 'meta', 'height=1', 'src=\"images/spacer.gif\"', 'hot', 'voice', 'initial', 'sounds', 'totally', 'methods', 'corporate', 'lack', 'stock', 'difficult', 'searching', '+', 'first,', 'server.', 'there.', '1000', 'mail,', 'thus', 'system,', 'likely', 'use,', 'sorts', 'ensure', 'location', 'slightly', 'effort', 'screen', 'depending', 'beyond', 'force', 'together', 'rule', 'burn', 'story', 'world.', 'investigation', 'folks', 'article', '(1)', 'regards,', 'bitbitch', 'j', 'region', 'intelligence', 'images', 'areas', 'ground', 'allowed', 'cases', 'friday,', 'texas', 'entertainment', 'radio', 'television', 'broadcast', 'substantial', 'move', 'trial', 'kids', 'potential', 'server,', 'continue', 'establish', 'negative', 'score', 'concerned', 'approach', 'xml', 'becomes', 'reverse', 'fast', 'items', 'led', 'plug', 'reference', 'supply', 'adam', 'path', 'pattern', 'account.', 'attacks', 'otherwise', 'identity', 'it!', 'greatest', 'century', 'popular', 'internet.', 'domains', '500,000', 'address:', 'fax:', 'ffffff\"', 'style=\"backgroundcolor:', 'align=leftfont', 'ignore', 'placed', 'presently', 'line.', 'fast,', 'team', 'stopped', '48', 'law', 'telling', 'down,', 'stocks', 'year.', 'associates', 'solid', 'freedom', 'for.', 'calling', 'today!', 'unless', 'l.', 'beberg', 'un', 'socialism', 'systems', 'countries', '\"duncan\"', 'http://www.mithral.com/beberg/', 'somebody', 'safe', 'requirements', 'passed', 'congress', 'width=\"6\"', 'width=\"538\"', 'height=\"36\"', 'height=\"2\"', 'align=\"right\"', 'canada', 'produced', 'charset=iso88591\"/headbody', 'valign=\"top\"font', 'face=\"verdana', 'color=000066', 'appropriate', 'offer.', 'anybody', 'modem', 'installation', 'download', 'question,', 'connect', 'example,', 'obviously', 'recommend', 'virtual', 'base', 'steps', 'boot', '(if', 'deep', 'random', '(a', 'happy', 'local', 'aid', 'mode', 'alsa', 'front', '(for', 'rpmlist', 'rpmlist@freshrpms.net', ']', 'rebuild', 'options', '13,', 'double', 'addition', 'floppy', '?', '||', 'monday', 'continues', 'writes', 'php', 'alter', '0.', '19972002', 'pudge.', 'reserved.======================================================================you', 'iton', 'perl.', 'othermessages', 'perl,', 'messagesor', 'page.http://use.perl.org/my/messages/you', 'administration', 'americans', 'history', 'sept.', '11,', 'york', 'terrorists', 'terrorism', 'defense', 'particularly', 'challenge', 'risks', 'concept', 'department', 'acts', 'grand', 'ordered', 'committee', 'lower', 'argument', 'forget', 'seeing', 'asking', 'came', 'said.', 'yet.', 'policies', 'changes', 'vast', 'chief', 'issued', 'said,', 'former', 'weeks', 'forced', 'accounts', 'executive', 'role', '\"a', 'statement', 'nationwide', 'automatic', 'whatever', 'constitution', 'prevent', 'granted', 'marshall', 'declared', 'twice', 'jurisdiction', 'declaration', 'normal', 'model', 'opportunities', 'media', 'rss', 'flow', '[1]', '(thanks,', 'discuss[2]', 'feedback', 'battery', '%', '\\\\', 'pipe', '5,', '05,', 'bitbitch@magnesium.net', 'cc:', 'fork', '(no', 'french', 'son', 'peace', 'keeping', 'document', 'deposited', 'whom', 'total', 'count', 'located', 'proposed', 'fight', 'law,', 'responsible', 'paying', 'george', 'invoked', 'responses', 'morning', 'false', 'fees', 'netscape', 'width=\"582\"', 'border=\"2\"', 'cellpadding=\"5\"', 'colspan=\"3\"', 'width=\"204\"', 'colspan=\"2\"', 'laurent', 'oct', 'cards', 'frame', 'launch', 'week.', 'production', 'machines', 'middle', 'versions', 'correct', 'display', 'processes', 'anyway,', 'definitely', '20%', '2.0', 'library', 'google', 'program.', 'software,', 'auction', 'software.', 'typical', 'c++', 'note:', 'border=0tbodytrtd', 'style=\"fontsize:', '12px;', 'verdana,', 'tahoma,', 'bgcolor=d6cfab', 'style=\"width:', 'height:', 'amounts', 'bordercolor=111111', 'face=verdana', 'ftp', '$50', 'size=2bfont', '{color:', 'serif\"', 'align=\"right\"font', 'et', 'vulnerable', 'more!', 'operating', 'leads', 'combination', 'vendor', 'contacted', 'spec', 'sat,', '17', 'ip', 'increases', 'face=\"ms', 'hr', 'achieve', 'participate', 'dial', 'street', 'democratic', 'husband', 'republic', 'purpose', 'kabila', 'european', 'africa', 'discuss', 'x', 'represent', 'explain', 'throughout', 'male', 'commonly', 'generation', 'basis', 'driving', 'poor', 'dynamic', 'is.', 'positive', 'skip', '}', 'w', 'yield', 'met', 'science', 'hams', '70%', 'button', 'cat', 'mother', 'room', 'wife', '\"how', 'boy', 'lives', 'sleep', 'learning', 'bulk', 'period', 'days.', 'people,', 'startup', 'plenty', 'required.', 'employment', 'home.', 'campaign', 'mass', 'internet,', 'verify', 'cash,', 'price:', 'states.', 'shop', 'marked', 'gpl', 'stupid', 'width=400', 'cellspacing=1', 'mac', '4.', 'tuesday', 'details', 'ptsize=10', 'family=\"sansserif\"', 'back=\"000000\"', '000000\"', 'color=\"0000ff\"', 'ptsize=12', 'lang=\"0\"', '26', 'english', 'touch', 'communication', 'europe', 'folder', 'deleted', 'heart', 'headline', 'point,', 'apt', '8.0', 'updates', '$5', 'brand', 'resell', 'containing', 'selected', 'successfully', 'efforts', 'roman\"', 'align=\"left\"bfont', 'ul', 'lifont', '/ul', 've', 'drop', 'consolidation', 'helping', 'clear', 'appreciate', 'eat', 'listen', 'cdrom', 'smoking', 'master', '5,000', '10,000', 'massive', 'suggested', 'weekly', 'super', 'onthe', 'invite', 'strategies', 'newsletter', 'width=1', 'face=\"verdana,arial,helvetica\"', 'bra', '/abra', 'intro', 'valign=\"bottom\"', 'target=\"blank\"img', 'physical', 'effects', 'child', 'david', 'caused', '[mailto:forkadmin@xent.com]', 'banned', 'cd.', 'fake', 'promotions', 'showing', 'releases', 'extensive', 'documents', 'selection', 'companies,', 'wide', 'truly', 'house', 'active', 'drug', 'effective', 'year,', 'balance', 'aging', 'dieting', 'england', 'forever!', 'strength', 'stability', 'natural', 'sexual', 'associated', 'hidden', '/font/bfont', 'brain', 'blood', 'wake', 'pleased', '90', 'savings', 'mt', 'neither', 'produce', 'embedded', '1.0', 'widely', 'solutions', 'conditions', 'perfectly', 'tells', 'woman', 'eventually', 'theory', 'bgcolor=white', 'colspan=3', 'colspan=2', 'guys', 'subscribe', 'ownership', 'valign=center', 'recognition', 'tablet', 'compile', 'geege', 'schuman', 'command', 'solid;', 'bgcolor=\"ffff00\"', 'pbfont', 'color=\"ffffff\"font', 'toner', 'style=\"fontfamily:', 'events', \"it'll\", 'killed', 'oil', 'merchant', 'unfortunately,', 'agreed', 'knew', '0400', 'size=2font', 'type=radio', 'vipul', 'usa', 'directories', 'islands,', 'name,', 'advertise', 'address.', '$', 'priority', 'shipped', 'razorusers', 'razorusers@lists.sourceforge.net', 'checks', 'gnome2', ':(', \"hasn't\", 'beta', '//', 'ignored', 'range', 'revision', '0;', 'sansserif;', 'domestic', 'analysis', 'wireless', 'technologies', '.:', 'false\"', 'lean', 'module', 'contain', 'msgs', 'data.', '@@', 'face=\"arial\"br', '72', 'bordercolor=\"111111\"', 'size=\"2\"font', 'height=\"10\"', '�', 'procmail', 'reporting', 'acquired', 'assets', 'ourselves', 'rapid', 'stylus', 'align=\"center\"&nbsp;/pp', 'supposed', 'king', 'january', 'friend,', 'white', 'farmers', 'deposit', '2,', 'traditional', 'discount', '.biz', '.info', 'names,', '.com', '08,', 'tree', 'emails.', 'ordering', 'state,', 'responsibility', 'scores', 'models', 'water', 'either.', 'yourself,', 'pounds', 'weeks,', 'align=centerbfont', 'black\"', 'color=000080', 'refer', 'desktop', 'align=\"center\"a', 'to.', \"company's\", 'documentation', 'commission', 'replace', 'color=999999', 'somewhere', 'mh', 'jim', 'style=\"margintop:', 'lineheight:', 'nations', 'collaboration', 'joined', 'herba', 'kathmandu', 'ragga', 'stoney', 'aqueous', 'capillaris', '“3”', 'dagga', 'substance', 'botanical', 'proprietary', 'seed', 'stuff.', 'vjestika', 'aphrodisia', 'drops', 'prosaka', 'tablets', 'gentle', 'ferocity', 'equivalence', 'dragon', 'wing', 'spray', 'pain', 'herbal', 'heaven', 'oz.', 'jigget/bar', '(free', 'jar', 'tablets)', '(save', '(reg.', 'assuming', 'strategy', '27', '0in;', 'class=msonormal', 'p2p', 'networks,', 'enterprise', 'began', 'rick', 'vice', 'align=\"left\"&nbsp;/pp', '21', 'program,', 'dreams', 'report,', 'envelope', 'receive,', '0.2%', 'responded', '100,000', 'jody', 'de', 'growth', 'players', 'capacity', \"empire'\", 'supported', 'target=\"blank\"', 'root', 'threats', 'face=\"comic', 'ms\"', 'hp', 'cartridge', 'face=\"lucida', 'typewriter\"', 'laserjet', 'face=\"courier', 'apple', '16,', 'adds', 'china', 'chinese', 'forthe', 'moore', 'color=\"ffffff\"click', 'license', 'speak', 'new,', 'effectively', 'forces', 'passing', 'markets', 'film', 'weapons', 'face=\"tahoma,', 'width=\"4\"', 'borderwidth:', 'size=\"2\"b', '/a', 'ddbfont', 'face=\"webdings\"', 'ptsize=\"10\"', 'none\"', 'oh,', 'warning:', 'craig', 'proxy', 'archive', 'not.', 'threat', 'states,', 'lift', 'regional', 'actions', 'distance', 'sovereign', 'investments', 'western', 'status', 'energy', 'climate', 'levels', 'affairs', 'bugs', 'ou', 'une', 'stamps', '1:', 'guides', 'width=450', 'border=0/a/td', 'hotel', 'pacific', 'number,', 'fn', 'strip', 'exist', 'align=\"center\"&nbsp;/p', 'income.', 'impression', 'smtp', 'inc', 'nowrap', 'sansserif\"bfont', '/font/td', 'datapower', 'kelly', 'paramount', 'ass', 'san', 'understanding', 'telecom', 'facts', 'ebay', 'patrick', 'paypal', '10%', 'size=\"+1\"', '(\"l', 'dns', '\"if', '0.01;', '0.99;', 'fp', 'habeas', 'satellite', 'strongfont', 'tied', '0.000', '/font/td/tr', 'color=\"cc0000\"', 'bgcolor=\"ffff99\"', 'bordercolor=\"ffff99\"', 'plugin', 'unseen', 'color=666600', 'statement,', 'marginbottom:', 'gaming', 'island', 'class=\"msonormal\"', '0px;', '/li', 'historical', '0px', 'face=verdana,arial,helvetica,sansserif', '1px', 'width=715', 'src=\"http://www.salealerts.com/dot.gif\"', '220', '30th', 'width=\"50%\"', '18.0pt;', \"`'\", 'formal', 'formula', ';', 'src=\"http://a248.e.akamai.net/f/1596/1167/1d/images.columbiahouse.com/ch/images/demo/email/clear.gif\"', 'alt=\"\"/tdtd', 'width=\"10\"', 'href=\"http://adfarm.mediaplex.com/ad/ck/9901736513861\"font', 'shape=\"rect\"', 'width=100', 'class=woongtd', 'vous', 'est', 'des', 'pour', 'les', 'à', 'savoir', 'du', 'sur', 'release,', 'width=\"200\"', 'align=\"middle\"', 'check[3469]:', '468', '334', '336', 'native', 'href=\"http://www.fromyou2.com/nasty/milf/milf/bindex.htm\"font', 'color=limeimg', 'poker', '·', '(procedure', 'spam:', 'ffff00\"', 'align=justifyfont', 'usd', 'impact;', 'back=\"ffffff\"', '�m���o��', 'enenkio', 'rmi', 'monarch', 'taongi', 'atoll', 'atolls', 'islands', 'kingdom', 'marshallese', 'hermios,', 'enenkio,', 'majesty', 'remios,', 'eneenkio', 'atoll,', 'iroijlaplap', 'murjel', 'ratak', 'hermios', '::', 'changes:', '(gpl)url:', 'license:', 'style=\"border:', '{fontfamily:', '0.025', 'f.c.c.', 'powell', '&149;', 'face=\"geneva,', 'searcher', 'color=0000ffeasy', 'color=\"ffff00\"', 'alb', '0in', 'width=\"18\"', 'src=\"http://e89.friendfinder.com/banners/aff/adimages/0.gif\"', 'face=\"arial,helvetica,geneva,swiss,sunsansregular\"', 'class=\"body\"font', '0cm;\"font', 'align=absmiddle', 'face=굴림span', 'width=22', 'size=\"+0\"', 'bgcolor=d5d5d5&nbsp;/td', 'color=\"ff0000\"b', 'lists/lk', 'mbox:', 'color=\"ffff00\"b', 'br/b/fontfont']\n"
     ]
    }
   ],
   "source": [
    "print(list_of_importan_words)"
   ]
  },
  {
   "cell_type": "code",
   "execution_count": null,
   "id": "1a1ec81a",
   "metadata": {},
   "outputs": [],
   "source": []
  }
 ],
 "metadata": {
  "kernelspec": {
   "display_name": "Python 3 (ipykernel)",
   "language": "python",
   "name": "python3"
  },
  "language_info": {
   "codemirror_mode": {
    "name": "ipython",
    "version": 3
   },
   "file_extension": ".py",
   "mimetype": "text/x-python",
   "name": "python",
   "nbconvert_exporter": "python",
   "pygments_lexer": "ipython3",
   "version": "3.8.12"
  }
 },
 "nbformat": 4,
 "nbformat_minor": 5
}
