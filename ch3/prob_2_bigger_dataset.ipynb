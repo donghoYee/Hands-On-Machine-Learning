{
 "cells": [
  {
   "cell_type": "code",
   "execution_count": 2,
   "id": "94203d06",
   "metadata": {},
   "outputs": [],
   "source": [
    "from sklearn.datasets import fetch_openml\n",
    "mnist = fetch_openml('mnist_784', version=1, as_frame=False)"
   ]
  },
  {
   "cell_type": "code",
   "execution_count": 3,
   "id": "0296c63e",
   "metadata": {},
   "outputs": [],
   "source": [
    "X, y = mnist[\"data\"], mnist[\"target\"]\n",
    "X_train, y_train, X_test, y_test = X[:60000], y[:60000], X[60000:], y[60000:]"
   ]
  },
  {
   "cell_type": "code",
   "execution_count": 4,
   "id": "871b7db4",
   "metadata": {},
   "outputs": [
    {
     "name": "stdout",
     "output_type": "stream",
     "text": [
      "(60000, 784)\n"
     ]
    }
   ],
   "source": [
    "print(X_train.shape)"
   ]
  },
  {
   "cell_type": "code",
   "execution_count": 5,
   "id": "a2e06024",
   "metadata": {},
   "outputs": [],
   "source": [
    "import numpy as np"
   ]
  },
  {
   "cell_type": "code",
   "execution_count": 6,
   "id": "a2cb340b",
   "metadata": {},
   "outputs": [],
   "source": [
    "X_train_as_shape = X_train.reshape(60000,28,28)"
   ]
  },
  {
   "cell_type": "code",
   "execution_count": 9,
   "id": "cccee6c4",
   "metadata": {},
   "outputs": [],
   "source": [
    "import matplotlib.pyplot as plt"
   ]
  },
  {
   "cell_type": "code",
   "execution_count": 10,
   "id": "772661c6",
   "metadata": {},
   "outputs": [
    {
     "data": {
      "text/plain": [
       "<matplotlib.image.AxesImage at 0x7fc79da21760>"
      ]
     },
     "execution_count": 10,
     "metadata": {},
     "output_type": "execute_result"
    },
    {
     "data": {
      "image/png": "[encoded data removed]",
      "text/plain": [
       "<Figure size 288x288 with 1 Axes>"
      ]
     },
     "metadata": {
      "needs_background": "light"
     },
     "output_type": "display_data"
    }
   ],
   "source": [
    "plt.matshow(X_train_as_shape[0], cmap=plt.cm.gray)"
   ]
  },
  {
   "cell_type": "code",
   "execution_count": 13,
   "id": "f69c8c53",
   "metadata": {},
   "outputs": [],
   "source": [
    "X_train_as_shape_big = X_train_as_shape.copy()"
   ]
  },
  {
   "cell_type": "code",
   "execution_count": 16,
   "id": "79b0dddc",
   "metadata": {},
   "outputs": [],
   "source": [
    "from scipy.ndimage.interpolation import shift"
   ]
  },
  {
   "cell_type": "code",
   "execution_count": 17,
   "id": "e59151f3",
   "metadata": {},
   "outputs": [],
   "source": [
    "def shift_image(image, dx, dy):\n",
    "    image = image.reshape((28, 28))  # change it in function\n",
    "    shifted_image = shift(image, [dy, dx], cval=0, mode=\"constant\")\n",
    "    return shifted_image.reshape([-1]) # and reshape it back to 2d!"
   ]
  },
  {
   "cell_type": "code",
   "execution_count": 18,
   "id": "f3b97340",
   "metadata": {},
   "outputs": [],
   "source": [
    "X_train_augmented = [image for image in X_train]  # create another list using map!\n",
    "y_train_augmented = [label for label in y_train]\n"
   ]
  },
  {
   "cell_type": "code",
   "execution_count": 26,
   "id": "34eebcc2",
   "metadata": {},
   "outputs": [
    {
     "name": "stdout",
     "output_type": "stream",
     "text": [
      "<class 'numpy.ndarray'>\n"
     ]
    }
   ],
   "source": [
    "print(type(X_train_augmented))"
   ]
  },
  {
   "cell_type": "code",
   "execution_count": 20,
   "id": "26593c39",
   "metadata": {},
   "outputs": [],
   "source": [
    "\n",
    "for dx, dy in ((1, 0), (-1, 0), (0, 1), (0, -1)):  # !! put it in a tuple like this!! -> does not have to reproduce!\n",
    "    for image, label in zip(X_train, y_train): #!!! use zip!!\n",
    "        X_train_augmented.append(shift_image(image, dx, dy)) # does append use copy of the list? it uses r-value -> could!\n",
    "        y_train_augmented.append(label) # if r-value -> does copy! no real memory!\n"
   ]
  },
  {
   "cell_type": "code",
   "execution_count": 27,
   "id": "4f7faa52",
   "metadata": {},
   "outputs": [
    {
     "name": "stdout",
     "output_type": "stream",
     "text": [
      "300000\n",
      "<class 'numpy.ndarray'>\n"
     ]
    }
   ],
   "source": [
    "print(len(X_train_augmented))\n",
    "print(type(X_train_augmented))"
   ]
  },
  {
   "cell_type": "code",
   "execution_count": 29,
   "id": "a63626c4",
   "metadata": {},
   "outputs": [
    {
     "name": "stdout",
     "output_type": "stream",
     "text": [
      "<class 'numpy.ndarray'>\n"
     ]
    }
   ],
   "source": [
    "#X_train_augmented =np.array( X_train_augmented) # turn a simple list into np array!\n",
    "#y_train_augmented =np.array( y_train_augmented) # turn a simple list into np array! -> necessary?\n",
    "print(type(X_train_augmented))"
   ]
  },
  {
   "cell_type": "code",
   "execution_count": 30,
   "id": "397fb125",
   "metadata": {},
   "outputs": [],
   "source": [
    "# need to shuffle the list first!\n",
    "shuffle_idx = np.random.permutation(len(X_train_augmented))\n",
    "X_train_augmented = X_train_augmented[shuffle_idx]\n",
    "y_train_augmented = y_train_augmented[shuffle_idx]"
   ]
  },
  {
   "cell_type": "code",
   "execution_count": 31,
   "id": "3c7e702c",
   "metadata": {},
   "outputs": [
    {
     "data": {
      "text/plain": [
       "KNeighborsClassifier(n_neighbors=6, weights='distance')"
      ]
     },
     "execution_count": 31,
     "metadata": {},
     "output_type": "execute_result"
    }
   ],
   "source": [
    "from sklearn.neighbors import KNeighborsClassifier\n",
    "knn_clf = KNeighborsClassifier(weights='distance', n_neighbors=6)\n",
    "\n",
    "knn_clf.fit(X_train_augmented, y_train_augmented)\n"
   ]
  },
  {
   "cell_type": "code",
   "execution_count": 32,
   "id": "3f42ed01",
   "metadata": {},
   "outputs": [],
   "source": [
    "from sklearn.metrics import accuracy_score\n",
    "y_pred = knn_clf.predict(X_test)"
   ]
  },
  {
   "cell_type": "code",
   "execution_count": 34,
   "id": "2e214fe6",
   "metadata": {},
   "outputs": [
    {
     "name": "stdout",
     "output_type": "stream",
     "text": [
      "0.9772\n"
     ]
    }
   ],
   "source": [
    "print(accuracy_score(y_test, y_pred))"
   ]
  },
  {
   "cell_type": "code",
   "execution_count": null,
   "id": "97ad2696",
   "metadata": {},
   "outputs": [],
   "source": []
  }
 ],
 "metadata": {
  "kernelspec": {
   "display_name": "Python 3 (ipykernel)",
   "language": "python",
   "name": "python3"
  },
  "language_info": {
   "codemirror_mode": {
    "name": "ipython",
    "version": 3
   },
   "file_extension": ".py",
   "mimetype": "text/x-python",
   "name": "python",
   "nbconvert_exporter": "python",
   "pygments_lexer": "ipython3",
   "version": "3.8.12"
  }
 },
 "nbformat": 4,
 "nbformat_minor": 5
}
