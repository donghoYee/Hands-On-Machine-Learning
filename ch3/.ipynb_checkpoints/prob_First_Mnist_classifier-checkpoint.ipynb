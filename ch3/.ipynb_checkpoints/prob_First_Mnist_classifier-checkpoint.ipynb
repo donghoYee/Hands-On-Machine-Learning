{
 "cells": [
  {
   "cell_type": "code",
   "execution_count": 1,
   "id": "aa5a9f4b",
   "metadata": {},
   "outputs": [],
   "source": [
    "from sklearn.datasets import fetch_openml\n",
    "mnist = fetch_openml('mnist_784', version=1)"
   ]
  },
  {
   "cell_type": "code",
   "execution_count": 3,
   "id": "22a9071b",
   "metadata": {},
   "outputs": [],
   "source": [
    "X, y = mnist[\"data\"], mnist[\"target\"]"
   ]
  },
  {
   "cell_type": "code",
   "execution_count": 4,
   "id": "7fab5f54",
   "metadata": {},
   "outputs": [],
   "source": [
    "X_train, y_train, X_test, y_test = X[:60000], y[:60000], X[60000:], y[60000:]"
   ]
  },
  {
   "cell_type": "code",
   "execution_count": 5,
   "id": "3568f4c8",
   "metadata": {},
   "outputs": [
    {
     "name": "stdout",
     "output_type": "stream",
     "text": [
      "(60000, 784)\n",
      "(60000,)\n",
      "10000\n"
     ]
    }
   ],
   "source": [
    "print(X_train.shape)\n",
    "print(y_train.shape)\n",
    "print(len(X_test))"
   ]
  },
  {
   "cell_type": "code",
   "execution_count": 6,
   "id": "4e67506a",
   "metadata": {},
   "outputs": [],
   "source": [
    "from sklearn.neighbors import KNeighborsClassifier\n",
    "knn_clf = KNeighborsClassifier()"
   ]
  },
  {
   "cell_type": "code",
   "execution_count": 7,
   "id": "e0cd4106",
   "metadata": {},
   "outputs": [
    {
     "name": "stdout",
     "output_type": "stream",
     "text": [
      "Fitting 3 folds for each of 6 candidates, totalling 18 fits\n",
      "[CV 1/3] END ....n_neighbors=3, weights=uniform;, score=0.969 total time=  26.3s\n",
      "[CV 2/3] END ....n_neighbors=3, weights=uniform;, score=0.968 total time=  26.5s\n",
      "[CV 3/3] END ....n_neighbors=3, weights=uniform;, score=0.968 total time=  26.5s\n",
      "[CV 1/3] END ...n_neighbors=3, weights=distance;, score=0.970 total time=  26.4s\n",
      "[CV 2/3] END ...n_neighbors=3, weights=distance;, score=0.969 total time=  26.3s\n",
      "[CV 3/3] END ...n_neighbors=3, weights=distance;, score=0.969 total time=  26.1s\n",
      "[CV 1/3] END ....n_neighbors=6, weights=uniform;, score=0.965 total time=  30.0s\n",
      "[CV 2/3] END ....n_neighbors=6, weights=uniform;, score=0.965 total time=  29.9s\n",
      "[CV 3/3] END ....n_neighbors=6, weights=uniform;, score=0.966 total time=  30.4s\n",
      "[CV 1/3] END ...n_neighbors=6, weights=distance;, score=0.970 total time=  29.6s\n",
      "[CV 2/3] END ...n_neighbors=6, weights=distance;, score=0.969 total time=  29.5s\n",
      "[CV 3/3] END ...n_neighbors=6, weights=distance;, score=0.970 total time=  30.0s\n",
      "[CV 1/3] END ....n_neighbors=9, weights=uniform;, score=0.964 total time=  29.8s\n",
      "[CV 2/3] END ....n_neighbors=9, weights=uniform;, score=0.963 total time=  29.9s\n",
      "[CV 3/3] END ....n_neighbors=9, weights=uniform;, score=0.965 total time=  30.5s\n",
      "[CV 1/3] END ...n_neighbors=9, weights=distance;, score=0.965 total time=  29.9s\n",
      "[CV 2/3] END ...n_neighbors=9, weights=distance;, score=0.964 total time=  29.9s\n",
      "[CV 3/3] END ...n_neighbors=9, weights=distance;, score=0.966 total time=  30.3s\n"
     ]
    },
    {
     "data": {
      "text/plain": [
       "GridSearchCV(cv=3, estimator=KNeighborsClassifier(),\n",
       "             param_grid=[{'n_neighbors': [3, 6, 9],\n",
       "                          'weights': ['uniform', 'distance']}],\n",
       "             verbose=3)"
      ]
     },
     "execution_count": 7,
     "metadata": {},
     "output_type": "execute_result"
    }
   ],
   "source": [
    "from sklearn.model_selection import GridSearchCV\n",
    "param_grid = [{'weights':['uniform', 'distance'], 'n_neighbors':[3, 6, 9]}]\n",
    "\n",
    "grid_search = GridSearchCV(knn_clf, param_grid, cv=3, verbose=3)\n",
    "grid_search.fit(X_train, y_train)\n"
   ]
  },
  {
   "cell_type": "code",
   "execution_count": 8,
   "id": "f4a194a0",
   "metadata": {},
   "outputs": [
    {
     "name": "stdout",
     "output_type": "stream",
     "text": [
      "{'n_neighbors': 6, 'weights': 'distance'}\n",
      "0.9694833333333334\n"
     ]
    }
   ],
   "source": [
    "print(grid_search.best_params_)\n",
    "print(grid_search.best_score_)"
   ]
  },
  {
   "cell_type": "code",
   "execution_count": 9,
   "id": "2f654a52",
   "metadata": {},
   "outputs": [],
   "source": [
    "best_cls = grid_search.best_estimator_"
   ]
  },
  {
   "cell_type": "code",
   "execution_count": 10,
   "id": "45189f8d",
   "metadata": {},
   "outputs": [],
   "source": [
    "y_test_pred = best_cls.predict(X_test)"
   ]
  },
  {
   "cell_type": "code",
   "execution_count": 11,
   "id": "b3c6f276",
   "metadata": {},
   "outputs": [
    {
     "name": "stdout",
     "output_type": "stream",
     "text": [
      "accuracy score:  0.9709\n"
     ]
    }
   ],
   "source": [
    "from sklearn.metrics import accuracy_score\n",
    "print(\"accuracy score: \",accuracy_score(y_test, y_test_pred))"
   ]
  },
  {
   "cell_type": "code",
   "execution_count": 12,
   "id": "22b600cc",
   "metadata": {},
   "outputs": [],
   "source": [
    "import joblib"
   ]
  },
  {
   "cell_type": "code",
   "execution_count": 13,
   "id": "c07fae1e",
   "metadata": {},
   "outputs": [
    {
     "data": {
      "text/plain": [
       "['best_mnist_classifier.pkl']"
      ]
     },
     "execution_count": 13,
     "metadata": {},
     "output_type": "execute_result"
    }
   ],
   "source": [
    "joblib.dump(best_cls, \"best_mnist_classifier.pkl\")"
   ]
  },
  {
   "cell_type": "code",
   "execution_count": 15,
   "id": "f29d34ee",
   "metadata": {},
   "outputs": [],
   "source": [
    "my_model_loaded = joblib.load(\"best_mnist_classifier.pkl\")"
   ]
  },
  {
   "cell_type": "code",
   "execution_count": 18,
   "id": "f8af4c8d",
   "metadata": {},
   "outputs": [],
   "source": [
    "mnist = fetch_openml('mnist_784', version=1, as_frame=False)\n",
    "X_train, y_train, X_test, y_test = X[:60000], y[:60000], X[60000:], y[60000:]"
   ]
  },
  {
   "cell_type": "code",
   "execution_count": null,
   "id": "492c7cc9",
   "metadata": {},
   "outputs": [],
   "source": [
    "import matplotlib.pyplot as plt\n"
   ]
  }
 ],
 "metadata": {
  "kernelspec": {
   "display_name": "Python 3 (ipykernel)",
   "language": "python",
   "name": "python3"
  },
  "language_info": {
   "codemirror_mode": {
    "name": "ipython",
    "version": 3
   },
   "file_extension": ".py",
   "mimetype": "text/x-python",
   "name": "python",
   "nbconvert_exporter": "python",
   "pygments_lexer": "ipython3",
   "version": "3.8.12"
  }
 },
 "nbformat": 4,
 "nbformat_minor": 5
}
