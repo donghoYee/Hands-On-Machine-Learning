{
 "cells": [
  {
   "cell_type": "code",
   "execution_count": 2,
   "id": "93e56441",
   "metadata": {},
   "outputs": [],
   "source": [
    "import numpy as np\n",
    "X = np.random.randn(10,10)"
   ]
  },
  {
   "cell_type": "code",
   "execution_count": 3,
   "id": "d6df1cc1",
   "metadata": {},
   "outputs": [],
   "source": [
    "X_centered = X - X.mean(axis=0)\n",
    "U, s, Vt = np.linalg.svd(X_centered)\n",
    "c1 = Vt.T[:, 0]\n",
    "c2 = Vt.T[:, 1]"
   ]
  },
  {
   "cell_type": "code",
   "execution_count": 4,
   "id": "3703c494",
   "metadata": {},
   "outputs": [
    {
     "name": "stdout",
     "output_type": "stream",
     "text": [
      "[-0.32119705 -0.31731903 -0.27507036  0.51952337 -0.1151772   0.0065587\n",
      "  0.39355882 -0.3717099   0.3209397   0.20299004] [ 0.21221938 -0.39736583  0.04937859  0.01579108 -0.450439    0.30671796\n",
      " -0.48779061 -0.19577142 -0.22232153  0.41438091]\n"
     ]
    }
   ],
   "source": [
    "print(c1, c2)"
   ]
  },
  {
   "cell_type": "code",
   "execution_count": 7,
   "id": "d43cfce7",
   "metadata": {},
   "outputs": [],
   "source": [
    "W2 = Vt.T[:, :2]\n",
    "X2D = X_centered.dot(W2)"
   ]
  },
  {
   "cell_type": "code",
   "execution_count": 8,
   "id": "e324133f",
   "metadata": {},
   "outputs": [
    {
     "data": {
      "text/plain": [
       "array([[ 0.7469998 ,  3.65239796],\n",
       "       [-1.57927644,  1.49909464],\n",
       "       [ 1.39689769, -0.838859  ],\n",
       "       [ 1.39414978,  0.18461678],\n",
       "       [ 0.01544044, -1.7471688 ],\n",
       "       [-0.98870707, -1.01822899],\n",
       "       [ 2.54172375, -1.20847601],\n",
       "       [-2.27645348, -0.74174499],\n",
       "       [ 1.0176857 ,  0.44192564],\n",
       "       [-2.26846018, -0.22355724]])"
      ]
     },
     "execution_count": 8,
     "metadata": {},
     "output_type": "execute_result"
    }
   ],
   "source": [
    "X2D"
   ]
  },
  {
   "cell_type": "code",
   "execution_count": 9,
   "id": "772e35f9",
   "metadata": {},
   "outputs": [
    {
     "name": "stdout",
     "output_type": "stream",
     "text": [
      "[[ 0.7469998   3.65239796]\n",
      " [-1.57927644  1.49909464]\n",
      " [ 1.39689769 -0.838859  ]\n",
      " [ 1.39414978  0.18461678]\n",
      " [ 0.01544044 -1.7471688 ]\n",
      " [-0.98870707 -1.01822899]\n",
      " [ 2.54172375 -1.20847601]\n",
      " [-2.27645348 -0.74174499]\n",
      " [ 1.0176857   0.44192564]\n",
      " [-2.26846018 -0.22355724]]\n"
     ]
    }
   ],
   "source": [
    "from sklearn.decomposition import PCA\n",
    "\n",
    "pca = PCA(n_components=2) #define a decomposition model! # why? train and test data should undergo the same method!! -> do not fit under test data!\n",
    "X2D2 = pca.fit_transform(X)\n",
    "print(X2D2)"
   ]
  },
  {
   "cell_type": "code",
   "execution_count": null,
   "id": "e175c2b7",
   "metadata": {},
   "outputs": [],
   "source": []
  }
 ],
 "metadata": {
  "kernelspec": {
   "display_name": "Python 3 (ipykernel)",
   "language": "python",
   "name": "python3"
  },
  "language_info": {
   "codemirror_mode": {
    "name": "ipython",
    "version": 3
   },
   "file_extension": ".py",
   "mimetype": "text/x-python",
   "name": "python",
   "nbconvert_exporter": "python",
   "pygments_lexer": "ipython3",
   "version": "3.8.12"
  }
 },
 "nbformat": 4,
 "nbformat_minor": 5
}
