{
 "cells": [
  {
   "cell_type": "code",
   "execution_count": 1,
   "id": "5c6c1463",
   "metadata": {},
   "outputs": [
    {
     "name": "stdout",
     "output_type": "stream",
     "text": [
      "dict_keys(['data', 'target', 'frame', 'categories', 'feature_names', 'target_names', 'DESCR', 'details', 'url'])\n"
     ]
    }
   ],
   "source": [
    "import time\n",
    "import numpy as np\n",
    "from sklearn.datasets import fetch_openml\n",
    "mnist = fetch_openml('mnist_784', version=1, as_frame=False) # as_frame=False -> do not returen pandas data -> return numpy!!\n",
    "print(mnist.keys())"
   ]
  },
  {
   "cell_type": "code",
   "execution_count": 2,
   "id": "35483afe",
   "metadata": {},
   "outputs": [],
   "source": [
    "X, y = mnist[\"data\"], mnist[\"target\"]\n",
    "X_train, X_test, y_train, y_test = X[:60000], X[60000:], y[:60000], y[60000:]"
   ]
  },
  {
   "cell_type": "code",
   "execution_count": 4,
   "id": "619a8f94",
   "metadata": {},
   "outputs": [
    {
     "name": "stdout",
     "output_type": "stream",
     "text": [
      "(10000,)\n"
     ]
    }
   ],
   "source": [
    "print(y_test.shape)"
   ]
  },
  {
   "cell_type": "code",
   "execution_count": 5,
   "id": "12beae2f",
   "metadata": {},
   "outputs": [
    {
     "name": "stdout",
     "output_type": "stream",
     "text": [
      "Not reduced elapsed time:  25.078826189041138\n",
      "accuracy:  0.9682\n"
     ]
    }
   ],
   "source": [
    "from sklearn.ensemble import RandomForestClassifier\n",
    "rnd_clf = RandomForestClassifier()\n",
    "past = time.time()\n",
    "rnd_clf.fit(X_train, y_train)\n",
    "now = time.time()\n",
    "print(\"Not reduced elapsed time: \", now - past)\n",
    "y_pred = rnd_clf.predict(X_test)\n",
    "from sklearn.metrics import accuracy_score\n",
    "print(\"accuracy: \", accuracy_score(y_test, y_pred))"
   ]
  },
  {
   "cell_type": "code",
   "execution_count": 6,
   "id": "54e40f01",
   "metadata": {},
   "outputs": [
    {
     "name": "stdout",
     "output_type": "stream",
     "text": [
      "Not reduced elapsed time:  67.42471170425415\n",
      "accuracy:  0.9479\n"
     ]
    }
   ],
   "source": [
    "\n",
    "from sklearn.decomposition import PCA\n",
    "from sklearn.pipeline import Pipeline\n",
    "\n",
    "reduced_rnd_clf_pipeline = Pipeline([\n",
    "    (\"pca\",PCA(n_components=0.95)),\n",
    "    (\"rnd_clf\", RandomForestClassifier()),\n",
    "])\n",
    "\n",
    "past = time.time()\n",
    "reduced_rnd_clf_pipeline.fit(X_train, y_train)\n",
    "now = time.time()\n",
    "\n",
    "print(\"Not reduced elapsed time: \", now - past)\n",
    "y_pred = reduced_rnd_clf_pipeline.predict(X_test)\n",
    "print(\"accuracy: \", accuracy_score(y_test, y_pred))\n",
    "\n",
    "\n"
   ]
  },
  {
   "cell_type": "code",
   "execution_count": null,
   "id": "a1a52021",
   "metadata": {},
   "outputs": [],
   "source": [
    "from sklearn.decomposition import\n"
   ]
  }
 ],
 "metadata": {
  "kernelspec": {
   "display_name": "Python 3 (ipykernel)",
   "language": "python",
   "name": "python3"
  },
  "language_info": {
   "codemirror_mode": {
    "name": "ipython",
    "version": 3
   },
   "file_extension": ".py",
   "mimetype": "text/x-python",
   "name": "python",
   "nbconvert_exporter": "python",
   "pygments_lexer": "ipython3",
   "version": "3.8.12"
  }
 },
 "nbformat": 4,
 "nbformat_minor": 5
}
