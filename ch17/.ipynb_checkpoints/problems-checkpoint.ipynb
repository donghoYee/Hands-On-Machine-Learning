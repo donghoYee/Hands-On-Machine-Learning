{
 "cells": [
  {
   "cell_type": "code",
   "execution_count": 1,
   "id": "25e8880f",
   "metadata": {},
   "outputs": [],
   "source": [
    "import tensorflow as tf\n",
    "from tensorflow import keras\n",
    "import numpy as np\n",
    "import matplotlib.pyplot as plt"
   ]
  },
  {
   "cell_type": "markdown",
   "id": "3d66a7e3",
   "metadata": {},
   "source": [
    "## 9.\n",
    "_연습문제: 잡음 제거 오토인코더를 사용해 이미지 분류기를 사전훈련해보세요. (간단하게) MNIST를 사용하거나 도전적인 문제를 원한다면 CIFAR10 같은 좀 더 복잡한 이미지 데이터셋을 사용할 수 있습니다. 어떤 데이터셋을 사용하던지 다음 단계를 따르세요._\n",
    "\n",
    "* 데이터셋을 훈련 세트와 테스트 세트로 나눕니다. 전체 훈련 세트에서 심층 잡음 제거 오토인코더를 훈련합니다.\n",
    "* 이미지가 잘 재구성되는 지 확인하세요. 코딩 층의 각 뉴런을 가장 크게 활성화하는 이미지를 시각화해보세요.\n",
    "* 이 오토인코더의 아래 층을 재사용해 분류 DNN을 만드세요. 훈련 세트에서 이미지 500개만 사용해 훈련합니다. 사전훈련을 사용하는 것이 더 나은가요? 사용하지 않는 것이 더 나은가요?"
   ]
  },
  {
   "cell_type": "code",
   "execution_count": 2,
   "id": "d19cd7e4",
   "metadata": {},
   "outputs": [],
   "source": [
    "[X_train, y_train], [X_test, y_test] = keras.datasets.cifar10.load_data()\n",
    "X_train = X_train / 255\n",
    "X_test = X_test / 255"
   ]
  },
  {
   "cell_type": "code",
   "execution_count": 3,
   "id": "61b677ad",
   "metadata": {},
   "outputs": [
    {
     "name": "stdout",
     "output_type": "stream",
     "text": [
      "(50000, 32, 32, 3)\n",
      "<class 'numpy.ndarray'>\n"
     ]
    }
   ],
   "source": [
    "print(X_train.shape)\n",
    "print(type(X_train))"
   ]
  },
  {
   "cell_type": "code",
   "execution_count": 4,
   "id": "f54fe57c",
   "metadata": {},
   "outputs": [
    {
     "data": {
      "text/plain": [
       "<matplotlib.image.AxesImage at 0x7f609778e230>"
      ]
     },
     "execution_count": 4,
     "metadata": {},
     "output_type": "execute_result"
    },
    {
     "data": {
      "image/png": "[encoded data removed]",
      "text/plain": [
       "<Figure size 432x288 with 1 Axes>"
      ]
     },
     "metadata": {
      "needs_background": "light"
     },
     "output_type": "display_data"
    }
   ],
   "source": [
    "plt.imshow(X_train[2])"
   ]
  },
  {
   "cell_type": "code",
   "execution_count": 5,
   "id": "6f5e4db6",
   "metadata": {},
   "outputs": [
    {
     "name": "stderr",
     "output_type": "stream",
     "text": [
      "2022-08-12 00:37:09.173586: I tensorflow/stream_executor/cuda/cuda_gpu_executor.cc:936] successful NUMA node read from SysFS had negative value (-1), but there must be at least one NUMA node, so returning NUMA node zero\n",
      "2022-08-12 00:37:09.198563: I tensorflow/stream_executor/cuda/cuda_gpu_executor.cc:936] successful NUMA node read from SysFS had negative value (-1), but there must be at least one NUMA node, so returning NUMA node zero\n",
      "2022-08-12 00:37:09.198723: I tensorflow/stream_executor/cuda/cuda_gpu_executor.cc:936] successful NUMA node read from SysFS had negative value (-1), but there must be at least one NUMA node, so returning NUMA node zero\n",
      "2022-08-12 00:37:09.199160: I tensorflow/core/platform/cpu_feature_guard.cc:151] This TensorFlow binary is optimized with oneAPI Deep Neural Network Library (oneDNN) to use the following CPU instructions in performance-critical operations:  AVX2 FMA\n",
      "To enable them in other operations, rebuild TensorFlow with the appropriate compiler flags.\n",
      "2022-08-12 00:37:09.199543: I tensorflow/stream_executor/cuda/cuda_gpu_executor.cc:936] successful NUMA node read from SysFS had negative value (-1), but there must be at least one NUMA node, so returning NUMA node zero\n",
      "2022-08-12 00:37:09.199684: I tensorflow/stream_executor/cuda/cuda_gpu_executor.cc:936] successful NUMA node read from SysFS had negative value (-1), but there must be at least one NUMA node, so returning NUMA node zero\n",
      "2022-08-12 00:37:09.199808: I tensorflow/stream_executor/cuda/cuda_gpu_executor.cc:936] successful NUMA node read from SysFS had negative value (-1), but there must be at least one NUMA node, so returning NUMA node zero\n",
      "2022-08-12 00:37:09.516041: I tensorflow/stream_executor/cuda/cuda_gpu_executor.cc:936] successful NUMA node read from SysFS had negative value (-1), but there must be at least one NUMA node, so returning NUMA node zero\n",
      "2022-08-12 00:37:09.516209: I tensorflow/stream_executor/cuda/cuda_gpu_executor.cc:936] successful NUMA node read from SysFS had negative value (-1), but there must be at least one NUMA node, so returning NUMA node zero\n",
      "2022-08-12 00:37:09.516338: I tensorflow/stream_executor/cuda/cuda_gpu_executor.cc:936] successful NUMA node read from SysFS had negative value (-1), but there must be at least one NUMA node, so returning NUMA node zero\n",
      "2022-08-12 00:37:09.516444: I tensorflow/core/common_runtime/gpu/gpu_device.cc:1525] Created device /job:localhost/replica:0/task:0/device:GPU:0 with 1250 MB memory:  -> device: 0, name: NVIDIA GeForce GTX 1070, pci bus id: 0000:01:00.0, compute capability: 6.1\n"
     ]
    }
   ],
   "source": [
    "coding_size = 64\n",
    "\n",
    "encoder = keras.models.Sequential([\n",
    "    keras.layers.GaussianNoise(0.1, input_shape=[32, 32, 3]), # adds gausian noise\n",
    "    keras.layers.Conv2D(16, kernel_size=3, padding=\"same\", activation=\"relu\"),\n",
    "    keras.layers.MaxPool2D(strides=2),\n",
    "    keras.layers.Flatten(),\n",
    "    keras.layers.Dense(coding_size, activation=\"relu\"),\n",
    "])"
   ]
  },
  {
   "cell_type": "code",
   "execution_count": 6,
   "id": "21ed995a",
   "metadata": {},
   "outputs": [
    {
     "name": "stdout",
     "output_type": "stream",
     "text": [
      "Model: \"sequential\"\n",
      "_________________________________________________________________\n",
      " Layer (type)                Output Shape              Param #   \n",
      "=================================================================\n",
      " gaussian_noise (GaussianNoi  (None, 32, 32, 3)        0         \n",
      " se)                                                             \n",
      "                                                                 \n",
      " conv2d (Conv2D)             (None, 32, 32, 16)        448       \n",
      "                                                                 \n",
      " max_pooling2d (MaxPooling2D  (None, 16, 16, 16)       0         \n",
      " )                                                               \n",
      "                                                                 \n",
      " flatten (Flatten)           (None, 4096)              0         \n",
      "                                                                 \n",
      " dense (Dense)               (None, 64)                262208    \n",
      "                                                                 \n",
      "=================================================================\n",
      "Total params: 262,656\n",
      "Trainable params: 262,656\n",
      "Non-trainable params: 0\n",
      "_________________________________________________________________\n"
     ]
    }
   ],
   "source": [
    "encoder.summary()"
   ]
  },
  {
   "cell_type": "code",
   "execution_count": 7,
   "id": "c8dc0dc1",
   "metadata": {},
   "outputs": [],
   "source": [
    "decoder = keras.models.Sequential([\n",
    "    keras.layers.Dense(16*16*16, activation=\"relu\", input_shape=[coding_size]),\n",
    "    keras.layers.Reshape([16, 16, 16]),\n",
    "    keras.layers.Conv2DTranspose(filters=3, kernel_size=3, strides=2,\n",
    "                                 padding=\"same\", activation=\"sigmoid\")\n",
    "])"
   ]
  },
  {
   "cell_type": "code",
   "execution_count": 8,
   "id": "028287f3",
   "metadata": {},
   "outputs": [
    {
     "name": "stdout",
     "output_type": "stream",
     "text": [
      "Model: \"sequential_1\"\n",
      "_________________________________________________________________\n",
      " Layer (type)                Output Shape              Param #   \n",
      "=================================================================\n",
      " dense_1 (Dense)             (None, 4096)              266240    \n",
      "                                                                 \n",
      " reshape (Reshape)           (None, 16, 16, 16)        0         \n",
      "                                                                 \n",
      " conv2d_transpose (Conv2DTra  (None, 32, 32, 3)        435       \n",
      " nspose)                                                         \n",
      "                                                                 \n",
      "=================================================================\n",
      "Total params: 266,675\n",
      "Trainable params: 266,675\n",
      "Non-trainable params: 0\n",
      "_________________________________________________________________\n"
     ]
    }
   ],
   "source": [
    "decoder.summary()"
   ]
  },
  {
   "cell_type": "code",
   "execution_count": 9,
   "id": "a64289dd",
   "metadata": {},
   "outputs": [],
   "source": [
    "denoising_ae = keras.models.Sequential([encoder, decoder])"
   ]
  },
  {
   "cell_type": "code",
   "execution_count": 10,
   "id": "4d6cc509",
   "metadata": {},
   "outputs": [
    {
     "name": "stdout",
     "output_type": "stream",
     "text": [
      "Model: \"sequential_2\"\n",
      "_________________________________________________________________\n",
      " Layer (type)                Output Shape              Param #   \n",
      "=================================================================\n",
      " sequential (Sequential)     (None, 64)                262656    \n",
      "                                                                 \n",
      " sequential_1 (Sequential)   (None, 32, 32, 3)         266675    \n",
      "                                                                 \n",
      "=================================================================\n",
      "Total params: 529,331\n",
      "Trainable params: 529,331\n",
      "Non-trainable params: 0\n",
      "_________________________________________________________________\n"
     ]
    }
   ],
   "source": [
    "denoising_ae.summary()"
   ]
  },
  {
   "cell_type": "code",
   "execution_count": 11,
   "id": "9cdce5fb",
   "metadata": {},
   "outputs": [],
   "source": [
    "denoising_ae.compile(loss=\"binary_crossentropy\", optimizer=\"nadam\", metrics=[\"mse\"])"
   ]
  },
  {
   "cell_type": "code",
   "execution_count": 12,
   "id": "9432b402",
   "metadata": {},
   "outputs": [
    {
     "name": "stderr",
     "output_type": "stream",
     "text": [
      "2022-08-12 00:37:09.891522: W tensorflow/core/framework/cpu_allocator_impl.cc:82] Allocation of 614400000 exceeds 10% of free system memory.\n",
      "2022-08-12 00:37:10.307897: W tensorflow/core/framework/cpu_allocator_impl.cc:82] Allocation of 614400000 exceeds 10% of free system memory.\n",
      "2022-08-12 00:37:10.480328: W tensorflow/core/framework/cpu_allocator_impl.cc:82] Allocation of 614400000 exceeds 10% of free system memory.\n",
      "2022-08-12 00:37:10.592253: W tensorflow/core/framework/cpu_allocator_impl.cc:82] Allocation of 614400000 exceeds 10% of free system memory.\n"
     ]
    },
    {
     "name": "stdout",
     "output_type": "stream",
     "text": [
      "Epoch 1/10\n"
     ]
    },
    {
     "name": "stderr",
     "output_type": "stream",
     "text": [
      "2022-08-12 00:37:20.845504: W tensorflow/core/common_runtime/bfc_allocator.cc:462] Allocator (GPU_0_bfc) ran out of memory trying to allocate 1.00MiB (rounded to 1048576)requested by op Fill\n",
      "If the cause is memory fragmentation maybe the environment variable 'TF_GPU_ALLOCATOR=cuda_malloc_async' will improve the situation. \n",
      "Current allocation summary follows.\n",
      "Current allocation summary follows.\n",
      "2022-08-12 00:37:20.845572: I tensorflow/core/common_runtime/bfc_allocator.cc:1010] BFCAllocator dump for GPU_0_bfc\n",
      "2022-08-12 00:37:20.845607: I tensorflow/core/common_runtime/bfc_allocator.cc:1017] Bin (256): \tTotal Chunks: 24, Chunks in use: 24. 6.0KiB allocated for chunks. 6.0KiB in use in bin. 748B client-requested in use in bin.\n",
      "2022-08-12 00:37:20.845634: I tensorflow/core/common_runtime/bfc_allocator.cc:1017] Bin (512): \tTotal Chunks: 1, Chunks in use: 0. 512B allocated for chunks. 0B in use in bin. 0B client-requested in use in bin.\n",
      "2022-08-12 00:37:20.845658: I tensorflow/core/common_runtime/bfc_allocator.cc:1017] Bin (1024): \tTotal Chunks: 4, Chunks in use: 4. 6.5KiB allocated for chunks. 6.5KiB in use in bin. 6.1KiB client-requested in use in bin.\n",
      "2022-08-12 00:37:20.845679: I tensorflow/core/common_runtime/bfc_allocator.cc:1017] Bin (2048): \tTotal Chunks: 0, Chunks in use: 0. 0B allocated for chunks. 0B in use in bin. 0B client-requested in use in bin.\n",
      "2022-08-12 00:37:20.845700: I tensorflow/core/common_runtime/bfc_allocator.cc:1017] Bin (4096): \tTotal Chunks: 0, Chunks in use: 0. 0B allocated for chunks. 0B in use in bin. 0B client-requested in use in bin.\n",
      "2022-08-12 00:37:20.845721: I tensorflow/core/common_runtime/bfc_allocator.cc:1017] Bin (8192): \tTotal Chunks: 0, Chunks in use: 0. 0B allocated for chunks. 0B in use in bin. 0B client-requested in use in bin.\n",
      "2022-08-12 00:37:20.845747: I tensorflow/core/common_runtime/bfc_allocator.cc:1017] Bin (16384): \tTotal Chunks: 1, Chunks in use: 1. 16.0KiB allocated for chunks. 16.0KiB in use in bin. 16.0KiB client-requested in use in bin.\n",
      "2022-08-12 00:37:20.845769: I tensorflow/core/common_runtime/bfc_allocator.cc:1017] Bin (32768): \tTotal Chunks: 0, Chunks in use: 0. 0B allocated for chunks. 0B in use in bin. 0B client-requested in use in bin.\n",
      "2022-08-12 00:37:20.845790: I tensorflow/core/common_runtime/bfc_allocator.cc:1017] Bin (65536): \tTotal Chunks: 0, Chunks in use: 0. 0B allocated for chunks. 0B in use in bin. 0B client-requested in use in bin.\n",
      "2022-08-12 00:37:20.845810: I tensorflow/core/common_runtime/bfc_allocator.cc:1017] Bin (131072): \tTotal Chunks: 0, Chunks in use: 0. 0B allocated for chunks. 0B in use in bin. 0B client-requested in use in bin.\n",
      "2022-08-12 00:37:20.845831: I tensorflow/core/common_runtime/bfc_allocator.cc:1017] Bin (262144): \tTotal Chunks: 0, Chunks in use: 0. 0B allocated for chunks. 0B in use in bin. 0B client-requested in use in bin.\n",
      "2022-08-12 00:37:20.845852: I tensorflow/core/common_runtime/bfc_allocator.cc:1017] Bin (524288): \tTotal Chunks: 0, Chunks in use: 0. 0B allocated for chunks. 0B in use in bin. 0B client-requested in use in bin.\n",
      "2022-08-12 00:37:20.845879: I tensorflow/core/common_runtime/bfc_allocator.cc:1017] Bin (1048576): \tTotal Chunks: 3, Chunks in use: 3. 3.98MiB allocated for chunks. 3.98MiB in use in bin. 3.00MiB client-requested in use in bin.\n",
      "2022-08-12 00:37:20.845913: I tensorflow/core/common_runtime/bfc_allocator.cc:1017] Bin (2097152): \tTotal Chunks: 0, Chunks in use: 0. 0B allocated for chunks. 0B in use in bin. 0B client-requested in use in bin.\n",
      "2022-08-12 00:37:20.845950: I tensorflow/core/common_runtime/bfc_allocator.cc:1017] Bin (4194304): \tTotal Chunks: 0, Chunks in use: 0. 0B allocated for chunks. 0B in use in bin. 0B client-requested in use in bin.\n",
      "2022-08-12 00:37:20.845985: I tensorflow/core/common_runtime/bfc_allocator.cc:1017] Bin (8388608): \tTotal Chunks: 0, Chunks in use: 0. 0B allocated for chunks. 0B in use in bin. 0B client-requested in use in bin.\n",
      "2022-08-12 00:37:20.846021: I tensorflow/core/common_runtime/bfc_allocator.cc:1017] Bin (16777216): \tTotal Chunks: 0, Chunks in use: 0. 0B allocated for chunks. 0B in use in bin. 0B client-requested in use in bin.\n",
      "2022-08-12 00:37:20.846057: I tensorflow/core/common_runtime/bfc_allocator.cc:1017] Bin (33554432): \tTotal Chunks: 0, Chunks in use: 0. 0B allocated for chunks. 0B in use in bin. 0B client-requested in use in bin.\n",
      "2022-08-12 00:37:20.846093: I tensorflow/core/common_runtime/bfc_allocator.cc:1017] Bin (67108864): \tTotal Chunks: 0, Chunks in use: 0. 0B allocated for chunks. 0B in use in bin. 0B client-requested in use in bin.\n",
      "2022-08-12 00:37:20.846129: I tensorflow/core/common_runtime/bfc_allocator.cc:1017] Bin (134217728): \tTotal Chunks: 0, Chunks in use: 0. 0B allocated for chunks. 0B in use in bin. 0B client-requested in use in bin.\n",
      "2022-08-12 00:37:20.846199: I tensorflow/core/common_runtime/bfc_allocator.cc:1017] Bin (268435456): \tTotal Chunks: 2, Chunks in use: 2. 1.22GiB allocated for chunks. 1.22GiB in use in bin. 1.14GiB client-requested in use in bin.\n",
      "2022-08-12 00:37:20.846242: I tensorflow/core/common_runtime/bfc_allocator.cc:1033] Bin for 1.00MiB was 1.00MiB, Chunk State: \n",
      "2022-08-12 00:37:20.846271: I tensorflow/core/common_runtime/bfc_allocator.cc:1046] Next region of size 1311244288\n",
      "2022-08-12 00:37:20.846307: I tensorflow/core/common_runtime/bfc_allocator.cc:1066] InUse at 7f5ef4000000 of size 256 next 1\n",
      "2022-08-12 00:37:20.846335: I tensorflow/core/common_runtime/bfc_allocator.cc:1066] InUse at 7f5ef4000100 of size 1280 next 2\n",
      "2022-08-12 00:37:20.846364: I tensorflow/core/common_runtime/bfc_allocator.cc:1066] InUse at 7f5ef4000600 of size 256 next 3\n",
      "2022-08-12 00:37:20.846395: I tensorflow/core/common_runtime/bfc_allocator.cc:1066] InUse at 7f5ef4000700 of size 256 next 4\n",
      "2022-08-12 00:37:20.846427: I tensorflow/core/common_runtime/bfc_allocator.cc:1066] InUse at 7f5ef4000800 of size 256 next 5\n",
      "2022-08-12 00:37:20.846456: I tensorflow/core/common_runtime/bfc_allocator.cc:1066] InUse at 7f5ef4000900 of size 256 next 6\n",
      "2022-08-12 00:37:20.846485: I tensorflow/core/common_runtime/bfc_allocator.cc:1066] InUse at 7f5ef4000a00 of size 256 next 9\n",
      "2022-08-12 00:37:20.846514: I tensorflow/core/common_runtime/bfc_allocator.cc:1066] InUse at 7f5ef4000b00 of size 256 next 10\n",
      "2022-08-12 00:37:20.846542: I tensorflow/core/common_runtime/bfc_allocator.cc:1066] InUse at 7f5ef4000c00 of size 256 next 11\n",
      "2022-08-12 00:37:20.846571: I tensorflow/core/common_runtime/bfc_allocator.cc:1066] InUse at 7f5ef4000d00 of size 256 next 26\n",
      "2022-08-12 00:37:20.846600: I tensorflow/core/common_runtime/bfc_allocator.cc:1066] InUse at 7f5ef4000e00 of size 256 next 27\n",
      "2022-08-12 00:37:20.846628: I tensorflow/core/common_runtime/bfc_allocator.cc:1066] InUse at 7f5ef4000f00 of size 256 next 28\n",
      "2022-08-12 00:37:20.846656: I tensorflow/core/common_runtime/bfc_allocator.cc:1066] InUse at 7f5ef4001000 of size 256 next 29\n",
      "2022-08-12 00:37:20.846684: I tensorflow/core/common_runtime/bfc_allocator.cc:1066] InUse at 7f5ef4001100 of size 256 next 30\n",
      "2022-08-12 00:37:20.846712: I tensorflow/core/common_runtime/bfc_allocator.cc:1066] InUse at 7f5ef4001200 of size 256 next 31\n",
      "2022-08-12 00:37:20.846740: I tensorflow/core/common_runtime/bfc_allocator.cc:1066] InUse at 7f5ef4001300 of size 256 next 33\n",
      "2022-08-12 00:37:20.846768: I tensorflow/core/common_runtime/bfc_allocator.cc:1066] InUse at 7f5ef4001400 of size 256 next 34\n",
      "2022-08-12 00:37:20.846800: I tensorflow/core/common_runtime/bfc_allocator.cc:1066] Free  at 7f5ef4001500 of size 512 next 7\n",
      "2022-08-12 00:37:20.846832: I tensorflow/core/common_runtime/bfc_allocator.cc:1066] InUse at 7f5ef4001700 of size 1792 next 8\n",
      "2022-08-12 00:37:20.846863: I tensorflow/core/common_runtime/bfc_allocator.cc:1066] InUse at 7f5ef4001e00 of size 16384 next 14\n",
      "2022-08-12 00:37:20.846892: I tensorflow/core/common_runtime/bfc_allocator.cc:1066] InUse at 7f5ef4005e00 of size 256 next 16\n",
      "2022-08-12 00:37:20.846920: I tensorflow/core/common_runtime/bfc_allocator.cc:1066] InUse at 7f5ef4005f00 of size 256 next 19\n",
      "2022-08-12 00:37:20.846948: I tensorflow/core/common_runtime/bfc_allocator.cc:1066] InUse at 7f5ef4006000 of size 256 next 20\n",
      "2022-08-12 00:37:20.846977: I tensorflow/core/common_runtime/bfc_allocator.cc:1066] InUse at 7f5ef4006100 of size 256 next 21\n",
      "2022-08-12 00:37:20.847010: I tensorflow/core/common_runtime/bfc_allocator.cc:1066] InUse at 7f5ef4006200 of size 256 next 23\n",
      "2022-08-12 00:37:20.847039: I tensorflow/core/common_runtime/bfc_allocator.cc:1066] InUse at 7f5ef4006300 of size 256 next 24\n",
      "2022-08-12 00:37:20.847067: I tensorflow/core/common_runtime/bfc_allocator.cc:1066] InUse at 7f5ef4006400 of size 256 next 25\n",
      "2022-08-12 00:37:20.847095: I tensorflow/core/common_runtime/bfc_allocator.cc:1066] InUse at 7f5ef4006500 of size 256 next 17\n",
      "2022-08-12 00:37:20.847124: I tensorflow/core/common_runtime/bfc_allocator.cc:1066] InUse at 7f5ef4006600 of size 1792 next 18\n",
      "2022-08-12 00:37:20.847152: I tensorflow/core/common_runtime/bfc_allocator.cc:1066] InUse at 7f5ef4006d00 of size 1792 next 32\n",
      "2022-08-12 00:37:20.847182: I tensorflow/core/common_runtime/bfc_allocator.cc:1066] InUse at 7f5ef4007400 of size 2075136 next 13\n",
      "2022-08-12 00:37:20.847213: I tensorflow/core/common_runtime/bfc_allocator.cc:1066] InUse at 7f5ef4201e00 of size 1048576 next 12\n",
      "2022-08-12 00:37:20.847250: I tensorflow/core/common_runtime/bfc_allocator.cc:1066] InUse at 7f5ef4301e00 of size 1048576 next 15\n",
      "2022-08-12 00:37:20.847280: I tensorflow/core/common_runtime/bfc_allocator.cc:1066] InUse at 7f5ef4401e00 of size 614400000 next 22\n",
      "2022-08-12 00:37:20.847326: I tensorflow/core/common_runtime/bfc_allocator.cc:1066] InUse at 7f5f18df1e00 of size 692642304 next 18446744073709551615\n",
      "2022-08-12 00:37:20.847360: I tensorflow/core/common_runtime/bfc_allocator.cc:1071]      Summary of in-use Chunks by size: \n",
      "2022-08-12 00:37:20.847399: I tensorflow/core/common_runtime/bfc_allocator.cc:1074] 24 Chunks of size 256 totalling 6.0KiB\n",
      "2022-08-12 00:37:20.847432: I tensorflow/core/common_runtime/bfc_allocator.cc:1074] 1 Chunks of size 1280 totalling 1.2KiB\n",
      "2022-08-12 00:37:20.847464: I tensorflow/core/common_runtime/bfc_allocator.cc:1074] 3 Chunks of size 1792 totalling 5.2KiB\n",
      "2022-08-12 00:37:20.847504: I tensorflow/core/common_runtime/bfc_allocator.cc:1074] 1 Chunks of size 16384 totalling 16.0KiB\n",
      "2022-08-12 00:37:20.847538: I tensorflow/core/common_runtime/bfc_allocator.cc:1074] 2 Chunks of size 1048576 totalling 2.00MiB\n",
      "2022-08-12 00:37:20.847570: I tensorflow/core/common_runtime/bfc_allocator.cc:1074] 1 Chunks of size 2075136 totalling 1.98MiB\n",
      "2022-08-12 00:37:20.847612: I tensorflow/core/common_runtime/bfc_allocator.cc:1074] 1 Chunks of size 614400000 totalling 585.94MiB\n",
      "2022-08-12 00:37:20.847648: I tensorflow/core/common_runtime/bfc_allocator.cc:1074] 1 Chunks of size 692642304 totalling 660.55MiB\n",
      "2022-08-12 00:37:20.847682: I tensorflow/core/common_runtime/bfc_allocator.cc:1078] Sum Total of in-use chunks: 1.22GiB\n",
      "2022-08-12 00:37:20.847714: I tensorflow/core/common_runtime/bfc_allocator.cc:1080] total_region_allocated_bytes_: 1311244288 memory_limit_: 1311244288 available bytes: 0 curr_region_allocation_bytes_: 2622488576\n",
      "2022-08-12 00:37:20.847765: I tensorflow/core/common_runtime/bfc_allocator.cc:1086] Stats: \n",
      "Limit:                      1311244288\n",
      "InUse:                      1311243776\n",
      "MaxInUse:                   1311243776\n",
      "NumAllocs:                          46\n",
      "MaxAllocSize:                692642304\n",
      "Reserved:                            0\n",
      "PeakReserved:                        0\n",
      "LargestFreeBlock:                    0\n",
      "\n",
      "2022-08-12 00:37:20.847813: W tensorflow/core/common_runtime/bfc_allocator.cc:474] ***********************************************************************************************xxxxx\n",
      "2022-08-12 00:37:20.847928: W tensorflow/core/framework/op_kernel.cc:1745] OP_REQUIRES failed at constant_op.cc:175 : RESOURCE_EXHAUSTED: OOM when allocating tensor with shape[64,4096] and type float on /job:localhost/replica:0/task:0/device:GPU:0 by allocator GPU_0_bfc\n"
     ]
    },
    {
     "ename": "ResourceExhaustedError",
     "evalue": "in user code:\n\n    File \"/home/dongho/.local/lib/python3.10/site-packages/keras/engine/training.py\", line 1021, in train_function  *\n        return step_function(self, iterator)\n    File \"/home/dongho/.local/lib/python3.10/site-packages/keras/engine/training.py\", line 1010, in step_function  **\n        outputs = model.distribute_strategy.run(run_step, args=(data,))\n    File \"/home/dongho/.local/lib/python3.10/site-packages/keras/engine/training.py\", line 1000, in run_step  **\n        outputs = model.train_step(data)\n    File \"/home/dongho/.local/lib/python3.10/site-packages/keras/engine/training.py\", line 863, in train_step\n        self.optimizer.minimize(loss, self.trainable_variables, tape=tape)\n    File \"/home/dongho/.local/lib/python3.10/site-packages/keras/optimizer_v2/optimizer_v2.py\", line 532, in minimize\n        return self.apply_gradients(grads_and_vars, name=name)\n    File \"/home/dongho/.local/lib/python3.10/site-packages/keras/optimizer_v2/optimizer_v2.py\", line 639, in apply_gradients\n        self._create_all_weights(var_list)\n    File \"/home/dongho/.local/lib/python3.10/site-packages/keras/optimizer_v2/optimizer_v2.py\", line 825, in _create_all_weights\n        self._create_slots(var_list)\n    File \"/home/dongho/.local/lib/python3.10/site-packages/keras/optimizer_v2/nadam.py\", line 95, in _create_slots\n        self.add_slot(var, 'm')\n    File \"/home/dongho/.local/lib/python3.10/site-packages/keras/optimizer_v2/optimizer_v2.py\", line 911, in add_slot\n        weight = tf.Variable(\n    File \"/home/dongho/.local/lib/python3.10/site-packages/keras/initializers/initializers_v2.py\", line 145, in __call__\n        return tf.zeros(shape, dtype)\n\n    ResourceExhaustedError: OOM when allocating tensor with shape[64,4096] and type float on /job:localhost/replica:0/task:0/device:GPU:0 by allocator GPU_0_bfc [Op:Fill]\n",
     "output_type": "error",
     "traceback": [
      "\u001b[0;31m---------------------------------------------------------------------------\u001b[0m",
      "\u001b[0;31mResourceExhaustedError\u001b[0m                    Traceback (most recent call last)",
      "Input \u001b[0;32mIn [12]\u001b[0m, in \u001b[0;36m<cell line: 5>\u001b[0;34m()\u001b[0m\n\u001b[1;32m      1\u001b[0m \u001b[38;5;66;03m#batch_size = 32\u001b[39;00m\n\u001b[1;32m      2\u001b[0m \u001b[38;5;66;03m#X_train = tf.data.Dataset.from_tensor_slices(X_train).batch(batch_size, drop_remainder=True).prefetch(1)\u001b[39;00m\n\u001b[1;32m      3\u001b[0m \u001b[38;5;66;03m#X_test = tf.data.Dataset.from_tensor_slices(X_test).batch(batch_size, drop_remainder=True).prefetch(1)\u001b[39;00m\n\u001b[0;32m----> 5\u001b[0m \u001b[43mdenoising_ae\u001b[49m\u001b[38;5;241;43m.\u001b[39;49m\u001b[43mfit\u001b[49m\u001b[43m(\u001b[49m\u001b[43mX_train\u001b[49m\u001b[43m,\u001b[49m\u001b[43m \u001b[49m\u001b[43mX_train\u001b[49m\u001b[43m,\u001b[49m\u001b[43m \u001b[49m\u001b[43mepochs\u001b[49m\u001b[38;5;241;43m=\u001b[39;49m\u001b[38;5;241;43m10\u001b[39;49m\u001b[43m,\u001b[49m\u001b[43m \u001b[49m\u001b[43mvalidation_data\u001b[49m\u001b[38;5;241;43m=\u001b[39;49m\u001b[43m(\u001b[49m\u001b[43mX_test\u001b[49m\u001b[43m,\u001b[49m\u001b[43m \u001b[49m\u001b[43mX_test\u001b[49m\u001b[43m)\u001b[49m\u001b[43m)\u001b[49m\n",
      "File \u001b[0;32m~/.local/lib/python3.10/site-packages/keras/utils/traceback_utils.py:67\u001b[0m, in \u001b[0;36mfilter_traceback.<locals>.error_handler\u001b[0;34m(*args, **kwargs)\u001b[0m\n\u001b[1;32m     65\u001b[0m \u001b[38;5;28;01mexcept\u001b[39;00m \u001b[38;5;167;01mException\u001b[39;00m \u001b[38;5;28;01mas\u001b[39;00m e:  \u001b[38;5;66;03m# pylint: disable=broad-except\u001b[39;00m\n\u001b[1;32m     66\u001b[0m   filtered_tb \u001b[38;5;241m=\u001b[39m _process_traceback_frames(e\u001b[38;5;241m.\u001b[39m__traceback__)\n\u001b[0;32m---> 67\u001b[0m   \u001b[38;5;28;01mraise\u001b[39;00m e\u001b[38;5;241m.\u001b[39mwith_traceback(filtered_tb) \u001b[38;5;28;01mfrom\u001b[39;00m \u001b[38;5;28mNone\u001b[39m\n\u001b[1;32m     68\u001b[0m \u001b[38;5;28;01mfinally\u001b[39;00m:\n\u001b[1;32m     69\u001b[0m   \u001b[38;5;28;01mdel\u001b[39;00m filtered_tb\n",
      "File \u001b[0;32m~/.local/lib/python3.10/site-packages/tensorflow/python/framework/func_graph.py:1147\u001b[0m, in \u001b[0;36mfunc_graph_from_py_func.<locals>.autograph_handler\u001b[0;34m(*args, **kwargs)\u001b[0m\n\u001b[1;32m   1145\u001b[0m \u001b[38;5;28;01mexcept\u001b[39;00m \u001b[38;5;167;01mException\u001b[39;00m \u001b[38;5;28;01mas\u001b[39;00m e:  \u001b[38;5;66;03m# pylint:disable=broad-except\u001b[39;00m\n\u001b[1;32m   1146\u001b[0m   \u001b[38;5;28;01mif\u001b[39;00m \u001b[38;5;28mhasattr\u001b[39m(e, \u001b[38;5;124m\"\u001b[39m\u001b[38;5;124mag_error_metadata\u001b[39m\u001b[38;5;124m\"\u001b[39m):\n\u001b[0;32m-> 1147\u001b[0m     \u001b[38;5;28;01mraise\u001b[39;00m e\u001b[38;5;241m.\u001b[39mag_error_metadata\u001b[38;5;241m.\u001b[39mto_exception(e)\n\u001b[1;32m   1148\u001b[0m   \u001b[38;5;28;01melse\u001b[39;00m:\n\u001b[1;32m   1149\u001b[0m     \u001b[38;5;28;01mraise\u001b[39;00m\n",
      "\u001b[0;31mResourceExhaustedError\u001b[0m: in user code:\n\n    File \"/home/dongho/.local/lib/python3.10/site-packages/keras/engine/training.py\", line 1021, in train_function  *\n        return step_function(self, iterator)\n    File \"/home/dongho/.local/lib/python3.10/site-packages/keras/engine/training.py\", line 1010, in step_function  **\n        outputs = model.distribute_strategy.run(run_step, args=(data,))\n    File \"/home/dongho/.local/lib/python3.10/site-packages/keras/engine/training.py\", line 1000, in run_step  **\n        outputs = model.train_step(data)\n    File \"/home/dongho/.local/lib/python3.10/site-packages/keras/engine/training.py\", line 863, in train_step\n        self.optimizer.minimize(loss, self.trainable_variables, tape=tape)\n    File \"/home/dongho/.local/lib/python3.10/site-packages/keras/optimizer_v2/optimizer_v2.py\", line 532, in minimize\n        return self.apply_gradients(grads_and_vars, name=name)\n    File \"/home/dongho/.local/lib/python3.10/site-packages/keras/optimizer_v2/optimizer_v2.py\", line 639, in apply_gradients\n        self._create_all_weights(var_list)\n    File \"/home/dongho/.local/lib/python3.10/site-packages/keras/optimizer_v2/optimizer_v2.py\", line 825, in _create_all_weights\n        self._create_slots(var_list)\n    File \"/home/dongho/.local/lib/python3.10/site-packages/keras/optimizer_v2/nadam.py\", line 95, in _create_slots\n        self.add_slot(var, 'm')\n    File \"/home/dongho/.local/lib/python3.10/site-packages/keras/optimizer_v2/optimizer_v2.py\", line 911, in add_slot\n        weight = tf.Variable(\n    File \"/home/dongho/.local/lib/python3.10/site-packages/keras/initializers/initializers_v2.py\", line 145, in __call__\n        return tf.zeros(shape, dtype)\n\n    ResourceExhaustedError: OOM when allocating tensor with shape[64,4096] and type float on /job:localhost/replica:0/task:0/device:GPU:0 by allocator GPU_0_bfc [Op:Fill]\n"
     ]
    }
   ],
   "source": [
    "#batch_size = 32\n",
    "#X_train = tf.data.Dataset.from_tensor_slices(X_train).batch(batch_size, drop_remainder=True).prefetch(1)\n",
    "#X_test = tf.data.Dataset.from_tensor_slices(X_test).batch(batch_size, drop_remainder=True).prefetch(1)\n",
    "\n",
    "denoising_ae.fit(X_train, X_train, epochs=10, validation_data=(X_test, X_test))"
   ]
  },
  {
   "cell_type": "code",
   "execution_count": 13,
   "id": "2c809b6f",
   "metadata": {},
   "outputs": [
    {
     "name": "stderr",
     "output_type": "stream",
     "text": [
      "2022-08-12 00:37:39.165998: W tensorflow/core/common_runtime/bfc_allocator.cc:462] Allocator (GPU_0_bfc) ran out of memory trying to allocate 60.0KiB (rounded to 61440)requested by op _EagerConst\n",
      "If the cause is memory fragmentation maybe the environment variable 'TF_GPU_ALLOCATOR=cuda_malloc_async' will improve the situation. \n",
      "Current allocation summary follows.\n",
      "Current allocation summary follows.\n",
      "2022-08-12 00:37:39.166017: I tensorflow/core/common_runtime/bfc_allocator.cc:1010] BFCAllocator dump for GPU_0_bfc\n",
      "2022-08-12 00:37:39.166026: I tensorflow/core/common_runtime/bfc_allocator.cc:1017] Bin (256): \tTotal Chunks: 24, Chunks in use: 24. 6.0KiB allocated for chunks. 6.0KiB in use in bin. 748B client-requested in use in bin.\n",
      "2022-08-12 00:37:39.166032: I tensorflow/core/common_runtime/bfc_allocator.cc:1017] Bin (512): \tTotal Chunks: 1, Chunks in use: 0. 512B allocated for chunks. 0B in use in bin. 0B client-requested in use in bin.\n",
      "2022-08-12 00:37:39.166037: I tensorflow/core/common_runtime/bfc_allocator.cc:1017] Bin (1024): \tTotal Chunks: 4, Chunks in use: 4. 6.5KiB allocated for chunks. 6.5KiB in use in bin. 6.1KiB client-requested in use in bin.\n",
      "2022-08-12 00:37:39.166041: I tensorflow/core/common_runtime/bfc_allocator.cc:1017] Bin (2048): \tTotal Chunks: 0, Chunks in use: 0. 0B allocated for chunks. 0B in use in bin. 0B client-requested in use in bin.\n",
      "2022-08-12 00:37:39.166046: I tensorflow/core/common_runtime/bfc_allocator.cc:1017] Bin (4096): \tTotal Chunks: 0, Chunks in use: 0. 0B allocated for chunks. 0B in use in bin. 0B client-requested in use in bin.\n",
      "2022-08-12 00:37:39.166050: I tensorflow/core/common_runtime/bfc_allocator.cc:1017] Bin (8192): \tTotal Chunks: 0, Chunks in use: 0. 0B allocated for chunks. 0B in use in bin. 0B client-requested in use in bin.\n",
      "2022-08-12 00:37:39.166056: I tensorflow/core/common_runtime/bfc_allocator.cc:1017] Bin (16384): \tTotal Chunks: 1, Chunks in use: 1. 16.0KiB allocated for chunks. 16.0KiB in use in bin. 16.0KiB client-requested in use in bin.\n",
      "2022-08-12 00:37:39.166060: I tensorflow/core/common_runtime/bfc_allocator.cc:1017] Bin (32768): \tTotal Chunks: 0, Chunks in use: 0. 0B allocated for chunks. 0B in use in bin. 0B client-requested in use in bin.\n",
      "2022-08-12 00:37:39.166065: I tensorflow/core/common_runtime/bfc_allocator.cc:1017] Bin (65536): \tTotal Chunks: 0, Chunks in use: 0. 0B allocated for chunks. 0B in use in bin. 0B client-requested in use in bin.\n",
      "2022-08-12 00:37:39.166069: I tensorflow/core/common_runtime/bfc_allocator.cc:1017] Bin (131072): \tTotal Chunks: 0, Chunks in use: 0. 0B allocated for chunks. 0B in use in bin. 0B client-requested in use in bin.\n",
      "2022-08-12 00:37:39.166073: I tensorflow/core/common_runtime/bfc_allocator.cc:1017] Bin (262144): \tTotal Chunks: 0, Chunks in use: 0. 0B allocated for chunks. 0B in use in bin. 0B client-requested in use in bin.\n",
      "2022-08-12 00:37:39.166077: I tensorflow/core/common_runtime/bfc_allocator.cc:1017] Bin (524288): \tTotal Chunks: 0, Chunks in use: 0. 0B allocated for chunks. 0B in use in bin. 0B client-requested in use in bin.\n",
      "2022-08-12 00:37:39.166082: I tensorflow/core/common_runtime/bfc_allocator.cc:1017] Bin (1048576): \tTotal Chunks: 3, Chunks in use: 3. 3.98MiB allocated for chunks. 3.98MiB in use in bin. 3.00MiB client-requested in use in bin.\n",
      "2022-08-12 00:37:39.166087: I tensorflow/core/common_runtime/bfc_allocator.cc:1017] Bin (2097152): \tTotal Chunks: 0, Chunks in use: 0. 0B allocated for chunks. 0B in use in bin. 0B client-requested in use in bin.\n",
      "2022-08-12 00:37:39.166091: I tensorflow/core/common_runtime/bfc_allocator.cc:1017] Bin (4194304): \tTotal Chunks: 0, Chunks in use: 0. 0B allocated for chunks. 0B in use in bin. 0B client-requested in use in bin.\n",
      "2022-08-12 00:37:39.166095: I tensorflow/core/common_runtime/bfc_allocator.cc:1017] Bin (8388608): \tTotal Chunks: 0, Chunks in use: 0. 0B allocated for chunks. 0B in use in bin. 0B client-requested in use in bin.\n",
      "2022-08-12 00:37:39.166100: I tensorflow/core/common_runtime/bfc_allocator.cc:1017] Bin (16777216): \tTotal Chunks: 0, Chunks in use: 0. 0B allocated for chunks. 0B in use in bin. 0B client-requested in use in bin.\n",
      "2022-08-12 00:37:39.166105: I tensorflow/core/common_runtime/bfc_allocator.cc:1017] Bin (33554432): \tTotal Chunks: 0, Chunks in use: 0. 0B allocated for chunks. 0B in use in bin. 0B client-requested in use in bin.\n",
      "2022-08-12 00:37:39.166110: I tensorflow/core/common_runtime/bfc_allocator.cc:1017] Bin (67108864): \tTotal Chunks: 0, Chunks in use: 0. 0B allocated for chunks. 0B in use in bin. 0B client-requested in use in bin.\n",
      "2022-08-12 00:37:39.166114: I tensorflow/core/common_runtime/bfc_allocator.cc:1017] Bin (134217728): \tTotal Chunks: 0, Chunks in use: 0. 0B allocated for chunks. 0B in use in bin. 0B client-requested in use in bin.\n",
      "2022-08-12 00:37:39.166119: I tensorflow/core/common_runtime/bfc_allocator.cc:1017] Bin (268435456): \tTotal Chunks: 2, Chunks in use: 2. 1.22GiB allocated for chunks. 1.22GiB in use in bin. 1.14GiB client-requested in use in bin.\n",
      "2022-08-12 00:37:39.166124: I tensorflow/core/common_runtime/bfc_allocator.cc:1033] Bin for 60.0KiB was 32.0KiB, Chunk State: \n",
      "2022-08-12 00:37:39.166128: I tensorflow/core/common_runtime/bfc_allocator.cc:1046] Next region of size 1311244288\n",
      "2022-08-12 00:37:39.166135: I tensorflow/core/common_runtime/bfc_allocator.cc:1066] InUse at 7f5ef4000000 of size 256 next 1\n",
      "2022-08-12 00:37:39.166139: I tensorflow/core/common_runtime/bfc_allocator.cc:1066] InUse at 7f5ef4000100 of size 1280 next 2\n",
      "2022-08-12 00:37:39.166142: I tensorflow/core/common_runtime/bfc_allocator.cc:1066] InUse at 7f5ef4000600 of size 256 next 3\n",
      "2022-08-12 00:37:39.166146: I tensorflow/core/common_runtime/bfc_allocator.cc:1066] InUse at 7f5ef4000700 of size 256 next 4\n",
      "2022-08-12 00:37:39.166149: I tensorflow/core/common_runtime/bfc_allocator.cc:1066] InUse at 7f5ef4000800 of size 256 next 5\n",
      "2022-08-12 00:37:39.166153: I tensorflow/core/common_runtime/bfc_allocator.cc:1066] InUse at 7f5ef4000900 of size 256 next 6\n",
      "2022-08-12 00:37:39.166156: I tensorflow/core/common_runtime/bfc_allocator.cc:1066] InUse at 7f5ef4000a00 of size 256 next 9\n",
      "2022-08-12 00:37:39.166160: I tensorflow/core/common_runtime/bfc_allocator.cc:1066] InUse at 7f5ef4000b00 of size 256 next 10\n",
      "2022-08-12 00:37:39.166169: I tensorflow/core/common_runtime/bfc_allocator.cc:1066] InUse at 7f5ef4000c00 of size 256 next 11\n",
      "2022-08-12 00:37:39.166175: I tensorflow/core/common_runtime/bfc_allocator.cc:1066] InUse at 7f5ef4000d00 of size 256 next 26\n",
      "2022-08-12 00:37:39.166178: I tensorflow/core/common_runtime/bfc_allocator.cc:1066] InUse at 7f5ef4000e00 of size 256 next 27\n",
      "2022-08-12 00:37:39.166182: I tensorflow/core/common_runtime/bfc_allocator.cc:1066] InUse at 7f5ef4000f00 of size 256 next 28\n",
      "2022-08-12 00:37:39.166185: I tensorflow/core/common_runtime/bfc_allocator.cc:1066] InUse at 7f5ef4001000 of size 256 next 29\n",
      "2022-08-12 00:37:39.166189: I tensorflow/core/common_runtime/bfc_allocator.cc:1066] InUse at 7f5ef4001100 of size 256 next 30\n",
      "2022-08-12 00:37:39.166192: I tensorflow/core/common_runtime/bfc_allocator.cc:1066] InUse at 7f5ef4001200 of size 256 next 31\n",
      "2022-08-12 00:37:39.166195: I tensorflow/core/common_runtime/bfc_allocator.cc:1066] InUse at 7f5ef4001300 of size 256 next 33\n",
      "2022-08-12 00:37:39.166199: I tensorflow/core/common_runtime/bfc_allocator.cc:1066] InUse at 7f5ef4001400 of size 256 next 34\n",
      "2022-08-12 00:37:39.166202: I tensorflow/core/common_runtime/bfc_allocator.cc:1066] Free  at 7f5ef4001500 of size 512 next 7\n",
      "2022-08-12 00:37:39.166206: I tensorflow/core/common_runtime/bfc_allocator.cc:1066] InUse at 7f5ef4001700 of size 1792 next 8\n",
      "2022-08-12 00:37:39.166210: I tensorflow/core/common_runtime/bfc_allocator.cc:1066] InUse at 7f5ef4001e00 of size 16384 next 14\n",
      "2022-08-12 00:37:39.166213: I tensorflow/core/common_runtime/bfc_allocator.cc:1066] InUse at 7f5ef4005e00 of size 256 next 16\n",
      "2022-08-12 00:37:39.166217: I tensorflow/core/common_runtime/bfc_allocator.cc:1066] InUse at 7f5ef4005f00 of size 256 next 19\n",
      "2022-08-12 00:37:39.166220: I tensorflow/core/common_runtime/bfc_allocator.cc:1066] InUse at 7f5ef4006000 of size 256 next 20\n",
      "2022-08-12 00:37:39.166225: I tensorflow/core/common_runtime/bfc_allocator.cc:1066] InUse at 7f5ef4006100 of size 256 next 21\n",
      "2022-08-12 00:37:39.166228: I tensorflow/core/common_runtime/bfc_allocator.cc:1066] InUse at 7f5ef4006200 of size 256 next 23\n",
      "2022-08-12 00:37:39.166232: I tensorflow/core/common_runtime/bfc_allocator.cc:1066] InUse at 7f5ef4006300 of size 256 next 24\n",
      "2022-08-12 00:37:39.166235: I tensorflow/core/common_runtime/bfc_allocator.cc:1066] InUse at 7f5ef4006400 of size 256 next 25\n",
      "2022-08-12 00:37:39.166239: I tensorflow/core/common_runtime/bfc_allocator.cc:1066] InUse at 7f5ef4006500 of size 256 next 17\n",
      "2022-08-12 00:37:39.166242: I tensorflow/core/common_runtime/bfc_allocator.cc:1066] InUse at 7f5ef4006600 of size 1792 next 18\n",
      "2022-08-12 00:37:39.166246: I tensorflow/core/common_runtime/bfc_all"
     ]
    },
    {
     "ename": "InternalError",
     "evalue": "Failed copying input tensor from /job:localhost/replica:0/task:0/device:CPU:0 to /job:localhost/replica:0/task:0/device:GPU:0 in order to run _EagerConst: Dst tensor is not initialized.",
     "output_type": "error",
     "traceback": [
      "\u001b[0;31m---------------------------------------------------------------------------\u001b[0m",
      "\u001b[0;31mInternalError\u001b[0m                             Traceback (most recent call last)",
      "Input \u001b[0;32mIn [13]\u001b[0m, in \u001b[0;36m<cell line: 4>\u001b[0;34m()\u001b[0m\n\u001b[1;32m      2\u001b[0m new_images \u001b[38;5;241m=\u001b[39m X_test[:n_images]\n\u001b[1;32m      3\u001b[0m new_images_noisy \u001b[38;5;241m=\u001b[39m new_images \u001b[38;5;241m+\u001b[39m np\u001b[38;5;241m.\u001b[39mrandom\u001b[38;5;241m.\u001b[39mrandn(n_images, \u001b[38;5;241m32\u001b[39m, \u001b[38;5;241m32\u001b[39m, \u001b[38;5;241m3\u001b[39m) \u001b[38;5;241m*\u001b[39m \u001b[38;5;241m0.1\u001b[39m\n\u001b[0;32m----> 4\u001b[0m new_images_denoised \u001b[38;5;241m=\u001b[39m \u001b[43mdenoising_ae\u001b[49m\u001b[38;5;241;43m.\u001b[39;49m\u001b[43mpredict\u001b[49m\u001b[43m(\u001b[49m\u001b[43mnew_images_noisy\u001b[49m\u001b[43m)\u001b[49m\n\u001b[1;32m      6\u001b[0m plt\u001b[38;5;241m.\u001b[39mfigure(figsize\u001b[38;5;241m=\u001b[39m(\u001b[38;5;241m6\u001b[39m, n_images \u001b[38;5;241m*\u001b[39m \u001b[38;5;241m2\u001b[39m))\n\u001b[1;32m      7\u001b[0m \u001b[38;5;28;01mfor\u001b[39;00m index \u001b[38;5;129;01min\u001b[39;00m \u001b[38;5;28mrange\u001b[39m(n_images):\n",
      "File \u001b[0;32m~/.local/lib/python3.10/site-packages/keras/utils/traceback_utils.py:67\u001b[0m, in \u001b[0;36mfilter_traceback.<locals>.error_handler\u001b[0;34m(*args, **kwargs)\u001b[0m\n\u001b[1;32m     65\u001b[0m \u001b[38;5;28;01mexcept\u001b[39;00m \u001b[38;5;167;01mException\u001b[39;00m \u001b[38;5;28;01mas\u001b[39;00m e:  \u001b[38;5;66;03m# pylint: disable=broad-except\u001b[39;00m\n\u001b[1;32m     66\u001b[0m   filtered_tb \u001b[38;5;241m=\u001b[39m _process_traceback_frames(e\u001b[38;5;241m.\u001b[39m__traceback__)\n\u001b[0;32m---> 67\u001b[0m   \u001b[38;5;28;01mraise\u001b[39;00m e\u001b[38;5;241m.\u001b[39mwith_traceback(filtered_tb) \u001b[38;5;28;01mfrom\u001b[39;00m \u001b[38;5;28mNone\u001b[39m\n\u001b[1;32m     68\u001b[0m \u001b[38;5;28;01mfinally\u001b[39;00m:\n\u001b[1;32m     69\u001b[0m   \u001b[38;5;28;01mdel\u001b[39;00m filtered_tb\n",
      "File \u001b[0;32m~/.local/lib/python3.10/site-packages/tensorflow/python/framework/constant_op.py:102\u001b[0m, in \u001b[0;36mconvert_to_eager_tensor\u001b[0;34m(value, ctx, dtype)\u001b[0m\n\u001b[1;32m    100\u001b[0m     dtype \u001b[38;5;241m=\u001b[39m dtypes\u001b[38;5;241m.\u001b[39mas_dtype(dtype)\u001b[38;5;241m.\u001b[39mas_datatype_enum\n\u001b[1;32m    101\u001b[0m ctx\u001b[38;5;241m.\u001b[39mensure_initialized()\n\u001b[0;32m--> 102\u001b[0m \u001b[38;5;28;01mreturn\u001b[39;00m \u001b[43mops\u001b[49m\u001b[38;5;241;43m.\u001b[39;49m\u001b[43mEagerTensor\u001b[49m\u001b[43m(\u001b[49m\u001b[43mvalue\u001b[49m\u001b[43m,\u001b[49m\u001b[43m \u001b[49m\u001b[43mctx\u001b[49m\u001b[38;5;241;43m.\u001b[39;49m\u001b[43mdevice_name\u001b[49m\u001b[43m,\u001b[49m\u001b[43m \u001b[49m\u001b[43mdtype\u001b[49m\u001b[43m)\u001b[49m\n",
      "\u001b[0;31mInternalError\u001b[0m: Failed copying input tensor from /job:localhost/replica:0/task:0/device:CPU:0 to /job:localhost/replica:0/task:0/device:GPU:0 in order to run _EagerConst: Dst tensor is not initialized."
     ]
    },
    {
     "name": "stderr",
     "output_type": "stream",
     "text": [
      "ocator.cc:1066] InUse at 7f5ef4006d00 of size 1792 next 32\n",
      "2022-08-12 00:37:39.166250: I tensorflow/core/common_runtime/bfc_allocator.cc:1066] InUse at 7f5ef4007400 of size 2075136 next 13\n",
      "2022-08-12 00:37:39.166254: I tensorflow/core/common_runtime/bfc_allocator.cc:1066] InUse at 7f5ef4201e00 of size 1048576 next 12\n",
      "2022-08-12 00:37:39.166258: I tensorflow/core/common_runtime/bfc_allocator.cc:1066] InUse at 7f5ef4301e00 of size 1048576 next 15\n",
      "2022-08-12 00:37:39.166261: I tensorflow/core/common_runtime/bfc_allocator.cc:1066] InUse at 7f5ef4401e00 of size 614400000 next 22\n",
      "2022-08-12 00:37:39.166265: I tensorflow/core/common_runtime/bfc_allocator.cc:1066] InUse at 7f5f18df1e00 of size 692642304 next 18446744073709551615\n",
      "2022-08-12 00:37:39.166268: I tensorflow/core/common_runtime/bfc_allocator.cc:1071]      Summary of in-use Chunks by size: \n",
      "2022-08-12 00:37:39.166274: I tensorflow/core/common_runtime/bfc_allocator.cc:1074] 24 Chunks of size 256 totalling 6.0KiB\n",
      "2022-08-12 00:37:39.166278: I tensorflow/core/common_runtime/bfc_allocator.cc:1074] 1 Chunks of size 1280 totalling 1.2KiB\n",
      "2022-08-12 00:37:39.166282: I tensorflow/core/common_runtime/bfc_allocator.cc:1074] 3 Chunks of size 1792 totalling 5.2KiB\n",
      "2022-08-12 00:37:39.166286: I tensorflow/core/common_runtime/bfc_allocator.cc:1074] 1 Chunks of size 16384 totalling 16.0KiB\n",
      "2022-08-12 00:37:39.166290: I tensorflow/core/common_runtime/bfc_allocator.cc:1074] 2 Chunks of size 1048576 totalling 2.00MiB\n",
      "2022-08-12 00:37:39.166294: I tensorflow/core/common_runtime/bfc_allocator.cc:1074] 1 Chunks of size 2075136 totalling 1.98MiB\n",
      "2022-08-12 00:37:39.166298: I tensorflow/core/common_runtime/bfc_allocator.cc:1074] 1 Chunks of size 614400000 totalling 585.94MiB\n",
      "2022-08-12 00:37:39.166303: I tensorflow/core/common_runtime/bfc_allocator.cc:1074] 1 Chunks of size 692642304 totalling 660.55MiB\n",
      "2022-08-12 00:37:39.166307: I tensorflow/core/common_runtime/bfc_allocator.cc:1078] Sum Total of in-use chunks: 1.22GiB\n",
      "2022-08-12 00:37:39.166311: I tensorflow/core/common_runtime/bfc_allocator.cc:1080] total_region_allocated_bytes_: 1311244288 memory_limit_: 1311244288 available bytes: 0 curr_region_allocation_bytes_: 2622488576\n",
      "2022-08-12 00:37:39.166318: I tensorflow/core/common_runtime/bfc_allocator.cc:1086] Stats: \n",
      "Limit:                      1311244288\n",
      "InUse:                      1311243776\n",
      "MaxInUse:                   1311243776\n",
      "NumAllocs:                          46\n",
      "MaxAllocSize:                692642304\n",
      "Reserved:                            0\n",
      "PeakReserved:                        0\n",
      "LargestFreeBlock:                    0\n",
      "\n",
      "2022-08-12 00:37:39.166324: W tensorflow/core/common_runtime/bfc_allocator.cc:474] ***********************************************************************************************xxxxx\n"
     ]
    }
   ],
   "source": [
    "n_images = 5\n",
    "new_images = X_test[:n_images]\n",
    "new_images_noisy = new_images + np.random.randn(n_images, 32, 32, 3) * 0.1\n",
    "new_images_denoised = denoising_ae.predict(new_images_noisy)\n",
    "\n",
    "plt.figure(figsize=(6, n_images * 2))\n",
    "for index in range(n_images):\n",
    "    plt.subplot(n_images, 3, index * 3 + 1)\n",
    "    plt.imshow(new_images[index])\n",
    "    plt.axis('off')\n",
    "    if index == 0:\n",
    "        plt.title(\"Original\")\n",
    "    plt.subplot(n_images, 3, index * 3 + 2)\n",
    "    plt.imshow(np.clip(new_images_noisy[index], 0., 1.))\n",
    "    plt.axis('off')\n",
    "    if index == 0:\n",
    "        plt.title(\"Noisy\")\n",
    "    plt.subplot(n_images, 3, index * 3 + 3)\n",
    "    plt.imshow(new_images_denoised[index])\n",
    "    plt.axis('off')\n",
    "    if index == 0:\n",
    "        plt.title(\"Denoised\")\n",
    "plt.show()"
   ]
  },
  {
   "cell_type": "code",
   "execution_count": null,
   "id": "2be16edf",
   "metadata": {},
   "outputs": [],
   "source": []
  }
 ],
 "metadata": {
  "kernelspec": {
   "display_name": "Python [conda env:HOML]",
   "language": "python",
   "name": "conda-env-HOML-py"
  },
  "language_info": {
   "codemirror_mode": {
    "name": "ipython",
    "version": 3
   },
   "file_extension": ".py",
   "mimetype": "text/x-python",
   "name": "python",
   "nbconvert_exporter": "python",
   "pygments_lexer": "ipython3",
   "version": "3.10.3"
  }
 },
 "nbformat": 4,
 "nbformat_minor": 5
}
