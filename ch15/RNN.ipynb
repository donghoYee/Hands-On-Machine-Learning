{
 "cells": [
  {
   "cell_type": "markdown",
   "id": "df1ed9c9",
   "metadata": {},
   "source": [
    "# RNN"
   ]
  },
  {
   "cell_type": "code",
   "execution_count": 7,
   "id": "b2d80e16",
   "metadata": {},
   "outputs": [],
   "source": [
    "import numpy as np\n",
    "import tensorflow as tf\n",
    "from tensorflow import keras\n",
    "import matplotlib.pyplot as plt"
   ]
  },
  {
   "cell_type": "code",
   "execution_count": 5,
   "id": "8570d423",
   "metadata": {},
   "outputs": [],
   "source": [
    "def generate_time_series(batch_size, n_steps):\n",
    "    freq1, freq2, offsets1, offsets2 = np.random.rand(4, batch_size, 1)\n",
    "    time = np.linspace(0, 1, n_steps)\n",
    "    series = 0.5*np.sin((time-offsets1) * (freq1*10 + 10))\n",
    "    series += 0.2*np.sin((time-offsets2) * (freq2*20 + 20))\n",
    "    series += 0.1 * (np.random.rand(batch_size, n_steps) - 0.5)\n",
    "    return series[..., np.newaxis].astype(np.float32)"
   ]
  },
  {
   "cell_type": "code",
   "execution_count": 12,
   "id": "7eb97e36",
   "metadata": {},
   "outputs": [],
   "source": [
    "n_steps = 50\n",
    "series = generate_time_series(10000, n_steps + 1)\n",
    "X_train, y_train = series[:7000, :n_steps], series[:7000, -1] # 마지막 1개 예측!\n",
    "X_valid, y_valid = series[7000:9000, :n_steps], series[7000:9000, -1]\n",
    "X_test, y_test = series[9000:, :n_steps], series[9000:, -1]"
   ]
  },
  {
   "cell_type": "code",
   "execution_count": 13,
   "id": "894d1583",
   "metadata": {},
   "outputs": [
    {
     "data": {
      "text/plain": [
       "[<matplotlib.lines.Line2D at 0x7fbe55c7bdc0>]"
      ]
     },
     "execution_count": 13,
     "metadata": {},
     "output_type": "execute_result"
    },
    {
     "data": {
      "image/png": "[encoded data removed]",
      "text/plain": [
       "<Figure size 432x288 with 1 Axes>"
      ]
     },
     "metadata": {
      "needs_background": "light"
     },
     "output_type": "display_data"
    }
   ],
   "source": [
    "plt.plot(X_train[5])"
   ]
  },
  {
   "cell_type": "code",
   "execution_count": 15,
   "id": "ada9a67c",
   "metadata": {},
   "outputs": [
    {
     "name": "stdout",
     "output_type": "stream",
     "text": [
      "0.020257762\n"
     ]
    }
   ],
   "source": [
    "y_pred = X_valid[:,-1]\n",
    "print(np.mean(keras.losses.mean_squared_error(y_valid, y_pred)))"
   ]
  },
  {
   "cell_type": "code",
   "execution_count": 17,
   "id": "6a3d666a",
   "metadata": {},
   "outputs": [],
   "source": [
    "model = keras.models.Sequential([\n",
    "    keras.layers.Flatten(input_shape=[50,1]),\n",
    "    keras.layers.Dense(1)\n",
    "])"
   ]
  },
  {
   "cell_type": "code",
   "execution_count": 21,
   "id": "103d9856",
   "metadata": {},
   "outputs": [
    {
     "name": "stdout",
     "output_type": "stream",
     "text": [
      "Epoch 1/100\n",
      "219/219 [==============================] - 0s 797us/step - loss: 0.0046\n",
      "Epoch 2/100\n",
      "219/219 [==============================] - 0s 740us/step - loss: 0.0043\n",
      "Epoch 3/100\n",
      "219/219 [==============================] - 0s 704us/step - loss: 0.0041\n",
      "Epoch 4/100\n",
      "219/219 [==============================] - 0s 714us/step - loss: 0.0040\n",
      "Epoch 5/100\n",
      "219/219 [==============================] - 0s 741us/step - loss: 0.0039\n",
      "Epoch 6/100\n",
      "219/219 [==============================] - 0s 758us/step - loss: 0.0038\n",
      "Epoch 7/100\n",
      "219/219 [==============================] - 0s 764us/step - loss: 0.0037\n",
      "Epoch 8/100\n",
      "219/219 [==============================] - 0s 739us/step - loss: 0.0036\n",
      "Epoch 9/100\n",
      "219/219 [==============================] - 0s 732us/step - loss: 0.0036\n",
      "Epoch 10/100\n",
      "219/219 [==============================] - 0s 724us/step - loss: 0.0035\n",
      "Epoch 11/100\n",
      "219/219 [==============================] - 0s 728us/step - loss: 0.0035\n",
      "Epoch 12/100\n",
      "219/219 [==============================] - 0s 739us/step - loss: 0.0034\n",
      "Epoch 13/100\n",
      "219/219 [==============================] - 0s 753us/step - loss: 0.0034\n",
      "Epoch 14/100\n",
      "219/219 [==============================] - 0s 737us/step - loss: 0.0033\n",
      "Epoch 15/100\n",
      "219/219 [==============================] - 0s 719us/step - loss: 0.0033\n",
      "Epoch 16/100\n",
      "219/219 [==============================] - 0s 750us/step - loss: 0.0033\n",
      "Epoch 17/100\n",
      "219/219 [==============================] - 0s 775us/step - loss: 0.0033\n",
      "Epoch 18/100\n",
      "219/219 [==============================] - 0s 751us/step - loss: 0.0032\n",
      "Epoch 19/100\n",
      "219/219 [==============================] - 0s 730us/step - loss: 0.0032\n",
      "Epoch 20/100\n",
      "219/219 [==============================] - 0s 740us/step - loss: 0.0032\n",
      "Epoch 21/100\n",
      "219/219 [==============================] - 0s 737us/step - loss: 0.0031\n",
      "Epoch 22/100\n",
      "219/219 [==============================] - 0s 723us/step - loss: 0.0031\n",
      "Epoch 23/100\n",
      "219/219 [==============================] - 0s 754us/step - loss: 0.0031\n",
      "Epoch 24/100\n",
      "219/219 [==============================] - 0s 742us/step - loss: 0.0031\n",
      "Epoch 25/100\n",
      "219/219 [==============================] - 0s 745us/step - loss: 0.0031\n",
      "Epoch 26/100\n",
      "219/219 [==============================] - 0s 771us/step - loss: 0.0031\n",
      "Epoch 27/100\n",
      "219/219 [==============================] - 0s 747us/step - loss: 0.0031\n",
      "Epoch 28/100\n",
      "219/219 [==============================] - 0s 770us/step - loss: 0.0031\n",
      "Epoch 29/100\n",
      "219/219 [==============================] - 0s 730us/step - loss: 0.0031\n",
      "Epoch 30/100\n",
      "219/219 [==============================] - 0s 749us/step - loss: 0.0031\n",
      "Epoch 31/100\n",
      "219/219 [==============================] - 0s 739us/step - loss: 0.0030\n",
      "Epoch 32/100\n",
      "219/219 [==============================] - 0s 750us/step - loss: 0.0030\n",
      "Epoch 33/100\n",
      "219/219 [==============================] - 0s 762us/step - loss: 0.0030\n",
      "Epoch 34/100\n",
      "219/219 [==============================] - 0s 736us/step - loss: 0.0030\n",
      "Epoch 35/100\n",
      "219/219 [==============================] - 0s 737us/step - loss: 0.0030\n",
      "Epoch 36/100\n",
      "219/219 [==============================] - 0s 742us/step - loss: 0.0030\n",
      "Epoch 37/100\n",
      "219/219 [==============================] - 0s 747us/step - loss: 0.0030\n",
      "Epoch 38/100\n",
      "219/219 [==============================] - 0s 753us/step - loss: 0.0030\n",
      "Epoch 39/100\n",
      "219/219 [==============================] - 0s 731us/step - loss: 0.0030\n",
      "Epoch 40/100\n",
      "219/219 [==============================] - 0s 735us/step - loss: 0.0030\n",
      "Epoch 41/100\n",
      "219/219 [==============================] - 0s 727us/step - loss: 0.0030\n",
      "Epoch 42/100\n",
      "219/219 [==============================] - 0s 757us/step - loss: 0.0030\n",
      "Epoch 43/100\n",
      "219/219 [==============================] - 0s 746us/step - loss: 0.0030\n",
      "Epoch 44/100\n",
      "219/219 [==============================] - 0s 776us/step - loss: 0.0030\n",
      "Epoch 45/100\n",
      "219/219 [==============================] - 0s 720us/step - loss: 0.0030\n",
      "Epoch 46/100\n",
      "219/219 [==============================] - 0s 712us/step - loss: 0.0030\n",
      "Epoch 47/100\n",
      "219/219 [==============================] - 0s 730us/step - loss: 0.0030\n",
      "Epoch 48/100\n",
      "219/219 [==============================] - 0s 728us/step - loss: 0.0030\n",
      "Epoch 49/100\n",
      "219/219 [==============================] - 0s 723us/step - loss: 0.0030\n",
      "Epoch 50/100\n",
      "219/219 [==============================] - 0s 759us/step - loss: 0.0030\n",
      "Epoch 51/100\n",
      "219/219 [==============================] - 0s 774us/step - loss: 0.0030\n",
      "Epoch 52/100\n",
      "219/219 [==============================] - 0s 721us/step - loss: 0.0030\n",
      "Epoch 53/100\n",
      "219/219 [==============================] - 0s 776us/step - loss: 0.0030\n",
      "Epoch 54/100\n",
      "219/219 [==============================] - 0s 741us/step - loss: 0.0030\n",
      "Epoch 55/100\n",
      "219/219 [==============================] - 0s 725us/step - loss: 0.0030\n",
      "Epoch 56/100\n",
      "219/219 [==============================] - 0s 717us/step - loss: 0.0030\n",
      "Epoch 57/100\n",
      "219/219 [==============================] - 0s 746us/step - loss: 0.0030\n",
      "Epoch 58/100\n",
      "219/219 [==============================] - 0s 729us/step - loss: 0.0030\n",
      "Epoch 59/100\n",
      "219/219 [==============================] - 0s 742us/step - loss: 0.0029\n",
      "Epoch 60/100\n",
      "219/219 [==============================] - 0s 741us/step - loss: 0.0030\n",
      "Epoch 61/100\n",
      "219/219 [==============================] - 0s 752us/step - loss: 0.0029\n",
      "Epoch 62/100\n",
      "219/219 [==============================] - 0s 767us/step - loss: 0.0029\n",
      "Epoch 63/100\n",
      "219/219 [==============================] - 0s 738us/step - loss: 0.0030\n",
      "Epoch 64/100\n",
      "219/219 [==============================] - 0s 742us/step - loss: 0.0030\n",
      "Epoch 65/100\n",
      "219/219 [==============================] - 0s 723us/step - loss: 0.0030\n",
      "Epoch 66/100\n",
      "219/219 [==============================] - 0s 745us/step - loss: 0.0030\n",
      "Epoch 67/100\n",
      "219/219 [==============================] - 0s 740us/step - loss: 0.0030\n",
      "Epoch 68/100\n",
      "219/219 [==============================] - 0s 747us/step - loss: 0.0030\n",
      "Epoch 69/100\n",
      "219/219 [==============================] - 0s 716us/step - loss: 0.0030\n",
      "Epoch 70/100\n",
      "219/219 [==============================] - 0s 748us/step - loss: 0.0030\n",
      "Epoch 71/100\n",
      "219/219 [==============================] - 0s 746us/step - loss: 0.0030\n",
      "Epoch 72/100\n",
      "219/219 [==============================] - 0s 733us/step - loss: 0.0030\n",
      "Epoch 73/100\n",
      "219/219 [==============================] - 0s 711us/step - loss: 0.0030\n",
      "Epoch 74/100\n",
      "219/219 [==============================] - 0s 747us/step - loss: 0.0029\n",
      "Epoch 75/100\n",
      "219/219 [==============================] - 0s 737us/step - loss: 0.0030\n",
      "Epoch 76/100\n",
      "219/219 [==============================] - 0s 752us/step - loss: 0.0030\n",
      "Epoch 77/100\n",
      "219/219 [==============================] - 0s 773us/step - loss: 0.0030\n",
      "Epoch 78/100\n",
      "219/219 [==============================] - 0s 775us/step - loss: 0.0030\n",
      "Epoch 79/100\n",
      "219/219 [==============================] - 0s 736us/step - loss: 0.0029\n",
      "Epoch 80/100\n",
      "219/219 [==============================] - 0s 749us/step - loss: 0.0030\n",
      "Epoch 81/100\n",
      "219/219 [==============================] - 0s 734us/step - loss: 0.0029\n",
      "Epoch 82/100\n",
      "219/219 [==============================] - 0s 742us/step - loss: 0.0030\n",
      "Epoch 83/100\n",
      "219/219 [==============================] - 0s 751us/step - loss: 0.0030\n",
      "Epoch 84/100\n",
      "219/219 [==============================] - 0s 728us/step - loss: 0.0030\n",
      "Epoch 85/100\n",
      "219/219 [==============================] - 0s 710us/step - loss: 0.0030\n",
      "Epoch 86/100\n",
      "219/219 [==============================] - 0s 753us/step - loss: 0.0029\n",
      "Epoch 87/100\n",
      "219/219 [==============================] - 0s 783us/step - loss: 0.0030\n",
      "Epoch 88/100\n",
      "219/219 [==============================] - 0s 745us/step - loss: 0.0029\n",
      "Epoch 89/100\n",
      "219/219 [==============================] - 0s 754us/step - loss: 0.0030\n",
      "Epoch 90/100\n",
      "219/219 [==============================] - 0s 717us/step - loss: 0.0030\n",
      "Epoch 91/100\n",
      "219/219 [==============================] - 0s 750us/step - loss: 0.0030\n",
      "Epoch 92/100\n",
      "219/219 [==============================] - 0s 741us/step - loss: 0.0029\n",
      "Epoch 93/100\n",
      "219/219 [==============================] - 0s 748us/step - loss: 0.0030\n",
      "Epoch 94/100\n",
      "219/219 [==============================] - 0s 819us/step - loss: 0.0030\n",
      "Epoch 95/100\n",
      "219/219 [==============================] - 0s 721us/step - loss: 0.0030\n",
      "Epoch 96/100\n",
      "219/219 [==============================] - 0s 751us/step - loss: 0.0029\n",
      "Epoch 97/100\n",
      "219/219 [==============================] - 0s 732us/step - loss: 0.0030\n",
      "Epoch 98/100\n",
      "219/219 [==============================] - 0s 747us/step - loss: 0.0030\n",
      "Epoch 99/100\n",
      "219/219 [==============================] - 0s 717us/step - loss: 0.0029\n",
      "Epoch 100/100\n",
      "219/219 [==============================] - 0s 725us/step - loss: 0.0030\n"
     ]
    },
    {
     "data": {
      "text/plain": [
       "<keras.callbacks.History at 0x7fbd9054d360>"
      ]
     },
     "execution_count": 21,
     "metadata": {},
     "output_type": "execute_result"
    }
   ],
   "source": [
    "model.compile(loss=\"mean_squared_error\", optimizer=\"adam\")\n",
    "model.fit(X_train, y_train, epochs=100)"
   ]
  },
  {
   "cell_type": "code",
   "execution_count": 22,
   "id": "70d7a103",
   "metadata": {},
   "outputs": [
    {
     "name": "stdout",
     "output_type": "stream",
     "text": [
      "63/63 [==============================] - 0s 703us/step - loss: 0.0030\n"
     ]
    },
    {
     "data": {
      "text/plain": [
       "0.0030124003533273935"
      ]
     },
     "execution_count": 22,
     "metadata": {},
     "output_type": "execute_result"
    }
   ],
   "source": [
    "model.evaluate(X_valid, y_valid)"
   ]
  },
  {
   "cell_type": "markdown",
   "id": "1e653f48",
   "metadata": {},
   "source": [
    "### SimpleRNN"
   ]
  },
  {
   "cell_type": "code",
   "execution_count": 23,
   "id": "3687a102",
   "metadata": {},
   "outputs": [],
   "source": [
    "model= keras.models.Sequential([\n",
    "    keras.layers.SimpleRNN(1, input_shape=[None, 1])\n",
    "])"
   ]
  },
  {
   "cell_type": "code",
   "execution_count": 24,
   "id": "627a6278",
   "metadata": {},
   "outputs": [
    {
     "name": "stdout",
     "output_type": "stream",
     "text": [
      "Epoch 1/100\n",
      "219/219 [==============================] - 3s 13ms/step - loss: 1.0671\n",
      "Epoch 2/100\n",
      "219/219 [==============================] - 3s 13ms/step - loss: 0.9060\n",
      "Epoch 3/100\n",
      "219/219 [==============================] - 3s 12ms/step - loss: 0.7383\n",
      "Epoch 4/100\n",
      "219/219 [==============================] - 3s 13ms/step - loss: 0.6061\n",
      "Epoch 5/100\n",
      "219/219 [==============================] - 3s 12ms/step - loss: 0.5101\n",
      "Epoch 6/100\n",
      "219/219 [==============================] - 3s 13ms/step - loss: 0.4755\n",
      "Epoch 7/100\n",
      "219/219 [==============================] - 3s 13ms/step - loss: 0.4597\n",
      "Epoch 8/100\n",
      "219/219 [==============================] - 3s 13ms/step - loss: 0.4131\n",
      "Epoch 9/100\n",
      "219/219 [==============================] - 3s 13ms/step - loss: 0.3835\n",
      "Epoch 10/100\n",
      "219/219 [==============================] - 3s 12ms/step - loss: 0.3400\n",
      "Epoch 11/100\n",
      "219/219 [==============================] - 3s 13ms/step - loss: 0.3010\n",
      "Epoch 12/100\n",
      "219/219 [==============================] - 3s 13ms/step - loss: 0.2673\n",
      "Epoch 13/100\n",
      "219/219 [==============================] - 3s 12ms/step - loss: 0.2376\n",
      "Epoch 14/100\n",
      "219/219 [==============================] - 3s 13ms/step - loss: 0.2111\n",
      "Epoch 15/100\n",
      "219/219 [==============================] - 3s 12ms/step - loss: 0.1842\n",
      "Epoch 16/100\n",
      "219/219 [==============================] - 3s 13ms/step - loss: 0.1600\n",
      "Epoch 17/100\n",
      "219/219 [==============================] - 3s 13ms/step - loss: 0.1464\n",
      "Epoch 18/100\n",
      "219/219 [==============================] - 3s 13ms/step - loss: 0.1420\n",
      "Epoch 19/100\n",
      "219/219 [==============================] - 3s 13ms/step - loss: 0.1402\n",
      "Epoch 20/100\n",
      "219/219 [==============================] - 3s 13ms/step - loss: 0.1407\n",
      "Epoch 21/100\n",
      "219/219 [==============================] - 3s 13ms/step - loss: 0.1407\n",
      "Epoch 22/100\n",
      "219/219 [==============================] - 3s 13ms/step - loss: 0.1410\n",
      "Epoch 23/100\n",
      "219/219 [==============================] - 3s 13ms/step - loss: 0.1406\n",
      "Epoch 24/100\n",
      "219/219 [==============================] - 3s 12ms/step - loss: 0.1399\n",
      "Epoch 25/100\n",
      "219/219 [==============================] - 3s 13ms/step - loss: 0.1408\n",
      "Epoch 26/100\n",
      "219/219 [==============================] - 3s 13ms/step - loss: 0.1409\n",
      "Epoch 27/100\n",
      "219/219 [==============================] - 3s 12ms/step - loss: 0.1403\n",
      "Epoch 28/100\n",
      "219/219 [==============================] - 3s 13ms/step - loss: 0.1405\n",
      "Epoch 29/100\n",
      "219/219 [==============================] - 3s 13ms/step - loss: 0.1405\n",
      "Epoch 30/100\n",
      "219/219 [==============================] - 3s 13ms/step - loss: 0.1407\n",
      "Epoch 31/100\n",
      "219/219 [==============================] - 3s 13ms/step - loss: 0.1406\n",
      "Epoch 32/100\n",
      "219/219 [==============================] - 3s 13ms/step - loss: 0.1407\n",
      "Epoch 33/100\n",
      "219/219 [==============================] - 3s 12ms/step - loss: 0.1404\n",
      "Epoch 34/100\n",
      "219/219 [==============================] - 3s 13ms/step - loss: 0.1407\n",
      "Epoch 35/100\n",
      "219/219 [==============================] - 3s 13ms/step - loss: 0.1401\n",
      "Epoch 36/100\n",
      "219/219 [==============================] - 3s 13ms/step - loss: 0.1410\n",
      "Epoch 37/100\n",
      "219/219 [==============================] - 3s 13ms/step - loss: 0.1402\n",
      "Epoch 38/100\n",
      "219/219 [==============================] - 3s 13ms/step - loss: 0.1405\n",
      "Epoch 39/100\n",
      "219/219 [==============================] - 3s 13ms/step - loss: 0.1403\n",
      "Epoch 40/100\n",
      "219/219 [==============================] - 3s 13ms/step - loss: 0.1406\n",
      "Epoch 41/100\n",
      " 70/219 [========>.....................] - ETA: 1s - loss: 0.1429"
     ]
    },
    {
     "ename": "KeyboardInterrupt",
     "evalue": "",
     "output_type": "error",
     "traceback": [
      "\u001b[0;31m---------------------------------------------------------------------------\u001b[0m",
      "\u001b[0;31mKeyboardInterrupt\u001b[0m                         Traceback (most recent call last)",
      "Input \u001b[0;32mIn [24]\u001b[0m, in \u001b[0;36m<cell line: 2>\u001b[0;34m()\u001b[0m\n\u001b[1;32m      1\u001b[0m model\u001b[38;5;241m.\u001b[39mcompile(loss\u001b[38;5;241m=\u001b[39m\u001b[38;5;124m\"\u001b[39m\u001b[38;5;124mmean_squared_error\u001b[39m\u001b[38;5;124m\"\u001b[39m, optimizer\u001b[38;5;241m=\u001b[39m\u001b[38;5;124m\"\u001b[39m\u001b[38;5;124madam\u001b[39m\u001b[38;5;124m\"\u001b[39m)\n\u001b[0;32m----> 2\u001b[0m \u001b[43mmodel\u001b[49m\u001b[38;5;241;43m.\u001b[39;49m\u001b[43mfit\u001b[49m\u001b[43m(\u001b[49m\u001b[43mX_train\u001b[49m\u001b[43m,\u001b[49m\u001b[43m \u001b[49m\u001b[43my_train\u001b[49m\u001b[43m,\u001b[49m\u001b[43m \u001b[49m\u001b[43mepochs\u001b[49m\u001b[38;5;241;43m=\u001b[39;49m\u001b[38;5;241;43m100\u001b[39;49m\u001b[43m)\u001b[49m\n",
      "File \u001b[0;32m~/.local/lib/python3.10/site-packages/keras/utils/traceback_utils.py:64\u001b[0m, in \u001b[0;36mfilter_traceback.<locals>.error_handler\u001b[0;34m(*args, **kwargs)\u001b[0m\n\u001b[1;32m     62\u001b[0m filtered_tb \u001b[38;5;241m=\u001b[39m \u001b[38;5;28;01mNone\u001b[39;00m\n\u001b[1;32m     63\u001b[0m \u001b[38;5;28;01mtry\u001b[39;00m:\n\u001b[0;32m---> 64\u001b[0m   \u001b[38;5;28;01mreturn\u001b[39;00m \u001b[43mfn\u001b[49m\u001b[43m(\u001b[49m\u001b[38;5;241;43m*\u001b[39;49m\u001b[43margs\u001b[49m\u001b[43m,\u001b[49m\u001b[43m \u001b[49m\u001b[38;5;241;43m*\u001b[39;49m\u001b[38;5;241;43m*\u001b[39;49m\u001b[43mkwargs\u001b[49m\u001b[43m)\u001b[49m\n\u001b[1;32m     65\u001b[0m \u001b[38;5;28;01mexcept\u001b[39;00m \u001b[38;5;167;01mException\u001b[39;00m \u001b[38;5;28;01mas\u001b[39;00m e:  \u001b[38;5;66;03m# pylint: disable=broad-except\u001b[39;00m\n\u001b[1;32m     66\u001b[0m   filtered_tb \u001b[38;5;241m=\u001b[39m _process_traceback_frames(e\u001b[38;5;241m.\u001b[39m__traceback__)\n",
      "File \u001b[0;32m~/.local/lib/python3.10/site-packages/keras/engine/training.py:1384\u001b[0m, in \u001b[0;36mModel.fit\u001b[0;34m(self, x, y, batch_size, epochs, verbose, callbacks, validation_split, validation_data, shuffle, class_weight, sample_weight, initial_epoch, steps_per_epoch, validation_steps, validation_batch_size, validation_freq, max_queue_size, workers, use_multiprocessing)\u001b[0m\n\u001b[1;32m   1377\u001b[0m \u001b[38;5;28;01mwith\u001b[39;00m tf\u001b[38;5;241m.\u001b[39mprofiler\u001b[38;5;241m.\u001b[39mexperimental\u001b[38;5;241m.\u001b[39mTrace(\n\u001b[1;32m   1378\u001b[0m     \u001b[38;5;124m'\u001b[39m\u001b[38;5;124mtrain\u001b[39m\u001b[38;5;124m'\u001b[39m,\n\u001b[1;32m   1379\u001b[0m     epoch_num\u001b[38;5;241m=\u001b[39mepoch,\n\u001b[1;32m   1380\u001b[0m     step_num\u001b[38;5;241m=\u001b[39mstep,\n\u001b[1;32m   1381\u001b[0m     batch_size\u001b[38;5;241m=\u001b[39mbatch_size,\n\u001b[1;32m   1382\u001b[0m     _r\u001b[38;5;241m=\u001b[39m\u001b[38;5;241m1\u001b[39m):\n\u001b[1;32m   1383\u001b[0m   callbacks\u001b[38;5;241m.\u001b[39mon_train_batch_begin(step)\n\u001b[0;32m-> 1384\u001b[0m   tmp_logs \u001b[38;5;241m=\u001b[39m \u001b[38;5;28;43mself\u001b[39;49m\u001b[38;5;241;43m.\u001b[39;49m\u001b[43mtrain_function\u001b[49m\u001b[43m(\u001b[49m\u001b[43miterator\u001b[49m\u001b[43m)\u001b[49m\n\u001b[1;32m   1385\u001b[0m   \u001b[38;5;28;01mif\u001b[39;00m data_handler\u001b[38;5;241m.\u001b[39mshould_sync:\n\u001b[1;32m   1386\u001b[0m     context\u001b[38;5;241m.\u001b[39masync_wait()\n",
      "File \u001b[0;32m~/.local/lib/python3.10/site-packages/tensorflow/python/util/traceback_utils.py:150\u001b[0m, in \u001b[0;36mfilter_traceback.<locals>.error_handler\u001b[0;34m(*args, **kwargs)\u001b[0m\n\u001b[1;32m    148\u001b[0m filtered_tb \u001b[38;5;241m=\u001b[39m \u001b[38;5;28;01mNone\u001b[39;00m\n\u001b[1;32m    149\u001b[0m \u001b[38;5;28;01mtry\u001b[39;00m:\n\u001b[0;32m--> 150\u001b[0m   \u001b[38;5;28;01mreturn\u001b[39;00m \u001b[43mfn\u001b[49m\u001b[43m(\u001b[49m\u001b[38;5;241;43m*\u001b[39;49m\u001b[43margs\u001b[49m\u001b[43m,\u001b[49m\u001b[43m \u001b[49m\u001b[38;5;241;43m*\u001b[39;49m\u001b[38;5;241;43m*\u001b[39;49m\u001b[43mkwargs\u001b[49m\u001b[43m)\u001b[49m\n\u001b[1;32m    151\u001b[0m \u001b[38;5;28;01mexcept\u001b[39;00m \u001b[38;5;167;01mException\u001b[39;00m \u001b[38;5;28;01mas\u001b[39;00m e:\n\u001b[1;32m    152\u001b[0m   filtered_tb \u001b[38;5;241m=\u001b[39m _process_traceback_frames(e\u001b[38;5;241m.\u001b[39m__traceback__)\n",
      "File \u001b[0;32m~/.local/lib/python3.10/site-packages/tensorflow/python/eager/def_function.py:915\u001b[0m, in \u001b[0;36mFunction.__call__\u001b[0;34m(self, *args, **kwds)\u001b[0m\n\u001b[1;32m    912\u001b[0m compiler \u001b[38;5;241m=\u001b[39m \u001b[38;5;124m\"\u001b[39m\u001b[38;5;124mxla\u001b[39m\u001b[38;5;124m\"\u001b[39m \u001b[38;5;28;01mif\u001b[39;00m \u001b[38;5;28mself\u001b[39m\u001b[38;5;241m.\u001b[39m_jit_compile \u001b[38;5;28;01melse\u001b[39;00m \u001b[38;5;124m\"\u001b[39m\u001b[38;5;124mnonXla\u001b[39m\u001b[38;5;124m\"\u001b[39m\n\u001b[1;32m    914\u001b[0m \u001b[38;5;28;01mwith\u001b[39;00m OptionalXlaContext(\u001b[38;5;28mself\u001b[39m\u001b[38;5;241m.\u001b[39m_jit_compile):\n\u001b[0;32m--> 915\u001b[0m   result \u001b[38;5;241m=\u001b[39m \u001b[38;5;28;43mself\u001b[39;49m\u001b[38;5;241;43m.\u001b[39;49m\u001b[43m_call\u001b[49m\u001b[43m(\u001b[49m\u001b[38;5;241;43m*\u001b[39;49m\u001b[43margs\u001b[49m\u001b[43m,\u001b[49m\u001b[43m \u001b[49m\u001b[38;5;241;43m*\u001b[39;49m\u001b[38;5;241;43m*\u001b[39;49m\u001b[43mkwds\u001b[49m\u001b[43m)\u001b[49m\n\u001b[1;32m    917\u001b[0m new_tracing_count \u001b[38;5;241m=\u001b[39m \u001b[38;5;28mself\u001b[39m\u001b[38;5;241m.\u001b[39mexperimental_get_tracing_count()\n\u001b[1;32m    918\u001b[0m without_tracing \u001b[38;5;241m=\u001b[39m (tracing_count \u001b[38;5;241m==\u001b[39m new_tracing_count)\n",
      "File \u001b[0;32m~/.local/lib/python3.10/site-packages/tensorflow/python/eager/def_function.py:947\u001b[0m, in \u001b[0;36mFunction._call\u001b[0;34m(self, *args, **kwds)\u001b[0m\n\u001b[1;32m    944\u001b[0m   \u001b[38;5;28mself\u001b[39m\u001b[38;5;241m.\u001b[39m_lock\u001b[38;5;241m.\u001b[39mrelease()\n\u001b[1;32m    945\u001b[0m   \u001b[38;5;66;03m# In this case we have created variables on the first call, so we run the\u001b[39;00m\n\u001b[1;32m    946\u001b[0m   \u001b[38;5;66;03m# defunned version which is guaranteed to never create variables.\u001b[39;00m\n\u001b[0;32m--> 947\u001b[0m   \u001b[38;5;28;01mreturn\u001b[39;00m \u001b[38;5;28;43mself\u001b[39;49m\u001b[38;5;241;43m.\u001b[39;49m\u001b[43m_stateless_fn\u001b[49m\u001b[43m(\u001b[49m\u001b[38;5;241;43m*\u001b[39;49m\u001b[43margs\u001b[49m\u001b[43m,\u001b[49m\u001b[43m \u001b[49m\u001b[38;5;241;43m*\u001b[39;49m\u001b[38;5;241;43m*\u001b[39;49m\u001b[43mkwds\u001b[49m\u001b[43m)\u001b[49m  \u001b[38;5;66;03m# pylint: disable=not-callable\u001b[39;00m\n\u001b[1;32m    948\u001b[0m \u001b[38;5;28;01melif\u001b[39;00m \u001b[38;5;28mself\u001b[39m\u001b[38;5;241m.\u001b[39m_stateful_fn \u001b[38;5;129;01mis\u001b[39;00m \u001b[38;5;129;01mnot\u001b[39;00m \u001b[38;5;28;01mNone\u001b[39;00m:\n\u001b[1;32m    949\u001b[0m   \u001b[38;5;66;03m# Release the lock early so that multiple threads can perform the call\u001b[39;00m\n\u001b[1;32m    950\u001b[0m   \u001b[38;5;66;03m# in parallel.\u001b[39;00m\n\u001b[1;32m    951\u001b[0m   \u001b[38;5;28mself\u001b[39m\u001b[38;5;241m.\u001b[39m_lock\u001b[38;5;241m.\u001b[39mrelease()\n",
      "File \u001b[0;32m~/.local/lib/python3.10/site-packages/tensorflow/python/eager/function.py:2956\u001b[0m, in \u001b[0;36mFunction.__call__\u001b[0;34m(self, *args, **kwargs)\u001b[0m\n\u001b[1;32m   2953\u001b[0m \u001b[38;5;28;01mwith\u001b[39;00m \u001b[38;5;28mself\u001b[39m\u001b[38;5;241m.\u001b[39m_lock:\n\u001b[1;32m   2954\u001b[0m   (graph_function,\n\u001b[1;32m   2955\u001b[0m    filtered_flat_args) \u001b[38;5;241m=\u001b[39m \u001b[38;5;28mself\u001b[39m\u001b[38;5;241m.\u001b[39m_maybe_define_function(args, kwargs)\n\u001b[0;32m-> 2956\u001b[0m \u001b[38;5;28;01mreturn\u001b[39;00m \u001b[43mgraph_function\u001b[49m\u001b[38;5;241;43m.\u001b[39;49m\u001b[43m_call_flat\u001b[49m\u001b[43m(\u001b[49m\n\u001b[1;32m   2957\u001b[0m \u001b[43m    \u001b[49m\u001b[43mfiltered_flat_args\u001b[49m\u001b[43m,\u001b[49m\u001b[43m \u001b[49m\u001b[43mcaptured_inputs\u001b[49m\u001b[38;5;241;43m=\u001b[39;49m\u001b[43mgraph_function\u001b[49m\u001b[38;5;241;43m.\u001b[39;49m\u001b[43mcaptured_inputs\u001b[49m\u001b[43m)\u001b[49m\n",
      "File \u001b[0;32m~/.local/lib/python3.10/site-packages/tensorflow/python/eager/function.py:1853\u001b[0m, in \u001b[0;36mConcreteFunction._call_flat\u001b[0;34m(self, args, captured_inputs, cancellation_manager)\u001b[0m\n\u001b[1;32m   1849\u001b[0m possible_gradient_type \u001b[38;5;241m=\u001b[39m gradients_util\u001b[38;5;241m.\u001b[39mPossibleTapeGradientTypes(args)\n\u001b[1;32m   1850\u001b[0m \u001b[38;5;28;01mif\u001b[39;00m (possible_gradient_type \u001b[38;5;241m==\u001b[39m gradients_util\u001b[38;5;241m.\u001b[39mPOSSIBLE_GRADIENT_TYPES_NONE\n\u001b[1;32m   1851\u001b[0m     \u001b[38;5;129;01mand\u001b[39;00m executing_eagerly):\n\u001b[1;32m   1852\u001b[0m   \u001b[38;5;66;03m# No tape is watching; skip to running the function.\u001b[39;00m\n\u001b[0;32m-> 1853\u001b[0m   \u001b[38;5;28;01mreturn\u001b[39;00m \u001b[38;5;28mself\u001b[39m\u001b[38;5;241m.\u001b[39m_build_call_outputs(\u001b[38;5;28;43mself\u001b[39;49m\u001b[38;5;241;43m.\u001b[39;49m\u001b[43m_inference_function\u001b[49m\u001b[38;5;241;43m.\u001b[39;49m\u001b[43mcall\u001b[49m\u001b[43m(\u001b[49m\n\u001b[1;32m   1854\u001b[0m \u001b[43m      \u001b[49m\u001b[43mctx\u001b[49m\u001b[43m,\u001b[49m\u001b[43m \u001b[49m\u001b[43margs\u001b[49m\u001b[43m,\u001b[49m\u001b[43m \u001b[49m\u001b[43mcancellation_manager\u001b[49m\u001b[38;5;241;43m=\u001b[39;49m\u001b[43mcancellation_manager\u001b[49m\u001b[43m)\u001b[49m)\n\u001b[1;32m   1855\u001b[0m forward_backward \u001b[38;5;241m=\u001b[39m \u001b[38;5;28mself\u001b[39m\u001b[38;5;241m.\u001b[39m_select_forward_and_backward_functions(\n\u001b[1;32m   1856\u001b[0m     args,\n\u001b[1;32m   1857\u001b[0m     possible_gradient_type,\n\u001b[1;32m   1858\u001b[0m     executing_eagerly)\n\u001b[1;32m   1859\u001b[0m forward_function, args_with_tangents \u001b[38;5;241m=\u001b[39m forward_backward\u001b[38;5;241m.\u001b[39mforward()\n",
      "File \u001b[0;32m~/.local/lib/python3.10/site-packages/tensorflow/python/eager/function.py:499\u001b[0m, in \u001b[0;36m_EagerDefinedFunction.call\u001b[0;34m(self, ctx, args, cancellation_manager)\u001b[0m\n\u001b[1;32m    497\u001b[0m \u001b[38;5;28;01mwith\u001b[39;00m _InterpolateFunctionError(\u001b[38;5;28mself\u001b[39m):\n\u001b[1;32m    498\u001b[0m   \u001b[38;5;28;01mif\u001b[39;00m cancellation_manager \u001b[38;5;129;01mis\u001b[39;00m \u001b[38;5;28;01mNone\u001b[39;00m:\n\u001b[0;32m--> 499\u001b[0m     outputs \u001b[38;5;241m=\u001b[39m \u001b[43mexecute\u001b[49m\u001b[38;5;241;43m.\u001b[39;49m\u001b[43mexecute\u001b[49m\u001b[43m(\u001b[49m\n\u001b[1;32m    500\u001b[0m \u001b[43m        \u001b[49m\u001b[38;5;28;43mstr\u001b[39;49m\u001b[43m(\u001b[49m\u001b[38;5;28;43mself\u001b[39;49m\u001b[38;5;241;43m.\u001b[39;49m\u001b[43msignature\u001b[49m\u001b[38;5;241;43m.\u001b[39;49m\u001b[43mname\u001b[49m\u001b[43m)\u001b[49m\u001b[43m,\u001b[49m\n\u001b[1;32m    501\u001b[0m \u001b[43m        \u001b[49m\u001b[43mnum_outputs\u001b[49m\u001b[38;5;241;43m=\u001b[39;49m\u001b[38;5;28;43mself\u001b[39;49m\u001b[38;5;241;43m.\u001b[39;49m\u001b[43m_num_outputs\u001b[49m\u001b[43m,\u001b[49m\n\u001b[1;32m    502\u001b[0m \u001b[43m        \u001b[49m\u001b[43minputs\u001b[49m\u001b[38;5;241;43m=\u001b[39;49m\u001b[43margs\u001b[49m\u001b[43m,\u001b[49m\n\u001b[1;32m    503\u001b[0m \u001b[43m        \u001b[49m\u001b[43mattrs\u001b[49m\u001b[38;5;241;43m=\u001b[39;49m\u001b[43mattrs\u001b[49m\u001b[43m,\u001b[49m\n\u001b[1;32m    504\u001b[0m \u001b[43m        \u001b[49m\u001b[43mctx\u001b[49m\u001b[38;5;241;43m=\u001b[39;49m\u001b[43mctx\u001b[49m\u001b[43m)\u001b[49m\n\u001b[1;32m    505\u001b[0m   \u001b[38;5;28;01melse\u001b[39;00m:\n\u001b[1;32m    506\u001b[0m     outputs \u001b[38;5;241m=\u001b[39m execute\u001b[38;5;241m.\u001b[39mexecute_with_cancellation(\n\u001b[1;32m    507\u001b[0m         \u001b[38;5;28mstr\u001b[39m(\u001b[38;5;28mself\u001b[39m\u001b[38;5;241m.\u001b[39msignature\u001b[38;5;241m.\u001b[39mname),\n\u001b[1;32m    508\u001b[0m         num_outputs\u001b[38;5;241m=\u001b[39m\u001b[38;5;28mself\u001b[39m\u001b[38;5;241m.\u001b[39m_num_outputs,\n\u001b[0;32m   (...)\u001b[0m\n\u001b[1;32m    511\u001b[0m         ctx\u001b[38;5;241m=\u001b[39mctx,\n\u001b[1;32m    512\u001b[0m         cancellation_manager\u001b[38;5;241m=\u001b[39mcancellation_manager)\n",
      "File \u001b[0;32m~/.local/lib/python3.10/site-packages/tensorflow/python/eager/execute.py:54\u001b[0m, in \u001b[0;36mquick_execute\u001b[0;34m(op_name, num_outputs, inputs, attrs, ctx, name)\u001b[0m\n\u001b[1;32m     52\u001b[0m \u001b[38;5;28;01mtry\u001b[39;00m:\n\u001b[1;32m     53\u001b[0m   ctx\u001b[38;5;241m.\u001b[39mensure_initialized()\n\u001b[0;32m---> 54\u001b[0m   tensors \u001b[38;5;241m=\u001b[39m \u001b[43mpywrap_tfe\u001b[49m\u001b[38;5;241;43m.\u001b[39;49m\u001b[43mTFE_Py_Execute\u001b[49m\u001b[43m(\u001b[49m\u001b[43mctx\u001b[49m\u001b[38;5;241;43m.\u001b[39;49m\u001b[43m_handle\u001b[49m\u001b[43m,\u001b[49m\u001b[43m \u001b[49m\u001b[43mdevice_name\u001b[49m\u001b[43m,\u001b[49m\u001b[43m \u001b[49m\u001b[43mop_name\u001b[49m\u001b[43m,\u001b[49m\n\u001b[1;32m     55\u001b[0m \u001b[43m                                      \u001b[49m\u001b[43minputs\u001b[49m\u001b[43m,\u001b[49m\u001b[43m \u001b[49m\u001b[43mattrs\u001b[49m\u001b[43m,\u001b[49m\u001b[43m \u001b[49m\u001b[43mnum_outputs\u001b[49m\u001b[43m)\u001b[49m\n\u001b[1;32m     56\u001b[0m \u001b[38;5;28;01mexcept\u001b[39;00m core\u001b[38;5;241m.\u001b[39m_NotOkStatusException \u001b[38;5;28;01mas\u001b[39;00m e:\n\u001b[1;32m     57\u001b[0m   \u001b[38;5;28;01mif\u001b[39;00m name \u001b[38;5;129;01mis\u001b[39;00m \u001b[38;5;129;01mnot\u001b[39;00m \u001b[38;5;28;01mNone\u001b[39;00m:\n",
      "\u001b[0;31mKeyboardInterrupt\u001b[0m: "
     ]
    }
   ],
   "source": [
    "model.compile(loss=\"mean_squared_error\", optimizer=\"adam\")\n",
    "model.fit(X_train, y_train, epochs=20)"
   ]
  },
  {
   "cell_type": "code",
   "execution_count": 25,
   "id": "7d7b19ce",
   "metadata": {},
   "outputs": [
    {
     "name": "stdout",
     "output_type": "stream",
     "text": [
      "63/63 [==============================] - 0s 6ms/step - loss: 0.1360\n"
     ]
    },
    {
     "data": {
      "text/plain": [
       "0.1360078603029251"
      ]
     },
     "execution_count": 25,
     "metadata": {},
     "output_type": "execute_result"
    }
   ],
   "source": [
    "model.evaluate(X_valid, y_valid)"
   ]
  },
  {
   "cell_type": "markdown",
   "id": "bc4b61ec",
   "metadata": {},
   "source": [
    "### DeepRNN"
   ]
  },
  {
   "cell_type": "code",
   "execution_count": 26,
   "id": "83758132",
   "metadata": {},
   "outputs": [],
   "source": [
    "model= keras.models.Sequential([\n",
    "    keras.layers.SimpleRNN(20,return_sequences=True, input_shape=[None, 1]),\n",
    "    keras.layers.SimpleRNN(20,return_sequences=True),\n",
    "    keras.layers.SimpleRNN(1)\n",
    "])"
   ]
  },
  {
   "cell_type": "code",
   "execution_count": 27,
   "id": "414e49ab",
   "metadata": {},
   "outputs": [
    {
     "name": "stdout",
     "output_type": "stream",
     "text": [
      "Epoch 1/20\n",
      "219/219 [==============================] - 12s 49ms/step - loss: 0.0172\n",
      "Epoch 2/20\n",
      "219/219 [==============================] - 11s 49ms/step - loss: 0.0036\n",
      "Epoch 3/20\n",
      "219/219 [==============================] - 11s 49ms/step - loss: 0.0031\n",
      "Epoch 4/20\n",
      "219/219 [==============================] - 11s 49ms/step - loss: 0.0030\n",
      "Epoch 5/20\n",
      "219/219 [==============================] - 11s 49ms/step - loss: 0.0030\n",
      "Epoch 6/20\n",
      "219/219 [==============================] - 11s 49ms/step - loss: 0.0029\n",
      "Epoch 7/20\n",
      "219/219 [==============================] - 11s 48ms/step - loss: 0.0028\n",
      "Epoch 8/20\n",
      "219/219 [==============================] - 11s 48ms/step - loss: 0.0028\n",
      "Epoch 9/20\n",
      "219/219 [==============================] - 11s 49ms/step - loss: 0.0028\n",
      "Epoch 10/20\n",
      "219/219 [==============================] - 11s 49ms/step - loss: 0.0029\n",
      "Epoch 11/20\n",
      "219/219 [==============================] - 11s 48ms/step - loss: 0.0029\n",
      "Epoch 12/20\n",
      "219/219 [==============================] - 11s 49ms/step - loss: 0.0028\n",
      "Epoch 13/20\n",
      "219/219 [==============================] - 11s 49ms/step - loss: 0.0028\n",
      "Epoch 14/20\n",
      "219/219 [==============================] - 11s 49ms/step - loss: 0.0028\n",
      "Epoch 15/20\n",
      "219/219 [==============================] - 11s 48ms/step - loss: 0.0027\n",
      "Epoch 16/20\n",
      "219/219 [==============================] - 11s 49ms/step - loss: 0.0027\n",
      "Epoch 17/20\n",
      "219/219 [==============================] - 11s 48ms/step - loss: 0.0027\n",
      "Epoch 18/20\n",
      "219/219 [==============================] - 11s 48ms/step - loss: 0.0028\n",
      "Epoch 19/20\n",
      "219/219 [==============================] - 11s 49ms/step - loss: 0.0027\n",
      "Epoch 20/20\n",
      "219/219 [==============================] - 11s 49ms/step - loss: 0.0027\n"
     ]
    },
    {
     "data": {
      "text/plain": [
       "<keras.callbacks.History at 0x7fbb4825cf40>"
      ]
     },
     "execution_count": 27,
     "metadata": {},
     "output_type": "execute_result"
    }
   ],
   "source": [
    "model.compile(loss=\"mean_squared_error\", optimizer=\"adam\")\n",
    "model.fit(X_train, y_train, epochs=20)"
   ]
  },
  {
   "cell_type": "code",
   "execution_count": 28,
   "id": "298f056d",
   "metadata": {},
   "outputs": [
    {
     "name": "stdout",
     "output_type": "stream",
     "text": [
      "63/63 [==============================] - 1s 11ms/step - loss: 0.0026\n"
     ]
    },
    {
     "data": {
      "text/plain": [
       "0.0026144569274038076"
      ]
     },
     "execution_count": 28,
     "metadata": {},
     "output_type": "execute_result"
    }
   ],
   "source": [
    "model.evaluate(X_valid, y_valid)"
   ]
  },
  {
   "cell_type": "code",
   "execution_count": 29,
   "id": "a62d4171",
   "metadata": {},
   "outputs": [],
   "source": [
    "model= keras.models.Sequential([\n",
    "    keras.layers.SimpleRNN(20,return_sequences=True, input_shape=[None, 1]),\n",
    "    keras.layers.SimpleRNN(20),\n",
    "    keras.layers.Dense(1)\n",
    "])"
   ]
  },
  {
   "cell_type": "code",
   "execution_count": 30,
   "id": "017fd8f3",
   "metadata": {
    "scrolled": true
   },
   "outputs": [
    {
     "name": "stdout",
     "output_type": "stream",
     "text": [
      "Epoch 1/20\n",
      "219/219 [==============================] - 7s 30ms/step - loss: 0.0220\n",
      "Epoch 2/20\n",
      "219/219 [==============================] - 7s 30ms/step - loss: 0.0039\n",
      "Epoch 3/20\n",
      "219/219 [==============================] - 7s 30ms/step - loss: 0.0033\n",
      "Epoch 4/20\n",
      "219/219 [==============================] - 7s 30ms/step - loss: 0.0032\n",
      "Epoch 5/20\n",
      "219/219 [==============================] - 7s 31ms/step - loss: 0.0030\n",
      "Epoch 6/20\n",
      "219/219 [==============================] - 7s 30ms/step - loss: 0.0030\n",
      "Epoch 7/20\n",
      "219/219 [==============================] - 7s 30ms/step - loss: 0.0029\n",
      "Epoch 8/20\n",
      "219/219 [==============================] - 7s 30ms/step - loss: 0.0030\n",
      "Epoch 9/20\n",
      "219/219 [==============================] - 7s 30ms/step - loss: 0.0029\n",
      "Epoch 10/20\n",
      "219/219 [==============================] - 7s 30ms/step - loss: 0.0028\n",
      "Epoch 11/20\n",
      "219/219 [==============================] - 7s 30ms/step - loss: 0.0029\n",
      "Epoch 12/20\n",
      "219/219 [==============================] - 7s 31ms/step - loss: 0.0027\n",
      "Epoch 13/20\n",
      "219/219 [==============================] - 7s 30ms/step - loss: 0.0028\n",
      "Epoch 14/20\n",
      "219/219 [==============================] - 7s 31ms/step - loss: 0.0027\n",
      "Epoch 15/20\n",
      "219/219 [==============================] - 7s 30ms/step - loss: 0.0027\n",
      "Epoch 16/20\n",
      "219/219 [==============================] - 7s 30ms/step - loss: 0.0027\n",
      "Epoch 17/20\n",
      "219/219 [==============================] - 7s 30ms/step - loss: 0.0027\n",
      "Epoch 18/20\n",
      "219/219 [==============================] - 7s 30ms/step - loss: 0.0027\n",
      "Epoch 19/20\n",
      "219/219 [==============================] - 7s 30ms/step - loss: 0.0026\n",
      "Epoch 20/20\n",
      "219/219 [==============================] - 7s 30ms/step - loss: 0.0027\n"
     ]
    },
    {
     "data": {
      "text/plain": [
       "<keras.callbacks.History at 0x7fbd90b0a950>"
      ]
     },
     "execution_count": 30,
     "metadata": {},
     "output_type": "execute_result"
    }
   ],
   "source": [
    "model.compile(loss=\"mean_squared_error\", optimizer=\"adam\")\n",
    "model.fit(X_train, y_train, epochs=20)"
   ]
  },
  {
   "cell_type": "code",
   "execution_count": 31,
   "id": "119b070d",
   "metadata": {},
   "outputs": [
    {
     "name": "stdout",
     "output_type": "stream",
     "text": [
      "63/63 [==============================] - 1s 8ms/step - loss: 0.0028\n"
     ]
    },
    {
     "data": {
      "text/plain": [
       "0.002800565678626299"
      ]
     },
     "execution_count": 31,
     "metadata": {},
     "output_type": "execute_result"
    }
   ],
   "source": [
    "model.evaluate(X_valid, y_valid)"
   ]
  },
  {
   "cell_type": "code",
   "execution_count": 33,
   "id": "505f674c",
   "metadata": {},
   "outputs": [],
   "source": [
    "series = generate_time_series(1, n_steps + 10) # predict ahead of time\n",
    "X_new, Y_new = series[:, :n_steps], series[:, n_steps:]\n",
    "X = X_new\n",
    "for step_ahead in range(10):\n",
    "    y_pred_one = model.predict(X[:, step_ahead:])[:, np.newaxis,:] # make y into x's shape\n",
    "    X = np.concatenate([X, y_pred_one], axis=1) # add output into y\n",
    "    \n",
    "y_pred = X[:, n_steps:]"
   ]
  },
  {
   "cell_type": "code",
   "execution_count": 37,
   "id": "0d47424b",
   "metadata": {},
   "outputs": [
    {
     "data": {
      "text/plain": [
       "<matplotlib.legend.Legend at 0x7fbb4be0d5a0>"
      ]
     },
     "execution_count": 37,
     "metadata": {},
     "output_type": "execute_result"
    },
    {
     "data": {
      "image/png": "[encoded data removed]",
      "text/plain": [
       "<Figure size 432x288 with 1 Axes>"
      ]
     },
     "metadata": {
      "needs_background": "light"
     },
     "output_type": "display_data"
    }
   ],
   "source": [
    "plt.plot(Y_new[0], label=\"real\")\n",
    "plt.plot(y_pred[0], label=\"predict\")\n",
    "plt.legend()"
   ]
  },
  {
   "cell_type": "code",
   "execution_count": 41,
   "id": "86edef17",
   "metadata": {},
   "outputs": [],
   "source": [
    "# 다음 값 10개를 한번에 예측\n",
    "series = generate_time_series(10000, n_steps + 10)\n",
    "X_train, y_train = series[:7000, :n_steps], series[:7000, -10:,0] #마지막 차원은 값 뺴냄\n",
    "X_valid, y_valid = series[7000:9000, :n_steps], series[7000:9000, -10:,0]\n",
    "X_test, y_test = series[9000:, :n_steps], series[9000:, -10:,0]"
   ]
  },
  {
   "cell_type": "code",
   "execution_count": 42,
   "id": "10c721a7",
   "metadata": {},
   "outputs": [],
   "source": [
    "model= keras.models.Sequential([\n",
    "    keras.layers.SimpleRNN(20,return_sequences=True, input_shape=[None, 1]),\n",
    "    keras.layers.SimpleRNN(20),\n",
    "    keras.layers.Dense(10)\n",
    "])"
   ]
  },
  {
   "cell_type": "code",
   "execution_count": 43,
   "id": "63209ee5",
   "metadata": {
    "scrolled": true
   },
   "outputs": [
    {
     "name": "stdout",
     "output_type": "stream",
     "text": [
      "Epoch 1/20\n",
      "219/219 [==============================] - 7s 29ms/step - loss: 0.0694\n",
      "Epoch 2/20\n",
      "219/219 [==============================] - 6s 29ms/step - loss: 0.0290\n",
      "Epoch 3/20\n",
      "219/219 [==============================] - 6s 29ms/step - loss: 0.0206\n",
      "Epoch 4/20\n",
      "219/219 [==============================] - 6s 30ms/step - loss: 0.0158\n",
      "Epoch 5/20\n",
      "219/219 [==============================] - 6s 29ms/step - loss: 0.0139\n",
      "Epoch 6/20\n",
      "219/219 [==============================] - 6s 29ms/step - loss: 0.0127\n",
      "Epoch 7/20\n",
      "219/219 [==============================] - 6s 29ms/step - loss: 0.0118\n",
      "Epoch 8/20\n",
      "219/219 [==============================] - 6s 29ms/step - loss: 0.0118\n",
      "Epoch 9/20\n",
      "219/219 [==============================] - 6s 29ms/step - loss: 0.0115\n",
      "Epoch 10/20\n",
      "219/219 [==============================] - 6s 29ms/step - loss: 0.0109\n",
      "Epoch 11/20\n",
      "219/219 [==============================] - 6s 29ms/step - loss: 0.0105\n",
      "Epoch 12/20\n",
      "219/219 [==============================] - 6s 29ms/step - loss: 0.0104\n",
      "Epoch 13/20\n",
      "219/219 [==============================] - 6s 29ms/step - loss: 0.0100\n",
      "Epoch 14/20\n",
      "219/219 [==============================] - 6s 29ms/step - loss: 0.0098\n",
      "Epoch 15/20\n",
      "219/219 [==============================] - 6s 29ms/step - loss: 0.0093\n",
      "Epoch 16/20\n",
      "219/219 [==============================] - 6s 29ms/step - loss: 0.0093\n",
      "Epoch 17/20\n",
      "219/219 [==============================] - 6s 29ms/step - loss: 0.0092\n",
      "Epoch 18/20\n",
      "219/219 [==============================] - 6s 29ms/step - loss: 0.0092\n",
      "Epoch 19/20\n",
      "219/219 [==============================] - 6s 29ms/step - loss: 0.0096\n",
      "Epoch 20/20\n",
      "219/219 [==============================] - 6s 29ms/step - loss: 0.0088\n"
     ]
    },
    {
     "data": {
      "text/plain": [
       "<keras.callbacks.History at 0x7fbb48d74640>"
      ]
     },
     "execution_count": 43,
     "metadata": {},
     "output_type": "execute_result"
    }
   ],
   "source": [
    "model.compile(loss=\"mean_squared_error\", optimizer=\"adam\")\n",
    "model.fit(X_train, y_train, epochs=20)"
   ]
  },
  {
   "cell_type": "code",
   "execution_count": 44,
   "id": "350b3e37",
   "metadata": {},
   "outputs": [
    {
     "name": "stdout",
     "output_type": "stream",
     "text": [
      "63/63 [==============================] - 1s 9ms/step - loss: 0.0079\n"
     ]
    },
    {
     "data": {
      "text/plain": [
       "0.007853775285184383"
      ]
     },
     "execution_count": 44,
     "metadata": {},
     "output_type": "execute_result"
    }
   ],
   "source": [
    "model.evaluate(X_valid, y_valid)"
   ]
  },
  {
   "cell_type": "code",
   "execution_count": 46,
   "id": "5c6e7837",
   "metadata": {},
   "outputs": [],
   "source": [
    "Y = np.empty((10000, n_steps,10))\n",
    "for step_ahead in range(1, 10 + 1):\n",
    "    Y[:, :, step_ahead-1] = series[:, step_ahead:step_ahead+n_steps, 0] ########\n",
    "y_train = Y[:7000]\n",
    "y_valid = Y[7000:9000]\n",
    "y_test = Y[9000:]"
   ]
  },
  {
   "cell_type": "code",
   "execution_count": 47,
   "id": "84bbb05a",
   "metadata": {},
   "outputs": [],
   "source": [
    "model= keras.models.Sequential([\n",
    "    keras.layers.SimpleRNN(20,return_sequences=True, input_shape=[None, 1]),\n",
    "    keras.layers.SimpleRNN(20, return_sequences=True),\n",
    "    keras.layers.TimeDistributed(keras.layers.Dense(10))\n",
    "])"
   ]
  },
  {
   "cell_type": "code",
   "execution_count": 48,
   "id": "b18fd7c2",
   "metadata": {},
   "outputs": [],
   "source": [
    "def last_time_step_mse(y_true, y_pred):\n",
    "    return keras.metrics.mean_squared_error(y_true[:, -1], y_pred[:, -1])\n",
    "\n",
    "optimizer = keras.optimizers.Adam(learning_rate=0.01)\n",
    "model.compile(loss=\"mse\", optimizer=optimizer, metrics=[last_time_step_mse])"
   ]
  },
  {
   "cell_type": "code",
   "execution_count": 50,
   "id": "b4c97ccc",
   "metadata": {
    "scrolled": true
   },
   "outputs": [
    {
     "name": "stdout",
     "output_type": "stream",
     "text": [
      "Epoch 1/20\n",
      "219/219 [==============================] - 7s 30ms/step - loss: 0.0418 - last_time_step_mse: 0.0312\n",
      "Epoch 2/20\n",
      "219/219 [==============================] - 7s 30ms/step - loss: 0.0350 - last_time_step_mse: 0.0233\n",
      "Epoch 3/20\n",
      "219/219 [==============================] - 7s 30ms/step - loss: 0.0311 - last_time_step_mse: 0.0203\n",
      "Epoch 4/20\n",
      "219/219 [==============================] - 7s 30ms/step - loss: 0.0284 - last_time_step_mse: 0.0172\n",
      "Epoch 5/20\n",
      "219/219 [==============================] - 7s 30ms/step - loss: 0.0267 - last_time_step_mse: 0.0156\n",
      "Epoch 6/20\n",
      "219/219 [==============================] - 7s 30ms/step - loss: 0.0262 - last_time_step_mse: 0.0151\n",
      "Epoch 7/20\n",
      "219/219 [==============================] - 7s 30ms/step - loss: 0.0246 - last_time_step_mse: 0.0134\n",
      "Epoch 8/20\n",
      "219/219 [==============================] - 7s 30ms/step - loss: 0.0222 - last_time_step_mse: 0.0105\n",
      "Epoch 9/20\n",
      "219/219 [==============================] - 7s 30ms/step - loss: 0.0206 - last_time_step_mse: 0.0087\n",
      "Epoch 10/20\n",
      "219/219 [==============================] - 7s 30ms/step - loss: 0.0203 - last_time_step_mse: 0.0083\n",
      "Epoch 11/20\n",
      "219/219 [==============================] - 6s 30ms/step - loss: 0.0202 - last_time_step_mse: 0.0085\n",
      "Epoch 12/20\n",
      "219/219 [==============================] - 6s 30ms/step - loss: 0.0195 - last_time_step_mse: 0.0079\n",
      "Epoch 13/20\n",
      "219/219 [==============================] - 7s 30ms/step - loss: 0.0191 - last_time_step_mse: 0.0075\n",
      "Epoch 14/20\n",
      "219/219 [==============================] - 6s 30ms/step - loss: 0.0192 - last_time_step_mse: 0.0076\n",
      "Epoch 15/20\n",
      "219/219 [==============================] - 6s 29ms/step - loss: 0.0188 - last_time_step_mse: 0.0073\n",
      "Epoch 16/20\n",
      "219/219 [==============================] - 7s 30ms/step - loss: 0.0186 - last_time_step_mse: 0.0072\n",
      "Epoch 17/20\n",
      "219/219 [==============================] - 7s 30ms/step - loss: 0.0185 - last_time_step_mse: 0.0071\n",
      "Epoch 18/20\n",
      "219/219 [==============================] - 7s 30ms/step - loss: 0.0181 - last_time_step_mse: 0.0069\n",
      "Epoch 19/20\n",
      "219/219 [==============================] - 7s 30ms/step - loss: 0.0178 - last_time_step_mse: 0.0063\n",
      "Epoch 20/20\n",
      "219/219 [==============================] - 7s 30ms/step - loss: 0.0181 - last_time_step_mse: 0.0070\n"
     ]
    },
    {
     "data": {
      "text/plain": [
       "<keras.callbacks.History at 0x7fbb3034af50>"
      ]
     },
     "execution_count": 50,
     "metadata": {},
     "output_type": "execute_result"
    }
   ],
   "source": [
    "model.fit(X_train, y_train, epochs=20)"
   ]
  },
  {
   "cell_type": "code",
   "execution_count": 51,
   "id": "d9c86cb1",
   "metadata": {},
   "outputs": [],
   "source": [
    "class LNSimpleRNNCell(keras.layers.Layer): # a single rnn cell\n",
    "    def __init__(self, units, activation=\"tanh\", **kwargs):\n",
    "        super().__init__(**kwargs)\n",
    "        self.state_size = units\n",
    "        self.output_size = units\n",
    "        self.simple_rnn_cell = keras.layers.SimpleRNNCell(units, activation=None)\n",
    "        self.layer_norm = keras.layers.LayerNormalization()\n",
    "        self.activation = keras.activations.get(activation)\n",
    "    def call(self, inputs, states):\n",
    "        outputs, new_states = self.simple_rnn_cell(inputs, states)\n",
    "        norm_outputs = self.activation(self.layer_norm(outputs))\n",
    "        return norm_outputs, [norm_outputs]"
   ]
  },
  {
   "cell_type": "code",
   "execution_count": 52,
   "id": "260a3659",
   "metadata": {},
   "outputs": [],
   "source": [
    "model = keras.models.Sequential([\n",
    "    keras.layers.RNN(LNSimpleRNNCell(20), return_sequences=True, input_shape=[None, 1]),\n",
    "    keras.layers.RNN(LNSimpleRNNCell(20), return_sequences=True),\n",
    "    keras.layers.TimeDistributed(keras.layers.Dense(10)) # compute each time step independently\n",
    "])"
   ]
  },
  {
   "cell_type": "code",
   "execution_count": 53,
   "id": "af7ce0e1",
   "metadata": {
    "scrolled": true
   },
   "outputs": [
    {
     "name": "stdout",
     "output_type": "stream",
     "text": [
      "Epoch 1/20\n",
      "  2/219 [..............................] - ETA: 15s - loss: 0.4655 - last_time_step_mse: 0.4555 "
     ]
    },
    {
     "name": "stderr",
     "output_type": "stream",
     "text": [
      "2022-07-13 13:04:39.396660: I tensorflow/stream_executor/cuda/cuda_dnn.cc:368] Loaded cuDNN version 8302\n"
     ]
    },
    {
     "name": "stdout",
     "output_type": "stream",
     "text": [
      "219/219 [==============================] - 17s 71ms/step - loss: 0.0681 - last_time_step_mse: 0.0625\n",
      "Epoch 2/20\n",
      "219/219 [==============================] - 15s 71ms/step - loss: 0.0425 - last_time_step_mse: 0.0348\n",
      "Epoch 3/20\n",
      "219/219 [==============================] - 15s 71ms/step - loss: 0.0379 - last_time_step_mse: 0.0299\n",
      "Epoch 4/20\n",
      "219/219 [==============================] - 16s 71ms/step - loss: 0.0355 - last_time_step_mse: 0.0280\n",
      "Epoch 5/20\n",
      "219/219 [==============================] - 16s 71ms/step - loss: 0.0341 - last_time_step_mse: 0.0269\n",
      "Epoch 6/20\n",
      "219/219 [==============================] - 15s 71ms/step - loss: 0.0330 - last_time_step_mse: 0.0261\n",
      "Epoch 7/20\n",
      "219/219 [==============================] - 16s 71ms/step - loss: 0.0326 - last_time_step_mse: 0.0255\n",
      "Epoch 8/20\n",
      "219/219 [==============================] - 16s 71ms/step - loss: 0.0312 - last_time_step_mse: 0.0238\n",
      "Epoch 9/20\n",
      "219/219 [==============================] - 16s 71ms/step - loss: 0.0300 - last_time_step_mse: 0.0218\n",
      "Epoch 10/20\n",
      "219/219 [==============================] - 16s 71ms/step - loss: 0.0292 - last_time_step_mse: 0.0210\n",
      "Epoch 11/20\n",
      "219/219 [==============================] - 16s 71ms/step - loss: 0.0275 - last_time_step_mse: 0.0184\n",
      "Epoch 12/20\n",
      "219/219 [==============================] - 15s 71ms/step - loss: 0.0257 - last_time_step_mse: 0.0160\n",
      "Epoch 13/20\n",
      "219/219 [==============================] - 16s 71ms/step - loss: 0.0242 - last_time_step_mse: 0.0135\n",
      "Epoch 14/20\n",
      "219/219 [==============================] - 16s 71ms/step - loss: 0.0221 - last_time_step_mse: 0.0108\n",
      "Epoch 15/20\n",
      "219/219 [==============================] - 15s 70ms/step - loss: 0.0213 - last_time_step_mse: 0.0098\n",
      "Epoch 16/20\n",
      "219/219 [==============================] - 16s 71ms/step - loss: 0.0207 - last_time_step_mse: 0.0089\n",
      "Epoch 17/20\n",
      "219/219 [==============================] - 16s 71ms/step - loss: 0.0199 - last_time_step_mse: 0.0083\n",
      "Epoch 18/20\n",
      "219/219 [==============================] - 15s 71ms/step - loss: 0.0202 - last_time_step_mse: 0.0085\n",
      "Epoch 19/20\n",
      "219/219 [==============================] - 15s 71ms/step - loss: 0.0198 - last_time_step_mse: 0.0082\n",
      "Epoch 20/20\n",
      "219/219 [==============================] - 16s 71ms/step - loss: 0.0196 - last_time_step_mse: 0.0080\n"
     ]
    },
    {
     "data": {
      "text/plain": [
       "<keras.callbacks.History at 0x7fbb301cb3a0>"
      ]
     },
     "execution_count": 53,
     "metadata": {},
     "output_type": "execute_result"
    }
   ],
   "source": [
    "model.compile(loss=\"mse\", optimizer=optimizer, metrics=[last_time_step_mse])\n",
    "model.fit(X_train, y_train, epochs=20)"
   ]
  },
  {
   "cell_type": "markdown",
   "id": "38a75a27",
   "metadata": {},
   "source": [
    "## LSTM"
   ]
  },
  {
   "cell_type": "code",
   "execution_count": 54,
   "id": "4fda52c3",
   "metadata": {},
   "outputs": [],
   "source": [
    "model = keras.models.Sequential([\n",
    "    keras.layers.LSTM(20, return_sequences=True, input_shape=[None, 1]),\n",
    "    keras.layers.LSTM(20, return_sequences=True),\n",
    "    keras.layers.TimeDistributed(keras.layers.Dense(10))\n",
    "])"
   ]
  },
  {
   "cell_type": "code",
   "execution_count": 57,
   "id": "0467c81b",
   "metadata": {
    "scrolled": true
   },
   "outputs": [
    {
     "name": "stdout",
     "output_type": "stream",
     "text": [
      "Epoch 1/20\n",
      "219/219 [==============================] - 5s 16ms/step - loss: 0.0121 - last_time_step_mse: 0.0023\n",
      "Epoch 2/20\n",
      "219/219 [==============================] - 4s 16ms/step - loss: 0.0121 - last_time_step_mse: 0.0023\n",
      "Epoch 3/20\n",
      "219/219 [==============================] - 4s 16ms/step - loss: 0.0120 - last_time_step_mse: 0.0022\n",
      "Epoch 4/20\n",
      "219/219 [==============================] - 4s 17ms/step - loss: 0.0120 - last_time_step_mse: 0.0022\n",
      "Epoch 5/20\n",
      "219/219 [==============================] - 4s 18ms/step - loss: 0.0120 - last_time_step_mse: 0.0022\n",
      "Epoch 6/20\n",
      "219/219 [==============================] - 3s 16ms/step - loss: 0.0121 - last_time_step_mse: 0.0023\n",
      "Epoch 7/20\n",
      "219/219 [==============================] - 4s 18ms/step - loss: 0.0120 - last_time_step_mse: 0.0022\n",
      "Epoch 8/20\n",
      "219/219 [==============================] - 4s 18ms/step - loss: 0.0119 - last_time_step_mse: 0.0022\n",
      "Epoch 9/20\n",
      "219/219 [==============================] - 3s 14ms/step - loss: 0.0119 - last_time_step_mse: 0.0022\n",
      "Epoch 10/20\n",
      "219/219 [==============================] - 4s 17ms/step - loss: 0.0119 - last_time_step_mse: 0.0022\n",
      "Epoch 11/20\n",
      "219/219 [==============================] - 3s 15ms/step - loss: 0.0119 - last_time_step_mse: 0.0022\n",
      "Epoch 12/20\n",
      "219/219 [==============================] - 4s 19ms/step - loss: 0.0120 - last_time_step_mse: 0.0022\n",
      "Epoch 13/20\n",
      "219/219 [==============================] - 4s 17ms/step - loss: 0.0118 - last_time_step_mse: 0.0021\n",
      "Epoch 14/20\n",
      "219/219 [==============================] - 4s 19ms/step - loss: 0.0119 - last_time_step_mse: 0.0022\n",
      "Epoch 15/20\n",
      "219/219 [==============================] - 4s 18ms/step - loss: 0.0119 - last_time_step_mse: 0.0022\n",
      "Epoch 16/20\n",
      "219/219 [==============================] - 3s 12ms/step - loss: 0.0119 - last_time_step_mse: 0.0022\n",
      "Epoch 17/20\n",
      "219/219 [==============================] - 4s 16ms/step - loss: 0.0118 - last_time_step_mse: 0.0022\n",
      "Epoch 18/20\n",
      "219/219 [==============================] - 4s 17ms/step - loss: 0.0118 - last_time_step_mse: 0.0022\n",
      "Epoch 19/20\n",
      "219/219 [==============================] - 3s 14ms/step - loss: 0.0118 - last_time_step_mse: 0.0022\n",
      "Epoch 20/20\n",
      "219/219 [==============================] - 4s 18ms/step - loss: 0.0118 - last_time_step_mse: 0.0022\n"
     ]
    },
    {
     "data": {
      "text/plain": [
       "<keras.callbacks.History at 0x7fbb282b0c70>"
      ]
     },
     "execution_count": 57,
     "metadata": {},
     "output_type": "execute_result"
    }
   ],
   "source": [
    "model.compile(loss=\"mse\", optimizer=optimizer, metrics=[last_time_step_mse])\n",
    "model.fit(X_train, y_train, epochs=20)"
   ]
  },
  {
   "cell_type": "code",
   "execution_count": 58,
   "id": "41fd55d3",
   "metadata": {},
   "outputs": [
    {
     "data": {
      "text/plain": [
       "(7000, 50, 10)"
      ]
     },
     "execution_count": 58,
     "metadata": {},
     "output_type": "execute_result"
    }
   ],
   "source": [
    "y_train.shape"
   ]
  },
  {
   "cell_type": "code",
   "execution_count": 59,
   "id": "70d44be3",
   "metadata": {},
   "outputs": [
    {
     "data": {
      "text/plain": [
       "(7000, 24, 10)"
      ]
     },
     "execution_count": 59,
     "metadata": {},
     "output_type": "execute_result"
    }
   ],
   "source": [
    "(y_train[:,3::2]).shape"
   ]
  },
  {
   "cell_type": "code",
   "execution_count": 60,
   "id": "9ede34c7",
   "metadata": {},
   "outputs": [],
   "source": [
    "model = keras.models.Sequential([\n",
    "    keras.layers.Conv1D(filters=20, kernel_size=4, strides=2, padding=\"valid\", input_shape=[None, 1]),\n",
    "    keras.layers.GRU(20, return_sequences=True),\n",
    "    keras.layers.GRU(20, return_sequences=True),\n",
    "    keras.layers.TimeDistributed(keras.layers.Dense(10))\n",
    "])"
   ]
  },
  {
   "cell_type": "code",
   "execution_count": 62,
   "id": "40f0d14f",
   "metadata": {
    "scrolled": true
   },
   "outputs": [
    {
     "name": "stdout",
     "output_type": "stream",
     "text": [
      "Epoch 1/20\n",
      " 16/219 [=>............................] - ETA: 0s - loss: 0.0988 - last_time_step_mse: 0.0985  "
     ]
    },
    {
     "name": "stderr",
     "output_type": "stream",
     "text": [
      "2022-07-14 09:37:45.622221: I tensorflow/core/platform/default/subprocess.cc:304] Start cannot spawn child process: No such file or directory\n"
     ]
    },
    {
     "name": "stdout",
     "output_type": "stream",
     "text": [
      "219/219 [==============================] - 5s 13ms/step - loss: 0.0356 - last_time_step_mse: 0.0278\n",
      "Epoch 2/20\n",
      "219/219 [==============================] - 3s 15ms/step - loss: 0.0166 - last_time_step_mse: 0.0063\n",
      "Epoch 3/20\n",
      "219/219 [==============================] - 2s 8ms/step - loss: 0.0143 - last_time_step_mse: 0.0047\n",
      "Epoch 4/20\n",
      "219/219 [==============================] - 3s 16ms/step - loss: 0.0134 - last_time_step_mse: 0.0042\n",
      "Epoch 5/20\n",
      "219/219 [==============================] - 3s 15ms/step - loss: 0.0127 - last_time_step_mse: 0.0038\n",
      "Epoch 6/20\n",
      "219/219 [==============================] - 3s 16ms/step - loss: 0.0123 - last_time_step_mse: 0.0036\n",
      "Epoch 7/20\n",
      "219/219 [==============================] - 3s 12ms/step - loss: 0.0120 - last_time_step_mse: 0.0034\n",
      "Epoch 8/20\n",
      "219/219 [==============================] - 3s 13ms/step - loss: 0.0119 - last_time_step_mse: 0.0034\n",
      "Epoch 9/20\n",
      "219/219 [==============================] - 2s 10ms/step - loss: 0.0116 - last_time_step_mse: 0.0033\n",
      "Epoch 10/20\n",
      "219/219 [==============================] - 3s 15ms/step - loss: 0.0114 - last_time_step_mse: 0.0033\n",
      "Epoch 11/20\n",
      "219/219 [==============================] - 3s 14ms/step - loss: 0.0112 - last_time_step_mse: 0.0031\n",
      "Epoch 12/20\n",
      "219/219 [==============================] - 3s 15ms/step - loss: 0.0112 - last_time_step_mse: 0.0032\n",
      "Epoch 13/20\n",
      "219/219 [==============================] - 3s 14ms/step - loss: 0.0110 - last_time_step_mse: 0.0031\n",
      "Epoch 14/20\n",
      "219/219 [==============================] - 3s 16ms/step - loss: 0.0108 - last_time_step_mse: 0.0030\n",
      "Epoch 15/20\n",
      "219/219 [==============================] - 3s 15ms/step - loss: 0.0109 - last_time_step_mse: 0.0031\n",
      "Epoch 16/20\n",
      "219/219 [==============================] - 3s 15ms/step - loss: 0.0106 - last_time_step_mse: 0.0029\n",
      "Epoch 17/20\n",
      "219/219 [==============================] - 3s 16ms/step - loss: 0.0106 - last_time_step_mse: 0.0029\n",
      "Epoch 18/20\n",
      "219/219 [==============================] - 3s 13ms/step - loss: 0.0106 - last_time_step_mse: 0.0030\n",
      "Epoch 19/20\n",
      "219/219 [==============================] - 3s 14ms/step - loss: 0.0106 - last_time_step_mse: 0.0029\n",
      "Epoch 20/20\n",
      "219/219 [==============================] - 3s 14ms/step - loss: 0.0104 - last_time_step_mse: 0.0028\n"
     ]
    },
    {
     "data": {
      "text/plain": [
       "<keras.callbacks.History at 0x7fbb4ba46e60>"
      ]
     },
     "execution_count": 62,
     "metadata": {},
     "output_type": "execute_result"
    }
   ],
   "source": [
    "model.compile(loss=\"mse\", optimizer=optimizer, metrics=[last_time_step_mse])\n",
    "model.fit(X_train, y_train[:,3::2], epochs=20) # downsample y with 1:2 ratio starting with 3"
   ]
  },
  {
   "cell_type": "code",
   "execution_count": 63,
   "id": "116fe781",
   "metadata": {},
   "outputs": [
    {
     "name": "stdout",
     "output_type": "stream",
     "text": [
      "63/63 [==============================] - 0s 2ms/step - loss: 0.0106 - last_time_step_mse: 0.0027\n"
     ]
    },
    {
     "data": {
      "text/plain": [
       "[0.010567855089902878, 0.0026814064476639032]"
      ]
     },
     "execution_count": 63,
     "metadata": {},
     "output_type": "execute_result"
    }
   ],
   "source": [
    "model.evaluate(X_valid, y_valid[:, 3::2])"
   ]
  },
  {
   "cell_type": "markdown",
   "id": "43573d52",
   "metadata": {},
   "source": [
    "### WaveNet"
   ]
  },
  {
   "cell_type": "code",
   "execution_count": null,
   "id": "8e32bf5a",
   "metadata": {},
   "outputs": [],
   "source": [
    "model = keras.models.Sequential()\n",
    "model.add(keras.layers.InputLayer(input_shape=[None, 1]))\n",
    "for rate in (1, 2, 4, 8) * 2:\n",
    "    model.add(keras.layers.Conv1D(filters=20, kernel_size=2, padding=\"causal\", dilation_rate=rate))\n",
    "model.add(keras.layers.Conv1D(filters=10, kernel_size=1))"
   ]
  },
  {
   "cell_type": "code",
   "execution_count": 74,
   "id": "28880d87",
   "metadata": {
    "scrolled": true
   },
   "outputs": [
    {
     "name": "stdout",
     "output_type": "stream",
     "text": [
      "Epoch 1/20\n",
      "219/219 [==============================] - 2s 9ms/step - loss: 0.0440 - last_time_step_mse: 0.0298\n",
      "Epoch 2/20\n",
      "219/219 [==============================] - 3s 13ms/step - loss: 0.0439 - last_time_step_mse: 0.0298\n",
      "Epoch 3/20\n",
      "219/219 [==============================] - 3s 14ms/step - loss: 0.0439 - last_time_step_mse: 0.0298\n",
      "Epoch 4/20\n",
      "219/219 [==============================] - 3s 13ms/step - loss: 0.0439 - last_time_step_mse: 0.0298\n",
      "Epoch 5/20\n",
      "219/219 [==============================] - 3s 13ms/step - loss: 0.0440 - last_time_step_mse: 0.0299\n",
      "Epoch 6/20\n",
      "219/219 [==============================] - 2s 10ms/step - loss: 0.0438 - last_time_step_mse: 0.0295\n",
      "Epoch 7/20\n",
      "219/219 [==============================] - 3s 13ms/step - loss: 0.0438 - last_time_step_mse: 0.0297\n",
      "Epoch 8/20\n",
      "219/219 [==============================] - 3s 12ms/step - loss: 0.0438 - last_time_step_mse: 0.0295\n",
      "Epoch 9/20\n",
      "219/219 [==============================] - 3s 12ms/step - loss: 0.0437 - last_time_step_mse: 0.0295\n",
      "Epoch 10/20\n",
      "219/219 [==============================] - 3s 12ms/step - loss: 0.0438 - last_time_step_mse: 0.0296\n",
      "Epoch 11/20\n",
      "219/219 [==============================] - 3s 13ms/step - loss: 0.0438 - last_time_step_mse: 0.0296\n",
      "Epoch 12/20\n",
      "219/219 [==============================] - 2s 10ms/step - loss: 0.0437 - last_time_step_mse: 0.0295\n",
      "Epoch 13/20\n",
      "219/219 [==============================] - 2s 10ms/step - loss: 0.0439 - last_time_step_mse: 0.0298\n",
      "Epoch 14/20\n",
      "219/219 [==============================] - 2s 8ms/step - loss: 0.0437 - last_time_step_mse: 0.0296\n",
      "Epoch 15/20\n",
      "219/219 [==============================] - 3s 15ms/step - loss: 0.0437 - last_time_step_mse: 0.0295\n",
      "Epoch 16/20\n",
      "219/219 [==============================] - 2s 10ms/step - loss: 0.0437 - last_time_step_mse: 0.0295\n",
      "Epoch 17/20\n",
      "219/219 [==============================] - 3s 13ms/step - loss: 0.0437 - last_time_step_mse: 0.0297\n",
      "Epoch 18/20\n",
      "219/219 [==============================] - 2s 9ms/step - loss: 0.0438 - last_time_step_mse: 0.0296\n",
      "Epoch 19/20\n",
      "219/219 [==============================] - 3s 12ms/step - loss: 0.0437 - last_time_step_mse: 0.0296\n",
      "Epoch 20/20\n",
      "219/219 [==============================] - 2s 10ms/step - loss: 0.0437 - last_time_step_mse: 0.0295\n"
     ]
    },
    {
     "data": {
      "text/plain": [
       "<keras.callbacks.History at 0x7fbb29176320>"
      ]
     },
     "execution_count": 74,
     "metadata": {},
     "output_type": "execute_result"
    }
   ],
   "source": [
    "model.compile(loss=\"mse\", optimizer=\"adam\", metrics=[last_time_step_mse])\n",
    "model.fit(X_train,y_train, epochs=20) #"
   ]
  },
  {
   "cell_type": "code",
   "execution_count": 75,
   "id": "7073f390",
   "metadata": {
    "scrolled": false
   },
   "outputs": [
    {
     "name": "stdout",
     "output_type": "stream",
     "text": [
      "63/63 [==============================] - 0s 2ms/step - loss: 0.0440 - last_time_step_mse: 0.0287\n"
     ]
    },
    {
     "data": {
      "text/plain": [
       "[0.044006556272506714, 0.028664937242865562]"
      ]
     },
     "execution_count": 75,
     "metadata": {},
     "output_type": "execute_result"
    }
   ],
   "source": [
    "model.evaluate(X_valid, y_valid)"
   ]
  },
  {
   "cell_type": "code",
   "execution_count": null,
   "id": "027f80f7",
   "metadata": {},
   "outputs": [],
   "source": []
  }
 ],
 "metadata": {
  "kernelspec": {
   "display_name": "Python [conda env:HOML]",
   "language": "python",
   "name": "conda-env-HOML-py"
  },
  "language_info": {
   "codemirror_mode": {
    "name": "ipython",
    "version": 3
   },
   "file_extension": ".py",
   "mimetype": "text/x-python",
   "name": "python",
   "nbconvert_exporter": "python",
   "pygments_lexer": "ipython3",
   "version": "3.10.3"
  }
 },
 "nbformat": 4,
 "nbformat_minor": 5
}
