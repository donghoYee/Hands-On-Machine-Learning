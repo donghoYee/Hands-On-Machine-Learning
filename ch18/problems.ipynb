{
 "cells": [
  {
   "cell_type": "markdown",
   "id": "1d64644d",
   "metadata": {},
   "source": [
    "## 8.\n",
    "_연습문제: 정책 그레이디언트를 사용해 OpenAI 짐의 LunarLander-v2 환경을 해결해보세요. 이를 위해 Box2D 패키지를 설치해야 합니다(`%pip install -U gym[box2d]`)._"
   ]
  },
  {
   "cell_type": "code",
   "execution_count": 1,
   "id": "97e4b3e8",
   "metadata": {},
   "outputs": [],
   "source": [
    "import os\n",
    "os.environ['CUDA_VISIBLE_DEVICES'] = '-1' # do not use gpu\n",
    "\n",
    "import tensorflow as tf\n",
    "from tensorflow import keras\n",
    "import numpy as np\n",
    "import matplotlib.pyplot as plt"
   ]
  },
  {
   "cell_type": "code",
   "execution_count": 2,
   "id": "05cbd6d2",
   "metadata": {
    "collapsed": true
   },
   "outputs": [
    {
     "name": "stdout",
     "output_type": "stream",
     "text": [
      "Requirement already satisfied: gym[box2d] in /home/dongho/anaconda3/envs/HOML/lib/python3.10/site-packages (0.19.0)\n",
      "Collecting gym[box2d]\n",
      "  Downloading gym-0.25.2.tar.gz (734 kB)\n",
      "\u001b[K     |████████████████████████████████| 734 kB 9.6 MB/s eta 0:00:01\n",
      "\u001b[?25h  Installing build dependencies ... \u001b[?25ldone\n",
      "\u001b[?25h  Getting requirements to build wheel ... \u001b[?25ldone\n",
      "\u001b[?25h    Preparing wheel metadata ... \u001b[?25ldone\n",
      "\u001b[?25hRequirement already satisfied: cloudpickle>=1.2.0 in /home/dongho/anaconda3/envs/HOML/lib/python3.10/site-packages (from gym[box2d]) (1.6.0)\n",
      "Requirement already satisfied: numpy>=1.18.0 in /home/dongho/.local/lib/python3.10/site-packages (from gym[box2d]) (1.21.5)\n",
      "Requirement already satisfied: gym-notices>=0.0.4 in /home/dongho/.local/lib/python3.10/site-packages (from gym[box2d]) (0.0.6)\n",
      "Collecting pygame==2.1.0\n",
      "  Downloading pygame-2.1.0-cp310-cp310-manylinux_2_17_x86_64.manylinux2014_x86_64.whl (18.3 MB)\n",
      "\u001b[K     |████████████████████████████████| 18.3 MB 12.9 MB/s eta 0:00:011\n",
      "\u001b[?25hCollecting swig==4.*\n",
      "  Downloading swig-4.0.2-py2.py3-none-manylinux_2_5_x86_64.manylinux1_x86_64.whl (3.7 MB)\n",
      "\u001b[K     |████████████████████████████████| 3.7 MB 19.7 MB/s eta 0:00:01\n",
      "\u001b[?25hCollecting box2d-py==2.3.5\n",
      "  Downloading box2d-py-2.3.5.tar.gz (374 kB)\n",
      "\u001b[K     |████████████████████████████████| 374 kB 36.4 MB/s eta 0:00:01\n",
      "\u001b[?25hBuilding wheels for collected packages: box2d-py, gym\n",
      "  Building wheel for box2d-py (setup.py) ... \u001b[?25lerror\n",
      "\u001b[31m  ERROR: Command errored out with exit status 1:\n",
      "   command: /home/dongho/anaconda3/envs/HOML/bin/python -u -c 'import io, os, sys, setuptools, tokenize; sys.argv[0] = '\"'\"'/tmp/pip-install-y_59ks1_/box2d-py_4a0d6b32f63e4bc0a5c4cc7a46ee6480/setup.py'\"'\"'; __file__='\"'\"'/tmp/pip-install-y_59ks1_/box2d-py_4a0d6b32f63e4bc0a5c4cc7a46ee6480/setup.py'\"'\"';f = getattr(tokenize, '\"'\"'open'\"'\"', open)(__file__) if os.path.exists(__file__) else io.StringIO('\"'\"'from setuptools import setup; setup()'\"'\"');code = f.read().replace('\"'\"'\\r\\n'\"'\"', '\"'\"'\\n'\"'\"');f.close();exec(compile(code, __file__, '\"'\"'exec'\"'\"'))' bdist_wheel -d /tmp/pip-wheel-ti9v40f8\n",
      "       cwd: /tmp/pip-install-y_59ks1_/box2d-py_4a0d6b32f63e4bc0a5c4cc7a46ee6480/\n",
      "  Complete output (16 lines):\n",
      "  Using setuptools (version 61.2.0).\n",
      "  running bdist_wheel\n",
      "  running build\n",
      "  running build_py\n",
      "  creating build\n",
      "  creating build/lib.linux-x86_64-3.10\n",
      "  creating build/lib.linux-x86_64-3.10/Box2D\n",
      "  copying library/Box2D/__init__.py -> build/lib.linux-x86_64-3.10/Box2D\n",
      "  copying library/Box2D/Box2D.py -> build/lib.linux-x86_64-3.10/Box2D\n",
      "  creating build/lib.linux-x86_64-3.10/Box2D/b2\n",
      "  copying library/Box2D/b2/__init__.py -> build/lib.linux-x86_64-3.10/Box2D/b2\n",
      "  running build_ext\n",
      "  building 'Box2D._Box2D' extension\n",
      "  swigging Box2D/Box2D.i to Box2D/Box2D_wrap.cpp\n",
      "  swig -python -c++ -IBox2D -small -O -includeall -ignoremissing -w201 -globals b2Globals -outdir library/Box2D -keyword -w511 -D_SWIG_KWARGS -o Box2D/Box2D_wrap.cpp Box2D/Box2D.i\n",
      "  error: command 'swig' failed: No such file or directory\n",
      "  ----------------------------------------\u001b[0m\n",
      "\u001b[31m  ERROR: Failed building wheel for box2d-py\u001b[0m\n",
      "\u001b[?25h  Running setup.py clean for box2d-py\n",
      "  Building wheel for gym (PEP 517) ... \u001b[?25ldone\n",
      "\u001b[?25h  Created wheel for gym: filename=gym-0.25.2-py3-none-any.whl size=852301 sha256=f1fa1ed756f67bb199e11f904541f196ed9d35222ed94b2646ad87a6539a8ae5\n",
      "  Stored in directory: /home/dongho/.cache/pip/wheels/78/95/2c/ee47a8d43fda6a851e340e77e27cf75b49ff4ce2d1540c0e80\n",
      "Successfully built gym\n",
      "Failed to build box2d-py\n",
      "Installing collected packages: swig, pygame, gym, box2d-py\n",
      "  Attempting uninstall: pygame\n",
      "    Found existing installation: pygame 2.1.2\n",
      "    Uninstalling pygame-2.1.2:\n",
      "      Successfully uninstalled pygame-2.1.2\n",
      "  Attempting uninstall: gym\n",
      "    Found existing installation: gym 0.19.0\n",
      "    Uninstalling gym-0.19.0:\n",
      "      Successfully uninstalled gym-0.19.0\n",
      "    Running setup.py install for box2d-py ... \u001b[?25ldone\n",
      "\u001b[33m  DEPRECATION: box2d-py was installed using the legacy 'setup.py install' method, because a wheel could not be built for it. A possible replacement is to fix the wheel build issue reported above. You can find discussion regarding this at https://github.com/pypa/pip/issues/8368.\u001b[0m\n",
      "\u001b[?25hSuccessfully installed box2d-py-2.3.5 gym-0.25.2 pygame-2.1.0 swig-4.0.2\n"
     ]
    }
   ],
   "source": [
    "!pip install -U gym[box2d]"
   ]
  },
  {
   "cell_type": "code",
   "execution_count": 4,
   "id": "af429ce4",
   "metadata": {},
   "outputs": [
    {
     "name": "stderr",
     "output_type": "stream",
     "text": [
      "/home/dongho/anaconda3/envs/HOML/lib/python3.10/site-packages/gym/core.py:317: DeprecationWarning: \u001b[33mWARN: Initializing wrapper in old step API which returns one bool instead of two. It is recommended to set `new_step_api=True` to use new step API. This will be the default behaviour in future.\u001b[0m\n",
      "  deprecation(\n",
      "/home/dongho/anaconda3/envs/HOML/lib/python3.10/site-packages/gym/wrappers/step_api_compatibility.py:39: DeprecationWarning: \u001b[33mWARN: Initializing environment in old step API which returns one bool instead of two. It is recommended to set `new_step_api=True` to use new step API. This will be the default behaviour in future.\u001b[0m\n",
      "  deprecation(\n"
     ]
    }
   ],
   "source": [
    "import gym\n",
    "env = gym.make(\"LunarLander-v2\")"
   ]
  },
  {
   "cell_type": "code",
   "execution_count": 5,
   "id": "463018f2",
   "metadata": {},
   "outputs": [
    {
     "name": "stdout",
     "output_type": "stream",
     "text": [
      "[ 0.00466375  1.4152391   0.472367    0.19194697 -0.00539729 -0.10699828\n",
      "  0.          0.        ]\n"
     ]
    }
   ],
   "source": [
    "obs = env.reset()\n",
    "print(obs)"
   ]
  },
  {
   "cell_type": "code",
   "execution_count": 6,
   "id": "b714dc9d",
   "metadata": {},
   "outputs": [
    {
     "data": {
      "text/plain": [
       "Discrete(4)"
      ]
     },
     "execution_count": 6,
     "metadata": {},
     "output_type": "execute_result"
    }
   ],
   "source": [
    "env.action_space"
   ]
  },
  {
   "cell_type": "markdown",
   "id": "debc0833",
   "metadata": {},
   "source": [
    "### Q-network"
   ]
  },
  {
   "cell_type": "code",
   "execution_count": 9,
   "id": "c2ecafb0",
   "metadata": {},
   "outputs": [],
   "source": [
    "n_inputs = env.observation_space.shape[0] # observation's space to fit in the net\n",
    "n_outputs = env.action_space.n # env's input shape-> which is the action we take"
   ]
  },
  {
   "cell_type": "code",
   "execution_count": 10,
   "id": "ed9a690c",
   "metadata": {},
   "outputs": [
    {
     "name": "stderr",
     "output_type": "stream",
     "text": [
      "2022-08-20 12:06:06.006962: E tensorflow/stream_executor/cuda/cuda_driver.cc:271] failed call to cuInit: CUDA_ERROR_NO_DEVICE: no CUDA-capable device is detected\n",
      "2022-08-20 12:06:06.006999: I tensorflow/stream_executor/cuda/cuda_diagnostics.cc:169] retrieving CUDA diagnostic information for host: debian\n",
      "2022-08-20 12:06:06.007007: I tensorflow/stream_executor/cuda/cuda_diagnostics.cc:176] hostname: debian\n",
      "2022-08-20 12:06:06.007098: I tensorflow/stream_executor/cuda/cuda_diagnostics.cc:200] libcuda reported version is: 495.29.5\n",
      "2022-08-20 12:06:06.007124: I tensorflow/stream_executor/cuda/cuda_diagnostics.cc:204] kernel reported version is: 495.29.5\n",
      "2022-08-20 12:06:06.007131: I tensorflow/stream_executor/cuda/cuda_diagnostics.cc:310] kernel version seems to match DSO: 495.29.5\n",
      "2022-08-20 12:06:06.007512: I tensorflow/core/platform/cpu_feature_guard.cc:151] This TensorFlow binary is optimized with oneAPI Deep Neural Network Library (oneDNN) to use the following CPU instructions in performance-critical operations:  AVX2 FMA\n",
      "To enable them in other operations, rebuild TensorFlow with the appropriate compiler flags.\n"
     ]
    }
   ],
   "source": [
    "model = keras.models.Sequential([\n",
    "    keras.layers.Dense(32, activation=\"relu\", input_shape=[n_inputs]),\n",
    "    keras.layers.Dense(32, activation=\"relu\"),\n",
    "    keras.layers.Dense(n_outputs, activation=\"softmax\") # pick one\n",
    "])"
   ]
  },
  {
   "cell_type": "markdown",
   "id": "2b1dcaf2",
   "metadata": {},
   "source": [
    "그다음 CartPole-v1 정책 그레이디언트 코드에서 정의한 `play_one_step()`와 `play_multiple_episodes()` 함수를 재사용합니다. 하지만 다중 분류 모델에 맞게 `play_one_step()`를 조금 수정하겠습니다. 그다음 수정된 `play_one_step()` 를 호출하고, 우주선이 최대 스텝 횟수 전에 랜딩하지 못하면 (또는 부서지면) 큰 페널티를 부여하도록 `play_multiple_episodes()` 함수를 수정합니다."
   ]
  },
  {
   "cell_type": "code",
   "execution_count": 11,
   "id": "3e01eb67",
   "metadata": {},
   "outputs": [],
   "source": [
    "def lander_play_one_step(env, obs, model, loss_fn):\n",
    "    with tf.GradientTape() as tape:\n",
    "        probas = model(obs[np.newaxis])\n",
    "        logits = tf.math.log(probas+keras.backend.epsilon())\n",
    "        action = tf.random.categorical(logits, num_samples=1) # this picks out the\n",
    "        #action we would take based on probabilities\n",
    "        loss = tf.reduce_mean(loss_fn(action, probas)) # goal is to make the action more likely\n",
    "    grads = tape.gradient(loss, model.trainable_variables)\n",
    "    obs, reward, done, info= env.step(action[0,0].numpy())\n",
    "    return obs, reward, done, grads"
   ]
  },
  {
   "cell_type": "code",
   "execution_count": 12,
   "id": "e59d4529",
   "metadata": {},
   "outputs": [],
   "source": [
    "def lander_play_multiple_episodes(env, n_episodes, n_max_steps, model, loss_fn):\n",
    "    all_rewards = []\n",
    "    all_grads = []\n",
    "    for episode in range(n_episodes):\n",
    "        current_rewards = []\n",
    "        current_grads = []\n",
    "        obs = env.reset()\n",
    "        \n",
    "        for step in range(n_max_steps):\n",
    "            obs, reward, done, grads = lander_play_one_step(env, obs, model, loss_fn)\n",
    "            current_rewards.append(reward)\n",
    "            current_grads.append(grads)\n",
    "            if done:\n",
    "                break\n",
    "        all_rewards.append(current_rewards)\n",
    "        all_grads.append(current_grads)\n",
    "    return all_rewards, all_grads"
   ]
  },
  {
   "cell_type": "markdown",
   "id": "ae2d838b",
   "metadata": {},
   "source": [
    "앞에서와 동일한 discount_rewards()와 discount_and_normalize_rewards() 함수를 사용합니다:"
   ]
  },
  {
   "cell_type": "code",
   "execution_count": 13,
   "id": "7bd20916",
   "metadata": {},
   "outputs": [],
   "source": [
    "def discount_rewards(rewards, discount_rate):\n",
    "    discounted = np.array(rewards) # one vector\n",
    "    for step in range(len(rewards) -2, -1, -1):\n",
    "        discounted[step] += discount_rate * discounted[step + 1]\n",
    "    return discounted"
   ]
  },
  {
   "cell_type": "code",
   "execution_count": 18,
   "id": "f69cdfe4",
   "metadata": {},
   "outputs": [],
   "source": [
    "def discount_and_normalize_rewards(all_rewards, discount_rate):\n",
    "    all_discounted_rewards = [discount_rewards(rewards, discount_rate)\n",
    "                              for rewards in all_rewards]\n",
    "    flat_rewards = np.concatenate(all_discounted_rewards)\n",
    "    reward_mean = flat_rewards.mean()\n",
    "    reward_std = flat_rewards.std()\n",
    "    return [(discounted_rewards - reward_mean) / reward_std\n",
    "            for discounted_rewards in all_discounted_rewards]"
   ]
  },
  {
   "cell_type": "code",
   "execution_count": 15,
   "id": "8b3236b5",
   "metadata": {},
   "outputs": [],
   "source": [
    "n_iterations = 200\n",
    "n_episodes_per_update = 16\n",
    "n_max_steps = 1000\n",
    "discount_rate = 0.99"
   ]
  },
  {
   "cell_type": "markdown",
   "id": "9b89a758",
   "metadata": {},
   "source": [
    "여기서도 다중 분류 모델이기 때문에 이진 크로스 엔트로피가 아니라 범주형 크로스 엔트로피를 사용해야 합니다. 또한 `lander_play_one_step()` 함수가 클래스 확률이 아니라 클래스 레이블로 타깃을 설정하기 때문에 `sparse_categorical_crossentropy()` 손실 함수를 사용해야 합니다:"
   ]
  },
  {
   "cell_type": "code",
   "execution_count": 16,
   "id": "917b5cae",
   "metadata": {},
   "outputs": [],
   "source": [
    "optimizer = keras.optimizers.Nadam(learning_rate=0.005)\n",
    "loss_fn = keras.losses.sparse_categorical_crossentropy"
   ]
  },
  {
   "cell_type": "code",
   "execution_count": 19,
   "id": "bdad5673",
   "metadata": {},
   "outputs": [
    {
     "name": "stdout",
     "output_type": "stream",
     "text": [
      "Iteration: 200/200, mean reward: 131.7"
     ]
    }
   ],
   "source": [
    "env.seed(42)\n",
    "\n",
    "mean_rewards = []\n",
    "\n",
    "for iteration in range(n_iterations):\n",
    "    all_rewards, all_grads = lander_play_multiple_episodes(\n",
    "        env, n_episodes_per_update, n_max_steps, model, loss_fn)\n",
    "    mean_reward = sum(map(sum, all_rewards)) / n_episodes_per_update\n",
    "    \n",
    "    print(\"\\rIteration: {}/{}, mean reward: {:.1f}\".format(\n",
    "        iteration + 1, n_iterations, mean_reward), end=\"\")\n",
    "    mean_rewards.append(mean_reward)\n",
    "    all_final_rewards = discount_and_normalize_rewards(all_rewards, discount_rate)\n",
    "    \n",
    "    all_mean_grads = []\n",
    "    for var_index in range(len(model.trainable_variables)):\n",
    "        mean_grads = tf.reduce_mean(\n",
    "            [final_reward * all_grads[episode_index][step][var_index]\n",
    "             for episode_index, final_rewards in enumerate(all_final_rewards)\n",
    "                 for step, final_reward in enumerate(final_rewards)], axis=0)\n",
    "        all_mean_grads.append(mean_grads)\n",
    "    optimizer.apply_gradients(zip(all_mean_grads, model.trainable_variables))"
   ]
  },
  {
   "cell_type": "code",
   "execution_count": 20,
   "id": "94bd683e",
   "metadata": {},
   "outputs": [
    {
     "data": {
      "image/png": "[encoded data removed]",
      "text/plain": [
       "<Figure size 432x288 with 1 Axes>"
      ]
     },
     "metadata": {
      "needs_background": "light"
     },
     "output_type": "display_data"
    }
   ],
   "source": [
    "plt.plot(mean_rewards)\n",
    "plt.grid()\n",
    "plt.show()"
   ]
  },
  {
   "cell_type": "code",
   "execution_count": 21,
   "id": "c3831ca4",
   "metadata": {},
   "outputs": [],
   "source": [
    "def lander_render_policy_net(model, n_max_steps=500, seed=42):\n",
    "    frames = []\n",
    "    env = gym.make(\"LunarLander-v2\")\n",
    "    env.seed(seed)\n",
    "    tf.random.set_seed(seed)\n",
    "    np.random.seed(seed)\n",
    "    obs = env.reset()\n",
    "    for step in range(n_max_steps):\n",
    "        frames.append(env.render(mode=\"rgb_array\"))\n",
    "        probas = model(obs[np.newaxis])\n",
    "        logits = tf.math.log(probas + keras.backend.epsilon())\n",
    "        action = tf.random.categorical(logits, num_samples=1)\n",
    "        obs, reward, done, info = env.step(action[0,0].numpy())\n",
    "        if done:\n",
    "            break\n",
    "    env.close()\n",
    "    return frames"
   ]
  },
  {
   "cell_type": "code",
   "execution_count": 38,
   "id": "5fc8dba6",
   "metadata": {},
   "outputs": [],
   "source": [
    "frames = lander_render_policy_net(model, seed=42)"
   ]
  },
  {
   "cell_type": "code",
   "execution_count": 39,
   "id": "053d0d2f",
   "metadata": {},
   "outputs": [],
   "source": [
    "def update_scene(num, frames, patch):\n",
    "    patch.set_data(frames[num])\n",
    "    return patch,\n",
    "\n",
    "def plot_animation(frames, repeat=False, interval=40):\n",
    "    fig = plt.figure()\n",
    "    patch = plt.imshow(frames[0])\n",
    "    plt.axis('off')\n",
    "    anim = animation.FuncAnimation(\n",
    "        fig, update_scene, fargs=(frames, patch),\n",
    "        frames=len(frames), repeat=repeat, interval=interval)\n",
    "    plt.close()\n",
    "    return anim"
   ]
  },
  {
   "cell_type": "code",
   "execution_count": 40,
   "id": "0757b2be",
   "metadata": {},
   "outputs": [],
   "source": [
    "import PIL\n",
    "\n",
    "image_path = os.path.join(\"images\", \"LunarLander.gif\")\n",
    "frame_images = [PIL.Image.fromarray(frame) for frame in frames[:250]]\n",
    "frame_images[0].save(image_path, format='GIF',\n",
    "                     append_images=frame_images[1:],\n",
    "                     save_all=True,\n",
    "                     duration=30,\n",
    "                     loop=0)"
   ]
  },
  {
   "cell_type": "code",
   "execution_count": 37,
   "id": "c325a252",
   "metadata": {},
   "outputs": [
    {
     "data": {
      "text/html": [
       "<img src=\"images/LunarLander.gif\" />\n"
      ],
      "text/plain": [
       "<IPython.core.display.HTML object>"
      ]
     },
     "metadata": {},
     "output_type": "display_data"
    }
   ],
   "source": [
    "%%html\n",
    "<img src=\"images/LunarLander.gif\" />"
   ]
  },
  {
   "cell_type": "markdown",
   "id": "4ac5a2b5",
   "metadata": {},
   "source": [
    "## 9.\n",
    "_연습문제: 알고리즘에 상관없이 TF-Agents를 사용해 SpaceInvaders-v4 환경에서 사람을 능가하는 에이전트를 훈련해보세요._"
   ]
  },
  {
   "cell_type": "markdown",
   "id": "89456a7c",
   "metadata": {},
   "source": [
    "`\"Breakout-v4\"`를 `\"SpaceInvaders-v4\"`로 바꾸고 [TF Agents를 사용해 브레이크아웃 게임하기](#TF-Agents%EB%A5%BC-%EC%82%AC%EC%9A%A9%ED%95%B4-%EB%B8%8C%EB%A0%88%EC%9D%B4%ED%81%AC%EC%95%84%EC%9B%83-%EA%B2%8C%EC%9E%84%ED%95%98%EA%B8%B0) 절에 있는 단계를 따라해 보세요. 하지만 몇 가지를 바꾸어야 합니다. 예를 들어 스페이스 인베이더 게임은 게임을 시작할 때 FIRE 버튼을 누를 필요가 없습니다. 대신 플레이어의 레이저 캐논이 몇 초간 깜빡거린 다음 자동으로 게임이 시작됩니다. 성능을 높이려면 에피소드를 시작할 때와 죽을 때마다 깜빡임 단계(약 40 스텝 동안 지속됩니다)를 건너 뛸 수 있습니다. 사실 이 단계에서는 아무것도 할 수 없고 아무것도 움직이지 않습니다. 건너 뛰는 방법은 `AtariPreprocessingWithAutoFire` 래퍼 대신에 다음과 같은 사용자 정의 환경 래퍼를 사용하는 것입니다:"
   ]
  },
  {
   "cell_type": "code",
   "execution_count": 2,
   "id": "9a859234",
   "metadata": {},
   "outputs": [
    {
     "name": "stderr",
     "output_type": "stream",
     "text": [
      "A.L.E: Arcade Learning Environment (version 0.7.5+db37282)\n",
      "[Powered by Stella]\n",
      "/home/dongho/anaconda3/envs/HOML/lib/python3.10/site-packages/gym/core.py:317: DeprecationWarning: \u001b[33mWARN: Initializing wrapper in old step API which returns one bool instead of two. It is recommended to set `new_step_api=True` to use new step API. This will be the default behaviour in future.\u001b[0m\n",
      "  deprecation(\n",
      "/home/dongho/anaconda3/envs/HOML/lib/python3.10/site-packages/gym/wrappers/step_api_compatibility.py:39: DeprecationWarning: \u001b[33mWARN: Initializing environment in old step API which returns one bool instead of two. It is recommended to set `new_step_api=True` to use new step API. This will be the default behaviour in future.\u001b[0m\n",
      "  deprecation(\n"
     ]
    }
   ],
   "source": [
    "from tf_agents.environments import suite_gym\n",
    "\n",
    "env = suite_gym.load(\"SpaceInvaders-v4\")"
   ]
  },
  {
   "cell_type": "code",
   "execution_count": 3,
   "id": "b1454643",
   "metadata": {
    "scrolled": true
   },
   "outputs": [
    {
     "data": {
      "text/plain": [
       "TimeStep(\n",
       "{'discount': array(1., dtype=float32),\n",
       " 'observation': array([[[ 0,  0,  0],\n",
       "        [ 0,  0,  0],\n",
       "        [ 0,  0,  0],\n",
       "        ...,\n",
       "        [ 0,  0,  0],\n",
       "        [ 0,  0,  0],\n",
       "        [ 0,  0,  0]],\n",
       "\n",
       "       [[ 0,  0,  0],\n",
       "        [ 0,  0,  0],\n",
       "        [ 0,  0,  0],\n",
       "        ...,\n",
       "        [ 0,  0,  0],\n",
       "        [ 0,  0,  0],\n",
       "        [ 0,  0,  0]],\n",
       "\n",
       "       [[ 0,  0,  0],\n",
       "        [ 0,  0,  0],\n",
       "        [ 0,  0,  0],\n",
       "        ...,\n",
       "        [ 0,  0,  0],\n",
       "        [ 0,  0,  0],\n",
       "        [ 0,  0,  0]],\n",
       "\n",
       "       ...,\n",
       "\n",
       "       [[80, 89, 22],\n",
       "        [80, 89, 22],\n",
       "        [80, 89, 22],\n",
       "        ...,\n",
       "        [80, 89, 22],\n",
       "        [80, 89, 22],\n",
       "        [80, 89, 22]],\n",
       "\n",
       "       [[80, 89, 22],\n",
       "        [80, 89, 22],\n",
       "        [80, 89, 22],\n",
       "        ...,\n",
       "        [80, 89, 22],\n",
       "        [80, 89, 22],\n",
       "        [80, 89, 22]],\n",
       "\n",
       "       [[80, 89, 22],\n",
       "        [80, 89, 22],\n",
       "        [80, 89, 22],\n",
       "        ...,\n",
       "        [80, 89, 22],\n",
       "        [80, 89, 22],\n",
       "        [80, 89, 22]]], dtype=uint8),\n",
       " 'reward': array(0., dtype=float32),\n",
       " 'step_type': array(0, dtype=int32)})"
      ]
     },
     "execution_count": 3,
     "metadata": {},
     "output_type": "execute_result"
    }
   ],
   "source": [
    "env.reset()"
   ]
  },
  {
   "cell_type": "code",
   "execution_count": 4,
   "id": "889716af",
   "metadata": {},
   "outputs": [
    {
     "name": "stderr",
     "output_type": "stream",
     "text": [
      "/home/dongho/anaconda3/envs/HOML/lib/python3.10/site-packages/gym/core.py:43: DeprecationWarning: \u001b[33mWARN: The argument mode in render method is deprecated; use render_mode during environment initialization instead.\n",
      "See here for more information: https://www.gymlibrary.ml/content/api/\u001b[0m\n",
      "  deprecation(\n",
      "/home/dongho/anaconda3/envs/HOML/lib/python3.10/site-packages/gym/utils/passive_env_checker.py:297: UserWarning: \u001b[33mWARN: No render fps was declared in the environment (env.metadata['render_fps'] is None or not defined), rendering may occur at inconsistent fps.\u001b[0m\n",
      "  logger.warn(\n"
     ]
    },
    {
     "data": {
      "image/png": "[encoded data removed]",
      "text/plain": [
       "<Figure size 432x576 with 1 Axes>"
      ]
     },
     "metadata": {
      "needs_background": "light"
     },
     "output_type": "display_data"
    }
   ],
   "source": [
    "img = env.render(mode=\"rgb_array\")\n",
    "\n",
    "plt.figure(figsize=(6, 8))\n",
    "plt.imshow(img)\n",
    "plt.axis(\"off\")\n",
    "plt.show()"
   ]
  },
  {
   "cell_type": "code",
   "execution_count": 5,
   "id": "deb9e253",
   "metadata": {},
   "outputs": [
    {
     "data": {
      "text/plain": [
       "BoundedArraySpec(shape=(210, 160, 3), dtype=dtype('uint8'), name='observation', minimum=0, maximum=255)"
      ]
     },
     "execution_count": 5,
     "metadata": {},
     "output_type": "execute_result"
    }
   ],
   "source": [
    "env.observation_spec()"
   ]
  },
  {
   "cell_type": "code",
   "execution_count": 6,
   "id": "6d76871e",
   "metadata": {},
   "outputs": [
    {
     "data": {
      "text/plain": [
       "BoundedArraySpec(shape=(), dtype=dtype('int64'), name='action', minimum=0, maximum=5)"
      ]
     },
     "execution_count": 6,
     "metadata": {},
     "output_type": "execute_result"
    }
   ],
   "source": [
    "env.action_spec()"
   ]
  },
  {
   "cell_type": "code",
   "execution_count": 7,
   "id": "58483a6c",
   "metadata": {},
   "outputs": [
    {
     "data": {
      "text/plain": [
       "TimeStep(\n",
       "{'discount': BoundedArraySpec(shape=(), dtype=dtype('float32'), name='discount', minimum=0.0, maximum=1.0),\n",
       " 'observation': BoundedArraySpec(shape=(210, 160, 3), dtype=dtype('uint8'), name='observation', minimum=0, maximum=255),\n",
       " 'reward': ArraySpec(shape=(), dtype=dtype('float32'), name='reward'),\n",
       " 'step_type': ArraySpec(shape=(), dtype=dtype('int32'), name='step_type')})"
      ]
     },
     "execution_count": 7,
     "metadata": {},
     "output_type": "execute_result"
    }
   ],
   "source": [
    "env.time_step_spec()"
   ]
  },
  {
   "cell_type": "code",
   "execution_count": 8,
   "id": "52e4f7c8",
   "metadata": {},
   "outputs": [],
   "source": [
    "from tf_agents.environments import suite_atari\n",
    "from tf_agents.environments.atari_preprocessing import AtariPreprocessing\n",
    "from tf_agents.environments.atari_wrappers import FrameStack4\n",
    "\n",
    "max_episode_steps = 27000\n",
    "environment_name = \"SpaceInvadersNoFrameskip-v4\"\n",
    "\n",
    "class AtariPreprocessingWithSkipStart(AtariPreprocessing):\n",
    "    def skip_frames(self, num_skip):\n",
    "        for _ in range(num_skip):\n",
    "            super().step(0) # do nothing\n",
    "    \n",
    "    def reset(self, **kwargs):\n",
    "        obs = super().reset(**kwargs)\n",
    "        self.skip_frames(40) # do nothing for 40 frames on startup\n",
    "        return obs\n",
    "    \n",
    "    def step(self, action):\n",
    "        lives_before_action = self.ale.lives()\n",
    "        obs, rewards, done, info = super().step(action) # super() is the same thing as env!\n",
    "        if self.ale.lives() < lives_before_action and not done: # just died-> skip_frames\n",
    "            self.skip_frames(40)\n",
    "        return obs, rewards, done, info\n",
    "        \n",
    "    "
   ]
  },
  {
   "cell_type": "code",
   "execution_count": 9,
   "id": "c6d2d866",
   "metadata": {},
   "outputs": [],
   "source": [
    "env = suite_atari.load(\n",
    "    environment_name,\n",
    "    max_episode_steps=max_episode_steps,\n",
    "    gym_env_wrappers=[AtariPreprocessingWithSkipStart, FrameStack4])"
   ]
  },
  {
   "cell_type": "code",
   "execution_count": 10,
   "id": "1b732212",
   "metadata": {},
   "outputs": [],
   "source": [
    "from tf_agents.environments.tf_py_environment import TFPyEnvironment\n",
    "\n",
    "tf_env = TFPyEnvironment(env)"
   ]
  },
  {
   "cell_type": "code",
   "execution_count": 11,
   "id": "828e4ddc",
   "metadata": {},
   "outputs": [],
   "source": [
    "# Q-network\n",
    "from tf_agents.networks.q_network import QNetwork\n",
    "\n",
    "preprocessing_layer = keras.layers.Lambda(\n",
    "    lambda obs: tf.cast(obs, np.float32) / 255.)\n",
    "\n",
    "conv_layer_params = [(32, (8, 8), 4), (64, (4, 4), 2), (64, (3, 3), 1)]\n",
    "fc_layer_params = [512]\n",
    "\n",
    "q_net = QNetwork(\n",
    "    tf_env.observation_spec(), ## put in specs for input and output of the model!\n",
    "    tf_env.action_spec(),\n",
    "    preprocessing_layers=preprocessing_layer,\n",
    "    conv_layer_params=conv_layer_params,\n",
    "    fc_layer_params = fc_layer_params,\n",
    ")"
   ]
  },
  {
   "cell_type": "code",
   "execution_count": 12,
   "id": "fb3cf2ae",
   "metadata": {},
   "outputs": [
    {
     "name": "stderr",
     "output_type": "stream",
     "text": [
      "2022-08-21 03:21:01.350089: E tensorflow/stream_executor/cuda/cuda_driver.cc:271] failed call to cuInit: CUDA_ERROR_NO_DEVICE: no CUDA-capable device is detected\n",
      "2022-08-21 03:21:01.350123: I tensorflow/stream_executor/cuda/cuda_diagnostics.cc:169] retrieving CUDA diagnostic information for host: debian\n",
      "2022-08-21 03:21:01.350131: I tensorflow/stream_executor/cuda/cuda_diagnostics.cc:176] hostname: debian\n",
      "2022-08-21 03:21:01.350211: I tensorflow/stream_executor/cuda/cuda_diagnostics.cc:200] libcuda reported version is: 495.29.5\n",
      "2022-08-21 03:21:01.350236: I tensorflow/stream_executor/cuda/cuda_diagnostics.cc:204] kernel reported version is: 495.29.5\n",
      "2022-08-21 03:21:01.350243: I tensorflow/stream_executor/cuda/cuda_diagnostics.cc:310] kernel version seems to match DSO: 495.29.5\n",
      "2022-08-21 03:21:01.350687: I tensorflow/core/platform/cpu_feature_guard.cc:151] This TensorFlow binary is optimized with oneAPI Deep Neural Network Library (oneDNN) to use the following CPU instructions in performance-critical operations:  AVX2 FMA\n",
      "To enable them in other operations, rebuild TensorFlow with the appropriate compiler flags.\n"
     ]
    }
   ],
   "source": [
    "from tf_agents.agents.dqn.dqn_agent import DqnAgent\n",
    "\n",
    "train_step = tf.Variable(0)\n",
    "update_period = 4\n",
    "optimizer = keras.optimizers.RMSprop(learning_rate=2.5e-4, rho=0.95, momentum=0,\n",
    "                                     epsilon=0.00001, centered=True)\n",
    "\n",
    "epsilon_fn = keras.optimizers.schedules.PolynomialDecay(\n",
    "    initial_learning_rate=1.0, # initial epsilon\n",
    "    decay_steps = 250000 // update_period,\n",
    "    end_learning_rate=0.01)\n",
    "\n",
    "agent = DqnAgent(\n",
    "    tf_env.time_step_spec(),\n",
    "    tf_env.action_spec(), # no need for obs spec!\n",
    "    q_network = q_net,\n",
    "    optimizer = optimizer,\n",
    "    target_update_period=2000, # time to update the target from online model\n",
    "    td_errors_loss_fn=keras.losses.Huber(reduction=\"none\"),# loss function\n",
    "    gamma = 0.99,\n",
    "    train_step_counter=train_step,\n",
    "    epsilon_greedy = lambda: epsilon_fn(train_step)\n",
    ")\n",
    "\n",
    "agent.initialize()"
   ]
  },
  {
   "cell_type": "code",
   "execution_count": 13,
   "id": "0a58fd76",
   "metadata": {},
   "outputs": [
    {
     "name": "stderr",
     "output_type": "stream",
     "text": [
      "2022-08-21 03:21:04.302076: W tensorflow/core/framework/cpu_allocator_impl.cc:82] Allocation of 14112000000 exceeds 10% of free system memory.\n"
     ]
    }
   ],
   "source": [
    "from tf_agents.replay_buffers import tf_uniform_replay_buffer\n",
    "\n",
    "replay_buffer = tf_uniform_replay_buffer.TFUniformReplayBuffer(\n",
    "    data_spec=agent.collect_data_spec,\n",
    "    batch_size = tf_env.batch_size,\n",
    "    max_length = 500000)\n",
    "\n",
    "replay_buffer_observer = replay_buffer.add_batch # a function to put data in to buffer\n",
    "    "
   ]
  },
  {
   "cell_type": "code",
   "execution_count": 14,
   "id": "377df006",
   "metadata": {},
   "outputs": [],
   "source": [
    "class ShowProgress:\n",
    "    def __init__(self, total):\n",
    "        self.counter = 0\n",
    "        self.total = total\n",
    "        \n",
    "    def __call__(self, trajectory):\n",
    "        if not trajectory.is_boundary(): # inside of play\n",
    "            self.counter += 1\n",
    "        if self.counter % 100 == 0:\n",
    "            print(\"\\r{}/{}\".format(self.counter, self.total), end=\"\")"
   ]
  },
  {
   "cell_type": "code",
   "execution_count": 15,
   "id": "b4540342",
   "metadata": {},
   "outputs": [],
   "source": [
    "from tf_agents.metrics import tf_metrics\n",
    "\n",
    "train_metrics = [\n",
    "    tf_metrics.NumberOfEpisodes(),\n",
    "    tf_metrics.EnvironmentSteps(),\n",
    "    tf_metrics.AverageReturnMetric(),\n",
    "    tf_metrics.AverageEpisodeLengthMetric(),\n",
    "]"
   ]
  },
  {
   "cell_type": "code",
   "execution_count": 16,
   "id": "81b7d4be",
   "metadata": {},
   "outputs": [
    {
     "name": "stderr",
     "output_type": "stream",
     "text": [
      "INFO:absl: \n",
      "\t\t NumberOfEpisodes = 0\n",
      "\t\t EnvironmentSteps = 0\n",
      "\t\t AverageReturn = 0.0\n",
      "\t\t AverageEpisodeLength = 0.0\n"
     ]
    }
   ],
   "source": [
    "from tf_agents.eval.metric_utils import log_metrics\n",
    "import logging\n",
    "\n",
    "logging.getLogger().setLevel(logging.INFO)\n",
    "log_metrics(train_metrics)\n"
   ]
  },
  {
   "cell_type": "code",
   "execution_count": 17,
   "id": "44b1a024",
   "metadata": {},
   "outputs": [],
   "source": [
    "from tf_agents.drivers.dynamic_step_driver import DynamicStepDriver\n",
    "\n",
    "collect_driver = DynamicStepDriver(\n",
    "    tf_env, \n",
    "    agent.collect_policy,\n",
    "    observers = [replay_buffer_observer] + train_metrics,\n",
    "    num_steps=update_period)\n"
   ]
  },
  {
   "cell_type": "code",
   "execution_count": 18,
   "id": "0a3700a0",
   "metadata": {},
   "outputs": [
    {
     "name": "stderr",
     "output_type": "stream",
     "text": [
      "/home/dongho/anaconda3/envs/HOML/lib/python3.10/site-packages/gym/utils/passive_env_checker.py:227: DeprecationWarning: \u001b[33mWARN: Core environment is written in old step API which returns one bool instead of two. It is recommended to rewrite the environment with new step API. \u001b[0m\n",
      "  logger.deprecation(\n"
     ]
    },
    {
     "name": "stdout",
     "output_type": "stream",
     "text": [
      "20000/20000"
     ]
    }
   ],
   "source": [
    "# get experiences before training\n",
    "from tf_agents.policies.random_tf_policy import RandomTFPolicy\n",
    "\n",
    "initial_collect_policy = RandomTFPolicy(tf_env.time_step_spec(),\n",
    "                                        tf_env.action_spec())\n",
    "\n",
    "init_driver = DynamicStepDriver(\n",
    "    tf_env,\n",
    "    initial_collect_policy,\n",
    "    observers=[replay_buffer.add_batch, ShowProgress(20000)],\n",
    "    num_steps=20000)\n",
    "\n",
    "final_time_step, final_policy_state = init_driver.run()"
   ]
  },
  {
   "cell_type": "code",
   "execution_count": 19,
   "id": "3c36cd9b",
   "metadata": {
    "scrolled": true
   },
   "outputs": [
    {
     "name": "stdout",
     "output_type": "stream",
     "text": [
      "WARNING:tensorflow:From /home/dongho/.local/lib/python3.10/site-packages/tensorflow/python/autograph/impl/api.py:377: ReplayBuffer.get_next (from tf_agents.replay_buffers.replay_buffer) is deprecated and will be removed in a future version.\n",
      "Instructions for updating:\n",
      "Use `as_dataset(..., single_deterministic_pass=False) instead.\n"
     ]
    },
    {
     "name": "stderr",
     "output_type": "stream",
     "text": [
      "WARNING:tensorflow:From /home/dongho/.local/lib/python3.10/site-packages/tensorflow/python/autograph/impl/api.py:377: ReplayBuffer.get_next (from tf_agents.replay_buffers.replay_buffer) is deprecated and will be removed in a future version.\n",
      "Instructions for updating:\n",
      "Use `as_dataset(..., single_deterministic_pass=False) instead.\n"
     ]
    }
   ],
   "source": [
    "trajectories, buffer_info = next(iter(replay_buffer.as_dataset(\n",
    "    sample_batch_size=2,\n",
    "    num_steps=3,\n",
    "    single_deterministic_pass=False)))"
   ]
  },
  {
   "cell_type": "code",
   "execution_count": 20,
   "id": "3a981b7f",
   "metadata": {},
   "outputs": [
    {
     "data": {
      "text/plain": [
       "('step_type',\n",
       " 'observation',\n",
       " 'action',\n",
       " 'policy_info',\n",
       " 'next_step_type',\n",
       " 'reward',\n",
       " 'discount')"
      ]
     },
     "execution_count": 20,
     "metadata": {},
     "output_type": "execute_result"
    }
   ],
   "source": [
    "trajectories._fields"
   ]
  },
  {
   "cell_type": "code",
   "execution_count": 21,
   "id": "e8c445d6",
   "metadata": {},
   "outputs": [
    {
     "data": {
      "text/plain": [
       "TensorShape([2, 3, 84, 84, 4])"
      ]
     },
     "execution_count": 21,
     "metadata": {},
     "output_type": "execute_result"
    }
   ],
   "source": [
    "trajectories.observation.shape"
   ]
  },
  {
   "cell_type": "code",
   "execution_count": 22,
   "id": "0207853c",
   "metadata": {},
   "outputs": [
    {
     "name": "stdout",
     "output_type": "stream",
     "text": [
      "(2, 2, 84, 84, 4)\n"
     ]
    }
   ],
   "source": [
    "from tf_agents.trajectories.trajectory import to_transition\n",
    "\n",
    "time_steps, action_steps, next_time_steps = to_transition(trajectories)\n",
    "print(time_steps.observation.shape)"
   ]
  },
  {
   "cell_type": "code",
   "execution_count": 25,
   "id": "a929c658",
   "metadata": {},
   "outputs": [
    {
     "data": {
      "image/png": "[encoded data removed]",
      "text/plain": [
       "<Figure size 720x489.6 with 6 Axes>"
      ]
     },
     "metadata": {
      "needs_background": "light"
     },
     "output_type": "display_data"
    }
   ],
   "source": [
    "def plot_observation(obs):\n",
    "    # 컬러 채널이 3개이기 때문에 4 프레임을 출력할 수 없습니다.\n",
    "    # 따라서 현재 프레임과 다른 프레임의 평균 값을 뺀 차이를 계산합니다.\n",
    "    # 그다음 이 차이를 현재 프레임의 빨강과 파랑 채널에 더해서 보라 색을 구합니다.\n",
    "    obs = obs.astype(np.float32)\n",
    "    img = obs[..., :3]\n",
    "    current_frame_delta = np.maximum(obs[..., 3] - obs[..., :3].mean(axis=-1), 0.)\n",
    "    img[..., 0] += current_frame_delta\n",
    "    img[..., 2] += current_frame_delta\n",
    "    img = np.clip(img / 150, 0, 1)\n",
    "    plt.imshow(img)\n",
    "    plt.axis(\"off\")\n",
    "\n",
    "plt.figure(figsize=(10, 6.8))\n",
    "for row in range(2):\n",
    "    for col in range(3):\n",
    "        plt.subplot(2, 3, row * 3 + col + 1)\n",
    "        plot_observation(trajectories.observation[row, col].numpy())\n",
    "plt.subplots_adjust(left=0, right=1, bottom=0, top=1, hspace=0, wspace=0.02)\n",
    "plt.show()"
   ]
  },
  {
   "cell_type": "code",
   "execution_count": 26,
   "id": "0e24f8e2",
   "metadata": {},
   "outputs": [],
   "source": [
    "dataset = replay_buffer.as_dataset(\n",
    "    sample_batch_size=64,\n",
    "    num_steps=2,\n",
    "    num_parallel_calls=3\n",
    ").prefetch(3)"
   ]
  },
  {
   "cell_type": "code",
   "execution_count": 27,
   "id": "df80a5a3",
   "metadata": {},
   "outputs": [],
   "source": [
    "from tf_agents.utils.common import function\n",
    "collect_driver.run = function(collect_driver.run) # turn it into tf-function to increase performance\n",
    "agent.train = function(agent.train)"
   ]
  },
  {
   "cell_type": "code",
   "execution_count": 28,
   "id": "0ccc7f43",
   "metadata": {},
   "outputs": [],
   "source": [
    "from time import time\n",
    "\n",
    "\n",
    "def train_agent(n_iterations):\n",
    "    start_time = time()\n",
    "    time_step = None\n",
    "    policy_state = agent.collect_policy.get_initial_state(tf_env.batch_size)\n",
    "    iterator = iter(dataset) # iterator 객채\n",
    "    for iteration in range(n_iterations): \n",
    "        time_step, policy_state = collect_driver.run(time_step, policy_state) # 탐색 \n",
    "        trajectories, buffer_info = next(iterator) # 가져옴\n",
    "        train_loss = agent.train(trajectories) # 훈련\n",
    "        print(\"\\r{} loss:{:.5f}\".format( iteration, train_loss.loss.numpy()), end=\"\")\n",
    "        \n",
    "        if iteration % 1000 == 0:\n",
    "            print()\n",
    "            print(\"elapsed_time: {:.2f}s\".format(time()-start_time))\n",
    "            start_time = time()\n",
    "            log_metrics(train_metrics) # log values"
   ]
  },
  {
   "cell_type": "code",
   "execution_count": 35,
   "id": "dfae5e20",
   "metadata": {
    "scrolled": true
   },
   "outputs": [
    {
     "name": "stderr",
     "output_type": "stream",
     "text": [
      "INFO:absl: \n",
      "\t\t NumberOfEpisodes = 3554\n",
      "\t\t EnvironmentSteps = 2294476\n",
      "\t\t AverageReturn = 529.5\n",
      "\t\t AverageEpisodeLength = 822.9000244140625\n"
     ]
    },
    {
     "name": "stdout",
     "output_type": "stream",
     "text": [
      "0 loss:1.21611\n",
      "elapsed_time: 0.11s\n",
      "997 loss:0.71152"
     ]
    },
    {
     "name": "stderr",
     "output_type": "stream",
     "text": [
      "INFO:absl: \n",
      "\t\t NumberOfEpisodes = 3559\n",
      "\t\t EnvironmentSteps = 2298476\n",
      "\t\t AverageReturn = 611.0\n",
      "\t\t AverageEpisodeLength = 940.5999755859375\n"
     ]
    },
    {
     "name": "stdout",
     "output_type": "stream",
     "text": [
      "1000 loss:1.15416\n",
      "elapsed_time: 40.27s\n",
      "1997 loss:1.10308"
     ]
    },
    {
     "name": "stderr",
     "output_type": "stream",
     "text": [
      "INFO:absl: \n",
      "\t\t NumberOfEpisodes = 3563\n",
      "\t\t EnvironmentSteps = 2302476\n",
      "\t\t AverageReturn = 658.0\n",
      "\t\t AverageEpisodeLength = 982.5999755859375\n"
     ]
    },
    {
     "name": "stdout",
     "output_type": "stream",
     "text": [
      "2000 loss:1.59718\n",
      "elapsed_time: 41.05s\n",
      "2995 loss:1.25441"
     ]
    },
    {
     "name": "stderr",
     "output_type": "stream",
     "text": [
      "INFO:absl: \n",
      "\t\t NumberOfEpisodes = 3568\n",
      "\t\t EnvironmentSteps = 2306476\n",
      "\t\t AverageReturn = 608.0\n",
      "\t\t AverageEpisodeLength = 873.7000122070312\n"
     ]
    },
    {
     "name": "stdout",
     "output_type": "stream",
     "text": [
      "3000 loss:0.97912\n",
      "elapsed_time: 41.35s\n",
      "3998 loss:1.00749"
     ]
    },
    {
     "name": "stderr",
     "output_type": "stream",
     "text": [
      "INFO:absl: \n",
      "\t\t NumberOfEpisodes = 3573\n",
      "\t\t EnvironmentSteps = 2310476\n",
      "\t\t AverageReturn = 525.5\n",
      "\t\t AverageEpisodeLength = 815.5999755859375\n"
     ]
    },
    {
     "name": "stdout",
     "output_type": "stream",
     "text": [
      "4000 loss:0.99973\n",
      "elapsed_time: 41.37s\n",
      "4995 loss:2.15251"
     ]
    },
    {
     "name": "stderr",
     "output_type": "stream",
     "text": [
      "INFO:absl: \n",
      "\t\t NumberOfEpisodes = 3577\n",
      "\t\t EnvironmentSteps = 2314476\n",
      "\t\t AverageReturn = 453.5\n",
      "\t\t AverageEpisodeLength = 791.0\n"
     ]
    },
    {
     "name": "stdout",
     "output_type": "stream",
     "text": [
      "5000 loss:0.84574\n",
      "elapsed_time: 41.35s\n",
      "5995 loss:0.74649"
     ]
    },
    {
     "name": "stderr",
     "output_type": "stream",
     "text": [
      "INFO:absl: \n",
      "\t\t NumberOfEpisodes = 3581\n",
      "\t\t EnvironmentSteps = 2318476\n",
      "\t\t AverageReturn = 544.5\n",
      "\t\t AverageEpisodeLength = 820.9000244140625\n"
     ]
    },
    {
     "name": "stdout",
     "output_type": "stream",
     "text": [
      "6000 loss:1.42487\n",
      "elapsed_time: 41.17s\n",
      "6999 loss:0.97968"
     ]
    },
    {
     "name": "stderr",
     "output_type": "stream",
     "text": [
      "INFO:absl: \n",
      "\t\t NumberOfEpisodes = 3585\n",
      "\t\t EnvironmentSteps = 2322476\n",
      "\t\t AverageReturn = 684.5\n",
      "\t\t AverageEpisodeLength = 1009.4000244140625\n"
     ]
    },
    {
     "name": "stdout",
     "output_type": "stream",
     "text": [
      "7000 loss:1.89950\n",
      "elapsed_time: 41.51s\n",
      "7997 loss:0.77006"
     ]
    },
    {
     "name": "stderr",
     "output_type": "stream",
     "text": [
      "INFO:absl: \n",
      "\t\t NumberOfEpisodes = 3588\n",
      "\t\t EnvironmentSteps = 2326476\n",
      "\t\t AverageReturn = 801.5\n",
      "\t\t AverageEpisodeLength = 1069.300048828125\n"
     ]
    },
    {
     "name": "stdout",
     "output_type": "stream",
     "text": [
      "8000 loss:1.24062\n",
      "elapsed_time: 40.83s\n",
      "8998 loss:1.18771"
     ]
    },
    {
     "name": "stderr",
     "output_type": "stream",
     "text": [
      "INFO:absl: \n",
      "\t\t NumberOfEpisodes = 3593\n",
      "\t\t EnvironmentSteps = 2330476\n",
      "\t\t AverageReturn = 770.5\n",
      "\t\t AverageEpisodeLength = 1071.5999755859375\n"
     ]
    },
    {
     "name": "stdout",
     "output_type": "stream",
     "text": [
      "9000 loss:1.88325\n",
      "elapsed_time: 41.27s\n",
      "9997 loss:1.57595"
     ]
    },
    {
     "name": "stderr",
     "output_type": "stream",
     "text": [
      "INFO:absl: \n",
      "\t\t NumberOfEpisodes = 3597\n",
      "\t\t EnvironmentSteps = 2334476\n",
      "\t\t AverageReturn = 662.5\n",
      "\t\t AverageEpisodeLength = 936.2000122070312\n"
     ]
    },
    {
     "name": "stdout",
     "output_type": "stream",
     "text": [
      "10000 loss:3.03193\n",
      "elapsed_time: 41.22s\n",
      "10996 loss:0.95865"
     ]
    },
    {
     "name": "stderr",
     "output_type": "stream",
     "text": [
      "INFO:absl: \n",
      "\t\t NumberOfEpisodes = 3601\n",
      "\t\t EnvironmentSteps = 2338476\n",
      "\t\t AverageReturn = 603.0\n",
      "\t\t AverageEpisodeLength = 893.2999877929688\n"
     ]
    },
    {
     "name": "stdout",
     "output_type": "stream",
     "text": [
      "11000 loss:1.61442\n",
      "elapsed_time: 41.20s\n",
      "11996 loss:0.92480"
     ]
    },
    {
     "name": "stderr",
     "output_type": "stream",
     "text": [
      "INFO:absl: \n",
      "\t\t NumberOfEpisodes = 3606\n",
      "\t\t EnvironmentSteps = 2342476\n",
      "\t\t AverageReturn = 565.0\n",
      "\t\t AverageEpisodeLength = 882.0\n"
     ]
    },
    {
     "name": "stdout",
     "output_type": "stream",
     "text": [
      "12000 loss:2.37378\n",
      "elapsed_time: 41.36s\n",
      "12997 loss:0.84582"
     ]
    },
    {
     "name": "stderr",
     "output_type": "stream",
     "text": [
      "INFO:absl: \n",
      "\t\t NumberOfEpisodes = 3611\n",
      "\t\t EnvironmentSteps = 2346476\n",
      "\t\t AverageReturn = 555.0\n",
      "\t\t AverageEpisodeLength = 789.2999877929688\n"
     ]
    },
    {
     "name": "stdout",
     "output_type": "stream",
     "text": [
      "13000 loss:1.31473\n",
      "elapsed_time: 41.40s\n",
      "13998 loss:2.21792"
     ]
    },
    {
     "name": "stderr",
     "output_type": "stream",
     "text": [
      "INFO:absl: \n",
      "\t\t NumberOfEpisodes = 3616\n",
      "\t\t EnvironmentSteps = 2350476\n",
      "\t\t AverageReturn = 684.0\n",
      "\t\t AverageEpisodeLength = 876.4000244140625\n"
     ]
    },
    {
     "name": "stdout",
     "output_type": "stream",
     "text": [
      "14000 loss:0.90357\n",
      "elapsed_time: 41.22s\n",
      "14999 loss:2.56676"
     ]
    },
    {
     "name": "stderr",
     "output_type": "stream",
     "text": [
      "INFO:absl: \n",
      "\t\t NumberOfEpisodes = 3621\n",
      "\t\t EnvironmentSteps = 2354476\n",
      "\t\t AverageReturn = 628.0\n",
      "\t\t AverageEpisodeLength = 807.0\n"
     ]
    },
    {
     "name": "stdout",
     "output_type": "stream",
     "text": [
      "15000 loss:1.16765\n",
      "elapsed_time: 41.36s\n",
      "15995 loss:1.90742"
     ]
    },
    {
     "name": "stderr",
     "output_type": "stream",
     "text": [
      "INFO:absl: \n",
      "\t\t NumberOfEpisodes = 3625\n",
      "\t\t EnvironmentSteps = 2358476\n",
      "\t\t AverageReturn = 597.0\n",
      "\t\t AverageEpisodeLength = 854.7000122070312\n"
     ]
    },
    {
     "name": "stdout",
     "output_type": "stream",
     "text": [
      "16000 loss:0.92300\n",
      "elapsed_time: 41.15s\n",
      "16996 loss:0.86782"
     ]
    },
    {
     "name": "stderr",
     "output_type": "stream",
     "text": [
      "INFO:absl: \n",
      "\t\t NumberOfEpisodes = 3629\n",
      "\t\t EnvironmentSteps = 2362476\n",
      "\t\t AverageReturn = 666.5\n",
      "\t\t AverageEpisodeLength = 987.0999755859375\n"
     ]
    },
    {
     "name": "stdout",
     "output_type": "stream",
     "text": [
      "17000 loss:1.11252\n",
      "elapsed_time: 41.22s\n",
      "17996 loss:1.33576"
     ]
    },
    {
     "name": "stderr",
     "output_type": "stream",
     "text": [
      "INFO:absl: \n",
      "\t\t NumberOfEpisodes = 3634\n",
      "\t\t EnvironmentSteps = 2366476\n",
      "\t\t AverageReturn = 724.0\n",
      "\t\t AverageEpisodeLength = 963.7999877929688\n"
     ]
    },
    {
     "name": "stdout",
     "output_type": "stream",
     "text": [
      "18000 loss:1.29233\n",
      "elapsed_time: 41.62s\n",
      "18999 loss:1.04812"
     ]
    },
    {
     "name": "stderr",
     "output_type": "stream",
     "text": [
      "INFO:absl: \n",
      "\t\t NumberOfEpisodes = 3638\n",
      "\t\t EnvironmentSteps = 2370476\n",
      "\t\t AverageReturn = 697.0\n",
      "\t\t AverageEpisodeLength = 944.4000244140625\n"
     ]
    },
    {
     "name": "stdout",
     "output_type": "stream",
     "text": [
      "19000 loss:1.10226\n",
      "elapsed_time: 41.26s\n",
      "19996 loss:1.17416"
     ]
    },
    {
     "name": "stderr",
     "output_type": "stream",
     "text": [
      "INFO:absl: \n",
      "\t\t NumberOfEpisodes = 3641\n",
      "\t\t EnvironmentSteps = 2374476\n",
      "\t\t AverageReturn = 820.5\n",
      "\t\t AverageEpisodeLength = 1089.4000244140625\n"
     ]
    },
    {
     "name": "stdout",
     "output_type": "stream",
     "text": [
      "20000 loss:1.29420\n",
      "elapsed_time: 41.25s\n",
      "20998 loss:1.57677"
     ]
    },
    {
     "name": "stderr",
     "output_type": "stream",
     "text": [
      "INFO:absl: \n",
      "\t\t NumberOfEpisodes = 3645\n",
      "\t\t EnvironmentSteps = 2378476\n",
      "\t\t AverageReturn = 805.5\n",
      "\t\t AverageEpisodeLength = 1037.0\n"
     ]
    },
    {
     "name": "stdout",
     "output_type": "stream",
     "text": [
      "21000 loss:0.87398\n",
      "elapsed_time: 41.31s\n",
      "21996 loss:4.12470"
     ]
    },
    {
     "name": "stderr",
     "output_type": "stream",
     "text": [
      "INFO:absl: \n",
      "\t\t NumberOfEpisodes = 3650\n",
      "\t\t EnvironmentSteps = 2382476\n",
      "\t\t AverageReturn = 663.5\n",
      "\t\t AverageEpisodeLength = 882.9000244140625\n"
     ]
    },
    {
     "name": "stdout",
     "output_type": "stream",
     "text": [
      "22000 loss:1.72854\n",
      "elapsed_time: 41.40s\n",
      "22995 loss:0.76070"
     ]
    },
    {
     "name": "stderr",
     "output_type": "stream",
     "text": [
      "INFO:absl: \n",
      "\t\t NumberOfEpisodes = 3655\n",
      "\t\t EnvironmentSteps = 2386476\n",
      "\t\t AverageReturn = 587.0\n",
      "\t\t AverageEpisodeLength = 825.4000244140625\n"
     ]
    },
    {
     "name": "stdout",
     "output_type": "stream",
     "text": [
      "23000 loss:0.86177\n",
      "elapsed_time: 41.41s\n",
      "23997 loss:1.34129"
     ]
    },
    {
     "name": "stderr",
     "output_type": "stream",
     "text": [
      "INFO:absl: \n",
      "\t\t NumberOfEpisodes = 3659\n",
      "\t\t EnvironmentSteps = 2390476\n",
      "\t\t AverageReturn = 610.0\n",
      "\t\t AverageEpisodeLength = 839.7000122070312\n"
     ]
    },
    {
     "name": "stdout",
     "output_type": "stream",
     "text": [
      "24000 loss:1.27525\n",
      "elapsed_time: 41.19s\n",
      "24999 loss:0.90513"
     ]
    },
    {
     "name": "stderr",
     "output_type": "stream",
     "text": [
      "INFO:absl: \n",
      "\t\t NumberOfEpisodes = 3664\n",
      "\t\t EnvironmentSteps = 2394476\n",
      "\t\t AverageReturn = 661.5\n",
      "\t\t AverageEpisodeLength = 898.0999755859375\n"
     ]
    },
    {
     "name": "stdout",
     "output_type": "stream",
     "text": [
      "25000 loss:1.35284\n",
      "elapsed_time: 41.22s\n",
      "25995 loss:1.06773"
     ]
    },
    {
     "name": "stderr",
     "output_type": "stream",
     "text": [
      "INFO:absl: \n",
      "\t\t NumberOfEpisodes = 3669\n",
      "\t\t EnvironmentSteps = 2398476\n",
      "\t\t AverageReturn = 617.5\n",
      "\t\t AverageEpisodeLength = 870.4000244140625\n"
     ]
    },
    {
     "name": "stdout",
     "output_type": "stream",
     "text": [
      "26000 loss:0.48435\n",
      "elapsed_time: 41.34s\n",
      "26999 loss:1.10687"
     ]
    },
    {
     "name": "stderr",
     "output_type": "stream",
     "text": [
      "INFO:absl: \n",
      "\t\t NumberOfEpisodes = 3672\n",
      "\t\t EnvironmentSteps = 2402476\n",
      "\t\t AverageReturn = 598.5\n",
      "\t\t AverageEpisodeLength = 893.5\n"
     ]
    },
    {
     "name": "stdout",
     "output_type": "stream",
     "text": [
      "27000 loss:1.02824\n",
      "elapsed_time: 41.16s\n",
      "27997 loss:0.98605"
     ]
    },
    {
     "name": "stderr",
     "output_type": "stream",
     "text": [
      "INFO:absl: \n",
      "\t\t NumberOfEpisodes = 3678\n",
      "\t\t EnvironmentSteps = 2406476\n",
      "\t\t AverageReturn = 623.0\n",
      "\t\t AverageEpisodeLength = 836.7999877929688\n"
     ]
    },
    {
     "name": "stdout",
     "output_type": "stream",
     "text": [
      "28000 loss:1.05646\n",
      "elapsed_time: 41.22s\n",
      "28996 loss:1.02992"
     ]
    },
    {
     "name": "stderr",
     "output_type": "stream",
     "text": [
      "INFO:absl: \n",
      "\t\t NumberOfEpisodes = 3681\n",
      "\t\t EnvironmentSteps = 2410476\n",
      "\t\t AverageReturn = 705.5\n",
      "\t\t AverageEpisodeLength = 992.7000122070312\n"
     ]
    },
    {
     "name": "stdout",
     "output_type": "stream",
     "text": [
      "29000 loss:1.86538\n",
      "elapsed_time: 41.15s\n",
      "29995 loss:0.67921"
     ]
    },
    {
     "name": "stderr",
     "output_type": "stream",
     "text": [
      "INFO:absl: \n",
      "\t\t NumberOfEpisodes = 3686\n",
      "\t\t EnvironmentSteps = 2414476\n",
      "\t\t AverageReturn = 626.0\n",
      "\t\t AverageEpisodeLength = 901.5999755859375\n"
     ]
    },
    {
     "name": "stdout",
     "output_type": "stream",
     "text": [
      "30000 loss:1.11117\n",
      "elapsed_time: 41.30s\n",
      "30999 loss:1.14096"
     ]
    },
    {
     "name": "stderr",
     "output_type": "stream",
     "text": [
      "INFO:absl: \n",
      "\t\t NumberOfEpisodes = 3692\n",
      "\t\t EnvironmentSteps = 2418476\n",
      "\t\t AverageReturn = 551.5\n",
      "\t\t AverageEpisodeLength = 695.9000244140625\n"
     ]
    },
    {
     "name": "stdout",
     "output_type": "stream",
     "text": [
      "31000 loss:0.92236\n",
      "elapsed_time: 41.36s\n",
      "31996 loss:0.92921"
     ]
    },
    {
     "name": "stderr",
     "output_type": "stream",
     "text": [
      "INFO:absl: \n",
      "\t\t NumberOfEpisodes = 3696\n",
      "\t\t EnvironmentSteps = 2422476\n",
      "\t\t AverageReturn = 597.0\n",
      "\t\t AverageEpisodeLength = 756.9000244140625\n"
     ]
    },
    {
     "name": "stdout",
     "output_type": "stream",
     "text": [
      "32000 loss:1.12640\n",
      "elapsed_time: 41.27s\n",
      "32999 loss:1.43271"
     ]
    },
    {
     "name": "stderr",
     "output_type": "stream",
     "text": [
      "INFO:absl: \n",
      "\t\t NumberOfEpisodes = 3701\n",
      "\t\t EnvironmentSteps = 2426476\n",
      "\t\t AverageReturn = 621.5\n",
      "\t\t AverageEpisodeLength = 863.4000244140625\n"
     ]
    },
    {
     "name": "stdout",
     "output_type": "stream",
     "text": [
      "33000 loss:0.71645\n",
      "elapsed_time: 41.28s\n",
      "33997 loss:1.15841"
     ]
    },
    {
     "name": "stderr",
     "output_type": "stream",
     "text": [
      "INFO:absl: \n",
      "\t\t NumberOfEpisodes = 3706\n",
      "\t\t EnvironmentSteps = 2430476\n",
      "\t\t AverageReturn = 568.0\n",
      "\t\t AverageEpisodeLength = 804.5999755859375\n"
     ]
    },
    {
     "name": "stdout",
     "output_type": "stream",
     "text": [
      "34000 loss:0.66095\n",
      "elapsed_time: 41.38s\n",
      "34999 loss:0.85844"
     ]
    },
    {
     "name": "stderr",
     "output_type": "stream",
     "text": [
      "INFO:absl: \n",
      "\t\t NumberOfEpisodes = 3710\n",
      "\t\t EnvironmentSteps = 2434476\n",
      "\t\t AverageReturn = 551.0\n",
      "\t\t AverageEpisodeLength = 821.5\n"
     ]
    },
    {
     "name": "stdout",
     "output_type": "stream",
     "text": [
      "35000 loss:1.31986\n",
      "elapsed_time: 41.17s\n",
      "35995 loss:1.72595"
     ]
    },
    {
     "name": "stderr",
     "output_type": "stream",
     "text": [
      "INFO:absl: \n",
      "\t\t NumberOfEpisodes = 3715\n",
      "\t\t EnvironmentSteps = 2438476\n",
      "\t\t AverageReturn = 510.5\n",
      "\t\t AverageEpisodeLength = 797.5999755859375\n"
     ]
    },
    {
     "name": "stdout",
     "output_type": "stream",
     "text": [
      "36000 loss:0.97024\n",
      "elapsed_time: 41.28s\n",
      "36999 loss:1.12908"
     ]
    },
    {
     "name": "stderr",
     "output_type": "stream",
     "text": [
      "INFO:absl: \n",
      "\t\t NumberOfEpisodes = 3720\n",
      "\t\t EnvironmentSteps = 2442476\n",
      "\t\t AverageReturn = 561.5\n",
      "\t\t AverageEpisodeLength = 874.7999877929688\n"
     ]
    },
    {
     "name": "stdout",
     "output_type": "stream",
     "text": [
      "37000 loss:1.53254\n",
      "elapsed_time: 41.26s\n",
      "37998 loss:1.06530"
     ]
    },
    {
     "name": "stderr",
     "output_type": "stream",
     "text": [
      "INFO:absl: \n",
      "\t\t NumberOfEpisodes = 3725\n",
      "\t\t EnvironmentSteps = 2446476\n",
      "\t\t AverageReturn = 594.0\n",
      "\t\t AverageEpisodeLength = 824.0\n"
     ]
    },
    {
     "name": "stdout",
     "output_type": "stream",
     "text": [
      "38000 loss:1.61436\n",
      "elapsed_time: 41.39s\n",
      "38998 loss:0.97392"
     ]
    },
    {
     "name": "stderr",
     "output_type": "stream",
     "text": [
      "INFO:absl: \n",
      "\t\t NumberOfEpisodes = 3729\n",
      "\t\t EnvironmentSteps = 2450476\n",
      "\t\t AverageReturn = 554.0\n",
      "\t\t AverageEpisodeLength = 831.2000122070312\n"
     ]
    },
    {
     "name": "stdout",
     "output_type": "stream",
     "text": [
      "39000 loss:1.59737\n",
      "elapsed_time: 41.30s\n",
      "39998 loss:1.78492"
     ]
    },
    {
     "name": "stderr",
     "output_type": "stream",
     "text": [
      "INFO:absl: \n",
      "\t\t NumberOfEpisodes = 3736\n",
      "\t\t EnvironmentSteps = 2454476\n",
      "\t\t AverageReturn = 502.0\n",
      "\t\t AverageEpisodeLength = 778.2000122070312\n"
     ]
    },
    {
     "name": "stdout",
     "output_type": "stream",
     "text": [
      "40000 loss:0.72550\n",
      "elapsed_time: 41.45s\n",
      "40998 loss:0.79517"
     ]
    },
    {
     "name": "stderr",
     "output_type": "stream",
     "text": [
      "INFO:absl: \n",
      "\t\t NumberOfEpisodes = 3740\n",
      "\t\t EnvironmentSteps = 2458476\n",
      "\t\t AverageReturn = 520.0\n",
      "\t\t AverageEpisodeLength = 727.2999877929688\n"
     ]
    },
    {
     "name": "stdout",
     "output_type": "stream",
     "text": [
      "41000 loss:1.93437\n",
      "elapsed_time: 41.28s\n",
      "41996 loss:1.17549"
     ]
    },
    {
     "name": "stderr",
     "output_type": "stream",
     "text": [
      "INFO:absl: \n",
      "\t\t NumberOfEpisodes = 3745\n",
      "\t\t EnvironmentSteps = 2462476\n",
      "\t\t AverageReturn = 532.0\n",
      "\t\t AverageEpisodeLength = 759.2000122070312\n"
     ]
    },
    {
     "name": "stdout",
     "output_type": "stream",
     "text": [
      "42000 loss:1.56859\n",
      "elapsed_time: 41.48s\n",
      "42995 loss:1.53995"
     ]
    },
    {
     "name": "stderr",
     "output_type": "stream",
     "text": [
      "INFO:absl: \n",
      "\t\t NumberOfEpisodes = 3751\n",
      "\t\t EnvironmentSteps = 2466476\n",
      "\t\t AverageReturn = 546.0\n",
      "\t\t AverageEpisodeLength = 726.5999755859375\n"
     ]
    },
    {
     "name": "stdout",
     "output_type": "stream",
     "text": [
      "43000 loss:1.02639\n",
      "elapsed_time: 41.53s\n",
      "43999 loss:1.54011"
     ]
    },
    {
     "name": "stderr",
     "output_type": "stream",
     "text": [
      "INFO:absl: \n",
      "\t\t NumberOfEpisodes = 3757\n",
      "\t\t EnvironmentSteps = 2470476\n",
      "\t\t AverageReturn = 584.0\n",
      "\t\t AverageEpisodeLength = 728.5\n"
     ]
    },
    {
     "name": "stdout",
     "output_type": "stream",
     "text": [
      "44000 loss:3.78443\n",
      "elapsed_time: 41.48s\n",
      "44997 loss:1.20400"
     ]
    },
    {
     "name": "stderr",
     "output_type": "stream",
     "text": [
      "INFO:absl: \n",
      "\t\t NumberOfEpisodes = 3761\n",
      "\t\t EnvironmentSteps = 2474476\n",
      "\t\t AverageReturn = 618.5\n",
      "\t\t AverageEpisodeLength = 813.7999877929688\n"
     ]
    },
    {
     "name": "stdout",
     "output_type": "stream",
     "text": [
      "45000 loss:0.73660\n",
      "elapsed_time: 41.30s\n",
      "45995 loss:1.18499"
     ]
    },
    {
     "name": "stderr",
     "output_type": "stream",
     "text": [
      "INFO:absl: \n",
      "\t\t NumberOfEpisodes = 3765\n",
      "\t\t EnvironmentSteps = 2478476\n",
      "\t\t AverageReturn = 622.5\n",
      "\t\t AverageEpisodeLength = 831.0999755859375\n"
     ]
    },
    {
     "name": "stdout",
     "output_type": "stream",
     "text": [
      "46000 loss:0.96000\n",
      "elapsed_time: 41.57s\n",
      "46998 loss:1.36452"
     ]
    },
    {
     "name": "stderr",
     "output_type": "stream",
     "text": [
      "INFO:absl: \n",
      "\t\t NumberOfEpisodes = 3769\n",
      "\t\t EnvironmentSteps = 2482476\n",
      "\t\t AverageReturn = 621.0\n",
      "\t\t AverageEpisodeLength = 895.7000122070312\n"
     ]
    },
    {
     "name": "stdout",
     "output_type": "stream",
     "text": [
      "47000 loss:1.73996\n",
      "elapsed_time: 41.14s\n",
      "47996 loss:1.12894"
     ]
    },
    {
     "name": "stderr",
     "output_type": "stream",
     "text": [
      "INFO:absl: \n",
      "\t\t NumberOfEpisodes = 3774\n",
      "\t\t EnvironmentSteps = 2486476\n",
      "\t\t AverageReturn = 618.5\n",
      "\t\t AverageEpisodeLength = 920.7000122070312\n"
     ]
    },
    {
     "name": "stdout",
     "output_type": "stream",
     "text": [
      "48000 loss:1.19786\n",
      "elapsed_time: 41.54s\n",
      "48998 loss:1.71971"
     ]
    },
    {
     "name": "stderr",
     "output_type": "stream",
     "text": [
      "INFO:absl: \n",
      "\t\t NumberOfEpisodes = 3778\n",
      "\t\t EnvironmentSteps = 2490476\n",
      "\t\t AverageReturn = 673.5\n",
      "\t\t AverageEpisodeLength = 953.4000244140625\n"
     ]
    },
    {
     "name": "stdout",
     "output_type": "stream",
     "text": [
      "49000 loss:1.60640\n",
      "elapsed_time: 41.08s\n",
      "49999 loss:1.03054"
     ]
    },
    {
     "name": "stderr",
     "output_type": "stream",
     "text": [
      "INFO:absl: \n",
      "\t\t NumberOfEpisodes = 3782\n",
      "\t\t EnvironmentSteps = 2494476\n",
      "\t\t AverageReturn = 630.0\n",
      "\t\t AverageEpisodeLength = 868.9000244140625\n"
     ]
    },
    {
     "name": "stdout",
     "output_type": "stream",
     "text": [
      "50000 loss:1.33579\n",
      "elapsed_time: 41.87s\n",
      "50999 loss:0.72053"
     ]
    },
    {
     "name": "stderr",
     "output_type": "stream",
     "text": [
      "INFO:absl: \n",
      "\t\t NumberOfEpisodes = 3786\n",
      "\t\t EnvironmentSteps = 2498476\n",
      "\t\t AverageReturn = 638.0\n",
      "\t\t AverageEpisodeLength = 961.5999755859375\n"
     ]
    },
    {
     "name": "stdout",
     "output_type": "stream",
     "text": [
      "51000 loss:0.94109\n",
      "elapsed_time: 40.99s\n",
      "51997 loss:0.91580"
     ]
    },
    {
     "name": "stderr",
     "output_type": "stream",
     "text": [
      "INFO:absl: \n",
      "\t\t NumberOfEpisodes = 3791\n",
      "\t\t EnvironmentSteps = 2502476\n",
      "\t\t AverageReturn = 692.0\n",
      "\t\t AverageEpisodeLength = 993.2999877929688\n"
     ]
    },
    {
     "name": "stdout",
     "output_type": "stream",
     "text": [
      "52000 loss:2.72352\n",
      "elapsed_time: 41.37s\n",
      "52999 loss:0.85054"
     ]
    },
    {
     "name": "stderr",
     "output_type": "stream",
     "text": [
      "INFO:absl: \n",
      "\t\t NumberOfEpisodes = 3794\n",
      "\t\t EnvironmentSteps = 2506476\n",
      "\t\t AverageReturn = 701.0\n",
      "\t\t AverageEpisodeLength = 1007.9000244140625\n"
     ]
    },
    {
     "name": "stdout",
     "output_type": "stream",
     "text": [
      "53000 loss:1.87335\n",
      "elapsed_time: 41.08s\n",
      "53998 loss:1.04969"
     ]
    },
    {
     "name": "stderr",
     "output_type": "stream",
     "text": [
      "INFO:absl: \n",
      "\t\t NumberOfEpisodes = 3798\n",
      "\t\t EnvironmentSteps = 2510476\n",
      "\t\t AverageReturn = 694.0\n",
      "\t\t AverageEpisodeLength = 1033.9000244140625\n"
     ]
    },
    {
     "name": "stdout",
     "output_type": "stream",
     "text": [
      "54000 loss:1.06926\n",
      "elapsed_time: 41.91s\n",
      "54998 loss:0.91939"
     ]
    },
    {
     "name": "stderr",
     "output_type": "stream",
     "text": [
      "INFO:absl: \n",
      "\t\t NumberOfEpisodes = 3804\n",
      "\t\t EnvironmentSteps = 2514476\n",
      "\t\t AverageReturn = 582.5\n",
      "\t\t AverageEpisodeLength = 847.2999877929688\n"
     ]
    },
    {
     "name": "stdout",
     "output_type": "stream",
     "text": [
      "55000 loss:1.29642\n",
      "elapsed_time: 40.92s\n",
      "55996 loss:1.56077"
     ]
    },
    {
     "name": "stderr",
     "output_type": "stream",
     "text": [
      "INFO:absl: \n",
      "\t\t NumberOfEpisodes = 3807\n",
      "\t\t EnvironmentSteps = 2518476\n",
      "\t\t AverageReturn = 617.0\n",
      "\t\t AverageEpisodeLength = 874.0\n"
     ]
    },
    {
     "name": "stdout",
     "output_type": "stream",
     "text": [
      "56000 loss:1.23902\n",
      "elapsed_time: 41.46s\n",
      "56995 loss:1.26656"
     ]
    },
    {
     "name": "stderr",
     "output_type": "stream",
     "text": [
      "INFO:absl: \n",
      "\t\t NumberOfEpisodes = 3812\n",
      "\t\t EnvironmentSteps = 2522476\n",
      "\t\t AverageReturn = 576.5\n",
      "\t\t AverageEpisodeLength = 859.7000122070312\n"
     ]
    },
    {
     "name": "stdout",
     "output_type": "stream",
     "text": [
      "57000 loss:1.23822\n",
      "elapsed_time: 41.31s\n",
      "57995 loss:1.87570"
     ]
    },
    {
     "name": "stderr",
     "output_type": "stream",
     "text": [
      "INFO:absl: \n",
      "\t\t NumberOfEpisodes = 3817\n",
      "\t\t EnvironmentSteps = 2526476\n",
      "\t\t AverageReturn = 594.0\n",
      "\t\t AverageEpisodeLength = 847.7999877929688\n"
     ]
    },
    {
     "name": "stdout",
     "output_type": "stream",
     "text": [
      "58000 loss:1.15234\n",
      "elapsed_time: 41.68s\n",
      "58996 loss:1.16797"
     ]
    },
    {
     "name": "stderr",
     "output_type": "stream",
     "text": [
      "INFO:absl: \n",
      "\t\t NumberOfEpisodes = 3823\n",
      "\t\t EnvironmentSteps = 2530476\n",
      "\t\t AverageReturn = 630.0\n",
      "\t\t AverageEpisodeLength = 763.5999755859375\n"
     ]
    },
    {
     "name": "stdout",
     "output_type": "stream",
     "text": [
      "59000 loss:0.91347\n",
      "elapsed_time: 41.87s\n",
      "59996 loss:0.89780"
     ]
    },
    {
     "name": "stderr",
     "output_type": "stream",
     "text": [
      "INFO:absl: \n",
      "\t\t NumberOfEpisodes = 3827\n",
      "\t\t EnvironmentSteps = 2534476\n",
      "\t\t AverageReturn = 642.0\n",
      "\t\t AverageEpisodeLength = 790.0\n"
     ]
    },
    {
     "name": "stdout",
     "output_type": "stream",
     "text": [
      "60000 loss:0.66805\n",
      "elapsed_time: 41.92s\n",
      "60999 loss:1.09206"
     ]
    },
    {
     "name": "stderr",
     "output_type": "stream",
     "text": [
      "INFO:absl: \n",
      "\t\t NumberOfEpisodes = 3830\n",
      "\t\t EnvironmentSteps = 2538476\n",
      "\t\t AverageReturn = 645.0\n",
      "\t\t AverageEpisodeLength = 959.5\n"
     ]
    },
    {
     "name": "stdout",
     "output_type": "stream",
     "text": [
      "61000 loss:1.28775\n",
      "elapsed_time: 41.82s\n",
      "61997 loss:0.98274"
     ]
    },
    {
     "name": "stderr",
     "output_type": "stream",
     "text": [
      "INFO:absl: \n",
      "\t\t NumberOfEpisodes = 3833\n",
      "\t\t EnvironmentSteps = 2542476\n",
      "\t\t AverageReturn = 711.5\n",
      "\t\t AverageEpisodeLength = 1178.199951171875\n"
     ]
    },
    {
     "name": "stdout",
     "output_type": "stream",
     "text": [
      "62000 loss:1.59534\n",
      "elapsed_time: 42.01s\n",
      "62996 loss:0.93773"
     ]
    },
    {
     "name": "stderr",
     "output_type": "stream",
     "text": [
      "INFO:absl: \n",
      "\t\t NumberOfEpisodes = 3836\n",
      "\t\t EnvironmentSteps = 2546476\n",
      "\t\t AverageReturn = 748.0\n",
      "\t\t AverageEpisodeLength = 1287.800048828125\n"
     ]
    },
    {
     "name": "stdout",
     "output_type": "stream",
     "text": [
      "63000 loss:0.91574\n",
      "elapsed_time: 42.12s\n",
      "63999 loss:1.01228"
     ]
    },
    {
     "name": "stderr",
     "output_type": "stream",
     "text": [
      "INFO:absl: \n",
      "\t\t NumberOfEpisodes = 3840\n",
      "\t\t EnvironmentSteps = 2550476\n",
      "\t\t AverageReturn = 766.0\n",
      "\t\t AverageEpisodeLength = 1232.5\n"
     ]
    },
    {
     "name": "stdout",
     "output_type": "stream",
     "text": [
      "64000 loss:0.63803\n",
      "elapsed_time: 42.05s\n",
      "64997 loss:0.96652"
     ]
    },
    {
     "name": "stderr",
     "output_type": "stream",
     "text": [
      "INFO:absl: \n",
      "\t\t NumberOfEpisodes = 3846\n",
      "\t\t EnvironmentSteps = 2554476\n",
      "\t\t AverageReturn = 620.5\n",
      "\t\t AverageEpisodeLength = 838.5\n"
     ]
    },
    {
     "name": "stdout",
     "output_type": "stream",
     "text": [
      "65000 loss:0.67045\n",
      "elapsed_time: 42.10s\n",
      "65999 loss:0.63564"
     ]
    },
    {
     "name": "stderr",
     "output_type": "stream",
     "text": [
      "INFO:absl: \n",
      "\t\t NumberOfEpisodes = 3851\n",
      "\t\t EnvironmentSteps = 2558476\n",
      "\t\t AverageReturn = 610.0\n",
      "\t\t AverageEpisodeLength = 764.9000244140625\n"
     ]
    },
    {
     "name": "stdout",
     "output_type": "stream",
     "text": [
      "66000 loss:0.74781\n",
      "elapsed_time: 42.12s\n",
      "66997 loss:1.19397"
     ]
    },
    {
     "name": "stderr",
     "output_type": "stream",
     "text": [
      "INFO:absl: \n",
      "\t\t NumberOfEpisodes = 3855\n",
      "\t\t EnvironmentSteps = 2562476\n",
      "\t\t AverageReturn = 635.0\n",
      "\t\t AverageEpisodeLength = 865.2000122070312\n"
     ]
    },
    {
     "name": "stdout",
     "output_type": "stream",
     "text": [
      "67000 loss:1.25558\n",
      "elapsed_time: 42.18s\n",
      "67999 loss:1.95825"
     ]
    },
    {
     "name": "stderr",
     "output_type": "stream",
     "text": [
      "INFO:absl: \n",
      "\t\t NumberOfEpisodes = 3859\n",
      "\t\t EnvironmentSteps = 2566476\n",
      "\t\t AverageReturn = 687.5\n",
      "\t\t AverageEpisodeLength = 920.9000244140625\n"
     ]
    },
    {
     "name": "stdout",
     "output_type": "stream",
     "text": [
      "68000 loss:0.83124\n",
      "elapsed_time: 42.17s\n",
      "68996 loss:0.91531"
     ]
    },
    {
     "name": "stderr",
     "output_type": "stream",
     "text": [
      "INFO:absl: \n",
      "\t\t NumberOfEpisodes = 3864\n",
      "\t\t EnvironmentSteps = 2570476\n",
      "\t\t AverageReturn = 669.0\n",
      "\t\t AverageEpisodeLength = 863.5999755859375\n"
     ]
    },
    {
     "name": "stdout",
     "output_type": "stream",
     "text": [
      "69000 loss:1.38564\n",
      "elapsed_time: 42.06s\n",
      "69998 loss:2.03129"
     ]
    },
    {
     "name": "stderr",
     "output_type": "stream",
     "text": [
      "INFO:absl: \n",
      "\t\t NumberOfEpisodes = 3868\n",
      "\t\t EnvironmentSteps = 2574476\n",
      "\t\t AverageReturn = 612.0\n",
      "\t\t AverageEpisodeLength = 827.2000122070312\n"
     ]
    },
    {
     "name": "stdout",
     "output_type": "stream",
     "text": [
      "70000 loss:1.16540\n",
      "elapsed_time: 41.98s\n",
      "70995 loss:2.27085"
     ]
    },
    {
     "name": "stderr",
     "output_type": "stream",
     "text": [
      "INFO:absl: \n",
      "\t\t NumberOfEpisodes = 3872\n",
      "\t\t EnvironmentSteps = 2578476\n",
      "\t\t AverageReturn = 688.5\n",
      "\t\t AverageEpisodeLength = 969.0999755859375\n"
     ]
    },
    {
     "name": "stdout",
     "output_type": "stream",
     "text": [
      "71000 loss:0.96690\n",
      "elapsed_time: 41.99s\n",
      "71996 loss:0.94088"
     ]
    },
    {
     "name": "stderr",
     "output_type": "stream",
     "text": [
      "INFO:absl: \n",
      "\t\t NumberOfEpisodes = 3877\n",
      "\t\t EnvironmentSteps = 2582476\n",
      "\t\t AverageReturn = 707.0\n",
      "\t\t AverageEpisodeLength = 944.5\n"
     ]
    },
    {
     "name": "stdout",
     "output_type": "stream",
     "text": [
      "72000 loss:0.87268\n",
      "elapsed_time: 42.19s\n",
      "72998 loss:1.75234"
     ]
    },
    {
     "name": "stderr",
     "output_type": "stream",
     "text": [
      "INFO:absl: \n",
      "\t\t NumberOfEpisodes = 3882\n",
      "\t\t EnvironmentSteps = 2586476\n",
      "\t\t AverageReturn = 618.0\n",
      "\t\t AverageEpisodeLength = 799.5999755859375\n"
     ]
    },
    {
     "name": "stdout",
     "output_type": "stream",
     "text": [
      "73000 loss:2.24094\n",
      "elapsed_time: 42.40s\n",
      "73995 loss:1.62729"
     ]
    },
    {
     "name": "stderr",
     "output_type": "stream",
     "text": [
      "INFO:absl: \n",
      "\t\t NumberOfEpisodes = 3887\n",
      "\t\t EnvironmentSteps = 2590476\n",
      "\t\t AverageReturn = 581.5\n",
      "\t\t AverageEpisodeLength = 770.7000122070312\n"
     ]
    },
    {
     "name": "stdout",
     "output_type": "stream",
     "text": [
      "74000 loss:2.32229\n",
      "elapsed_time: 42.19s\n",
      "74998 loss:0.68883"
     ]
    },
    {
     "name": "stderr",
     "output_type": "stream",
     "text": [
      "INFO:absl: \n",
      "\t\t NumberOfEpisodes = 3891\n",
      "\t\t EnvironmentSteps = 2594476\n",
      "\t\t AverageReturn = 608.5\n",
      "\t\t AverageEpisodeLength = 831.7999877929688\n"
     ]
    },
    {
     "name": "stdout",
     "output_type": "stream",
     "text": [
      "75000 loss:0.67501\n",
      "elapsed_time: 42.07s\n",
      "75995 loss:0.75868"
     ]
    },
    {
     "name": "stderr",
     "output_type": "stream",
     "text": [
      "INFO:absl: \n",
      "\t\t NumberOfEpisodes = 3895\n",
      "\t\t EnvironmentSteps = 2598476\n",
      "\t\t AverageReturn = 591.0\n",
      "\t\t AverageEpisodeLength = 951.2000122070312\n"
     ]
    },
    {
     "name": "stdout",
     "output_type": "stream",
     "text": [
      "76000 loss:0.81910\n",
      "elapsed_time: 42.23s\n",
      "76997 loss:3.65639"
     ]
    },
    {
     "name": "stderr",
     "output_type": "stream",
     "text": [
      "INFO:absl: \n",
      "\t\t NumberOfEpisodes = 3899\n",
      "\t\t EnvironmentSteps = 2602476\n",
      "\t\t AverageReturn = 659.0\n",
      "\t\t AverageEpisodeLength = 1054.5999755859375\n"
     ]
    },
    {
     "name": "stdout",
     "output_type": "stream",
     "text": [
      "77000 loss:0.73103\n",
      "elapsed_time: 42.04s\n",
      "77996 loss:1.56018"
     ]
    },
    {
     "name": "stderr",
     "output_type": "stream",
     "text": [
      "INFO:absl: \n",
      "\t\t NumberOfEpisodes = 3905\n",
      "\t\t EnvironmentSteps = 2606476\n",
      "\t\t AverageReturn = 601.0\n",
      "\t\t AverageEpisodeLength = 829.7999877929688\n"
     ]
    },
    {
     "name": "stdout",
     "output_type": "stream",
     "text": [
      "78000 loss:1.68962\n",
      "elapsed_time: 41.65s\n",
      "78998 loss:0.94992"
     ]
    },
    {
     "name": "stderr",
     "output_type": "stream",
     "text": [
      "INFO:absl: \n",
      "\t\t NumberOfEpisodes = 3910\n",
      "\t\t EnvironmentSteps = 2610476\n",
      "\t\t AverageReturn = 508.0\n",
      "\t\t AverageEpisodeLength = 704.5\n"
     ]
    },
    {
     "name": "stdout",
     "output_type": "stream",
     "text": [
      "79000 loss:0.75106\n",
      "elapsed_time: 41.80s\n",
      "79998 loss:0.63087"
     ]
    },
    {
     "name": "stderr",
     "output_type": "stream",
     "text": [
      "INFO:absl: \n",
      "\t\t NumberOfEpisodes = 3913\n",
      "\t\t EnvironmentSteps = 2614476\n",
      "\t\t AverageReturn = 560.5\n",
      "\t\t AverageEpisodeLength = 825.0\n"
     ]
    },
    {
     "name": "stdout",
     "output_type": "stream",
     "text": [
      "80000 loss:1.63118\n",
      "elapsed_time: 41.29s\n",
      "80997 loss:0.81109"
     ]
    },
    {
     "name": "stderr",
     "output_type": "stream",
     "text": [
      "INFO:absl: \n",
      "\t\t NumberOfEpisodes = 3918\n",
      "\t\t EnvironmentSteps = 2618476\n",
      "\t\t AverageReturn = 694.5\n",
      "\t\t AverageEpisodeLength = 965.0999755859375\n"
     ]
    },
    {
     "name": "stdout",
     "output_type": "stream",
     "text": [
      "81000 loss:1.99507\n",
      "elapsed_time: 41.75s\n",
      "81998 loss:1.56515"
     ]
    },
    {
     "name": "stderr",
     "output_type": "stream",
     "text": [
      "INFO:absl: \n",
      "\t\t NumberOfEpisodes = 3921\n",
      "\t\t EnvironmentSteps = 2622476\n",
      "\t\t AverageReturn = 704.5\n",
      "\t\t AverageEpisodeLength = 1089.199951171875\n"
     ]
    },
    {
     "name": "stdout",
     "output_type": "stream",
     "text": [
      "82000 loss:0.69597\n",
      "elapsed_time: 41.52s\n",
      "82996 loss:0.73950"
     ]
    },
    {
     "name": "stderr",
     "output_type": "stream",
     "text": [
      "INFO:absl: \n",
      "\t\t NumberOfEpisodes = 3925\n",
      "\t\t EnvironmentSteps = 2626476\n",
      "\t\t AverageReturn = 633.5\n",
      "\t\t AverageEpisodeLength = 1081.0999755859375\n"
     ]
    },
    {
     "name": "stdout",
     "output_type": "stream",
     "text": [
      "83000 loss:1.35361\n",
      "elapsed_time: 41.05s\n",
      "83995 loss:1.25973"
     ]
    },
    {
     "name": "stderr",
     "output_type": "stream",
     "text": [
      "INFO:absl: \n",
      "\t\t NumberOfEpisodes = 3930\n",
      "\t\t EnvironmentSteps = 2630476\n",
      "\t\t AverageReturn = 616.0\n",
      "\t\t AverageEpisodeLength = 1021.5\n"
     ]
    },
    {
     "name": "stdout",
     "output_type": "stream",
     "text": [
      "84000 loss:0.82291\n",
      "elapsed_time: 41.42s\n",
      "84998 loss:0.94564"
     ]
    },
    {
     "name": "stderr",
     "output_type": "stream",
     "text": [
      "INFO:absl: \n",
      "\t\t NumberOfEpisodes = 3935\n",
      "\t\t EnvironmentSteps = 2634476\n",
      "\t\t AverageReturn = 584.0\n",
      "\t\t AverageEpisodeLength = 823.0999755859375\n"
     ]
    },
    {
     "name": "stdout",
     "output_type": "stream",
     "text": [
      "85000 loss:1.18716\n",
      "elapsed_time: 41.39s\n",
      "85999 loss:1.27113"
     ]
    },
    {
     "name": "stderr",
     "output_type": "stream",
     "text": [
      "INFO:absl: \n",
      "\t\t NumberOfEpisodes = 3940\n",
      "\t\t EnvironmentSteps = 2638476\n",
      "\t\t AverageReturn = 580.5\n",
      "\t\t AverageEpisodeLength = 805.9000244140625\n"
     ]
    },
    {
     "name": "stdout",
     "output_type": "stream",
     "text": [
      "86000 loss:2.05184\n",
      "elapsed_time: 41.38s\n",
      "86998 loss:1.09383"
     ]
    },
    {
     "name": "stderr",
     "output_type": "stream",
     "text": [
      "INFO:absl: \n",
      "\t\t NumberOfEpisodes = 3943\n",
      "\t\t EnvironmentSteps = 2642476\n",
      "\t\t AverageReturn = 614.0\n",
      "\t\t AverageEpisodeLength = 898.0\n"
     ]
    },
    {
     "name": "stdout",
     "output_type": "stream",
     "text": [
      "87000 loss:1.26775\n",
      "elapsed_time: 41.93s\n",
      "87995 loss:1.29010"
     ]
    },
    {
     "name": "stderr",
     "output_type": "stream",
     "text": [
      "INFO:absl: \n",
      "\t\t NumberOfEpisodes = 3947\n",
      "\t\t EnvironmentSteps = 2646476\n",
      "\t\t AverageReturn = 630.5\n",
      "\t\t AverageEpisodeLength = 990.2999877929688\n"
     ]
    },
    {
     "name": "stdout",
     "output_type": "stream",
     "text": [
      "88000 loss:4.12299\n",
      "elapsed_time: 40.83s\n",
      "88998 loss:0.60072"
     ]
    },
    {
     "name": "stderr",
     "output_type": "stream",
     "text": [
      "INFO:absl: \n",
      "\t\t NumberOfEpisodes = 3953\n",
      "\t\t EnvironmentSteps = 2650476\n",
      "\t\t AverageReturn = 602.5\n",
      "\t\t AverageEpisodeLength = 837.5\n"
     ]
    },
    {
     "name": "stdout",
     "output_type": "stream",
     "text": [
      "89000 loss:0.78685\n",
      "elapsed_time: 42.23s\n",
      "89996 loss:1.26338"
     ]
    },
    {
     "name": "stderr",
     "output_type": "stream",
     "text": [
      "INFO:absl: \n",
      "\t\t NumberOfEpisodes = 3959\n",
      "\t\t EnvironmentSteps = 2654476\n",
      "\t\t AverageReturn = 570.0\n",
      "\t\t AverageEpisodeLength = 685.7999877929688\n"
     ]
    },
    {
     "name": "stdout",
     "output_type": "stream",
     "text": [
      "90000 loss:0.69335\n",
      "elapsed_time: 41.29s\n",
      "90996 loss:0.92810"
     ]
    },
    {
     "name": "stderr",
     "output_type": "stream",
     "text": [
      "INFO:absl: \n",
      "\t\t NumberOfEpisodes = 3963\n",
      "\t\t EnvironmentSteps = 2658476\n",
      "\t\t AverageReturn = 557.0\n",
      "\t\t AverageEpisodeLength = 747.5999755859375\n"
     ]
    },
    {
     "name": "stdout",
     "output_type": "stream",
     "text": [
      "91000 loss:1.24719\n",
      "elapsed_time: 41.43s\n",
      "91997 loss:2.91497"
     ]
    },
    {
     "name": "stderr",
     "output_type": "stream",
     "text": [
      "INFO:absl: \n",
      "\t\t NumberOfEpisodes = 3969\n",
      "\t\t EnvironmentSteps = 2662476\n",
      "\t\t AverageReturn = 595.5\n",
      "\t\t AverageEpisodeLength = 794.2999877929688\n"
     ]
    },
    {
     "name": "stdout",
     "output_type": "stream",
     "text": [
      "92000 loss:0.86286\n",
      "elapsed_time: 41.42s\n",
      "92997 loss:1.26110"
     ]
    },
    {
     "name": "stderr",
     "output_type": "stream",
     "text": [
      "INFO:absl: \n",
      "\t\t NumberOfEpisodes = 3975\n",
      "\t\t EnvironmentSteps = 2666476\n",
      "\t\t AverageReturn = 564.0\n",
      "\t\t AverageEpisodeLength = 744.0\n"
     ]
    },
    {
     "name": "stdout",
     "output_type": "stream",
     "text": [
      "93000 loss:0.60003\n",
      "elapsed_time: 41.52s\n",
      "93997 loss:0.64083"
     ]
    },
    {
     "name": "stderr",
     "output_type": "stream",
     "text": [
      "INFO:absl: \n",
      "\t\t NumberOfEpisodes = 3980\n",
      "\t\t EnvironmentSteps = 2670476\n",
      "\t\t AverageReturn = 559.5\n",
      "\t\t AverageEpisodeLength = 737.5999755859375\n"
     ]
    },
    {
     "name": "stdout",
     "output_type": "stream",
     "text": [
      "94000 loss:1.19222\n",
      "elapsed_time: 41.39s\n",
      "94996 loss:0.72878"
     ]
    },
    {
     "name": "stderr",
     "output_type": "stream",
     "text": [
      "INFO:absl: \n",
      "\t\t NumberOfEpisodes = 3985\n",
      "\t\t EnvironmentSteps = 2674476\n",
      "\t\t AverageReturn = 630.5\n",
      "\t\t AverageEpisodeLength = 789.7000122070312\n"
     ]
    },
    {
     "name": "stdout",
     "output_type": "stream",
     "text": [
      "95000 loss:0.89130\n",
      "elapsed_time: 41.40s\n",
      "95995 loss:0.95254"
     ]
    },
    {
     "name": "stderr",
     "output_type": "stream",
     "text": [
      "INFO:absl: \n",
      "\t\t NumberOfEpisodes = 3989\n",
      "\t\t EnvironmentSteps = 2678476\n",
      "\t\t AverageReturn = 643.0\n",
      "\t\t AverageEpisodeLength = 782.5999755859375\n"
     ]
    },
    {
     "name": "stdout",
     "output_type": "stream",
     "text": [
      "96000 loss:0.98750\n",
      "elapsed_time: 41.29s\n",
      "96998 loss:1.26462"
     ]
    },
    {
     "name": "stderr",
     "output_type": "stream",
     "text": [
      "INFO:absl: \n",
      "\t\t NumberOfEpisodes = 3994\n",
      "\t\t EnvironmentSteps = 2682476\n",
      "\t\t AverageReturn = 603.5\n",
      "\t\t AverageEpisodeLength = 785.5\n"
     ]
    },
    {
     "name": "stdout",
     "output_type": "stream",
     "text": [
      "97000 loss:1.50342\n",
      "elapsed_time: 41.38s\n",
      "97997 loss:1.43609"
     ]
    },
    {
     "name": "stderr",
     "output_type": "stream",
     "text": [
      "INFO:absl: \n",
      "\t\t NumberOfEpisodes = 4000\n",
      "\t\t EnvironmentSteps = 2686476\n",
      "\t\t AverageReturn = 584.5\n",
      "\t\t AverageEpisodeLength = 789.7999877929688\n"
     ]
    },
    {
     "name": "stdout",
     "output_type": "stream",
     "text": [
      "98000 loss:3.80029\n",
      "elapsed_time: 41.36s\n",
      "98996 loss:1.60258"
     ]
    },
    {
     "name": "stderr",
     "output_type": "stream",
     "text": [
      "INFO:absl: \n",
      "\t\t NumberOfEpisodes = 4006\n",
      "\t\t EnvironmentSteps = 2690476\n",
      "\t\t AverageReturn = 449.0\n",
      "\t\t AverageEpisodeLength = 620.4000244140625\n"
     ]
    },
    {
     "name": "stdout",
     "output_type": "stream",
     "text": [
      "99000 loss:1.20087\n",
      "elapsed_time: 41.50s\n",
      "99999 loss:0.91471"
     ]
    },
    {
     "name": "stderr",
     "output_type": "stream",
     "text": [
      "INFO:absl: \n",
      "\t\t NumberOfEpisodes = 4010\n",
      "\t\t EnvironmentSteps = 2694476\n",
      "\t\t AverageReturn = 516.0\n",
      "\t\t AverageEpisodeLength = 773.0\n"
     ]
    },
    {
     "name": "stdout",
     "output_type": "stream",
     "text": [
      "100000 loss:0.71959\n",
      "elapsed_time: 41.38s\n",
      "100999 loss:1.02932"
     ]
    },
    {
     "name": "stderr",
     "output_type": "stream",
     "text": [
      "INFO:absl: \n",
      "\t\t NumberOfEpisodes = 4015\n",
      "\t\t EnvironmentSteps = 2698476\n",
      "\t\t AverageReturn = 590.0\n",
      "\t\t AverageEpisodeLength = 910.9000244140625\n"
     ]
    },
    {
     "name": "stdout",
     "output_type": "stream",
     "text": [
      "101000 loss:1.72997\n",
      "elapsed_time: 41.43s\n",
      "101995 loss:0.99781"
     ]
    },
    {
     "name": "stderr",
     "output_type": "stream",
     "text": [
      "INFO:absl: \n",
      "\t\t NumberOfEpisodes = 4020\n",
      "\t\t EnvironmentSteps = 2702476\n",
      "\t\t AverageReturn = 599.5\n",
      "\t\t AverageEpisodeLength = 807.7999877929688\n"
     ]
    },
    {
     "name": "stdout",
     "output_type": "stream",
     "text": [
      "102000 loss:1.00667\n",
      "elapsed_time: 41.40s\n",
      "102995 loss:0.69829"
     ]
    },
    {
     "name": "stderr",
     "output_type": "stream",
     "text": [
      "INFO:absl: \n",
      "\t\t NumberOfEpisodes = 4025\n",
      "\t\t EnvironmentSteps = 2706476\n",
      "\t\t AverageReturn = 599.0\n",
      "\t\t AverageEpisodeLength = 792.9000244140625\n"
     ]
    },
    {
     "name": "stdout",
     "output_type": "stream",
     "text": [
      "103000 loss:0.99031\n",
      "elapsed_time: 41.31s\n",
      "103999 loss:1.93821"
     ]
    },
    {
     "name": "stderr",
     "output_type": "stream",
     "text": [
      "INFO:absl: \n",
      "\t\t NumberOfEpisodes = 4030\n",
      "\t\t EnvironmentSteps = 2710476\n",
      "\t\t AverageReturn = 557.5\n",
      "\t\t AverageEpisodeLength = 782.9000244140625\n"
     ]
    },
    {
     "name": "stdout",
     "output_type": "stream",
     "text": [
      "104000 loss:1.00166\n",
      "elapsed_time: 41.37s\n",
      "104996 loss:0.81196"
     ]
    },
    {
     "name": "stderr",
     "output_type": "stream",
     "text": [
      "INFO:absl: \n",
      "\t\t NumberOfEpisodes = 4035\n",
      "\t\t EnvironmentSteps = 2714476\n",
      "\t\t AverageReturn = 586.0\n",
      "\t\t AverageEpisodeLength = 787.7999877929688\n"
     ]
    },
    {
     "name": "stdout",
     "output_type": "stream",
     "text": [
      "105000 loss:0.91122\n",
      "elapsed_time: 41.42s\n",
      "105995 loss:2.41848"
     ]
    },
    {
     "name": "stderr",
     "output_type": "stream",
     "text": [
      "INFO:absl: \n",
      "\t\t NumberOfEpisodes = 4041\n",
      "\t\t EnvironmentSteps = 2718476\n",
      "\t\t AverageReturn = 599.0\n",
      "\t\t AverageEpisodeLength = 756.5\n"
     ]
    },
    {
     "name": "stdout",
     "output_type": "stream",
     "text": [
      "106000 loss:1.44001\n",
      "elapsed_time: 41.44s\n",
      "106997 loss:1.24365"
     ]
    },
    {
     "name": "stderr",
     "output_type": "stream",
     "text": [
      "INFO:absl: \n",
      "\t\t NumberOfEpisodes = 4045\n",
      "\t\t EnvironmentSteps = 2722476\n",
      "\t\t AverageReturn = 573.0\n",
      "\t\t AverageEpisodeLength = 715.2000122070312\n"
     ]
    },
    {
     "name": "stdout",
     "output_type": "stream",
     "text": [
      "107000 loss:1.68439\n",
      "elapsed_time: 41.31s\n",
      "107995 loss:0.94909"
     ]
    },
    {
     "name": "stderr",
     "output_type": "stream",
     "text": [
      "INFO:absl: \n",
      "\t\t NumberOfEpisodes = 4050\n",
      "\t\t EnvironmentSteps = 2726476\n",
      "\t\t AverageReturn = 590.5\n",
      "\t\t AverageEpisodeLength = 782.2999877929688\n"
     ]
    },
    {
     "name": "stdout",
     "output_type": "stream",
     "text": [
      "108000 loss:1.18698\n",
      "elapsed_time: 41.28s\n",
      "108996 loss:1.26731"
     ]
    },
    {
     "name": "stderr",
     "output_type": "stream",
     "text": [
      "INFO:absl: \n",
      "\t\t NumberOfEpisodes = 4054\n",
      "\t\t EnvironmentSteps = 2730476\n",
      "\t\t AverageReturn = 609.5\n",
      "\t\t AverageEpisodeLength = 842.5999755859375\n"
     ]
    },
    {
     "name": "stdout",
     "output_type": "stream",
     "text": [
      "109000 loss:0.77255\n",
      "elapsed_time: 41.25s\n",
      "109998 loss:0.79336"
     ]
    },
    {
     "name": "stderr",
     "output_type": "stream",
     "text": [
      "INFO:absl: \n",
      "\t\t NumberOfEpisodes = 4060\n",
      "\t\t EnvironmentSteps = 2734476\n",
      "\t\t AverageReturn = 617.5\n",
      "\t\t AverageEpisodeLength = 864.5999755859375\n"
     ]
    },
    {
     "name": "stdout",
     "output_type": "stream",
     "text": [
      "110000 loss:1.07459\n",
      "elapsed_time: 41.41s\n",
      "110998 loss:1.55904"
     ]
    },
    {
     "name": "stderr",
     "output_type": "stream",
     "text": [
      "INFO:absl: \n",
      "\t\t NumberOfEpisodes = 4065\n",
      "\t\t EnvironmentSteps = 2738476\n",
      "\t\t AverageReturn = 525.0\n",
      "\t\t AverageEpisodeLength = 691.0\n"
     ]
    },
    {
     "name": "stdout",
     "output_type": "stream",
     "text": [
      "111000 loss:1.28633\n",
      "elapsed_time: 41.39s\n",
      "111997 loss:0.87968"
     ]
    },
    {
     "name": "stderr",
     "output_type": "stream",
     "text": [
      "INFO:absl: \n",
      "\t\t NumberOfEpisodes = 4070\n",
      "\t\t EnvironmentSteps = 2742476\n",
      "\t\t AverageReturn = 537.5\n",
      "\t\t AverageEpisodeLength = 799.5\n"
     ]
    },
    {
     "name": "stdout",
     "output_type": "stream",
     "text": [
      "112000 loss:0.71794\n",
      "elapsed_time: 41.33s\n",
      "112995 loss:1.42008"
     ]
    },
    {
     "name": "stderr",
     "output_type": "stream",
     "text": [
      "INFO:absl: \n",
      "\t\t NumberOfEpisodes = 4074\n",
      "\t\t EnvironmentSteps = 2746476\n",
      "\t\t AverageReturn = 573.5\n",
      "\t\t AverageEpisodeLength = 885.7999877929688\n"
     ]
    },
    {
     "name": "stdout",
     "output_type": "stream",
     "text": [
      "113000 loss:0.79766\n",
      "elapsed_time: 41.31s\n",
      "113997 loss:0.65795"
     ]
    },
    {
     "name": "stderr",
     "output_type": "stream",
     "text": [
      "INFO:absl: \n",
      "\t\t NumberOfEpisodes = 4079\n",
      "\t\t EnvironmentSteps = 2750476\n",
      "\t\t AverageReturn = 625.0\n",
      "\t\t AverageEpisodeLength = 888.5999755859375\n"
     ]
    },
    {
     "name": "stdout",
     "output_type": "stream",
     "text": [
      "114000 loss:0.73562\n",
      "elapsed_time: 41.18s\n",
      "114997 loss:1.75312"
     ]
    },
    {
     "name": "stderr",
     "output_type": "stream",
     "text": [
      "INFO:absl: \n",
      "\t\t NumberOfEpisodes = 4084\n",
      "\t\t EnvironmentSteps = 2754476\n",
      "\t\t AverageReturn = 581.5\n",
      "\t\t AverageEpisodeLength = 807.7999877929688\n"
     ]
    },
    {
     "name": "stdout",
     "output_type": "stream",
     "text": [
      "115000 loss:1.16517\n",
      "elapsed_time: 41.38s\n",
      "115997 loss:1.25468"
     ]
    },
    {
     "name": "stderr",
     "output_type": "stream",
     "text": [
      "INFO:absl: \n",
      "\t\t NumberOfEpisodes = 4089\n",
      "\t\t EnvironmentSteps = 2758476\n",
      "\t\t AverageReturn = 591.5\n",
      "\t\t AverageEpisodeLength = 806.7999877929688\n"
     ]
    },
    {
     "name": "stdout",
     "output_type": "stream",
     "text": [
      "116000 loss:1.69980\n",
      "elapsed_time: 41.29s\n",
      "116996 loss:0.65388"
     ]
    },
    {
     "name": "stderr",
     "output_type": "stream",
     "text": [
      "INFO:absl: \n",
      "\t\t NumberOfEpisodes = 4091\n",
      "\t\t EnvironmentSteps = 2762476\n",
      "\t\t AverageReturn = 595.5\n",
      "\t\t AverageEpisodeLength = 821.7999877929688\n"
     ]
    },
    {
     "name": "stdout",
     "output_type": "stream",
     "text": [
      "117000 loss:0.72903\n",
      "elapsed_time: 41.21s\n",
      "117998 loss:1.03297"
     ]
    },
    {
     "name": "stderr",
     "output_type": "stream",
     "text": [
      "INFO:absl: \n",
      "\t\t NumberOfEpisodes = 4096\n",
      "\t\t EnvironmentSteps = 2766476\n",
      "\t\t AverageReturn = 711.5\n",
      "\t\t AverageEpisodeLength = 1109.5\n"
     ]
    },
    {
     "name": "stdout",
     "output_type": "stream",
     "text": [
      "118000 loss:2.69357\n",
      "elapsed_time: 41.34s\n",
      "118996 loss:1.21276"
     ]
    },
    {
     "name": "stderr",
     "output_type": "stream",
     "text": [
      "INFO:absl: \n",
      "\t\t NumberOfEpisodes = 4102\n",
      "\t\t EnvironmentSteps = 2770476\n",
      "\t\t AverageReturn = 574.5\n",
      "\t\t AverageEpisodeLength = 758.5999755859375\n"
     ]
    },
    {
     "name": "stdout",
     "output_type": "stream",
     "text": [
      "119000 loss:1.60028\n",
      "elapsed_time: 41.46s\n",
      "119996 loss:0.94732"
     ]
    },
    {
     "name": "stderr",
     "output_type": "stream",
     "text": [
      "INFO:absl: \n",
      "\t\t NumberOfEpisodes = 4106\n",
      "\t\t EnvironmentSteps = 2774476\n",
      "\t\t AverageReturn = 632.0\n",
      "\t\t AverageEpisodeLength = 792.7999877929688\n"
     ]
    },
    {
     "name": "stdout",
     "output_type": "stream",
     "text": [
      "120000 loss:1.31392\n",
      "elapsed_time: 41.28s\n",
      "120995 loss:1.20274"
     ]
    },
    {
     "name": "stderr",
     "output_type": "stream",
     "text": [
      "INFO:absl: \n",
      "\t\t NumberOfEpisodes = 4111\n",
      "\t\t EnvironmentSteps = 2778476\n",
      "\t\t AverageReturn = 656.5\n",
      "\t\t AverageEpisodeLength = 818.0999755859375\n"
     ]
    },
    {
     "name": "stdout",
     "output_type": "stream",
     "text": [
      "121000 loss:1.21243\n",
      "elapsed_time: 41.45s\n",
      "121999 loss:0.98595"
     ]
    },
    {
     "name": "stderr",
     "output_type": "stream",
     "text": [
      "INFO:absl: \n",
      "\t\t NumberOfEpisodes = 4116\n",
      "\t\t EnvironmentSteps = 2782476\n",
      "\t\t AverageReturn = 550.5\n",
      "\t\t AverageEpisodeLength = 730.2999877929688\n"
     ]
    },
    {
     "name": "stdout",
     "output_type": "stream",
     "text": [
      "122000 loss:3.83090\n",
      "elapsed_time: 41.30s\n",
      "122997 loss:1.84408"
     ]
    },
    {
     "name": "stderr",
     "output_type": "stream",
     "text": [
      "INFO:absl: \n",
      "\t\t NumberOfEpisodes = 4120\n",
      "\t\t EnvironmentSteps = 2786476\n",
      "\t\t AverageReturn = 557.0\n",
      "\t\t AverageEpisodeLength = 879.5\n"
     ]
    },
    {
     "name": "stdout",
     "output_type": "stream",
     "text": [
      "123000 loss:1.57082\n",
      "elapsed_time: 41.29s\n",
      "123995 loss:0.93473"
     ]
    },
    {
     "name": "stderr",
     "output_type": "stream",
     "text": [
      "INFO:absl: \n",
      "\t\t NumberOfEpisodes = 4124\n",
      "\t\t EnvironmentSteps = 2790476\n",
      "\t\t AverageReturn = 647.0\n",
      "\t\t AverageEpisodeLength = 1004.0\n"
     ]
    },
    {
     "name": "stdout",
     "output_type": "stream",
     "text": [
      "124000 loss:0.91994\n",
      "elapsed_time: 41.25s\n",
      "124997 loss:1.30644"
     ]
    },
    {
     "name": "stderr",
     "output_type": "stream",
     "text": [
      "INFO:absl: \n",
      "\t\t NumberOfEpisodes = 4129\n",
      "\t\t EnvironmentSteps = 2794476\n",
      "\t\t AverageReturn = 659.0\n",
      "\t\t AverageEpisodeLength = 860.4000244140625\n"
     ]
    },
    {
     "name": "stdout",
     "output_type": "stream",
     "text": [
      "125000 loss:1.08283\n",
      "elapsed_time: 41.36s\n",
      "125997 loss:1.59886"
     ]
    },
    {
     "name": "stderr",
     "output_type": "stream",
     "text": [
      "INFO:absl: \n",
      "\t\t NumberOfEpisodes = 4133\n",
      "\t\t EnvironmentSteps = 2798476\n",
      "\t\t AverageReturn = 638.0\n",
      "\t\t AverageEpisodeLength = 851.9000244140625\n"
     ]
    },
    {
     "name": "stdout",
     "output_type": "stream",
     "text": [
      "126000 loss:1.47131\n",
      "elapsed_time: 41.23s\n",
      "126997 loss:1.09485"
     ]
    },
    {
     "name": "stderr",
     "output_type": "stream",
     "text": [
      "INFO:absl: \n",
      "\t\t NumberOfEpisodes = 4138\n",
      "\t\t EnvironmentSteps = 2802476\n",
      "\t\t AverageReturn = 676.5\n",
      "\t\t AverageEpisodeLength = 954.9000244140625\n"
     ]
    },
    {
     "name": "stdout",
     "output_type": "stream",
     "text": [
      "127000 loss:1.10679\n",
      "elapsed_time: 41.27s\n",
      "127998 loss:1.35480"
     ]
    },
    {
     "name": "stderr",
     "output_type": "stream",
     "text": [
      "INFO:absl: \n",
      "\t\t NumberOfEpisodes = 4142\n",
      "\t\t EnvironmentSteps = 2806476\n",
      "\t\t AverageReturn = 639.0\n",
      "\t\t AverageEpisodeLength = 912.9000244140625\n"
     ]
    },
    {
     "name": "stdout",
     "output_type": "stream",
     "text": [
      "128000 loss:1.69594\n",
      "elapsed_time: 41.28s\n",
      "128995 loss:1.13913"
     ]
    },
    {
     "name": "stderr",
     "output_type": "stream",
     "text": [
      "INFO:absl: \n",
      "\t\t NumberOfEpisodes = 4146\n",
      "\t\t EnvironmentSteps = 2810476\n",
      "\t\t AverageReturn = 646.0\n",
      "\t\t AverageEpisodeLength = 975.5999755859375\n"
     ]
    },
    {
     "name": "stdout",
     "output_type": "stream",
     "text": [
      "129000 loss:1.07723\n",
      "elapsed_time: 41.23s\n",
      "129995 loss:0.53138"
     ]
    },
    {
     "name": "stderr",
     "output_type": "stream",
     "text": [
      "INFO:absl: \n",
      "\t\t NumberOfEpisodes = 4151\n",
      "\t\t EnvironmentSteps = 2814476\n",
      "\t\t AverageReturn = 606.5\n",
      "\t\t AverageEpisodeLength = 857.5\n"
     ]
    },
    {
     "name": "stdout",
     "output_type": "stream",
     "text": [
      "130000 loss:1.48746\n",
      "elapsed_time: 41.79s\n",
      "130999 loss:0.88025"
     ]
    },
    {
     "name": "stderr",
     "output_type": "stream",
     "text": [
      "INFO:absl: \n",
      "\t\t NumberOfEpisodes = 4156\n",
      "\t\t EnvironmentSteps = 2818476\n",
      "\t\t AverageReturn = 568.5\n",
      "\t\t AverageEpisodeLength = 765.4000244140625\n"
     ]
    },
    {
     "name": "stdout",
     "output_type": "stream",
     "text": [
      "131000 loss:1.19761\n",
      "elapsed_time: 41.50s\n",
      "131995 loss:1.02091"
     ]
    },
    {
     "name": "stderr",
     "output_type": "stream",
     "text": [
      "INFO:absl: \n",
      "\t\t NumberOfEpisodes = 4159\n",
      "\t\t EnvironmentSteps = 2822476\n",
      "\t\t AverageReturn = 604.5\n",
      "\t\t AverageEpisodeLength = 898.7999877929688\n"
     ]
    },
    {
     "name": "stdout",
     "output_type": "stream",
     "text": [
      "132000 loss:0.59106\n",
      "elapsed_time: 41.29s\n",
      "132997 loss:2.53259"
     ]
    },
    {
     "name": "stderr",
     "output_type": "stream",
     "text": [
      "INFO:absl: \n",
      "\t\t NumberOfEpisodes = 4164\n",
      "\t\t EnvironmentSteps = 2826476\n",
      "\t\t AverageReturn = 657.0\n",
      "\t\t AverageEpisodeLength = 917.2000122070312\n"
     ]
    },
    {
     "name": "stdout",
     "output_type": "stream",
     "text": [
      "133000 loss:0.95515\n",
      "elapsed_time: 41.31s\n",
      "133997 loss:0.79236"
     ]
    },
    {
     "name": "stderr",
     "output_type": "stream",
     "text": [
      "INFO:absl: \n",
      "\t\t NumberOfEpisodes = 4168\n",
      "\t\t EnvironmentSteps = 2830476\n",
      "\t\t AverageReturn = 701.5\n",
      "\t\t AverageEpisodeLength = 1068.0999755859375\n"
     ]
    },
    {
     "name": "stdout",
     "output_type": "stream",
     "text": [
      "134000 loss:1.08791\n",
      "elapsed_time: 41.19s\n",
      "134998 loss:1.07612"
     ]
    },
    {
     "name": "stderr",
     "output_type": "stream",
     "text": [
      "INFO:absl: \n",
      "\t\t NumberOfEpisodes = 4172\n",
      "\t\t EnvironmentSteps = 2834476\n",
      "\t\t AverageReturn = 729.5\n",
      "\t\t AverageEpisodeLength = 1053.4000244140625\n"
     ]
    },
    {
     "name": "stdout",
     "output_type": "stream",
     "text": [
      "135000 loss:0.84599\n",
      "elapsed_time: 41.19s\n",
      "135997 loss:2.03678"
     ]
    },
    {
     "name": "stderr",
     "output_type": "stream",
     "text": [
      "INFO:absl: \n",
      "\t\t NumberOfEpisodes = 4176\n",
      "\t\t EnvironmentSteps = 2838476\n",
      "\t\t AverageReturn = 663.5\n",
      "\t\t AverageEpisodeLength = 1002.2000122070312\n"
     ]
    },
    {
     "name": "stdout",
     "output_type": "stream",
     "text": [
      "136000 loss:0.91318\n",
      "elapsed_time: 41.22s\n",
      "136997 loss:1.42458"
     ]
    },
    {
     "name": "stderr",
     "output_type": "stream",
     "text": [
      "INFO:absl: \n",
      "\t\t NumberOfEpisodes = 4181\n",
      "\t\t EnvironmentSteps = 2842476\n",
      "\t\t AverageReturn = 631.5\n",
      "\t\t AverageEpisodeLength = 882.7999877929688\n"
     ]
    },
    {
     "name": "stdout",
     "output_type": "stream",
     "text": [
      "137000 loss:0.97471\n",
      "elapsed_time: 41.34s\n",
      "137996 loss:0.83028"
     ]
    },
    {
     "name": "stderr",
     "output_type": "stream",
     "text": [
      "INFO:absl: \n",
      "\t\t NumberOfEpisodes = 4185\n",
      "\t\t EnvironmentSteps = 2846476\n",
      "\t\t AverageReturn = 653.5\n",
      "\t\t AverageEpisodeLength = 931.4000244140625\n"
     ]
    },
    {
     "name": "stdout",
     "output_type": "stream",
     "text": [
      "138000 loss:0.76262\n",
      "elapsed_time: 41.27s\n",
      "138998 loss:0.76885"
     ]
    },
    {
     "name": "stderr",
     "output_type": "stream",
     "text": [
      "INFO:absl: \n",
      "\t\t NumberOfEpisodes = 4190\n",
      "\t\t EnvironmentSteps = 2850476\n",
      "\t\t AverageReturn = 630.5\n",
      "\t\t AverageEpisodeLength = 912.7000122070312\n"
     ]
    },
    {
     "name": "stdout",
     "output_type": "stream",
     "text": [
      "139000 loss:0.88783\n",
      "elapsed_time: 41.31s\n",
      "139998 loss:1.40209"
     ]
    },
    {
     "name": "stderr",
     "output_type": "stream",
     "text": [
      "INFO:absl: \n",
      "\t\t NumberOfEpisodes = 4194\n",
      "\t\t EnvironmentSteps = 2854476\n",
      "\t\t AverageReturn = 631.5\n",
      "\t\t AverageEpisodeLength = 931.5999755859375\n"
     ]
    },
    {
     "name": "stdout",
     "output_type": "stream",
     "text": [
      "140000 loss:2.13987\n",
      "elapsed_time: 41.28s\n",
      "140995 loss:1.15173"
     ]
    },
    {
     "name": "stderr",
     "output_type": "stream",
     "text": [
      "INFO:absl: \n",
      "\t\t NumberOfEpisodes = 4199\n",
      "\t\t EnvironmentSteps = 2858476\n",
      "\t\t AverageReturn = 640.0\n",
      "\t\t AverageEpisodeLength = 893.7999877929688\n"
     ]
    },
    {
     "name": "stdout",
     "output_type": "stream",
     "text": [
      "141000 loss:1.76758\n",
      "elapsed_time: 41.33s\n",
      "141995 loss:1.22043"
     ]
    },
    {
     "name": "stderr",
     "output_type": "stream",
     "text": [
      "INFO:absl: \n",
      "\t\t NumberOfEpisodes = 4202\n",
      "\t\t EnvironmentSteps = 2862476\n",
      "\t\t AverageReturn = 631.5\n",
      "\t\t AverageEpisodeLength = 931.4000244140625\n"
     ]
    },
    {
     "name": "stdout",
     "output_type": "stream",
     "text": [
      "142000 loss:0.76036\n",
      "elapsed_time: 41.21s\n",
      "142996 loss:0.84135"
     ]
    },
    {
     "name": "stderr",
     "output_type": "stream",
     "text": [
      "INFO:absl: \n",
      "\t\t NumberOfEpisodes = 4206\n",
      "\t\t EnvironmentSteps = 2866476\n",
      "\t\t AverageReturn = 678.0\n",
      "\t\t AverageEpisodeLength = 1057.9000244140625\n"
     ]
    },
    {
     "name": "stdout",
     "output_type": "stream",
     "text": [
      "143000 loss:2.23524\n",
      "elapsed_time: 41.36s\n",
      "143997 loss:0.94537"
     ]
    },
    {
     "name": "stderr",
     "output_type": "stream",
     "text": [
      "INFO:absl: \n",
      "\t\t NumberOfEpisodes = 4211\n",
      "\t\t EnvironmentSteps = 2870476\n",
      "\t\t AverageReturn = 653.0\n",
      "\t\t AverageEpisodeLength = 1039.5\n"
     ]
    },
    {
     "name": "stdout",
     "output_type": "stream",
     "text": [
      "144000 loss:1.49861\n",
      "elapsed_time: 41.26s\n",
      "144998 loss:1.10921"
     ]
    },
    {
     "name": "stderr",
     "output_type": "stream",
     "text": [
      "INFO:absl: \n",
      "\t\t NumberOfEpisodes = 4215\n",
      "\t\t EnvironmentSteps = 2874476\n",
      "\t\t AverageReturn = 612.0\n",
      "\t\t AverageEpisodeLength = 826.7999877929688\n"
     ]
    },
    {
     "name": "stdout",
     "output_type": "stream",
     "text": [
      "145000 loss:1.33911\n",
      "elapsed_time: 41.24s\n",
      "145997 loss:1.16329"
     ]
    },
    {
     "name": "stderr",
     "output_type": "stream",
     "text": [
      "INFO:absl: \n",
      "\t\t NumberOfEpisodes = 4219\n",
      "\t\t EnvironmentSteps = 2878476\n",
      "\t\t AverageReturn = 634.0\n",
      "\t\t AverageEpisodeLength = 912.0999755859375\n"
     ]
    },
    {
     "name": "stdout",
     "output_type": "stream",
     "text": [
      "146000 loss:1.74186\n",
      "elapsed_time: 41.20s\n",
      "146998 loss:2.46390"
     ]
    },
    {
     "name": "stderr",
     "output_type": "stream",
     "text": [
      "INFO:absl: \n",
      "\t\t NumberOfEpisodes = 4224\n",
      "\t\t EnvironmentSteps = 2882476\n",
      "\t\t AverageReturn = 707.0\n",
      "\t\t AverageEpisodeLength = 943.4000244140625\n"
     ]
    },
    {
     "name": "stdout",
     "output_type": "stream",
     "text": [
      "147000 loss:1.21970\n",
      "elapsed_time: 41.31s\n",
      "147995 loss:1.60638"
     ]
    },
    {
     "name": "stderr",
     "output_type": "stream",
     "text": [
      "INFO:absl: \n",
      "\t\t NumberOfEpisodes = 4227\n",
      "\t\t EnvironmentSteps = 2886476\n",
      "\t\t AverageReturn = 728.5\n",
      "\t\t AverageEpisodeLength = 997.4000244140625\n"
     ]
    },
    {
     "name": "stdout",
     "output_type": "stream",
     "text": [
      "148000 loss:1.53205\n",
      "elapsed_time: 41.19s\n",
      "148996 loss:1.47763"
     ]
    },
    {
     "name": "stderr",
     "output_type": "stream",
     "text": [
      "INFO:absl: \n",
      "\t\t NumberOfEpisodes = 4232\n",
      "\t\t EnvironmentSteps = 2890476\n",
      "\t\t AverageReturn = 717.0\n",
      "\t\t AverageEpisodeLength = 941.0\n"
     ]
    },
    {
     "name": "stdout",
     "output_type": "stream",
     "text": [
      "149000 loss:0.84666\n",
      "elapsed_time: 41.36s\n",
      "149994 loss:1.28360"
     ]
    },
    {
     "name": "stderr",
     "output_type": "stream",
     "text": [
      "INFO:absl: \n",
      "\t\t NumberOfEpisodes = 4235\n",
      "\t\t EnvironmentSteps = 2894476\n",
      "\t\t AverageReturn = 764.5\n",
      "\t\t AverageEpisodeLength = 1058.4000244140625\n"
     ]
    },
    {
     "name": "stdout",
     "output_type": "stream",
     "text": [
      "150000 loss:1.33701\n",
      "elapsed_time: 41.21s\n",
      "150997 loss:4.12927"
     ]
    },
    {
     "name": "stderr",
     "output_type": "stream",
     "text": [
      "INFO:absl: \n",
      "\t\t NumberOfEpisodes = 4239\n",
      "\t\t EnvironmentSteps = 2898476\n",
      "\t\t AverageReturn = 688.0\n",
      "\t\t AverageEpisodeLength = 975.2999877929688\n"
     ]
    },
    {
     "name": "stdout",
     "output_type": "stream",
     "text": [
      "151000 loss:1.16986\n",
      "elapsed_time: 41.17s\n",
      "151996 loss:1.34420"
     ]
    },
    {
     "name": "stderr",
     "output_type": "stream",
     "text": [
      "INFO:absl: \n",
      "\t\t NumberOfEpisodes = 4243\n",
      "\t\t EnvironmentSteps = 2902476\n",
      "\t\t AverageReturn = 784.5\n",
      "\t\t AverageEpisodeLength = 1041.5\n"
     ]
    },
    {
     "name": "stdout",
     "output_type": "stream",
     "text": [
      "152000 loss:1.18733\n",
      "elapsed_time: 41.17s\n",
      "152998 loss:1.29126"
     ]
    },
    {
     "name": "stderr",
     "output_type": "stream",
     "text": [
      "INFO:absl: \n",
      "\t\t NumberOfEpisodes = 4247\n",
      "\t\t EnvironmentSteps = 2906476\n",
      "\t\t AverageReturn = 770.0\n",
      "\t\t AverageEpisodeLength = 981.5999755859375\n"
     ]
    },
    {
     "name": "stdout",
     "output_type": "stream",
     "text": [
      "153000 loss:1.72606\n",
      "elapsed_time: 41.24s\n",
      "153995 loss:0.51974"
     ]
    },
    {
     "name": "stderr",
     "output_type": "stream",
     "text": [
      "INFO:absl: \n",
      "\t\t NumberOfEpisodes = 4251\n",
      "\t\t EnvironmentSteps = 2910476\n",
      "\t\t AverageReturn = 644.0\n",
      "\t\t AverageEpisodeLength = 983.7000122070312\n"
     ]
    },
    {
     "name": "stdout",
     "output_type": "stream",
     "text": [
      "154000 loss:0.62856\n",
      "elapsed_time: 41.35s\n",
      "154999 loss:0.88690"
     ]
    },
    {
     "name": "stderr",
     "output_type": "stream",
     "text": [
      "INFO:absl: \n",
      "\t\t NumberOfEpisodes = 4256\n",
      "\t\t EnvironmentSteps = 2914476\n",
      "\t\t AverageReturn = 550.0\n",
      "\t\t AverageEpisodeLength = 862.7999877929688\n"
     ]
    },
    {
     "name": "stdout",
     "output_type": "stream",
     "text": [
      "155000 loss:0.94114\n",
      "elapsed_time: 41.36s\n",
      "155998 loss:1.38241"
     ]
    },
    {
     "name": "stderr",
     "output_type": "stream",
     "text": [
      "INFO:absl: \n",
      "\t\t NumberOfEpisodes = 4260\n",
      "\t\t EnvironmentSteps = 2918476\n",
      "\t\t AverageReturn = 563.5\n",
      "\t\t AverageEpisodeLength = 841.5999755859375\n"
     ]
    },
    {
     "name": "stdout",
     "output_type": "stream",
     "text": [
      "156000 loss:1.38001\n",
      "elapsed_time: 41.22s\n",
      "156996 loss:1.27760"
     ]
    },
    {
     "name": "stderr",
     "output_type": "stream",
     "text": [
      "INFO:absl: \n",
      "\t\t NumberOfEpisodes = 4265\n",
      "\t\t EnvironmentSteps = 2922476\n",
      "\t\t AverageReturn = 549.0\n",
      "\t\t AverageEpisodeLength = 900.7999877929688\n"
     ]
    },
    {
     "name": "stdout",
     "output_type": "stream",
     "text": [
      "157000 loss:1.82424\n",
      "elapsed_time: 41.44s\n",
      "157996 loss:0.97920"
     ]
    },
    {
     "name": "stderr",
     "output_type": "stream",
     "text": [
      "INFO:absl: \n",
      "\t\t NumberOfEpisodes = 4270\n",
      "\t\t EnvironmentSteps = 2926476\n",
      "\t\t AverageReturn = 559.5\n",
      "\t\t AverageEpisodeLength = 876.7000122070312\n"
     ]
    },
    {
     "name": "stdout",
     "output_type": "stream",
     "text": [
      "158000 loss:0.64293\n",
      "elapsed_time: 41.28s\n",
      "158996 loss:0.71734"
     ]
    },
    {
     "name": "stderr",
     "output_type": "stream",
     "text": [
      "INFO:absl: \n",
      "\t\t NumberOfEpisodes = 4274\n",
      "\t\t EnvironmentSteps = 2930476\n",
      "\t\t AverageReturn = 569.0\n",
      "\t\t AverageEpisodeLength = 800.7000122070312\n"
     ]
    },
    {
     "name": "stdout",
     "output_type": "stream",
     "text": [
      "159000 loss:1.92361\n",
      "elapsed_time: 41.57s\n",
      "159996 loss:3.89666"
     ]
    },
    {
     "name": "stderr",
     "output_type": "stream",
     "text": [
      "INFO:absl: \n",
      "\t\t NumberOfEpisodes = 4279\n",
      "\t\t EnvironmentSteps = 2934476\n",
      "\t\t AverageReturn = 567.0\n",
      "\t\t AverageEpisodeLength = 902.5999755859375\n"
     ]
    },
    {
     "name": "stdout",
     "output_type": "stream",
     "text": [
      "160000 loss:0.94252\n",
      "elapsed_time: 41.37s\n",
      "160995 loss:0.60063"
     ]
    },
    {
     "name": "stderr",
     "output_type": "stream",
     "text": [
      "INFO:absl: \n",
      "\t\t NumberOfEpisodes = 4285\n",
      "\t\t EnvironmentSteps = 2938476\n",
      "\t\t AverageReturn = 525.5\n",
      "\t\t AverageEpisodeLength = 703.0999755859375\n"
     ]
    },
    {
     "name": "stdout",
     "output_type": "stream",
     "text": [
      "161000 loss:1.26229\n",
      "elapsed_time: 41.51s\n",
      "161997 loss:1.73528"
     ]
    },
    {
     "name": "stderr",
     "output_type": "stream",
     "text": [
      "INFO:absl: \n",
      "\t\t NumberOfEpisodes = 4289\n",
      "\t\t EnvironmentSteps = 2942476\n",
      "\t\t AverageReturn = 564.0\n",
      "\t\t AverageEpisodeLength = 786.4000244140625\n"
     ]
    },
    {
     "name": "stdout",
     "output_type": "stream",
     "text": [
      "162000 loss:1.12111\n",
      "elapsed_time: 41.13s\n",
      "162995 loss:0.98971"
     ]
    },
    {
     "name": "stderr",
     "output_type": "stream",
     "text": [
      "INFO:absl: \n",
      "\t\t NumberOfEpisodes = 4294\n",
      "\t\t EnvironmentSteps = 2946476\n",
      "\t\t AverageReturn = 627.5\n",
      "\t\t AverageEpisodeLength = 902.2000122070312\n"
     ]
    },
    {
     "name": "stdout",
     "output_type": "stream",
     "text": [
      "163000 loss:1.60794\n",
      "elapsed_time: 41.24s\n",
      "163997 loss:2.28493"
     ]
    },
    {
     "name": "stderr",
     "output_type": "stream",
     "text": [
      "INFO:absl: \n",
      "\t\t NumberOfEpisodes = 4297\n",
      "\t\t EnvironmentSteps = 2950476\n",
      "\t\t AverageReturn = 636.5\n",
      "\t\t AverageEpisodeLength = 1008.7999877929688\n"
     ]
    },
    {
     "name": "stdout",
     "output_type": "stream",
     "text": [
      "164000 loss:1.10916\n",
      "elapsed_time: 41.17s\n",
      "164999 loss:1.39368"
     ]
    },
    {
     "name": "stderr",
     "output_type": "stream",
     "text": [
      "INFO:absl: \n",
      "\t\t NumberOfEpisodes = 4302\n",
      "\t\t EnvironmentSteps = 2954476\n",
      "\t\t AverageReturn = 697.5\n",
      "\t\t AverageEpisodeLength = 964.0\n"
     ]
    },
    {
     "name": "stdout",
     "output_type": "stream",
     "text": [
      "165000 loss:1.81486\n",
      "elapsed_time: 41.30s\n",
      "165997 loss:1.00247"
     ]
    },
    {
     "name": "stderr",
     "output_type": "stream",
     "text": [
      "INFO:absl: \n",
      "\t\t NumberOfEpisodes = 4305\n",
      "\t\t EnvironmentSteps = 2958476\n",
      "\t\t AverageReturn = 769.0\n",
      "\t\t AverageEpisodeLength = 924.0\n"
     ]
    },
    {
     "name": "stdout",
     "output_type": "stream",
     "text": [
      "166000 loss:0.87448\n",
      "elapsed_time: 41.22s\n",
      "166998 loss:1.43795"
     ]
    },
    {
     "name": "stderr",
     "output_type": "stream",
     "text": [
      "INFO:absl: \n",
      "\t\t NumberOfEpisodes = 4309\n",
      "\t\t EnvironmentSteps = 2962476\n",
      "\t\t AverageReturn = 802.5\n",
      "\t\t AverageEpisodeLength = 977.2999877929688\n"
     ]
    },
    {
     "name": "stdout",
     "output_type": "stream",
     "text": [
      "167000 loss:0.98350\n",
      "elapsed_time: 41.23s\n",
      "167997 loss:0.91541"
     ]
    },
    {
     "name": "stderr",
     "output_type": "stream",
     "text": [
      "INFO:absl: \n",
      "\t\t NumberOfEpisodes = 4314\n",
      "\t\t EnvironmentSteps = 2966476\n",
      "\t\t AverageReturn = 647.5\n",
      "\t\t AverageEpisodeLength = 943.9000244140625\n"
     ]
    },
    {
     "name": "stdout",
     "output_type": "stream",
     "text": [
      "168000 loss:0.52747\n",
      "elapsed_time: 41.20s\n",
      "168997 loss:1.06727"
     ]
    },
    {
     "name": "stderr",
     "output_type": "stream",
     "text": [
      "INFO:absl: \n",
      "\t\t NumberOfEpisodes = 4318\n",
      "\t\t EnvironmentSteps = 2970476\n",
      "\t\t AverageReturn = 579.5\n",
      "\t\t AverageEpisodeLength = 919.7999877929688\n"
     ]
    },
    {
     "name": "stdout",
     "output_type": "stream",
     "text": [
      "169000 loss:0.87182\n",
      "elapsed_time: 41.33s\n",
      "169995 loss:0.63973"
     ]
    },
    {
     "name": "stderr",
     "output_type": "stream",
     "text": [
      "INFO:absl: \n",
      "\t\t NumberOfEpisodes = 4322\n",
      "\t\t EnvironmentSteps = 2974476\n",
      "\t\t AverageReturn = 669.5\n",
      "\t\t AverageEpisodeLength = 991.2000122070312\n"
     ]
    },
    {
     "name": "stdout",
     "output_type": "stream",
     "text": [
      "170000 loss:1.37990\n",
      "elapsed_time: 41.29s\n",
      "170996 loss:0.83427"
     ]
    },
    {
     "name": "stderr",
     "output_type": "stream",
     "text": [
      "INFO:absl: \n",
      "\t\t NumberOfEpisodes = 4327\n",
      "\t\t EnvironmentSteps = 2978476\n",
      "\t\t AverageReturn = 704.5\n",
      "\t\t AverageEpisodeLength = 896.5999755859375\n"
     ]
    },
    {
     "name": "stdout",
     "output_type": "stream",
     "text": [
      "171000 loss:1.42502\n",
      "elapsed_time: 41.32s\n",
      "171996 loss:1.07774"
     ]
    },
    {
     "name": "stderr",
     "output_type": "stream",
     "text": [
      "INFO:absl: \n",
      "\t\t NumberOfEpisodes = 4332\n",
      "\t\t EnvironmentSteps = 2982476\n",
      "\t\t AverageReturn = 630.0\n",
      "\t\t AverageEpisodeLength = 838.7999877929688\n"
     ]
    },
    {
     "name": "stdout",
     "output_type": "stream",
     "text": [
      "172000 loss:1.01810\n",
      "elapsed_time: 41.30s\n",
      "172996 loss:1.05143"
     ]
    },
    {
     "name": "stderr",
     "output_type": "stream",
     "text": [
      "INFO:absl: \n",
      "\t\t NumberOfEpisodes = 4337\n",
      "\t\t EnvironmentSteps = 2986476\n",
      "\t\t AverageReturn = 585.5\n",
      "\t\t AverageEpisodeLength = 795.5\n"
     ]
    },
    {
     "name": "stdout",
     "output_type": "stream",
     "text": [
      "173000 loss:1.00848\n",
      "elapsed_time: 41.25s\n",
      "173997 loss:0.91803"
     ]
    },
    {
     "name": "stderr",
     "output_type": "stream",
     "text": [
      "INFO:absl: \n",
      "\t\t NumberOfEpisodes = 4341\n",
      "\t\t EnvironmentSteps = 2990476\n",
      "\t\t AverageReturn = 618.5\n",
      "\t\t AverageEpisodeLength = 853.2999877929688\n"
     ]
    },
    {
     "name": "stdout",
     "output_type": "stream",
     "text": [
      "174000 loss:1.15608\n",
      "elapsed_time: 41.19s\n",
      "174998 loss:1.14896"
     ]
    },
    {
     "name": "stderr",
     "output_type": "stream",
     "text": [
      "INFO:absl: \n",
      "\t\t NumberOfEpisodes = 4344\n",
      "\t\t EnvironmentSteps = 2994476\n",
      "\t\t AverageReturn = 692.0\n",
      "\t\t AverageEpisodeLength = 1042.0\n"
     ]
    },
    {
     "name": "stdout",
     "output_type": "stream",
     "text": [
      "175000 loss:1.17164\n",
      "elapsed_time: 41.29s\n",
      "175996 loss:1.19163"
     ]
    },
    {
     "name": "stderr",
     "output_type": "stream",
     "text": [
      "INFO:absl: \n",
      "\t\t NumberOfEpisodes = 4347\n",
      "\t\t EnvironmentSteps = 2998476\n",
      "\t\t AverageReturn = 732.0\n",
      "\t\t AverageEpisodeLength = 1169.0\n"
     ]
    },
    {
     "name": "stdout",
     "output_type": "stream",
     "text": [
      "176000 loss:2.34518\n",
      "elapsed_time: 41.26s\n",
      "176998 loss:1.44512"
     ]
    },
    {
     "name": "stderr",
     "output_type": "stream",
     "text": [
      "INFO:absl: \n",
      "\t\t NumberOfEpisodes = 4351\n",
      "\t\t EnvironmentSteps = 3002476\n",
      "\t\t AverageReturn = 727.5\n",
      "\t\t AverageEpisodeLength = 1194.9000244140625\n"
     ]
    },
    {
     "name": "stdout",
     "output_type": "stream",
     "text": [
      "177000 loss:1.38251\n",
      "elapsed_time: 41.20s\n",
      "177995 loss:0.77928"
     ]
    },
    {
     "name": "stderr",
     "output_type": "stream",
     "text": [
      "INFO:absl: \n",
      "\t\t NumberOfEpisodes = 4355\n",
      "\t\t EnvironmentSteps = 3006476\n",
      "\t\t AverageReturn = 647.0\n",
      "\t\t AverageEpisodeLength = 988.7000122070312\n"
     ]
    },
    {
     "name": "stdout",
     "output_type": "stream",
     "text": [
      "178000 loss:0.54616\n",
      "elapsed_time: 41.32s\n",
      "178995 loss:1.83576"
     ]
    },
    {
     "name": "stderr",
     "output_type": "stream",
     "text": [
      "INFO:absl: \n",
      "\t\t NumberOfEpisodes = 4359\n",
      "\t\t EnvironmentSteps = 3010476\n",
      "\t\t AverageReturn = 596.0\n",
      "\t\t AverageEpisodeLength = 976.7999877929688\n"
     ]
    },
    {
     "name": "stdout",
     "output_type": "stream",
     "text": [
      "179000 loss:0.86186\n",
      "elapsed_time: 41.35s\n",
      "179999 loss:0.93923"
     ]
    },
    {
     "name": "stderr",
     "output_type": "stream",
     "text": [
      "INFO:absl: \n",
      "\t\t NumberOfEpisodes = 4364\n",
      "\t\t EnvironmentSteps = 3014476\n",
      "\t\t AverageReturn = 645.0\n",
      "\t\t AverageEpisodeLength = 1013.0999755859375\n"
     ]
    },
    {
     "name": "stdout",
     "output_type": "stream",
     "text": [
      "180000 loss:2.04460\n",
      "elapsed_time: 41.27s\n",
      "180999 loss:0.94444"
     ]
    },
    {
     "name": "stderr",
     "output_type": "stream",
     "text": [
      "INFO:absl: \n",
      "\t\t NumberOfEpisodes = 4369\n",
      "\t\t EnvironmentSteps = 3018476\n",
      "\t\t AverageReturn = 626.5\n",
      "\t\t AverageEpisodeLength = 806.9000244140625\n"
     ]
    },
    {
     "name": "stdout",
     "output_type": "stream",
     "text": [
      "181000 loss:0.88916\n",
      "elapsed_time: 41.39s\n",
      "181997 loss:1.54582"
     ]
    },
    {
     "name": "stderr",
     "output_type": "stream",
     "text": [
      "INFO:absl: \n",
      "\t\t NumberOfEpisodes = 4373\n",
      "\t\t EnvironmentSteps = 3022476\n",
      "\t\t AverageReturn = 690.0\n",
      "\t\t AverageEpisodeLength = 904.7999877929688\n"
     ]
    },
    {
     "name": "stdout",
     "output_type": "stream",
     "text": [
      "182000 loss:1.05407\n",
      "elapsed_time: 41.22s\n",
      "182996 loss:0.97355"
     ]
    },
    {
     "name": "stderr",
     "output_type": "stream",
     "text": [
      "INFO:absl: \n",
      "\t\t NumberOfEpisodes = 4377\n",
      "\t\t EnvironmentSteps = 3026476\n",
      "\t\t AverageReturn = 693.5\n",
      "\t\t AverageEpisodeLength = 913.4000244140625\n"
     ]
    },
    {
     "name": "stdout",
     "output_type": "stream",
     "text": [
      "183000 loss:0.93387\n",
      "elapsed_time: 41.15s\n",
      "183996 loss:0.77924"
     ]
    },
    {
     "name": "stderr",
     "output_type": "stream",
     "text": [
      "INFO:absl: \n",
      "\t\t NumberOfEpisodes = 4381\n",
      "\t\t EnvironmentSteps = 3030476\n",
      "\t\t AverageReturn = 716.5\n",
      "\t\t AverageEpisodeLength = 969.5\n"
     ]
    },
    {
     "name": "stdout",
     "output_type": "stream",
     "text": [
      "184000 loss:1.18834\n",
      "elapsed_time: 41.20s\n",
      "184999 loss:0.87910"
     ]
    },
    {
     "name": "stderr",
     "output_type": "stream",
     "text": [
      "INFO:absl: \n",
      "\t\t NumberOfEpisodes = 4385\n",
      "\t\t EnvironmentSteps = 3034476\n",
      "\t\t AverageReturn = 719.0\n",
      "\t\t AverageEpisodeLength = 965.9000244140625\n"
     ]
    },
    {
     "name": "stdout",
     "output_type": "stream",
     "text": [
      "185000 loss:2.05779\n",
      "elapsed_time: 41.31s\n",
      "185998 loss:0.55976"
     ]
    },
    {
     "name": "stderr",
     "output_type": "stream",
     "text": [
      "INFO:absl: \n",
      "\t\t NumberOfEpisodes = 4389\n",
      "\t\t EnvironmentSteps = 3038476\n",
      "\t\t AverageReturn = 665.5\n",
      "\t\t AverageEpisodeLength = 946.0999755859375\n"
     ]
    },
    {
     "name": "stdout",
     "output_type": "stream",
     "text": [
      "186000 loss:1.60877\n",
      "elapsed_time: 41.25s\n",
      "186995 loss:0.80302"
     ]
    },
    {
     "name": "stderr",
     "output_type": "stream",
     "text": [
      "INFO:absl: \n",
      "\t\t NumberOfEpisodes = 4394\n",
      "\t\t EnvironmentSteps = 3042476\n",
      "\t\t AverageReturn = 634.5\n",
      "\t\t AverageEpisodeLength = 892.2999877929688\n"
     ]
    },
    {
     "name": "stdout",
     "output_type": "stream",
     "text": [
      "187000 loss:3.07336\n",
      "elapsed_time: 41.34s\n",
      "187997 loss:0.61419"
     ]
    },
    {
     "name": "stderr",
     "output_type": "stream",
     "text": [
      "INFO:absl: \n",
      "\t\t NumberOfEpisodes = 4398\n",
      "\t\t EnvironmentSteps = 3046476\n",
      "\t\t AverageReturn = 600.5\n",
      "\t\t AverageEpisodeLength = 933.4000244140625\n"
     ]
    },
    {
     "name": "stdout",
     "output_type": "stream",
     "text": [
      "188000 loss:1.04702\n",
      "elapsed_time: 41.30s\n",
      "188998 loss:1.50322"
     ]
    },
    {
     "name": "stderr",
     "output_type": "stream",
     "text": [
      "INFO:absl: \n",
      "\t\t NumberOfEpisodes = 4401\n",
      "\t\t EnvironmentSteps = 3050476\n",
      "\t\t AverageReturn = 596.0\n",
      "\t\t AverageEpisodeLength = 980.2000122070312\n"
     ]
    },
    {
     "name": "stdout",
     "output_type": "stream",
     "text": [
      "189000 loss:0.85310\n",
      "elapsed_time: 41.22s\n",
      "189996 loss:0.68855"
     ]
    },
    {
     "name": "stderr",
     "output_type": "stream",
     "text": [
      "INFO:absl: \n",
      "\t\t NumberOfEpisodes = 4406\n",
      "\t\t EnvironmentSteps = 3054476\n",
      "\t\t AverageReturn = 665.5\n",
      "\t\t AverageEpisodeLength = 1068.199951171875\n"
     ]
    },
    {
     "name": "stdout",
     "output_type": "stream",
     "text": [
      "190000 loss:0.77792\n",
      "elapsed_time: 41.38s\n",
      "190995 loss:0.94105"
     ]
    },
    {
     "name": "stderr",
     "output_type": "stream",
     "text": [
      "INFO:absl: \n",
      "\t\t NumberOfEpisodes = 4410\n",
      "\t\t EnvironmentSteps = 3058476\n",
      "\t\t AverageReturn = 629.5\n",
      "\t\t AverageEpisodeLength = 1022.7000122070312\n"
     ]
    },
    {
     "name": "stdout",
     "output_type": "stream",
     "text": [
      "191000 loss:0.58382\n",
      "elapsed_time: 41.31s\n",
      "191998 loss:2.79436"
     ]
    },
    {
     "name": "stderr",
     "output_type": "stream",
     "text": [
      "INFO:absl: \n",
      "\t\t NumberOfEpisodes = 4414\n",
      "\t\t EnvironmentSteps = 3062476\n",
      "\t\t AverageReturn = 550.5\n",
      "\t\t AverageEpisodeLength = 967.0\n"
     ]
    },
    {
     "name": "stdout",
     "output_type": "stream",
     "text": [
      "192000 loss:0.81512\n",
      "elapsed_time: 41.38s\n",
      "192995 loss:2.02541"
     ]
    },
    {
     "name": "stderr",
     "output_type": "stream",
     "text": [
      "INFO:absl: \n",
      "\t\t NumberOfEpisodes = 4419\n",
      "\t\t EnvironmentSteps = 3066476\n",
      "\t\t AverageReturn = 523.0\n",
      "\t\t AverageEpisodeLength = 921.0999755859375\n"
     ]
    },
    {
     "name": "stdout",
     "output_type": "stream",
     "text": [
      "193000 loss:0.99407\n",
      "elapsed_time: 41.34s\n",
      "193996 loss:1.04144"
     ]
    },
    {
     "name": "stderr",
     "output_type": "stream",
     "text": [
      "INFO:absl: \n",
      "\t\t NumberOfEpisodes = 4423\n",
      "\t\t EnvironmentSteps = 3070476\n",
      "\t\t AverageReturn = 638.5\n",
      "\t\t AverageEpisodeLength = 936.4000244140625\n"
     ]
    },
    {
     "name": "stdout",
     "output_type": "stream",
     "text": [
      "194000 loss:0.95249\n",
      "elapsed_time: 41.26s\n",
      "194995 loss:1.37036"
     ]
    },
    {
     "name": "stderr",
     "output_type": "stream",
     "text": [
      "INFO:absl: \n",
      "\t\t NumberOfEpisodes = 4428\n",
      "\t\t EnvironmentSteps = 3074476\n",
      "\t\t AverageReturn = 675.5\n",
      "\t\t AverageEpisodeLength = 898.7999877929688\n"
     ]
    },
    {
     "name": "stdout",
     "output_type": "stream",
     "text": [
      "195000 loss:0.76722\n",
      "elapsed_time: 41.35s\n",
      "195999 loss:1.21572"
     ]
    },
    {
     "name": "stderr",
     "output_type": "stream",
     "text": [
      "INFO:absl: \n",
      "\t\t NumberOfEpisodes = 4432\n",
      "\t\t EnvironmentSteps = 3078476\n",
      "\t\t AverageReturn = 667.5\n",
      "\t\t AverageEpisodeLength = 873.4000244140625\n"
     ]
    },
    {
     "name": "stdout",
     "output_type": "stream",
     "text": [
      "196000 loss:1.30451\n",
      "elapsed_time: 41.30s\n",
      "196997 loss:0.96159"
     ]
    },
    {
     "name": "stderr",
     "output_type": "stream",
     "text": [
      "INFO:absl: \n",
      "\t\t NumberOfEpisodes = 4438\n",
      "\t\t EnvironmentSteps = 3082476\n",
      "\t\t AverageReturn = 645.5\n",
      "\t\t AverageEpisodeLength = 843.7000122070312\n"
     ]
    },
    {
     "name": "stdout",
     "output_type": "stream",
     "text": [
      "197000 loss:0.66446\n",
      "elapsed_time: 41.40s\n",
      "197998 loss:0.82391"
     ]
    },
    {
     "name": "stderr",
     "output_type": "stream",
     "text": [
      "INFO:absl: \n",
      "\t\t NumberOfEpisodes = 4442\n",
      "\t\t EnvironmentSteps = 3086476\n",
      "\t\t AverageReturn = 586.0\n",
      "\t\t AverageEpisodeLength = 764.7000122070312\n"
     ]
    },
    {
     "name": "stdout",
     "output_type": "stream",
     "text": [
      "198000 loss:1.74374\n",
      "elapsed_time: 41.29s\n",
      "198995 loss:1.32182"
     ]
    },
    {
     "name": "stderr",
     "output_type": "stream",
     "text": [
      "INFO:absl: \n",
      "\t\t NumberOfEpisodes = 4447\n",
      "\t\t EnvironmentSteps = 3090476\n",
      "\t\t AverageReturn = 665.0\n",
      "\t\t AverageEpisodeLength = 873.7000122070312\n"
     ]
    },
    {
     "name": "stdout",
     "output_type": "stream",
     "text": [
      "199000 loss:0.84568\n",
      "elapsed_time: 41.24s\n",
      "199996 loss:0.70495"
     ]
    },
    {
     "name": "stderr",
     "output_type": "stream",
     "text": [
      "INFO:absl: \n",
      "\t\t NumberOfEpisodes = 4452\n",
      "\t\t EnvironmentSteps = 3094476\n",
      "\t\t AverageReturn = 643.5\n",
      "\t\t AverageEpisodeLength = 860.7000122070312\n"
     ]
    },
    {
     "name": "stdout",
     "output_type": "stream",
     "text": [
      "200000 loss:2.06174\n",
      "elapsed_time: 41.35s\n",
      "200996 loss:1.04729"
     ]
    },
    {
     "name": "stderr",
     "output_type": "stream",
     "text": [
      "INFO:absl: \n",
      "\t\t NumberOfEpisodes = 4455\n",
      "\t\t EnvironmentSteps = 3098476\n",
      "\t\t AverageReturn = 623.5\n",
      "\t\t AverageEpisodeLength = 966.7000122070312\n"
     ]
    },
    {
     "name": "stdout",
     "output_type": "stream",
     "text": [
      "201000 loss:1.05421\n",
      "elapsed_time: 41.14s\n",
      "201996 loss:4.23813"
     ]
    },
    {
     "name": "stderr",
     "output_type": "stream",
     "text": [
      "INFO:absl: \n",
      "\t\t NumberOfEpisodes = 4459\n",
      "\t\t EnvironmentSteps = 3102476\n",
      "\t\t AverageReturn = 692.5\n",
      "\t\t AverageEpisodeLength = 1040.5999755859375\n"
     ]
    },
    {
     "name": "stdout",
     "output_type": "stream",
     "text": [
      "202000 loss:1.10919\n",
      "elapsed_time: 41.25s\n",
      "202998 loss:0.90737"
     ]
    },
    {
     "name": "stderr",
     "output_type": "stream",
     "text": [
      "INFO:absl: \n",
      "\t\t NumberOfEpisodes = 4461\n",
      "\t\t EnvironmentSteps = 3106476\n",
      "\t\t AverageReturn = 768.0\n",
      "\t\t AverageEpisodeLength = 1251.5\n"
     ]
    },
    {
     "name": "stdout",
     "output_type": "stream",
     "text": [
      "203000 loss:1.10627\n",
      "elapsed_time: 41.08s\n",
      "203999 loss:1.47076"
     ]
    },
    {
     "name": "stderr",
     "output_type": "stream",
     "text": [
      "INFO:absl: \n",
      "\t\t NumberOfEpisodes = 4465\n",
      "\t\t EnvironmentSteps = 3110476\n",
      "\t\t AverageReturn = 781.5\n",
      "\t\t AverageEpisodeLength = 1148.0999755859375\n"
     ]
    },
    {
     "name": "stdout",
     "output_type": "stream",
     "text": [
      "204000 loss:0.97324\n",
      "elapsed_time: 41.21s\n",
      "204997 loss:1.15202"
     ]
    },
    {
     "name": "stderr",
     "output_type": "stream",
     "text": [
      "INFO:absl: \n",
      "\t\t NumberOfEpisodes = 4470\n",
      "\t\t EnvironmentSteps = 3114476\n",
      "\t\t AverageReturn = 688.0\n",
      "\t\t AverageEpisodeLength = 937.7999877929688\n"
     ]
    },
    {
     "name": "stdout",
     "output_type": "stream",
     "text": [
      "205000 loss:1.93156\n",
      "elapsed_time: 41.28s\n",
      "205996 loss:0.78917"
     ]
    },
    {
     "name": "stderr",
     "output_type": "stream",
     "text": [
      "INFO:absl: \n",
      "\t\t NumberOfEpisodes = 4474\n",
      "\t\t EnvironmentSteps = 3118476\n",
      "\t\t AverageReturn = 659.5\n",
      "\t\t AverageEpisodeLength = 915.4000244140625\n"
     ]
    },
    {
     "name": "stdout",
     "output_type": "stream",
     "text": [
      "206000 loss:1.05131\n",
      "elapsed_time: 41.23s\n",
      "206995 loss:0.82331"
     ]
    },
    {
     "name": "stderr",
     "output_type": "stream",
     "text": [
      "INFO:absl: \n",
      "\t\t NumberOfEpisodes = 4478\n",
      "\t\t EnvironmentSteps = 3122476\n",
      "\t\t AverageReturn = 695.5\n",
      "\t\t AverageEpisodeLength = 983.7999877929688\n"
     ]
    },
    {
     "name": "stdout",
     "output_type": "stream",
     "text": [
      "207000 loss:0.49559\n",
      "elapsed_time: 41.24s\n",
      "207998 loss:1.01618"
     ]
    },
    {
     "name": "stderr",
     "output_type": "stream",
     "text": [
      "INFO:absl: \n",
      "\t\t NumberOfEpisodes = 4482\n",
      "\t\t EnvironmentSteps = 3126476\n",
      "\t\t AverageReturn = 752.5\n",
      "\t\t AverageEpisodeLength = 1048.699951171875\n"
     ]
    },
    {
     "name": "stdout",
     "output_type": "stream",
     "text": [
      "208000 loss:1.62652\n",
      "elapsed_time: 41.17s\n",
      "208996 loss:0.75584"
     ]
    },
    {
     "name": "stderr",
     "output_type": "stream",
     "text": [
      "INFO:absl: \n",
      "\t\t NumberOfEpisodes = 4486\n",
      "\t\t EnvironmentSteps = 3130476\n",
      "\t\t AverageReturn = 707.0\n",
      "\t\t AverageEpisodeLength = 1006.5\n"
     ]
    },
    {
     "name": "stdout",
     "output_type": "stream",
     "text": [
      "209000 loss:1.18434\n",
      "elapsed_time: 41.28s\n",
      "209996 loss:0.65326"
     ]
    },
    {
     "name": "stderr",
     "output_type": "stream",
     "text": [
      "INFO:absl: \n",
      "\t\t NumberOfEpisodes = 4491\n",
      "\t\t EnvironmentSteps = 3134476\n",
      "\t\t AverageReturn = 646.0\n",
      "\t\t AverageEpisodeLength = 904.2999877929688\n"
     ]
    },
    {
     "name": "stdout",
     "output_type": "stream",
     "text": [
      "210000 loss:1.74054\n",
      "elapsed_time: 41.30s\n",
      "210995 loss:1.23462"
     ]
    },
    {
     "name": "stderr",
     "output_type": "stream",
     "text": [
      "INFO:absl: \n",
      "\t\t NumberOfEpisodes = 4495\n",
      "\t\t EnvironmentSteps = 3138476\n",
      "\t\t AverageReturn = 672.0\n",
      "\t\t AverageEpisodeLength = 934.2000122070312\n"
     ]
    },
    {
     "name": "stdout",
     "output_type": "stream",
     "text": [
      "211000 loss:0.65669\n",
      "elapsed_time: 41.23s\n",
      "211996 loss:0.92057"
     ]
    },
    {
     "name": "stderr",
     "output_type": "stream",
     "text": [
      "INFO:absl: \n",
      "\t\t NumberOfEpisodes = 4499\n",
      "\t\t EnvironmentSteps = 3142476\n",
      "\t\t AverageReturn = 620.5\n",
      "\t\t AverageEpisodeLength = 931.2999877929688\n"
     ]
    },
    {
     "name": "stdout",
     "output_type": "stream",
     "text": [
      "212000 loss:1.15669\n",
      "elapsed_time: 41.24s\n",
      "212996 loss:0.82836"
     ]
    },
    {
     "name": "stderr",
     "output_type": "stream",
     "text": [
      "INFO:absl: \n",
      "\t\t NumberOfEpisodes = 4504\n",
      "\t\t EnvironmentSteps = 3146476\n",
      "\t\t AverageReturn = 600.0\n",
      "\t\t AverageEpisodeLength = 902.4000244140625\n"
     ]
    },
    {
     "name": "stdout",
     "output_type": "stream",
     "text": [
      "213000 loss:0.72410\n",
      "elapsed_time: 41.29s\n",
      "213999 loss:0.72376"
     ]
    },
    {
     "name": "stderr",
     "output_type": "stream",
     "text": [
      "INFO:absl: \n",
      "\t\t NumberOfEpisodes = 4509\n",
      "\t\t EnvironmentSteps = 3150476\n",
      "\t\t AverageReturn = 647.5\n",
      "\t\t AverageEpisodeLength = 833.7000122070312\n"
     ]
    },
    {
     "name": "stdout",
     "output_type": "stream",
     "text": [
      "214000 loss:2.83524\n",
      "elapsed_time: 41.35s\n",
      "214996 loss:1.11582"
     ]
    },
    {
     "name": "stderr",
     "output_type": "stream",
     "text": [
      "INFO:absl: \n",
      "\t\t NumberOfEpisodes = 4513\n",
      "\t\t EnvironmentSteps = 3154476\n",
      "\t\t AverageReturn = 685.5\n",
      "\t\t AverageEpisodeLength = 901.5999755859375\n"
     ]
    },
    {
     "name": "stdout",
     "output_type": "stream",
     "text": [
      "215000 loss:2.91698\n",
      "elapsed_time: 41.25s\n",
      "215998 loss:1.05918"
     ]
    },
    {
     "name": "stderr",
     "output_type": "stream",
     "text": [
      "INFO:absl: \n",
      "\t\t NumberOfEpisodes = 4517\n",
      "\t\t EnvironmentSteps = 3158476\n",
      "\t\t AverageReturn = 681.0\n",
      "\t\t AverageEpisodeLength = 933.0\n"
     ]
    },
    {
     "name": "stdout",
     "output_type": "stream",
     "text": [
      "216000 loss:1.23227\n",
      "elapsed_time: 41.26s\n",
      "216995 loss:0.85915"
     ]
    },
    {
     "name": "stderr",
     "output_type": "stream",
     "text": [
      "INFO:absl: \n",
      "\t\t NumberOfEpisodes = 4521\n",
      "\t\t EnvironmentSteps = 3162476\n",
      "\t\t AverageReturn = 674.0\n",
      "\t\t AverageEpisodeLength = 956.0\n"
     ]
    },
    {
     "name": "stdout",
     "output_type": "stream",
     "text": [
      "217000 loss:1.00868\n",
      "elapsed_time: 41.31s\n",
      "217995 loss:0.66531"
     ]
    },
    {
     "name": "stderr",
     "output_type": "stream",
     "text": [
      "INFO:absl: \n",
      "\t\t NumberOfEpisodes = 4525\n",
      "\t\t EnvironmentSteps = 3166476\n",
      "\t\t AverageReturn = 686.0\n",
      "\t\t AverageEpisodeLength = 953.7999877929688\n"
     ]
    },
    {
     "name": "stdout",
     "output_type": "stream",
     "text": [
      "218000 loss:0.96682\n",
      "elapsed_time: 41.28s\n",
      "218995 loss:0.84012"
     ]
    },
    {
     "name": "stderr",
     "output_type": "stream",
     "text": [
      "INFO:absl: \n",
      "\t\t NumberOfEpisodes = 4528\n",
      "\t\t EnvironmentSteps = 3170476\n",
      "\t\t AverageReturn = 757.0\n",
      "\t\t AverageEpisodeLength = 1114.300048828125\n"
     ]
    },
    {
     "name": "stdout",
     "output_type": "stream",
     "text": [
      "219000 loss:1.69431\n",
      "elapsed_time: 41.12s\n",
      "219995 loss:0.49711"
     ]
    },
    {
     "name": "stderr",
     "output_type": "stream",
     "text": [
      "INFO:absl: \n",
      "\t\t NumberOfEpisodes = 4533\n",
      "\t\t EnvironmentSteps = 3174476\n",
      "\t\t AverageReturn = 688.0\n",
      "\t\t AverageEpisodeLength = 1036.800048828125\n"
     ]
    },
    {
     "name": "stdout",
     "output_type": "stream",
     "text": [
      "220000 loss:0.77636\n",
      "elapsed_time: 41.35s\n",
      "220996 loss:1.26546"
     ]
    },
    {
     "name": "stderr",
     "output_type": "stream",
     "text": [
      "INFO:absl: \n",
      "\t\t NumberOfEpisodes = 4537\n",
      "\t\t EnvironmentSteps = 3178476\n",
      "\t\t AverageReturn = 664.5\n",
      "\t\t AverageEpisodeLength = 971.0999755859375\n"
     ]
    },
    {
     "name": "stdout",
     "output_type": "stream",
     "text": [
      "221000 loss:0.61627\n",
      "elapsed_time: 41.24s\n",
      "221998 loss:1.32005"
     ]
    },
    {
     "name": "stderr",
     "output_type": "stream",
     "text": [
      "INFO:absl: \n",
      "\t\t NumberOfEpisodes = 4542\n",
      "\t\t EnvironmentSteps = 3182476\n",
      "\t\t AverageReturn = 620.5\n",
      "\t\t AverageEpisodeLength = 827.7000122070312\n"
     ]
    },
    {
     "name": "stdout",
     "output_type": "stream",
     "text": [
      "222000 loss:0.79217\n",
      "elapsed_time: 41.27s\n",
      "222999 loss:0.95896"
     ]
    },
    {
     "name": "stderr",
     "output_type": "stream",
     "text": [
      "INFO:absl: \n",
      "\t\t NumberOfEpisodes = 4545\n",
      "\t\t EnvironmentSteps = 3186476\n",
      "\t\t AverageReturn = 632.0\n",
      "\t\t AverageEpisodeLength = 919.9000244140625\n"
     ]
    },
    {
     "name": "stdout",
     "output_type": "stream",
     "text": [
      "223000 loss:1.73409\n",
      "elapsed_time: 41.19s\n",
      "223998 loss:0.85102"
     ]
    },
    {
     "name": "stderr",
     "output_type": "stream",
     "text": [
      "INFO:absl: \n",
      "\t\t NumberOfEpisodes = 4551\n",
      "\t\t EnvironmentSteps = 3190476\n",
      "\t\t AverageReturn = 616.5\n",
      "\t\t AverageEpisodeLength = 939.4000244140625\n"
     ]
    },
    {
     "name": "stdout",
     "output_type": "stream",
     "text": [
      "224000 loss:0.94061\n",
      "elapsed_time: 41.37s\n",
      "224997 loss:1.97138"
     ]
    },
    {
     "name": "stderr",
     "output_type": "stream",
     "text": [
      "INFO:absl: \n",
      "\t\t NumberOfEpisodes = 4555\n",
      "\t\t EnvironmentSteps = 3194476\n",
      "\t\t AverageReturn = 590.5\n",
      "\t\t AverageEpisodeLength = 860.5999755859375\n"
     ]
    },
    {
     "name": "stdout",
     "output_type": "stream",
     "text": [
      "225000 loss:1.18773\n",
      "elapsed_time: 41.21s\n",
      "225997 loss:1.90844"
     ]
    },
    {
     "name": "stderr",
     "output_type": "stream",
     "text": [
      "INFO:absl: \n",
      "\t\t NumberOfEpisodes = 4560\n",
      "\t\t EnvironmentSteps = 3198476\n",
      "\t\t AverageReturn = 614.0\n",
      "\t\t AverageEpisodeLength = 869.9000244140625\n"
     ]
    },
    {
     "name": "stdout",
     "output_type": "stream",
     "text": [
      "226000 loss:0.65863\n",
      "elapsed_time: 41.26s\n",
      "226999 loss:0.78116"
     ]
    },
    {
     "name": "stderr",
     "output_type": "stream",
     "text": [
      "INFO:absl: \n",
      "\t\t NumberOfEpisodes = 4565\n",
      "\t\t EnvironmentSteps = 3202476\n",
      "\t\t AverageReturn = 631.0\n",
      "\t\t AverageEpisodeLength = 846.7000122070312\n"
     ]
    },
    {
     "name": "stdout",
     "output_type": "stream",
     "text": [
      "227000 loss:1.06170\n",
      "elapsed_time: 41.28s\n",
      "227996 loss:0.60654"
     ]
    },
    {
     "name": "stderr",
     "output_type": "stream",
     "text": [
      "INFO:absl: \n",
      "\t\t NumberOfEpisodes = 4569\n",
      "\t\t EnvironmentSteps = 3206476\n",
      "\t\t AverageReturn = 603.0\n",
      "\t\t AverageEpisodeLength = 783.5\n"
     ]
    },
    {
     "name": "stdout",
     "output_type": "stream",
     "text": [
      "228000 loss:0.73126\n",
      "elapsed_time: 41.20s\n",
      "228998 loss:1.34940"
     ]
    },
    {
     "name": "stderr",
     "output_type": "stream",
     "text": [
      "INFO:absl: \n",
      "\t\t NumberOfEpisodes = 4572\n",
      "\t\t EnvironmentSteps = 3210476\n",
      "\t\t AverageReturn = 666.0\n",
      "\t\t AverageEpisodeLength = 975.7000122070312\n"
     ]
    },
    {
     "name": "stdout",
     "output_type": "stream",
     "text": [
      "229000 loss:0.95586\n",
      "elapsed_time: 41.32s\n",
      "229996 loss:1.46075"
     ]
    },
    {
     "name": "stderr",
     "output_type": "stream",
     "text": [
      "INFO:absl: \n",
      "\t\t NumberOfEpisodes = 4577\n",
      "\t\t EnvironmentSteps = 3214476\n",
      "\t\t AverageReturn = 617.5\n",
      "\t\t AverageEpisodeLength = 1030.5\n"
     ]
    },
    {
     "name": "stdout",
     "output_type": "stream",
     "text": [
      "230000 loss:0.70310\n",
      "elapsed_time: 41.28s\n",
      "230997 loss:0.74308"
     ]
    },
    {
     "name": "stderr",
     "output_type": "stream",
     "text": [
      "INFO:absl: \n",
      "\t\t NumberOfEpisodes = 4580\n",
      "\t\t EnvironmentSteps = 3218476\n",
      "\t\t AverageReturn = 565.0\n",
      "\t\t AverageEpisodeLength = 1041.300048828125\n"
     ]
    },
    {
     "name": "stdout",
     "output_type": "stream",
     "text": [
      "231000 loss:2.92990\n",
      "elapsed_time: 41.14s\n",
      "231996 loss:3.67087"
     ]
    },
    {
     "name": "stderr",
     "output_type": "stream",
     "text": [
      "INFO:absl: \n",
      "\t\t NumberOfEpisodes = 4582\n",
      "\t\t EnvironmentSteps = 3222476\n",
      "\t\t AverageReturn = 565.5\n",
      "\t\t AverageEpisodeLength = 1139.4000244140625\n"
     ]
    },
    {
     "name": "stdout",
     "output_type": "stream",
     "text": [
      "232000 loss:1.39644\n",
      "elapsed_time: 41.17s\n",
      "232998 loss:0.96180"
     ]
    },
    {
     "name": "stderr",
     "output_type": "stream",
     "text": [
      "INFO:absl: \n",
      "\t\t NumberOfEpisodes = 4588\n",
      "\t\t EnvironmentSteps = 3226476\n",
      "\t\t AverageReturn = 658.5\n",
      "\t\t AverageEpisodeLength = 1018.0999755859375\n"
     ]
    },
    {
     "name": "stdout",
     "output_type": "stream",
     "text": [
      "233000 loss:1.27947\n",
      "elapsed_time: 41.33s\n",
      "233997 loss:1.38471"
     ]
    },
    {
     "name": "stderr",
     "output_type": "stream",
     "text": [
      "INFO:absl: \n",
      "\t\t NumberOfEpisodes = 4590\n",
      "\t\t EnvironmentSteps = 3230476\n",
      "\t\t AverageReturn = 699.5\n",
      "\t\t AverageEpisodeLength = 1023.0\n"
     ]
    },
    {
     "name": "stdout",
     "output_type": "stream",
     "text": [
      "234000 loss:1.13161\n",
      "elapsed_time: 41.22s\n",
      "234999 loss:0.79827"
     ]
    },
    {
     "name": "stderr",
     "output_type": "stream",
     "text": [
      "INFO:absl: \n",
      "\t\t NumberOfEpisodes = 4594\n",
      "\t\t EnvironmentSteps = 3234476\n",
      "\t\t AverageReturn = 650.0\n",
      "\t\t AverageEpisodeLength = 1001.4000244140625\n"
     ]
    },
    {
     "name": "stdout",
     "output_type": "stream",
     "text": [
      "235000 loss:1.42391\n",
      "elapsed_time: 41.23s\n",
      "235996 loss:0.89287"
     ]
    },
    {
     "name": "stderr",
     "output_type": "stream",
     "text": [
      "INFO:absl: \n",
      "\t\t NumberOfEpisodes = 4598\n",
      "\t\t EnvironmentSteps = 3238476\n",
      "\t\t AverageReturn = 692.0\n",
      "\t\t AverageEpisodeLength = 1152.0\n"
     ]
    },
    {
     "name": "stdout",
     "output_type": "stream",
     "text": [
      "236000 loss:1.02963\n",
      "elapsed_time: 41.16s\n",
      "236995 loss:2.78205"
     ]
    },
    {
     "name": "stderr",
     "output_type": "stream",
     "text": [
      "INFO:absl: \n",
      "\t\t NumberOfEpisodes = 4604\n",
      "\t\t EnvironmentSteps = 3242476\n",
      "\t\t AverageReturn = 594.5\n",
      "\t\t AverageEpisodeLength = 907.5\n"
     ]
    },
    {
     "name": "stdout",
     "output_type": "stream",
     "text": [
      "237000 loss:1.09696\n",
      "elapsed_time: 41.31s\n",
      "237998 loss:0.70654"
     ]
    },
    {
     "name": "stderr",
     "output_type": "stream",
     "text": [
      "INFO:absl: \n",
      "\t\t NumberOfEpisodes = 4609\n",
      "\t\t EnvironmentSteps = 3246476\n",
      "\t\t AverageReturn = 538.5\n",
      "\t\t AverageEpisodeLength = 754.0999755859375\n"
     ]
    },
    {
     "name": "stdout",
     "output_type": "stream",
     "text": [
      "238000 loss:1.29402\n",
      "elapsed_time: 41.38s\n",
      "238998 loss:1.74494"
     ]
    },
    {
     "name": "stderr",
     "output_type": "stream",
     "text": [
      "INFO:absl: \n",
      "\t\t NumberOfEpisodes = 4614\n",
      "\t\t EnvironmentSteps = 3250476\n",
      "\t\t AverageReturn = 525.5\n",
      "\t\t AverageEpisodeLength = 757.7999877929688\n"
     ]
    },
    {
     "name": "stdout",
     "output_type": "stream",
     "text": [
      "239000 loss:1.26501\n",
      "elapsed_time: 41.35s\n",
      "239999 loss:1.59662"
     ]
    },
    {
     "name": "stderr",
     "output_type": "stream",
     "text": [
      "INFO:absl: \n",
      "\t\t NumberOfEpisodes = 4619\n",
      "\t\t EnvironmentSteps = 3254476\n",
      "\t\t AverageReturn = 576.5\n",
      "\t\t AverageEpisodeLength = 785.0\n"
     ]
    },
    {
     "name": "stdout",
     "output_type": "stream",
     "text": [
      "240000 loss:0.78395\n",
      "elapsed_time: 41.29s\n",
      "240999 loss:1.25075"
     ]
    },
    {
     "name": "stderr",
     "output_type": "stream",
     "text": [
      "INFO:absl: \n",
      "\t\t NumberOfEpisodes = 4624\n",
      "\t\t EnvironmentSteps = 3258476\n",
      "\t\t AverageReturn = 639.0\n",
      "\t\t AverageEpisodeLength = 786.7000122070312\n"
     ]
    },
    {
     "name": "stdout",
     "output_type": "stream",
     "text": [
      "241000 loss:0.80193\n",
      "elapsed_time: 41.27s\n",
      "241999 loss:1.17340"
     ]
    },
    {
     "name": "stderr",
     "output_type": "stream",
     "text": [
      "INFO:absl: \n",
      "\t\t NumberOfEpisodes = 4628\n",
      "\t\t EnvironmentSteps = 3262476\n",
      "\t\t AverageReturn = 661.0\n",
      "\t\t AverageEpisodeLength = 891.2999877929688\n"
     ]
    },
    {
     "name": "stdout",
     "output_type": "stream",
     "text": [
      "242000 loss:1.25251\n",
      "elapsed_time: 41.25s\n",
      "242997 loss:0.85712"
     ]
    },
    {
     "name": "stderr",
     "output_type": "stream",
     "text": [
      "INFO:absl: \n",
      "\t\t NumberOfEpisodes = 4632\n",
      "\t\t EnvironmentSteps = 3266476\n",
      "\t\t AverageReturn = 675.0\n",
      "\t\t AverageEpisodeLength = 951.5999755859375\n"
     ]
    },
    {
     "name": "stdout",
     "output_type": "stream",
     "text": [
      "243000 loss:1.26144\n",
      "elapsed_time: 41.21s\n",
      "243999 loss:0.90965"
     ]
    },
    {
     "name": "stderr",
     "output_type": "stream",
     "text": [
      "INFO:absl: \n",
      "\t\t NumberOfEpisodes = 4637\n",
      "\t\t EnvironmentSteps = 3270476\n",
      "\t\t AverageReturn = 613.5\n",
      "\t\t AverageEpisodeLength = 985.0999755859375\n"
     ]
    },
    {
     "name": "stdout",
     "output_type": "stream",
     "text": [
      "244000 loss:0.94914\n",
      "elapsed_time: 41.46s\n",
      "244997 loss:0.81965"
     ]
    },
    {
     "name": "stderr",
     "output_type": "stream",
     "text": [
      "INFO:absl: \n",
      "\t\t NumberOfEpisodes = 4642\n",
      "\t\t EnvironmentSteps = 3274476\n",
      "\t\t AverageReturn = 489.0\n",
      "\t\t AverageEpisodeLength = 757.2000122070312\n"
     ]
    },
    {
     "name": "stdout",
     "output_type": "stream",
     "text": [
      "245000 loss:0.84108\n",
      "elapsed_time: 41.38s\n",
      "245998 loss:1.65167"
     ]
    },
    {
     "name": "stderr",
     "output_type": "stream",
     "text": [
      "INFO:absl: \n",
      "\t\t NumberOfEpisodes = 4646\n",
      "\t\t EnvironmentSteps = 3278476\n",
      "\t\t AverageReturn = 504.0\n",
      "\t\t AverageEpisodeLength = 776.2999877929688\n"
     ]
    },
    {
     "name": "stdout",
     "output_type": "stream",
     "text": [
      "246000 loss:1.94266\n",
      "elapsed_time: 41.34s\n",
      "246998 loss:0.98840"
     ]
    },
    {
     "name": "stderr",
     "output_type": "stream",
     "text": [
      "INFO:absl: \n",
      "\t\t NumberOfEpisodes = 4651\n",
      "\t\t EnvironmentSteps = 3282476\n",
      "\t\t AverageReturn = 586.0\n",
      "\t\t AverageEpisodeLength = 932.0\n"
     ]
    },
    {
     "name": "stdout",
     "output_type": "stream",
     "text": [
      "247000 loss:0.97325\n",
      "elapsed_time: 41.36s\n",
      "247996 loss:0.92714"
     ]
    },
    {
     "name": "stderr",
     "output_type": "stream",
     "text": [
      "INFO:absl: \n",
      "\t\t NumberOfEpisodes = 4656\n",
      "\t\t EnvironmentSteps = 3286476\n",
      "\t\t AverageReturn = 598.0\n",
      "\t\t AverageEpisodeLength = 872.7000122070312\n"
     ]
    },
    {
     "name": "stdout",
     "output_type": "stream",
     "text": [
      "248000 loss:0.88081\n",
      "elapsed_time: 41.25s\n",
      "248996 loss:1.36477"
     ]
    },
    {
     "name": "stderr",
     "output_type": "stream",
     "text": [
      "INFO:absl: \n",
      "\t\t NumberOfEpisodes = 4661\n",
      "\t\t EnvironmentSteps = 3290476\n",
      "\t\t AverageReturn = 541.5\n",
      "\t\t AverageEpisodeLength = 813.0999755859375\n"
     ]
    },
    {
     "name": "stdout",
     "output_type": "stream",
     "text": [
      "249000 loss:0.68188\n",
      "elapsed_time: 41.32s\n",
      "249998 loss:1.54170"
     ]
    },
    {
     "name": "stderr",
     "output_type": "stream",
     "text": [
      "INFO:absl: \n",
      "\t\t NumberOfEpisodes = 4665\n",
      "\t\t EnvironmentSteps = 3294476\n",
      "\t\t AverageReturn = 513.0\n",
      "\t\t AverageEpisodeLength = 868.4000244140625\n"
     ]
    },
    {
     "name": "stdout",
     "output_type": "stream",
     "text": [
      "250000 loss:1.15079\n",
      "elapsed_time: 41.29s\n",
      "250996 loss:0.78933"
     ]
    },
    {
     "name": "stderr",
     "output_type": "stream",
     "text": [
      "INFO:absl: \n",
      "\t\t NumberOfEpisodes = 4669\n",
      "\t\t EnvironmentSteps = 3298476\n",
      "\t\t AverageReturn = 528.5\n",
      "\t\t AverageEpisodeLength = 849.4000244140625\n"
     ]
    },
    {
     "name": "stdout",
     "output_type": "stream",
     "text": [
      "251000 loss:1.14583\n",
      "elapsed_time: 41.17s\n",
      "251997 loss:1.09775"
     ]
    },
    {
     "name": "stderr",
     "output_type": "stream",
     "text": [
      "INFO:absl: \n",
      "\t\t NumberOfEpisodes = 4674\n",
      "\t\t EnvironmentSteps = 3302476\n",
      "\t\t AverageReturn = 576.5\n",
      "\t\t AverageEpisodeLength = 822.5999755859375\n"
     ]
    },
    {
     "name": "stdout",
     "output_type": "stream",
     "text": [
      "252000 loss:0.93692\n",
      "elapsed_time: 41.36s\n",
      "252998 loss:1.39545"
     ]
    },
    {
     "name": "stderr",
     "output_type": "stream",
     "text": [
      "INFO:absl: \n",
      "\t\t NumberOfEpisodes = 4679\n",
      "\t\t EnvironmentSteps = 3306476\n",
      "\t\t AverageReturn = 642.5\n",
      "\t\t AverageEpisodeLength = 888.4000244140625\n"
     ]
    },
    {
     "name": "stdout",
     "output_type": "stream",
     "text": [
      "253000 loss:1.03608\n",
      "elapsed_time: 41.29s\n",
      "253996 loss:0.89126"
     ]
    },
    {
     "name": "stderr",
     "output_type": "stream",
     "text": [
      "INFO:absl: \n",
      "\t\t NumberOfEpisodes = 4684\n",
      "\t\t EnvironmentSteps = 3310476\n",
      "\t\t AverageReturn = 564.0\n",
      "\t\t AverageEpisodeLength = 831.7000122070312\n"
     ]
    },
    {
     "name": "stdout",
     "output_type": "stream",
     "text": [
      "254000 loss:1.17170\n",
      "elapsed_time: 41.43s\n",
      "254998 loss:0.66894"
     ]
    },
    {
     "name": "stderr",
     "output_type": "stream",
     "text": [
      "INFO:absl: \n",
      "\t\t NumberOfEpisodes = 4688\n",
      "\t\t EnvironmentSteps = 3314476\n",
      "\t\t AverageReturn = 543.5\n",
      "\t\t AverageEpisodeLength = 797.0\n"
     ]
    },
    {
     "name": "stdout",
     "output_type": "stream",
     "text": [
      "255000 loss:2.66887\n",
      "elapsed_time: 41.20s\n",
      "255995 loss:0.61875"
     ]
    },
    {
     "name": "stderr",
     "output_type": "stream",
     "text": [
      "INFO:absl: \n",
      "\t\t NumberOfEpisodes = 4693\n",
      "\t\t EnvironmentSteps = 3318476\n",
      "\t\t AverageReturn = 681.5\n",
      "\t\t AverageEpisodeLength = 901.7999877929688\n"
     ]
    },
    {
     "name": "stdout",
     "output_type": "stream",
     "text": [
      "256000 loss:0.72181\n",
      "elapsed_time: 41.27s\n",
      "256998 loss:0.67392"
     ]
    },
    {
     "name": "stderr",
     "output_type": "stream",
     "text": [
      "INFO:absl: \n",
      "\t\t NumberOfEpisodes = 4697\n",
      "\t\t EnvironmentSteps = 3322476\n",
      "\t\t AverageReturn = 594.0\n",
      "\t\t AverageEpisodeLength = 789.4000244140625\n"
     ]
    },
    {
     "name": "stdout",
     "output_type": "stream",
     "text": [
      "257000 loss:1.44994\n",
      "elapsed_time: 41.30s\n",
      "257995 loss:1.32190"
     ]
    },
    {
     "name": "stderr",
     "output_type": "stream",
     "text": [
      "INFO:absl: \n",
      "\t\t NumberOfEpisodes = 4701\n",
      "\t\t EnvironmentSteps = 3326476\n",
      "\t\t AverageReturn = 615.5\n",
      "\t\t AverageEpisodeLength = 933.7000122070312\n"
     ]
    },
    {
     "name": "stdout",
     "output_type": "stream",
     "text": [
      "258000 loss:1.24535\n",
      "elapsed_time: 41.17s\n",
      "258998 loss:0.81879"
     ]
    },
    {
     "name": "stderr",
     "output_type": "stream",
     "text": [
      "INFO:absl: \n",
      "\t\t NumberOfEpisodes = 4705\n",
      "\t\t EnvironmentSteps = 3330476\n",
      "\t\t AverageReturn = 627.5\n",
      "\t\t AverageEpisodeLength = 955.7999877929688\n"
     ]
    },
    {
     "name": "stdout",
     "output_type": "stream",
     "text": [
      "259000 loss:0.88666\n",
      "elapsed_time: 41.15s\n",
      "259998 loss:0.56715"
     ]
    },
    {
     "name": "stderr",
     "output_type": "stream",
     "text": [
      "INFO:absl: \n",
      "\t\t NumberOfEpisodes = 4708\n",
      "\t\t EnvironmentSteps = 3334476\n",
      "\t\t AverageReturn = 664.5\n",
      "\t\t AverageEpisodeLength = 1148.5\n"
     ]
    },
    {
     "name": "stdout",
     "output_type": "stream",
     "text": [
      "260000 loss:1.52937\n",
      "elapsed_time: 41.21s\n",
      "260998 loss:1.73124"
     ]
    },
    {
     "name": "stderr",
     "output_type": "stream",
     "text": [
      "INFO:absl: \n",
      "\t\t NumberOfEpisodes = 4711\n",
      "\t\t EnvironmentSteps = 3338476\n",
      "\t\t AverageReturn = 730.0\n",
      "\t\t AverageEpisodeLength = 1230.5\n"
     ]
    },
    {
     "name": "stdout",
     "output_type": "stream",
     "text": [
      "261000 loss:1.21878\n",
      "elapsed_time: 41.22s\n",
      "261996 loss:1.14123"
     ]
    },
    {
     "name": "stderr",
     "output_type": "stream",
     "text": [
      "INFO:absl: \n",
      "\t\t NumberOfEpisodes = 4716\n",
      "\t\t EnvironmentSteps = 3342476\n",
      "\t\t AverageReturn = 675.5\n",
      "\t\t AverageEpisodeLength = 1092.5\n"
     ]
    },
    {
     "name": "stdout",
     "output_type": "stream",
     "text": [
      "262000 loss:0.72234\n",
      "elapsed_time: 41.29s\n",
      "263000 loss:0.64728\n",
      "elapsed_time: 41.20s\n"
     ]
    },
    {
     "name": "stderr",
     "output_type": "stream",
     "text": [
      "INFO:absl: \n",
      "\t\t NumberOfEpisodes = 4718\n",
      "\t\t EnvironmentSteps = 3346476\n",
      "\t\t AverageReturn = 707.0\n",
      "\t\t AverageEpisodeLength = 1144.5999755859375\n"
     ]
    },
    {
     "name": "stdout",
     "output_type": "stream",
     "text": [
      "263999 loss:1.05514"
     ]
    },
    {
     "name": "stderr",
     "output_type": "stream",
     "text": [
      "INFO:absl: \n",
      "\t\t NumberOfEpisodes = 4722\n",
      "\t\t EnvironmentSteps = 3350476\n",
      "\t\t AverageReturn = 658.5\n",
      "\t\t AverageEpisodeLength = 1062.4000244140625\n"
     ]
    },
    {
     "name": "stdout",
     "output_type": "stream",
     "text": [
      "264000 loss:1.08229\n",
      "elapsed_time: 41.28s\n",
      "264995 loss:3.53169"
     ]
    },
    {
     "name": "stderr",
     "output_type": "stream",
     "text": [
      "INFO:absl: \n",
      "\t\t NumberOfEpisodes = 4727\n",
      "\t\t EnvironmentSteps = 3354476\n",
      "\t\t AverageReturn = 658.0\n",
      "\t\t AverageEpisodeLength = 969.9000244140625\n"
     ]
    },
    {
     "name": "stdout",
     "output_type": "stream",
     "text": [
      "265000 loss:1.22135\n",
      "elapsed_time: 41.29s\n",
      "265998 loss:0.95626"
     ]
    },
    {
     "name": "stderr",
     "output_type": "stream",
     "text": [
      "INFO:absl: \n",
      "\t\t NumberOfEpisodes = 4730\n",
      "\t\t EnvironmentSteps = 3358476\n",
      "\t\t AverageReturn = 646.5\n",
      "\t\t AverageEpisodeLength = 986.2000122070312\n"
     ]
    },
    {
     "name": "stdout",
     "output_type": "stream",
     "text": [
      "266000 loss:1.43330\n",
      "elapsed_time: 41.05s\n",
      "266997 loss:1.39619"
     ]
    },
    {
     "name": "stderr",
     "output_type": "stream",
     "text": [
      "INFO:absl: \n",
      "\t\t NumberOfEpisodes = 4734\n",
      "\t\t EnvironmentSteps = 3362476\n",
      "\t\t AverageReturn = 734.5\n",
      "\t\t AverageEpisodeLength = 1128.800048828125\n"
     ]
    },
    {
     "name": "stdout",
     "output_type": "stream",
     "text": [
      "267000 loss:1.55117\n",
      "elapsed_time: 41.23s\n",
      "267997 loss:1.26224"
     ]
    },
    {
     "name": "stderr",
     "output_type": "stream",
     "text": [
      "INFO:absl: \n",
      "\t\t NumberOfEpisodes = 4738\n",
      "\t\t EnvironmentSteps = 3366476\n",
      "\t\t AverageReturn = 726.5\n",
      "\t\t AverageEpisodeLength = 1130.800048828125\n"
     ]
    },
    {
     "name": "stdout",
     "output_type": "stream",
     "text": [
      "268000 loss:1.59299\n",
      "elapsed_time: 41.29s\n",
      "268995 loss:0.84308"
     ]
    },
    {
     "name": "stderr",
     "output_type": "stream",
     "text": [
      "INFO:absl: \n",
      "\t\t NumberOfEpisodes = 4743\n",
      "\t\t EnvironmentSteps = 3370476\n",
      "\t\t AverageReturn = 689.0\n",
      "\t\t AverageEpisodeLength = 939.2999877929688\n"
     ]
    },
    {
     "name": "stdout",
     "output_type": "stream",
     "text": [
      "269000 loss:1.02517\n",
      "elapsed_time: 41.30s\n",
      "269996 loss:0.59855"
     ]
    },
    {
     "name": "stderr",
     "output_type": "stream",
     "text": [
      "INFO:absl: \n",
      "\t\t NumberOfEpisodes = 4748\n",
      "\t\t EnvironmentSteps = 3374476\n",
      "\t\t AverageReturn = 624.5\n",
      "\t\t AverageEpisodeLength = 821.0\n"
     ]
    },
    {
     "name": "stdout",
     "output_type": "stream",
     "text": [
      "270000 loss:1.63482\n",
      "elapsed_time: 41.44s\n",
      "270998 loss:0.86202"
     ]
    },
    {
     "name": "stderr",
     "output_type": "stream",
     "text": [
      "INFO:absl: \n",
      "\t\t NumberOfEpisodes = 4751\n",
      "\t\t EnvironmentSteps = 3378476\n",
      "\t\t AverageReturn = 637.0\n",
      "\t\t AverageEpisodeLength = 882.2999877929688\n"
     ]
    },
    {
     "name": "stdout",
     "output_type": "stream",
     "text": [
      "271000 loss:1.18225\n",
      "elapsed_time: 41.25s\n",
      "271999 loss:1.59700"
     ]
    },
    {
     "name": "stderr",
     "output_type": "stream",
     "text": [
      "INFO:absl: \n",
      "\t\t NumberOfEpisodes = 4756\n",
      "\t\t EnvironmentSteps = 3382476\n",
      "\t\t AverageReturn = 689.5\n",
      "\t\t AverageEpisodeLength = 944.5999755859375\n"
     ]
    },
    {
     "name": "stdout",
     "output_type": "stream",
     "text": [
      "272000 loss:0.86028\n",
      "elapsed_time: 41.37s\n",
      "272999 loss:1.15430"
     ]
    },
    {
     "name": "stderr",
     "output_type": "stream",
     "text": [
      "INFO:absl: \n",
      "\t\t NumberOfEpisodes = 4760\n",
      "\t\t EnvironmentSteps = 3386476\n",
      "\t\t AverageReturn = 706.5\n",
      "\t\t AverageEpisodeLength = 928.2000122070312\n"
     ]
    },
    {
     "name": "stdout",
     "output_type": "stream",
     "text": [
      "273000 loss:4.13510\n",
      "elapsed_time: 41.20s\n",
      "273995 loss:1.34366"
     ]
    },
    {
     "name": "stderr",
     "output_type": "stream",
     "text": [
      "INFO:absl: \n",
      "\t\t NumberOfEpisodes = 4765\n",
      "\t\t EnvironmentSteps = 3390476\n",
      "\t\t AverageReturn = 638.5\n",
      "\t\t AverageEpisodeLength = 843.0999755859375\n"
     ]
    },
    {
     "name": "stdout",
     "output_type": "stream",
     "text": [
      "274000 loss:1.98832\n",
      "elapsed_time: 41.34s\n",
      "274997 loss:1.34859"
     ]
    },
    {
     "name": "stderr",
     "output_type": "stream",
     "text": [
      "INFO:absl: \n",
      "\t\t NumberOfEpisodes = 4770\n",
      "\t\t EnvironmentSteps = 3394476\n",
      "\t\t AverageReturn = 578.5\n",
      "\t\t AverageEpisodeLength = 808.7999877929688\n"
     ]
    },
    {
     "name": "stdout",
     "output_type": "stream",
     "text": [
      "275000 loss:1.00367\n",
      "elapsed_time: 41.27s\n",
      "275995 loss:1.19683"
     ]
    },
    {
     "name": "stderr",
     "output_type": "stream",
     "text": [
      "INFO:absl: \n",
      "\t\t NumberOfEpisodes = 4774\n",
      "\t\t EnvironmentSteps = 3398476\n",
      "\t\t AverageReturn = 583.0\n",
      "\t\t AverageEpisodeLength = 905.0\n"
     ]
    },
    {
     "name": "stdout",
     "output_type": "stream",
     "text": [
      "276000 loss:0.74299\n",
      "elapsed_time: 41.33s\n",
      "276997 loss:0.81160"
     ]
    },
    {
     "name": "stderr",
     "output_type": "stream",
     "text": [
      "INFO:absl: \n",
      "\t\t NumberOfEpisodes = 4778\n",
      "\t\t EnvironmentSteps = 3402476\n",
      "\t\t AverageReturn = 636.5\n",
      "\t\t AverageEpisodeLength = 967.7000122070312\n"
     ]
    },
    {
     "name": "stdout",
     "output_type": "stream",
     "text": [
      "277000 loss:0.67892\n",
      "elapsed_time: 41.29s\n",
      "277999 loss:1.06035"
     ]
    },
    {
     "name": "stderr",
     "output_type": "stream",
     "text": [
      "INFO:absl: \n",
      "\t\t NumberOfEpisodes = 4783\n",
      "\t\t EnvironmentSteps = 3406476\n",
      "\t\t AverageReturn = 678.5\n",
      "\t\t AverageEpisodeLength = 948.7999877929688\n"
     ]
    },
    {
     "name": "stdout",
     "output_type": "stream",
     "text": [
      "278000 loss:1.00076\n",
      "elapsed_time: 41.32s\n",
      "278998 loss:1.32851"
     ]
    },
    {
     "name": "stderr",
     "output_type": "stream",
     "text": [
      "INFO:absl: \n",
      "\t\t NumberOfEpisodes = 4787\n",
      "\t\t EnvironmentSteps = 3410476\n",
      "\t\t AverageReturn = 631.0\n",
      "\t\t AverageEpisodeLength = 884.2999877929688\n"
     ]
    },
    {
     "name": "stdout",
     "output_type": "stream",
     "text": [
      "279000 loss:0.80951\n",
      "elapsed_time: 41.20s\n",
      "279999 loss:1.20470"
     ]
    },
    {
     "name": "stderr",
     "output_type": "stream",
     "text": [
      "INFO:absl: \n",
      "\t\t NumberOfEpisodes = 4792\n",
      "\t\t EnvironmentSteps = 3414476\n",
      "\t\t AverageReturn = 636.5\n",
      "\t\t AverageEpisodeLength = 864.2999877929688\n"
     ]
    },
    {
     "name": "stdout",
     "output_type": "stream",
     "text": [
      "280000 loss:0.97472\n",
      "elapsed_time: 41.30s\n",
      "280997 loss:0.88917"
     ]
    },
    {
     "name": "stderr",
     "output_type": "stream",
     "text": [
      "INFO:absl: \n",
      "\t\t NumberOfEpisodes = 4797\n",
      "\t\t EnvironmentSteps = 3418476\n",
      "\t\t AverageReturn = 620.5\n",
      "\t\t AverageEpisodeLength = 843.7999877929688\n"
     ]
    },
    {
     "name": "stdout",
     "output_type": "stream",
     "text": [
      "281000 loss:1.05150\n",
      "elapsed_time: 41.28s\n",
      "281998 loss:2.27674"
     ]
    },
    {
     "name": "stderr",
     "output_type": "stream",
     "text": [
      "INFO:absl: \n",
      "\t\t NumberOfEpisodes = 4801\n",
      "\t\t EnvironmentSteps = 3422476\n",
      "\t\t AverageReturn = 658.5\n",
      "\t\t AverageEpisodeLength = 910.5\n"
     ]
    },
    {
     "name": "stdout",
     "output_type": "stream",
     "text": [
      "282000 loss:1.48542\n",
      "elapsed_time: 41.19s\n",
      "282999 loss:1.88622"
     ]
    },
    {
     "name": "stderr",
     "output_type": "stream",
     "text": [
      "INFO:absl: \n",
      "\t\t NumberOfEpisodes = 4806\n",
      "\t\t EnvironmentSteps = 3426476\n",
      "\t\t AverageReturn = 736.5\n",
      "\t\t AverageEpisodeLength = 921.2999877929688\n"
     ]
    },
    {
     "name": "stdout",
     "output_type": "stream",
     "text": [
      "283000 loss:0.87860\n",
      "elapsed_time: 41.31s\n",
      "283999 loss:0.77445"
     ]
    },
    {
     "name": "stderr",
     "output_type": "stream",
     "text": [
      "INFO:absl: \n",
      "\t\t NumberOfEpisodes = 4810\n",
      "\t\t EnvironmentSteps = 3430476\n",
      "\t\t AverageReturn = 731.0\n",
      "\t\t AverageEpisodeLength = 882.2999877929688\n"
     ]
    },
    {
     "name": "stdout",
     "output_type": "stream",
     "text": [
      "284000 loss:1.73117\n",
      "elapsed_time: 41.25s\n",
      "284999 loss:1.13592"
     ]
    },
    {
     "name": "stderr",
     "output_type": "stream",
     "text": [
      "INFO:absl: \n",
      "\t\t NumberOfEpisodes = 4816\n",
      "\t\t EnvironmentSteps = 3434476\n",
      "\t\t AverageReturn = 614.5\n",
      "\t\t AverageEpisodeLength = 821.5\n"
     ]
    },
    {
     "name": "stdout",
     "output_type": "stream",
     "text": [
      "285000 loss:1.88812\n",
      "elapsed_time: 41.35s\n",
      "285999 loss:0.88228"
     ]
    },
    {
     "name": "stderr",
     "output_type": "stream",
     "text": [
      "INFO:absl: \n",
      "\t\t NumberOfEpisodes = 4820\n",
      "\t\t EnvironmentSteps = 3438476\n",
      "\t\t AverageReturn = 610.5\n",
      "\t\t AverageEpisodeLength = 805.4000244140625\n"
     ]
    },
    {
     "name": "stdout",
     "output_type": "stream",
     "text": [
      "286000 loss:0.96123\n",
      "elapsed_time: 41.23s\n",
      "286998 loss:1.29738"
     ]
    },
    {
     "name": "stderr",
     "output_type": "stream",
     "text": [
      "INFO:absl: \n",
      "\t\t NumberOfEpisodes = 4825\n",
      "\t\t EnvironmentSteps = 3442476\n",
      "\t\t AverageReturn = 669.0\n",
      "\t\t AverageEpisodeLength = 900.5999755859375\n"
     ]
    },
    {
     "name": "stdout",
     "output_type": "stream",
     "text": [
      "287000 loss:0.64746\n",
      "elapsed_time: 41.23s\n",
      "287995 loss:1.05441"
     ]
    },
    {
     "name": "stderr",
     "output_type": "stream",
     "text": [
      "INFO:absl: \n",
      "\t\t NumberOfEpisodes = 4829\n",
      "\t\t EnvironmentSteps = 3446476\n",
      "\t\t AverageReturn = 660.5\n",
      "\t\t AverageEpisodeLength = 915.7000122070312\n"
     ]
    },
    {
     "name": "stdout",
     "output_type": "stream",
     "text": [
      "288000 loss:0.74338\n",
      "elapsed_time: 41.19s\n",
      "288995 loss:1.52986"
     ]
    },
    {
     "name": "stderr",
     "output_type": "stream",
     "text": [
      "INFO:absl: \n",
      "\t\t NumberOfEpisodes = 4834\n",
      "\t\t EnvironmentSteps = 3450476\n",
      "\t\t AverageReturn = 619.0\n",
      "\t\t AverageEpisodeLength = 840.2000122070312\n"
     ]
    },
    {
     "name": "stdout",
     "output_type": "stream",
     "text": [
      "289000 loss:1.36824\n",
      "elapsed_time: 41.30s\n",
      "289995 loss:0.91238"
     ]
    },
    {
     "name": "stderr",
     "output_type": "stream",
     "text": [
      "INFO:absl: \n",
      "\t\t NumberOfEpisodes = 4838\n",
      "\t\t EnvironmentSteps = 3454476\n",
      "\t\t AverageReturn = 644.5\n",
      "\t\t AverageEpisodeLength = 903.0\n"
     ]
    },
    {
     "name": "stdout",
     "output_type": "stream",
     "text": [
      "290000 loss:0.64989\n",
      "elapsed_time: 41.19s\n",
      "290997 loss:2.52934"
     ]
    },
    {
     "name": "stderr",
     "output_type": "stream",
     "text": [
      "INFO:absl: \n",
      "\t\t NumberOfEpisodes = 4844\n",
      "\t\t EnvironmentSteps = 3458476\n",
      "\t\t AverageReturn = 600.5\n",
      "\t\t AverageEpisodeLength = 822.7000122070312\n"
     ]
    },
    {
     "name": "stdout",
     "output_type": "stream",
     "text": [
      "291000 loss:0.77582\n",
      "elapsed_time: 41.34s\n",
      "291995 loss:0.96705"
     ]
    },
    {
     "name": "stderr",
     "output_type": "stream",
     "text": [
      "INFO:absl: \n",
      "\t\t NumberOfEpisodes = 4847\n",
      "\t\t EnvironmentSteps = 3462476\n",
      "\t\t AverageReturn = 637.5\n",
      "\t\t AverageEpisodeLength = 862.0\n"
     ]
    },
    {
     "name": "stdout",
     "output_type": "stream",
     "text": [
      "292000 loss:1.21294\n",
      "elapsed_time: 41.17s\n",
      "292999 loss:1.17827"
     ]
    },
    {
     "name": "stderr",
     "output_type": "stream",
     "text": [
      "INFO:absl: \n",
      "\t\t NumberOfEpisodes = 4851\n",
      "\t\t EnvironmentSteps = 3466476\n",
      "\t\t AverageReturn = 677.0\n",
      "\t\t AverageEpisodeLength = 937.4000244140625\n"
     ]
    },
    {
     "name": "stdout",
     "output_type": "stream",
     "text": [
      "293000 loss:1.03789\n",
      "elapsed_time: 41.09s\n",
      "293998 loss:1.13282"
     ]
    },
    {
     "name": "stderr",
     "output_type": "stream",
     "text": [
      "INFO:absl: \n",
      "\t\t NumberOfEpisodes = 4856\n",
      "\t\t EnvironmentSteps = 3470476\n",
      "\t\t AverageReturn = 744.0\n",
      "\t\t AverageEpisodeLength = 974.2999877929688\n"
     ]
    },
    {
     "name": "stdout",
     "output_type": "stream",
     "text": [
      "294000 loss:0.75997\n",
      "elapsed_time: 41.25s\n",
      "294999 loss:1.24346"
     ]
    },
    {
     "name": "stderr",
     "output_type": "stream",
     "text": [
      "INFO:absl: \n",
      "\t\t NumberOfEpisodes = 4860\n",
      "\t\t EnvironmentSteps = 3474476\n",
      "\t\t AverageReturn = 650.0\n",
      "\t\t AverageEpisodeLength = 849.7999877929688\n"
     ]
    },
    {
     "name": "stdout",
     "output_type": "stream",
     "text": [
      "295000 loss:0.76974\n",
      "elapsed_time: 41.20s\n",
      "295995 loss:0.98455"
     ]
    },
    {
     "name": "stderr",
     "output_type": "stream",
     "text": [
      "INFO:absl: \n",
      "\t\t NumberOfEpisodes = 4864\n",
      "\t\t EnvironmentSteps = 3478476\n",
      "\t\t AverageReturn = 658.0\n",
      "\t\t AverageEpisodeLength = 891.2000122070312\n"
     ]
    },
    {
     "name": "stdout",
     "output_type": "stream",
     "text": [
      "296000 loss:0.78481\n",
      "elapsed_time: 41.21s\n",
      "296998 loss:0.78517"
     ]
    },
    {
     "name": "stderr",
     "output_type": "stream",
     "text": [
      "INFO:absl: \n",
      "\t\t NumberOfEpisodes = 4868\n",
      "\t\t EnvironmentSteps = 3482476\n",
      "\t\t AverageReturn = 689.5\n",
      "\t\t AverageEpisodeLength = 1038.800048828125\n"
     ]
    },
    {
     "name": "stdout",
     "output_type": "stream",
     "text": [
      "297000 loss:2.41095\n",
      "elapsed_time: 41.28s\n",
      "297995 loss:3.44878"
     ]
    },
    {
     "name": "stderr",
     "output_type": "stream",
     "text": [
      "INFO:absl: \n",
      "\t\t NumberOfEpisodes = 4873\n",
      "\t\t EnvironmentSteps = 3486476\n",
      "\t\t AverageReturn = 580.0\n",
      "\t\t AverageEpisodeLength = 920.4000244140625\n"
     ]
    },
    {
     "name": "stdout",
     "output_type": "stream",
     "text": [
      "298000 loss:1.04052\n",
      "elapsed_time: 41.76s\n",
      "298999 loss:0.71046"
     ]
    },
    {
     "name": "stderr",
     "output_type": "stream",
     "text": [
      "INFO:absl: \n",
      "\t\t NumberOfEpisodes = 4877\n",
      "\t\t EnvironmentSteps = 3490476\n",
      "\t\t AverageReturn = 563.5\n",
      "\t\t AverageEpisodeLength = 826.2999877929688\n"
     ]
    },
    {
     "name": "stdout",
     "output_type": "stream",
     "text": [
      "299000 loss:1.45014\n",
      "elapsed_time: 40.76s\n",
      "299996 loss:2.37216"
     ]
    },
    {
     "name": "stderr",
     "output_type": "stream",
     "text": [
      "INFO:absl: \n",
      "\t\t NumberOfEpisodes = 4882\n",
      "\t\t EnvironmentSteps = 3494476\n",
      "\t\t AverageReturn = 611.0\n",
      "\t\t AverageEpisodeLength = 845.2999877929688\n"
     ]
    },
    {
     "name": "stdout",
     "output_type": "stream",
     "text": [
      "300000 loss:0.94469\n",
      "elapsed_time: 41.35s\n",
      "300995 loss:0.79533"
     ]
    },
    {
     "name": "stderr",
     "output_type": "stream",
     "text": [
      "INFO:absl: \n",
      "\t\t NumberOfEpisodes = 4886\n",
      "\t\t EnvironmentSteps = 3498476\n",
      "\t\t AverageReturn = 688.0\n",
      "\t\t AverageEpisodeLength = 940.9000244140625\n"
     ]
    },
    {
     "name": "stdout",
     "output_type": "stream",
     "text": [
      "301000 loss:1.26324\n",
      "elapsed_time: 41.32s\n",
      "301997 loss:1.08453"
     ]
    },
    {
     "name": "stderr",
     "output_type": "stream",
     "text": [
      "INFO:absl: \n",
      "\t\t NumberOfEpisodes = 4889\n",
      "\t\t EnvironmentSteps = 3502476\n",
      "\t\t AverageReturn = 738.0\n",
      "\t\t AverageEpisodeLength = 981.7999877929688\n"
     ]
    },
    {
     "name": "stdout",
     "output_type": "stream",
     "text": [
      "302000 loss:0.90183\n",
      "elapsed_time: 41.51s\n",
      "302995 loss:1.35207"
     ]
    },
    {
     "name": "stderr",
     "output_type": "stream",
     "text": [
      "INFO:absl: \n",
      "\t\t NumberOfEpisodes = 4894\n",
      "\t\t EnvironmentSteps = 3506476\n",
      "\t\t AverageReturn = 717.5\n",
      "\t\t AverageEpisodeLength = 966.9000244140625\n"
     ]
    },
    {
     "name": "stdout",
     "output_type": "stream",
     "text": [
      "303000 loss:3.63234\n",
      "elapsed_time: 41.24s\n",
      "303998 loss:1.17785"
     ]
    },
    {
     "name": "stderr",
     "output_type": "stream",
     "text": [
      "INFO:absl: \n",
      "\t\t NumberOfEpisodes = 4899\n",
      "\t\t EnvironmentSteps = 3510476\n",
      "\t\t AverageReturn = 585.5\n",
      "\t\t AverageEpisodeLength = 829.7000122070312\n"
     ]
    },
    {
     "name": "stdout",
     "output_type": "stream",
     "text": [
      "304000 loss:0.79634\n",
      "elapsed_time: 42.03s\n",
      "304452 loss:0.80791"
     ]
    },
    {
     "ename": "KeyboardInterrupt",
     "evalue": "",
     "output_type": "error",
     "traceback": [
      "\u001b[0;31m---------------------------------------------------------------------------\u001b[0m",
      "\u001b[0;31mKeyboardInterrupt\u001b[0m                         Traceback (most recent call last)",
      "Input \u001b[0;32mIn [35]\u001b[0m, in \u001b[0;36m<cell line: 2>\u001b[0;34m()\u001b[0m\n\u001b[1;32m      1\u001b[0m \u001b[38;5;66;03m### doing this trains the algorism\u001b[39;00m\n\u001b[0;32m----> 2\u001b[0m \u001b[43mtrain_agent\u001b[49m\u001b[43m(\u001b[49m\u001b[38;5;241;43m500000\u001b[39;49m\u001b[43m)\u001b[49m\n",
      "Input \u001b[0;32mIn [28]\u001b[0m, in \u001b[0;36mtrain_agent\u001b[0;34m(n_iterations)\u001b[0m\n\u001b[1;32m     10\u001b[0m time_step, policy_state \u001b[38;5;241m=\u001b[39m collect_driver\u001b[38;5;241m.\u001b[39mrun(time_step, policy_state) \u001b[38;5;66;03m# 탐색 \u001b[39;00m\n\u001b[1;32m     11\u001b[0m trajectories, buffer_info \u001b[38;5;241m=\u001b[39m \u001b[38;5;28mnext\u001b[39m(iterator) \u001b[38;5;66;03m# 가져옴\u001b[39;00m\n\u001b[0;32m---> 12\u001b[0m train_loss \u001b[38;5;241m=\u001b[39m \u001b[43magent\u001b[49m\u001b[38;5;241;43m.\u001b[39;49m\u001b[43mtrain\u001b[49m\u001b[43m(\u001b[49m\u001b[43mtrajectories\u001b[49m\u001b[43m)\u001b[49m \u001b[38;5;66;03m# 훈련\u001b[39;00m\n\u001b[1;32m     13\u001b[0m \u001b[38;5;28mprint\u001b[39m(\u001b[38;5;124m\"\u001b[39m\u001b[38;5;130;01m\\r\u001b[39;00m\u001b[38;5;132;01m{}\u001b[39;00m\u001b[38;5;124m loss:\u001b[39m\u001b[38;5;132;01m{:.5f}\u001b[39;00m\u001b[38;5;124m\"\u001b[39m\u001b[38;5;241m.\u001b[39mformat( iteration, train_loss\u001b[38;5;241m.\u001b[39mloss\u001b[38;5;241m.\u001b[39mnumpy()), end\u001b[38;5;241m=\u001b[39m\u001b[38;5;124m\"\u001b[39m\u001b[38;5;124m\"\u001b[39m)\n\u001b[1;32m     15\u001b[0m \u001b[38;5;28;01mif\u001b[39;00m iteration \u001b[38;5;241m%\u001b[39m \u001b[38;5;241m1000\u001b[39m \u001b[38;5;241m==\u001b[39m \u001b[38;5;241m0\u001b[39m:\n",
      "File \u001b[0;32m~/.local/lib/python3.10/site-packages/tensorflow/python/util/traceback_utils.py:150\u001b[0m, in \u001b[0;36mfilter_traceback.<locals>.error_handler\u001b[0;34m(*args, **kwargs)\u001b[0m\n\u001b[1;32m    148\u001b[0m filtered_tb \u001b[38;5;241m=\u001b[39m \u001b[38;5;28;01mNone\u001b[39;00m\n\u001b[1;32m    149\u001b[0m \u001b[38;5;28;01mtry\u001b[39;00m:\n\u001b[0;32m--> 150\u001b[0m   \u001b[38;5;28;01mreturn\u001b[39;00m \u001b[43mfn\u001b[49m\u001b[43m(\u001b[49m\u001b[38;5;241;43m*\u001b[39;49m\u001b[43margs\u001b[49m\u001b[43m,\u001b[49m\u001b[43m \u001b[49m\u001b[38;5;241;43m*\u001b[39;49m\u001b[38;5;241;43m*\u001b[39;49m\u001b[43mkwargs\u001b[49m\u001b[43m)\u001b[49m\n\u001b[1;32m    151\u001b[0m \u001b[38;5;28;01mexcept\u001b[39;00m \u001b[38;5;167;01mException\u001b[39;00m \u001b[38;5;28;01mas\u001b[39;00m e:\n\u001b[1;32m    152\u001b[0m   filtered_tb \u001b[38;5;241m=\u001b[39m _process_traceback_frames(e\u001b[38;5;241m.\u001b[39m__traceback__)\n",
      "File \u001b[0;32m~/.local/lib/python3.10/site-packages/tensorflow/python/eager/def_function.py:915\u001b[0m, in \u001b[0;36mFunction.__call__\u001b[0;34m(self, *args, **kwds)\u001b[0m\n\u001b[1;32m    912\u001b[0m compiler \u001b[38;5;241m=\u001b[39m \u001b[38;5;124m\"\u001b[39m\u001b[38;5;124mxla\u001b[39m\u001b[38;5;124m\"\u001b[39m \u001b[38;5;28;01mif\u001b[39;00m \u001b[38;5;28mself\u001b[39m\u001b[38;5;241m.\u001b[39m_jit_compile \u001b[38;5;28;01melse\u001b[39;00m \u001b[38;5;124m\"\u001b[39m\u001b[38;5;124mnonXla\u001b[39m\u001b[38;5;124m\"\u001b[39m\n\u001b[1;32m    914\u001b[0m \u001b[38;5;28;01mwith\u001b[39;00m OptionalXlaContext(\u001b[38;5;28mself\u001b[39m\u001b[38;5;241m.\u001b[39m_jit_compile):\n\u001b[0;32m--> 915\u001b[0m   result \u001b[38;5;241m=\u001b[39m \u001b[38;5;28;43mself\u001b[39;49m\u001b[38;5;241;43m.\u001b[39;49m\u001b[43m_call\u001b[49m\u001b[43m(\u001b[49m\u001b[38;5;241;43m*\u001b[39;49m\u001b[43margs\u001b[49m\u001b[43m,\u001b[49m\u001b[43m \u001b[49m\u001b[38;5;241;43m*\u001b[39;49m\u001b[38;5;241;43m*\u001b[39;49m\u001b[43mkwds\u001b[49m\u001b[43m)\u001b[49m\n\u001b[1;32m    917\u001b[0m new_tracing_count \u001b[38;5;241m=\u001b[39m \u001b[38;5;28mself\u001b[39m\u001b[38;5;241m.\u001b[39mexperimental_get_tracing_count()\n\u001b[1;32m    918\u001b[0m without_tracing \u001b[38;5;241m=\u001b[39m (tracing_count \u001b[38;5;241m==\u001b[39m new_tracing_count)\n",
      "File \u001b[0;32m~/.local/lib/python3.10/site-packages/tensorflow/python/eager/def_function.py:947\u001b[0m, in \u001b[0;36mFunction._call\u001b[0;34m(self, *args, **kwds)\u001b[0m\n\u001b[1;32m    944\u001b[0m   \u001b[38;5;28mself\u001b[39m\u001b[38;5;241m.\u001b[39m_lock\u001b[38;5;241m.\u001b[39mrelease()\n\u001b[1;32m    945\u001b[0m   \u001b[38;5;66;03m# In this case we have created variables on the first call, so we run the\u001b[39;00m\n\u001b[1;32m    946\u001b[0m   \u001b[38;5;66;03m# defunned version which is guaranteed to never create variables.\u001b[39;00m\n\u001b[0;32m--> 947\u001b[0m   \u001b[38;5;28;01mreturn\u001b[39;00m \u001b[38;5;28;43mself\u001b[39;49m\u001b[38;5;241;43m.\u001b[39;49m\u001b[43m_stateless_fn\u001b[49m\u001b[43m(\u001b[49m\u001b[38;5;241;43m*\u001b[39;49m\u001b[43margs\u001b[49m\u001b[43m,\u001b[49m\u001b[43m \u001b[49m\u001b[38;5;241;43m*\u001b[39;49m\u001b[38;5;241;43m*\u001b[39;49m\u001b[43mkwds\u001b[49m\u001b[43m)\u001b[49m  \u001b[38;5;66;03m# pylint: disable=not-callable\u001b[39;00m\n\u001b[1;32m    948\u001b[0m \u001b[38;5;28;01melif\u001b[39;00m \u001b[38;5;28mself\u001b[39m\u001b[38;5;241m.\u001b[39m_stateful_fn \u001b[38;5;129;01mis\u001b[39;00m \u001b[38;5;129;01mnot\u001b[39;00m \u001b[38;5;28;01mNone\u001b[39;00m:\n\u001b[1;32m    949\u001b[0m   \u001b[38;5;66;03m# Release the lock early so that multiple threads can perform the call\u001b[39;00m\n\u001b[1;32m    950\u001b[0m   \u001b[38;5;66;03m# in parallel.\u001b[39;00m\n\u001b[1;32m    951\u001b[0m   \u001b[38;5;28mself\u001b[39m\u001b[38;5;241m.\u001b[39m_lock\u001b[38;5;241m.\u001b[39mrelease()\n",
      "File \u001b[0;32m~/.local/lib/python3.10/site-packages/tensorflow/python/eager/function.py:2956\u001b[0m, in \u001b[0;36mFunction.__call__\u001b[0;34m(self, *args, **kwargs)\u001b[0m\n\u001b[1;32m   2953\u001b[0m \u001b[38;5;28;01mwith\u001b[39;00m \u001b[38;5;28mself\u001b[39m\u001b[38;5;241m.\u001b[39m_lock:\n\u001b[1;32m   2954\u001b[0m   (graph_function,\n\u001b[1;32m   2955\u001b[0m    filtered_flat_args) \u001b[38;5;241m=\u001b[39m \u001b[38;5;28mself\u001b[39m\u001b[38;5;241m.\u001b[39m_maybe_define_function(args, kwargs)\n\u001b[0;32m-> 2956\u001b[0m \u001b[38;5;28;01mreturn\u001b[39;00m \u001b[43mgraph_function\u001b[49m\u001b[38;5;241;43m.\u001b[39;49m\u001b[43m_call_flat\u001b[49m\u001b[43m(\u001b[49m\n\u001b[1;32m   2957\u001b[0m \u001b[43m    \u001b[49m\u001b[43mfiltered_flat_args\u001b[49m\u001b[43m,\u001b[49m\u001b[43m \u001b[49m\u001b[43mcaptured_inputs\u001b[49m\u001b[38;5;241;43m=\u001b[39;49m\u001b[43mgraph_function\u001b[49m\u001b[38;5;241;43m.\u001b[39;49m\u001b[43mcaptured_inputs\u001b[49m\u001b[43m)\u001b[49m\n",
      "File \u001b[0;32m~/.local/lib/python3.10/site-packages/tensorflow/python/eager/function.py:1853\u001b[0m, in \u001b[0;36mConcreteFunction._call_flat\u001b[0;34m(self, args, captured_inputs, cancellation_manager)\u001b[0m\n\u001b[1;32m   1849\u001b[0m possible_gradient_type \u001b[38;5;241m=\u001b[39m gradients_util\u001b[38;5;241m.\u001b[39mPossibleTapeGradientTypes(args)\n\u001b[1;32m   1850\u001b[0m \u001b[38;5;28;01mif\u001b[39;00m (possible_gradient_type \u001b[38;5;241m==\u001b[39m gradients_util\u001b[38;5;241m.\u001b[39mPOSSIBLE_GRADIENT_TYPES_NONE\n\u001b[1;32m   1851\u001b[0m     \u001b[38;5;129;01mand\u001b[39;00m executing_eagerly):\n\u001b[1;32m   1852\u001b[0m   \u001b[38;5;66;03m# No tape is watching; skip to running the function.\u001b[39;00m\n\u001b[0;32m-> 1853\u001b[0m   \u001b[38;5;28;01mreturn\u001b[39;00m \u001b[38;5;28mself\u001b[39m\u001b[38;5;241m.\u001b[39m_build_call_outputs(\u001b[38;5;28;43mself\u001b[39;49m\u001b[38;5;241;43m.\u001b[39;49m\u001b[43m_inference_function\u001b[49m\u001b[38;5;241;43m.\u001b[39;49m\u001b[43mcall\u001b[49m\u001b[43m(\u001b[49m\n\u001b[1;32m   1854\u001b[0m \u001b[43m      \u001b[49m\u001b[43mctx\u001b[49m\u001b[43m,\u001b[49m\u001b[43m \u001b[49m\u001b[43margs\u001b[49m\u001b[43m,\u001b[49m\u001b[43m \u001b[49m\u001b[43mcancellation_manager\u001b[49m\u001b[38;5;241;43m=\u001b[39;49m\u001b[43mcancellation_manager\u001b[49m\u001b[43m)\u001b[49m)\n\u001b[1;32m   1855\u001b[0m forward_backward \u001b[38;5;241m=\u001b[39m \u001b[38;5;28mself\u001b[39m\u001b[38;5;241m.\u001b[39m_select_forward_and_backward_functions(\n\u001b[1;32m   1856\u001b[0m     args,\n\u001b[1;32m   1857\u001b[0m     possible_gradient_type,\n\u001b[1;32m   1858\u001b[0m     executing_eagerly)\n\u001b[1;32m   1859\u001b[0m forward_function, args_with_tangents \u001b[38;5;241m=\u001b[39m forward_backward\u001b[38;5;241m.\u001b[39mforward()\n",
      "File \u001b[0;32m~/.local/lib/python3.10/site-packages/tensorflow/python/eager/function.py:499\u001b[0m, in \u001b[0;36m_EagerDefinedFunction.call\u001b[0;34m(self, ctx, args, cancellation_manager)\u001b[0m\n\u001b[1;32m    497\u001b[0m \u001b[38;5;28;01mwith\u001b[39;00m _InterpolateFunctionError(\u001b[38;5;28mself\u001b[39m):\n\u001b[1;32m    498\u001b[0m   \u001b[38;5;28;01mif\u001b[39;00m cancellation_manager \u001b[38;5;129;01mis\u001b[39;00m \u001b[38;5;28;01mNone\u001b[39;00m:\n\u001b[0;32m--> 499\u001b[0m     outputs \u001b[38;5;241m=\u001b[39m \u001b[43mexecute\u001b[49m\u001b[38;5;241;43m.\u001b[39;49m\u001b[43mexecute\u001b[49m\u001b[43m(\u001b[49m\n\u001b[1;32m    500\u001b[0m \u001b[43m        \u001b[49m\u001b[38;5;28;43mstr\u001b[39;49m\u001b[43m(\u001b[49m\u001b[38;5;28;43mself\u001b[39;49m\u001b[38;5;241;43m.\u001b[39;49m\u001b[43msignature\u001b[49m\u001b[38;5;241;43m.\u001b[39;49m\u001b[43mname\u001b[49m\u001b[43m)\u001b[49m\u001b[43m,\u001b[49m\n\u001b[1;32m    501\u001b[0m \u001b[43m        \u001b[49m\u001b[43mnum_outputs\u001b[49m\u001b[38;5;241;43m=\u001b[39;49m\u001b[38;5;28;43mself\u001b[39;49m\u001b[38;5;241;43m.\u001b[39;49m\u001b[43m_num_outputs\u001b[49m\u001b[43m,\u001b[49m\n\u001b[1;32m    502\u001b[0m \u001b[43m        \u001b[49m\u001b[43minputs\u001b[49m\u001b[38;5;241;43m=\u001b[39;49m\u001b[43margs\u001b[49m\u001b[43m,\u001b[49m\n\u001b[1;32m    503\u001b[0m \u001b[43m        \u001b[49m\u001b[43mattrs\u001b[49m\u001b[38;5;241;43m=\u001b[39;49m\u001b[43mattrs\u001b[49m\u001b[43m,\u001b[49m\n\u001b[1;32m    504\u001b[0m \u001b[43m        \u001b[49m\u001b[43mctx\u001b[49m\u001b[38;5;241;43m=\u001b[39;49m\u001b[43mctx\u001b[49m\u001b[43m)\u001b[49m\n\u001b[1;32m    505\u001b[0m   \u001b[38;5;28;01melse\u001b[39;00m:\n\u001b[1;32m    506\u001b[0m     outputs \u001b[38;5;241m=\u001b[39m execute\u001b[38;5;241m.\u001b[39mexecute_with_cancellation(\n\u001b[1;32m    507\u001b[0m         \u001b[38;5;28mstr\u001b[39m(\u001b[38;5;28mself\u001b[39m\u001b[38;5;241m.\u001b[39msignature\u001b[38;5;241m.\u001b[39mname),\n\u001b[1;32m    508\u001b[0m         num_outputs\u001b[38;5;241m=\u001b[39m\u001b[38;5;28mself\u001b[39m\u001b[38;5;241m.\u001b[39m_num_outputs,\n\u001b[0;32m   (...)\u001b[0m\n\u001b[1;32m    511\u001b[0m         ctx\u001b[38;5;241m=\u001b[39mctx,\n\u001b[1;32m    512\u001b[0m         cancellation_manager\u001b[38;5;241m=\u001b[39mcancellation_manager)\n",
      "File \u001b[0;32m~/.local/lib/python3.10/site-packages/tensorflow/python/eager/execute.py:54\u001b[0m, in \u001b[0;36mquick_execute\u001b[0;34m(op_name, num_outputs, inputs, attrs, ctx, name)\u001b[0m\n\u001b[1;32m     52\u001b[0m \u001b[38;5;28;01mtry\u001b[39;00m:\n\u001b[1;32m     53\u001b[0m   ctx\u001b[38;5;241m.\u001b[39mensure_initialized()\n\u001b[0;32m---> 54\u001b[0m   tensors \u001b[38;5;241m=\u001b[39m \u001b[43mpywrap_tfe\u001b[49m\u001b[38;5;241;43m.\u001b[39;49m\u001b[43mTFE_Py_Execute\u001b[49m\u001b[43m(\u001b[49m\u001b[43mctx\u001b[49m\u001b[38;5;241;43m.\u001b[39;49m\u001b[43m_handle\u001b[49m\u001b[43m,\u001b[49m\u001b[43m \u001b[49m\u001b[43mdevice_name\u001b[49m\u001b[43m,\u001b[49m\u001b[43m \u001b[49m\u001b[43mop_name\u001b[49m\u001b[43m,\u001b[49m\n\u001b[1;32m     55\u001b[0m \u001b[43m                                      \u001b[49m\u001b[43minputs\u001b[49m\u001b[43m,\u001b[49m\u001b[43m \u001b[49m\u001b[43mattrs\u001b[49m\u001b[43m,\u001b[49m\u001b[43m \u001b[49m\u001b[43mnum_outputs\u001b[49m\u001b[43m)\u001b[49m\n\u001b[1;32m     56\u001b[0m \u001b[38;5;28;01mexcept\u001b[39;00m core\u001b[38;5;241m.\u001b[39m_NotOkStatusException \u001b[38;5;28;01mas\u001b[39;00m e:\n\u001b[1;32m     57\u001b[0m   \u001b[38;5;28;01mif\u001b[39;00m name \u001b[38;5;129;01mis\u001b[39;00m \u001b[38;5;129;01mnot\u001b[39;00m \u001b[38;5;28;01mNone\u001b[39;00m:\n",
      "\u001b[0;31mKeyboardInterrupt\u001b[0m: "
     ]
    }
   ],
   "source": [
    "### doing this trains the algorism\n",
    "train_agent(500000)"
   ]
  },
  {
   "cell_type": "code",
   "execution_count": 42,
   "id": "5e9d07c0",
   "metadata": {},
   "outputs": [],
   "source": [
    "frames = []\n",
    "def save_frames(trajectory):\n",
    "    global frames\n",
    "    frames.append(tf_env.pyenv.envs[0].render(mode=\"rgb_array\")) # envs[0] calls the first of the stacked ones?\n",
    "\n",
    "watch_driver = DynamicStepDriver(\n",
    "    tf_env,\n",
    "    agent.policy, # just use agent's policy -> no probalistic method\n",
    "    observers=[save_frames], # every trajectory goes here\n",
    "    num_steps=1500 # collect for 1000 frames\n",
    ") #running this \n",
    "final_time_step, final_policy_state = watch_driver.run() "
   ]
  },
  {
   "cell_type": "code",
   "execution_count": 43,
   "id": "a98869fd",
   "metadata": {},
   "outputs": [],
   "source": [
    "import PIL\n",
    "\n",
    "image_path = os.path.join(\"images\", \"SpaceInvader.gif\")\n",
    "frame_images = [PIL.Image.fromarray(frame) for frame in frames[0:1500]]\n",
    "frame_images[0].save(image_path, format='GIF',\n",
    "                     append_images=frame_images[1:],\n",
    "                     save_all=True,\n",
    "                     duration=20,\n",
    "                     loop=0)"
   ]
  },
  {
   "cell_type": "code",
   "execution_count": 44,
   "id": "50bbe823",
   "metadata": {},
   "outputs": [
    {
     "data": {
      "text/html": [
       "<img src=\"images/SpaceInvader.gif\" />\n"
      ],
      "text/plain": [
       "<IPython.core.display.HTML object>"
      ]
     },
     "metadata": {},
     "output_type": "display_data"
    }
   ],
   "source": [
    "%%html\n",
    "<img src=\"images/SpaceInvader.gif\" />"
   ]
  },
  {
   "cell_type": "markdown",
   "id": "8d6f13d3",
   "metadata": {},
   "source": [
    "## "
   ]
  }
 ],
 "metadata": {
  "kernelspec": {
   "display_name": "Python [conda env:HOML]",
   "language": "python",
   "name": "conda-env-HOML-py"
  },
  "language_info": {
   "codemirror_mode": {
    "name": "ipython",
    "version": 3
   },
   "file_extension": ".py",
   "mimetype": "text/x-python",
   "name": "python",
   "nbconvert_exporter": "python",
   "pygments_lexer": "ipython3",
   "version": "3.10.3"
  }
 },
 "nbformat": 4,
 "nbformat_minor": 5
}
