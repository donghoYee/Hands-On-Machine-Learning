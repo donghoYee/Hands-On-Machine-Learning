{
 "cells": [
  {
   "cell_type": "code",
   "execution_count": 1,
   "id": "8583a707",
   "metadata": {},
   "outputs": [],
   "source": [
    "import os\n",
    "os.environ['CUDA_VISIBLE_DEVICES'] = '-1'\n",
    "\n",
    "import tensorflow as tf\n",
    "from tensorflow import keras\n",
    "import numpy as np\n",
    "import matplotlib.pyplot as plt"
   ]
  },
  {
   "cell_type": "code",
   "execution_count": 2,
   "id": "463a7ff5",
   "metadata": {},
   "outputs": [],
   "source": [
    "from tf_agents.environments import suite_gym\n",
    "env = suite_gym.load(\"Breakout-v4\")"
   ]
  },
  {
   "cell_type": "code",
   "execution_count": 3,
   "id": "c9f04735",
   "metadata": {},
   "outputs": [
    {
     "data": {
      "text/plain": [
       "<tf_agents.environments.wrappers.TimeLimit at 0x7ff8f802a770>"
      ]
     },
     "execution_count": 3,
     "metadata": {},
     "output_type": "execute_result"
    }
   ],
   "source": [
    "env"
   ]
  },
  {
   "cell_type": "code",
   "execution_count": 4,
   "id": "d769f30e",
   "metadata": {},
   "outputs": [
    {
     "data": {
      "text/plain": [
       "<gym.envs.atari.atari_env.AtariEnv at 0x7ff99c3e1de0>"
      ]
     },
     "execution_count": 4,
     "metadata": {},
     "output_type": "execute_result"
    }
   ],
   "source": [
    "env.gym"
   ]
  },
  {
   "cell_type": "code",
   "execution_count": 5,
   "id": "64a25dd2",
   "metadata": {
    "scrolled": true
   },
   "outputs": [
    {
     "data": {
      "text/plain": [
       "TimeStep(\n",
       "{'discount': array(1., dtype=float32),\n",
       " 'observation': array([[[0, 0, 0],\n",
       "        [0, 0, 0],\n",
       "        [0, 0, 0],\n",
       "        ...,\n",
       "        [0, 0, 0],\n",
       "        [0, 0, 0],\n",
       "        [0, 0, 0]],\n",
       "\n",
       "       [[0, 0, 0],\n",
       "        [0, 0, 0],\n",
       "        [0, 0, 0],\n",
       "        ...,\n",
       "        [0, 0, 0],\n",
       "        [0, 0, 0],\n",
       "        [0, 0, 0]],\n",
       "\n",
       "       [[0, 0, 0],\n",
       "        [0, 0, 0],\n",
       "        [0, 0, 0],\n",
       "        ...,\n",
       "        [0, 0, 0],\n",
       "        [0, 0, 0],\n",
       "        [0, 0, 0]],\n",
       "\n",
       "       ...,\n",
       "\n",
       "       [[0, 0, 0],\n",
       "        [0, 0, 0],\n",
       "        [0, 0, 0],\n",
       "        ...,\n",
       "        [0, 0, 0],\n",
       "        [0, 0, 0],\n",
       "        [0, 0, 0]],\n",
       "\n",
       "       [[0, 0, 0],\n",
       "        [0, 0, 0],\n",
       "        [0, 0, 0],\n",
       "        ...,\n",
       "        [0, 0, 0],\n",
       "        [0, 0, 0],\n",
       "        [0, 0, 0]],\n",
       "\n",
       "       [[0, 0, 0],\n",
       "        [0, 0, 0],\n",
       "        [0, 0, 0],\n",
       "        ...,\n",
       "        [0, 0, 0],\n",
       "        [0, 0, 0],\n",
       "        [0, 0, 0]]], dtype=uint8),\n",
       " 'reward': array(0., dtype=float32),\n",
       " 'step_type': array(0, dtype=int32)})"
      ]
     },
     "execution_count": 5,
     "metadata": {},
     "output_type": "execute_result"
    }
   ],
   "source": [
    "env.reset()"
   ]
  },
  {
   "cell_type": "code",
   "execution_count": 6,
   "id": "757fd4c9",
   "metadata": {
    "scrolled": true
   },
   "outputs": [
    {
     "data": {
      "text/plain": [
       "TimeStep(\n",
       "{'discount': array(1., dtype=float32),\n",
       " 'observation': array([[[0, 0, 0],\n",
       "        [0, 0, 0],\n",
       "        [0, 0, 0],\n",
       "        ...,\n",
       "        [0, 0, 0],\n",
       "        [0, 0, 0],\n",
       "        [0, 0, 0]],\n",
       "\n",
       "       [[0, 0, 0],\n",
       "        [0, 0, 0],\n",
       "        [0, 0, 0],\n",
       "        ...,\n",
       "        [0, 0, 0],\n",
       "        [0, 0, 0],\n",
       "        [0, 0, 0]],\n",
       "\n",
       "       [[0, 0, 0],\n",
       "        [0, 0, 0],\n",
       "        [0, 0, 0],\n",
       "        ...,\n",
       "        [0, 0, 0],\n",
       "        [0, 0, 0],\n",
       "        [0, 0, 0]],\n",
       "\n",
       "       ...,\n",
       "\n",
       "       [[0, 0, 0],\n",
       "        [0, 0, 0],\n",
       "        [0, 0, 0],\n",
       "        ...,\n",
       "        [0, 0, 0],\n",
       "        [0, 0, 0],\n",
       "        [0, 0, 0]],\n",
       "\n",
       "       [[0, 0, 0],\n",
       "        [0, 0, 0],\n",
       "        [0, 0, 0],\n",
       "        ...,\n",
       "        [0, 0, 0],\n",
       "        [0, 0, 0],\n",
       "        [0, 0, 0]],\n",
       "\n",
       "       [[0, 0, 0],\n",
       "        [0, 0, 0],\n",
       "        [0, 0, 0],\n",
       "        ...,\n",
       "        [0, 0, 0],\n",
       "        [0, 0, 0],\n",
       "        [0, 0, 0]]], dtype=uint8),\n",
       " 'reward': array(0., dtype=float32),\n",
       " 'step_type': array(1, dtype=int32)})"
      ]
     },
     "execution_count": 6,
     "metadata": {},
     "output_type": "execute_result"
    }
   ],
   "source": [
    "env.step(1)"
   ]
  },
  {
   "cell_type": "code",
   "execution_count": 7,
   "id": "0790ccf1",
   "metadata": {},
   "outputs": [
    {
     "data": {
      "text/plain": [
       "BoundedArraySpec(shape=(210, 160, 3), dtype=dtype('uint8'), name='observation', minimum=0, maximum=255)"
      ]
     },
     "execution_count": 7,
     "metadata": {},
     "output_type": "execute_result"
    }
   ],
   "source": [
    "env.observation_spec()"
   ]
  },
  {
   "cell_type": "code",
   "execution_count": 8,
   "id": "42fa95af",
   "metadata": {},
   "outputs": [
    {
     "data": {
      "text/plain": [
       "BoundedArraySpec(shape=(), dtype=dtype('int64'), name='action', minimum=0, maximum=3)"
      ]
     },
     "execution_count": 8,
     "metadata": {},
     "output_type": "execute_result"
    }
   ],
   "source": [
    "env.action_spec()"
   ]
  },
  {
   "cell_type": "code",
   "execution_count": 9,
   "id": "e7524a43",
   "metadata": {},
   "outputs": [
    {
     "data": {
      "text/plain": [
       "['NOOP', 'FIRE', 'RIGHT', 'LEFT']"
      ]
     },
     "execution_count": 9,
     "metadata": {},
     "output_type": "execute_result"
    }
   ],
   "source": [
    "env.gym.get_action_meanings()"
   ]
  },
  {
   "cell_type": "code",
   "execution_count": 10,
   "id": "e477293e",
   "metadata": {},
   "outputs": [
    {
     "data": {
      "text/plain": [
       "TimeStep(\n",
       "{'discount': BoundedArraySpec(shape=(), dtype=dtype('float32'), name='discount', minimum=0.0, maximum=1.0),\n",
       " 'observation': BoundedArraySpec(shape=(210, 160, 3), dtype=dtype('uint8'), name='observation', minimum=0, maximum=255),\n",
       " 'reward': ArraySpec(shape=(), dtype=dtype('float32'), name='reward'),\n",
       " 'step_type': ArraySpec(shape=(), dtype=dtype('int32'), name='step_type')})"
      ]
     },
     "execution_count": 10,
     "metadata": {},
     "output_type": "execute_result"
    }
   ],
   "source": [
    "env.time_step_spec()"
   ]
  },
  {
   "cell_type": "code",
   "execution_count": 11,
   "id": "db17b6b4",
   "metadata": {},
   "outputs": [
    {
     "data": {
      "text/plain": [
       "<matplotlib.image.AxesImage at 0x7ff8f7b7cd60>"
      ]
     },
     "execution_count": 11,
     "metadata": {},
     "output_type": "execute_result"
    },
    {
     "data": {
      "image/png": "[encoded data removed]",
      "text/plain": [
       "<Figure size 432x288 with 1 Axes>"
      ]
     },
     "metadata": {
      "needs_background": "light"
     },
     "output_type": "display_data"
    }
   ],
   "source": [
    "frame = env.render(mode=\"rgb_array\")\n",
    "plt.imshow(frame)"
   ]
  },
  {
   "cell_type": "code",
   "execution_count": 12,
   "id": "73298fc0",
   "metadata": {
    "scrolled": true
   },
   "outputs": [
    {
     "data": {
      "text/plain": [
       "TimeStep(\n",
       "{'discount': array(1., dtype=float32),\n",
       " 'observation': array([[[0, 0, 0],\n",
       "        [0, 0, 0],\n",
       "        [0, 0, 0],\n",
       "        ...,\n",
       "        [0, 0, 0],\n",
       "        [0, 0, 0],\n",
       "        [0, 0, 0]],\n",
       "\n",
       "       [[0, 0, 0],\n",
       "        [0, 0, 0],\n",
       "        [0, 0, 0],\n",
       "        ...,\n",
       "        [0, 0, 0],\n",
       "        [0, 0, 0],\n",
       "        [0, 0, 0]],\n",
       "\n",
       "       [[0, 0, 0],\n",
       "        [0, 0, 0],\n",
       "        [0, 0, 0],\n",
       "        ...,\n",
       "        [0, 0, 0],\n",
       "        [0, 0, 0],\n",
       "        [0, 0, 0]],\n",
       "\n",
       "       ...,\n",
       "\n",
       "       [[0, 0, 0],\n",
       "        [0, 0, 0],\n",
       "        [0, 0, 0],\n",
       "        ...,\n",
       "        [0, 0, 0],\n",
       "        [0, 0, 0],\n",
       "        [0, 0, 0]],\n",
       "\n",
       "       [[0, 0, 0],\n",
       "        [0, 0, 0],\n",
       "        [0, 0, 0],\n",
       "        ...,\n",
       "        [0, 0, 0],\n",
       "        [0, 0, 0],\n",
       "        [0, 0, 0]],\n",
       "\n",
       "       [[0, 0, 0],\n",
       "        [0, 0, 0],\n",
       "        [0, 0, 0],\n",
       "        ...,\n",
       "        [0, 0, 0],\n",
       "        [0, 0, 0],\n",
       "        [0, 0, 0]]], dtype=uint8),\n",
       " 'reward': array(0., dtype=float32),\n",
       " 'step_type': array(1, dtype=int32)})"
      ]
     },
     "execution_count": 12,
     "metadata": {},
     "output_type": "execute_result"
    }
   ],
   "source": [
    "env.step(1)"
   ]
  },
  {
   "cell_type": "code",
   "execution_count": 13,
   "id": "f2378547",
   "metadata": {},
   "outputs": [
    {
     "data": {
      "text/plain": [
       "<matplotlib.image.AxesImage at 0x7ff8f573ad70>"
      ]
     },
     "execution_count": 13,
     "metadata": {},
     "output_type": "execute_result"
    },
    {
     "data": {
      "image/png": "[encoded data removed]",
      "text/plain": [
       "<Figure size 432x288 with 1 Axes>"
      ]
     },
     "metadata": {
      "needs_background": "light"
     },
     "output_type": "display_data"
    }
   ],
   "source": [
    "frame = env.render(mode=\"rgb_array\")\n",
    "plt.imshow(frame)"
   ]
  },
  {
   "cell_type": "markdown",
   "id": "2b702cd6",
   "metadata": {},
   "source": [
    "### 환경 래퍼"
   ]
  },
  {
   "cell_type": "code",
   "execution_count": 14,
   "id": "3e0b3afe",
   "metadata": {},
   "outputs": [],
   "source": [
    "from tf_agents.environments.wrappers import ActionRepeat\n",
    "repeating_env = ActionRepeat(env, times=4)"
   ]
  },
  {
   "cell_type": "code",
   "execution_count": 15,
   "id": "b36bd1e2",
   "metadata": {},
   "outputs": [],
   "source": [
    "from gym.wrappers import TimeLimit\n",
    "from tf_agents.environments import suite_gym\n",
    "\n",
    "limited_reapeating_env = suite_gym.load(\n",
    "    \"Breakout-v4\",\n",
    "    gym_env_wrappers = [lambda env: TimeLimit(env, max_episode_steps=10000)],\n",
    "    env_wrappers = [lambda env: ActionRepeat(env, times=4)]\n",
    ")"
   ]
  },
  {
   "cell_type": "code",
   "execution_count": 16,
   "id": "4aebf796",
   "metadata": {},
   "outputs": [],
   "source": [
    "from tf_agents.environments import suite_atari\n",
    "from tf_agents.environments.atari_preprocessing import AtariPreprocessing\n",
    "from tf_agents.environments.atari_wrappers import FrameStack4\n",
    "\n",
    "max_episode_steps = 27000\n",
    "environment_name = \"BreakoutNoFrameskip-v4\"\n",
    "\n",
    "env = suite_atari.load(\n",
    "    environment_name,\n",
    "    max_episode_steps = max_episode_steps,\n",
    "    gym_env_wrappers=[AtariPreprocessing, FrameStack4]) # also add framestack, ataripreprocessing"
   ]
  },
  {
   "cell_type": "code",
   "execution_count": 17,
   "id": "54c08584",
   "metadata": {},
   "outputs": [
    {
     "data": {
      "text/plain": [
       "<matplotlib.image.AxesImage at 0x7ff8f55d90f0>"
      ]
     },
     "execution_count": 17,
     "metadata": {},
     "output_type": "execute_result"
    },
    {
     "data": {
      "image/png": "[encoded data removed]",
      "text/plain": [
       "<Figure size 432x288 with 1 Axes>"
      ]
     },
     "metadata": {
      "needs_background": "light"
     },
     "output_type": "display_data"
    }
   ],
   "source": [
    "for i in range(10):\n",
    "    obs = env.step(1)\n",
    "frame = env.render(mode=\"rgb_array\")\n",
    "plt.imshow(frame)"
   ]
  },
  {
   "cell_type": "code",
   "execution_count": 18,
   "id": "3c223919",
   "metadata": {},
   "outputs": [],
   "source": [
    "from tf_agents.environments import suite_atari\n",
    "from tf_agents.environments.atari_preprocessing import AtariPreprocessing\n",
    "from tf_agents.environments.atari_wrappers import FrameStack4\n",
    "\n",
    "max_episode_steps = 27000 # <=> 108k ALE frames since 1 step = 4 frames\n",
    "environment_name = \"BreakoutNoFrameskip-v4\"\n",
    "\n",
    "class AtariPreprocessingWithAutoFire(AtariPreprocessing):\n",
    "    def reset(self, **kwargs):\n",
    "        obs = super().reset(**kwargs)\n",
    "        super().step(1) # FIRE to start\n",
    "        return obs\n",
    "    def step(self, action):\n",
    "        lives_before_action = self.ale.lives()\n",
    "        obs, rewards, done, info = super().step(action)\n",
    "        if self.ale.lives() < lives_before_action and not done:\n",
    "            super().step(1) # FIRE to start after life lost ###\n",
    "        return obs, rewards, done, info\n",
    "\n",
    "env = suite_atari.load(\n",
    "    environment_name,\n",
    "    max_episode_steps=max_episode_steps,\n",
    "    gym_env_wrappers=[AtariPreprocessingWithAutoFire, FrameStack4])"
   ]
  },
  {
   "cell_type": "code",
   "execution_count": 19,
   "id": "26ccef51",
   "metadata": {},
   "outputs": [],
   "source": [
    "env.seed(42)\n",
    "env.reset()\n",
    "for _ in range(4):\n",
    "    time_step = env.step(3) # 왼쪽"
   ]
  },
  {
   "cell_type": "code",
   "execution_count": 20,
   "id": "1ed76750",
   "metadata": {},
   "outputs": [],
   "source": [
    "def plot_observation(obs):\n",
    "    # 컬러 채널이 3개이기 때문에 4 프레임을 출력할 수 없습니다.\n",
    "    # 따라서 현재 프레임과 다른 프레임의 평균 값을 뺀 차이를 계산합니다.\n",
    "    # 그다음 이 차이를 현재 프레임의 빨강과 파랑 채널에 더해서 보라 색을 구합니다.\n",
    "    obs = obs.astype(np.float32)\n",
    "    img = obs[..., :3]\n",
    "    current_frame_delta = np.maximum(obs[..., 3] - obs[..., :3].mean(axis=-1), 0.) # difference\n",
    "    img[..., 0] += current_frame_delta # add to red\n",
    "    img[..., 2] += current_frame_delta # add to blue\n",
    "    img = np.clip(img / 150, 0, 1)\n",
    "    plt.imshow(img)\n",
    "    plt.axis(\"off\")"
   ]
  },
  {
   "cell_type": "code",
   "execution_count": 21,
   "id": "2df2e2ca",
   "metadata": {},
   "outputs": [
    {
     "name": "stdout",
     "output_type": "stream",
     "text": [
      "그림 저장 preprocessed_breakout_plot\n"
     ]
    },
    {
     "data": {
      "image/png": "[encoded data removed]",
      "text/plain": [
       "<Figure size 432x432 with 1 Axes>"
      ]
     },
     "metadata": {
      "needs_background": "light"
     },
     "output_type": "display_data"
    }
   ],
   "source": [
    "import os\n",
    "IMAGES_PATH = \"images\"\n",
    "def save_fig(fig_id, tight_layout=True, fig_extension=\"png\", resolution=300):\n",
    "    path = os.path.join(IMAGES_PATH, fig_id + \".\" + fig_extension)\n",
    "    print(\"그림 저장\", fig_id)\n",
    "    if tight_layout:\n",
    "        plt.tight_layout()\n",
    "    plt.savefig(path, format=fig_extension, dpi=resolution)\n",
    "\n",
    "plt.figure(figsize=(6, 6))\n",
    "plot_observation(time_step.observation)\n",
    "save_fig(\"preprocessed_breakout_plot\")\n",
    "plt.show()"
   ]
  },
  {
   "cell_type": "code",
   "execution_count": 22,
   "id": "bb5d552e",
   "metadata": {},
   "outputs": [],
   "source": [
    "from tf_agents.environments.tf_py_environment import TFPyEnvironment\n",
    "\n",
    "tf_env = TFPyEnvironment(env)"
   ]
  },
  {
   "cell_type": "markdown",
   "id": "664b15ef",
   "metadata": {},
   "source": [
    "### Deep Q-network"
   ]
  },
  {
   "cell_type": "code",
   "execution_count": 23,
   "id": "3653598a",
   "metadata": {},
   "outputs": [],
   "source": [
    "from tf_agents.networks.q_network import QNetwork\n",
    "\n",
    "preprocessing_layer = keras.layers.Lambda(lambda obs: tf.cast(obs, np.float32) / 255.)\n",
    "\n",
    "conv_layer_params = [(32, (8, 8), 4), (64, (4, 4), 2), (64, (3, 3), 1)]\n",
    "fc_layer_params = [512]\n",
    "\n",
    "q_net = QNetwork(\n",
    "    tf_env.observation_spec(),\n",
    "    tf_env.action_spec(),\n",
    "    preprocessing_layers = preprocessing_layer,\n",
    "    conv_layer_params=conv_layer_params,\n",
    "    fc_layer_params=fc_layer_params)"
   ]
  },
  {
   "cell_type": "markdown",
   "id": "77f6aaa9",
   "metadata": {},
   "source": [
    "### DQN Agent"
   ]
  },
  {
   "cell_type": "code",
   "execution_count": 24,
   "id": "b31ab005",
   "metadata": {},
   "outputs": [
    {
     "name": "stderr",
     "output_type": "stream",
     "text": [
      "2022-08-18 23:25:41.622736: E tensorflow/stream_executor/cuda/cuda_driver.cc:271] failed call to cuInit: CUDA_ERROR_NO_DEVICE: no CUDA-capable device is detected\n",
      "2022-08-18 23:25:41.622770: I tensorflow/stream_executor/cuda/cuda_diagnostics.cc:169] retrieving CUDA diagnostic information for host: debian\n",
      "2022-08-18 23:25:41.622777: I tensorflow/stream_executor/cuda/cuda_diagnostics.cc:176] hostname: debian\n",
      "2022-08-18 23:25:41.622854: I tensorflow/stream_executor/cuda/cuda_diagnostics.cc:200] libcuda reported version is: 495.29.5\n",
      "2022-08-18 23:25:41.622876: I tensorflow/stream_executor/cuda/cuda_diagnostics.cc:204] kernel reported version is: 495.29.5\n",
      "2022-08-18 23:25:41.622883: I tensorflow/stream_executor/cuda/cuda_diagnostics.cc:310] kernel version seems to match DSO: 495.29.5\n",
      "2022-08-18 23:25:41.623327: I tensorflow/core/platform/cpu_feature_guard.cc:151] This TensorFlow binary is optimized with oneAPI Deep Neural Network Library (oneDNN) to use the following CPU instructions in performance-critical operations:  AVX2 FMA\n",
      "To enable them in other operations, rebuild TensorFlow with the appropriate compiler flags.\n"
     ]
    }
   ],
   "source": [
    "from tf_agents.agents.dqn.dqn_agent import DqnAgent\n",
    "\n",
    "train_step = tf.Variable(0)\n",
    "update_period = 4 # step?\n",
    "optimizer = keras.optimizers.RMSprop(learning_rate=2.5e-4, rho=0.95, momentum=0.0, epsilon=0.00001, centered=True)\n",
    "\n",
    "epsilon_fn = keras.optimizers.schedules.PolynomialDecay(\n",
    "    initial_learning_rate=1.0,\n",
    "    decay_steps = 250000 // update_period,\n",
    "    end_learning_rate=0.01)\n",
    "\n",
    "agent = DqnAgent(\n",
    "    tf_env.time_step_spec(),\n",
    "    tf_env.action_spec(),\n",
    "    q_network=q_net,\n",
    "    optimizer = optimizer,\n",
    "    target_update_period=2000,\n",
    "    td_errors_loss_fn=keras.losses.Huber(reduction=\"none\"),\n",
    "    gamma=0.99,\n",
    "    train_step_counter = train_step,\n",
    "    epsilon_greedy = lambda: epsilon_fn(train_step)\n",
    ")\n",
    "\n",
    "agent.initialize()"
   ]
  },
  {
   "cell_type": "code",
   "execution_count": 25,
   "id": "58f95cd0",
   "metadata": {},
   "outputs": [
    {
     "name": "stderr",
     "output_type": "stream",
     "text": [
      "2022-08-18 23:25:41.722282: W tensorflow/core/framework/cpu_allocator_impl.cc:82] Allocation of 14112000000 exceeds 10% of free system memory.\n"
     ]
    }
   ],
   "source": [
    "from tf_agents.replay_buffers import tf_uniform_replay_buffer\n",
    "\n",
    "replay_buffer = tf_uniform_replay_buffer.TFUniformReplayBuffer(\n",
    "    data_spec = agent.collect_data_spec,\n",
    "    batch_size = tf_env.batch_size,\n",
    "    max_length = 500000)"
   ]
  },
  {
   "cell_type": "code",
   "execution_count": 26,
   "id": "470c18ac",
   "metadata": {},
   "outputs": [],
   "source": [
    "replay_buffer_observer = replay_buffer.add_batch"
   ]
  },
  {
   "cell_type": "code",
   "execution_count": 27,
   "id": "9c2b403b",
   "metadata": {},
   "outputs": [],
   "source": [
    "# counter for batch\n",
    "class ShowProgress:\n",
    "    def __init__(self, total):\n",
    "        self.counter = 0\n",
    "        self.total = total\n",
    "        pass\n",
    "    def __call__(self, trajectory):\n",
    "        if not trajectory.is_boundary():\n",
    "            self.counter += 1\n",
    "        if self.counter % 100 == 0:\n",
    "            print(\"\\r{}/{}\".format(self.counter, self.total), end=\"\")"
   ]
  },
  {
   "cell_type": "markdown",
   "id": "c0a4dd59",
   "metadata": {},
   "source": [
    "### Metrics for training"
   ]
  },
  {
   "cell_type": "code",
   "execution_count": 28,
   "id": "f9a8e1d1",
   "metadata": {},
   "outputs": [],
   "source": [
    "from tf_agents.metrics import tf_metrics\n",
    "\n",
    "train_metrics = [\n",
    "    tf_metrics.NumberOfEpisodes(),\n",
    "    tf_metrics.EnvironmentSteps(),\n",
    "    tf_metrics.AverageReturnMetric(),\n",
    "    tf_metrics.AverageEpisodeLengthMetric(),\n",
    "]"
   ]
  },
  {
   "cell_type": "code",
   "execution_count": 29,
   "id": "14b0fadf",
   "metadata": {},
   "outputs": [
    {
     "name": "stderr",
     "output_type": "stream",
     "text": [
      "INFO:absl: \n",
      "\t\t NumberOfEpisodes = 0\n",
      "\t\t EnvironmentSteps = 0\n",
      "\t\t AverageReturn = 0.0\n",
      "\t\t AverageEpisodeLength = 0.0\n"
     ]
    }
   ],
   "source": [
    "from tf_agents.eval.metric_utils import log_metrics\n",
    "import logging\n",
    "\n",
    "logging.getLogger().setLevel(logging.INFO)\n",
    "log_metrics(train_metrics)"
   ]
  },
  {
   "cell_type": "markdown",
   "id": "25f07012",
   "metadata": {},
   "source": [
    "### 수집 드라이버"
   ]
  },
  {
   "cell_type": "code",
   "execution_count": 31,
   "id": "6dc7a3b3",
   "metadata": {},
   "outputs": [],
   "source": [
    "from tf_agents.drivers.dynamic_step_driver import DynamicStepDriver\n",
    "\n",
    "collect_driver = DynamicStepDriver(\n",
    "    tf_env,\n",
    "    agent.collect_policy,\n",
    "    observers = [replay_buffer_observer] + train_metrics, # this is where each time step's outputs will be examined\n",
    "    num_steps=update_period\n",
    ")"
   ]
  },
  {
   "cell_type": "code",
   "execution_count": 32,
   "id": "bd6eecbd",
   "metadata": {},
   "outputs": [],
   "source": [
    "from tf_agents.policies.random_tf_policy import RandomTFPolicy\n",
    "\n",
    "initial_collect_policy = RandomTFPolicy(tf_env.time_step_spec(), tf_env.action_spec()) # just pass in specs\n",
    "init_driver = DynamicStepDriver(\n",
    "    tf_env,\n",
    "    initial_collect_policy,\n",
    "    observers = [replay_buffer_observer] + train_metrics, # this is where each time step's outputs will be examined\n",
    "    num_steps = 20000\n",
    ")"
   ]
  },
  {
   "cell_type": "code",
   "execution_count": 33,
   "id": "9eaf9692",
   "metadata": {},
   "outputs": [],
   "source": [
    "final_time_step, final_policy_state = init_driver.run()"
   ]
  },
  {
   "cell_type": "code",
   "execution_count": 34,
   "id": "bb21ae57",
   "metadata": {},
   "outputs": [
    {
     "name": "stdout",
     "output_type": "stream",
     "text": [
      "WARNING:tensorflow:From /tmp/ipykernel_129978/2834704611.py:1: ReplayBuffer.get_next (from tf_agents.replay_buffers.replay_buffer) is deprecated and will be removed in a future version.\n",
      "Instructions for updating:\n",
      "Use `as_dataset(..., single_deterministic_pass=False) instead.\n"
     ]
    },
    {
     "name": "stderr",
     "output_type": "stream",
     "text": [
      "WARNING:tensorflow:From /tmp/ipykernel_129978/2834704611.py:1: ReplayBuffer.get_next (from tf_agents.replay_buffers.replay_buffer) is deprecated and will be removed in a future version.\n",
      "Instructions for updating:\n",
      "Use `as_dataset(..., single_deterministic_pass=False) instead.\n"
     ]
    }
   ],
   "source": [
    "trajectories, buffer_info = replay_buffer.get_next(\n",
    "    sample_batch_size=2, num_steps=3)"
   ]
  },
  {
   "cell_type": "code",
   "execution_count": 35,
   "id": "aa7039c4",
   "metadata": {},
   "outputs": [
    {
     "data": {
      "text/plain": [
       "('step_type',\n",
       " 'observation',\n",
       " 'action',\n",
       " 'policy_info',\n",
       " 'next_step_type',\n",
       " 'reward',\n",
       " 'discount')"
      ]
     },
     "execution_count": 35,
     "metadata": {},
     "output_type": "execute_result"
    }
   ],
   "source": [
    "trajectories._fields"
   ]
  },
  {
   "cell_type": "code",
   "execution_count": 36,
   "id": "d11b4906",
   "metadata": {},
   "outputs": [
    {
     "data": {
      "text/plain": [
       "TensorShape([2, 3, 84, 84, 4])"
      ]
     },
     "execution_count": 36,
     "metadata": {},
     "output_type": "execute_result"
    }
   ],
   "source": [
    "trajectories.observation.shape"
   ]
  },
  {
   "cell_type": "code",
   "execution_count": 37,
   "id": "00af7621",
   "metadata": {},
   "outputs": [
    {
     "data": {
      "text/plain": [
       "array([[1, 1, 1],\n",
       "       [1, 1, 1]], dtype=int32)"
      ]
     },
     "execution_count": 37,
     "metadata": {},
     "output_type": "execute_result"
    }
   ],
   "source": [
    "trajectories.step_type.numpy()"
   ]
  },
  {
   "cell_type": "code",
   "execution_count": 38,
   "id": "22fdb33b",
   "metadata": {},
   "outputs": [
    {
     "name": "stdout",
     "output_type": "stream",
     "text": [
      "그림 저장 sub_episodes_plot\n"
     ]
    },
    {
     "data": {
      "image/png": "[encoded data removed]",
      "text/plain": [
       "<Figure size 720x489.6 with 6 Axes>"
      ]
     },
     "metadata": {
      "needs_background": "light"
     },
     "output_type": "display_data"
    }
   ],
   "source": [
    "plt.figure(figsize=(10, 6.8))\n",
    "for row in range(2):\n",
    "    for col in range(3):\n",
    "        plt.subplot(2, 3, row * 3 + col + 1)\n",
    "        plot_observation(trajectories.observation[row, col].numpy()) ### trajectories.observation[2,3]\n",
    "plt.subplots_adjust(left=0, right=1, bottom=0, top=1, hspace=0, wspace=0.02)\n",
    "save_fig(\"sub_episodes_plot\")\n",
    "plt.show()"
   ]
  },
  {
   "cell_type": "code",
   "execution_count": 39,
   "id": "9ff59b36",
   "metadata": {},
   "outputs": [
    {
     "name": "stdout",
     "output_type": "stream",
     "text": [
      "(2, 2, 84, 84, 4)\n"
     ]
    }
   ],
   "source": [
    "from tf_agents.trajectories.trajectory import to_transition\n",
    "time_steps, action_steps, next_time_steps = to_transition(trajectories)\n",
    "print(time_steps.observation.shape)"
   ]
  },
  {
   "cell_type": "code",
   "execution_count": 40,
   "id": "782c7d85",
   "metadata": {},
   "outputs": [],
   "source": [
    "dataset= replay_buffer.as_dataset(\n",
    "    sample_batch_size = 64,\n",
    "    num_steps=2,# one complete transition\n",
    "    num_parallel_calls=3).prefetch(3)"
   ]
  },
  {
   "cell_type": "code",
   "execution_count": 41,
   "id": "1b4f2600",
   "metadata": {},
   "outputs": [],
   "source": [
    "from tf_agents.utils.common import function\n",
    "\n",
    "collect_driver.run = function(collect_driver.run) # wrap it into tf function\n",
    "agent.train = function(agent.train)"
   ]
  },
  {
   "cell_type": "markdown",
   "id": "b5f01c57",
   "metadata": {},
   "source": [
    "### Train"
   ]
  },
  {
   "cell_type": "code",
   "execution_count": 54,
   "id": "0106c1b5",
   "metadata": {},
   "outputs": [],
   "source": [
    "from time import time\n",
    "\n",
    "\n",
    "def train_agent(n_iterations):\n",
    "    start_time = time()\n",
    "    time_step = None\n",
    "    policy_state = agent.collect_policy.get_initial_state(tf_env.batch_size)\n",
    "    iterator = iter(dataset) # iterator 객채\n",
    "    for iteration in range(n_iterations): \n",
    "        time_step, policy_state = collect_driver.run(time_step, policy_state) # 탐색 \n",
    "        trajectories, buffer_info = next(iterator) # 가져옴\n",
    "        train_loss = agent.train(trajectories) # 훈련\n",
    "        print(\"\\r{} loss:{:.5f}\".format( iteration, train_loss.loss.numpy()), end=\"\")\n",
    "        \n",
    "        if iteration % 1000 == 0:\n",
    "            print()\n",
    "            print(\"elapsed_time: {:.2f}s\".format(time()-start_time))\n",
    "            start_time = time()\n",
    "            log_metrics(train_metrics) # log values"
   ]
  },
  {
   "cell_type": "code",
   "execution_count": 55,
   "id": "ffc51e42",
   "metadata": {
    "scrolled": true
   },
   "outputs": [
    {
     "name": "stderr",
     "output_type": "stream",
     "text": [
      "INFO:absl: \n",
      "\t\t NumberOfEpisodes = 554\n",
      "\t\t EnvironmentSteps = 90156\n",
      "\t\t AverageReturn = 1.600000023841858\n",
      "\t\t AverageEpisodeLength = 174.3000030517578\n"
     ]
    },
    {
     "name": "stdout",
     "output_type": "stream",
     "text": [
      "0 loss:0.00013\n",
      "elapsed_time: 0.09s\n",
      "999 loss:0.00019"
     ]
    },
    {
     "name": "stderr",
     "output_type": "stream",
     "text": [
      "INFO:absl: \n",
      "\t\t NumberOfEpisodes = 578\n",
      "\t\t EnvironmentSteps = 94156\n",
      "\t\t AverageReturn = 0.699999988079071\n",
      "\t\t AverageEpisodeLength = 142.89999389648438\n"
     ]
    },
    {
     "name": "stdout",
     "output_type": "stream",
     "text": [
      "1000 loss:0.00079\n",
      "elapsed_time: 40.68s\n",
      "1995 loss:0.00030"
     ]
    },
    {
     "name": "stderr",
     "output_type": "stream",
     "text": [
      "INFO:absl: \n",
      "\t\t NumberOfEpisodes = 601\n",
      "\t\t EnvironmentSteps = 98156\n",
      "\t\t AverageReturn = 1.7000000476837158\n",
      "\t\t AverageEpisodeLength = 180.5\n"
     ]
    },
    {
     "name": "stdout",
     "output_type": "stream",
     "text": [
      "2000 loss:0.00014\n",
      "elapsed_time: 41.52s\n",
      "2996 loss:0.00010"
     ]
    },
    {
     "name": "stderr",
     "output_type": "stream",
     "text": [
      "INFO:absl: \n",
      "\t\t NumberOfEpisodes = 626\n",
      "\t\t EnvironmentSteps = 102156\n",
      "\t\t AverageReturn = 0.8999999761581421\n",
      "\t\t AverageEpisodeLength = 154.0\n"
     ]
    },
    {
     "name": "stdout",
     "output_type": "stream",
     "text": [
      "3000 loss:0.00032\n",
      "elapsed_time: 41.55s\n",
      "3996 loss:0.00008"
     ]
    },
    {
     "name": "stderr",
     "output_type": "stream",
     "text": [
      "INFO:absl: \n",
      "\t\t NumberOfEpisodes = 649\n",
      "\t\t EnvironmentSteps = 106156\n",
      "\t\t AverageReturn = 1.5\n",
      "\t\t AverageEpisodeLength = 176.6999969482422\n"
     ]
    },
    {
     "name": "stdout",
     "output_type": "stream",
     "text": [
      "4000 loss:0.00005\n",
      "elapsed_time: 41.55s\n",
      "4996 loss:0.00062"
     ]
    },
    {
     "name": "stderr",
     "output_type": "stream",
     "text": [
      "INFO:absl: \n",
      "\t\t NumberOfEpisodes = 672\n",
      "\t\t EnvironmentSteps = 110156\n",
      "\t\t AverageReturn = 1.7999999523162842\n",
      "\t\t AverageEpisodeLength = 184.5\n"
     ]
    },
    {
     "name": "stdout",
     "output_type": "stream",
     "text": [
      "5000 loss:0.00011\n",
      "elapsed_time: 41.57s\n",
      "5997 loss:0.00023"
     ]
    },
    {
     "name": "stderr",
     "output_type": "stream",
     "text": [
      "INFO:absl: \n",
      "\t\t NumberOfEpisodes = 695\n",
      "\t\t EnvironmentSteps = 114156\n",
      "\t\t AverageReturn = 1.2999999523162842\n",
      "\t\t AverageEpisodeLength = 167.10000610351562\n"
     ]
    },
    {
     "name": "stdout",
     "output_type": "stream",
     "text": [
      "6000 loss:0.00020\n",
      "elapsed_time: 41.47s\n",
      "6995 loss:0.00008"
     ]
    },
    {
     "name": "stderr",
     "output_type": "stream",
     "text": [
      "INFO:absl: \n",
      "\t\t NumberOfEpisodes = 716\n",
      "\t\t EnvironmentSteps = 118156\n",
      "\t\t AverageReturn = 1.7999999523162842\n",
      "\t\t AverageEpisodeLength = 190.10000610351562\n"
     ]
    },
    {
     "name": "stdout",
     "output_type": "stream",
     "text": [
      "7000 loss:0.00093\n",
      "elapsed_time: 41.42s\n",
      "7997 loss:0.00025"
     ]
    },
    {
     "name": "stderr",
     "output_type": "stream",
     "text": [
      "INFO:absl: \n",
      "\t\t NumberOfEpisodes = 740\n",
      "\t\t EnvironmentSteps = 122156\n",
      "\t\t AverageReturn = 1.100000023841858\n",
      "\t\t AverageEpisodeLength = 158.60000610351562\n"
     ]
    },
    {
     "name": "stdout",
     "output_type": "stream",
     "text": [
      "8000 loss:0.00044\n",
      "elapsed_time: 41.50s\n",
      "8997 loss:0.00101"
     ]
    },
    {
     "name": "stderr",
     "output_type": "stream",
     "text": [
      "INFO:absl: \n",
      "\t\t NumberOfEpisodes = 762\n",
      "\t\t EnvironmentSteps = 126156\n",
      "\t\t AverageReturn = 2.200000047683716\n",
      "\t\t AverageEpisodeLength = 194.60000610351562\n"
     ]
    },
    {
     "name": "stdout",
     "output_type": "stream",
     "text": [
      "9000 loss:0.00095\n",
      "elapsed_time: 41.47s\n",
      "9998 loss:0.00042"
     ]
    },
    {
     "name": "stderr",
     "output_type": "stream",
     "text": [
      "INFO:absl: \n",
      "\t\t NumberOfEpisodes = 786\n",
      "\t\t EnvironmentSteps = 130156\n",
      "\t\t AverageReturn = 1.2000000476837158\n",
      "\t\t AverageEpisodeLength = 163.89999389648438\n"
     ]
    },
    {
     "name": "stdout",
     "output_type": "stream",
     "text": [
      "10000 loss:0.00007\n",
      "elapsed_time: 41.82s\n",
      "10996 loss:0.00056"
     ]
    },
    {
     "name": "stderr",
     "output_type": "stream",
     "text": [
      "INFO:absl: \n",
      "\t\t NumberOfEpisodes = 806\n",
      "\t\t EnvironmentSteps = 134156\n",
      "\t\t AverageReturn = 1.7000000476837158\n",
      "\t\t AverageEpisodeLength = 181.6999969482422\n"
     ]
    },
    {
     "name": "stdout",
     "output_type": "stream",
     "text": [
      "11000 loss:0.00090\n",
      "elapsed_time: 41.46s\n",
      "11999 loss:0.00043"
     ]
    },
    {
     "name": "stderr",
     "output_type": "stream",
     "text": [
      "INFO:absl: \n",
      "\t\t NumberOfEpisodes = 831\n",
      "\t\t EnvironmentSteps = 138156\n",
      "\t\t AverageReturn = 1.0\n",
      "\t\t AverageEpisodeLength = 159.0\n"
     ]
    },
    {
     "name": "stdout",
     "output_type": "stream",
     "text": [
      "12000 loss:0.00005\n",
      "elapsed_time: 41.57s\n",
      "12999 loss:0.00022"
     ]
    },
    {
     "name": "stderr",
     "output_type": "stream",
     "text": [
      "INFO:absl: \n",
      "\t\t NumberOfEpisodes = 853\n",
      "\t\t EnvironmentSteps = 142156\n",
      "\t\t AverageReturn = 1.7999999523162842\n",
      "\t\t AverageEpisodeLength = 179.60000610351562\n"
     ]
    },
    {
     "name": "stdout",
     "output_type": "stream",
     "text": [
      "13000 loss:0.00013\n",
      "elapsed_time: 41.51s\n",
      "13999 loss:0.00015"
     ]
    },
    {
     "name": "stderr",
     "output_type": "stream",
     "text": [
      "INFO:absl: \n",
      "\t\t NumberOfEpisodes = 876\n",
      "\t\t EnvironmentSteps = 146156\n",
      "\t\t AverageReturn = 1.0\n",
      "\t\t AverageEpisodeLength = 157.60000610351562\n"
     ]
    },
    {
     "name": "stdout",
     "output_type": "stream",
     "text": [
      "14000 loss:0.00023\n",
      "elapsed_time: 41.45s\n",
      "14995 loss:0.00030"
     ]
    },
    {
     "name": "stderr",
     "output_type": "stream",
     "text": [
      "INFO:absl: \n",
      "\t\t NumberOfEpisodes = 898\n",
      "\t\t EnvironmentSteps = 150156\n",
      "\t\t AverageReturn = 2.299999952316284\n",
      "\t\t AverageEpisodeLength = 183.3000030517578\n"
     ]
    },
    {
     "name": "stdout",
     "output_type": "stream",
     "text": [
      "15000 loss:0.00092\n",
      "elapsed_time: 41.45s\n",
      "15995 loss:0.00022"
     ]
    },
    {
     "name": "stderr",
     "output_type": "stream",
     "text": [
      "INFO:absl: \n",
      "\t\t NumberOfEpisodes = 916\n",
      "\t\t EnvironmentSteps = 154156\n",
      "\t\t AverageReturn = 2.799999952316284\n",
      "\t\t AverageEpisodeLength = 223.60000610351562\n"
     ]
    },
    {
     "name": "stdout",
     "output_type": "stream",
     "text": [
      "16000 loss:0.00041\n",
      "elapsed_time: 41.96s\n",
      "16996 loss:0.00078"
     ]
    },
    {
     "name": "stderr",
     "output_type": "stream",
     "text": [
      "INFO:absl: \n",
      "\t\t NumberOfEpisodes = 933\n",
      "\t\t EnvironmentSteps = 158156\n",
      "\t\t AverageReturn = 3.5\n",
      "\t\t AverageEpisodeLength = 235.6999969482422\n"
     ]
    },
    {
     "name": "stdout",
     "output_type": "stream",
     "text": [
      "17000 loss:0.00124\n",
      "elapsed_time: 41.40s\n",
      "17996 loss:0.00027"
     ]
    },
    {
     "name": "stderr",
     "output_type": "stream",
     "text": [
      "INFO:absl: \n",
      "\t\t NumberOfEpisodes = 954\n",
      "\t\t EnvironmentSteps = 162156\n",
      "\t\t AverageReturn = 2.0\n",
      "\t\t AverageEpisodeLength = 194.39999389648438\n"
     ]
    },
    {
     "name": "stdout",
     "output_type": "stream",
     "text": [
      "18000 loss:0.00021\n",
      "elapsed_time: 41.71s\n",
      "18998 loss:0.00106"
     ]
    },
    {
     "name": "stderr",
     "output_type": "stream",
     "text": [
      "INFO:absl: \n",
      "\t\t NumberOfEpisodes = 972\n",
      "\t\t EnvironmentSteps = 166156\n",
      "\t\t AverageReturn = 2.5999999046325684\n",
      "\t\t AverageEpisodeLength = 214.6999969482422\n"
     ]
    },
    {
     "name": "stdout",
     "output_type": "stream",
     "text": [
      "19000 loss:0.00023\n",
      "elapsed_time: 41.44s\n",
      "19999 loss:0.00011"
     ]
    },
    {
     "name": "stderr",
     "output_type": "stream",
     "text": [
      "INFO:absl: \n",
      "\t\t NumberOfEpisodes = 991\n",
      "\t\t EnvironmentSteps = 170156\n",
      "\t\t AverageReturn = 2.5\n",
      "\t\t AverageEpisodeLength = 201.8000030517578\n"
     ]
    },
    {
     "name": "stdout",
     "output_type": "stream",
     "text": [
      "20000 loss:0.00059\n",
      "elapsed_time: 41.92s\n",
      "20999 loss:0.00038"
     ]
    },
    {
     "name": "stderr",
     "output_type": "stream",
     "text": [
      "INFO:absl: \n",
      "\t\t NumberOfEpisodes = 1009\n",
      "\t\t EnvironmentSteps = 174156\n",
      "\t\t AverageReturn = 2.5999999046325684\n",
      "\t\t AverageEpisodeLength = 206.39999389648438\n"
     ]
    },
    {
     "name": "stdout",
     "output_type": "stream",
     "text": [
      "21000 loss:0.00028\n",
      "elapsed_time: 41.47s\n",
      "21995 loss:0.00058"
     ]
    },
    {
     "name": "stderr",
     "output_type": "stream",
     "text": [
      "INFO:absl: \n",
      "\t\t NumberOfEpisodes = 1024\n",
      "\t\t EnvironmentSteps = 178156\n",
      "\t\t AverageReturn = 4.900000095367432\n",
      "\t\t AverageEpisodeLength = 285.70001220703125\n"
     ]
    },
    {
     "name": "stdout",
     "output_type": "stream",
     "text": [
      "22000 loss:0.00014\n",
      "elapsed_time: 41.65s\n",
      "22996 loss:0.00063"
     ]
    },
    {
     "name": "stderr",
     "output_type": "stream",
     "text": [
      "INFO:absl: \n",
      "\t\t NumberOfEpisodes = 1041\n",
      "\t\t EnvironmentSteps = 182156\n",
      "\t\t AverageReturn = 3.5\n",
      "\t\t AverageEpisodeLength = 244.89999389648438\n"
     ]
    },
    {
     "name": "stdout",
     "output_type": "stream",
     "text": [
      "23000 loss:0.00083\n",
      "elapsed_time: 41.67s\n",
      "23998 loss:0.00129"
     ]
    },
    {
     "name": "stderr",
     "output_type": "stream",
     "text": [
      "INFO:absl: \n",
      "\t\t NumberOfEpisodes = 1060\n",
      "\t\t EnvironmentSteps = 186156\n",
      "\t\t AverageReturn = 2.700000047683716\n",
      "\t\t AverageEpisodeLength = 215.1999969482422\n"
     ]
    },
    {
     "name": "stdout",
     "output_type": "stream",
     "text": [
      "24000 loss:0.00032\n",
      "elapsed_time: 41.37s\n",
      "24998 loss:0.00085"
     ]
    },
    {
     "name": "stderr",
     "output_type": "stream",
     "text": [
      "INFO:absl: \n",
      "\t\t NumberOfEpisodes = 1077\n",
      "\t\t EnvironmentSteps = 190156\n",
      "\t\t AverageReturn = 2.299999952316284\n",
      "\t\t AverageEpisodeLength = 205.0\n"
     ]
    },
    {
     "name": "stdout",
     "output_type": "stream",
     "text": [
      "25000 loss:0.00059\n",
      "elapsed_time: 41.36s\n",
      "25999 loss:0.00046"
     ]
    },
    {
     "name": "stderr",
     "output_type": "stream",
     "text": [
      "INFO:absl: \n",
      "\t\t NumberOfEpisodes = 1093\n",
      "\t\t EnvironmentSteps = 194156\n",
      "\t\t AverageReturn = 4.099999904632568\n",
      "\t\t AverageEpisodeLength = 254.0\n"
     ]
    },
    {
     "name": "stdout",
     "output_type": "stream",
     "text": [
      "26000 loss:0.00043\n",
      "elapsed_time: 41.32s\n",
      "26999 loss:0.00033"
     ]
    },
    {
     "name": "stderr",
     "output_type": "stream",
     "text": [
      "INFO:absl: \n",
      "\t\t NumberOfEpisodes = 1109\n",
      "\t\t EnvironmentSteps = 198156\n",
      "\t\t AverageReturn = 2.9000000953674316\n",
      "\t\t AverageEpisodeLength = 217.6999969482422\n"
     ]
    },
    {
     "name": "stdout",
     "output_type": "stream",
     "text": [
      "27000 loss:0.00230\n",
      "elapsed_time: 41.37s\n",
      "27995 loss:0.00023"
     ]
    },
    {
     "name": "stderr",
     "output_type": "stream",
     "text": [
      "INFO:absl: \n",
      "\t\t NumberOfEpisodes = 1126\n",
      "\t\t EnvironmentSteps = 202156\n",
      "\t\t AverageReturn = 3.4000000953674316\n",
      "\t\t AverageEpisodeLength = 233.0\n"
     ]
    },
    {
     "name": "stdout",
     "output_type": "stream",
     "text": [
      "28000 loss:0.00145\n",
      "elapsed_time: 41.82s\n",
      "28995 loss:0.00090"
     ]
    },
    {
     "name": "stderr",
     "output_type": "stream",
     "text": [
      "INFO:absl: \n",
      "\t\t NumberOfEpisodes = 1141\n",
      "\t\t EnvironmentSteps = 206156\n",
      "\t\t AverageReturn = 4.800000190734863\n",
      "\t\t AverageEpisodeLength = 250.39999389648438\n"
     ]
    },
    {
     "name": "stdout",
     "output_type": "stream",
     "text": [
      "29000 loss:0.00048\n",
      "elapsed_time: 41.31s\n",
      "29997 loss:0.00050"
     ]
    },
    {
     "name": "stderr",
     "output_type": "stream",
     "text": [
      "INFO:absl: \n",
      "\t\t NumberOfEpisodes = 1155\n",
      "\t\t EnvironmentSteps = 210156\n",
      "\t\t AverageReturn = 7.199999809265137\n",
      "\t\t AverageEpisodeLength = 306.79998779296875\n"
     ]
    },
    {
     "name": "stdout",
     "output_type": "stream",
     "text": [
      "30000 loss:0.00109\n",
      "elapsed_time: 41.25s\n",
      "30998 loss:0.00519"
     ]
    },
    {
     "name": "stderr",
     "output_type": "stream",
     "text": [
      "INFO:absl: \n",
      "\t\t NumberOfEpisodes = 1170\n",
      "\t\t EnvironmentSteps = 214156\n",
      "\t\t AverageReturn = 4.199999809265137\n",
      "\t\t AverageEpisodeLength = 262.5\n"
     ]
    },
    {
     "name": "stdout",
     "output_type": "stream",
     "text": [
      "31000 loss:0.00948\n",
      "elapsed_time: 41.42s\n",
      "31999 loss:0.00052"
     ]
    },
    {
     "name": "stderr",
     "output_type": "stream",
     "text": [
      "INFO:absl: \n",
      "\t\t NumberOfEpisodes = 1182\n",
      "\t\t EnvironmentSteps = 218156\n",
      "\t\t AverageReturn = 5.800000190734863\n",
      "\t\t AverageEpisodeLength = 291.20001220703125\n"
     ]
    },
    {
     "name": "stdout",
     "output_type": "stream",
     "text": [
      "32000 loss:0.00075\n",
      "elapsed_time: 41.64s\n",
      "32999 loss:0.00190"
     ]
    },
    {
     "name": "stderr",
     "output_type": "stream",
     "text": [
      "INFO:absl: \n",
      "\t\t NumberOfEpisodes = 1195\n",
      "\t\t EnvironmentSteps = 222156\n",
      "\t\t AverageReturn = 8.5\n",
      "\t\t AverageEpisodeLength = 310.29998779296875\n"
     ]
    },
    {
     "name": "stdout",
     "output_type": "stream",
     "text": [
      "33000 loss:0.00046\n",
      "elapsed_time: 41.34s\n",
      "33998 loss:0.00066"
     ]
    },
    {
     "name": "stderr",
     "output_type": "stream",
     "text": [
      "INFO:absl: \n",
      "\t\t NumberOfEpisodes = 1206\n",
      "\t\t EnvironmentSteps = 226156\n",
      "\t\t AverageReturn = 9.600000381469727\n",
      "\t\t AverageEpisodeLength = 370.20001220703125\n"
     ]
    },
    {
     "name": "stdout",
     "output_type": "stream",
     "text": [
      "34000 loss:0.00047\n",
      "elapsed_time: 41.25s\n",
      "34998 loss:0.00111"
     ]
    },
    {
     "name": "stderr",
     "output_type": "stream",
     "text": [
      "INFO:absl: \n",
      "\t\t NumberOfEpisodes = 1220\n",
      "\t\t EnvironmentSteps = 230156\n",
      "\t\t AverageReturn = 6.5\n",
      "\t\t AverageEpisodeLength = 279.79998779296875\n"
     ]
    },
    {
     "name": "stdout",
     "output_type": "stream",
     "text": [
      "35000 loss:0.00071\n",
      "elapsed_time: 41.29s\n",
      "35995 loss:0.00054"
     ]
    },
    {
     "name": "stderr",
     "output_type": "stream",
     "text": [
      "INFO:absl: \n",
      "\t\t NumberOfEpisodes = 1231\n",
      "\t\t EnvironmentSteps = 234156\n",
      "\t\t AverageReturn = 9.5\n",
      "\t\t AverageEpisodeLength = 350.70001220703125\n"
     ]
    },
    {
     "name": "stdout",
     "output_type": "stream",
     "text": [
      "36000 loss:0.00149\n",
      "elapsed_time: 41.92s\n",
      "36998 loss:0.00209"
     ]
    },
    {
     "name": "stderr",
     "output_type": "stream",
     "text": [
      "INFO:absl: \n",
      "\t\t NumberOfEpisodes = 1243\n",
      "\t\t EnvironmentSteps = 238156\n",
      "\t\t AverageReturn = 8.399999618530273\n",
      "\t\t AverageEpisodeLength = 336.3999938964844\n"
     ]
    },
    {
     "name": "stdout",
     "output_type": "stream",
     "text": [
      "37000 loss:0.00155\n",
      "elapsed_time: 40.90s\n",
      "37998 loss:0.00090"
     ]
    },
    {
     "name": "stderr",
     "output_type": "stream",
     "text": [
      "INFO:absl: \n",
      "\t\t NumberOfEpisodes = 1253\n",
      "\t\t EnvironmentSteps = 242156\n",
      "\t\t AverageReturn = 10.5\n",
      "\t\t AverageEpisodeLength = 378.79998779296875\n"
     ]
    },
    {
     "name": "stdout",
     "output_type": "stream",
     "text": [
      "38000 loss:0.00232\n",
      "elapsed_time: 41.32s\n",
      "38995 loss:0.00193"
     ]
    },
    {
     "name": "stderr",
     "output_type": "stream",
     "text": [
      "INFO:absl: \n",
      "\t\t NumberOfEpisodes = 1263\n",
      "\t\t EnvironmentSteps = 246156\n",
      "\t\t AverageReturn = 12.0\n",
      "\t\t AverageEpisodeLength = 427.5\n"
     ]
    },
    {
     "name": "stdout",
     "output_type": "stream",
     "text": [
      "39000 loss:0.00132\n",
      "elapsed_time: 41.36s\n",
      "39995 loss:0.00051"
     ]
    },
    {
     "name": "stderr",
     "output_type": "stream",
     "text": [
      "INFO:absl: \n",
      "\t\t NumberOfEpisodes = 1272\n",
      "\t\t EnvironmentSteps = 250156\n",
      "\t\t AverageReturn = 11.699999809265137\n",
      "\t\t AverageEpisodeLength = 421.20001220703125\n"
     ]
    },
    {
     "name": "stdout",
     "output_type": "stream",
     "text": [
      "40000 loss:0.00162\n",
      "elapsed_time: 41.37s\n",
      "40996 loss:0.00097"
     ]
    },
    {
     "name": "stderr",
     "output_type": "stream",
     "text": [
      "INFO:absl: \n",
      "\t\t NumberOfEpisodes = 1282\n",
      "\t\t EnvironmentSteps = 254156\n",
      "\t\t AverageReturn = 11.5\n",
      "\t\t AverageEpisodeLength = 413.70001220703125\n"
     ]
    },
    {
     "name": "stdout",
     "output_type": "stream",
     "text": [
      "41000 loss:0.00140\n",
      "elapsed_time: 41.40s\n",
      "41996 loss:0.00048"
     ]
    },
    {
     "name": "stderr",
     "output_type": "stream",
     "text": [
      "INFO:absl: \n",
      "\t\t NumberOfEpisodes = 1291\n",
      "\t\t EnvironmentSteps = 258156\n",
      "\t\t AverageReturn = 11.800000190734863\n",
      "\t\t AverageEpisodeLength = 458.0\n"
     ]
    },
    {
     "name": "stdout",
     "output_type": "stream",
     "text": [
      "42000 loss:0.00084\n",
      "elapsed_time: 41.28s\n",
      "42996 loss:0.00592"
     ]
    },
    {
     "name": "stderr",
     "output_type": "stream",
     "text": [
      "INFO:absl: \n",
      "\t\t NumberOfEpisodes = 1299\n",
      "\t\t EnvironmentSteps = 262156\n",
      "\t\t AverageReturn = 11.699999809265137\n",
      "\t\t AverageEpisodeLength = 485.1000061035156\n"
     ]
    },
    {
     "name": "stdout",
     "output_type": "stream",
     "text": [
      "43000 loss:0.00258\n",
      "elapsed_time: 41.24s\n",
      "43996 loss:0.00691"
     ]
    },
    {
     "name": "stderr",
     "output_type": "stream",
     "text": [
      "INFO:absl: \n",
      "\t\t NumberOfEpisodes = 1306\n",
      "\t\t EnvironmentSteps = 266156\n",
      "\t\t AverageReturn = 14.600000381469727\n",
      "\t\t AverageEpisodeLength = 548.0999755859375\n"
     ]
    },
    {
     "name": "stdout",
     "output_type": "stream",
     "text": [
      "44000 loss:0.00118\n",
      "elapsed_time: 41.23s\n",
      "44996 loss:0.00557"
     ]
    },
    {
     "name": "stderr",
     "output_type": "stream",
     "text": [
      "INFO:absl: \n",
      "\t\t NumberOfEpisodes = 1312\n",
      "\t\t EnvironmentSteps = 270156\n",
      "\t\t AverageReturn = 19.5\n",
      "\t\t AverageEpisodeLength = 663.9000244140625\n"
     ]
    },
    {
     "name": "stdout",
     "output_type": "stream",
     "text": [
      "45000 loss:0.00615\n",
      "elapsed_time: 41.24s\n",
      "45996 loss:0.00394"
     ]
    },
    {
     "name": "stderr",
     "output_type": "stream",
     "text": [
      "INFO:absl: \n",
      "\t\t NumberOfEpisodes = 1318\n",
      "\t\t EnvironmentSteps = 274156\n",
      "\t\t AverageReturn = 17.799999237060547\n",
      "\t\t AverageEpisodeLength = 614.0999755859375\n"
     ]
    },
    {
     "name": "stdout",
     "output_type": "stream",
     "text": [
      "46000 loss:0.00118\n",
      "elapsed_time: 41.32s\n",
      "46997 loss:0.00315"
     ]
    },
    {
     "name": "stderr",
     "output_type": "stream",
     "text": [
      "INFO:absl: \n",
      "\t\t NumberOfEpisodes = 1325\n",
      "\t\t EnvironmentSteps = 278156\n",
      "\t\t AverageReturn = 16.799999237060547\n",
      "\t\t AverageEpisodeLength = 589.7999877929688\n"
     ]
    },
    {
     "name": "stdout",
     "output_type": "stream",
     "text": [
      "47000 loss:0.00197\n",
      "elapsed_time: 41.54s\n",
      "47996 loss:0.00966"
     ]
    },
    {
     "name": "stderr",
     "output_type": "stream",
     "text": [
      "INFO:absl: \n",
      "\t\t NumberOfEpisodes = 1332\n",
      "\t\t EnvironmentSteps = 282156\n",
      "\t\t AverageReturn = 17.5\n",
      "\t\t AverageEpisodeLength = 596.0\n"
     ]
    },
    {
     "name": "stdout",
     "output_type": "stream",
     "text": [
      "48000 loss:0.00363\n",
      "elapsed_time: 41.08s\n",
      "48997 loss:0.00426"
     ]
    },
    {
     "name": "stderr",
     "output_type": "stream",
     "text": [
      "INFO:absl: \n",
      "\t\t NumberOfEpisodes = 1339\n",
      "\t\t EnvironmentSteps = 286156\n",
      "\t\t AverageReturn = 15.800000190734863\n",
      "\t\t AverageEpisodeLength = 552.0999755859375\n"
     ]
    },
    {
     "name": "stdout",
     "output_type": "stream",
     "text": [
      "49000 loss:0.00247\n",
      "elapsed_time: 41.28s\n",
      "49998 loss:0.00640"
     ]
    },
    {
     "name": "stderr",
     "output_type": "stream",
     "text": [
      "INFO:absl: \n",
      "\t\t NumberOfEpisodes = 1346\n",
      "\t\t EnvironmentSteps = 290156\n",
      "\t\t AverageReturn = 18.899999618530273\n",
      "\t\t AverageEpisodeLength = 549.4000244140625\n"
     ]
    },
    {
     "name": "stdout",
     "output_type": "stream",
     "text": [
      "50000 loss:0.00388\n",
      "elapsed_time: 41.61s\n",
      "50999 loss:0.00597"
     ]
    },
    {
     "name": "stderr",
     "output_type": "stream",
     "text": [
      "INFO:absl: \n",
      "\t\t NumberOfEpisodes = 1353\n",
      "\t\t EnvironmentSteps = 294156\n",
      "\t\t AverageReturn = 18.899999618530273\n",
      "\t\t AverageEpisodeLength = 596.2999877929688\n"
     ]
    },
    {
     "name": "stdout",
     "output_type": "stream",
     "text": [
      "51000 loss:0.00261\n",
      "elapsed_time: 41.32s\n",
      "51995 loss:0.00168"
     ]
    },
    {
     "name": "stderr",
     "output_type": "stream",
     "text": [
      "INFO:absl: \n",
      "\t\t NumberOfEpisodes = 1360\n",
      "\t\t EnvironmentSteps = 298156\n",
      "\t\t AverageReturn = 17.700000762939453\n",
      "\t\t AverageEpisodeLength = 598.5999755859375\n"
     ]
    },
    {
     "name": "stdout",
     "output_type": "stream",
     "text": [
      "52000 loss:0.01103\n",
      "elapsed_time: 41.37s\n",
      "52996 loss:0.00208"
     ]
    },
    {
     "name": "stderr",
     "output_type": "stream",
     "text": [
      "INFO:absl: \n",
      "\t\t NumberOfEpisodes = 1366\n",
      "\t\t EnvironmentSteps = 302156\n",
      "\t\t AverageReturn = 17.799999237060547\n",
      "\t\t AverageEpisodeLength = 634.4000244140625\n"
     ]
    },
    {
     "name": "stdout",
     "output_type": "stream",
     "text": [
      "53000 loss:0.00395\n",
      "elapsed_time: 41.30s\n",
      "53997 loss:0.00545"
     ]
    },
    {
     "name": "stderr",
     "output_type": "stream",
     "text": [
      "INFO:absl: \n",
      "\t\t NumberOfEpisodes = 1372\n",
      "\t\t EnvironmentSteps = 306156\n",
      "\t\t AverageReturn = 17.0\n",
      "\t\t AverageEpisodeLength = 649.0999755859375\n"
     ]
    },
    {
     "name": "stdout",
     "output_type": "stream",
     "text": [
      "54000 loss:0.00809\n",
      "elapsed_time: 41.29s\n",
      "54997 loss:0.00386"
     ]
    },
    {
     "name": "stderr",
     "output_type": "stream",
     "text": [
      "INFO:absl: \n",
      "\t\t NumberOfEpisodes = 1378\n",
      "\t\t EnvironmentSteps = 310156\n",
      "\t\t AverageReturn = 20.0\n",
      "\t\t AverageEpisodeLength = 676.2000122070312\n"
     ]
    },
    {
     "name": "stdout",
     "output_type": "stream",
     "text": [
      "55000 loss:0.00119\n",
      "elapsed_time: 41.29s\n",
      "55997 loss:0.00194"
     ]
    },
    {
     "name": "stderr",
     "output_type": "stream",
     "text": [
      "INFO:absl: \n",
      "\t\t NumberOfEpisodes = 1385\n",
      "\t\t EnvironmentSteps = 314156\n",
      "\t\t AverageReturn = 17.200000762939453\n",
      "\t\t AverageEpisodeLength = 614.2999877929688\n"
     ]
    },
    {
     "name": "stdout",
     "output_type": "stream",
     "text": [
      "56000 loss:0.00524\n",
      "elapsed_time: 41.30s\n",
      "56997 loss:0.00182"
     ]
    },
    {
     "name": "stderr",
     "output_type": "stream",
     "text": [
      "INFO:absl: \n",
      "\t\t NumberOfEpisodes = 1392\n",
      "\t\t EnvironmentSteps = 318156\n",
      "\t\t AverageReturn = 15.800000190734863\n",
      "\t\t AverageEpisodeLength = 595.0999755859375\n"
     ]
    },
    {
     "name": "stdout",
     "output_type": "stream",
     "text": [
      "57000 loss:0.00475\n",
      "elapsed_time: 41.59s\n",
      "57998 loss:0.00182"
     ]
    },
    {
     "name": "stderr",
     "output_type": "stream",
     "text": [
      "INFO:absl: \n",
      "\t\t NumberOfEpisodes = 1399\n",
      "\t\t EnvironmentSteps = 322156\n",
      "\t\t AverageReturn = 17.399999618530273\n",
      "\t\t AverageEpisodeLength = 586.5999755859375\n"
     ]
    },
    {
     "name": "stdout",
     "output_type": "stream",
     "text": [
      "58000 loss:0.00535\n",
      "elapsed_time: 41.57s\n",
      "58998 loss:0.00393"
     ]
    },
    {
     "name": "stderr",
     "output_type": "stream",
     "text": [
      "INFO:absl: \n",
      "\t\t NumberOfEpisodes = 1405\n",
      "\t\t EnvironmentSteps = 326156\n",
      "\t\t AverageReturn = 18.0\n",
      "\t\t AverageEpisodeLength = 604.9000244140625\n"
     ]
    },
    {
     "name": "stdout",
     "output_type": "stream",
     "text": [
      "59000 loss:0.00200\n",
      "elapsed_time: 41.32s\n",
      "59995 loss:0.00154"
     ]
    },
    {
     "name": "stderr",
     "output_type": "stream",
     "text": [
      "INFO:absl: \n",
      "\t\t NumberOfEpisodes = 1411\n",
      "\t\t EnvironmentSteps = 330156\n",
      "\t\t AverageReturn = 18.0\n",
      "\t\t AverageEpisodeLength = 597.0999755859375\n"
     ]
    },
    {
     "name": "stdout",
     "output_type": "stream",
     "text": [
      "60000 loss:0.00391\n",
      "elapsed_time: 41.31s\n",
      "60995 loss:0.00506"
     ]
    },
    {
     "name": "stderr",
     "output_type": "stream",
     "text": [
      "INFO:absl: \n",
      "\t\t NumberOfEpisodes = 1418\n",
      "\t\t EnvironmentSteps = 334156\n",
      "\t\t AverageReturn = 20.399999618530273\n",
      "\t\t AverageEpisodeLength = 641.5999755859375\n"
     ]
    },
    {
     "name": "stdout",
     "output_type": "stream",
     "text": [
      "61000 loss:0.00146\n",
      "elapsed_time: 41.37s\n",
      "61996 loss:0.00543"
     ]
    },
    {
     "name": "stderr",
     "output_type": "stream",
     "text": [
      "INFO:absl: \n",
      "\t\t NumberOfEpisodes = 1424\n",
      "\t\t EnvironmentSteps = 338156\n",
      "\t\t AverageReturn = 19.299999237060547\n",
      "\t\t AverageEpisodeLength = 611.2999877929688\n"
     ]
    },
    {
     "name": "stdout",
     "output_type": "stream",
     "text": [
      "62000 loss:0.00563\n",
      "elapsed_time: 41.48s\n",
      "62999 loss:0.00125"
     ]
    },
    {
     "name": "stderr",
     "output_type": "stream",
     "text": [
      "INFO:absl: \n",
      "\t\t NumberOfEpisodes = 1430\n",
      "\t\t EnvironmentSteps = 342156\n",
      "\t\t AverageReturn = 19.0\n",
      "\t\t AverageEpisodeLength = 605.9000244140625\n"
     ]
    },
    {
     "name": "stdout",
     "output_type": "stream",
     "text": [
      "63000 loss:0.00250\n",
      "elapsed_time: 41.31s\n",
      "63999 loss:0.00547"
     ]
    },
    {
     "name": "stderr",
     "output_type": "stream",
     "text": [
      "INFO:absl: \n",
      "\t\t NumberOfEpisodes = 1436\n",
      "\t\t EnvironmentSteps = 346156\n",
      "\t\t AverageReturn = 19.0\n",
      "\t\t AverageEpisodeLength = 639.0\n"
     ]
    },
    {
     "name": "stdout",
     "output_type": "stream",
     "text": [
      "64000 loss:0.01057\n",
      "elapsed_time: 41.60s\n",
      "64995 loss:0.00477"
     ]
    },
    {
     "name": "stderr",
     "output_type": "stream",
     "text": [
      "INFO:absl: \n",
      "\t\t NumberOfEpisodes = 1442\n",
      "\t\t EnvironmentSteps = 350156\n",
      "\t\t AverageReturn = 19.600000381469727\n",
      "\t\t AverageEpisodeLength = 682.4000244140625\n"
     ]
    },
    {
     "name": "stdout",
     "output_type": "stream",
     "text": [
      "65000 loss:0.00341\n",
      "elapsed_time: 40.99s\n",
      "65996 loss:0.00149"
     ]
    },
    {
     "name": "stderr",
     "output_type": "stream",
     "text": [
      "INFO:absl: \n",
      "\t\t NumberOfEpisodes = 1448\n",
      "\t\t EnvironmentSteps = 354156\n",
      "\t\t AverageReturn = 19.700000762939453\n",
      "\t\t AverageEpisodeLength = 665.2999877929688\n"
     ]
    },
    {
     "name": "stdout",
     "output_type": "stream",
     "text": [
      "66000 loss:0.00213\n",
      "elapsed_time: 41.36s\n",
      "66996 loss:0.00229"
     ]
    },
    {
     "name": "stderr",
     "output_type": "stream",
     "text": [
      "INFO:absl: \n",
      "\t\t NumberOfEpisodes = 1455\n",
      "\t\t EnvironmentSteps = 358156\n",
      "\t\t AverageReturn = 18.100000381469727\n",
      "\t\t AverageEpisodeLength = 636.2000122070312\n"
     ]
    },
    {
     "name": "stdout",
     "output_type": "stream",
     "text": [
      "67000 loss:0.00125\n",
      "elapsed_time: 41.36s\n",
      "67996 loss:0.00074"
     ]
    },
    {
     "name": "stderr",
     "output_type": "stream",
     "text": [
      "INFO:absl: \n",
      "\t\t NumberOfEpisodes = 1463\n",
      "\t\t EnvironmentSteps = 362156\n",
      "\t\t AverageReturn = 18.100000381469727\n",
      "\t\t AverageEpisodeLength = 530.4000244140625\n"
     ]
    },
    {
     "name": "stdout",
     "output_type": "stream",
     "text": [
      "68000 loss:0.00137\n",
      "elapsed_time: 41.75s\n",
      "68997 loss:0.00121"
     ]
    },
    {
     "name": "stderr",
     "output_type": "stream",
     "text": [
      "INFO:absl: \n",
      "\t\t NumberOfEpisodes = 1471\n",
      "\t\t EnvironmentSteps = 366156\n",
      "\t\t AverageReturn = 15.0\n",
      "\t\t AverageEpisodeLength = 452.70001220703125\n"
     ]
    },
    {
     "name": "stdout",
     "output_type": "stream",
     "text": [
      "69000 loss:0.00171\n",
      "elapsed_time: 41.36s\n",
      "69997 loss:0.00169"
     ]
    },
    {
     "name": "stderr",
     "output_type": "stream",
     "text": [
      "INFO:absl: \n",
      "\t\t NumberOfEpisodes = 1478\n",
      "\t\t EnvironmentSteps = 370156\n",
      "\t\t AverageReturn = 17.399999618530273\n",
      "\t\t AverageEpisodeLength = 533.9000244140625\n"
     ]
    },
    {
     "name": "stdout",
     "output_type": "stream",
     "text": [
      "70000 loss:0.00219\n",
      "elapsed_time: 41.62s\n",
      "70997 loss:0.00155"
     ]
    },
    {
     "name": "stderr",
     "output_type": "stream",
     "text": [
      "INFO:absl: \n",
      "\t\t NumberOfEpisodes = 1486\n",
      "\t\t EnvironmentSteps = 374156\n",
      "\t\t AverageReturn = 17.399999618530273\n",
      "\t\t AverageEpisodeLength = 542.0\n"
     ]
    },
    {
     "name": "stdout",
     "output_type": "stream",
     "text": [
      "71000 loss:0.00276\n",
      "elapsed_time: 41.31s\n",
      "71998 loss:0.00961"
     ]
    },
    {
     "name": "stderr",
     "output_type": "stream",
     "text": [
      "INFO:absl: \n",
      "\t\t NumberOfEpisodes = 1494\n",
      "\t\t EnvironmentSteps = 378156\n",
      "\t\t AverageReturn = 17.700000762939453\n",
      "\t\t AverageEpisodeLength = 505.20001220703125\n"
     ]
    },
    {
     "name": "stdout",
     "output_type": "stream",
     "text": [
      "72000 loss:0.00126\n",
      "elapsed_time: 41.32s\n",
      "72999 loss:0.00094"
     ]
    },
    {
     "name": "stderr",
     "output_type": "stream",
     "text": [
      "INFO:absl: \n",
      "\t\t NumberOfEpisodes = 1502\n",
      "\t\t EnvironmentSteps = 382156\n",
      "\t\t AverageReturn = 18.0\n",
      "\t\t AverageEpisodeLength = 489.79998779296875\n"
     ]
    },
    {
     "name": "stdout",
     "output_type": "stream",
     "text": [
      "73000 loss:0.00447\n",
      "elapsed_time: 41.36s\n",
      "73999 loss:0.00482"
     ]
    },
    {
     "name": "stderr",
     "output_type": "stream",
     "text": [
      "INFO:absl: \n",
      "\t\t NumberOfEpisodes = 1511\n",
      "\t\t EnvironmentSteps = 386156\n",
      "\t\t AverageReturn = 14.600000381469727\n",
      "\t\t AverageEpisodeLength = 461.3999938964844\n"
     ]
    },
    {
     "name": "stdout",
     "output_type": "stream",
     "text": [
      "74000 loss:0.00243\n",
      "elapsed_time: 41.64s\n",
      "74999 loss:0.00292"
     ]
    },
    {
     "name": "stderr",
     "output_type": "stream",
     "text": [
      "INFO:absl: \n",
      "\t\t NumberOfEpisodes = 1520\n",
      "\t\t EnvironmentSteps = 390156\n",
      "\t\t AverageReturn = 16.5\n",
      "\t\t AverageEpisodeLength = 476.0\n"
     ]
    },
    {
     "name": "stdout",
     "output_type": "stream",
     "text": [
      "75000 loss:0.01459\n",
      "elapsed_time: 41.38s\n",
      "75995 loss:0.00536"
     ]
    },
    {
     "name": "stderr",
     "output_type": "stream",
     "text": [
      "INFO:absl: \n",
      "\t\t NumberOfEpisodes = 1527\n",
      "\t\t EnvironmentSteps = 394156\n",
      "\t\t AverageReturn = 15.800000190734863\n",
      "\t\t AverageEpisodeLength = 538.4000244140625\n"
     ]
    },
    {
     "name": "stdout",
     "output_type": "stream",
     "text": [
      "76000 loss:0.00727\n",
      "elapsed_time: 41.31s\n",
      "76996 loss:0.00228"
     ]
    },
    {
     "name": "stderr",
     "output_type": "stream",
     "text": [
      "INFO:absl: \n",
      "\t\t NumberOfEpisodes = 1535\n",
      "\t\t EnvironmentSteps = 398156\n",
      "\t\t AverageReturn = 12.0\n",
      "\t\t AverageEpisodeLength = 508.79998779296875\n"
     ]
    },
    {
     "name": "stdout",
     "output_type": "stream",
     "text": [
      "77000 loss:0.00105\n",
      "elapsed_time: 41.85s\n",
      "77999 loss:0.00079"
     ]
    },
    {
     "name": "stderr",
     "output_type": "stream",
     "text": [
      "INFO:absl: \n",
      "\t\t NumberOfEpisodes = 1544\n",
      "\t\t EnvironmentSteps = 402156\n",
      "\t\t AverageReturn = 14.600000381469727\n",
      "\t\t AverageEpisodeLength = 455.6000061035156\n"
     ]
    },
    {
     "name": "stdout",
     "output_type": "stream",
     "text": [
      "78000 loss:0.00168\n",
      "elapsed_time: 40.90s\n",
      "78999 loss:0.00489"
     ]
    },
    {
     "name": "stderr",
     "output_type": "stream",
     "text": [
      "INFO:absl: \n",
      "\t\t NumberOfEpisodes = 1553\n",
      "\t\t EnvironmentSteps = 406156\n",
      "\t\t AverageReturn = 16.100000381469727\n",
      "\t\t AverageEpisodeLength = 437.3999938964844\n"
     ]
    },
    {
     "name": "stdout",
     "output_type": "stream",
     "text": [
      "79000 loss:0.00316\n",
      "elapsed_time: 41.33s\n",
      "79999 loss:0.00264"
     ]
    },
    {
     "name": "stderr",
     "output_type": "stream",
     "text": [
      "INFO:absl: \n",
      "\t\t NumberOfEpisodes = 1563\n",
      "\t\t EnvironmentSteps = 410156\n",
      "\t\t AverageReturn = 14.100000381469727\n",
      "\t\t AverageEpisodeLength = 414.29998779296875\n"
     ]
    },
    {
     "name": "stdout",
     "output_type": "stream",
     "text": [
      "80000 loss:0.00128\n",
      "elapsed_time: 41.30s\n",
      "80995 loss:0.00493"
     ]
    },
    {
     "name": "stderr",
     "output_type": "stream",
     "text": [
      "INFO:absl: \n",
      "\t\t NumberOfEpisodes = 1571\n",
      "\t\t EnvironmentSteps = 414156\n",
      "\t\t AverageReturn = 15.300000190734863\n",
      "\t\t AverageEpisodeLength = 462.29998779296875\n"
     ]
    },
    {
     "name": "stdout",
     "output_type": "stream",
     "text": [
      "81000 loss:0.00114\n",
      "elapsed_time: 41.30s\n",
      "81995 loss:0.00339"
     ]
    },
    {
     "name": "stderr",
     "output_type": "stream",
     "text": [
      "INFO:absl: \n",
      "\t\t NumberOfEpisodes = 1580\n",
      "\t\t EnvironmentSteps = 418156\n",
      "\t\t AverageReturn = 15.399999618530273\n",
      "\t\t AverageEpisodeLength = 460.29998779296875\n"
     ]
    },
    {
     "name": "stdout",
     "output_type": "stream",
     "text": [
      "82000 loss:0.00095\n",
      "elapsed_time: 41.45s\n",
      "82995 loss:0.00099"
     ]
    },
    {
     "name": "stderr",
     "output_type": "stream",
     "text": [
      "INFO:absl: \n",
      "\t\t NumberOfEpisodes = 1588\n",
      "\t\t EnvironmentSteps = 422156\n",
      "\t\t AverageReturn = 17.299999237060547\n",
      "\t\t AverageEpisodeLength = 477.5\n"
     ]
    },
    {
     "name": "stdout",
     "output_type": "stream",
     "text": [
      "83000 loss:0.00143\n",
      "elapsed_time: 41.42s\n",
      "83995 loss:0.00171"
     ]
    },
    {
     "name": "stderr",
     "output_type": "stream",
     "text": [
      "INFO:absl: \n",
      "\t\t NumberOfEpisodes = 1597\n",
      "\t\t EnvironmentSteps = 426156\n",
      "\t\t AverageReturn = 17.100000381469727\n",
      "\t\t AverageEpisodeLength = 478.1000061035156\n"
     ]
    },
    {
     "name": "stdout",
     "output_type": "stream",
     "text": [
      "84000 loss:0.00140\n",
      "elapsed_time: 41.01s\n",
      "84996 loss:0.00149"
     ]
    },
    {
     "name": "stderr",
     "output_type": "stream",
     "text": [
      "INFO:absl: \n",
      "\t\t NumberOfEpisodes = 1605\n",
      "\t\t EnvironmentSteps = 430156\n",
      "\t\t AverageReturn = 17.299999237060547\n",
      "\t\t AverageEpisodeLength = 478.5\n"
     ]
    },
    {
     "name": "stdout",
     "output_type": "stream",
     "text": [
      "85000 loss:0.00207\n",
      "elapsed_time: 41.36s\n",
      "85996 loss:0.03618"
     ]
    },
    {
     "name": "stderr",
     "output_type": "stream",
     "text": [
      "INFO:absl: \n",
      "\t\t NumberOfEpisodes = 1613\n",
      "\t\t EnvironmentSteps = 434156\n",
      "\t\t AverageReturn = 18.200000762939453\n",
      "\t\t AverageEpisodeLength = 491.1000061035156\n"
     ]
    },
    {
     "name": "stdout",
     "output_type": "stream",
     "text": [
      "86000 loss:0.00336\n",
      "elapsed_time: 41.08s\n",
      "86996 loss:0.00477"
     ]
    },
    {
     "name": "stderr",
     "output_type": "stream",
     "text": [
      "INFO:absl: \n",
      "\t\t NumberOfEpisodes = 1622\n",
      "\t\t EnvironmentSteps = 438156\n",
      "\t\t AverageReturn = 16.600000381469727\n",
      "\t\t AverageEpisodeLength = 455.20001220703125\n"
     ]
    },
    {
     "name": "stdout",
     "output_type": "stream",
     "text": [
      "87000 loss:0.00173\n",
      "elapsed_time: 41.01s\n",
      "87998 loss:0.00206"
     ]
    },
    {
     "name": "stderr",
     "output_type": "stream",
     "text": [
      "INFO:absl: \n",
      "\t\t NumberOfEpisodes = 1630\n",
      "\t\t EnvironmentSteps = 442156\n",
      "\t\t AverageReturn = 17.600000381469727\n",
      "\t\t AverageEpisodeLength = 459.79998779296875\n"
     ]
    },
    {
     "name": "stdout",
     "output_type": "stream",
     "text": [
      "88000 loss:0.00217\n",
      "elapsed_time: 41.33s\n",
      "88995 loss:0.00537"
     ]
    },
    {
     "name": "stderr",
     "output_type": "stream",
     "text": [
      "INFO:absl: \n",
      "\t\t NumberOfEpisodes = 1638\n",
      "\t\t EnvironmentSteps = 446156\n",
      "\t\t AverageReturn = 19.0\n",
      "\t\t AverageEpisodeLength = 508.29998779296875\n"
     ]
    },
    {
     "name": "stdout",
     "output_type": "stream",
     "text": [
      "89000 loss:0.00096\n",
      "elapsed_time: 40.69s\n",
      "89995 loss:0.00348"
     ]
    },
    {
     "name": "stderr",
     "output_type": "stream",
     "text": [
      "INFO:absl: \n",
      "\t\t NumberOfEpisodes = 1647\n",
      "\t\t EnvironmentSteps = 450156\n",
      "\t\t AverageReturn = 16.899999618530273\n",
      "\t\t AverageEpisodeLength = 471.8999938964844\n"
     ]
    },
    {
     "name": "stdout",
     "output_type": "stream",
     "text": [
      "90000 loss:0.00236\n",
      "elapsed_time: 41.12s\n",
      "90995 loss:0.00191"
     ]
    },
    {
     "name": "stderr",
     "output_type": "stream",
     "text": [
      "INFO:absl: \n",
      "\t\t NumberOfEpisodes = 1655\n",
      "\t\t EnvironmentSteps = 454156\n",
      "\t\t AverageReturn = 16.5\n",
      "\t\t AverageEpisodeLength = 464.8999938964844\n"
     ]
    },
    {
     "name": "stdout",
     "output_type": "stream",
     "text": [
      "91000 loss:0.00139\n",
      "elapsed_time: 41.08s\n",
      "91995 loss:0.00262"
     ]
    },
    {
     "name": "stderr",
     "output_type": "stream",
     "text": [
      "INFO:absl: \n",
      "\t\t NumberOfEpisodes = 1663\n",
      "\t\t EnvironmentSteps = 458156\n",
      "\t\t AverageReturn = 17.700000762939453\n",
      "\t\t AverageEpisodeLength = 526.7000122070312\n"
     ]
    },
    {
     "name": "stdout",
     "output_type": "stream",
     "text": [
      "92000 loss:0.00235\n",
      "elapsed_time: 41.38s\n",
      "92998 loss:0.00248"
     ]
    },
    {
     "name": "stderr",
     "output_type": "stream",
     "text": [
      "INFO:absl: \n",
      "\t\t NumberOfEpisodes = 1671\n",
      "\t\t EnvironmentSteps = 462156\n",
      "\t\t AverageReturn = 19.5\n",
      "\t\t AverageEpisodeLength = 511.6000061035156\n"
     ]
    },
    {
     "name": "stdout",
     "output_type": "stream",
     "text": [
      "93000 loss:0.00589\n",
      "elapsed_time: 41.86s\n",
      "93995 loss:0.00181"
     ]
    },
    {
     "name": "stderr",
     "output_type": "stream",
     "text": [
      "INFO:absl: \n",
      "\t\t NumberOfEpisodes = 1678\n",
      "\t\t EnvironmentSteps = 466156\n",
      "\t\t AverageReturn = 19.399999618530273\n",
      "\t\t AverageEpisodeLength = 518.9000244140625\n"
     ]
    },
    {
     "name": "stdout",
     "output_type": "stream",
     "text": [
      "94000 loss:0.00344\n",
      "elapsed_time: 40.87s\n",
      "94996 loss:0.00119"
     ]
    },
    {
     "name": "stderr",
     "output_type": "stream",
     "text": [
      "INFO:absl: \n",
      "\t\t NumberOfEpisodes = 1686\n",
      "\t\t EnvironmentSteps = 470156\n",
      "\t\t AverageReturn = 19.0\n",
      "\t\t AverageEpisodeLength = 515.0\n"
     ]
    },
    {
     "name": "stdout",
     "output_type": "stream",
     "text": [
      "95000 loss:0.00943\n",
      "elapsed_time: 41.36s\n",
      "95996 loss:0.00152"
     ]
    },
    {
     "name": "stderr",
     "output_type": "stream",
     "text": [
      "INFO:absl: \n",
      "\t\t NumberOfEpisodes = 1693\n",
      "\t\t EnvironmentSteps = 474156\n",
      "\t\t AverageReturn = 19.100000381469727\n",
      "\t\t AverageEpisodeLength = 551.0\n"
     ]
    },
    {
     "name": "stdout",
     "output_type": "stream",
     "text": [
      "96000 loss:0.00685\n",
      "elapsed_time: 41.36s\n",
      "96996 loss:0.02750"
     ]
    },
    {
     "name": "stderr",
     "output_type": "stream",
     "text": [
      "INFO:absl: \n",
      "\t\t NumberOfEpisodes = 1700\n",
      "\t\t EnvironmentSteps = 478156\n",
      "\t\t AverageReturn = 20.600000381469727\n",
      "\t\t AverageEpisodeLength = 598.2000122070312\n"
     ]
    },
    {
     "name": "stdout",
     "output_type": "stream",
     "text": [
      "97000 loss:0.00066\n",
      "elapsed_time: 41.62s\n",
      "97997 loss:0.00352"
     ]
    },
    {
     "name": "stderr",
     "output_type": "stream",
     "text": [
      "INFO:absl: \n",
      "\t\t NumberOfEpisodes = 1707\n",
      "\t\t EnvironmentSteps = 482156\n",
      "\t\t AverageReturn = 18.100000381469727\n",
      "\t\t AverageEpisodeLength = 528.7999877929688\n"
     ]
    },
    {
     "name": "stdout",
     "output_type": "stream",
     "text": [
      "98000 loss:0.00211\n",
      "elapsed_time: 41.04s\n",
      "98997 loss:0.00191"
     ]
    },
    {
     "name": "stderr",
     "output_type": "stream",
     "text": [
      "INFO:absl: \n",
      "\t\t NumberOfEpisodes = 1714\n",
      "\t\t EnvironmentSteps = 486156\n",
      "\t\t AverageReturn = 19.600000381469727\n",
      "\t\t AverageEpisodeLength = 542.5\n"
     ]
    },
    {
     "name": "stdout",
     "output_type": "stream",
     "text": [
      "99000 loss:0.00574\n",
      "elapsed_time: 41.71s\n",
      "99997 loss:0.00167"
     ]
    },
    {
     "name": "stderr",
     "output_type": "stream",
     "text": [
      "INFO:absl: \n",
      "\t\t NumberOfEpisodes = 1721\n",
      "\t\t EnvironmentSteps = 490156\n",
      "\t\t AverageReturn = 20.200000762939453\n",
      "\t\t AverageEpisodeLength = 570.9000244140625\n"
     ]
    },
    {
     "name": "stdout",
     "output_type": "stream",
     "text": [
      "100000 loss:0.00147\n",
      "elapsed_time: 41.36s\n",
      "100997 loss:0.00176"
     ]
    },
    {
     "name": "stderr",
     "output_type": "stream",
     "text": [
      "INFO:absl: \n",
      "\t\t NumberOfEpisodes = 1728\n",
      "\t\t EnvironmentSteps = 494156\n",
      "\t\t AverageReturn = 20.100000381469727\n",
      "\t\t AverageEpisodeLength = 615.0999755859375\n"
     ]
    },
    {
     "name": "stdout",
     "output_type": "stream",
     "text": [
      "101000 loss:0.00295\n",
      "elapsed_time: 41.39s\n",
      "101999 loss:0.00268"
     ]
    },
    {
     "name": "stderr",
     "output_type": "stream",
     "text": [
      "INFO:absl: \n",
      "\t\t NumberOfEpisodes = 1735\n",
      "\t\t EnvironmentSteps = 498156\n",
      "\t\t AverageReturn = 21.700000762939453\n",
      "\t\t AverageEpisodeLength = 597.0\n"
     ]
    },
    {
     "name": "stdout",
     "output_type": "stream",
     "text": [
      "102000 loss:0.00227\n",
      "elapsed_time: 41.36s\n",
      "102996 loss:0.00143"
     ]
    },
    {
     "name": "stderr",
     "output_type": "stream",
     "text": [
      "INFO:absl: \n",
      "\t\t NumberOfEpisodes = 1742\n",
      "\t\t EnvironmentSteps = 502156\n",
      "\t\t AverageReturn = 20.0\n",
      "\t\t AverageEpisodeLength = 589.9000244140625\n"
     ]
    },
    {
     "name": "stdout",
     "output_type": "stream",
     "text": [
      "103000 loss:0.00476\n",
      "elapsed_time: 41.38s\n",
      "103996 loss:0.00839"
     ]
    },
    {
     "name": "stderr",
     "output_type": "stream",
     "text": [
      "INFO:absl: \n",
      "\t\t NumberOfEpisodes = 1750\n",
      "\t\t EnvironmentSteps = 506156\n",
      "\t\t AverageReturn = 19.200000762939453\n",
      "\t\t AverageEpisodeLength = 510.79998779296875\n"
     ]
    },
    {
     "name": "stdout",
     "output_type": "stream",
     "text": [
      "104000 loss:0.00296\n",
      "elapsed_time: 41.39s\n",
      "104997 loss:0.00210"
     ]
    },
    {
     "name": "stderr",
     "output_type": "stream",
     "text": [
      "INFO:absl: \n",
      "\t\t NumberOfEpisodes = 1757\n",
      "\t\t EnvironmentSteps = 510156\n",
      "\t\t AverageReturn = 20.0\n",
      "\t\t AverageEpisodeLength = 554.5999755859375\n"
     ]
    },
    {
     "name": "stdout",
     "output_type": "stream",
     "text": [
      "105000 loss:0.00137\n",
      "elapsed_time: 41.26s\n",
      "105997 loss:0.01582"
     ]
    },
    {
     "name": "stderr",
     "output_type": "stream",
     "text": [
      "INFO:absl: \n",
      "\t\t NumberOfEpisodes = 1764\n",
      "\t\t EnvironmentSteps = 514156\n",
      "\t\t AverageReturn = 20.899999618530273\n",
      "\t\t AverageEpisodeLength = 556.7999877929688\n"
     ]
    },
    {
     "name": "stdout",
     "output_type": "stream",
     "text": [
      "106000 loss:0.00158\n",
      "elapsed_time: 41.32s\n",
      "106997 loss:0.00194"
     ]
    },
    {
     "name": "stderr",
     "output_type": "stream",
     "text": [
      "INFO:absl: \n",
      "\t\t NumberOfEpisodes = 1770\n",
      "\t\t EnvironmentSteps = 518156\n",
      "\t\t AverageReturn = 22.299999237060547\n",
      "\t\t AverageEpisodeLength = 579.5\n"
     ]
    },
    {
     "name": "stdout",
     "output_type": "stream",
     "text": [
      "107000 loss:0.00356\n",
      "elapsed_time: 41.29s\n",
      "107998 loss:0.00190"
     ]
    },
    {
     "name": "stderr",
     "output_type": "stream",
     "text": [
      "INFO:absl: \n",
      "\t\t NumberOfEpisodes = 1778\n",
      "\t\t EnvironmentSteps = 522156\n",
      "\t\t AverageReturn = 20.799999237060547\n",
      "\t\t AverageEpisodeLength = 572.2999877929688\n"
     ]
    },
    {
     "name": "stdout",
     "output_type": "stream",
     "text": [
      "108000 loss:0.00285\n",
      "elapsed_time: 41.32s\n",
      "108998 loss:0.00153"
     ]
    },
    {
     "name": "stderr",
     "output_type": "stream",
     "text": [
      "INFO:absl: \n",
      "\t\t NumberOfEpisodes = 1783\n",
      "\t\t EnvironmentSteps = 526156\n",
      "\t\t AverageReturn = 21.700000762939453\n",
      "\t\t AverageEpisodeLength = 633.9000244140625\n"
     ]
    },
    {
     "name": "stdout",
     "output_type": "stream",
     "text": [
      "109000 loss:0.00111\n",
      "elapsed_time: 41.27s\n",
      "109998 loss:0.00535"
     ]
    },
    {
     "name": "stderr",
     "output_type": "stream",
     "text": [
      "INFO:absl: \n",
      "\t\t NumberOfEpisodes = 1789\n",
      "\t\t EnvironmentSteps = 530156\n",
      "\t\t AverageReturn = 24.299999237060547\n",
      "\t\t AverageEpisodeLength = 665.7000122070312\n"
     ]
    },
    {
     "name": "stdout",
     "output_type": "stream",
     "text": [
      "110000 loss:0.00235\n",
      "elapsed_time: 41.28s\n",
      "110995 loss:0.00283"
     ]
    },
    {
     "name": "stderr",
     "output_type": "stream",
     "text": [
      "INFO:absl: \n",
      "\t\t NumberOfEpisodes = 1796\n",
      "\t\t EnvironmentSteps = 534156\n",
      "\t\t AverageReturn = 21.399999618530273\n",
      "\t\t AverageEpisodeLength = 590.0999755859375\n"
     ]
    },
    {
     "name": "stdout",
     "output_type": "stream",
     "text": [
      "111000 loss:0.00551\n",
      "elapsed_time: 41.33s\n",
      "111995 loss:0.00060"
     ]
    },
    {
     "name": "stderr",
     "output_type": "stream",
     "text": [
      "INFO:absl: \n",
      "\t\t NumberOfEpisodes = 1802\n",
      "\t\t EnvironmentSteps = 538156\n",
      "\t\t AverageReturn = 21.600000381469727\n",
      "\t\t AverageEpisodeLength = 586.0\n"
     ]
    },
    {
     "name": "stdout",
     "output_type": "stream",
     "text": [
      "112000 loss:0.00161\n",
      "elapsed_time: 41.32s\n",
      "112996 loss:0.00153"
     ]
    },
    {
     "name": "stderr",
     "output_type": "stream",
     "text": [
      "INFO:absl: \n",
      "\t\t NumberOfEpisodes = 1809\n",
      "\t\t EnvironmentSteps = 542156\n",
      "\t\t AverageReturn = 22.700000762939453\n",
      "\t\t AverageEpisodeLength = 625.2000122070312\n"
     ]
    },
    {
     "name": "stdout",
     "output_type": "stream",
     "text": [
      "113000 loss:0.01548\n",
      "elapsed_time: 41.30s\n",
      "113997 loss:0.00259"
     ]
    },
    {
     "name": "stderr",
     "output_type": "stream",
     "text": [
      "INFO:absl: \n",
      "\t\t NumberOfEpisodes = 1816\n",
      "\t\t EnvironmentSteps = 546156\n",
      "\t\t AverageReturn = 23.399999618530273\n",
      "\t\t AverageEpisodeLength = 602.5\n"
     ]
    },
    {
     "name": "stdout",
     "output_type": "stream",
     "text": [
      "114000 loss:0.00587\n",
      "elapsed_time: 41.33s\n",
      "114995 loss:0.00209"
     ]
    },
    {
     "name": "stderr",
     "output_type": "stream",
     "text": [
      "INFO:absl: \n",
      "\t\t NumberOfEpisodes = 1823\n",
      "\t\t EnvironmentSteps = 550156\n",
      "\t\t AverageReturn = 23.299999237060547\n",
      "\t\t AverageEpisodeLength = 559.2999877929688\n"
     ]
    },
    {
     "name": "stdout",
     "output_type": "stream",
     "text": [
      "115000 loss:0.00475\n",
      "elapsed_time: 41.27s\n",
      "115996 loss:0.00228"
     ]
    },
    {
     "name": "stderr",
     "output_type": "stream",
     "text": [
      "INFO:absl: \n",
      "\t\t NumberOfEpisodes = 1831\n",
      "\t\t EnvironmentSteps = 554156\n",
      "\t\t AverageReturn = 19.700000762939453\n",
      "\t\t AverageEpisodeLength = 506.70001220703125\n"
     ]
    },
    {
     "name": "stdout",
     "output_type": "stream",
     "text": [
      "116000 loss:0.04713\n",
      "elapsed_time: 41.26s\n",
      "116997 loss:0.00393"
     ]
    },
    {
     "name": "stderr",
     "output_type": "stream",
     "text": [
      "INFO:absl: \n",
      "\t\t NumberOfEpisodes = 1837\n",
      "\t\t EnvironmentSteps = 558156\n",
      "\t\t AverageReturn = 20.299999237060547\n",
      "\t\t AverageEpisodeLength = 521.0\n"
     ]
    },
    {
     "name": "stdout",
     "output_type": "stream",
     "text": [
      "117000 loss:0.00243\n",
      "elapsed_time: 41.28s\n",
      "117998 loss:0.00738"
     ]
    },
    {
     "name": "stderr",
     "output_type": "stream",
     "text": [
      "INFO:absl: \n",
      "\t\t NumberOfEpisodes = 1844\n",
      "\t\t EnvironmentSteps = 562156\n",
      "\t\t AverageReturn = 20.899999618530273\n",
      "\t\t AverageEpisodeLength = 563.0\n"
     ]
    },
    {
     "name": "stdout",
     "output_type": "stream",
     "text": [
      "118000 loss:0.00388\n",
      "elapsed_time: 41.31s\n",
      "118999 loss:0.00646"
     ]
    },
    {
     "name": "stderr",
     "output_type": "stream",
     "text": [
      "INFO:absl: \n",
      "\t\t NumberOfEpisodes = 1851\n",
      "\t\t EnvironmentSteps = 566156\n",
      "\t\t AverageReturn = 22.100000381469727\n",
      "\t\t AverageEpisodeLength = 583.2000122070312\n"
     ]
    },
    {
     "name": "stdout",
     "output_type": "stream",
     "text": [
      "119000 loss:0.00364\n",
      "elapsed_time: 41.49s\n",
      "119999 loss:0.00624"
     ]
    },
    {
     "name": "stderr",
     "output_type": "stream",
     "text": [
      "INFO:absl: \n",
      "\t\t NumberOfEpisodes = 1859\n",
      "\t\t EnvironmentSteps = 570156\n",
      "\t\t AverageReturn = 22.700000762939453\n",
      "\t\t AverageEpisodeLength = 577.5999755859375\n"
     ]
    },
    {
     "name": "stdout",
     "output_type": "stream",
     "text": [
      "120000 loss:0.00521\n",
      "elapsed_time: 41.32s\n",
      "120999 loss:0.00157"
     ]
    },
    {
     "name": "stderr",
     "output_type": "stream",
     "text": [
      "INFO:absl: \n",
      "\t\t NumberOfEpisodes = 1866\n",
      "\t\t EnvironmentSteps = 574156\n",
      "\t\t AverageReturn = 22.5\n",
      "\t\t AverageEpisodeLength = 561.4000244140625\n"
     ]
    },
    {
     "name": "stdout",
     "output_type": "stream",
     "text": [
      "121000 loss:0.00520\n",
      "elapsed_time: 41.56s\n",
      "121998 loss:0.00278"
     ]
    },
    {
     "name": "stderr",
     "output_type": "stream",
     "text": [
      "INFO:absl: \n",
      "\t\t NumberOfEpisodes = 1871\n",
      "\t\t EnvironmentSteps = 578156\n",
      "\t\t AverageReturn = 25.399999618530273\n",
      "\t\t AverageEpisodeLength = 668.0999755859375\n"
     ]
    },
    {
     "name": "stdout",
     "output_type": "stream",
     "text": [
      "122000 loss:0.01376\n",
      "elapsed_time: 41.15s\n",
      "122998 loss:0.00426"
     ]
    },
    {
     "name": "stderr",
     "output_type": "stream",
     "text": [
      "INFO:absl: \n",
      "\t\t NumberOfEpisodes = 1879\n",
      "\t\t EnvironmentSteps = 582156\n",
      "\t\t AverageReturn = 22.600000381469727\n",
      "\t\t AverageEpisodeLength = 591.2000122070312\n"
     ]
    },
    {
     "name": "stdout",
     "output_type": "stream",
     "text": [
      "123000 loss:0.00654\n",
      "elapsed_time: 41.26s\n",
      "123998 loss:0.00285"
     ]
    },
    {
     "name": "stderr",
     "output_type": "stream",
     "text": [
      "INFO:absl: \n",
      "\t\t NumberOfEpisodes = 1886\n",
      "\t\t EnvironmentSteps = 586156\n",
      "\t\t AverageReturn = 19.799999237060547\n",
      "\t\t AverageEpisodeLength = 560.4000244140625\n"
     ]
    },
    {
     "name": "stdout",
     "output_type": "stream",
     "text": [
      "124000 loss:0.00608\n",
      "elapsed_time: 41.29s\n",
      "124998 loss:0.00956"
     ]
    },
    {
     "name": "stderr",
     "output_type": "stream",
     "text": [
      "INFO:absl: \n",
      "\t\t NumberOfEpisodes = 1893\n",
      "\t\t EnvironmentSteps = 590156\n",
      "\t\t AverageReturn = 20.799999237060547\n",
      "\t\t AverageEpisodeLength = 555.9000244140625\n"
     ]
    },
    {
     "name": "stdout",
     "output_type": "stream",
     "text": [
      "125000 loss:0.00536\n",
      "elapsed_time: 41.25s\n",
      "125998 loss:0.00318"
     ]
    },
    {
     "name": "stderr",
     "output_type": "stream",
     "text": [
      "INFO:absl: \n",
      "\t\t NumberOfEpisodes = 1899\n",
      "\t\t EnvironmentSteps = 594156\n",
      "\t\t AverageReturn = 21.399999618530273\n",
      "\t\t AverageEpisodeLength = 578.5999755859375\n"
     ]
    },
    {
     "name": "stdout",
     "output_type": "stream",
     "text": [
      "126000 loss:0.00346\n",
      "elapsed_time: 41.30s\n",
      "126999 loss:0.00368"
     ]
    },
    {
     "name": "stderr",
     "output_type": "stream",
     "text": [
      "INFO:absl: \n",
      "\t\t NumberOfEpisodes = 1906\n",
      "\t\t EnvironmentSteps = 598156\n",
      "\t\t AverageReturn = 20.899999618530273\n",
      "\t\t AverageEpisodeLength = 579.7999877929688\n"
     ]
    },
    {
     "name": "stdout",
     "output_type": "stream",
     "text": [
      "127000 loss:0.00356\n",
      "elapsed_time: 41.56s\n",
      "127999 loss:0.00458"
     ]
    },
    {
     "name": "stderr",
     "output_type": "stream",
     "text": [
      "INFO:absl: \n",
      "\t\t NumberOfEpisodes = 1913\n",
      "\t\t EnvironmentSteps = 602156\n",
      "\t\t AverageReturn = 20.399999618530273\n",
      "\t\t AverageEpisodeLength = 506.29998779296875\n"
     ]
    },
    {
     "name": "stdout",
     "output_type": "stream",
     "text": [
      "128000 loss:0.00284\n",
      "elapsed_time: 42.06s\n",
      "128996 loss:0.00550"
     ]
    },
    {
     "name": "stderr",
     "output_type": "stream",
     "text": [
      "INFO:absl: \n",
      "\t\t NumberOfEpisodes = 1921\n",
      "\t\t EnvironmentSteps = 606156\n",
      "\t\t AverageReturn = 20.399999618530273\n",
      "\t\t AverageEpisodeLength = 501.29998779296875\n"
     ]
    },
    {
     "name": "stdout",
     "output_type": "stream",
     "text": [
      "129000 loss:0.00458\n",
      "elapsed_time: 41.34s\n",
      "129997 loss:0.00436"
     ]
    },
    {
     "name": "stderr",
     "output_type": "stream",
     "text": [
      "INFO:absl: \n",
      "\t\t NumberOfEpisodes = 1929\n",
      "\t\t EnvironmentSteps = 610156\n",
      "\t\t AverageReturn = 19.200000762939453\n",
      "\t\t AverageEpisodeLength = 497.70001220703125\n"
     ]
    },
    {
     "name": "stdout",
     "output_type": "stream",
     "text": [
      "130000 loss:0.00414\n",
      "elapsed_time: 41.33s\n",
      "130997 loss:0.00475"
     ]
    },
    {
     "name": "stderr",
     "output_type": "stream",
     "text": [
      "INFO:absl: \n",
      "\t\t NumberOfEpisodes = 1936\n",
      "\t\t EnvironmentSteps = 614156\n",
      "\t\t AverageReturn = 18.799999237060547\n",
      "\t\t AverageEpisodeLength = 525.2000122070312\n"
     ]
    },
    {
     "name": "stdout",
     "output_type": "stream",
     "text": [
      "131000 loss:0.00371\n",
      "elapsed_time: 41.29s\n",
      "131999 loss:0.00718"
     ]
    },
    {
     "name": "stderr",
     "output_type": "stream",
     "text": [
      "INFO:absl: \n",
      "\t\t NumberOfEpisodes = 1944\n",
      "\t\t EnvironmentSteps = 618156\n",
      "\t\t AverageReturn = 19.700000762939453\n",
      "\t\t AverageEpisodeLength = 557.0\n"
     ]
    },
    {
     "name": "stdout",
     "output_type": "stream",
     "text": [
      "132000 loss:0.00354\n",
      "elapsed_time: 41.35s\n",
      "132995 loss:0.01743"
     ]
    },
    {
     "name": "stderr",
     "output_type": "stream",
     "text": [
      "INFO:absl: \n",
      "\t\t NumberOfEpisodes = 1952\n",
      "\t\t EnvironmentSteps = 622156\n",
      "\t\t AverageReturn = 19.799999237060547\n",
      "\t\t AverageEpisodeLength = 502.79998779296875\n"
     ]
    },
    {
     "name": "stdout",
     "output_type": "stream",
     "text": [
      "133000 loss:0.00670\n",
      "elapsed_time: 41.36s\n",
      "133995 loss:0.00359"
     ]
    },
    {
     "name": "stderr",
     "output_type": "stream",
     "text": [
      "INFO:absl: \n",
      "\t\t NumberOfEpisodes = 1961\n",
      "\t\t EnvironmentSteps = 626156\n",
      "\t\t AverageReturn = 20.700000762939453\n",
      "\t\t AverageEpisodeLength = 467.0\n"
     ]
    },
    {
     "name": "stdout",
     "output_type": "stream",
     "text": [
      "134000 loss:0.01499\n",
      "elapsed_time: 41.35s\n",
      "134995 loss:0.00243"
     ]
    },
    {
     "name": "stderr",
     "output_type": "stream",
     "text": [
      "INFO:absl: \n",
      "\t\t NumberOfEpisodes = 1969\n",
      "\t\t EnvironmentSteps = 630156\n",
      "\t\t AverageReturn = 20.100000381469727\n",
      "\t\t AverageEpisodeLength = 494.1000061035156\n"
     ]
    },
    {
     "name": "stdout",
     "output_type": "stream",
     "text": [
      "135000 loss:0.00214\n",
      "elapsed_time: 41.50s\n",
      "135996 loss:0.00685"
     ]
    },
    {
     "name": "stderr",
     "output_type": "stream",
     "text": [
      "INFO:absl: \n",
      "\t\t NumberOfEpisodes = 1976\n",
      "\t\t EnvironmentSteps = 634156\n",
      "\t\t AverageReturn = 21.0\n",
      "\t\t AverageEpisodeLength = 518.2000122070312\n"
     ]
    },
    {
     "name": "stdout",
     "output_type": "stream",
     "text": [
      "136000 loss:0.00231\n",
      "elapsed_time: 41.89s\n",
      "136997 loss:0.01614"
     ]
    },
    {
     "name": "stderr",
     "output_type": "stream",
     "text": [
      "INFO:absl: \n",
      "\t\t NumberOfEpisodes = 1985\n",
      "\t\t EnvironmentSteps = 638156\n",
      "\t\t AverageReturn = 18.5\n",
      "\t\t AverageEpisodeLength = 481.79998779296875\n"
     ]
    },
    {
     "name": "stdout",
     "output_type": "stream",
     "text": [
      "137000 loss:0.00425\n",
      "elapsed_time: 41.58s\n",
      "137997 loss:0.01341"
     ]
    },
    {
     "name": "stderr",
     "output_type": "stream",
     "text": [
      "INFO:absl: \n",
      "\t\t NumberOfEpisodes = 1992\n",
      "\t\t EnvironmentSteps = 642156\n",
      "\t\t AverageReturn = 19.600000381469727\n",
      "\t\t AverageEpisodeLength = 531.0999755859375\n"
     ]
    },
    {
     "name": "stdout",
     "output_type": "stream",
     "text": [
      "138000 loss:0.00820\n",
      "elapsed_time: 41.23s\n",
      "138995 loss:0.00678"
     ]
    },
    {
     "name": "stderr",
     "output_type": "stream",
     "text": [
      "INFO:absl: \n",
      "\t\t NumberOfEpisodes = 2000\n",
      "\t\t EnvironmentSteps = 646156\n",
      "\t\t AverageReturn = 20.700000762939453\n",
      "\t\t AverageEpisodeLength = 526.2000122070312\n"
     ]
    },
    {
     "name": "stdout",
     "output_type": "stream",
     "text": [
      "139000 loss:0.01900\n",
      "elapsed_time: 41.22s\n",
      "139996 loss:0.00738"
     ]
    },
    {
     "name": "stderr",
     "output_type": "stream",
     "text": [
      "INFO:absl: \n",
      "\t\t NumberOfEpisodes = 2008\n",
      "\t\t EnvironmentSteps = 650156\n",
      "\t\t AverageReturn = 20.200000762939453\n",
      "\t\t AverageEpisodeLength = 482.79998779296875\n"
     ]
    },
    {
     "name": "stdout",
     "output_type": "stream",
     "text": [
      "140000 loss:0.00610\n",
      "elapsed_time: 41.28s\n",
      "140996 loss:0.00721"
     ]
    },
    {
     "name": "stderr",
     "output_type": "stream",
     "text": [
      "INFO:absl: \n",
      "\t\t NumberOfEpisodes = 2016\n",
      "\t\t EnvironmentSteps = 654156\n",
      "\t\t AverageReturn = 18.700000762939453\n",
      "\t\t AverageEpisodeLength = 514.0\n"
     ]
    },
    {
     "name": "stdout",
     "output_type": "stream",
     "text": [
      "141000 loss:0.00984\n",
      "elapsed_time: 41.26s\n",
      "141997 loss:0.00815"
     ]
    },
    {
     "name": "stderr",
     "output_type": "stream",
     "text": [
      "INFO:absl: \n",
      "\t\t NumberOfEpisodes = 2025\n",
      "\t\t EnvironmentSteps = 658156\n",
      "\t\t AverageReturn = 19.0\n",
      "\t\t AverageEpisodeLength = 460.8999938964844\n"
     ]
    },
    {
     "name": "stdout",
     "output_type": "stream",
     "text": [
      "142000 loss:0.00248\n",
      "elapsed_time: 41.30s\n",
      "142998 loss:0.00988"
     ]
    },
    {
     "name": "stderr",
     "output_type": "stream",
     "text": [
      "INFO:absl: \n",
      "\t\t NumberOfEpisodes = 2032\n",
      "\t\t EnvironmentSteps = 662156\n",
      "\t\t AverageReturn = 21.0\n",
      "\t\t AverageEpisodeLength = 504.20001220703125\n"
     ]
    },
    {
     "name": "stdout",
     "output_type": "stream",
     "text": [
      "143000 loss:0.00488\n",
      "elapsed_time: 41.28s\n",
      "143999 loss:0.00546"
     ]
    },
    {
     "name": "stderr",
     "output_type": "stream",
     "text": [
      "INFO:absl: \n",
      "\t\t NumberOfEpisodes = 2041\n",
      "\t\t EnvironmentSteps = 666156\n",
      "\t\t AverageReturn = 20.100000381469727\n",
      "\t\t AverageEpisodeLength = 436.5\n"
     ]
    },
    {
     "name": "stdout",
     "output_type": "stream",
     "text": [
      "144000 loss:0.00364\n",
      "elapsed_time: 41.32s\n",
      "144999 loss:0.01142"
     ]
    },
    {
     "name": "stderr",
     "output_type": "stream",
     "text": [
      "INFO:absl: \n",
      "\t\t NumberOfEpisodes = 2048\n",
      "\t\t EnvironmentSteps = 670156\n",
      "\t\t AverageReturn = 21.700000762939453\n",
      "\t\t AverageEpisodeLength = 532.7000122070312\n"
     ]
    },
    {
     "name": "stdout",
     "output_type": "stream",
     "text": [
      "145000 loss:0.00563\n",
      "elapsed_time: 41.35s\n",
      "145997 loss:0.00834"
     ]
    },
    {
     "name": "stderr",
     "output_type": "stream",
     "text": [
      "INFO:absl: \n",
      "\t\t NumberOfEpisodes = 2057\n",
      "\t\t EnvironmentSteps = 674156\n",
      "\t\t AverageReturn = 19.200000762939453\n",
      "\t\t AverageEpisodeLength = 431.0\n"
     ]
    },
    {
     "name": "stdout",
     "output_type": "stream",
     "text": [
      "146000 loss:0.00706\n",
      "elapsed_time: 41.40s\n",
      "146998 loss:0.00380"
     ]
    },
    {
     "name": "stderr",
     "output_type": "stream",
     "text": [
      "INFO:absl: \n",
      "\t\t NumberOfEpisodes = 2066\n",
      "\t\t EnvironmentSteps = 678156\n",
      "\t\t AverageReturn = 20.700000762939453\n",
      "\t\t AverageEpisodeLength = 454.0\n"
     ]
    },
    {
     "name": "stdout",
     "output_type": "stream",
     "text": [
      "147000 loss:0.00384\n",
      "elapsed_time: 41.31s\n",
      "147999 loss:0.00460"
     ]
    },
    {
     "name": "stderr",
     "output_type": "stream",
     "text": [
      "INFO:absl: \n",
      "\t\t NumberOfEpisodes = 2075\n",
      "\t\t EnvironmentSteps = 682156\n",
      "\t\t AverageReturn = 20.0\n",
      "\t\t AverageEpisodeLength = 456.5\n"
     ]
    },
    {
     "name": "stdout",
     "output_type": "stream",
     "text": [
      "148000 loss:0.00370\n",
      "elapsed_time: 41.32s\n",
      "148999 loss:0.00469"
     ]
    },
    {
     "name": "stderr",
     "output_type": "stream",
     "text": [
      "INFO:absl: \n",
      "\t\t NumberOfEpisodes = 2082\n",
      "\t\t EnvironmentSteps = 686156\n",
      "\t\t AverageReturn = 20.100000381469727\n",
      "\t\t AverageEpisodeLength = 525.7999877929688\n"
     ]
    },
    {
     "name": "stdout",
     "output_type": "stream",
     "text": [
      "149000 loss:0.00528\n",
      "elapsed_time: 41.32s\n",
      "149999 loss:0.00313"
     ]
    },
    {
     "name": "stderr",
     "output_type": "stream",
     "text": [
      "INFO:absl: \n",
      "\t\t NumberOfEpisodes = 2091\n",
      "\t\t EnvironmentSteps = 690156\n",
      "\t\t AverageReturn = 18.5\n",
      "\t\t AverageEpisodeLength = 452.29998779296875\n"
     ]
    },
    {
     "name": "stdout",
     "output_type": "stream",
     "text": [
      "150000 loss:0.00250\n",
      "elapsed_time: 41.33s\n",
      "150995 loss:0.00581"
     ]
    },
    {
     "name": "stderr",
     "output_type": "stream",
     "text": [
      "INFO:absl: \n",
      "\t\t NumberOfEpisodes = 2100\n",
      "\t\t EnvironmentSteps = 694156\n",
      "\t\t AverageReturn = 19.0\n",
      "\t\t AverageEpisodeLength = 435.29998779296875\n"
     ]
    },
    {
     "name": "stdout",
     "output_type": "stream",
     "text": [
      "151000 loss:0.00229\n",
      "elapsed_time: 41.35s\n",
      "151996 loss:0.00435"
     ]
    },
    {
     "name": "stderr",
     "output_type": "stream",
     "text": [
      "INFO:absl: \n",
      "\t\t NumberOfEpisodes = 2109\n",
      "\t\t EnvironmentSteps = 698156\n",
      "\t\t AverageReturn = 17.600000381469727\n",
      "\t\t AverageEpisodeLength = 416.0\n"
     ]
    },
    {
     "name": "stdout",
     "output_type": "stream",
     "text": [
      "152000 loss:0.00375\n",
      "elapsed_time: 41.33s\n",
      "152998 loss:0.01463"
     ]
    },
    {
     "name": "stderr",
     "output_type": "stream",
     "text": [
      "INFO:absl: \n",
      "\t\t NumberOfEpisodes = 2120\n",
      "\t\t EnvironmentSteps = 702156\n",
      "\t\t AverageReturn = 16.799999237060547\n",
      "\t\t AverageEpisodeLength = 385.70001220703125\n"
     ]
    },
    {
     "name": "stdout",
     "output_type": "stream",
     "text": [
      "153000 loss:0.01732\n",
      "elapsed_time: 41.29s\n",
      "153995 loss:0.00278"
     ]
    },
    {
     "name": "stderr",
     "output_type": "stream",
     "text": [
      "INFO:absl: \n",
      "\t\t NumberOfEpisodes = 2129\n",
      "\t\t EnvironmentSteps = 706156\n",
      "\t\t AverageReturn = 18.899999618530273\n",
      "\t\t AverageEpisodeLength = 426.3999938964844\n"
     ]
    },
    {
     "name": "stdout",
     "output_type": "stream",
     "text": [
      "154000 loss:0.00304\n",
      "elapsed_time: 41.22s\n",
      "154995 loss:0.03280"
     ]
    },
    {
     "name": "stderr",
     "output_type": "stream",
     "text": [
      "INFO:absl: \n",
      "\t\t NumberOfEpisodes = 2137\n",
      "\t\t EnvironmentSteps = 710156\n",
      "\t\t AverageReturn = 20.299999237060547\n",
      "\t\t AverageEpisodeLength = 480.70001220703125\n"
     ]
    },
    {
     "name": "stdout",
     "output_type": "stream",
     "text": [
      "155000 loss:0.00593\n",
      "elapsed_time: 41.29s\n",
      "155995 loss:0.00450"
     ]
    },
    {
     "name": "stderr",
     "output_type": "stream",
     "text": [
      "INFO:absl: \n",
      "\t\t NumberOfEpisodes = 2146\n",
      "\t\t EnvironmentSteps = 714156\n",
      "\t\t AverageReturn = 17.899999618530273\n",
      "\t\t AverageEpisodeLength = 442.1000061035156\n"
     ]
    },
    {
     "name": "stdout",
     "output_type": "stream",
     "text": [
      "156000 loss:0.01696\n",
      "elapsed_time: 41.28s\n",
      "156996 loss:0.00621"
     ]
    },
    {
     "name": "stderr",
     "output_type": "stream",
     "text": [
      "INFO:absl: \n",
      "\t\t NumberOfEpisodes = 2156\n",
      "\t\t EnvironmentSteps = 718156\n",
      "\t\t AverageReturn = 17.5\n",
      "\t\t AverageEpisodeLength = 430.70001220703125\n"
     ]
    },
    {
     "name": "stdout",
     "output_type": "stream",
     "text": [
      "157000 loss:0.00487\n",
      "elapsed_time: 41.37s\n",
      "157999 loss:0.00721"
     ]
    },
    {
     "name": "stderr",
     "output_type": "stream",
     "text": [
      "INFO:absl: \n",
      "\t\t NumberOfEpisodes = 2164\n",
      "\t\t EnvironmentSteps = 722156\n",
      "\t\t AverageReturn = 19.799999237060547\n",
      "\t\t AverageEpisodeLength = 451.29998779296875\n"
     ]
    },
    {
     "name": "stdout",
     "output_type": "stream",
     "text": [
      "158000 loss:0.00927\n",
      "elapsed_time: 41.34s\n",
      "158999 loss:0.00441"
     ]
    },
    {
     "name": "stderr",
     "output_type": "stream",
     "text": [
      "INFO:absl: \n",
      "\t\t NumberOfEpisodes = 2174\n",
      "\t\t EnvironmentSteps = 726156\n",
      "\t\t AverageReturn = 18.399999618530273\n",
      "\t\t AverageEpisodeLength = 412.3999938964844\n"
     ]
    },
    {
     "name": "stdout",
     "output_type": "stream",
     "text": [
      "159000 loss:0.02041\n",
      "elapsed_time: 41.40s\n",
      "159999 loss:0.00303"
     ]
    },
    {
     "name": "stderr",
     "output_type": "stream",
     "text": [
      "INFO:absl: \n",
      "\t\t NumberOfEpisodes = 2182\n",
      "\t\t EnvironmentSteps = 730156\n",
      "\t\t AverageReturn = 19.600000381469727\n",
      "\t\t AverageEpisodeLength = 465.29998779296875\n"
     ]
    },
    {
     "name": "stdout",
     "output_type": "stream",
     "text": [
      "160000 loss:0.00388\n",
      "elapsed_time: 41.33s\n",
      "160999 loss:0.01199"
     ]
    },
    {
     "name": "stderr",
     "output_type": "stream",
     "text": [
      "INFO:absl: \n",
      "\t\t NumberOfEpisodes = 2191\n",
      "\t\t EnvironmentSteps = 734156\n",
      "\t\t AverageReturn = 18.799999237060547\n",
      "\t\t AverageEpisodeLength = 432.5\n"
     ]
    },
    {
     "name": "stdout",
     "output_type": "stream",
     "text": [
      "161000 loss:0.00306\n",
      "elapsed_time: 41.34s\n",
      "161996 loss:0.02650"
     ]
    },
    {
     "name": "stderr",
     "output_type": "stream",
     "text": [
      "INFO:absl: \n",
      "\t\t NumberOfEpisodes = 2200\n",
      "\t\t EnvironmentSteps = 738156\n",
      "\t\t AverageReturn = 18.299999237060547\n",
      "\t\t AverageEpisodeLength = 426.6000061035156\n"
     ]
    },
    {
     "name": "stdout",
     "output_type": "stream",
     "text": [
      "162000 loss:0.00286\n",
      "elapsed_time: 41.31s\n",
      "162997 loss:0.01684"
     ]
    },
    {
     "name": "stderr",
     "output_type": "stream",
     "text": [
      "INFO:absl: \n",
      "\t\t NumberOfEpisodes = 2209\n",
      "\t\t EnvironmentSteps = 742156\n",
      "\t\t AverageReturn = 20.0\n",
      "\t\t AverageEpisodeLength = 457.70001220703125\n"
     ]
    },
    {
     "name": "stdout",
     "output_type": "stream",
     "text": [
      "163000 loss:0.00878\n",
      "elapsed_time: 41.30s\n",
      "163998 loss:0.00482"
     ]
    },
    {
     "name": "stderr",
     "output_type": "stream",
     "text": [
      "INFO:absl: \n",
      "\t\t NumberOfEpisodes = 2218\n",
      "\t\t EnvironmentSteps = 746156\n",
      "\t\t AverageReturn = 19.700000762939453\n",
      "\t\t AverageEpisodeLength = 435.8999938964844\n"
     ]
    },
    {
     "name": "stdout",
     "output_type": "stream",
     "text": [
      "164000 loss:0.00257\n",
      "elapsed_time: 41.28s\n",
      "164999 loss:0.01180"
     ]
    },
    {
     "name": "stderr",
     "output_type": "stream",
     "text": [
      "INFO:absl: \n",
      "\t\t NumberOfEpisodes = 2228\n",
      "\t\t EnvironmentSteps = 750156\n",
      "\t\t AverageReturn = 19.5\n",
      "\t\t AverageEpisodeLength = 423.0\n"
     ]
    },
    {
     "name": "stdout",
     "output_type": "stream",
     "text": [
      "165000 loss:0.00674\n",
      "elapsed_time: 41.29s\n",
      "165995 loss:0.00651"
     ]
    },
    {
     "name": "stderr",
     "output_type": "stream",
     "text": [
      "INFO:absl: \n",
      "\t\t NumberOfEpisodes = 2237\n",
      "\t\t EnvironmentSteps = 754156\n",
      "\t\t AverageReturn = 18.600000381469727\n",
      "\t\t AverageEpisodeLength = 421.79998779296875\n"
     ]
    },
    {
     "name": "stdout",
     "output_type": "stream",
     "text": [
      "166000 loss:0.00438\n",
      "elapsed_time: 41.28s\n",
      "166995 loss:0.00352"
     ]
    },
    {
     "name": "stderr",
     "output_type": "stream",
     "text": [
      "INFO:absl: \n",
      "\t\t NumberOfEpisodes = 2246\n",
      "\t\t EnvironmentSteps = 758156\n",
      "\t\t AverageReturn = 19.200000762939453\n",
      "\t\t AverageEpisodeLength = 442.70001220703125\n"
     ]
    },
    {
     "name": "stdout",
     "output_type": "stream",
     "text": [
      "167000 loss:0.01136\n",
      "elapsed_time: 41.28s\n",
      "167999 loss:0.00752"
     ]
    },
    {
     "name": "stderr",
     "output_type": "stream",
     "text": [
      "INFO:absl: \n",
      "\t\t NumberOfEpisodes = 2255\n",
      "\t\t EnvironmentSteps = 762156\n",
      "\t\t AverageReturn = 20.899999618530273\n",
      "\t\t AverageEpisodeLength = 454.5\n"
     ]
    },
    {
     "name": "stdout",
     "output_type": "stream",
     "text": [
      "168000 loss:0.00640\n",
      "elapsed_time: 41.36s\n",
      "168999 loss:0.00688"
     ]
    },
    {
     "name": "stderr",
     "output_type": "stream",
     "text": [
      "INFO:absl: \n",
      "\t\t NumberOfEpisodes = 2265\n",
      "\t\t EnvironmentSteps = 766156\n",
      "\t\t AverageReturn = 18.399999618530273\n",
      "\t\t AverageEpisodeLength = 398.6000061035156\n"
     ]
    },
    {
     "name": "stdout",
     "output_type": "stream",
     "text": [
      "169000 loss:0.00628\n",
      "elapsed_time: 41.36s\n",
      "169995 loss:0.00706"
     ]
    },
    {
     "name": "stderr",
     "output_type": "stream",
     "text": [
      "INFO:absl: \n",
      "\t\t NumberOfEpisodes = 2275\n",
      "\t\t EnvironmentSteps = 770156\n",
      "\t\t AverageReturn = 17.200000762939453\n",
      "\t\t AverageEpisodeLength = 395.0\n"
     ]
    },
    {
     "name": "stdout",
     "output_type": "stream",
     "text": [
      "170000 loss:0.00485\n",
      "elapsed_time: 41.34s\n",
      "170997 loss:0.01489"
     ]
    },
    {
     "name": "stderr",
     "output_type": "stream",
     "text": [
      "INFO:absl: \n",
      "\t\t NumberOfEpisodes = 2284\n",
      "\t\t EnvironmentSteps = 774156\n",
      "\t\t AverageReturn = 19.899999618530273\n",
      "\t\t AverageEpisodeLength = 446.5\n"
     ]
    },
    {
     "name": "stdout",
     "output_type": "stream",
     "text": [
      "171000 loss:0.00548\n",
      "elapsed_time: 41.36s\n",
      "171998 loss:0.00392"
     ]
    },
    {
     "name": "stderr",
     "output_type": "stream",
     "text": [
      "INFO:absl: \n",
      "\t\t NumberOfEpisodes = 2293\n",
      "\t\t EnvironmentSteps = 778156\n",
      "\t\t AverageReturn = 21.200000762939453\n",
      "\t\t AverageEpisodeLength = 451.20001220703125\n"
     ]
    },
    {
     "name": "stdout",
     "output_type": "stream",
     "text": [
      "172000 loss:0.00428\n",
      "elapsed_time: 41.33s\n",
      "172995 loss:0.01349"
     ]
    },
    {
     "name": "stderr",
     "output_type": "stream",
     "text": [
      "INFO:absl: \n",
      "\t\t NumberOfEpisodes = 2302\n",
      "\t\t EnvironmentSteps = 782156\n",
      "\t\t AverageReturn = 20.799999237060547\n",
      "\t\t AverageEpisodeLength = 435.5\n"
     ]
    },
    {
     "name": "stdout",
     "output_type": "stream",
     "text": [
      "173000 loss:0.01565\n",
      "elapsed_time: 41.28s\n",
      "173996 loss:0.01733"
     ]
    },
    {
     "name": "stderr",
     "output_type": "stream",
     "text": [
      "INFO:absl: \n",
      "\t\t NumberOfEpisodes = 2311\n",
      "\t\t EnvironmentSteps = 786156\n",
      "\t\t AverageReturn = 21.399999618530273\n",
      "\t\t AverageEpisodeLength = 439.8999938964844\n"
     ]
    },
    {
     "name": "stdout",
     "output_type": "stream",
     "text": [
      "174000 loss:0.00720\n",
      "elapsed_time: 41.39s\n",
      "174996 loss:0.00768"
     ]
    },
    {
     "name": "stderr",
     "output_type": "stream",
     "text": [
      "INFO:absl: \n",
      "\t\t NumberOfEpisodes = 2320\n",
      "\t\t EnvironmentSteps = 790156\n",
      "\t\t AverageReturn = 21.5\n",
      "\t\t AverageEpisodeLength = 450.8999938964844\n"
     ]
    },
    {
     "name": "stdout",
     "output_type": "stream",
     "text": [
      "175000 loss:0.00910\n",
      "elapsed_time: 41.38s\n",
      "175998 loss:0.00290"
     ]
    },
    {
     "name": "stderr",
     "output_type": "stream",
     "text": [
      "INFO:absl: \n",
      "\t\t NumberOfEpisodes = 2329\n",
      "\t\t EnvironmentSteps = 794156\n",
      "\t\t AverageReturn = 21.5\n",
      "\t\t AverageEpisodeLength = 432.0\n"
     ]
    },
    {
     "name": "stdout",
     "output_type": "stream",
     "text": [
      "176000 loss:0.00480\n",
      "elapsed_time: 41.27s\n",
      "176999 loss:0.00881"
     ]
    },
    {
     "name": "stderr",
     "output_type": "stream",
     "text": [
      "INFO:absl: \n",
      "\t\t NumberOfEpisodes = 2338\n",
      "\t\t EnvironmentSteps = 798156\n",
      "\t\t AverageReturn = 21.700000762939453\n",
      "\t\t AverageEpisodeLength = 452.6000061035156\n"
     ]
    },
    {
     "name": "stdout",
     "output_type": "stream",
     "text": [
      "177000 loss:0.01263\n",
      "elapsed_time: 41.33s\n",
      "177997 loss:0.00324"
     ]
    },
    {
     "name": "stderr",
     "output_type": "stream",
     "text": [
      "INFO:absl: \n",
      "\t\t NumberOfEpisodes = 2346\n",
      "\t\t EnvironmentSteps = 802156\n",
      "\t\t AverageReturn = 26.200000762939453\n",
      "\t\t AverageEpisodeLength = 488.5\n"
     ]
    },
    {
     "name": "stdout",
     "output_type": "stream",
     "text": [
      "178000 loss:0.01427\n",
      "elapsed_time: 41.61s\n",
      "178999 loss:0.00271"
     ]
    },
    {
     "name": "stderr",
     "output_type": "stream",
     "text": [
      "INFO:absl: \n",
      "\t\t NumberOfEpisodes = 2354\n",
      "\t\t EnvironmentSteps = 806156\n",
      "\t\t AverageReturn = 22.899999618530273\n",
      "\t\t AverageEpisodeLength = 461.3999938964844\n"
     ]
    },
    {
     "name": "stdout",
     "output_type": "stream",
     "text": [
      "179000 loss:0.00716\n",
      "elapsed_time: 41.29s\n",
      "179995 loss:0.00182"
     ]
    },
    {
     "name": "stderr",
     "output_type": "stream",
     "text": [
      "INFO:absl: \n",
      "\t\t NumberOfEpisodes = 2363\n",
      "\t\t EnvironmentSteps = 810156\n",
      "\t\t AverageReturn = 21.5\n",
      "\t\t AverageEpisodeLength = 446.6000061035156\n"
     ]
    },
    {
     "name": "stdout",
     "output_type": "stream",
     "text": [
      "180000 loss:0.00282\n",
      "elapsed_time: 41.32s\n",
      "180998 loss:0.00659"
     ]
    },
    {
     "name": "stderr",
     "output_type": "stream",
     "text": [
      "INFO:absl: \n",
      "\t\t NumberOfEpisodes = 2372\n",
      "\t\t EnvironmentSteps = 814156\n",
      "\t\t AverageReturn = 19.899999618530273\n",
      "\t\t AverageEpisodeLength = 446.5\n"
     ]
    },
    {
     "name": "stdout",
     "output_type": "stream",
     "text": [
      "181000 loss:0.00341\n",
      "elapsed_time: 41.36s\n",
      "181999 loss:0.00268"
     ]
    },
    {
     "name": "stderr",
     "output_type": "stream",
     "text": [
      "INFO:absl: \n",
      "\t\t NumberOfEpisodes = 2380\n",
      "\t\t EnvironmentSteps = 818156\n",
      "\t\t AverageReturn = 24.899999618530273\n",
      "\t\t AverageEpisodeLength = 504.79998779296875\n"
     ]
    },
    {
     "name": "stdout",
     "output_type": "stream",
     "text": [
      "182000 loss:0.00370\n",
      "elapsed_time: 41.57s\n",
      "182999 loss:0.00595"
     ]
    },
    {
     "name": "stderr",
     "output_type": "stream",
     "text": [
      "INFO:absl: \n",
      "\t\t NumberOfEpisodes = 2388\n",
      "\t\t EnvironmentSteps = 822156\n",
      "\t\t AverageReturn = 22.5\n",
      "\t\t AverageEpisodeLength = 480.0\n"
     ]
    },
    {
     "name": "stdout",
     "output_type": "stream",
     "text": [
      "183000 loss:0.01354\n",
      "elapsed_time: 41.29s\n",
      "183999 loss:0.00394"
     ]
    },
    {
     "name": "stderr",
     "output_type": "stream",
     "text": [
      "INFO:absl: \n",
      "\t\t NumberOfEpisodes = 2397\n",
      "\t\t EnvironmentSteps = 826156\n",
      "\t\t AverageReturn = 22.899999618530273\n",
      "\t\t AverageEpisodeLength = 493.29998779296875\n"
     ]
    },
    {
     "name": "stdout",
     "output_type": "stream",
     "text": [
      "184000 loss:0.00372\n",
      "elapsed_time: 41.30s\n",
      "184996 loss:0.00277"
     ]
    },
    {
     "name": "stderr",
     "output_type": "stream",
     "text": [
      "INFO:absl: \n",
      "\t\t NumberOfEpisodes = 2405\n",
      "\t\t EnvironmentSteps = 830156\n",
      "\t\t AverageReturn = 20.700000762939453\n",
      "\t\t AverageEpisodeLength = 447.0\n"
     ]
    },
    {
     "name": "stdout",
     "output_type": "stream",
     "text": [
      "185000 loss:0.00283\n",
      "elapsed_time: 41.28s\n",
      "185998 loss:0.00765"
     ]
    },
    {
     "name": "stderr",
     "output_type": "stream",
     "text": [
      "INFO:absl: \n",
      "\t\t NumberOfEpisodes = 2413\n",
      "\t\t EnvironmentSteps = 834156\n",
      "\t\t AverageReturn = 22.200000762939453\n",
      "\t\t AverageEpisodeLength = 469.0\n"
     ]
    },
    {
     "name": "stdout",
     "output_type": "stream",
     "text": [
      "186000 loss:0.00371\n",
      "elapsed_time: 41.30s\n",
      "186995 loss:0.00998"
     ]
    },
    {
     "name": "stderr",
     "output_type": "stream",
     "text": [
      "INFO:absl: \n",
      "\t\t NumberOfEpisodes = 2422\n",
      "\t\t EnvironmentSteps = 838156\n",
      "\t\t AverageReturn = 21.799999237060547\n",
      "\t\t AverageEpisodeLength = 478.3999938964844\n"
     ]
    },
    {
     "name": "stdout",
     "output_type": "stream",
     "text": [
      "187000 loss:0.01326\n",
      "elapsed_time: 41.32s\n",
      "187997 loss:0.00419"
     ]
    },
    {
     "name": "stderr",
     "output_type": "stream",
     "text": [
      "INFO:absl: \n",
      "\t\t NumberOfEpisodes = 2431\n",
      "\t\t EnvironmentSteps = 842156\n",
      "\t\t AverageReturn = 18.200000762939453\n",
      "\t\t AverageEpisodeLength = 447.3999938964844\n"
     ]
    },
    {
     "name": "stdout",
     "output_type": "stream",
     "text": [
      "188000 loss:0.00546\n",
      "elapsed_time: 41.59s\n",
      "188999 loss:0.00560"
     ]
    },
    {
     "name": "stderr",
     "output_type": "stream",
     "text": [
      "INFO:absl: \n",
      "\t\t NumberOfEpisodes = 2438\n",
      "\t\t EnvironmentSteps = 846156\n",
      "\t\t AverageReturn = 19.799999237060547\n",
      "\t\t AverageEpisodeLength = 494.8999938964844\n"
     ]
    },
    {
     "name": "stdout",
     "output_type": "stream",
     "text": [
      "189000 loss:0.00827\n",
      "elapsed_time: 41.32s\n",
      "189995 loss:0.00573"
     ]
    },
    {
     "name": "stderr",
     "output_type": "stream",
     "text": [
      "INFO:absl: \n",
      "\t\t NumberOfEpisodes = 2446\n",
      "\t\t EnvironmentSteps = 850156\n",
      "\t\t AverageReturn = 24.299999237060547\n",
      "\t\t AverageEpisodeLength = 518.9000244140625\n"
     ]
    },
    {
     "name": "stdout",
     "output_type": "stream",
     "text": [
      "190000 loss:0.00346\n",
      "elapsed_time: 41.26s\n",
      "190996 loss:0.00578"
     ]
    },
    {
     "name": "stderr",
     "output_type": "stream",
     "text": [
      "INFO:absl: \n",
      "\t\t NumberOfEpisodes = 2455\n",
      "\t\t EnvironmentSteps = 854156\n",
      "\t\t AverageReturn = 19.899999618530273\n",
      "\t\t AverageEpisodeLength = 431.20001220703125\n"
     ]
    },
    {
     "name": "stdout",
     "output_type": "stream",
     "text": [
      "191000 loss:0.00753\n",
      "elapsed_time: 41.63s\n",
      "191997 loss:0.03201"
     ]
    },
    {
     "name": "stderr",
     "output_type": "stream",
     "text": [
      "INFO:absl: \n",
      "\t\t NumberOfEpisodes = 2463\n",
      "\t\t EnvironmentSteps = 858156\n",
      "\t\t AverageReturn = 22.399999618530273\n",
      "\t\t AverageEpisodeLength = 477.3999938964844\n"
     ]
    },
    {
     "name": "stdout",
     "output_type": "stream",
     "text": [
      "192000 loss:0.00308\n",
      "elapsed_time: 41.39s\n",
      "192998 loss:0.00860"
     ]
    },
    {
     "name": "stderr",
     "output_type": "stream",
     "text": [
      "INFO:absl: \n",
      "\t\t NumberOfEpisodes = 2471\n",
      "\t\t EnvironmentSteps = 862156\n",
      "\t\t AverageReturn = 24.0\n",
      "\t\t AverageEpisodeLength = 509.20001220703125\n"
     ]
    },
    {
     "name": "stdout",
     "output_type": "stream",
     "text": [
      "193000 loss:0.02241\n",
      "elapsed_time: 41.63s\n",
      "193999 loss:0.00424"
     ]
    },
    {
     "name": "stderr",
     "output_type": "stream",
     "text": [
      "INFO:absl: \n",
      "\t\t NumberOfEpisodes = 2478\n",
      "\t\t EnvironmentSteps = 866156\n",
      "\t\t AverageReturn = 22.600000381469727\n",
      "\t\t AverageEpisodeLength = 536.0999755859375\n"
     ]
    },
    {
     "name": "stdout",
     "output_type": "stream",
     "text": [
      "194000 loss:0.01171\n",
      "elapsed_time: 41.33s\n",
      "194995 loss:0.00568"
     ]
    },
    {
     "name": "stderr",
     "output_type": "stream",
     "text": [
      "INFO:absl: \n",
      "\t\t NumberOfEpisodes = 2485\n",
      "\t\t EnvironmentSteps = 870156\n",
      "\t\t AverageReturn = 21.700000762939453\n",
      "\t\t AverageEpisodeLength = 564.4000244140625\n"
     ]
    },
    {
     "name": "stdout",
     "output_type": "stream",
     "text": [
      "195000 loss:0.01619\n",
      "elapsed_time: 41.36s\n",
      "195996 loss:0.00452"
     ]
    },
    {
     "name": "stderr",
     "output_type": "stream",
     "text": [
      "INFO:absl: \n",
      "\t\t NumberOfEpisodes = 2493\n",
      "\t\t EnvironmentSteps = 874156\n",
      "\t\t AverageReturn = 21.600000381469727\n",
      "\t\t AverageEpisodeLength = 507.29998779296875\n"
     ]
    },
    {
     "name": "stdout",
     "output_type": "stream",
     "text": [
      "196000 loss:0.00767\n",
      "elapsed_time: 41.35s\n",
      "196996 loss:0.00601"
     ]
    },
    {
     "name": "stderr",
     "output_type": "stream",
     "text": [
      "INFO:absl: \n",
      "\t\t NumberOfEpisodes = 2500\n",
      "\t\t EnvironmentSteps = 878156\n",
      "\t\t AverageReturn = 24.399999618530273\n",
      "\t\t AverageEpisodeLength = 536.2000122070312\n"
     ]
    },
    {
     "name": "stdout",
     "output_type": "stream",
     "text": [
      "197000 loss:0.00693\n",
      "elapsed_time: 41.32s\n",
      "197997 loss:0.00888"
     ]
    },
    {
     "name": "stderr",
     "output_type": "stream",
     "text": [
      "INFO:absl: \n",
      "\t\t NumberOfEpisodes = 2509\n",
      "\t\t EnvironmentSteps = 882156\n",
      "\t\t AverageReturn = 22.0\n",
      "\t\t AverageEpisodeLength = 441.1000061035156\n"
     ]
    },
    {
     "name": "stdout",
     "output_type": "stream",
     "text": [
      "198000 loss:0.00463\n",
      "elapsed_time: 41.33s\n",
      "198997 loss:0.00479"
     ]
    },
    {
     "name": "stderr",
     "output_type": "stream",
     "text": [
      "INFO:absl: \n",
      "\t\t NumberOfEpisodes = 2517\n",
      "\t\t EnvironmentSteps = 886156\n",
      "\t\t AverageReturn = 26.399999618530273\n",
      "\t\t AverageEpisodeLength = 505.79998779296875\n"
     ]
    },
    {
     "name": "stdout",
     "output_type": "stream",
     "text": [
      "199000 loss:0.00758\n",
      "elapsed_time: 41.28s\n",
      "199997 loss:0.02917"
     ]
    },
    {
     "name": "stderr",
     "output_type": "stream",
     "text": [
      "INFO:absl: \n",
      "\t\t NumberOfEpisodes = 2526\n",
      "\t\t EnvironmentSteps = 890156\n",
      "\t\t AverageReturn = 22.5\n",
      "\t\t AverageEpisodeLength = 482.1000061035156\n"
     ]
    },
    {
     "name": "stdout",
     "output_type": "stream",
     "text": [
      "200000 loss:0.00442\n",
      "elapsed_time: 41.27s\n",
      "200997 loss:0.00552"
     ]
    },
    {
     "name": "stderr",
     "output_type": "stream",
     "text": [
      "INFO:absl: \n",
      "\t\t NumberOfEpisodes = 2534\n",
      "\t\t EnvironmentSteps = 894156\n",
      "\t\t AverageReturn = 20.0\n",
      "\t\t AverageEpisodeLength = 475.0\n"
     ]
    },
    {
     "name": "stdout",
     "output_type": "stream",
     "text": [
      "201000 loss:0.00823\n",
      "elapsed_time: 41.31s\n",
      "201997 loss:0.00549"
     ]
    },
    {
     "name": "stderr",
     "output_type": "stream",
     "text": [
      "INFO:absl: \n",
      "\t\t NumberOfEpisodes = 2541\n",
      "\t\t EnvironmentSteps = 898156\n",
      "\t\t AverageReturn = 25.700000762939453\n",
      "\t\t AverageEpisodeLength = 563.2000122070312\n"
     ]
    },
    {
     "name": "stdout",
     "output_type": "stream",
     "text": [
      "202000 loss:0.00535\n",
      "elapsed_time: 41.34s\n",
      "202997 loss:0.00415"
     ]
    },
    {
     "name": "stderr",
     "output_type": "stream",
     "text": [
      "INFO:absl: \n",
      "\t\t NumberOfEpisodes = 2548\n",
      "\t\t EnvironmentSteps = 902156\n",
      "\t\t AverageReturn = 23.299999237060547\n",
      "\t\t AverageEpisodeLength = 564.2000122070312\n"
     ]
    },
    {
     "name": "stdout",
     "output_type": "stream",
     "text": [
      "203000 loss:0.00925\n",
      "elapsed_time: 41.27s\n",
      "203997 loss:0.01041"
     ]
    },
    {
     "name": "stderr",
     "output_type": "stream",
     "text": [
      "INFO:absl: \n",
      "\t\t NumberOfEpisodes = 2556\n",
      "\t\t EnvironmentSteps = 906156\n",
      "\t\t AverageReturn = 26.5\n",
      "\t\t AverageEpisodeLength = 522.2000122070312\n"
     ]
    },
    {
     "name": "stdout",
     "output_type": "stream",
     "text": [
      "204000 loss:0.00586\n",
      "elapsed_time: 41.26s\n",
      "204998 loss:0.01491"
     ]
    },
    {
     "name": "stderr",
     "output_type": "stream",
     "text": [
      "INFO:absl: \n",
      "\t\t NumberOfEpisodes = 2564\n",
      "\t\t EnvironmentSteps = 910156\n",
      "\t\t AverageReturn = 27.600000381469727\n",
      "\t\t AverageEpisodeLength = 507.29998779296875\n"
     ]
    },
    {
     "name": "stdout",
     "output_type": "stream",
     "text": [
      "205000 loss:0.00686\n",
      "elapsed_time: 41.56s\n",
      "205999 loss:0.00589"
     ]
    },
    {
     "name": "stderr",
     "output_type": "stream",
     "text": [
      "INFO:absl: \n",
      "\t\t NumberOfEpisodes = 2572\n",
      "\t\t EnvironmentSteps = 914156\n",
      "\t\t AverageReturn = 23.600000381469727\n",
      "\t\t AverageEpisodeLength = 507.70001220703125\n"
     ]
    },
    {
     "name": "stdout",
     "output_type": "stream",
     "text": [
      "206000 loss:0.00447\n",
      "elapsed_time: 41.27s\n",
      "206995 loss:0.01387"
     ]
    },
    {
     "name": "stderr",
     "output_type": "stream",
     "text": [
      "INFO:absl: \n",
      "\t\t NumberOfEpisodes = 2579\n",
      "\t\t EnvironmentSteps = 918156\n",
      "\t\t AverageReturn = 27.600000381469727\n",
      "\t\t AverageEpisodeLength = 567.9000244140625\n"
     ]
    },
    {
     "name": "stdout",
     "output_type": "stream",
     "text": [
      "207000 loss:0.05020\n",
      "elapsed_time: 41.26s\n",
      "207998 loss:0.00835"
     ]
    },
    {
     "name": "stderr",
     "output_type": "stream",
     "text": [
      "INFO:absl: \n",
      "\t\t NumberOfEpisodes = 2586\n",
      "\t\t EnvironmentSteps = 922156\n",
      "\t\t AverageReturn = 31.100000381469727\n",
      "\t\t AverageEpisodeLength = 589.5\n"
     ]
    },
    {
     "name": "stdout",
     "output_type": "stream",
     "text": [
      "208000 loss:0.00661\n",
      "elapsed_time: 41.25s\n",
      "208995 loss:0.00814"
     ]
    },
    {
     "name": "stderr",
     "output_type": "stream",
     "text": [
      "INFO:absl: \n",
      "\t\t NumberOfEpisodes = 2592\n",
      "\t\t EnvironmentSteps = 926156\n",
      "\t\t AverageReturn = 27.799999237060547\n",
      "\t\t AverageEpisodeLength = 648.5\n"
     ]
    },
    {
     "name": "stdout",
     "output_type": "stream",
     "text": [
      "209000 loss:0.00573\n",
      "elapsed_time: 41.28s\n",
      "209996 loss:0.00356"
     ]
    },
    {
     "name": "stderr",
     "output_type": "stream",
     "text": [
      "INFO:absl: \n",
      "\t\t NumberOfEpisodes = 2598\n",
      "\t\t EnvironmentSteps = 930156\n",
      "\t\t AverageReturn = 26.5\n",
      "\t\t AverageEpisodeLength = 649.7000122070312\n"
     ]
    },
    {
     "name": "stdout",
     "output_type": "stream",
     "text": [
      "210000 loss:0.00906\n",
      "elapsed_time: 41.52s\n",
      "210997 loss:0.00415"
     ]
    },
    {
     "name": "stderr",
     "output_type": "stream",
     "text": [
      "INFO:absl: \n",
      "\t\t NumberOfEpisodes = 2604\n",
      "\t\t EnvironmentSteps = 934156\n",
      "\t\t AverageReturn = 26.5\n",
      "\t\t AverageEpisodeLength = 681.9000244140625\n"
     ]
    },
    {
     "name": "stdout",
     "output_type": "stream",
     "text": [
      "211000 loss:0.02178\n",
      "elapsed_time: 41.22s\n",
      "211998 loss:0.00748"
     ]
    },
    {
     "name": "stderr",
     "output_type": "stream",
     "text": [
      "INFO:absl: \n",
      "\t\t NumberOfEpisodes = 2610\n",
      "\t\t EnvironmentSteps = 938156\n",
      "\t\t AverageReturn = 26.0\n",
      "\t\t AverageEpisodeLength = 636.9000244140625\n"
     ]
    },
    {
     "name": "stdout",
     "output_type": "stream",
     "text": [
      "212000 loss:0.00621\n",
      "elapsed_time: 41.24s\n",
      "212999 loss:0.00911"
     ]
    },
    {
     "name": "stderr",
     "output_type": "stream",
     "text": [
      "INFO:absl: \n",
      "\t\t NumberOfEpisodes = 2618\n",
      "\t\t EnvironmentSteps = 942156\n",
      "\t\t AverageReturn = 27.899999618530273\n",
      "\t\t AverageEpisodeLength = 581.0\n"
     ]
    },
    {
     "name": "stdout",
     "output_type": "stream",
     "text": [
      "213000 loss:0.00732\n",
      "elapsed_time: 41.27s\n",
      "213996 loss:0.00461"
     ]
    },
    {
     "name": "stderr",
     "output_type": "stream",
     "text": [
      "INFO:absl: \n",
      "\t\t NumberOfEpisodes = 2625\n",
      "\t\t EnvironmentSteps = 946156\n",
      "\t\t AverageReturn = 27.700000762939453\n",
      "\t\t AverageEpisodeLength = 540.0\n"
     ]
    },
    {
     "name": "stdout",
     "output_type": "stream",
     "text": [
      "214000 loss:0.00341\n",
      "elapsed_time: 41.24s\n",
      "214997 loss:0.10331"
     ]
    },
    {
     "name": "stderr",
     "output_type": "stream",
     "text": [
      "INFO:absl: \n",
      "\t\t NumberOfEpisodes = 2633\n",
      "\t\t EnvironmentSteps = 950156\n",
      "\t\t AverageReturn = 25.0\n",
      "\t\t AverageEpisodeLength = 516.5\n"
     ]
    },
    {
     "name": "stdout",
     "output_type": "stream",
     "text": [
      "215000 loss:0.00687\n",
      "elapsed_time: 41.30s\n",
      "215998 loss:0.00458"
     ]
    },
    {
     "name": "stderr",
     "output_type": "stream",
     "text": [
      "INFO:absl: \n",
      "\t\t NumberOfEpisodes = 2640\n",
      "\t\t EnvironmentSteps = 954156\n",
      "\t\t AverageReturn = 25.299999237060547\n",
      "\t\t AverageEpisodeLength = 528.2000122070312\n"
     ]
    },
    {
     "name": "stdout",
     "output_type": "stream",
     "text": [
      "216000 loss:0.00349\n",
      "elapsed_time: 41.28s\n",
      "216998 loss:0.02901"
     ]
    },
    {
     "name": "stderr",
     "output_type": "stream",
     "text": [
      "INFO:absl: \n",
      "\t\t NumberOfEpisodes = 2647\n",
      "\t\t EnvironmentSteps = 958156\n",
      "\t\t AverageReturn = 28.700000762939453\n",
      "\t\t AverageEpisodeLength = 565.5999755859375\n"
     ]
    },
    {
     "name": "stdout",
     "output_type": "stream",
     "text": [
      "217000 loss:0.00367\n",
      "elapsed_time: 41.27s\n",
      "217998 loss:0.00237"
     ]
    },
    {
     "name": "stderr",
     "output_type": "stream",
     "text": [
      "INFO:absl: \n",
      "\t\t NumberOfEpisodes = 2654\n",
      "\t\t EnvironmentSteps = 962156\n",
      "\t\t AverageReturn = 24.600000381469727\n",
      "\t\t AverageEpisodeLength = 542.2999877929688\n"
     ]
    },
    {
     "name": "stdout",
     "output_type": "stream",
     "text": [
      "218000 loss:0.00560\n",
      "elapsed_time: 41.28s\n",
      "218999 loss:0.00518"
     ]
    },
    {
     "name": "stderr",
     "output_type": "stream",
     "text": [
      "INFO:absl: \n",
      "\t\t NumberOfEpisodes = 2662\n",
      "\t\t EnvironmentSteps = 966156\n",
      "\t\t AverageReturn = 25.600000381469727\n",
      "\t\t AverageEpisodeLength = 575.2000122070312\n"
     ]
    },
    {
     "name": "stdout",
     "output_type": "stream",
     "text": [
      "219000 loss:0.00614\n",
      "elapsed_time: 41.27s\n",
      "219996 loss:0.00865"
     ]
    },
    {
     "name": "stderr",
     "output_type": "stream",
     "text": [
      "INFO:absl: \n",
      "\t\t NumberOfEpisodes = 2670\n",
      "\t\t EnvironmentSteps = 970156\n",
      "\t\t AverageReturn = 25.600000381469727\n",
      "\t\t AverageEpisodeLength = 475.1000061035156\n"
     ]
    },
    {
     "name": "stdout",
     "output_type": "stream",
     "text": [
      "220000 loss:0.00607\n",
      "elapsed_time: 41.24s\n",
      "220998 loss:0.00767"
     ]
    },
    {
     "name": "stderr",
     "output_type": "stream",
     "text": [
      "INFO:absl: \n",
      "\t\t NumberOfEpisodes = 2678\n",
      "\t\t EnvironmentSteps = 974156\n",
      "\t\t AverageReturn = 24.100000381469727\n",
      "\t\t AverageEpisodeLength = 489.79998779296875\n"
     ]
    },
    {
     "name": "stdout",
     "output_type": "stream",
     "text": [
      "221000 loss:0.00915\n",
      "elapsed_time: 41.26s\n",
      "221996 loss:0.00731"
     ]
    },
    {
     "name": "stderr",
     "output_type": "stream",
     "text": [
      "INFO:absl: \n",
      "\t\t NumberOfEpisodes = 2685\n",
      "\t\t EnvironmentSteps = 978156\n",
      "\t\t AverageReturn = 26.799999237060547\n",
      "\t\t AverageEpisodeLength = 552.4000244140625\n"
     ]
    },
    {
     "name": "stdout",
     "output_type": "stream",
     "text": [
      "222000 loss:0.00595\n",
      "elapsed_time: 41.22s\n",
      "222999 loss:0.01233"
     ]
    },
    {
     "name": "stderr",
     "output_type": "stream",
     "text": [
      "INFO:absl: \n",
      "\t\t NumberOfEpisodes = 2693\n",
      "\t\t EnvironmentSteps = 982156\n",
      "\t\t AverageReturn = 23.0\n",
      "\t\t AverageEpisodeLength = 505.29998779296875\n"
     ]
    },
    {
     "name": "stdout",
     "output_type": "stream",
     "text": [
      "223000 loss:0.00399\n",
      "elapsed_time: 41.25s\n",
      "223996 loss:0.00483"
     ]
    },
    {
     "name": "stderr",
     "output_type": "stream",
     "text": [
      "INFO:absl: \n",
      "\t\t NumberOfEpisodes = 2699\n",
      "\t\t EnvironmentSteps = 986156\n",
      "\t\t AverageReturn = 30.299999237060547\n",
      "\t\t AverageEpisodeLength = 556.2999877929688\n"
     ]
    },
    {
     "name": "stdout",
     "output_type": "stream",
     "text": [
      "224000 loss:0.00490\n",
      "elapsed_time: 41.21s\n",
      "224999 loss:0.00900"
     ]
    },
    {
     "name": "stderr",
     "output_type": "stream",
     "text": [
      "INFO:absl: \n",
      "\t\t NumberOfEpisodes = 2707\n",
      "\t\t EnvironmentSteps = 990156\n",
      "\t\t AverageReturn = 30.899999618530273\n",
      "\t\t AverageEpisodeLength = 551.4000244140625\n"
     ]
    },
    {
     "name": "stdout",
     "output_type": "stream",
     "text": [
      "225000 loss:0.01321\n",
      "elapsed_time: 41.24s\n",
      "225995 loss:0.01040"
     ]
    },
    {
     "name": "stderr",
     "output_type": "stream",
     "text": [
      "INFO:absl: \n",
      "\t\t NumberOfEpisodes = 2715\n",
      "\t\t EnvironmentSteps = 994156\n",
      "\t\t AverageReturn = 31.0\n",
      "\t\t AverageEpisodeLength = 508.1000061035156\n"
     ]
    },
    {
     "name": "stdout",
     "output_type": "stream",
     "text": [
      "226000 loss:0.00353\n",
      "elapsed_time: 41.29s\n",
      "226997 loss:0.00936"
     ]
    },
    {
     "name": "stderr",
     "output_type": "stream",
     "text": [
      "INFO:absl: \n",
      "\t\t NumberOfEpisodes = 2722\n",
      "\t\t EnvironmentSteps = 998156\n",
      "\t\t AverageReturn = 30.100000381469727\n",
      "\t\t AverageEpisodeLength = 549.7000122070312\n"
     ]
    },
    {
     "name": "stdout",
     "output_type": "stream",
     "text": [
      "227000 loss:0.00373\n",
      "elapsed_time: 41.27s\n",
      "227997 loss:0.00605"
     ]
    },
    {
     "name": "stderr",
     "output_type": "stream",
     "text": [
      "INFO:absl: \n",
      "\t\t NumberOfEpisodes = 2731\n",
      "\t\t EnvironmentSteps = 1002156\n",
      "\t\t AverageReturn = 25.0\n",
      "\t\t AverageEpisodeLength = 474.0\n"
     ]
    },
    {
     "name": "stdout",
     "output_type": "stream",
     "text": [
      "228000 loss:0.00958\n",
      "elapsed_time: 41.32s\n",
      "228998 loss:0.00692"
     ]
    },
    {
     "name": "stderr",
     "output_type": "stream",
     "text": [
      "INFO:absl: \n",
      "\t\t NumberOfEpisodes = 2737\n",
      "\t\t EnvironmentSteps = 1006156\n",
      "\t\t AverageReturn = 27.0\n",
      "\t\t AverageEpisodeLength = 565.2000122070312\n"
     ]
    },
    {
     "name": "stdout",
     "output_type": "stream",
     "text": [
      "229000 loss:0.01989\n",
      "elapsed_time: 41.21s\n",
      "229998 loss:0.00364"
     ]
    },
    {
     "name": "stderr",
     "output_type": "stream",
     "text": [
      "INFO:absl: \n",
      "\t\t NumberOfEpisodes = 2744\n",
      "\t\t EnvironmentSteps = 1010156\n",
      "\t\t AverageReturn = 28.0\n",
      "\t\t AverageEpisodeLength = 585.5999755859375\n"
     ]
    },
    {
     "name": "stdout",
     "output_type": "stream",
     "text": [
      "230000 loss:0.03266\n",
      "elapsed_time: 41.24s\n",
      "230999 loss:0.02435"
     ]
    },
    {
     "name": "stderr",
     "output_type": "stream",
     "text": [
      "INFO:absl: \n",
      "\t\t NumberOfEpisodes = 2751\n",
      "\t\t EnvironmentSteps = 1014156\n",
      "\t\t AverageReturn = 25.600000381469727\n",
      "\t\t AverageEpisodeLength = 557.2999877929688\n"
     ]
    },
    {
     "name": "stdout",
     "output_type": "stream",
     "text": [
      "231000 loss:0.01048\n",
      "elapsed_time: 41.25s\n",
      "231999 loss:0.00721"
     ]
    },
    {
     "name": "stderr",
     "output_type": "stream",
     "text": [
      "INFO:absl: \n",
      "\t\t NumberOfEpisodes = 2760\n",
      "\t\t EnvironmentSteps = 1018156\n",
      "\t\t AverageReturn = 22.899999618530273\n",
      "\t\t AverageEpisodeLength = 495.29998779296875\n"
     ]
    },
    {
     "name": "stdout",
     "output_type": "stream",
     "text": [
      "232000 loss:0.00585\n",
      "elapsed_time: 41.25s\n",
      "232999 loss:0.00603"
     ]
    },
    {
     "name": "stderr",
     "output_type": "stream",
     "text": [
      "INFO:absl: \n",
      "\t\t NumberOfEpisodes = 2769\n",
      "\t\t EnvironmentSteps = 1022156\n",
      "\t\t AverageReturn = 22.5\n",
      "\t\t AverageEpisodeLength = 484.5\n"
     ]
    },
    {
     "name": "stdout",
     "output_type": "stream",
     "text": [
      "233000 loss:0.01438\n",
      "elapsed_time: 41.28s\n",
      "233999 loss:0.00471"
     ]
    },
    {
     "name": "stderr",
     "output_type": "stream",
     "text": [
      "INFO:absl: \n",
      "\t\t NumberOfEpisodes = 2776\n",
      "\t\t EnvironmentSteps = 1026156\n",
      "\t\t AverageReturn = 23.399999618530273\n",
      "\t\t AverageEpisodeLength = 514.5999755859375\n"
     ]
    },
    {
     "name": "stdout",
     "output_type": "stream",
     "text": [
      "234000 loss:0.00500\n",
      "elapsed_time: 41.21s\n",
      "234995 loss:0.01472"
     ]
    },
    {
     "name": "stderr",
     "output_type": "stream",
     "text": [
      "INFO:absl: \n",
      "\t\t NumberOfEpisodes = 2783\n",
      "\t\t EnvironmentSteps = 1030156\n",
      "\t\t AverageReturn = 23.600000381469727\n",
      "\t\t AverageEpisodeLength = 551.7999877929688\n"
     ]
    },
    {
     "name": "stdout",
     "output_type": "stream",
     "text": [
      "235000 loss:0.00886\n",
      "elapsed_time: 41.26s\n",
      "235996 loss:0.00994"
     ]
    },
    {
     "name": "stderr",
     "output_type": "stream",
     "text": [
      "INFO:absl: \n",
      "\t\t NumberOfEpisodes = 2791\n",
      "\t\t EnvironmentSteps = 1034156\n",
      "\t\t AverageReturn = 24.700000762939453\n",
      "\t\t AverageEpisodeLength = 502.5\n"
     ]
    },
    {
     "name": "stdout",
     "output_type": "stream",
     "text": [
      "236000 loss:0.00239\n",
      "elapsed_time: 41.33s\n",
      "236997 loss:0.01338"
     ]
    },
    {
     "name": "stderr",
     "output_type": "stream",
     "text": [
      "INFO:absl: \n",
      "\t\t NumberOfEpisodes = 2800\n",
      "\t\t EnvironmentSteps = 1038156\n",
      "\t\t AverageReturn = 23.799999237060547\n",
      "\t\t AverageEpisodeLength = 477.79998779296875\n"
     ]
    },
    {
     "name": "stdout",
     "output_type": "stream",
     "text": [
      "237000 loss:0.04002\n",
      "elapsed_time: 41.35s\n",
      "237999 loss:0.01861"
     ]
    },
    {
     "name": "stderr",
     "output_type": "stream",
     "text": [
      "INFO:absl: \n",
      "\t\t NumberOfEpisodes = 2808\n",
      "\t\t EnvironmentSteps = 1042156\n",
      "\t\t AverageReturn = 23.700000762939453\n",
      "\t\t AverageEpisodeLength = 473.5\n"
     ]
    },
    {
     "name": "stdout",
     "output_type": "stream",
     "text": [
      "238000 loss:0.01848\n",
      "elapsed_time: 41.33s\n",
      "238996 loss:0.01109"
     ]
    },
    {
     "name": "stderr",
     "output_type": "stream",
     "text": [
      "INFO:absl: \n",
      "\t\t NumberOfEpisodes = 2815\n",
      "\t\t EnvironmentSteps = 1046156\n",
      "\t\t AverageReturn = 29.100000381469727\n",
      "\t\t AverageEpisodeLength = 495.29998779296875\n"
     ]
    },
    {
     "name": "stdout",
     "output_type": "stream",
     "text": [
      "239000 loss:0.00454\n",
      "elapsed_time: 41.28s\n",
      "239997 loss:0.01545"
     ]
    },
    {
     "name": "stderr",
     "output_type": "stream",
     "text": [
      "INFO:absl: \n",
      "\t\t NumberOfEpisodes = 2824\n",
      "\t\t EnvironmentSteps = 1050156\n",
      "\t\t AverageReturn = 26.399999618530273\n",
      "\t\t AverageEpisodeLength = 481.29998779296875\n"
     ]
    },
    {
     "name": "stdout",
     "output_type": "stream",
     "text": [
      "240000 loss:0.01558\n",
      "elapsed_time: 41.27s\n",
      "240998 loss:0.01930"
     ]
    },
    {
     "name": "stderr",
     "output_type": "stream",
     "text": [
      "INFO:absl: \n",
      "\t\t NumberOfEpisodes = 2833\n",
      "\t\t EnvironmentSteps = 1054156\n",
      "\t\t AverageReturn = 21.600000381469727\n",
      "\t\t AverageEpisodeLength = 456.8999938964844\n"
     ]
    },
    {
     "name": "stdout",
     "output_type": "stream",
     "text": [
      "241000 loss:0.01114\n",
      "elapsed_time: 41.25s\n",
      "241999 loss:0.00568"
     ]
    },
    {
     "name": "stderr",
     "output_type": "stream",
     "text": [
      "INFO:absl: \n",
      "\t\t NumberOfEpisodes = 2841\n",
      "\t\t EnvironmentSteps = 1058156\n",
      "\t\t AverageReturn = 20.899999618530273\n",
      "\t\t AverageEpisodeLength = 456.5\n"
     ]
    },
    {
     "name": "stdout",
     "output_type": "stream",
     "text": [
      "242000 loss:0.00515\n",
      "elapsed_time: 41.25s\n",
      "242999 loss:0.00701"
     ]
    },
    {
     "name": "stderr",
     "output_type": "stream",
     "text": [
      "INFO:absl: \n",
      "\t\t NumberOfEpisodes = 2850\n",
      "\t\t EnvironmentSteps = 1062156\n",
      "\t\t AverageReturn = 24.299999237060547\n",
      "\t\t AverageEpisodeLength = 463.1000061035156\n"
     ]
    },
    {
     "name": "stdout",
     "output_type": "stream",
     "text": [
      "243000 loss:0.01047\n",
      "elapsed_time: 41.26s\n",
      "243995 loss:0.01059"
     ]
    },
    {
     "name": "stderr",
     "output_type": "stream",
     "text": [
      "INFO:absl: \n",
      "\t\t NumberOfEpisodes = 2860\n",
      "\t\t EnvironmentSteps = 1066156\n",
      "\t\t AverageReturn = 19.700000762939453\n",
      "\t\t AverageEpisodeLength = 426.3999938964844\n"
     ]
    },
    {
     "name": "stdout",
     "output_type": "stream",
     "text": [
      "244000 loss:0.00769\n",
      "elapsed_time: 41.29s\n",
      "244996 loss:0.00809"
     ]
    },
    {
     "name": "stderr",
     "output_type": "stream",
     "text": [
      "INFO:absl: \n",
      "\t\t NumberOfEpisodes = 2869\n",
      "\t\t EnvironmentSteps = 1070156\n",
      "\t\t AverageReturn = 21.899999618530273\n",
      "\t\t AverageEpisodeLength = 436.0\n"
     ]
    },
    {
     "name": "stdout",
     "output_type": "stream",
     "text": [
      "245000 loss:0.00817\n",
      "elapsed_time: 41.27s\n",
      "245996 loss:0.00750"
     ]
    },
    {
     "name": "stderr",
     "output_type": "stream",
     "text": [
      "INFO:absl: \n",
      "\t\t NumberOfEpisodes = 2878\n",
      "\t\t EnvironmentSteps = 1074156\n",
      "\t\t AverageReturn = 20.100000381469727\n",
      "\t\t AverageEpisodeLength = 416.29998779296875\n"
     ]
    },
    {
     "name": "stdout",
     "output_type": "stream",
     "text": [
      "246000 loss:0.00561\n",
      "elapsed_time: 41.31s\n",
      "246996 loss:0.01210"
     ]
    },
    {
     "name": "stderr",
     "output_type": "stream",
     "text": [
      "INFO:absl: \n",
      "\t\t NumberOfEpisodes = 2887\n",
      "\t\t EnvironmentSteps = 1078156\n",
      "\t\t AverageReturn = 24.0\n",
      "\t\t AverageEpisodeLength = 451.79998779296875\n"
     ]
    },
    {
     "name": "stdout",
     "output_type": "stream",
     "text": [
      "247000 loss:0.02802\n",
      "elapsed_time: 41.31s\n",
      "247996 loss:0.00373"
     ]
    },
    {
     "name": "stderr",
     "output_type": "stream",
     "text": [
      "INFO:absl: \n",
      "\t\t NumberOfEpisodes = 2897\n",
      "\t\t EnvironmentSteps = 1082156\n",
      "\t\t AverageReturn = 16.899999618530273\n",
      "\t\t AverageEpisodeLength = 402.1000061035156\n"
     ]
    },
    {
     "name": "stdout",
     "output_type": "stream",
     "text": [
      "248000 loss:0.00404\n",
      "elapsed_time: 41.35s\n",
      "248998 loss:0.00859"
     ]
    },
    {
     "name": "stderr",
     "output_type": "stream",
     "text": [
      "INFO:absl: \n",
      "\t\t NumberOfEpisodes = 2906\n",
      "\t\t EnvironmentSteps = 1086156\n",
      "\t\t AverageReturn = 19.0\n",
      "\t\t AverageEpisodeLength = 415.79998779296875\n"
     ]
    },
    {
     "name": "stdout",
     "output_type": "stream",
     "text": [
      "249000 loss:0.00291\n",
      "elapsed_time: 41.40s\n",
      "249999 loss:0.00865"
     ]
    },
    {
     "name": "stderr",
     "output_type": "stream",
     "text": [
      "INFO:absl: \n",
      "\t\t NumberOfEpisodes = 2916\n",
      "\t\t EnvironmentSteps = 1090156\n",
      "\t\t AverageReturn = 17.100000381469727\n",
      "\t\t AverageEpisodeLength = 416.0\n"
     ]
    },
    {
     "name": "stdout",
     "output_type": "stream",
     "text": [
      "250000 loss:0.05406\n",
      "elapsed_time: 41.42s\n",
      "250995 loss:0.00508"
     ]
    },
    {
     "name": "stderr",
     "output_type": "stream",
     "text": [
      "INFO:absl: \n",
      "\t\t NumberOfEpisodes = 2926\n",
      "\t\t EnvironmentSteps = 1094156\n",
      "\t\t AverageReturn = 18.799999237060547\n",
      "\t\t AverageEpisodeLength = 396.5\n"
     ]
    },
    {
     "name": "stdout",
     "output_type": "stream",
     "text": [
      "251000 loss:0.00475\n",
      "elapsed_time: 41.38s\n",
      "251995 loss:0.00707"
     ]
    },
    {
     "name": "stderr",
     "output_type": "stream",
     "text": [
      "INFO:absl: \n",
      "\t\t NumberOfEpisodes = 2936\n",
      "\t\t EnvironmentSteps = 1098156\n",
      "\t\t AverageReturn = 19.200000762939453\n",
      "\t\t AverageEpisodeLength = 424.6000061035156\n"
     ]
    },
    {
     "name": "stdout",
     "output_type": "stream",
     "text": [
      "252000 loss:0.00594\n",
      "elapsed_time: 41.35s\n",
      "252996 loss:0.01030"
     ]
    },
    {
     "name": "stderr",
     "output_type": "stream",
     "text": [
      "INFO:absl: \n",
      "\t\t NumberOfEpisodes = 2946\n",
      "\t\t EnvironmentSteps = 1102156\n",
      "\t\t AverageReturn = 19.0\n",
      "\t\t AverageEpisodeLength = 391.20001220703125\n"
     ]
    },
    {
     "name": "stdout",
     "output_type": "stream",
     "text": [
      "253000 loss:0.00565\n",
      "elapsed_time: 41.39s\n",
      "253997 loss:0.00655"
     ]
    },
    {
     "name": "stderr",
     "output_type": "stream",
     "text": [
      "INFO:absl: \n",
      "\t\t NumberOfEpisodes = 2956\n",
      "\t\t EnvironmentSteps = 1106156\n",
      "\t\t AverageReturn = 19.299999237060547\n",
      "\t\t AverageEpisodeLength = 413.1000061035156\n"
     ]
    },
    {
     "name": "stdout",
     "output_type": "stream",
     "text": [
      "254000 loss:0.00488\n",
      "elapsed_time: 41.30s\n",
      "254997 loss:0.01180"
     ]
    },
    {
     "name": "stderr",
     "output_type": "stream",
     "text": [
      "INFO:absl: \n",
      "\t\t NumberOfEpisodes = 2964\n",
      "\t\t EnvironmentSteps = 1110156\n",
      "\t\t AverageReturn = 20.0\n",
      "\t\t AverageEpisodeLength = 463.6000061035156\n"
     ]
    },
    {
     "name": "stdout",
     "output_type": "stream",
     "text": [
      "255000 loss:0.00427\n",
      "elapsed_time: 41.30s\n",
      "255999 loss:0.00545"
     ]
    },
    {
     "name": "stderr",
     "output_type": "stream",
     "text": [
      "INFO:absl: \n",
      "\t\t NumberOfEpisodes = 2972\n",
      "\t\t EnvironmentSteps = 1114156\n",
      "\t\t AverageReturn = 45.099998474121094\n",
      "\t\t AverageEpisodeLength = 479.29998779296875\n"
     ]
    },
    {
     "name": "stdout",
     "output_type": "stream",
     "text": [
      "256000 loss:0.03699\n",
      "elapsed_time: 41.35s\n",
      "256999 loss:0.01073"
     ]
    },
    {
     "name": "stderr",
     "output_type": "stream",
     "text": [
      "INFO:absl: \n",
      "\t\t NumberOfEpisodes = 2980\n",
      "\t\t EnvironmentSteps = 1118156\n",
      "\t\t AverageReturn = 23.399999618530273\n",
      "\t\t AverageEpisodeLength = 516.2000122070312\n"
     ]
    },
    {
     "name": "stdout",
     "output_type": "stream",
     "text": [
      "257000 loss:0.02879\n",
      "elapsed_time: 41.30s\n",
      "257999 loss:0.02399"
     ]
    },
    {
     "name": "stderr",
     "output_type": "stream",
     "text": [
      "INFO:absl: \n",
      "\t\t NumberOfEpisodes = 2987\n",
      "\t\t EnvironmentSteps = 1122156\n",
      "\t\t AverageReturn = 26.899999618530273\n",
      "\t\t AverageEpisodeLength = 523.0\n"
     ]
    },
    {
     "name": "stdout",
     "output_type": "stream",
     "text": [
      "258000 loss:0.02448\n",
      "elapsed_time: 41.27s\n",
      "258996 loss:0.00570"
     ]
    },
    {
     "name": "stderr",
     "output_type": "stream",
     "text": [
      "INFO:absl: \n",
      "\t\t NumberOfEpisodes = 2997\n",
      "\t\t EnvironmentSteps = 1126156\n",
      "\t\t AverageReturn = 18.5\n",
      "\t\t AverageEpisodeLength = 428.8999938964844\n"
     ]
    },
    {
     "name": "stdout",
     "output_type": "stream",
     "text": [
      "259000 loss:0.00617\n",
      "elapsed_time: 41.37s\n",
      "259996 loss:0.00586"
     ]
    },
    {
     "name": "stderr",
     "output_type": "stream",
     "text": [
      "INFO:absl: \n",
      "\t\t NumberOfEpisodes = 3005\n",
      "\t\t EnvironmentSteps = 1130156\n",
      "\t\t AverageReturn = 20.100000381469727\n",
      "\t\t AverageEpisodeLength = 436.29998779296875\n"
     ]
    },
    {
     "name": "stdout",
     "output_type": "stream",
     "text": [
      "260000 loss:0.01241\n",
      "elapsed_time: 41.34s\n",
      "260997 loss:0.01017"
     ]
    },
    {
     "name": "stderr",
     "output_type": "stream",
     "text": [
      "INFO:absl: \n",
      "\t\t NumberOfEpisodes = 3014\n",
      "\t\t EnvironmentSteps = 1134156\n",
      "\t\t AverageReturn = 16.899999618530273\n",
      "\t\t AverageEpisodeLength = 457.8999938964844\n"
     ]
    },
    {
     "name": "stdout",
     "output_type": "stream",
     "text": [
      "261000 loss:0.01616\n",
      "elapsed_time: 41.34s\n",
      "261997 loss:0.01058"
     ]
    },
    {
     "name": "stderr",
     "output_type": "stream",
     "text": [
      "INFO:absl: \n",
      "\t\t NumberOfEpisodes = 3024\n",
      "\t\t EnvironmentSteps = 1138156\n",
      "\t\t AverageReturn = 22.799999237060547\n",
      "\t\t AverageEpisodeLength = 426.1000061035156\n"
     ]
    },
    {
     "name": "stdout",
     "output_type": "stream",
     "text": [
      "262000 loss:0.01750\n",
      "elapsed_time: 41.41s\n",
      "262997 loss:0.02794"
     ]
    },
    {
     "name": "stderr",
     "output_type": "stream",
     "text": [
      "INFO:absl: \n",
      "\t\t NumberOfEpisodes = 3032\n",
      "\t\t EnvironmentSteps = 1142156\n",
      "\t\t AverageReturn = 17.899999618530273\n",
      "\t\t AverageEpisodeLength = 470.29998779296875\n"
     ]
    },
    {
     "name": "stdout",
     "output_type": "stream",
     "text": [
      "263000 loss:0.00478\n",
      "elapsed_time: 41.44s\n",
      "263998 loss:0.00945"
     ]
    },
    {
     "name": "stderr",
     "output_type": "stream",
     "text": [
      "INFO:absl: \n",
      "\t\t NumberOfEpisodes = 3040\n",
      "\t\t EnvironmentSteps = 1146156\n",
      "\t\t AverageReturn = 20.600000381469727\n",
      "\t\t AverageEpisodeLength = 513.9000244140625\n"
     ]
    },
    {
     "name": "stdout",
     "output_type": "stream",
     "text": [
      "264000 loss:0.00532\n",
      "elapsed_time: 41.28s\n",
      "264999 loss:0.03388"
     ]
    },
    {
     "name": "stderr",
     "output_type": "stream",
     "text": [
      "INFO:absl: \n",
      "\t\t NumberOfEpisodes = 3049\n",
      "\t\t EnvironmentSteps = 1150156\n",
      "\t\t AverageReturn = 20.700000762939453\n",
      "\t\t AverageEpisodeLength = 432.20001220703125\n"
     ]
    },
    {
     "name": "stdout",
     "output_type": "stream",
     "text": [
      "265000 loss:0.00665\n",
      "elapsed_time: 41.30s\n",
      "265995 loss:0.00507"
     ]
    },
    {
     "name": "stderr",
     "output_type": "stream",
     "text": [
      "INFO:absl: \n",
      "\t\t NumberOfEpisodes = 3058\n",
      "\t\t EnvironmentSteps = 1154156\n",
      "\t\t AverageReturn = 18.299999237060547\n",
      "\t\t AverageEpisodeLength = 438.5\n"
     ]
    },
    {
     "name": "stdout",
     "output_type": "stream",
     "text": [
      "266000 loss:0.00349\n",
      "elapsed_time: 41.29s\n",
      "266996 loss:0.03370"
     ]
    },
    {
     "name": "stderr",
     "output_type": "stream",
     "text": [
      "INFO:absl: \n",
      "\t\t NumberOfEpisodes = 3066\n",
      "\t\t EnvironmentSteps = 1158156\n",
      "\t\t AverageReturn = 29.700000762939453\n",
      "\t\t AverageEpisodeLength = 511.20001220703125\n"
     ]
    },
    {
     "name": "stdout",
     "output_type": "stream",
     "text": [
      "267000 loss:0.01020\n",
      "elapsed_time: 41.27s\n",
      "267997 loss:0.01183"
     ]
    },
    {
     "name": "stderr",
     "output_type": "stream",
     "text": [
      "INFO:absl: \n",
      "\t\t NumberOfEpisodes = 3074\n",
      "\t\t EnvironmentSteps = 1162156\n",
      "\t\t AverageReturn = 26.600000381469727\n",
      "\t\t AverageEpisodeLength = 456.8999938964844\n"
     ]
    },
    {
     "name": "stdout",
     "output_type": "stream",
     "text": [
      "268000 loss:0.02212\n",
      "elapsed_time: 41.55s\n",
      "268998 loss:0.00814"
     ]
    },
    {
     "name": "stderr",
     "output_type": "stream",
     "text": [
      "INFO:absl: \n",
      "\t\t NumberOfEpisodes = 3083\n",
      "\t\t EnvironmentSteps = 1166156\n",
      "\t\t AverageReturn = 23.100000381469727\n",
      "\t\t AverageEpisodeLength = 453.6000061035156\n"
     ]
    },
    {
     "name": "stdout",
     "output_type": "stream",
     "text": [
      "269000 loss:0.00515\n",
      "elapsed_time: 41.30s\n",
      "269995 loss:0.01694"
     ]
    },
    {
     "name": "stderr",
     "output_type": "stream",
     "text": [
      "INFO:absl: \n",
      "\t\t NumberOfEpisodes = 3093\n",
      "\t\t EnvironmentSteps = 1170156\n",
      "\t\t AverageReturn = 15.699999809265137\n",
      "\t\t AverageEpisodeLength = 418.20001220703125\n"
     ]
    },
    {
     "name": "stdout",
     "output_type": "stream",
     "text": [
      "270000 loss:0.01233\n",
      "elapsed_time: 41.28s\n",
      "270996 loss:0.01634"
     ]
    },
    {
     "name": "stderr",
     "output_type": "stream",
     "text": [
      "INFO:absl: \n",
      "\t\t NumberOfEpisodes = 3101\n",
      "\t\t EnvironmentSteps = 1174156\n",
      "\t\t AverageReturn = 27.700000762939453\n",
      "\t\t AverageEpisodeLength = 486.5\n"
     ]
    },
    {
     "name": "stdout",
     "output_type": "stream",
     "text": [
      "271000 loss:0.00793\n",
      "elapsed_time: 41.58s\n",
      "271996 loss:0.01727"
     ]
    },
    {
     "name": "stderr",
     "output_type": "stream",
     "text": [
      "INFO:absl: \n",
      "\t\t NumberOfEpisodes = 3109\n",
      "\t\t EnvironmentSteps = 1178156\n",
      "\t\t AverageReturn = 22.299999237060547\n",
      "\t\t AverageEpisodeLength = 490.6000061035156\n"
     ]
    },
    {
     "name": "stdout",
     "output_type": "stream",
     "text": [
      "272000 loss:0.01942\n",
      "elapsed_time: 41.25s\n",
      "272996 loss:0.00898"
     ]
    },
    {
     "name": "stderr",
     "output_type": "stream",
     "text": [
      "INFO:absl: \n",
      "\t\t NumberOfEpisodes = 3117\n",
      "\t\t EnvironmentSteps = 1182156\n",
      "\t\t AverageReturn = 25.100000381469727\n",
      "\t\t AverageEpisodeLength = 513.2000122070312\n"
     ]
    },
    {
     "name": "stdout",
     "output_type": "stream",
     "text": [
      "273000 loss:0.00696\n",
      "elapsed_time: 41.26s\n",
      "273996 loss:0.02013"
     ]
    },
    {
     "name": "stderr",
     "output_type": "stream",
     "text": [
      "INFO:absl: \n",
      "\t\t NumberOfEpisodes = 3124\n",
      "\t\t EnvironmentSteps = 1186156\n",
      "\t\t AverageReturn = 26.700000762939453\n",
      "\t\t AverageEpisodeLength = 566.7000122070312\n"
     ]
    },
    {
     "name": "stdout",
     "output_type": "stream",
     "text": [
      "274000 loss:0.00604\n",
      "elapsed_time: 41.87s\n",
      "274996 loss:0.00709"
     ]
    },
    {
     "name": "stderr",
     "output_type": "stream",
     "text": [
      "INFO:absl: \n",
      "\t\t NumberOfEpisodes = 3132\n",
      "\t\t EnvironmentSteps = 1190156\n",
      "\t\t AverageReturn = 27.399999618530273\n",
      "\t\t AverageEpisodeLength = 524.7000122070312\n"
     ]
    },
    {
     "name": "stdout",
     "output_type": "stream",
     "text": [
      "275000 loss:0.00436\n",
      "elapsed_time: 41.30s\n",
      "275999 loss:0.00449"
     ]
    },
    {
     "name": "stderr",
     "output_type": "stream",
     "text": [
      "INFO:absl: \n",
      "\t\t NumberOfEpisodes = 3140\n",
      "\t\t EnvironmentSteps = 1194156\n",
      "\t\t AverageReturn = 31.899999618530273\n",
      "\t\t AverageEpisodeLength = 503.1000061035156\n"
     ]
    },
    {
     "name": "stdout",
     "output_type": "stream",
     "text": [
      "276000 loss:0.03980\n",
      "elapsed_time: 41.27s\n",
      "276999 loss:0.02793"
     ]
    },
    {
     "name": "stderr",
     "output_type": "stream",
     "text": [
      "INFO:absl: \n",
      "\t\t NumberOfEpisodes = 3148\n",
      "\t\t EnvironmentSteps = 1198156\n",
      "\t\t AverageReturn = 28.200000762939453\n",
      "\t\t AverageEpisodeLength = 487.20001220703125\n"
     ]
    },
    {
     "name": "stdout",
     "output_type": "stream",
     "text": [
      "277000 loss:0.01211\n",
      "elapsed_time: 41.28s\n",
      "277996 loss:0.01631"
     ]
    },
    {
     "name": "stderr",
     "output_type": "stream",
     "text": [
      "INFO:absl: \n",
      "\t\t NumberOfEpisodes = 3157\n",
      "\t\t EnvironmentSteps = 1202156\n",
      "\t\t AverageReturn = 21.200000762939453\n",
      "\t\t AverageEpisodeLength = 450.0\n"
     ]
    },
    {
     "name": "stdout",
     "output_type": "stream",
     "text": [
      "278000 loss:0.00776\n",
      "elapsed_time: 41.31s\n",
      "278998 loss:0.02580"
     ]
    },
    {
     "name": "stderr",
     "output_type": "stream",
     "text": [
      "INFO:absl: \n",
      "\t\t NumberOfEpisodes = 3165\n",
      "\t\t EnvironmentSteps = 1206156\n",
      "\t\t AverageReturn = 26.799999237060547\n",
      "\t\t AverageEpisodeLength = 480.6000061035156\n"
     ]
    },
    {
     "name": "stdout",
     "output_type": "stream",
     "text": [
      "279000 loss:0.02408\n",
      "elapsed_time: 41.62s\n",
      "279998 loss:0.01268"
     ]
    },
    {
     "name": "stderr",
     "output_type": "stream",
     "text": [
      "INFO:absl: \n",
      "\t\t NumberOfEpisodes = 3173\n",
      "\t\t EnvironmentSteps = 1210156\n",
      "\t\t AverageReturn = 27.399999618530273\n",
      "\t\t AverageEpisodeLength = 482.3999938964844\n"
     ]
    },
    {
     "name": "stdout",
     "output_type": "stream",
     "text": [
      "280000 loss:0.01021\n",
      "elapsed_time: 41.31s\n",
      "280998 loss:0.00785"
     ]
    },
    {
     "name": "stderr",
     "output_type": "stream",
     "text": [
      "INFO:absl: \n",
      "\t\t NumberOfEpisodes = 3181\n",
      "\t\t EnvironmentSteps = 1214156\n",
      "\t\t AverageReturn = 29.5\n",
      "\t\t AverageEpisodeLength = 534.4000244140625\n"
     ]
    },
    {
     "name": "stdout",
     "output_type": "stream",
     "text": [
      "281000 loss:0.01234\n",
      "elapsed_time: 41.45s\n",
      "281999 loss:0.00735"
     ]
    },
    {
     "name": "stderr",
     "output_type": "stream",
     "text": [
      "INFO:absl: \n",
      "\t\t NumberOfEpisodes = 3188\n",
      "\t\t EnvironmentSteps = 1218156\n",
      "\t\t AverageReturn = 30.100000381469727\n",
      "\t\t AverageEpisodeLength = 544.5\n"
     ]
    },
    {
     "name": "stdout",
     "output_type": "stream",
     "text": [
      "282000 loss:0.02230\n",
      "elapsed_time: 41.31s\n",
      "282999 loss:0.00711"
     ]
    },
    {
     "name": "stderr",
     "output_type": "stream",
     "text": [
      "INFO:absl: \n",
      "\t\t NumberOfEpisodes = 3196\n",
      "\t\t EnvironmentSteps = 1222156\n",
      "\t\t AverageReturn = 28.100000381469727\n",
      "\t\t AverageEpisodeLength = 542.5999755859375\n"
     ]
    },
    {
     "name": "stdout",
     "output_type": "stream",
     "text": [
      "283000 loss:0.02584\n",
      "elapsed_time: 41.28s\n",
      "283999 loss:0.01400"
     ]
    },
    {
     "name": "stderr",
     "output_type": "stream",
     "text": [
      "INFO:absl: \n",
      "\t\t NumberOfEpisodes = 3203\n",
      "\t\t EnvironmentSteps = 1226156\n",
      "\t\t AverageReturn = 36.20000076293945\n",
      "\t\t AverageEpisodeLength = 536.4000244140625\n"
     ]
    },
    {
     "name": "stdout",
     "output_type": "stream",
     "text": [
      "284000 loss:0.00613\n",
      "elapsed_time: 41.31s\n",
      "284995 loss:0.01448"
     ]
    },
    {
     "name": "stderr",
     "output_type": "stream",
     "text": [
      "INFO:absl: \n",
      "\t\t NumberOfEpisodes = 3212\n",
      "\t\t EnvironmentSteps = 1230156\n",
      "\t\t AverageReturn = 22.100000381469727\n",
      "\t\t AverageEpisodeLength = 434.6000061035156\n"
     ]
    },
    {
     "name": "stdout",
     "output_type": "stream",
     "text": [
      "285000 loss:0.02384\n",
      "elapsed_time: 41.30s\n",
      "285996 loss:0.01307"
     ]
    },
    {
     "name": "stderr",
     "output_type": "stream",
     "text": [
      "INFO:absl: \n",
      "\t\t NumberOfEpisodes = 3221\n",
      "\t\t EnvironmentSteps = 1234156\n",
      "\t\t AverageReturn = 31.700000762939453\n",
      "\t\t AverageEpisodeLength = 482.20001220703125\n"
     ]
    },
    {
     "name": "stdout",
     "output_type": "stream",
     "text": [
      "286000 loss:0.01503\n",
      "elapsed_time: 41.58s\n",
      "286996 loss:0.01225"
     ]
    },
    {
     "name": "stderr",
     "output_type": "stream",
     "text": [
      "INFO:absl: \n",
      "\t\t NumberOfEpisodes = 3229\n",
      "\t\t EnvironmentSteps = 1238156\n",
      "\t\t AverageReturn = 30.299999237060547\n",
      "\t\t AverageEpisodeLength = 484.5\n"
     ]
    },
    {
     "name": "stdout",
     "output_type": "stream",
     "text": [
      "287000 loss:0.01647\n",
      "elapsed_time: 41.27s\n",
      "287995 loss:0.00927"
     ]
    },
    {
     "name": "stderr",
     "output_type": "stream",
     "text": [
      "INFO:absl: \n",
      "\t\t NumberOfEpisodes = 3239\n",
      "\t\t EnvironmentSteps = 1242156\n",
      "\t\t AverageReturn = 21.799999237060547\n",
      "\t\t AverageEpisodeLength = 415.20001220703125\n"
     ]
    },
    {
     "name": "stdout",
     "output_type": "stream",
     "text": [
      "288000 loss:0.04357\n",
      "elapsed_time: 41.29s\n",
      "288995 loss:0.04059"
     ]
    },
    {
     "name": "stderr",
     "output_type": "stream",
     "text": [
      "INFO:absl: \n",
      "\t\t NumberOfEpisodes = 3247\n",
      "\t\t EnvironmentSteps = 1246156\n",
      "\t\t AverageReturn = 26.0\n",
      "\t\t AverageEpisodeLength = 448.29998779296875\n"
     ]
    },
    {
     "name": "stdout",
     "output_type": "stream",
     "text": [
      "289000 loss:0.04284\n",
      "elapsed_time: 41.31s\n",
      "289998 loss:0.00436"
     ]
    },
    {
     "name": "stderr",
     "output_type": "stream",
     "text": [
      "INFO:absl: \n",
      "\t\t NumberOfEpisodes = 3256\n",
      "\t\t EnvironmentSteps = 1250156\n",
      "\t\t AverageReturn = 30.799999237060547\n",
      "\t\t AverageEpisodeLength = 500.6000061035156\n"
     ]
    },
    {
     "name": "stdout",
     "output_type": "stream",
     "text": [
      "290000 loss:0.00968\n",
      "elapsed_time: 41.30s\n",
      "290998 loss:0.01402"
     ]
    },
    {
     "name": "stderr",
     "output_type": "stream",
     "text": [
      "INFO:absl: \n",
      "\t\t NumberOfEpisodes = 3264\n",
      "\t\t EnvironmentSteps = 1254156\n",
      "\t\t AverageReturn = 21.200000762939453\n",
      "\t\t AverageEpisodeLength = 434.8999938964844\n"
     ]
    },
    {
     "name": "stdout",
     "output_type": "stream",
     "text": [
      "291000 loss:0.01884\n",
      "elapsed_time: 41.30s\n",
      "291998 loss:0.00394"
     ]
    },
    {
     "name": "stderr",
     "output_type": "stream",
     "text": [
      "INFO:absl: \n",
      "\t\t NumberOfEpisodes = 3272\n",
      "\t\t EnvironmentSteps = 1258156\n",
      "\t\t AverageReturn = 25.600000381469727\n",
      "\t\t AverageEpisodeLength = 480.1000061035156\n"
     ]
    },
    {
     "name": "stdout",
     "output_type": "stream",
     "text": [
      "292000 loss:0.00699\n",
      "elapsed_time: 41.23s\n",
      "292995 loss:0.00418"
     ]
    },
    {
     "name": "stderr",
     "output_type": "stream",
     "text": [
      "INFO:absl: \n",
      "\t\t NumberOfEpisodes = 3281\n",
      "\t\t EnvironmentSteps = 1262156\n",
      "\t\t AverageReturn = 28.0\n",
      "\t\t AverageEpisodeLength = 504.6000061035156\n"
     ]
    },
    {
     "name": "stdout",
     "output_type": "stream",
     "text": [
      "293000 loss:0.01458\n",
      "elapsed_time: 41.24s\n",
      "293995 loss:0.03075"
     ]
    },
    {
     "name": "stderr",
     "output_type": "stream",
     "text": [
      "INFO:absl: \n",
      "\t\t NumberOfEpisodes = 3289\n",
      "\t\t EnvironmentSteps = 1266156\n",
      "\t\t AverageReturn = 25.600000381469727\n",
      "\t\t AverageEpisodeLength = 471.3999938964844\n"
     ]
    },
    {
     "name": "stdout",
     "output_type": "stream",
     "text": [
      "294000 loss:0.01092\n",
      "elapsed_time: 41.26s\n",
      "294996 loss:0.01622"
     ]
    },
    {
     "name": "stderr",
     "output_type": "stream",
     "text": [
      "INFO:absl: \n",
      "\t\t NumberOfEpisodes = 3298\n",
      "\t\t EnvironmentSteps = 1270156\n",
      "\t\t AverageReturn = 23.600000381469727\n",
      "\t\t AverageEpisodeLength = 454.20001220703125\n"
     ]
    },
    {
     "name": "stdout",
     "output_type": "stream",
     "text": [
      "295000 loss:0.04117\n",
      "elapsed_time: 41.29s\n",
      "295998 loss:0.00716"
     ]
    },
    {
     "name": "stderr",
     "output_type": "stream",
     "text": [
      "INFO:absl: \n",
      "\t\t NumberOfEpisodes = 3306\n",
      "\t\t EnvironmentSteps = 1274156\n",
      "\t\t AverageReturn = 23.0\n",
      "\t\t AverageEpisodeLength = 466.5\n"
     ]
    },
    {
     "name": "stdout",
     "output_type": "stream",
     "text": [
      "296000 loss:0.01045\n",
      "elapsed_time: 41.27s\n",
      "296998 loss:0.02097"
     ]
    },
    {
     "name": "stderr",
     "output_type": "stream",
     "text": [
      "INFO:absl: \n",
      "\t\t NumberOfEpisodes = 3316\n",
      "\t\t EnvironmentSteps = 1278156\n",
      "\t\t AverageReturn = 23.0\n",
      "\t\t AverageEpisodeLength = 432.79998779296875\n"
     ]
    },
    {
     "name": "stdout",
     "output_type": "stream",
     "text": [
      "297000 loss:0.01144\n",
      "elapsed_time: 41.29s\n",
      "297997 loss:0.02108"
     ]
    },
    {
     "name": "stderr",
     "output_type": "stream",
     "text": [
      "INFO:absl: \n",
      "\t\t NumberOfEpisodes = 3324\n",
      "\t\t EnvironmentSteps = 1282156\n",
      "\t\t AverageReturn = 25.299999237060547\n",
      "\t\t AverageEpisodeLength = 465.70001220703125\n"
     ]
    },
    {
     "name": "stdout",
     "output_type": "stream",
     "text": [
      "298000 loss:0.01552\n",
      "elapsed_time: 41.26s\n",
      "298998 loss:0.00444"
     ]
    },
    {
     "name": "stderr",
     "output_type": "stream",
     "text": [
      "INFO:absl: \n",
      "\t\t NumberOfEpisodes = 3333\n",
      "\t\t EnvironmentSteps = 1286156\n",
      "\t\t AverageReturn = 25.399999618530273\n",
      "\t\t AverageEpisodeLength = 460.29998779296875\n"
     ]
    },
    {
     "name": "stdout",
     "output_type": "stream",
     "text": [
      "299000 loss:0.01664\n",
      "elapsed_time: 41.29s\n",
      "299999 loss:0.00611"
     ]
    },
    {
     "name": "stderr",
     "output_type": "stream",
     "text": [
      "INFO:absl: \n",
      "\t\t NumberOfEpisodes = 3341\n",
      "\t\t EnvironmentSteps = 1290156\n",
      "\t\t AverageReturn = 27.299999237060547\n",
      "\t\t AverageEpisodeLength = 471.3999938964844\n"
     ]
    },
    {
     "name": "stdout",
     "output_type": "stream",
     "text": [
      "300000 loss:0.01308\n",
      "elapsed_time: 41.46s\n",
      "300995 loss:0.01598"
     ]
    },
    {
     "name": "stderr",
     "output_type": "stream",
     "text": [
      "INFO:absl: \n",
      "\t\t NumberOfEpisodes = 3349\n",
      "\t\t EnvironmentSteps = 1294156\n",
      "\t\t AverageReturn = 32.5\n",
      "\t\t AverageEpisodeLength = 499.8999938964844\n"
     ]
    },
    {
     "name": "stdout",
     "output_type": "stream",
     "text": [
      "301000 loss:0.08638\n",
      "elapsed_time: 41.24s\n",
      "301995 loss:0.00722"
     ]
    },
    {
     "name": "stderr",
     "output_type": "stream",
     "text": [
      "INFO:absl: \n",
      "\t\t NumberOfEpisodes = 3357\n",
      "\t\t EnvironmentSteps = 1298156\n",
      "\t\t AverageReturn = 34.900001525878906\n",
      "\t\t AverageEpisodeLength = 498.5\n"
     ]
    },
    {
     "name": "stdout",
     "output_type": "stream",
     "text": [
      "302000 loss:0.01623\n",
      "elapsed_time: 41.21s\n",
      "302996 loss:0.00748"
     ]
    },
    {
     "name": "stderr",
     "output_type": "stream",
     "text": [
      "INFO:absl: \n",
      "\t\t NumberOfEpisodes = 3364\n",
      "\t\t EnvironmentSteps = 1302156\n",
      "\t\t AverageReturn = 47.5\n",
      "\t\t AverageEpisodeLength = 567.2000122070312\n"
     ]
    },
    {
     "name": "stdout",
     "output_type": "stream",
     "text": [
      "303000 loss:0.00965\n",
      "elapsed_time: 41.25s\n",
      "303996 loss:0.01198"
     ]
    },
    {
     "name": "stderr",
     "output_type": "stream",
     "text": [
      "INFO:absl: \n",
      "\t\t NumberOfEpisodes = 3373\n",
      "\t\t EnvironmentSteps = 1306156\n",
      "\t\t AverageReturn = 24.200000762939453\n",
      "\t\t AverageEpisodeLength = 450.79998779296875\n"
     ]
    },
    {
     "name": "stdout",
     "output_type": "stream",
     "text": [
      "304000 loss:0.01300\n",
      "elapsed_time: 41.24s\n",
      "304997 loss:0.00591"
     ]
    },
    {
     "name": "stderr",
     "output_type": "stream",
     "text": [
      "INFO:absl: \n",
      "\t\t NumberOfEpisodes = 3382\n",
      "\t\t EnvironmentSteps = 1310156\n",
      "\t\t AverageReturn = 39.900001525878906\n",
      "\t\t AverageEpisodeLength = 464.29998779296875\n"
     ]
    },
    {
     "name": "stdout",
     "output_type": "stream",
     "text": [
      "305000 loss:0.02916\n",
      "elapsed_time: 41.25s\n",
      "305997 loss:0.13251"
     ]
    },
    {
     "name": "stderr",
     "output_type": "stream",
     "text": [
      "INFO:absl: \n",
      "\t\t NumberOfEpisodes = 3390\n",
      "\t\t EnvironmentSteps = 1314156\n",
      "\t\t AverageReturn = 37.0\n",
      "\t\t AverageEpisodeLength = 480.79998779296875\n"
     ]
    },
    {
     "name": "stdout",
     "output_type": "stream",
     "text": [
      "306000 loss:0.01622\n",
      "elapsed_time: 41.27s\n",
      "306999 loss:0.02170"
     ]
    },
    {
     "name": "stderr",
     "output_type": "stream",
     "text": [
      "INFO:absl: \n",
      "\t\t NumberOfEpisodes = 3397\n",
      "\t\t EnvironmentSteps = 1318156\n",
      "\t\t AverageReturn = 39.20000076293945\n",
      "\t\t AverageEpisodeLength = 514.7999877929688\n"
     ]
    },
    {
     "name": "stdout",
     "output_type": "stream",
     "text": [
      "307000 loss:0.00847\n",
      "elapsed_time: 41.28s\n",
      "307999 loss:0.00666"
     ]
    },
    {
     "name": "stderr",
     "output_type": "stream",
     "text": [
      "INFO:absl: \n",
      "\t\t NumberOfEpisodes = 3405\n",
      "\t\t EnvironmentSteps = 1322156\n",
      "\t\t AverageReturn = 65.5\n",
      "\t\t AverageEpisodeLength = 544.4000244140625\n"
     ]
    },
    {
     "name": "stdout",
     "output_type": "stream",
     "text": [
      "308000 loss:0.01432\n",
      "elapsed_time: 41.56s\n",
      "308995 loss:0.01297"
     ]
    },
    {
     "name": "stderr",
     "output_type": "stream",
     "text": [
      "INFO:absl: \n",
      "\t\t NumberOfEpisodes = 3411\n",
      "\t\t EnvironmentSteps = 1326156\n",
      "\t\t AverageReturn = 63.20000076293945\n",
      "\t\t AverageEpisodeLength = 611.9000244140625\n"
     ]
    },
    {
     "name": "stdout",
     "output_type": "stream",
     "text": [
      "309000 loss:0.01859\n",
      "elapsed_time: 41.24s\n",
      "309996 loss:0.04962"
     ]
    },
    {
     "name": "stderr",
     "output_type": "stream",
     "text": [
      "INFO:absl: \n",
      "\t\t NumberOfEpisodes = 3418\n",
      "\t\t EnvironmentSteps = 1330156\n",
      "\t\t AverageReturn = 56.20000076293945\n",
      "\t\t AverageEpisodeLength = 591.0\n"
     ]
    },
    {
     "name": "stdout",
     "output_type": "stream",
     "text": [
      "310000 loss:0.00588\n",
      "elapsed_time: 41.22s\n",
      "310996 loss:0.01561"
     ]
    },
    {
     "name": "stderr",
     "output_type": "stream",
     "text": [
      "INFO:absl: \n",
      "\t\t NumberOfEpisodes = 3426\n",
      "\t\t EnvironmentSteps = 1334156\n",
      "\t\t AverageReturn = 50.099998474121094\n",
      "\t\t AverageEpisodeLength = 540.9000244140625\n"
     ]
    },
    {
     "name": "stdout",
     "output_type": "stream",
     "text": [
      "311000 loss:0.01005\n",
      "elapsed_time: 41.29s\n",
      "311996 loss:0.01746"
     ]
    },
    {
     "name": "stderr",
     "output_type": "stream",
     "text": [
      "INFO:absl: \n",
      "\t\t NumberOfEpisodes = 3434\n",
      "\t\t EnvironmentSteps = 1338156\n",
      "\t\t AverageReturn = 41.70000076293945\n",
      "\t\t AverageEpisodeLength = 508.3999938964844\n"
     ]
    },
    {
     "name": "stdout",
     "output_type": "stream",
     "text": [
      "312000 loss:0.02728\n",
      "elapsed_time: 41.27s\n",
      "312997 loss:0.02582"
     ]
    },
    {
     "name": "stderr",
     "output_type": "stream",
     "text": [
      "INFO:absl: \n",
      "\t\t NumberOfEpisodes = 3443\n",
      "\t\t EnvironmentSteps = 1342156\n",
      "\t\t AverageReturn = 22.5\n",
      "\t\t AverageEpisodeLength = 450.70001220703125\n"
     ]
    },
    {
     "name": "stdout",
     "output_type": "stream",
     "text": [
      "313000 loss:0.04085\n",
      "elapsed_time: 41.26s\n",
      "313999 loss:0.01620"
     ]
    },
    {
     "name": "stderr",
     "output_type": "stream",
     "text": [
      "INFO:absl: \n",
      "\t\t NumberOfEpisodes = 3450\n",
      "\t\t EnvironmentSteps = 1346156\n",
      "\t\t AverageReturn = 31.299999237060547\n",
      "\t\t AverageEpisodeLength = 517.5999755859375\n"
     ]
    },
    {
     "name": "stdout",
     "output_type": "stream",
     "text": [
      "314000 loss:0.04467\n",
      "elapsed_time: 41.24s\n",
      "314995 loss:0.03095"
     ]
    },
    {
     "name": "stderr",
     "output_type": "stream",
     "text": [
      "INFO:absl: \n",
      "\t\t NumberOfEpisodes = 3458\n",
      "\t\t EnvironmentSteps = 1350156\n",
      "\t\t AverageReturn = 31.200000762939453\n",
      "\t\t AverageEpisodeLength = 534.4000244140625\n"
     ]
    },
    {
     "name": "stdout",
     "output_type": "stream",
     "text": [
      "315000 loss:0.03080\n",
      "elapsed_time: 41.23s\n",
      "315995 loss:0.02065"
     ]
    },
    {
     "name": "stderr",
     "output_type": "stream",
     "text": [
      "INFO:absl: \n",
      "\t\t NumberOfEpisodes = 3465\n",
      "\t\t EnvironmentSteps = 1354156\n",
      "\t\t AverageReturn = 39.29999923706055\n",
      "\t\t AverageEpisodeLength = 559.2000122070312\n"
     ]
    },
    {
     "name": "stdout",
     "output_type": "stream",
     "text": [
      "316000 loss:0.01353\n",
      "elapsed_time: 41.53s\n",
      "316997 loss:0.01148"
     ]
    },
    {
     "name": "stderr",
     "output_type": "stream",
     "text": [
      "INFO:absl: \n",
      "\t\t NumberOfEpisodes = 3474\n",
      "\t\t EnvironmentSteps = 1358156\n",
      "\t\t AverageReturn = 27.600000381469727\n",
      "\t\t AverageEpisodeLength = 475.20001220703125\n"
     ]
    },
    {
     "name": "stdout",
     "output_type": "stream",
     "text": [
      "317000 loss:0.01687\n",
      "elapsed_time: 41.52s\n",
      "317997 loss:0.01386"
     ]
    },
    {
     "name": "stderr",
     "output_type": "stream",
     "text": [
      "INFO:absl: \n",
      "\t\t NumberOfEpisodes = 3482\n",
      "\t\t EnvironmentSteps = 1362156\n",
      "\t\t AverageReturn = 29.5\n",
      "\t\t AverageEpisodeLength = 469.5\n"
     ]
    },
    {
     "name": "stdout",
     "output_type": "stream",
     "text": [
      "318000 loss:0.03795\n",
      "elapsed_time: 41.24s\n",
      "318998 loss:0.01587"
     ]
    },
    {
     "name": "stderr",
     "output_type": "stream",
     "text": [
      "INFO:absl: \n",
      "\t\t NumberOfEpisodes = 3490\n",
      "\t\t EnvironmentSteps = 1366156\n",
      "\t\t AverageReturn = 28.100000381469727\n",
      "\t\t AverageEpisodeLength = 494.20001220703125\n"
     ]
    },
    {
     "name": "stdout",
     "output_type": "stream",
     "text": [
      "319000 loss:0.01321\n",
      "elapsed_time: 41.25s\n",
      "319999 loss:0.02101"
     ]
    },
    {
     "name": "stderr",
     "output_type": "stream",
     "text": [
      "INFO:absl: \n",
      "\t\t NumberOfEpisodes = 3497\n",
      "\t\t EnvironmentSteps = 1370156\n",
      "\t\t AverageReturn = 53.79999923706055\n",
      "\t\t AverageEpisodeLength = 533.0\n"
     ]
    },
    {
     "name": "stdout",
     "output_type": "stream",
     "text": [
      "320000 loss:0.07687\n",
      "elapsed_time: 41.28s\n",
      "320997 loss:0.02212"
     ]
    },
    {
     "name": "stderr",
     "output_type": "stream",
     "text": [
      "INFO:absl: \n",
      "\t\t NumberOfEpisodes = 3506\n",
      "\t\t EnvironmentSteps = 1374156\n",
      "\t\t AverageReturn = 34.70000076293945\n",
      "\t\t AverageEpisodeLength = 494.79998779296875\n"
     ]
    },
    {
     "name": "stdout",
     "output_type": "stream",
     "text": [
      "321000 loss:0.01277\n",
      "elapsed_time: 41.25s\n",
      "321997 loss:0.01292"
     ]
    },
    {
     "name": "stderr",
     "output_type": "stream",
     "text": [
      "INFO:absl: \n",
      "\t\t NumberOfEpisodes = 3512\n",
      "\t\t EnvironmentSteps = 1378156\n",
      "\t\t AverageReturn = 42.70000076293945\n",
      "\t\t AverageEpisodeLength = 562.7000122070312\n"
     ]
    },
    {
     "name": "stdout",
     "output_type": "stream",
     "text": [
      "322000 loss:0.01312\n",
      "elapsed_time: 41.22s\n",
      "322999 loss:0.03586"
     ]
    },
    {
     "name": "stderr",
     "output_type": "stream",
     "text": [
      "INFO:absl: \n",
      "\t\t NumberOfEpisodes = 3520\n",
      "\t\t EnvironmentSteps = 1382156\n",
      "\t\t AverageReturn = 40.0\n",
      "\t\t AverageEpisodeLength = 558.9000244140625\n"
     ]
    },
    {
     "name": "stdout",
     "output_type": "stream",
     "text": [
      "323000 loss:0.02763\n",
      "elapsed_time: 41.28s\n",
      "323995 loss:0.01466"
     ]
    },
    {
     "name": "stderr",
     "output_type": "stream",
     "text": [
      "INFO:absl: \n",
      "\t\t NumberOfEpisodes = 3528\n",
      "\t\t EnvironmentSteps = 1386156\n",
      "\t\t AverageReturn = 25.799999237060547\n",
      "\t\t AverageEpisodeLength = 487.3999938964844\n"
     ]
    },
    {
     "name": "stdout",
     "output_type": "stream",
     "text": [
      "324000 loss:0.02428\n",
      "elapsed_time: 41.23s\n",
      "324997 loss:0.02820"
     ]
    },
    {
     "name": "stderr",
     "output_type": "stream",
     "text": [
      "INFO:absl: \n",
      "\t\t NumberOfEpisodes = 3536\n",
      "\t\t EnvironmentSteps = 1390156\n",
      "\t\t AverageReturn = 26.5\n",
      "\t\t AverageEpisodeLength = 497.20001220703125\n"
     ]
    },
    {
     "name": "stdout",
     "output_type": "stream",
     "text": [
      "325000 loss:0.00747\n",
      "elapsed_time: 41.55s\n",
      "325998 loss:0.01303"
     ]
    },
    {
     "name": "stderr",
     "output_type": "stream",
     "text": [
      "INFO:absl: \n",
      "\t\t NumberOfEpisodes = 3542\n",
      "\t\t EnvironmentSteps = 1394156\n",
      "\t\t AverageReturn = 57.5\n",
      "\t\t AverageEpisodeLength = 587.7000122070312\n"
     ]
    },
    {
     "name": "stdout",
     "output_type": "stream",
     "text": [
      "326000 loss:0.00629\n",
      "elapsed_time: 41.58s\n",
      "326999 loss:0.02295"
     ]
    },
    {
     "name": "stderr",
     "output_type": "stream",
     "text": [
      "INFO:absl: \n",
      "\t\t NumberOfEpisodes = 3550\n",
      "\t\t EnvironmentSteps = 1398156\n",
      "\t\t AverageReturn = 51.70000076293945\n",
      "\t\t AverageEpisodeLength = 546.7000122070312\n"
     ]
    },
    {
     "name": "stdout",
     "output_type": "stream",
     "text": [
      "327000 loss:0.04118\n",
      "elapsed_time: 41.24s\n",
      "327995 loss:0.03419"
     ]
    },
    {
     "name": "stderr",
     "output_type": "stream",
     "text": [
      "INFO:absl: \n",
      "\t\t NumberOfEpisodes = 3557\n",
      "\t\t EnvironmentSteps = 1402156\n",
      "\t\t AverageReturn = 68.69999694824219\n",
      "\t\t AverageEpisodeLength = 555.5999755859375\n"
     ]
    },
    {
     "name": "stdout",
     "output_type": "stream",
     "text": [
      "328000 loss:0.02125\n",
      "elapsed_time: 41.25s\n",
      "328996 loss:0.00879"
     ]
    },
    {
     "name": "stderr",
     "output_type": "stream",
     "text": [
      "INFO:absl: \n",
      "\t\t NumberOfEpisodes = 3564\n",
      "\t\t EnvironmentSteps = 1406156\n",
      "\t\t AverageReturn = 47.599998474121094\n",
      "\t\t AverageEpisodeLength = 580.9000244140625\n"
     ]
    },
    {
     "name": "stdout",
     "output_type": "stream",
     "text": [
      "329000 loss:0.03490\n",
      "elapsed_time: 41.28s\n",
      "329998 loss:0.01240"
     ]
    },
    {
     "name": "stderr",
     "output_type": "stream",
     "text": [
      "INFO:absl: \n",
      "\t\t NumberOfEpisodes = 3572\n",
      "\t\t EnvironmentSteps = 1410156\n",
      "\t\t AverageReturn = 28.600000381469727\n",
      "\t\t AverageEpisodeLength = 540.2000122070312\n"
     ]
    },
    {
     "name": "stdout",
     "output_type": "stream",
     "text": [
      "330000 loss:0.01222\n",
      "elapsed_time: 41.65s\n",
      "330998 loss:0.01443"
     ]
    },
    {
     "name": "stderr",
     "output_type": "stream",
     "text": [
      "INFO:absl: \n",
      "\t\t NumberOfEpisodes = 3577\n",
      "\t\t EnvironmentSteps = 1414156\n",
      "\t\t AverageReturn = 62.599998474121094\n",
      "\t\t AverageEpisodeLength = 618.7000122070312\n"
     ]
    },
    {
     "name": "stdout",
     "output_type": "stream",
     "text": [
      "331000 loss:0.00691\n",
      "elapsed_time: 41.24s\n",
      "331996 loss:0.00878"
     ]
    },
    {
     "name": "stderr",
     "output_type": "stream",
     "text": [
      "INFO:absl: \n",
      "\t\t NumberOfEpisodes = 3584\n",
      "\t\t EnvironmentSteps = 1418156\n",
      "\t\t AverageReturn = 74.0999984741211\n",
      "\t\t AverageEpisodeLength = 671.0999755859375\n"
     ]
    },
    {
     "name": "stdout",
     "output_type": "stream",
     "text": [
      "332000 loss:0.05009\n",
      "elapsed_time: 41.25s\n",
      "332997 loss:0.03461"
     ]
    },
    {
     "name": "stderr",
     "output_type": "stream",
     "text": [
      "INFO:absl: \n",
      "\t\t NumberOfEpisodes = 3590\n",
      "\t\t EnvironmentSteps = 1422156\n",
      "\t\t AverageReturn = 74.0999984741211\n",
      "\t\t AverageEpisodeLength = 631.7000122070312\n"
     ]
    },
    {
     "name": "stdout",
     "output_type": "stream",
     "text": [
      "333000 loss:0.00934\n",
      "elapsed_time: 41.29s\n",
      "333997 loss:0.01984"
     ]
    },
    {
     "name": "stderr",
     "output_type": "stream",
     "text": [
      "INFO:absl: \n",
      "\t\t NumberOfEpisodes = 3598\n",
      "\t\t EnvironmentSteps = 1426156\n",
      "\t\t AverageReturn = 41.599998474121094\n",
      "\t\t AverageEpisodeLength = 552.0\n"
     ]
    },
    {
     "name": "stdout",
     "output_type": "stream",
     "text": [
      "334000 loss:0.01533\n",
      "elapsed_time: 41.23s\n",
      "334998 loss:0.20035"
     ]
    },
    {
     "name": "stderr",
     "output_type": "stream",
     "text": [
      "INFO:absl: \n",
      "\t\t NumberOfEpisodes = 3605\n",
      "\t\t EnvironmentSteps = 1430156\n",
      "\t\t AverageReturn = 42.79999923706055\n",
      "\t\t AverageEpisodeLength = 507.5\n"
     ]
    },
    {
     "name": "stdout",
     "output_type": "stream",
     "text": [
      "335000 loss:0.02022\n",
      "elapsed_time: 41.29s\n",
      "335996 loss:0.02832"
     ]
    },
    {
     "name": "stderr",
     "output_type": "stream",
     "text": [
      "INFO:absl: \n",
      "\t\t NumberOfEpisodes = 3612\n",
      "\t\t EnvironmentSteps = 1434156\n",
      "\t\t AverageReturn = 35.400001525878906\n",
      "\t\t AverageEpisodeLength = 521.7999877929688\n"
     ]
    },
    {
     "name": "stdout",
     "output_type": "stream",
     "text": [
      "336000 loss:0.02681\n",
      "elapsed_time: 41.29s\n",
      "336998 loss:0.02407"
     ]
    },
    {
     "name": "stderr",
     "output_type": "stream",
     "text": [
      "INFO:absl: \n",
      "\t\t NumberOfEpisodes = 3619\n",
      "\t\t EnvironmentSteps = 1438156\n",
      "\t\t AverageReturn = 60.599998474121094\n",
      "\t\t AverageEpisodeLength = 577.0\n"
     ]
    },
    {
     "name": "stdout",
     "output_type": "stream",
     "text": [
      "337000 loss:0.01346\n",
      "elapsed_time: 41.29s\n",
      "337999 loss:0.08565"
     ]
    },
    {
     "name": "stderr",
     "output_type": "stream",
     "text": [
      "INFO:absl: \n",
      "\t\t NumberOfEpisodes = 3627\n",
      "\t\t EnvironmentSteps = 1442156\n",
      "\t\t AverageReturn = 49.900001525878906\n",
      "\t\t AverageEpisodeLength = 559.0\n"
     ]
    },
    {
     "name": "stdout",
     "output_type": "stream",
     "text": [
      "338000 loss:0.01062\n",
      "elapsed_time: 41.26s\n",
      "338995 loss:0.09160"
     ]
    },
    {
     "name": "stderr",
     "output_type": "stream",
     "text": [
      "INFO:absl: \n",
      "\t\t NumberOfEpisodes = 3634\n",
      "\t\t EnvironmentSteps = 1446156\n",
      "\t\t AverageReturn = 50.20000076293945\n",
      "\t\t AverageEpisodeLength = 534.5999755859375\n"
     ]
    },
    {
     "name": "stdout",
     "output_type": "stream",
     "text": [
      "339000 loss:0.01964\n",
      "elapsed_time: 41.26s\n",
      "339996 loss:0.01364"
     ]
    },
    {
     "name": "stderr",
     "output_type": "stream",
     "text": [
      "INFO:absl: \n",
      "\t\t NumberOfEpisodes = 3641\n",
      "\t\t EnvironmentSteps = 1450156\n",
      "\t\t AverageReturn = 30.899999618530273\n",
      "\t\t AverageEpisodeLength = 514.0\n"
     ]
    },
    {
     "name": "stdout",
     "output_type": "stream",
     "text": [
      "340000 loss:0.10907\n",
      "elapsed_time: 41.26s\n",
      "340998 loss:0.02584"
     ]
    },
    {
     "name": "stderr",
     "output_type": "stream",
     "text": [
      "INFO:absl: \n",
      "\t\t NumberOfEpisodes = 3647\n",
      "\t\t EnvironmentSteps = 1454156\n",
      "\t\t AverageReturn = 44.400001525878906\n",
      "\t\t AverageEpisodeLength = 646.5\n"
     ]
    },
    {
     "name": "stdout",
     "output_type": "stream",
     "text": [
      "341000 loss:0.01506\n",
      "elapsed_time: 41.29s\n",
      "341998 loss:0.09694"
     ]
    },
    {
     "name": "stderr",
     "output_type": "stream",
     "text": [
      "INFO:absl: \n",
      "\t\t NumberOfEpisodes = 3655\n",
      "\t\t EnvironmentSteps = 1458156\n",
      "\t\t AverageReturn = 31.0\n",
      "\t\t AverageEpisodeLength = 541.4000244140625\n"
     ]
    },
    {
     "name": "stdout",
     "output_type": "stream",
     "text": [
      "342000 loss:0.00626\n",
      "elapsed_time: 41.25s\n",
      "342997 loss:0.05992"
     ]
    },
    {
     "name": "stderr",
     "output_type": "stream",
     "text": [
      "INFO:absl: \n",
      "\t\t NumberOfEpisodes = 3662\n",
      "\t\t EnvironmentSteps = 1462156\n",
      "\t\t AverageReturn = 30.600000381469727\n",
      "\t\t AverageEpisodeLength = 537.7000122070312\n"
     ]
    },
    {
     "name": "stdout",
     "output_type": "stream",
     "text": [
      "343000 loss:0.02058\n",
      "elapsed_time: 41.34s\n",
      "343998 loss:0.03413"
     ]
    },
    {
     "name": "stderr",
     "output_type": "stream",
     "text": [
      "INFO:absl: \n",
      "\t\t NumberOfEpisodes = 3669\n",
      "\t\t EnvironmentSteps = 1466156\n",
      "\t\t AverageReturn = 38.5\n",
      "\t\t AverageEpisodeLength = 642.5999755859375\n"
     ]
    },
    {
     "name": "stdout",
     "output_type": "stream",
     "text": [
      "344000 loss:0.01423\n",
      "elapsed_time: 41.21s\n",
      "344996 loss:0.02002"
     ]
    },
    {
     "name": "stderr",
     "output_type": "stream",
     "text": [
      "INFO:absl: \n",
      "\t\t NumberOfEpisodes = 3677\n",
      "\t\t EnvironmentSteps = 1470156\n",
      "\t\t AverageReturn = 30.600000381469727\n",
      "\t\t AverageEpisodeLength = 506.79998779296875\n"
     ]
    },
    {
     "name": "stdout",
     "output_type": "stream",
     "text": [
      "345000 loss:0.03427\n",
      "elapsed_time: 41.25s\n",
      "345996 loss:0.02242"
     ]
    },
    {
     "name": "stderr",
     "output_type": "stream",
     "text": [
      "INFO:absl: \n",
      "\t\t NumberOfEpisodes = 3683\n",
      "\t\t EnvironmentSteps = 1474156\n",
      "\t\t AverageReturn = 57.20000076293945\n",
      "\t\t AverageEpisodeLength = 579.0999755859375\n"
     ]
    },
    {
     "name": "stdout",
     "output_type": "stream",
     "text": [
      "346000 loss:0.01963\n",
      "elapsed_time: 41.26s\n",
      "346997 loss:0.01121"
     ]
    },
    {
     "name": "stderr",
     "output_type": "stream",
     "text": [
      "INFO:absl: \n",
      "\t\t NumberOfEpisodes = 3691\n",
      "\t\t EnvironmentSteps = 1478156\n",
      "\t\t AverageReturn = 53.70000076293945\n",
      "\t\t AverageEpisodeLength = 555.2999877929688\n"
     ]
    },
    {
     "name": "stdout",
     "output_type": "stream",
     "text": [
      "347000 loss:0.01550\n",
      "elapsed_time: 41.22s\n",
      "347999 loss:0.01781"
     ]
    },
    {
     "name": "stderr",
     "output_type": "stream",
     "text": [
      "INFO:absl: \n",
      "\t\t NumberOfEpisodes = 3698\n",
      "\t\t EnvironmentSteps = 1482156\n",
      "\t\t AverageReturn = 30.5\n",
      "\t\t AverageEpisodeLength = 530.0\n"
     ]
    },
    {
     "name": "stdout",
     "output_type": "stream",
     "text": [
      "348000 loss:0.01853\n",
      "elapsed_time: 41.21s\n",
      "348999 loss:0.01626"
     ]
    },
    {
     "name": "stderr",
     "output_type": "stream",
     "text": [
      "INFO:absl: \n",
      "\t\t NumberOfEpisodes = 3705\n",
      "\t\t EnvironmentSteps = 1486156\n",
      "\t\t AverageReturn = 46.099998474121094\n",
      "\t\t AverageEpisodeLength = 591.7000122070312\n"
     ]
    },
    {
     "name": "stdout",
     "output_type": "stream",
     "text": [
      "349000 loss:0.02167\n",
      "elapsed_time: 41.22s\n",
      "349996 loss:0.02042"
     ]
    },
    {
     "name": "stderr",
     "output_type": "stream",
     "text": [
      "INFO:absl: \n",
      "\t\t NumberOfEpisodes = 3712\n",
      "\t\t EnvironmentSteps = 1490156\n",
      "\t\t AverageReturn = 46.20000076293945\n",
      "\t\t AverageEpisodeLength = 603.7999877929688\n"
     ]
    },
    {
     "name": "stdout",
     "output_type": "stream",
     "text": [
      "350000 loss:0.04455\n",
      "elapsed_time: 41.20s\n",
      "350995 loss:0.02861"
     ]
    },
    {
     "name": "stderr",
     "output_type": "stream",
     "text": [
      "INFO:absl: \n",
      "\t\t NumberOfEpisodes = 3718\n",
      "\t\t EnvironmentSteps = 1494156\n",
      "\t\t AverageReturn = 60.099998474121094\n",
      "\t\t AverageEpisodeLength = 603.5\n"
     ]
    },
    {
     "name": "stdout",
     "output_type": "stream",
     "text": [
      "351000 loss:0.03113\n",
      "elapsed_time: 41.19s\n",
      "351996 loss:0.02490"
     ]
    },
    {
     "name": "stderr",
     "output_type": "stream",
     "text": [
      "INFO:absl: \n",
      "\t\t NumberOfEpisodes = 3726\n",
      "\t\t EnvironmentSteps = 1498156\n",
      "\t\t AverageReturn = 25.399999618530273\n",
      "\t\t AverageEpisodeLength = 542.0999755859375\n"
     ]
    },
    {
     "name": "stdout",
     "output_type": "stream",
     "text": [
      "352000 loss:0.17151\n",
      "elapsed_time: 41.27s\n",
      "352996 loss:0.09565"
     ]
    },
    {
     "name": "stderr",
     "output_type": "stream",
     "text": [
      "INFO:absl: \n",
      "\t\t NumberOfEpisodes = 3734\n",
      "\t\t EnvironmentSteps = 1502156\n",
      "\t\t AverageReturn = 34.400001525878906\n",
      "\t\t AverageEpisodeLength = 513.5\n"
     ]
    },
    {
     "name": "stdout",
     "output_type": "stream",
     "text": [
      "353000 loss:0.08827\n",
      "elapsed_time: 41.22s\n",
      "353996 loss:0.04292"
     ]
    },
    {
     "name": "stderr",
     "output_type": "stream",
     "text": [
      "INFO:absl: \n",
      "\t\t NumberOfEpisodes = 3742\n",
      "\t\t EnvironmentSteps = 1506156\n",
      "\t\t AverageReturn = 33.29999923706055\n",
      "\t\t AverageEpisodeLength = 482.6000061035156\n"
     ]
    },
    {
     "name": "stdout",
     "output_type": "stream",
     "text": [
      "354000 loss:0.01524\n",
      "elapsed_time: 41.21s\n",
      "354997 loss:0.02300"
     ]
    },
    {
     "name": "stderr",
     "output_type": "stream",
     "text": [
      "INFO:absl: \n",
      "\t\t NumberOfEpisodes = 3751\n",
      "\t\t EnvironmentSteps = 1510156\n",
      "\t\t AverageReturn = 25.799999237060547\n",
      "\t\t AverageEpisodeLength = 471.1000061035156\n"
     ]
    },
    {
     "name": "stdout",
     "output_type": "stream",
     "text": [
      "355000 loss:0.05161\n",
      "elapsed_time: 41.28s\n",
      "355998 loss:0.03692"
     ]
    },
    {
     "name": "stderr",
     "output_type": "stream",
     "text": [
      "INFO:absl: \n",
      "\t\t NumberOfEpisodes = 3760\n",
      "\t\t EnvironmentSteps = 1514156\n",
      "\t\t AverageReturn = 31.600000381469727\n",
      "\t\t AverageEpisodeLength = 451.8999938964844\n"
     ]
    },
    {
     "name": "stdout",
     "output_type": "stream",
     "text": [
      "356000 loss:0.02719\n",
      "elapsed_time: 41.24s\n",
      "356998 loss:0.05234"
     ]
    },
    {
     "name": "stderr",
     "output_type": "stream",
     "text": [
      "INFO:absl: \n",
      "\t\t NumberOfEpisodes = 3767\n",
      "\t\t EnvironmentSteps = 1518156\n",
      "\t\t AverageReturn = 27.5\n",
      "\t\t AverageEpisodeLength = 510.6000061035156\n"
     ]
    },
    {
     "name": "stdout",
     "output_type": "stream",
     "text": [
      "357000 loss:0.05256\n",
      "elapsed_time: 41.20s\n",
      "357996 loss:0.02241"
     ]
    },
    {
     "name": "stderr",
     "output_type": "stream",
     "text": [
      "INFO:absl: \n",
      "\t\t NumberOfEpisodes = 3776\n",
      "\t\t EnvironmentSteps = 1522156\n",
      "\t\t AverageReturn = 37.599998474121094\n",
      "\t\t AverageEpisodeLength = 514.7999877929688\n"
     ]
    },
    {
     "name": "stdout",
     "output_type": "stream",
     "text": [
      "358000 loss:0.01931\n",
      "elapsed_time: 41.26s\n",
      "358999 loss:0.11608"
     ]
    },
    {
     "name": "stderr",
     "output_type": "stream",
     "text": [
      "INFO:absl: \n",
      "\t\t NumberOfEpisodes = 3786\n",
      "\t\t EnvironmentSteps = 1526156\n",
      "\t\t AverageReturn = 18.0\n",
      "\t\t AverageEpisodeLength = 401.79998779296875\n"
     ]
    },
    {
     "name": "stdout",
     "output_type": "stream",
     "text": [
      "359000 loss:0.07667\n",
      "elapsed_time: 41.27s\n",
      "359995 loss:0.04083"
     ]
    },
    {
     "name": "stderr",
     "output_type": "stream",
     "text": [
      "INFO:absl: \n",
      "\t\t NumberOfEpisodes = 3796\n",
      "\t\t EnvironmentSteps = 1530156\n",
      "\t\t AverageReturn = 16.100000381469727\n",
      "\t\t AverageEpisodeLength = 391.70001220703125\n"
     ]
    },
    {
     "name": "stdout",
     "output_type": "stream",
     "text": [
      "360000 loss:0.02214\n",
      "elapsed_time: 41.28s\n",
      "360995 loss:0.04151"
     ]
    },
    {
     "name": "stderr",
     "output_type": "stream",
     "text": [
      "INFO:absl: \n",
      "\t\t NumberOfEpisodes = 3803\n",
      "\t\t EnvironmentSteps = 1534156\n",
      "\t\t AverageReturn = 28.799999237060547\n",
      "\t\t AverageEpisodeLength = 525.4000244140625\n"
     ]
    },
    {
     "name": "stdout",
     "output_type": "stream",
     "text": [
      "361000 loss:0.02115\n",
      "elapsed_time: 41.27s\n",
      "361997 loss:0.01422"
     ]
    },
    {
     "name": "stderr",
     "output_type": "stream",
     "text": [
      "INFO:absl: \n",
      "\t\t NumberOfEpisodes = 3812\n",
      "\t\t EnvironmentSteps = 1538156\n",
      "\t\t AverageReturn = 24.600000381469727\n",
      "\t\t AverageEpisodeLength = 460.20001220703125\n"
     ]
    },
    {
     "name": "stdout",
     "output_type": "stream",
     "text": [
      "362000 loss:0.02605\n",
      "elapsed_time: 41.24s\n",
      "362995 loss:0.03666"
     ]
    },
    {
     "name": "stderr",
     "output_type": "stream",
     "text": [
      "INFO:absl: \n",
      "\t\t NumberOfEpisodes = 3821\n",
      "\t\t EnvironmentSteps = 1542156\n",
      "\t\t AverageReturn = 27.5\n",
      "\t\t AverageEpisodeLength = 442.1000061035156\n"
     ]
    },
    {
     "name": "stdout",
     "output_type": "stream",
     "text": [
      "363000 loss:0.12055\n",
      "elapsed_time: 41.27s\n",
      "363997 loss:0.05854"
     ]
    },
    {
     "name": "stderr",
     "output_type": "stream",
     "text": [
      "INFO:absl: \n",
      "\t\t NumberOfEpisodes = 3828\n",
      "\t\t EnvironmentSteps = 1546156\n",
      "\t\t AverageReturn = 41.29999923706055\n",
      "\t\t AverageEpisodeLength = 541.5999755859375\n"
     ]
    },
    {
     "name": "stdout",
     "output_type": "stream",
     "text": [
      "364000 loss:0.01787\n",
      "elapsed_time: 41.24s\n",
      "364998 loss:0.08071"
     ]
    },
    {
     "name": "stderr",
     "output_type": "stream",
     "text": [
      "INFO:absl: \n",
      "\t\t NumberOfEpisodes = 3836\n",
      "\t\t EnvironmentSteps = 1550156\n",
      "\t\t AverageReturn = 43.29999923706055\n",
      "\t\t AverageEpisodeLength = 556.7999877929688\n"
     ]
    },
    {
     "name": "stdout",
     "output_type": "stream",
     "text": [
      "365000 loss:0.08880\n",
      "elapsed_time: 41.20s\n",
      "365995 loss:0.03958"
     ]
    },
    {
     "name": "stderr",
     "output_type": "stream",
     "text": [
      "INFO:absl: \n",
      "\t\t NumberOfEpisodes = 3846\n",
      "\t\t EnvironmentSteps = 1554156\n",
      "\t\t AverageReturn = 25.399999618530273\n",
      "\t\t AverageEpisodeLength = 410.6000061035156\n"
     ]
    },
    {
     "name": "stdout",
     "output_type": "stream",
     "text": [
      "366000 loss:0.06344\n",
      "elapsed_time: 41.24s\n",
      "366998 loss:0.02313"
     ]
    },
    {
     "name": "stderr",
     "output_type": "stream",
     "text": [
      "INFO:absl: \n",
      "\t\t NumberOfEpisodes = 3855\n",
      "\t\t EnvironmentSteps = 1558156\n",
      "\t\t AverageReturn = 23.600000381469727\n",
      "\t\t AverageEpisodeLength = 445.0\n"
     ]
    },
    {
     "name": "stdout",
     "output_type": "stream",
     "text": [
      "367000 loss:0.01315\n",
      "elapsed_time: 41.27s\n",
      "367998 loss:0.01282"
     ]
    },
    {
     "name": "stderr",
     "output_type": "stream",
     "text": [
      "INFO:absl: \n",
      "\t\t NumberOfEpisodes = 3863\n",
      "\t\t EnvironmentSteps = 1562156\n",
      "\t\t AverageReturn = 33.599998474121094\n",
      "\t\t AverageEpisodeLength = 514.2000122070312\n"
     ]
    },
    {
     "name": "stdout",
     "output_type": "stream",
     "text": [
      "368000 loss:0.01582\n",
      "elapsed_time: 41.25s\n",
      "368996 loss:0.03135"
     ]
    },
    {
     "name": "stderr",
     "output_type": "stream",
     "text": [
      "INFO:absl: \n",
      "\t\t NumberOfEpisodes = 3872\n",
      "\t\t EnvironmentSteps = 1566156\n",
      "\t\t AverageReturn = 40.099998474121094\n",
      "\t\t AverageEpisodeLength = 466.70001220703125\n"
     ]
    },
    {
     "name": "stdout",
     "output_type": "stream",
     "text": [
      "369000 loss:0.04865\n",
      "elapsed_time: 41.26s\n",
      "369995 loss:0.03199"
     ]
    },
    {
     "name": "stderr",
     "output_type": "stream",
     "text": [
      "INFO:absl: \n",
      "\t\t NumberOfEpisodes = 3880\n",
      "\t\t EnvironmentSteps = 1570156\n",
      "\t\t AverageReturn = 26.600000381469727\n",
      "\t\t AverageEpisodeLength = 450.6000061035156\n"
     ]
    },
    {
     "name": "stdout",
     "output_type": "stream",
     "text": [
      "370000 loss:0.12454\n",
      "elapsed_time: 41.25s\n",
      "370995 loss:0.24108"
     ]
    },
    {
     "name": "stderr",
     "output_type": "stream",
     "text": [
      "INFO:absl: \n",
      "\t\t NumberOfEpisodes = 3890\n",
      "\t\t EnvironmentSteps = 1574156\n",
      "\t\t AverageReturn = 36.599998474121094\n",
      "\t\t AverageEpisodeLength = 431.3999938964844\n"
     ]
    },
    {
     "name": "stdout",
     "output_type": "stream",
     "text": [
      "371000 loss:0.03402\n",
      "elapsed_time: 41.25s\n",
      "371996 loss:0.06029"
     ]
    },
    {
     "name": "stderr",
     "output_type": "stream",
     "text": [
      "INFO:absl: \n",
      "\t\t NumberOfEpisodes = 3899\n",
      "\t\t EnvironmentSteps = 1578156\n",
      "\t\t AverageReturn = 46.099998474121094\n",
      "\t\t AverageEpisodeLength = 444.8999938964844\n"
     ]
    },
    {
     "name": "stdout",
     "output_type": "stream",
     "text": [
      "372000 loss:0.02807\n",
      "elapsed_time: 41.27s\n",
      "372998 loss:0.01793"
     ]
    },
    {
     "name": "stderr",
     "output_type": "stream",
     "text": [
      "INFO:absl: \n",
      "\t\t NumberOfEpisodes = 3910\n",
      "\t\t EnvironmentSteps = 1582156\n",
      "\t\t AverageReturn = 19.700000762939453\n",
      "\t\t AverageEpisodeLength = 371.8999938964844\n"
     ]
    },
    {
     "name": "stdout",
     "output_type": "stream",
     "text": [
      "373000 loss:0.07294\n",
      "elapsed_time: 41.28s\n",
      "373999 loss:0.01639"
     ]
    },
    {
     "name": "stderr",
     "output_type": "stream",
     "text": [
      "INFO:absl: \n",
      "\t\t NumberOfEpisodes = 3918\n",
      "\t\t EnvironmentSteps = 1586156\n",
      "\t\t AverageReturn = 37.0\n",
      "\t\t AverageEpisodeLength = 476.8999938964844\n"
     ]
    },
    {
     "name": "stdout",
     "output_type": "stream",
     "text": [
      "374000 loss:0.11181\n",
      "elapsed_time: 41.25s\n",
      "374996 loss:0.01698"
     ]
    },
    {
     "name": "stderr",
     "output_type": "stream",
     "text": [
      "INFO:absl: \n",
      "\t\t NumberOfEpisodes = 3926\n",
      "\t\t EnvironmentSteps = 1590156\n",
      "\t\t AverageReturn = 51.29999923706055\n",
      "\t\t AverageEpisodeLength = 531.0\n"
     ]
    },
    {
     "name": "stdout",
     "output_type": "stream",
     "text": [
      "375000 loss:0.02935\n",
      "elapsed_time: 41.27s\n",
      "375999 loss:0.80482"
     ]
    },
    {
     "name": "stderr",
     "output_type": "stream",
     "text": [
      "INFO:absl: \n",
      "\t\t NumberOfEpisodes = 3936\n",
      "\t\t EnvironmentSteps = 1594156\n",
      "\t\t AverageReturn = 26.399999618530273\n",
      "\t\t AverageEpisodeLength = 408.0\n"
     ]
    },
    {
     "name": "stdout",
     "output_type": "stream",
     "text": [
      "376000 loss:0.04873\n",
      "elapsed_time: 41.27s\n",
      "376999 loss:0.06146"
     ]
    },
    {
     "name": "stderr",
     "output_type": "stream",
     "text": [
      "INFO:absl: \n",
      "\t\t NumberOfEpisodes = 3945\n",
      "\t\t EnvironmentSteps = 1598156\n",
      "\t\t AverageReturn = 31.399999618530273\n",
      "\t\t AverageEpisodeLength = 425.1000061035156\n"
     ]
    },
    {
     "name": "stdout",
     "output_type": "stream",
     "text": [
      "377000 loss:0.10831\n",
      "elapsed_time: 41.28s\n",
      "377999 loss:0.07443"
     ]
    },
    {
     "name": "stderr",
     "output_type": "stream",
     "text": [
      "INFO:absl: \n",
      "\t\t NumberOfEpisodes = 3955\n",
      "\t\t EnvironmentSteps = 1602156\n",
      "\t\t AverageReturn = 24.200000762939453\n",
      "\t\t AverageEpisodeLength = 419.5\n"
     ]
    },
    {
     "name": "stdout",
     "output_type": "stream",
     "text": [
      "378000 loss:0.03585\n",
      "elapsed_time: 41.30s\n",
      "378995 loss:0.03053"
     ]
    },
    {
     "name": "stderr",
     "output_type": "stream",
     "text": [
      "INFO:absl: \n",
      "\t\t NumberOfEpisodes = 3963\n",
      "\t\t EnvironmentSteps = 1606156\n",
      "\t\t AverageReturn = 36.599998474121094\n",
      "\t\t AverageEpisodeLength = 464.5\n"
     ]
    },
    {
     "name": "stdout",
     "output_type": "stream",
     "text": [
      "379000 loss:0.06861\n",
      "elapsed_time: 41.28s\n",
      "379995 loss:0.06166"
     ]
    },
    {
     "name": "stderr",
     "output_type": "stream",
     "text": [
      "INFO:absl: \n",
      "\t\t NumberOfEpisodes = 3972\n",
      "\t\t EnvironmentSteps = 1610156\n",
      "\t\t AverageReturn = 29.899999618530273\n",
      "\t\t AverageEpisodeLength = 453.6000061035156\n"
     ]
    },
    {
     "name": "stdout",
     "output_type": "stream",
     "text": [
      "380000 loss:0.06868\n",
      "elapsed_time: 41.26s\n",
      "380997 loss:0.05371"
     ]
    },
    {
     "name": "stderr",
     "output_type": "stream",
     "text": [
      "INFO:absl: \n",
      "\t\t NumberOfEpisodes = 3981\n",
      "\t\t EnvironmentSteps = 1614156\n",
      "\t\t AverageReturn = 24.899999618530273\n",
      "\t\t AverageEpisodeLength = 434.20001220703125\n"
     ]
    },
    {
     "name": "stdout",
     "output_type": "stream",
     "text": [
      "381000 loss:0.05399\n",
      "elapsed_time: 41.29s\n",
      "381999 loss:0.03645"
     ]
    },
    {
     "name": "stderr",
     "output_type": "stream",
     "text": [
      "INFO:absl: \n",
      "\t\t NumberOfEpisodes = 3988\n",
      "\t\t EnvironmentSteps = 1618156\n",
      "\t\t AverageReturn = 38.0\n",
      "\t\t AverageEpisodeLength = 487.8999938964844\n"
     ]
    },
    {
     "name": "stdout",
     "output_type": "stream",
     "text": [
      "382000 loss:0.01061\n",
      "elapsed_time: 41.24s\n",
      "382996 loss:0.10052"
     ]
    },
    {
     "name": "stderr",
     "output_type": "stream",
     "text": [
      "INFO:absl: \n",
      "\t\t NumberOfEpisodes = 3996\n",
      "\t\t EnvironmentSteps = 1622156\n",
      "\t\t AverageReturn = 85.30000305175781\n",
      "\t\t AverageEpisodeLength = 578.2999877929688\n"
     ]
    },
    {
     "name": "stdout",
     "output_type": "stream",
     "text": [
      "383000 loss:0.01646\n",
      "elapsed_time: 41.28s\n",
      "383996 loss:0.41324"
     ]
    },
    {
     "name": "stderr",
     "output_type": "stream",
     "text": [
      "INFO:absl: \n",
      "\t\t NumberOfEpisodes = 4005\n",
      "\t\t EnvironmentSteps = 1626156\n",
      "\t\t AverageReturn = 30.899999618530273\n",
      "\t\t AverageEpisodeLength = 434.3999938964844\n"
     ]
    },
    {
     "name": "stdout",
     "output_type": "stream",
     "text": [
      "384000 loss:0.04128\n",
      "elapsed_time: 41.28s\n",
      "384998 loss:0.03970"
     ]
    },
    {
     "name": "stderr",
     "output_type": "stream",
     "text": [
      "INFO:absl: \n",
      "\t\t NumberOfEpisodes = 4013\n",
      "\t\t EnvironmentSteps = 1630156\n",
      "\t\t AverageReturn = 38.70000076293945\n",
      "\t\t AverageEpisodeLength = 497.8999938964844\n"
     ]
    },
    {
     "name": "stdout",
     "output_type": "stream",
     "text": [
      "385000 loss:0.08001\n",
      "elapsed_time: 41.25s\n",
      "385995 loss:0.06150"
     ]
    },
    {
     "name": "stderr",
     "output_type": "stream",
     "text": [
      "INFO:absl: \n",
      "\t\t NumberOfEpisodes = 4021\n",
      "\t\t EnvironmentSteps = 1634156\n",
      "\t\t AverageReturn = 34.400001525878906\n",
      "\t\t AverageEpisodeLength = 448.79998779296875\n"
     ]
    },
    {
     "name": "stdout",
     "output_type": "stream",
     "text": [
      "386000 loss:0.10059\n",
      "elapsed_time: 41.23s\n",
      "386995 loss:0.05927"
     ]
    },
    {
     "name": "stderr",
     "output_type": "stream",
     "text": [
      "INFO:absl: \n",
      "\t\t NumberOfEpisodes = 4031\n",
      "\t\t EnvironmentSteps = 1638156\n",
      "\t\t AverageReturn = 34.20000076293945\n",
      "\t\t AverageEpisodeLength = 428.3999938964844\n"
     ]
    },
    {
     "name": "stdout",
     "output_type": "stream",
     "text": [
      "387000 loss:0.01085\n",
      "elapsed_time: 41.26s\n",
      "387995 loss:0.05295"
     ]
    },
    {
     "name": "stderr",
     "output_type": "stream",
     "text": [
      "INFO:absl: \n",
      "\t\t NumberOfEpisodes = 4039\n",
      "\t\t EnvironmentSteps = 1642156\n",
      "\t\t AverageReturn = 32.099998474121094\n",
      "\t\t AverageEpisodeLength = 456.29998779296875\n"
     ]
    },
    {
     "name": "stdout",
     "output_type": "stream",
     "text": [
      "388000 loss:0.14958\n",
      "elapsed_time: 41.22s\n",
      "388998 loss:0.49679"
     ]
    },
    {
     "name": "stderr",
     "output_type": "stream",
     "text": [
      "INFO:absl: \n",
      "\t\t NumberOfEpisodes = 4048\n",
      "\t\t EnvironmentSteps = 1646156\n",
      "\t\t AverageReturn = 44.0\n",
      "\t\t AverageEpisodeLength = 447.1000061035156\n"
     ]
    },
    {
     "name": "stdout",
     "output_type": "stream",
     "text": [
      "389000 loss:0.03130\n",
      "elapsed_time: 41.23s\n",
      "389995 loss:0.03493"
     ]
    },
    {
     "name": "stderr",
     "output_type": "stream",
     "text": [
      "INFO:absl: \n",
      "\t\t NumberOfEpisodes = 4057\n",
      "\t\t EnvironmentSteps = 1650156\n",
      "\t\t AverageReturn = 36.900001525878906\n",
      "\t\t AverageEpisodeLength = 464.0\n"
     ]
    },
    {
     "name": "stdout",
     "output_type": "stream",
     "text": [
      "390000 loss:0.08635\n",
      "elapsed_time: 41.28s\n",
      "390995 loss:0.02161"
     ]
    },
    {
     "name": "stderr",
     "output_type": "stream",
     "text": [
      "INFO:absl: \n",
      "\t\t NumberOfEpisodes = 4065\n",
      "\t\t EnvironmentSteps = 1654156\n",
      "\t\t AverageReturn = 51.599998474121094\n",
      "\t\t AverageEpisodeLength = 507.70001220703125\n"
     ]
    },
    {
     "name": "stdout",
     "output_type": "stream",
     "text": [
      "391000 loss:0.08102\n",
      "elapsed_time: 41.26s\n",
      "391995 loss:0.12279"
     ]
    },
    {
     "name": "stderr",
     "output_type": "stream",
     "text": [
      "INFO:absl: \n",
      "\t\t NumberOfEpisodes = 4073\n",
      "\t\t EnvironmentSteps = 1658156\n",
      "\t\t AverageReturn = 52.0\n",
      "\t\t AverageEpisodeLength = 507.20001220703125\n"
     ]
    },
    {
     "name": "stdout",
     "output_type": "stream",
     "text": [
      "392000 loss:0.14653\n",
      "elapsed_time: 41.38s\n",
      "392995 loss:0.39698"
     ]
    },
    {
     "name": "stderr",
     "output_type": "stream",
     "text": [
      "INFO:absl: \n",
      "\t\t NumberOfEpisodes = 4082\n",
      "\t\t EnvironmentSteps = 1662156\n",
      "\t\t AverageReturn = 37.70000076293945\n",
      "\t\t AverageEpisodeLength = 480.0\n"
     ]
    },
    {
     "name": "stdout",
     "output_type": "stream",
     "text": [
      "393000 loss:0.13096\n",
      "elapsed_time: 41.42s\n",
      "393996 loss:0.03080"
     ]
    },
    {
     "name": "stderr",
     "output_type": "stream",
     "text": [
      "INFO:absl: \n",
      "\t\t NumberOfEpisodes = 4090\n",
      "\t\t EnvironmentSteps = 1666156\n",
      "\t\t AverageReturn = 44.599998474121094\n",
      "\t\t AverageEpisodeLength = 475.1000061035156\n"
     ]
    },
    {
     "name": "stdout",
     "output_type": "stream",
     "text": [
      "394000 loss:0.04001\n",
      "elapsed_time: 41.52s\n",
      "394996 loss:0.03833"
     ]
    },
    {
     "name": "stderr",
     "output_type": "stream",
     "text": [
      "INFO:absl: \n",
      "\t\t NumberOfEpisodes = 4097\n",
      "\t\t EnvironmentSteps = 1670156\n",
      "\t\t AverageReturn = 47.29999923706055\n",
      "\t\t AverageEpisodeLength = 497.3999938964844\n"
     ]
    },
    {
     "name": "stdout",
     "output_type": "stream",
     "text": [
      "395000 loss:0.05139\n",
      "elapsed_time: 41.22s\n",
      "395997 loss:0.07396"
     ]
    },
    {
     "name": "stderr",
     "output_type": "stream",
     "text": [
      "INFO:absl: \n",
      "\t\t NumberOfEpisodes = 4106\n",
      "\t\t EnvironmentSteps = 1674156\n",
      "\t\t AverageReturn = 39.29999923706055\n",
      "\t\t AverageEpisodeLength = 503.29998779296875\n"
     ]
    },
    {
     "name": "stdout",
     "output_type": "stream",
     "text": [
      "396000 loss:0.18804\n",
      "elapsed_time: 41.27s\n",
      "396998 loss:0.15919"
     ]
    },
    {
     "name": "stderr",
     "output_type": "stream",
     "text": [
      "INFO:absl: \n",
      "\t\t NumberOfEpisodes = 4114\n",
      "\t\t EnvironmentSteps = 1678156\n",
      "\t\t AverageReturn = 30.299999237060547\n",
      "\t\t AverageEpisodeLength = 470.79998779296875\n"
     ]
    },
    {
     "name": "stdout",
     "output_type": "stream",
     "text": [
      "397000 loss:0.10417\n",
      "elapsed_time: 41.23s\n",
      "397999 loss:0.02823"
     ]
    },
    {
     "name": "stderr",
     "output_type": "stream",
     "text": [
      "INFO:absl: \n",
      "\t\t NumberOfEpisodes = 4122\n",
      "\t\t EnvironmentSteps = 1682156\n",
      "\t\t AverageReturn = 51.29999923706055\n",
      "\t\t AverageEpisodeLength = 492.70001220703125\n"
     ]
    },
    {
     "name": "stdout",
     "output_type": "stream",
     "text": [
      "398000 loss:0.03748\n",
      "elapsed_time: 41.23s\n",
      "398995 loss:0.05254"
     ]
    },
    {
     "name": "stderr",
     "output_type": "stream",
     "text": [
      "INFO:absl: \n",
      "\t\t NumberOfEpisodes = 4129\n",
      "\t\t EnvironmentSteps = 1686156\n",
      "\t\t AverageReturn = 58.79999923706055\n",
      "\t\t AverageEpisodeLength = 545.2000122070312\n"
     ]
    },
    {
     "name": "stdout",
     "output_type": "stream",
     "text": [
      "399000 loss:0.03918\n",
      "elapsed_time: 41.24s\n",
      "399995 loss:0.04202"
     ]
    },
    {
     "name": "stderr",
     "output_type": "stream",
     "text": [
      "INFO:absl: \n",
      "\t\t NumberOfEpisodes = 4137\n",
      "\t\t EnvironmentSteps = 1690156\n",
      "\t\t AverageReturn = 32.5\n",
      "\t\t AverageEpisodeLength = 468.6000061035156\n"
     ]
    },
    {
     "name": "stdout",
     "output_type": "stream",
     "text": [
      "400000 loss:0.01873\n",
      "elapsed_time: 41.25s\n",
      "400998 loss:0.09388"
     ]
    },
    {
     "name": "stderr",
     "output_type": "stream",
     "text": [
      "INFO:absl: \n",
      "\t\t NumberOfEpisodes = 4146\n",
      "\t\t EnvironmentSteps = 1694156\n",
      "\t\t AverageReturn = 25.899999618530273\n",
      "\t\t AverageEpisodeLength = 444.6000061035156\n"
     ]
    },
    {
     "name": "stdout",
     "output_type": "stream",
     "text": [
      "401000 loss:0.19801\n",
      "elapsed_time: 41.29s\n",
      "401998 loss:0.19100"
     ]
    },
    {
     "name": "stderr",
     "output_type": "stream",
     "text": [
      "INFO:absl: \n",
      "\t\t NumberOfEpisodes = 4154\n",
      "\t\t EnvironmentSteps = 1698156\n",
      "\t\t AverageReturn = 56.79999923706055\n",
      "\t\t AverageEpisodeLength = 501.5\n"
     ]
    },
    {
     "name": "stdout",
     "output_type": "stream",
     "text": [
      "402000 loss:0.15321\n",
      "elapsed_time: 41.23s\n",
      "402996 loss:0.10105"
     ]
    },
    {
     "name": "stderr",
     "output_type": "stream",
     "text": [
      "INFO:absl: \n",
      "\t\t NumberOfEpisodes = 4163\n",
      "\t\t EnvironmentSteps = 1702156\n",
      "\t\t AverageReturn = 39.0\n",
      "\t\t AverageEpisodeLength = 467.20001220703125\n"
     ]
    },
    {
     "name": "stdout",
     "output_type": "stream",
     "text": [
      "403000 loss:0.07467\n",
      "elapsed_time: 41.23s\n",
      "403997 loss:0.06387"
     ]
    },
    {
     "name": "stderr",
     "output_type": "stream",
     "text": [
      "INFO:absl: \n",
      "\t\t NumberOfEpisodes = 4169\n",
      "\t\t EnvironmentSteps = 1706156\n",
      "\t\t AverageReturn = 57.0\n",
      "\t\t AverageEpisodeLength = 558.2000122070312\n"
     ]
    },
    {
     "name": "stdout",
     "output_type": "stream",
     "text": [
      "404000 loss:0.60263\n",
      "elapsed_time: 41.21s\n",
      "404999 loss:0.06218"
     ]
    },
    {
     "name": "stderr",
     "output_type": "stream",
     "text": [
      "INFO:absl: \n",
      "\t\t NumberOfEpisodes = 4176\n",
      "\t\t EnvironmentSteps = 1710156\n",
      "\t\t AverageReturn = 47.599998474121094\n",
      "\t\t AverageEpisodeLength = 539.4000244140625\n"
     ]
    },
    {
     "name": "stdout",
     "output_type": "stream",
     "text": [
      "405000 loss:0.10635\n",
      "elapsed_time: 41.20s\n",
      "405996 loss:0.11582"
     ]
    },
    {
     "name": "stderr",
     "output_type": "stream",
     "text": [
      "INFO:absl: \n",
      "\t\t NumberOfEpisodes = 4185\n",
      "\t\t EnvironmentSteps = 1714156\n",
      "\t\t AverageReturn = 40.20000076293945\n",
      "\t\t AverageEpisodeLength = 487.6000061035156\n"
     ]
    },
    {
     "name": "stdout",
     "output_type": "stream",
     "text": [
      "406000 loss:0.02221\n",
      "elapsed_time: 41.26s\n",
      "406997 loss:0.06326"
     ]
    },
    {
     "name": "stderr",
     "output_type": "stream",
     "text": [
      "INFO:absl: \n",
      "\t\t NumberOfEpisodes = 4193\n",
      "\t\t EnvironmentSteps = 1718156\n",
      "\t\t AverageReturn = 43.5\n",
      "\t\t AverageEpisodeLength = 486.0\n"
     ]
    },
    {
     "name": "stdout",
     "output_type": "stream",
     "text": [
      "407000 loss:0.10645\n",
      "elapsed_time: 41.28s\n",
      "407998 loss:0.08614"
     ]
    },
    {
     "name": "stderr",
     "output_type": "stream",
     "text": [
      "INFO:absl: \n",
      "\t\t NumberOfEpisodes = 4201\n",
      "\t\t EnvironmentSteps = 1722156\n",
      "\t\t AverageReturn = 50.099998474121094\n",
      "\t\t AverageEpisodeLength = 479.20001220703125\n"
     ]
    },
    {
     "name": "stdout",
     "output_type": "stream",
     "text": [
      "408000 loss:0.05933\n",
      "elapsed_time: 41.27s\n",
      "408998 loss:0.19270"
     ]
    },
    {
     "name": "stderr",
     "output_type": "stream",
     "text": [
      "INFO:absl: \n",
      "\t\t NumberOfEpisodes = 4208\n",
      "\t\t EnvironmentSteps = 1726156\n",
      "\t\t AverageReturn = 57.79999923706055\n",
      "\t\t AverageEpisodeLength = 541.4000244140625\n"
     ]
    },
    {
     "name": "stdout",
     "output_type": "stream",
     "text": [
      "409000 loss:0.04728\n",
      "elapsed_time: 41.24s\n",
      "409995 loss:0.13520"
     ]
    },
    {
     "name": "stderr",
     "output_type": "stream",
     "text": [
      "INFO:absl: \n",
      "\t\t NumberOfEpisodes = 4216\n",
      "\t\t EnvironmentSteps = 1730156\n",
      "\t\t AverageReturn = 73.5999984741211\n",
      "\t\t AverageEpisodeLength = 565.0999755859375\n"
     ]
    },
    {
     "name": "stdout",
     "output_type": "stream",
     "text": [
      "410000 loss:0.09823\n",
      "elapsed_time: 41.26s\n",
      "410997 loss:0.14799"
     ]
    },
    {
     "name": "stderr",
     "output_type": "stream",
     "text": [
      "INFO:absl: \n",
      "\t\t NumberOfEpisodes = 4224\n",
      "\t\t EnvironmentSteps = 1734156\n",
      "\t\t AverageReturn = 46.400001525878906\n",
      "\t\t AverageEpisodeLength = 493.79998779296875\n"
     ]
    },
    {
     "name": "stdout",
     "output_type": "stream",
     "text": [
      "411000 loss:0.15170\n",
      "elapsed_time: 41.26s\n",
      "411995 loss:0.04307"
     ]
    },
    {
     "name": "stderr",
     "output_type": "stream",
     "text": [
      "INFO:absl: \n",
      "\t\t NumberOfEpisodes = 4232\n",
      "\t\t EnvironmentSteps = 1738156\n",
      "\t\t AverageReturn = 43.29999923706055\n",
      "\t\t AverageEpisodeLength = 481.3999938964844\n"
     ]
    },
    {
     "name": "stdout",
     "output_type": "stream",
     "text": [
      "412000 loss:0.12716\n",
      "elapsed_time: 41.25s\n",
      "412997 loss:0.13794"
     ]
    },
    {
     "name": "stderr",
     "output_type": "stream",
     "text": [
      "INFO:absl: \n",
      "\t\t NumberOfEpisodes = 4238\n",
      "\t\t EnvironmentSteps = 1742156\n",
      "\t\t AverageReturn = 65.0999984741211\n",
      "\t\t AverageEpisodeLength = 558.2000122070312\n"
     ]
    },
    {
     "name": "stdout",
     "output_type": "stream",
     "text": [
      "413000 loss:0.09752\n",
      "elapsed_time: 41.26s\n",
      "413995 loss:0.03561"
     ]
    },
    {
     "name": "stderr",
     "output_type": "stream",
     "text": [
      "INFO:absl: \n",
      "\t\t NumberOfEpisodes = 4246\n",
      "\t\t EnvironmentSteps = 1746156\n",
      "\t\t AverageReturn = 80.69999694824219\n",
      "\t\t AverageEpisodeLength = 548.2999877929688\n"
     ]
    },
    {
     "name": "stdout",
     "output_type": "stream",
     "text": [
      "414000 loss:0.11214\n",
      "elapsed_time: 41.28s\n",
      "414995 loss:0.09269"
     ]
    },
    {
     "name": "stderr",
     "output_type": "stream",
     "text": [
      "INFO:absl: \n",
      "\t\t NumberOfEpisodes = 4254\n",
      "\t\t EnvironmentSteps = 1750156\n",
      "\t\t AverageReturn = 49.099998474121094\n",
      "\t\t AverageEpisodeLength = 499.20001220703125\n"
     ]
    },
    {
     "name": "stdout",
     "output_type": "stream",
     "text": [
      "415000 loss:0.15797\n",
      "elapsed_time: 41.25s\n",
      "415999 loss:0.19678"
     ]
    },
    {
     "name": "stderr",
     "output_type": "stream",
     "text": [
      "INFO:absl: \n",
      "\t\t NumberOfEpisodes = 4262\n",
      "\t\t EnvironmentSteps = 1754156\n",
      "\t\t AverageReturn = 59.0\n",
      "\t\t AverageEpisodeLength = 538.7000122070312\n"
     ]
    },
    {
     "name": "stdout",
     "output_type": "stream",
     "text": [
      "416000 loss:0.03541\n",
      "elapsed_time: 41.27s\n",
      "416996 loss:0.15882"
     ]
    },
    {
     "name": "stderr",
     "output_type": "stream",
     "text": [
      "INFO:absl: \n",
      "\t\t NumberOfEpisodes = 4269\n",
      "\t\t EnvironmentSteps = 1758156\n",
      "\t\t AverageReturn = 69.5999984741211\n",
      "\t\t AverageEpisodeLength = 544.5999755859375\n"
     ]
    },
    {
     "name": "stdout",
     "output_type": "stream",
     "text": [
      "417000 loss:0.10076\n",
      "elapsed_time: 41.22s\n",
      "417997 loss:0.28941"
     ]
    },
    {
     "name": "stderr",
     "output_type": "stream",
     "text": [
      "INFO:absl: \n",
      "\t\t NumberOfEpisodes = 4277\n",
      "\t\t EnvironmentSteps = 1762156\n",
      "\t\t AverageReturn = 66.5999984741211\n",
      "\t\t AverageEpisodeLength = 524.0999755859375\n"
     ]
    },
    {
     "name": "stdout",
     "output_type": "stream",
     "text": [
      "418000 loss:0.18699\n",
      "elapsed_time: 41.24s\n",
      "418999 loss:0.14681"
     ]
    },
    {
     "name": "stderr",
     "output_type": "stream",
     "text": [
      "INFO:absl: \n",
      "\t\t NumberOfEpisodes = 4284\n",
      "\t\t EnvironmentSteps = 1766156\n",
      "\t\t AverageReturn = 64.9000015258789\n",
      "\t\t AverageEpisodeLength = 541.7000122070312\n"
     ]
    },
    {
     "name": "stdout",
     "output_type": "stream",
     "text": [
      "419000 loss:0.43094\n",
      "elapsed_time: 41.27s\n",
      "419995 loss:0.16435"
     ]
    },
    {
     "name": "stderr",
     "output_type": "stream",
     "text": [
      "INFO:absl: \n",
      "\t\t NumberOfEpisodes = 4291\n",
      "\t\t EnvironmentSteps = 1770156\n",
      "\t\t AverageReturn = 56.099998474121094\n",
      "\t\t AverageEpisodeLength = 534.2999877929688\n"
     ]
    },
    {
     "name": "stdout",
     "output_type": "stream",
     "text": [
      "420000 loss:0.13912\n",
      "elapsed_time: 41.22s\n",
      "420997 loss:0.34068"
     ]
    },
    {
     "name": "stderr",
     "output_type": "stream",
     "text": [
      "INFO:absl: \n",
      "\t\t NumberOfEpisodes = 4297\n",
      "\t\t EnvironmentSteps = 1774156\n",
      "\t\t AverageReturn = 96.30000305175781\n",
      "\t\t AverageEpisodeLength = 610.5\n"
     ]
    },
    {
     "name": "stdout",
     "output_type": "stream",
     "text": [
      "421000 loss:0.06574\n",
      "elapsed_time: 41.28s\n",
      "421996 loss:0.04627"
     ]
    },
    {
     "name": "stderr",
     "output_type": "stream",
     "text": [
      "INFO:absl: \n",
      "\t\t NumberOfEpisodes = 4304\n",
      "\t\t EnvironmentSteps = 1778156\n",
      "\t\t AverageReturn = 96.4000015258789\n",
      "\t\t AverageEpisodeLength = 634.7999877929688\n"
     ]
    },
    {
     "name": "stdout",
     "output_type": "stream",
     "text": [
      "422000 loss:0.05724\n",
      "elapsed_time: 41.22s\n",
      "422997 loss:0.04127"
     ]
    },
    {
     "name": "stderr",
     "output_type": "stream",
     "text": [
      "INFO:absl: \n",
      "\t\t NumberOfEpisodes = 4311\n",
      "\t\t EnvironmentSteps = 1782156\n",
      "\t\t AverageReturn = 71.0999984741211\n",
      "\t\t AverageEpisodeLength = 557.0\n"
     ]
    },
    {
     "name": "stdout",
     "output_type": "stream",
     "text": [
      "423000 loss:0.11171\n",
      "elapsed_time: 41.20s\n",
      "423999 loss:0.09446"
     ]
    },
    {
     "name": "stderr",
     "output_type": "stream",
     "text": [
      "INFO:absl: \n",
      "\t\t NumberOfEpisodes = 4318\n",
      "\t\t EnvironmentSteps = 1786156\n",
      "\t\t AverageReturn = 67.5\n",
      "\t\t AverageEpisodeLength = 558.0999755859375\n"
     ]
    },
    {
     "name": "stdout",
     "output_type": "stream",
     "text": [
      "424000 loss:0.03754\n",
      "elapsed_time: 41.21s\n",
      "424996 loss:0.06794"
     ]
    },
    {
     "name": "stderr",
     "output_type": "stream",
     "text": [
      "INFO:absl: \n",
      "\t\t NumberOfEpisodes = 4325\n",
      "\t\t EnvironmentSteps = 1790156\n",
      "\t\t AverageReturn = 71.19999694824219\n",
      "\t\t AverageEpisodeLength = 600.7999877929688\n"
     ]
    },
    {
     "name": "stdout",
     "output_type": "stream",
     "text": [
      "425000 loss:0.28235\n",
      "elapsed_time: 41.94s\n",
      "425996 loss:0.07017"
     ]
    },
    {
     "name": "stderr",
     "output_type": "stream",
     "text": [
      "INFO:absl: \n",
      "\t\t NumberOfEpisodes = 4332\n",
      "\t\t EnvironmentSteps = 1794156\n",
      "\t\t AverageReturn = 47.29999923706055\n",
      "\t\t AverageEpisodeLength = 555.2999877929688\n"
     ]
    },
    {
     "name": "stdout",
     "output_type": "stream",
     "text": [
      "426000 loss:0.07463\n",
      "elapsed_time: 41.22s\n",
      "426997 loss:0.10061"
     ]
    },
    {
     "name": "stderr",
     "output_type": "stream",
     "text": [
      "INFO:absl: \n",
      "\t\t NumberOfEpisodes = 4340\n",
      "\t\t EnvironmentSteps = 1798156\n",
      "\t\t AverageReturn = 58.400001525878906\n",
      "\t\t AverageEpisodeLength = 540.4000244140625\n"
     ]
    },
    {
     "name": "stdout",
     "output_type": "stream",
     "text": [
      "427000 loss:0.16204\n",
      "elapsed_time: 41.22s\n",
      "427999 loss:0.09670"
     ]
    },
    {
     "name": "stderr",
     "output_type": "stream",
     "text": [
      "INFO:absl: \n",
      "\t\t NumberOfEpisodes = 4349\n",
      "\t\t EnvironmentSteps = 1802156\n",
      "\t\t AverageReturn = 43.400001525878906\n",
      "\t\t AverageEpisodeLength = 437.8999938964844\n"
     ]
    },
    {
     "name": "stdout",
     "output_type": "stream",
     "text": [
      "428000 loss:0.14214\n",
      "elapsed_time: 41.26s\n",
      "428999 loss:0.15358"
     ]
    },
    {
     "name": "stderr",
     "output_type": "stream",
     "text": [
      "INFO:absl: \n",
      "\t\t NumberOfEpisodes = 4357\n",
      "\t\t EnvironmentSteps = 1806156\n",
      "\t\t AverageReturn = 34.70000076293945\n",
      "\t\t AverageEpisodeLength = 461.0\n"
     ]
    },
    {
     "name": "stdout",
     "output_type": "stream",
     "text": [
      "429000 loss:0.11175\n",
      "elapsed_time: 41.22s\n",
      "429996 loss:0.05731"
     ]
    },
    {
     "name": "stderr",
     "output_type": "stream",
     "text": [
      "INFO:absl: \n",
      "\t\t NumberOfEpisodes = 4365\n",
      "\t\t EnvironmentSteps = 1810156\n",
      "\t\t AverageReturn = 66.69999694824219\n",
      "\t\t AverageEpisodeLength = 500.6000061035156\n"
     ]
    },
    {
     "name": "stdout",
     "output_type": "stream",
     "text": [
      "430000 loss:0.05398\n",
      "elapsed_time: 41.24s\n",
      "430998 loss:0.17211"
     ]
    },
    {
     "name": "stderr",
     "output_type": "stream",
     "text": [
      "INFO:absl: \n",
      "\t\t NumberOfEpisodes = 4375\n",
      "\t\t EnvironmentSteps = 1814156\n",
      "\t\t AverageReturn = 27.700000762939453\n",
      "\t\t AverageEpisodeLength = 400.1000061035156\n"
     ]
    },
    {
     "name": "stdout",
     "output_type": "stream",
     "text": [
      "431000 loss:0.09824\n",
      "elapsed_time: 41.28s\n",
      "431998 loss:0.16624"
     ]
    },
    {
     "name": "stderr",
     "output_type": "stream",
     "text": [
      "INFO:absl: \n",
      "\t\t NumberOfEpisodes = 4382\n",
      "\t\t EnvironmentSteps = 1818156\n",
      "\t\t AverageReturn = 78.9000015258789\n",
      "\t\t AverageEpisodeLength = 498.20001220703125\n"
     ]
    },
    {
     "name": "stdout",
     "output_type": "stream",
     "text": [
      "432000 loss:0.03709\n",
      "elapsed_time: 41.20s\n",
      "432995 loss:0.18000"
     ]
    },
    {
     "name": "stderr",
     "output_type": "stream",
     "text": [
      "INFO:absl: \n",
      "\t\t NumberOfEpisodes = 4389\n",
      "\t\t EnvironmentSteps = 1822156\n",
      "\t\t AverageReturn = 93.0999984741211\n",
      "\t\t AverageEpisodeLength = 591.5999755859375\n"
     ]
    },
    {
     "name": "stdout",
     "output_type": "stream",
     "text": [
      "433000 loss:0.04448\n",
      "elapsed_time: 41.51s\n",
      "433995 loss:0.15303"
     ]
    },
    {
     "name": "stderr",
     "output_type": "stream",
     "text": [
      "INFO:absl: \n",
      "\t\t NumberOfEpisodes = 4396\n",
      "\t\t EnvironmentSteps = 1826156\n",
      "\t\t AverageReturn = 73.9000015258789\n",
      "\t\t AverageEpisodeLength = 523.2000122070312\n"
     ]
    },
    {
     "name": "stdout",
     "output_type": "stream",
     "text": [
      "434000 loss:0.03875\n",
      "elapsed_time: 41.23s\n",
      "434996 loss:0.13873"
     ]
    },
    {
     "name": "stderr",
     "output_type": "stream",
     "text": [
      "INFO:absl: \n",
      "\t\t NumberOfEpisodes = 4403\n",
      "\t\t EnvironmentSteps = 1830156\n",
      "\t\t AverageReturn = 66.4000015258789\n",
      "\t\t AverageEpisodeLength = 544.0999755859375\n"
     ]
    },
    {
     "name": "stdout",
     "output_type": "stream",
     "text": [
      "435000 loss:0.12359\n",
      "elapsed_time: 41.40s\n",
      "435997 loss:0.06707"
     ]
    },
    {
     "name": "stderr",
     "output_type": "stream",
     "text": [
      "INFO:absl: \n",
      "\t\t NumberOfEpisodes = 4410\n",
      "\t\t EnvironmentSteps = 1834156\n",
      "\t\t AverageReturn = 89.80000305175781\n",
      "\t\t AverageEpisodeLength = 602.5\n"
     ]
    },
    {
     "name": "stdout",
     "output_type": "stream",
     "text": [
      "436000 loss:0.14093\n",
      "elapsed_time: 41.27s\n",
      "436999 loss:0.18965"
     ]
    },
    {
     "name": "stderr",
     "output_type": "stream",
     "text": [
      "INFO:absl: \n",
      "\t\t NumberOfEpisodes = 4417\n",
      "\t\t EnvironmentSteps = 1838156\n",
      "\t\t AverageReturn = 64.69999694824219\n",
      "\t\t AverageEpisodeLength = 573.7999877929688\n"
     ]
    },
    {
     "name": "stdout",
     "output_type": "stream",
     "text": [
      "437000 loss:0.07113\n",
      "elapsed_time: 41.28s\n",
      "437999 loss:0.07072"
     ]
    },
    {
     "name": "stderr",
     "output_type": "stream",
     "text": [
      "INFO:absl: \n",
      "\t\t NumberOfEpisodes = 4425\n",
      "\t\t EnvironmentSteps = 1842156\n",
      "\t\t AverageReturn = 77.0999984741211\n",
      "\t\t AverageEpisodeLength = 558.0999755859375\n"
     ]
    },
    {
     "name": "stdout",
     "output_type": "stream",
     "text": [
      "438000 loss:0.16556\n",
      "elapsed_time: 41.26s\n",
      "438995 loss:0.08185"
     ]
    },
    {
     "name": "stderr",
     "output_type": "stream",
     "text": [
      "INFO:absl: \n",
      "\t\t NumberOfEpisodes = 4431\n",
      "\t\t EnvironmentSteps = 1846156\n",
      "\t\t AverageReturn = 101.5999984741211\n",
      "\t\t AverageEpisodeLength = 575.0\n"
     ]
    },
    {
     "name": "stdout",
     "output_type": "stream",
     "text": [
      "439000 loss:0.13159\n",
      "elapsed_time: 41.25s\n",
      "439996 loss:0.09272"
     ]
    },
    {
     "name": "stderr",
     "output_type": "stream",
     "text": [
      "INFO:absl: \n",
      "\t\t NumberOfEpisodes = 4439\n",
      "\t\t EnvironmentSteps = 1850156\n",
      "\t\t AverageReturn = 52.400001525878906\n",
      "\t\t AverageEpisodeLength = 551.9000244140625\n"
     ]
    },
    {
     "name": "stdout",
     "output_type": "stream",
     "text": [
      "440000 loss:0.01955\n",
      "elapsed_time: 41.27s\n",
      "440996 loss:0.08129"
     ]
    },
    {
     "name": "stderr",
     "output_type": "stream",
     "text": [
      "INFO:absl: \n",
      "\t\t NumberOfEpisodes = 4446\n",
      "\t\t EnvironmentSteps = 1854156\n",
      "\t\t AverageReturn = 85.19999694824219\n",
      "\t\t AverageEpisodeLength = 575.2000122070312\n"
     ]
    },
    {
     "name": "stdout",
     "output_type": "stream",
     "text": [
      "441000 loss:0.02670\n",
      "elapsed_time: 41.23s\n",
      "441997 loss:0.14816"
     ]
    },
    {
     "name": "stderr",
     "output_type": "stream",
     "text": [
      "INFO:absl: \n",
      "\t\t NumberOfEpisodes = 4452\n",
      "\t\t EnvironmentSteps = 1858156\n",
      "\t\t AverageReturn = 132.39999389648438\n",
      "\t\t AverageEpisodeLength = 679.0999755859375\n"
     ]
    },
    {
     "name": "stdout",
     "output_type": "stream",
     "text": [
      "442000 loss:0.04371\n",
      "elapsed_time: 41.24s\n",
      "442998 loss:0.06436"
     ]
    },
    {
     "name": "stderr",
     "output_type": "stream",
     "text": [
      "INFO:absl: \n",
      "\t\t NumberOfEpisodes = 4457\n",
      "\t\t EnvironmentSteps = 1862156\n",
      "\t\t AverageReturn = 128.60000610351562\n",
      "\t\t AverageEpisodeLength = 699.2000122070312\n"
     ]
    },
    {
     "name": "stdout",
     "output_type": "stream",
     "text": [
      "443000 loss:0.11343\n",
      "elapsed_time: 41.17s\n",
      "443999 loss:0.21907"
     ]
    },
    {
     "name": "stderr",
     "output_type": "stream",
     "text": [
      "INFO:absl: \n",
      "\t\t NumberOfEpisodes = 4464\n",
      "\t\t EnvironmentSteps = 1866156\n",
      "\t\t AverageReturn = 126.5\n",
      "\t\t AverageEpisodeLength = 632.0999755859375\n"
     ]
    },
    {
     "name": "stdout",
     "output_type": "stream",
     "text": [
      "444000 loss:0.23211\n",
      "elapsed_time: 41.44s\n",
      "444996 loss:0.07825"
     ]
    },
    {
     "name": "stderr",
     "output_type": "stream",
     "text": [
      "INFO:absl: \n",
      "\t\t NumberOfEpisodes = 4470\n",
      "\t\t EnvironmentSteps = 1870156\n",
      "\t\t AverageReturn = 122.9000015258789\n",
      "\t\t AverageEpisodeLength = 656.4000244140625\n"
     ]
    },
    {
     "name": "stdout",
     "output_type": "stream",
     "text": [
      "445000 loss:0.07209\n",
      "elapsed_time: 41.27s\n",
      "445998 loss:0.04393"
     ]
    },
    {
     "name": "stderr",
     "output_type": "stream",
     "text": [
      "INFO:absl: \n",
      "\t\t NumberOfEpisodes = 4477\n",
      "\t\t EnvironmentSteps = 1874156\n",
      "\t\t AverageReturn = 107.0999984741211\n",
      "\t\t AverageEpisodeLength = 645.0\n"
     ]
    },
    {
     "name": "stdout",
     "output_type": "stream",
     "text": [
      "446000 loss:0.15559\n",
      "elapsed_time: 41.26s\n",
      "446999 loss:0.09499"
     ]
    },
    {
     "name": "stderr",
     "output_type": "stream",
     "text": [
      "INFO:absl: \n",
      "\t\t NumberOfEpisodes = 4484\n",
      "\t\t EnvironmentSteps = 1878156\n",
      "\t\t AverageReturn = 80.69999694824219\n",
      "\t\t AverageEpisodeLength = 573.7000122070312\n"
     ]
    },
    {
     "name": "stdout",
     "output_type": "stream",
     "text": [
      "447000 loss:0.40011\n",
      "elapsed_time: 41.25s\n",
      "447999 loss:0.30800"
     ]
    },
    {
     "name": "stderr",
     "output_type": "stream",
     "text": [
      "INFO:absl: \n",
      "\t\t NumberOfEpisodes = 4489\n",
      "\t\t EnvironmentSteps = 1882156\n",
      "\t\t AverageReturn = 126.19999694824219\n",
      "\t\t AverageEpisodeLength = 696.4000244140625\n"
     ]
    },
    {
     "name": "stdout",
     "output_type": "stream",
     "text": [
      "448000 loss:0.05025\n",
      "elapsed_time: 41.23s\n",
      "448997 loss:0.17105"
     ]
    },
    {
     "name": "stderr",
     "output_type": "stream",
     "text": [
      "INFO:absl: \n",
      "\t\t NumberOfEpisodes = 4495\n",
      "\t\t EnvironmentSteps = 1886156\n",
      "\t\t AverageReturn = 128.1999969482422\n",
      "\t\t AverageEpisodeLength = 671.0\n"
     ]
    },
    {
     "name": "stdout",
     "output_type": "stream",
     "text": [
      "449000 loss:0.07157\n",
      "elapsed_time: 41.20s\n",
      "449998 loss:0.03888"
     ]
    },
    {
     "name": "stderr",
     "output_type": "stream",
     "text": [
      "INFO:absl: \n",
      "\t\t NumberOfEpisodes = 4504\n",
      "\t\t EnvironmentSteps = 1890156\n",
      "\t\t AverageReturn = 83.30000305175781\n",
      "\t\t AverageEpisodeLength = 536.2999877929688\n"
     ]
    },
    {
     "name": "stdout",
     "output_type": "stream",
     "text": [
      "450000 loss:0.39979\n",
      "elapsed_time: 41.25s\n",
      "450999 loss:0.07441"
     ]
    },
    {
     "name": "stderr",
     "output_type": "stream",
     "text": [
      "INFO:absl: \n",
      "\t\t NumberOfEpisodes = 4511\n",
      "\t\t EnvironmentSteps = 1894156\n",
      "\t\t AverageReturn = 99.9000015258789\n",
      "\t\t AverageEpisodeLength = 522.4000244140625\n"
     ]
    },
    {
     "name": "stdout",
     "output_type": "stream",
     "text": [
      "451000 loss:0.09574\n",
      "elapsed_time: 41.38s\n",
      "451999 loss:0.05208"
     ]
    },
    {
     "name": "stderr",
     "output_type": "stream",
     "text": [
      "INFO:absl: \n",
      "\t\t NumberOfEpisodes = 4519\n",
      "\t\t EnvironmentSteps = 1898156\n",
      "\t\t AverageReturn = 79.5\n",
      "\t\t AverageEpisodeLength = 520.2999877929688\n"
     ]
    },
    {
     "name": "stdout",
     "output_type": "stream",
     "text": [
      "452000 loss:0.10820\n",
      "elapsed_time: 41.69s\n",
      "452997 loss:0.07143"
     ]
    },
    {
     "name": "stderr",
     "output_type": "stream",
     "text": [
      "INFO:absl: \n",
      "\t\t NumberOfEpisodes = 4527\n",
      "\t\t EnvironmentSteps = 1902156\n",
      "\t\t AverageReturn = 57.0\n",
      "\t\t AverageEpisodeLength = 455.3999938964844\n"
     ]
    },
    {
     "name": "stdout",
     "output_type": "stream",
     "text": [
      "453000 loss:0.18556\n",
      "elapsed_time: 41.24s\n",
      "453997 loss:0.23081"
     ]
    },
    {
     "name": "stderr",
     "output_type": "stream",
     "text": [
      "INFO:absl: \n",
      "\t\t NumberOfEpisodes = 4534\n",
      "\t\t EnvironmentSteps = 1906156\n",
      "\t\t AverageReturn = 73.9000015258789\n",
      "\t\t AverageEpisodeLength = 562.2999877929688\n"
     ]
    },
    {
     "name": "stdout",
     "output_type": "stream",
     "text": [
      "454000 loss:0.31713\n",
      "elapsed_time: 41.27s\n",
      "454998 loss:0.06949"
     ]
    },
    {
     "name": "stderr",
     "output_type": "stream",
     "text": [
      "INFO:absl: \n",
      "\t\t NumberOfEpisodes = 4541\n",
      "\t\t EnvironmentSteps = 1910156\n",
      "\t\t AverageReturn = 83.0\n",
      "\t\t AverageEpisodeLength = 592.5999755859375\n"
     ]
    },
    {
     "name": "stdout",
     "output_type": "stream",
     "text": [
      "455000 loss:0.14704\n",
      "elapsed_time: 41.22s\n",
      "455998 loss:0.11798"
     ]
    },
    {
     "name": "stderr",
     "output_type": "stream",
     "text": [
      "INFO:absl: \n",
      "\t\t NumberOfEpisodes = 4547\n",
      "\t\t EnvironmentSteps = 1914156\n",
      "\t\t AverageReturn = 86.69999694824219\n",
      "\t\t AverageEpisodeLength = 622.2999877929688\n"
     ]
    },
    {
     "name": "stdout",
     "output_type": "stream",
     "text": [
      "456000 loss:0.07113\n",
      "elapsed_time: 41.21s\n",
      "456996 loss:0.06684"
     ]
    },
    {
     "name": "stderr",
     "output_type": "stream",
     "text": [
      "INFO:absl: \n",
      "\t\t NumberOfEpisodes = 4552\n",
      "\t\t EnvironmentSteps = 1918156\n",
      "\t\t AverageReturn = 107.19999694824219\n",
      "\t\t AverageEpisodeLength = 662.5\n"
     ]
    },
    {
     "name": "stdout",
     "output_type": "stream",
     "text": [
      "457000 loss:0.18710\n",
      "elapsed_time: 41.24s\n",
      "457998 loss:0.13780"
     ]
    },
    {
     "name": "stderr",
     "output_type": "stream",
     "text": [
      "INFO:absl: \n",
      "\t\t NumberOfEpisodes = 4559\n",
      "\t\t EnvironmentSteps = 1922156\n",
      "\t\t AverageReturn = 88.69999694824219\n",
      "\t\t AverageEpisodeLength = 624.0\n"
     ]
    },
    {
     "name": "stdout",
     "output_type": "stream",
     "text": [
      "458000 loss:0.10011\n",
      "elapsed_time: 41.21s\n",
      "458999 loss:0.04931"
     ]
    },
    {
     "name": "stderr",
     "output_type": "stream",
     "text": [
      "INFO:absl: \n",
      "\t\t NumberOfEpisodes = 4567\n",
      "\t\t EnvironmentSteps = 1926156\n",
      "\t\t AverageReturn = 66.5999984741211\n",
      "\t\t AverageEpisodeLength = 576.5\n"
     ]
    },
    {
     "name": "stdout",
     "output_type": "stream",
     "text": [
      "459000 loss:0.13809\n",
      "elapsed_time: 41.23s\n",
      "459995 loss:0.34162"
     ]
    },
    {
     "name": "stderr",
     "output_type": "stream",
     "text": [
      "INFO:absl: \n",
      "\t\t NumberOfEpisodes = 4573\n",
      "\t\t EnvironmentSteps = 1930156\n",
      "\t\t AverageReturn = 87.5\n",
      "\t\t AverageEpisodeLength = 612.2000122070312\n"
     ]
    },
    {
     "name": "stdout",
     "output_type": "stream",
     "text": [
      "460000 loss:0.09034\n",
      "elapsed_time: 41.23s\n",
      "460995 loss:0.08396"
     ]
    },
    {
     "name": "stderr",
     "output_type": "stream",
     "text": [
      "INFO:absl: \n",
      "\t\t NumberOfEpisodes = 4579\n",
      "\t\t EnvironmentSteps = 1934156\n",
      "\t\t AverageReturn = 109.80000305175781\n",
      "\t\t AverageEpisodeLength = 618.9000244140625\n"
     ]
    },
    {
     "name": "stdout",
     "output_type": "stream",
     "text": [
      "461000 loss:0.20668\n",
      "elapsed_time: 41.22s\n",
      "461997 loss:0.21788"
     ]
    },
    {
     "name": "stderr",
     "output_type": "stream",
     "text": [
      "INFO:absl: \n",
      "\t\t NumberOfEpisodes = 4586\n",
      "\t\t EnvironmentSteps = 1938156\n",
      "\t\t AverageReturn = 76.0999984741211\n",
      "\t\t AverageEpisodeLength = 618.7999877929688\n"
     ]
    },
    {
     "name": "stdout",
     "output_type": "stream",
     "text": [
      "462000 loss:0.14777\n",
      "elapsed_time: 41.27s\n",
      "462998 loss:0.11103"
     ]
    },
    {
     "name": "stderr",
     "output_type": "stream",
     "text": [
      "INFO:absl: \n",
      "\t\t NumberOfEpisodes = 4592\n",
      "\t\t EnvironmentSteps = 1942156\n",
      "\t\t AverageReturn = 64.9000015258789\n",
      "\t\t AverageEpisodeLength = 617.0999755859375\n"
     ]
    },
    {
     "name": "stdout",
     "output_type": "stream",
     "text": [
      "463000 loss:0.23788\n",
      "elapsed_time: 41.23s\n",
      "463998 loss:0.23196"
     ]
    },
    {
     "name": "stderr",
     "output_type": "stream",
     "text": [
      "INFO:absl: \n",
      "\t\t NumberOfEpisodes = 4598\n",
      "\t\t EnvironmentSteps = 1946156\n",
      "\t\t AverageReturn = 77.0\n",
      "\t\t AverageEpisodeLength = 631.7999877929688\n"
     ]
    },
    {
     "name": "stdout",
     "output_type": "stream",
     "text": [
      "464000 loss:0.16821\n",
      "elapsed_time: 41.20s\n",
      "464995 loss:0.29325"
     ]
    },
    {
     "name": "stderr",
     "output_type": "stream",
     "text": [
      "INFO:absl: \n",
      "\t\t NumberOfEpisodes = 4604\n",
      "\t\t EnvironmentSteps = 1950156\n",
      "\t\t AverageReturn = 100.4000015258789\n",
      "\t\t AverageEpisodeLength = 660.0999755859375\n"
     ]
    },
    {
     "name": "stdout",
     "output_type": "stream",
     "text": [
      "465000 loss:0.10602\n",
      "elapsed_time: 41.27s\n",
      "465996 loss:0.15336"
     ]
    },
    {
     "name": "stderr",
     "output_type": "stream",
     "text": [
      "INFO:absl: \n",
      "\t\t NumberOfEpisodes = 4610\n",
      "\t\t EnvironmentSteps = 1954156\n",
      "\t\t AverageReturn = 98.0999984741211\n",
      "\t\t AverageEpisodeLength = 663.7999877929688\n"
     ]
    },
    {
     "name": "stdout",
     "output_type": "stream",
     "text": [
      "466000 loss:0.07584\n",
      "elapsed_time: 41.25s\n",
      "466998 loss:0.31823"
     ]
    },
    {
     "name": "stderr",
     "output_type": "stream",
     "text": [
      "INFO:absl: \n",
      "\t\t NumberOfEpisodes = 4616\n",
      "\t\t EnvironmentSteps = 1958156\n",
      "\t\t AverageReturn = 118.5999984741211\n",
      "\t\t AverageEpisodeLength = 701.5999755859375\n"
     ]
    },
    {
     "name": "stdout",
     "output_type": "stream",
     "text": [
      "467000 loss:0.05564\n",
      "elapsed_time: 41.25s\n",
      "467998 loss:0.16214"
     ]
    },
    {
     "name": "stderr",
     "output_type": "stream",
     "text": [
      "INFO:absl: \n",
      "\t\t NumberOfEpisodes = 4622\n",
      "\t\t EnvironmentSteps = 1962156\n",
      "\t\t AverageReturn = 101.69999694824219\n",
      "\t\t AverageEpisodeLength = 650.5\n"
     ]
    },
    {
     "name": "stdout",
     "output_type": "stream",
     "text": [
      "468000 loss:0.34974\n",
      "elapsed_time: 41.36s\n",
      "468995 loss:0.36493"
     ]
    },
    {
     "name": "stderr",
     "output_type": "stream",
     "text": [
      "INFO:absl: \n",
      "\t\t NumberOfEpisodes = 4629\n",
      "\t\t EnvironmentSteps = 1966156\n",
      "\t\t AverageReturn = 114.19999694824219\n",
      "\t\t AverageEpisodeLength = 628.0999755859375\n"
     ]
    },
    {
     "name": "stdout",
     "output_type": "stream",
     "text": [
      "469000 loss:0.05865\n",
      "elapsed_time: 41.27s\n",
      "469998 loss:0.10155"
     ]
    },
    {
     "name": "stderr",
     "output_type": "stream",
     "text": [
      "INFO:absl: \n",
      "\t\t NumberOfEpisodes = 4636\n",
      "\t\t EnvironmentSteps = 1970156\n",
      "\t\t AverageReturn = 80.9000015258789\n",
      "\t\t AverageEpisodeLength = 542.7000122070312\n"
     ]
    },
    {
     "name": "stdout",
     "output_type": "stream",
     "text": [
      "470000 loss:0.06584\n",
      "elapsed_time: 41.27s\n",
      "470998 loss:0.24620"
     ]
    },
    {
     "name": "stderr",
     "output_type": "stream",
     "text": [
      "INFO:absl: \n",
      "\t\t NumberOfEpisodes = 4643\n",
      "\t\t EnvironmentSteps = 1974156\n",
      "\t\t AverageReturn = 53.20000076293945\n",
      "\t\t AverageEpisodeLength = 584.5999755859375\n"
     ]
    },
    {
     "name": "stdout",
     "output_type": "stream",
     "text": [
      "471000 loss:0.31271\n",
      "elapsed_time: 41.29s\n",
      "471998 loss:0.36041"
     ]
    },
    {
     "name": "stderr",
     "output_type": "stream",
     "text": [
      "INFO:absl: \n",
      "\t\t NumberOfEpisodes = 4648\n",
      "\t\t EnvironmentSteps = 1978156\n",
      "\t\t AverageReturn = 86.80000305175781\n",
      "\t\t AverageEpisodeLength = 649.2000122070312\n"
     ]
    },
    {
     "name": "stdout",
     "output_type": "stream",
     "text": [
      "472000 loss:0.70921\n",
      "elapsed_time: 41.25s\n",
      "472998 loss:0.07582"
     ]
    },
    {
     "name": "stderr",
     "output_type": "stream",
     "text": [
      "INFO:absl: \n",
      "\t\t NumberOfEpisodes = 4654\n",
      "\t\t EnvironmentSteps = 1982156\n",
      "\t\t AverageReturn = 105.69999694824219\n",
      "\t\t AverageEpisodeLength = 657.5\n"
     ]
    },
    {
     "name": "stdout",
     "output_type": "stream",
     "text": [
      "473000 loss:0.10034\n",
      "elapsed_time: 41.27s\n",
      "473995 loss:0.32952"
     ]
    },
    {
     "name": "stderr",
     "output_type": "stream",
     "text": [
      "INFO:absl: \n",
      "\t\t NumberOfEpisodes = 4661\n",
      "\t\t EnvironmentSteps = 1986156\n",
      "\t\t AverageReturn = 70.9000015258789\n",
      "\t\t AverageEpisodeLength = 605.0999755859375\n"
     ]
    },
    {
     "name": "stdout",
     "output_type": "stream",
     "text": [
      "474000 loss:0.24380\n",
      "elapsed_time: 41.24s\n",
      "474998 loss:0.26661"
     ]
    },
    {
     "name": "stderr",
     "output_type": "stream",
     "text": [
      "INFO:absl: \n",
      "\t\t NumberOfEpisodes = 4668\n",
      "\t\t EnvironmentSteps = 1990156\n",
      "\t\t AverageReturn = 67.0999984741211\n",
      "\t\t AverageEpisodeLength = 597.5\n"
     ]
    },
    {
     "name": "stdout",
     "output_type": "stream",
     "text": [
      "475000 loss:0.13164\n",
      "elapsed_time: 41.22s\n",
      "475998 loss:0.33442"
     ]
    },
    {
     "name": "stderr",
     "output_type": "stream",
     "text": [
      "INFO:absl: \n",
      "\t\t NumberOfEpisodes = 4674\n",
      "\t\t EnvironmentSteps = 1994156\n",
      "\t\t AverageReturn = 88.9000015258789\n",
      "\t\t AverageEpisodeLength = 606.5\n"
     ]
    },
    {
     "name": "stdout",
     "output_type": "stream",
     "text": [
      "476000 loss:0.19288\n",
      "elapsed_time: 41.22s\n",
      "476995 loss:0.13242"
     ]
    },
    {
     "name": "stderr",
     "output_type": "stream",
     "text": [
      "INFO:absl: \n",
      "\t\t NumberOfEpisodes = 4681\n",
      "\t\t EnvironmentSteps = 1998156\n",
      "\t\t AverageReturn = 116.80000305175781\n",
      "\t\t AverageEpisodeLength = 640.5999755859375\n"
     ]
    },
    {
     "name": "stdout",
     "output_type": "stream",
     "text": [
      "477000 loss:0.25077\n",
      "elapsed_time: 41.25s\n",
      "477995 loss:0.26370"
     ]
    },
    {
     "name": "stderr",
     "output_type": "stream",
     "text": [
      "INFO:absl: \n",
      "\t\t NumberOfEpisodes = 4687\n",
      "\t\t EnvironmentSteps = 2002156\n",
      "\t\t AverageReturn = 108.80000305175781\n",
      "\t\t AverageEpisodeLength = 609.2000122070312\n"
     ]
    },
    {
     "name": "stdout",
     "output_type": "stream",
     "text": [
      "478000 loss:0.06925\n",
      "elapsed_time: 41.20s\n",
      "478996 loss:0.07985"
     ]
    },
    {
     "name": "stderr",
     "output_type": "stream",
     "text": [
      "INFO:absl: \n",
      "\t\t NumberOfEpisodes = 4693\n",
      "\t\t EnvironmentSteps = 2006156\n",
      "\t\t AverageReturn = 157.3000030517578\n",
      "\t\t AverageEpisodeLength = 674.0\n"
     ]
    },
    {
     "name": "stdout",
     "output_type": "stream",
     "text": [
      "479000 loss:0.11847\n",
      "elapsed_time: 41.21s\n",
      "479998 loss:0.22012"
     ]
    },
    {
     "name": "stderr",
     "output_type": "stream",
     "text": [
      "INFO:absl: \n",
      "\t\t NumberOfEpisodes = 4699\n",
      "\t\t EnvironmentSteps = 2010156\n",
      "\t\t AverageReturn = 140.5\n",
      "\t\t AverageEpisodeLength = 668.0999755859375\n"
     ]
    },
    {
     "name": "stdout",
     "output_type": "stream",
     "text": [
      "480000 loss:0.13453\n",
      "elapsed_time: 41.26s\n",
      "480995 loss:0.13435"
     ]
    },
    {
     "name": "stderr",
     "output_type": "stream",
     "text": [
      "INFO:absl: \n",
      "\t\t NumberOfEpisodes = 4704\n",
      "\t\t EnvironmentSteps = 2014156\n",
      "\t\t AverageReturn = 158.6999969482422\n",
      "\t\t AverageEpisodeLength = 723.2999877929688\n"
     ]
    },
    {
     "name": "stdout",
     "output_type": "stream",
     "text": [
      "481000 loss:0.14984\n",
      "elapsed_time: 41.24s\n",
      "481996 loss:0.38450"
     ]
    },
    {
     "name": "stderr",
     "output_type": "stream",
     "text": [
      "INFO:absl: \n",
      "\t\t NumberOfEpisodes = 4711\n",
      "\t\t EnvironmentSteps = 2018156\n",
      "\t\t AverageReturn = 108.5999984741211\n",
      "\t\t AverageEpisodeLength = 638.0\n"
     ]
    },
    {
     "name": "stdout",
     "output_type": "stream",
     "text": [
      "482000 loss:0.19937\n",
      "elapsed_time: 41.28s\n",
      "482996 loss:0.26010"
     ]
    },
    {
     "name": "stderr",
     "output_type": "stream",
     "text": [
      "INFO:absl: \n",
      "\t\t NumberOfEpisodes = 4718\n",
      "\t\t EnvironmentSteps = 2022156\n",
      "\t\t AverageReturn = 61.70000076293945\n",
      "\t\t AverageEpisodeLength = 548.4000244140625\n"
     ]
    },
    {
     "name": "stdout",
     "output_type": "stream",
     "text": [
      "483000 loss:0.27999\n",
      "elapsed_time: 41.26s\n",
      "483996 loss:0.10278"
     ]
    },
    {
     "name": "stderr",
     "output_type": "stream",
     "text": [
      "INFO:absl: \n",
      "\t\t NumberOfEpisodes = 4723\n",
      "\t\t EnvironmentSteps = 2026156\n",
      "\t\t AverageReturn = 103.0\n",
      "\t\t AverageEpisodeLength = 640.7000122070312\n"
     ]
    },
    {
     "name": "stdout",
     "output_type": "stream",
     "text": [
      "484000 loss:0.31256\n",
      "elapsed_time: 41.21s\n",
      "484998 loss:0.23603"
     ]
    },
    {
     "name": "stderr",
     "output_type": "stream",
     "text": [
      "INFO:absl: \n",
      "\t\t NumberOfEpisodes = 4730\n",
      "\t\t EnvironmentSteps = 2030156\n",
      "\t\t AverageReturn = 113.0999984741211\n",
      "\t\t AverageEpisodeLength = 669.4000244140625\n"
     ]
    },
    {
     "name": "stdout",
     "output_type": "stream",
     "text": [
      "485000 loss:0.02765\n",
      "elapsed_time: 41.23s\n",
      "485996 loss:0.05001"
     ]
    },
    {
     "name": "stderr",
     "output_type": "stream",
     "text": [
      "INFO:absl: \n",
      "\t\t NumberOfEpisodes = 4736\n",
      "\t\t EnvironmentSteps = 2034156\n",
      "\t\t AverageReturn = 91.69999694824219\n",
      "\t\t AverageEpisodeLength = 579.7999877929688\n"
     ]
    },
    {
     "name": "stdout",
     "output_type": "stream",
     "text": [
      "486000 loss:0.25458\n",
      "elapsed_time: 41.25s\n",
      "486996 loss:0.26705"
     ]
    },
    {
     "name": "stderr",
     "output_type": "stream",
     "text": [
      "INFO:absl: \n",
      "\t\t NumberOfEpisodes = 4743\n",
      "\t\t EnvironmentSteps = 2038156\n",
      "\t\t AverageReturn = 134.3000030517578\n",
      "\t\t AverageEpisodeLength = 635.0\n"
     ]
    },
    {
     "name": "stdout",
     "output_type": "stream",
     "text": [
      "487000 loss:0.13686\n",
      "elapsed_time: 41.24s\n",
      "487996 loss:0.12169"
     ]
    },
    {
     "name": "stderr",
     "output_type": "stream",
     "text": [
      "INFO:absl: \n",
      "\t\t NumberOfEpisodes = 4749\n",
      "\t\t EnvironmentSteps = 2042156\n",
      "\t\t AverageReturn = 95.30000305175781\n",
      "\t\t AverageEpisodeLength = 614.2999877929688\n"
     ]
    },
    {
     "name": "stdout",
     "output_type": "stream",
     "text": [
      "488000 loss:0.26772\n",
      "elapsed_time: 41.22s\n",
      "488996 loss:0.24119"
     ]
    },
    {
     "name": "stderr",
     "output_type": "stream",
     "text": [
      "INFO:absl: \n",
      "\t\t NumberOfEpisodes = 4756\n",
      "\t\t EnvironmentSteps = 2046156\n",
      "\t\t AverageReturn = 78.0\n",
      "\t\t AverageEpisodeLength = 594.2999877929688\n"
     ]
    },
    {
     "name": "stdout",
     "output_type": "stream",
     "text": [
      "489000 loss:0.08405\n",
      "elapsed_time: 41.28s\n",
      "489996 loss:0.37292"
     ]
    },
    {
     "name": "stderr",
     "output_type": "stream",
     "text": [
      "INFO:absl: \n",
      "\t\t NumberOfEpisodes = 4762\n",
      "\t\t EnvironmentSteps = 2050156\n",
      "\t\t AverageReturn = 119.19999694824219\n",
      "\t\t AverageEpisodeLength = 597.2999877929688\n"
     ]
    },
    {
     "name": "stdout",
     "output_type": "stream",
     "text": [
      "490000 loss:0.14964\n",
      "elapsed_time: 41.20s\n",
      "490999 loss:0.21336"
     ]
    },
    {
     "name": "stderr",
     "output_type": "stream",
     "text": [
      "INFO:absl: \n",
      "\t\t NumberOfEpisodes = 4769\n",
      "\t\t EnvironmentSteps = 2054156\n",
      "\t\t AverageReturn = 129.0\n",
      "\t\t AverageEpisodeLength = 579.2999877929688\n"
     ]
    },
    {
     "name": "stdout",
     "output_type": "stream",
     "text": [
      "491000 loss:0.23730\n",
      "elapsed_time: 41.22s\n",
      "491998 loss:0.39765"
     ]
    },
    {
     "name": "stderr",
     "output_type": "stream",
     "text": [
      "INFO:absl: \n",
      "\t\t NumberOfEpisodes = 4775\n",
      "\t\t EnvironmentSteps = 2058156\n",
      "\t\t AverageReturn = 101.9000015258789\n",
      "\t\t AverageEpisodeLength = 588.0999755859375\n"
     ]
    },
    {
     "name": "stdout",
     "output_type": "stream",
     "text": [
      "492000 loss:0.35149\n",
      "elapsed_time: 41.29s\n",
      "492998 loss:0.36197"
     ]
    },
    {
     "name": "stderr",
     "output_type": "stream",
     "text": [
      "INFO:absl: \n",
      "\t\t NumberOfEpisodes = 4782\n",
      "\t\t EnvironmentSteps = 2062156\n",
      "\t\t AverageReturn = 78.9000015258789\n",
      "\t\t AverageEpisodeLength = 601.9000244140625\n"
     ]
    },
    {
     "name": "stdout",
     "output_type": "stream",
     "text": [
      "493000 loss:0.31608\n",
      "elapsed_time: 41.25s\n",
      "493995 loss:0.19886"
     ]
    },
    {
     "name": "stderr",
     "output_type": "stream",
     "text": [
      "INFO:absl: \n",
      "\t\t NumberOfEpisodes = 4788\n",
      "\t\t EnvironmentSteps = 2066156\n",
      "\t\t AverageReturn = 95.0\n",
      "\t\t AverageEpisodeLength = 599.9000244140625\n"
     ]
    },
    {
     "name": "stdout",
     "output_type": "stream",
     "text": [
      "494000 loss:0.42813\n",
      "elapsed_time: 41.28s\n",
      "494995 loss:0.29865"
     ]
    },
    {
     "name": "stderr",
     "output_type": "stream",
     "text": [
      "INFO:absl: \n",
      "\t\t NumberOfEpisodes = 4795\n",
      "\t\t EnvironmentSteps = 2070156\n",
      "\t\t AverageReturn = 109.80000305175781\n",
      "\t\t AverageEpisodeLength = 614.2000122070312\n"
     ]
    },
    {
     "name": "stdout",
     "output_type": "stream",
     "text": [
      "495000 loss:0.25160\n",
      "elapsed_time: 41.27s\n",
      "495996 loss:0.12962"
     ]
    },
    {
     "name": "stderr",
     "output_type": "stream",
     "text": [
      "INFO:absl: \n",
      "\t\t NumberOfEpisodes = 4801\n",
      "\t\t EnvironmentSteps = 2074156\n",
      "\t\t AverageReturn = 143.0\n",
      "\t\t AverageEpisodeLength = 662.2999877929688\n"
     ]
    },
    {
     "name": "stdout",
     "output_type": "stream",
     "text": [
      "496000 loss:0.13024\n",
      "elapsed_time: 41.23s\n",
      "496997 loss:0.29276"
     ]
    },
    {
     "name": "stderr",
     "output_type": "stream",
     "text": [
      "INFO:absl: \n",
      "\t\t NumberOfEpisodes = 4807\n",
      "\t\t EnvironmentSteps = 2078156\n",
      "\t\t AverageReturn = 133.60000610351562\n",
      "\t\t AverageEpisodeLength = 620.7000122070312\n"
     ]
    },
    {
     "name": "stdout",
     "output_type": "stream",
     "text": [
      "497000 loss:0.10792\n",
      "elapsed_time: 41.27s\n",
      "497998 loss:0.27865"
     ]
    },
    {
     "name": "stderr",
     "output_type": "stream",
     "text": [
      "INFO:absl: \n",
      "\t\t NumberOfEpisodes = 4814\n",
      "\t\t EnvironmentSteps = 2082156\n",
      "\t\t AverageReturn = 168.5\n",
      "\t\t AverageEpisodeLength = 626.2999877929688\n"
     ]
    },
    {
     "name": "stdout",
     "output_type": "stream",
     "text": [
      "498000 loss:0.46811\n",
      "elapsed_time: 41.24s\n",
      "498999 loss:0.50218"
     ]
    },
    {
     "name": "stderr",
     "output_type": "stream",
     "text": [
      "INFO:absl: \n",
      "\t\t NumberOfEpisodes = 4820\n",
      "\t\t EnvironmentSteps = 2086156\n",
      "\t\t AverageReturn = 175.6999969482422\n",
      "\t\t AverageEpisodeLength = 670.7999877929688\n"
     ]
    },
    {
     "name": "stdout",
     "output_type": "stream",
     "text": [
      "499000 loss:1.19276\n",
      "elapsed_time: 41.22s\n",
      "499998 loss:0.31128"
     ]
    },
    {
     "name": "stderr",
     "output_type": "stream",
     "text": [
      "INFO:absl: \n",
      "\t\t NumberOfEpisodes = 4826\n",
      "\t\t EnvironmentSteps = 2090156\n",
      "\t\t AverageReturn = 144.6999969482422\n",
      "\t\t AverageEpisodeLength = 663.7999877929688\n"
     ]
    },
    {
     "name": "stdout",
     "output_type": "stream",
     "text": [
      "500000 loss:0.06760\n",
      "elapsed_time: 41.26s\n",
      "500999 loss:0.16497"
     ]
    },
    {
     "name": "stderr",
     "output_type": "stream",
     "text": [
      "INFO:absl: \n",
      "\t\t NumberOfEpisodes = 4832\n",
      "\t\t EnvironmentSteps = 2094156\n",
      "\t\t AverageReturn = 143.89999389648438\n",
      "\t\t AverageEpisodeLength = 647.5\n"
     ]
    },
    {
     "name": "stdout",
     "output_type": "stream",
     "text": [
      "501000 loss:0.13374\n",
      "elapsed_time: 41.24s\n",
      "501999 loss:0.45856"
     ]
    },
    {
     "name": "stderr",
     "output_type": "stream",
     "text": [
      "INFO:absl: \n",
      "\t\t NumberOfEpisodes = 4838\n",
      "\t\t EnvironmentSteps = 2098156\n",
      "\t\t AverageReturn = 140.0\n",
      "\t\t AverageEpisodeLength = 629.7000122070312\n"
     ]
    },
    {
     "name": "stdout",
     "output_type": "stream",
     "text": [
      "502000 loss:0.14344\n",
      "elapsed_time: 41.22s\n",
      "502999 loss:0.19019"
     ]
    },
    {
     "name": "stderr",
     "output_type": "stream",
     "text": [
      "INFO:absl: \n",
      "\t\t NumberOfEpisodes = 4845\n",
      "\t\t EnvironmentSteps = 2102156\n",
      "\t\t AverageReturn = 85.5\n",
      "\t\t AverageEpisodeLength = 596.5\n"
     ]
    },
    {
     "name": "stdout",
     "output_type": "stream",
     "text": [
      "503000 loss:0.17757\n",
      "elapsed_time: 41.28s\n",
      "503999 loss:0.20144"
     ]
    },
    {
     "name": "stderr",
     "output_type": "stream",
     "text": [
      "INFO:absl: \n",
      "\t\t NumberOfEpisodes = 4851\n",
      "\t\t EnvironmentSteps = 2106156\n",
      "\t\t AverageReturn = 116.80000305175781\n",
      "\t\t AverageEpisodeLength = 642.2999877929688\n"
     ]
    },
    {
     "name": "stdout",
     "output_type": "stream",
     "text": [
      "504000 loss:0.21728\n",
      "elapsed_time: 41.23s\n",
      "504995 loss:0.13408"
     ]
    },
    {
     "name": "stderr",
     "output_type": "stream",
     "text": [
      "INFO:absl: \n",
      "\t\t NumberOfEpisodes = 4858\n",
      "\t\t EnvironmentSteps = 2110156\n",
      "\t\t AverageReturn = 117.4000015258789\n",
      "\t\t AverageEpisodeLength = 587.2999877929688\n"
     ]
    },
    {
     "name": "stdout",
     "output_type": "stream",
     "text": [
      "505000 loss:0.19205\n",
      "elapsed_time: 41.25s\n",
      "505995 loss:0.32027"
     ]
    },
    {
     "name": "stderr",
     "output_type": "stream",
     "text": [
      "INFO:absl: \n",
      "\t\t NumberOfEpisodes = 4864\n",
      "\t\t EnvironmentSteps = 2114156\n",
      "\t\t AverageReturn = 104.19999694824219\n",
      "\t\t AverageEpisodeLength = 592.4000244140625\n"
     ]
    },
    {
     "name": "stdout",
     "output_type": "stream",
     "text": [
      "506000 loss:0.13465\n",
      "elapsed_time: 41.31s\n",
      "506995 loss:0.42376"
     ]
    },
    {
     "name": "stderr",
     "output_type": "stream",
     "text": [
      "INFO:absl: \n",
      "\t\t NumberOfEpisodes = 4872\n",
      "\t\t EnvironmentSteps = 2118156\n",
      "\t\t AverageReturn = 108.80000305175781\n",
      "\t\t AverageEpisodeLength = 562.4000244140625\n"
     ]
    },
    {
     "name": "stdout",
     "output_type": "stream",
     "text": [
      "507000 loss:0.22001\n",
      "elapsed_time: 41.29s\n",
      "507996 loss:0.11567"
     ]
    },
    {
     "name": "stderr",
     "output_type": "stream",
     "text": [
      "INFO:absl: \n",
      "\t\t NumberOfEpisodes = 4878\n",
      "\t\t EnvironmentSteps = 2122156\n",
      "\t\t AverageReturn = 105.5\n",
      "\t\t AverageEpisodeLength = 533.0\n"
     ]
    },
    {
     "name": "stdout",
     "output_type": "stream",
     "text": [
      "508000 loss:0.27797\n",
      "elapsed_time: 41.22s\n",
      "508998 loss:1.12464"
     ]
    },
    {
     "name": "stderr",
     "output_type": "stream",
     "text": [
      "INFO:absl: \n",
      "\t\t NumberOfEpisodes = 4887\n",
      "\t\t EnvironmentSteps = 2126156\n",
      "\t\t AverageReturn = 54.599998474121094\n",
      "\t\t AverageEpisodeLength = 504.29998779296875\n"
     ]
    },
    {
     "name": "stdout",
     "output_type": "stream",
     "text": [
      "509000 loss:0.33510\n",
      "elapsed_time: 41.30s\n",
      "509998 loss:0.30765"
     ]
    },
    {
     "name": "stderr",
     "output_type": "stream",
     "text": [
      "INFO:absl: \n",
      "\t\t NumberOfEpisodes = 4895\n",
      "\t\t EnvironmentSteps = 2130156\n",
      "\t\t AverageReturn = 43.400001525878906\n",
      "\t\t AverageEpisodeLength = 517.2000122070312\n"
     ]
    },
    {
     "name": "stdout",
     "output_type": "stream",
     "text": [
      "510000 loss:0.42796\n",
      "elapsed_time: 41.45s\n",
      "510995 loss:0.24019"
     ]
    },
    {
     "name": "stderr",
     "output_type": "stream",
     "text": [
      "INFO:absl: \n",
      "\t\t NumberOfEpisodes = 4904\n",
      "\t\t EnvironmentSteps = 2134156\n",
      "\t\t AverageReturn = 49.29999923706055\n",
      "\t\t AverageEpisodeLength = 455.8999938964844\n"
     ]
    },
    {
     "name": "stdout",
     "output_type": "stream",
     "text": [
      "511000 loss:0.33785\n",
      "elapsed_time: 41.29s\n",
      "511997 loss:0.12356"
     ]
    },
    {
     "name": "stderr",
     "output_type": "stream",
     "text": [
      "INFO:absl: \n",
      "\t\t NumberOfEpisodes = 4913\n",
      "\t\t EnvironmentSteps = 2138156\n",
      "\t\t AverageReturn = 67.19999694824219\n",
      "\t\t AverageEpisodeLength = 455.6000061035156\n"
     ]
    },
    {
     "name": "stdout",
     "output_type": "stream",
     "text": [
      "512000 loss:0.32842\n",
      "elapsed_time: 41.31s\n",
      "512998 loss:0.63356"
     ]
    },
    {
     "name": "stderr",
     "output_type": "stream",
     "text": [
      "INFO:absl: \n",
      "\t\t NumberOfEpisodes = 4922\n",
      "\t\t EnvironmentSteps = 2142156\n",
      "\t\t AverageReturn = 46.400001525878906\n",
      "\t\t AverageEpisodeLength = 423.29998779296875\n"
     ]
    },
    {
     "name": "stdout",
     "output_type": "stream",
     "text": [
      "513000 loss:0.35649\n",
      "elapsed_time: 41.30s\n",
      "513999 loss:0.42271"
     ]
    },
    {
     "name": "stderr",
     "output_type": "stream",
     "text": [
      "INFO:absl: \n",
      "\t\t NumberOfEpisodes = 4928\n",
      "\t\t EnvironmentSteps = 2146156\n",
      "\t\t AverageReturn = 80.30000305175781\n",
      "\t\t AverageEpisodeLength = 529.5\n"
     ]
    },
    {
     "name": "stdout",
     "output_type": "stream",
     "text": [
      "514000 loss:0.29480\n",
      "elapsed_time: 41.28s\n",
      "514995 loss:0.43022"
     ]
    },
    {
     "name": "stderr",
     "output_type": "stream",
     "text": [
      "INFO:absl: \n",
      "\t\t NumberOfEpisodes = 4937\n",
      "\t\t EnvironmentSteps = 2150156\n",
      "\t\t AverageReturn = 84.30000305175781\n",
      "\t\t AverageEpisodeLength = 508.79998779296875\n"
     ]
    },
    {
     "name": "stdout",
     "output_type": "stream",
     "text": [
      "515000 loss:0.19136\n",
      "elapsed_time: 41.35s\n",
      "515997 loss:0.11595"
     ]
    },
    {
     "name": "stderr",
     "output_type": "stream",
     "text": [
      "INFO:absl: \n",
      "\t\t NumberOfEpisodes = 4944\n",
      "\t\t EnvironmentSteps = 2154156\n",
      "\t\t AverageReturn = 66.19999694824219\n",
      "\t\t AverageEpisodeLength = 485.0\n"
     ]
    },
    {
     "name": "stdout",
     "output_type": "stream",
     "text": [
      "516000 loss:0.51112\n",
      "elapsed_time: 41.32s\n",
      "516997 loss:0.32487"
     ]
    },
    {
     "name": "stderr",
     "output_type": "stream",
     "text": [
      "INFO:absl: \n",
      "\t\t NumberOfEpisodes = 4951\n",
      "\t\t EnvironmentSteps = 2158156\n",
      "\t\t AverageReturn = 92.0\n",
      "\t\t AverageEpisodeLength = 571.9000244140625\n"
     ]
    },
    {
     "name": "stdout",
     "output_type": "stream",
     "text": [
      "517000 loss:0.36768\n",
      "elapsed_time: 41.33s\n",
      "517997 loss:0.11506"
     ]
    },
    {
     "name": "stderr",
     "output_type": "stream",
     "text": [
      "INFO:absl: \n",
      "\t\t NumberOfEpisodes = 4958\n",
      "\t\t EnvironmentSteps = 2162156\n",
      "\t\t AverageReturn = 97.5\n",
      "\t\t AverageEpisodeLength = 565.5999755859375\n"
     ]
    },
    {
     "name": "stdout",
     "output_type": "stream",
     "text": [
      "518000 loss:0.27644\n",
      "elapsed_time: 41.33s\n",
      "518997 loss:0.28350"
     ]
    },
    {
     "name": "stderr",
     "output_type": "stream",
     "text": [
      "INFO:absl: \n",
      "\t\t NumberOfEpisodes = 4967\n",
      "\t\t EnvironmentSteps = 2166156\n",
      "\t\t AverageReturn = 42.099998474121094\n",
      "\t\t AverageEpisodeLength = 447.3999938964844\n"
     ]
    },
    {
     "name": "stdout",
     "output_type": "stream",
     "text": [
      "519000 loss:0.19667\n",
      "elapsed_time: 41.31s\n",
      "519999 loss:0.47184"
     ]
    },
    {
     "name": "stderr",
     "output_type": "stream",
     "text": [
      "INFO:absl: \n",
      "\t\t NumberOfEpisodes = 4975\n",
      "\t\t EnvironmentSteps = 2170156\n",
      "\t\t AverageReturn = 57.29999923706055\n",
      "\t\t AverageEpisodeLength = 462.70001220703125\n"
     ]
    },
    {
     "name": "stdout",
     "output_type": "stream",
     "text": [
      "520000 loss:0.51531\n",
      "elapsed_time: 41.25s\n",
      "520999 loss:0.22704"
     ]
    },
    {
     "name": "stderr",
     "output_type": "stream",
     "text": [
      "INFO:absl: \n",
      "\t\t NumberOfEpisodes = 4983\n",
      "\t\t EnvironmentSteps = 2174156\n",
      "\t\t AverageReturn = 54.79999923706055\n",
      "\t\t AverageEpisodeLength = 462.3999938964844\n"
     ]
    },
    {
     "name": "stdout",
     "output_type": "stream",
     "text": [
      "521000 loss:0.35825\n",
      "elapsed_time: 41.28s\n",
      "521999 loss:0.42413"
     ]
    },
    {
     "name": "stderr",
     "output_type": "stream",
     "text": [
      "INFO:absl: \n",
      "\t\t NumberOfEpisodes = 4993\n",
      "\t\t EnvironmentSteps = 2178156\n",
      "\t\t AverageReturn = 46.0\n",
      "\t\t AverageEpisodeLength = 439.29998779296875\n"
     ]
    },
    {
     "name": "stdout",
     "output_type": "stream",
     "text": [
      "522000 loss:0.32467\n",
      "elapsed_time: 41.28s\n",
      "522999 loss:0.38422"
     ]
    },
    {
     "name": "stderr",
     "output_type": "stream",
     "text": [
      "INFO:absl: \n",
      "\t\t NumberOfEpisodes = 5002\n",
      "\t\t EnvironmentSteps = 2182156\n",
      "\t\t AverageReturn = 34.599998474121094\n",
      "\t\t AverageEpisodeLength = 442.5\n"
     ]
    },
    {
     "name": "stdout",
     "output_type": "stream",
     "text": [
      "523000 loss:0.56046\n",
      "elapsed_time: 41.27s\n",
      "523995 loss:0.23097"
     ]
    },
    {
     "name": "stderr",
     "output_type": "stream",
     "text": [
      "INFO:absl: \n",
      "\t\t NumberOfEpisodes = 5011\n",
      "\t\t EnvironmentSteps = 2186156\n",
      "\t\t AverageReturn = 27.600000381469727\n",
      "\t\t AverageEpisodeLength = 436.8999938964844\n"
     ]
    },
    {
     "name": "stdout",
     "output_type": "stream",
     "text": [
      "524000 loss:0.32209\n",
      "elapsed_time: 41.31s\n",
      "524995 loss:0.23368"
     ]
    },
    {
     "name": "stderr",
     "output_type": "stream",
     "text": [
      "INFO:absl: \n",
      "\t\t NumberOfEpisodes = 5019\n",
      "\t\t EnvironmentSteps = 2190156\n",
      "\t\t AverageReturn = 58.20000076293945\n",
      "\t\t AverageEpisodeLength = 495.8999938964844\n"
     ]
    },
    {
     "name": "stdout",
     "output_type": "stream",
     "text": [
      "525000 loss:0.23481\n",
      "elapsed_time: 41.26s\n",
      "525995 loss:0.27687"
     ]
    },
    {
     "name": "stderr",
     "output_type": "stream",
     "text": [
      "INFO:absl: \n",
      "\t\t NumberOfEpisodes = 5027\n",
      "\t\t EnvironmentSteps = 2194156\n",
      "\t\t AverageReturn = 47.79999923706055\n",
      "\t\t AverageEpisodeLength = 469.29998779296875\n"
     ]
    },
    {
     "name": "stdout",
     "output_type": "stream",
     "text": [
      "526000 loss:0.24962\n",
      "elapsed_time: 41.29s\n",
      "526995 loss:0.32450"
     ]
    },
    {
     "name": "stderr",
     "output_type": "stream",
     "text": [
      "INFO:absl: \n",
      "\t\t NumberOfEpisodes = 5036\n",
      "\t\t EnvironmentSteps = 2198156\n",
      "\t\t AverageReturn = 58.900001525878906\n",
      "\t\t AverageEpisodeLength = 437.0\n"
     ]
    },
    {
     "name": "stdout",
     "output_type": "stream",
     "text": [
      "527000 loss:0.28152\n",
      "elapsed_time: 41.26s\n",
      "527995 loss:0.35957"
     ]
    },
    {
     "name": "stderr",
     "output_type": "stream",
     "text": [
      "INFO:absl: \n",
      "\t\t NumberOfEpisodes = 5047\n",
      "\t\t EnvironmentSteps = 2202156\n",
      "\t\t AverageReturn = 30.299999237060547\n",
      "\t\t AverageEpisodeLength = 357.3999938964844\n"
     ]
    },
    {
     "name": "stdout",
     "output_type": "stream",
     "text": [
      "528000 loss:0.40643\n",
      "elapsed_time: 41.27s\n",
      "528995 loss:0.18808"
     ]
    },
    {
     "name": "stderr",
     "output_type": "stream",
     "text": [
      "INFO:absl: \n",
      "\t\t NumberOfEpisodes = 5057\n",
      "\t\t EnvironmentSteps = 2206156\n",
      "\t\t AverageReturn = 28.899999618530273\n",
      "\t\t AverageEpisodeLength = 416.5\n"
     ]
    },
    {
     "name": "stdout",
     "output_type": "stream",
     "text": [
      "529000 loss:0.18498\n",
      "elapsed_time: 41.31s\n",
      "529997 loss:0.27944"
     ]
    },
    {
     "name": "stderr",
     "output_type": "stream",
     "text": [
      "INFO:absl: \n",
      "\t\t NumberOfEpisodes = 5064\n",
      "\t\t EnvironmentSteps = 2210156\n",
      "\t\t AverageReturn = 67.5\n",
      "\t\t AverageEpisodeLength = 488.8999938964844\n"
     ]
    },
    {
     "name": "stdout",
     "output_type": "stream",
     "text": [
      "530000 loss:0.18968\n",
      "elapsed_time: 41.25s\n",
      "530998 loss:0.18006"
     ]
    },
    {
     "name": "stderr",
     "output_type": "stream",
     "text": [
      "INFO:absl: \n",
      "\t\t NumberOfEpisodes = 5072\n",
      "\t\t EnvironmentSteps = 2214156\n",
      "\t\t AverageReturn = 71.19999694824219\n",
      "\t\t AverageEpisodeLength = 513.4000244140625\n"
     ]
    },
    {
     "name": "stdout",
     "output_type": "stream",
     "text": [
      "531000 loss:0.29749\n",
      "elapsed_time: 41.29s\n",
      "531998 loss:0.36039"
     ]
    },
    {
     "name": "stderr",
     "output_type": "stream",
     "text": [
      "INFO:absl: \n",
      "\t\t NumberOfEpisodes = 5079\n",
      "\t\t EnvironmentSteps = 2218156\n",
      "\t\t AverageReturn = 96.0\n",
      "\t\t AverageEpisodeLength = 552.5999755859375\n"
     ]
    },
    {
     "name": "stdout",
     "output_type": "stream",
     "text": [
      "532000 loss:0.41008\n",
      "elapsed_time: 41.28s\n",
      "532997 loss:0.11743"
     ]
    },
    {
     "name": "stderr",
     "output_type": "stream",
     "text": [
      "INFO:absl: \n",
      "\t\t NumberOfEpisodes = 5087\n",
      "\t\t EnvironmentSteps = 2222156\n",
      "\t\t AverageReturn = 67.5999984741211\n",
      "\t\t AverageEpisodeLength = 531.2999877929688\n"
     ]
    },
    {
     "name": "stdout",
     "output_type": "stream",
     "text": [
      "533000 loss:0.16442\n",
      "elapsed_time: 41.25s\n",
      "533997 loss:0.29401"
     ]
    },
    {
     "name": "stderr",
     "output_type": "stream",
     "text": [
      "INFO:absl: \n",
      "\t\t NumberOfEpisodes = 5093\n",
      "\t\t EnvironmentSteps = 2226156\n",
      "\t\t AverageReturn = 109.5\n",
      "\t\t AverageEpisodeLength = 601.5999755859375\n"
     ]
    },
    {
     "name": "stdout",
     "output_type": "stream",
     "text": [
      "534000 loss:0.38132\n",
      "elapsed_time: 41.22s\n",
      "534999 loss:0.30209"
     ]
    },
    {
     "name": "stderr",
     "output_type": "stream",
     "text": [
      "INFO:absl: \n",
      "\t\t NumberOfEpisodes = 5103\n",
      "\t\t EnvironmentSteps = 2230156\n",
      "\t\t AverageReturn = 51.900001525878906\n",
      "\t\t AverageEpisodeLength = 418.1000061035156\n"
     ]
    },
    {
     "name": "stdout",
     "output_type": "stream",
     "text": [
      "535000 loss:0.65771\n",
      "elapsed_time: 41.29s\n",
      "535999 loss:0.73016"
     ]
    },
    {
     "name": "stderr",
     "output_type": "stream",
     "text": [
      "INFO:absl: \n",
      "\t\t NumberOfEpisodes = 5110\n",
      "\t\t EnvironmentSteps = 2234156\n",
      "\t\t AverageReturn = 61.79999923706055\n",
      "\t\t AverageEpisodeLength = 484.8999938964844\n"
     ]
    },
    {
     "name": "stdout",
     "output_type": "stream",
     "text": [
      "536000 loss:0.58994\n",
      "elapsed_time: 41.26s\n",
      "536996 loss:0.40622"
     ]
    },
    {
     "name": "stderr",
     "output_type": "stream",
     "text": [
      "INFO:absl: \n",
      "\t\t NumberOfEpisodes = 5119\n",
      "\t\t EnvironmentSteps = 2238156\n",
      "\t\t AverageReturn = 65.9000015258789\n",
      "\t\t AverageEpisodeLength = 492.6000061035156\n"
     ]
    },
    {
     "name": "stdout",
     "output_type": "stream",
     "text": [
      "537000 loss:0.29504\n",
      "elapsed_time: 41.25s\n",
      "537996 loss:0.12345"
     ]
    },
    {
     "name": "stderr",
     "output_type": "stream",
     "text": [
      "INFO:absl: \n",
      "\t\t NumberOfEpisodes = 5126\n",
      "\t\t EnvironmentSteps = 2242156\n",
      "\t\t AverageReturn = 84.80000305175781\n",
      "\t\t AverageEpisodeLength = 531.9000244140625\n"
     ]
    },
    {
     "name": "stdout",
     "output_type": "stream",
     "text": [
      "538000 loss:0.22396\n",
      "elapsed_time: 41.27s\n",
      "538997 loss:0.22126"
     ]
    },
    {
     "name": "stderr",
     "output_type": "stream",
     "text": [
      "INFO:absl: \n",
      "\t\t NumberOfEpisodes = 5135\n",
      "\t\t EnvironmentSteps = 2246156\n",
      "\t\t AverageReturn = 63.0\n",
      "\t\t AverageEpisodeLength = 468.70001220703125\n"
     ]
    },
    {
     "name": "stdout",
     "output_type": "stream",
     "text": [
      "539000 loss:0.56632\n",
      "elapsed_time: 41.25s\n",
      "539997 loss:0.40488"
     ]
    },
    {
     "name": "stderr",
     "output_type": "stream",
     "text": [
      "INFO:absl: \n",
      "\t\t NumberOfEpisodes = 5143\n",
      "\t\t EnvironmentSteps = 2250156\n",
      "\t\t AverageReturn = 44.400001525878906\n",
      "\t\t AverageEpisodeLength = 478.79998779296875\n"
     ]
    },
    {
     "name": "stdout",
     "output_type": "stream",
     "text": [
      "540000 loss:0.54017\n",
      "elapsed_time: 41.21s\n",
      "540997 loss:0.29002"
     ]
    },
    {
     "name": "stderr",
     "output_type": "stream",
     "text": [
      "INFO:absl: \n",
      "\t\t NumberOfEpisodes = 5151\n",
      "\t\t EnvironmentSteps = 2254156\n",
      "\t\t AverageReturn = 59.29999923706055\n",
      "\t\t AverageEpisodeLength = 526.9000244140625\n"
     ]
    },
    {
     "name": "stdout",
     "output_type": "stream",
     "text": [
      "541000 loss:0.29683\n",
      "elapsed_time: 41.30s\n",
      "541997 loss:0.28941"
     ]
    },
    {
     "name": "stderr",
     "output_type": "stream",
     "text": [
      "INFO:absl: \n",
      "\t\t NumberOfEpisodes = 5158\n",
      "\t\t EnvironmentSteps = 2258156\n",
      "\t\t AverageReturn = 57.400001525878906\n",
      "\t\t AverageEpisodeLength = 504.1000061035156\n"
     ]
    },
    {
     "name": "stdout",
     "output_type": "stream",
     "text": [
      "542000 loss:0.31546\n",
      "elapsed_time: 41.23s\n",
      "542998 loss:0.36797"
     ]
    },
    {
     "name": "stderr",
     "output_type": "stream",
     "text": [
      "INFO:absl: \n",
      "\t\t NumberOfEpisodes = 5166\n",
      "\t\t EnvironmentSteps = 2262156\n",
      "\t\t AverageReturn = 82.0\n",
      "\t\t AverageEpisodeLength = 566.0\n"
     ]
    },
    {
     "name": "stdout",
     "output_type": "stream",
     "text": [
      "543000 loss:0.30005\n",
      "elapsed_time: 41.26s\n",
      "543995 loss:0.46558"
     ]
    },
    {
     "name": "stderr",
     "output_type": "stream",
     "text": [
      "INFO:absl: \n",
      "\t\t NumberOfEpisodes = 5173\n",
      "\t\t EnvironmentSteps = 2266156\n",
      "\t\t AverageReturn = 93.4000015258789\n",
      "\t\t AverageEpisodeLength = 564.7999877929688\n"
     ]
    },
    {
     "name": "stdout",
     "output_type": "stream",
     "text": [
      "544000 loss:0.28971\n",
      "elapsed_time: 41.28s\n",
      "544996 loss:0.51840"
     ]
    },
    {
     "name": "stderr",
     "output_type": "stream",
     "text": [
      "INFO:absl: \n",
      "\t\t NumberOfEpisodes = 5178\n",
      "\t\t EnvironmentSteps = 2270156\n",
      "\t\t AverageReturn = 135.1999969482422\n",
      "\t\t AverageEpisodeLength = 637.0999755859375\n"
     ]
    },
    {
     "name": "stdout",
     "output_type": "stream",
     "text": [
      "545000 loss:0.15826\n",
      "elapsed_time: 41.20s\n",
      "545996 loss:0.27505"
     ]
    },
    {
     "name": "stderr",
     "output_type": "stream",
     "text": [
      "INFO:absl: \n",
      "\t\t NumberOfEpisodes = 5186\n",
      "\t\t EnvironmentSteps = 2274156\n",
      "\t\t AverageReturn = 133.6999969482422\n",
      "\t\t AverageEpisodeLength = 638.7999877929688\n"
     ]
    },
    {
     "name": "stdout",
     "output_type": "stream",
     "text": [
      "546000 loss:0.17430\n",
      "elapsed_time: 41.23s\n",
      "546998 loss:0.24470"
     ]
    },
    {
     "name": "stderr",
     "output_type": "stream",
     "text": [
      "INFO:absl: \n",
      "\t\t NumberOfEpisodes = 5194\n",
      "\t\t EnvironmentSteps = 2278156\n",
      "\t\t AverageReturn = 63.29999923706055\n",
      "\t\t AverageEpisodeLength = 482.8999938964844\n"
     ]
    },
    {
     "name": "stdout",
     "output_type": "stream",
     "text": [
      "547000 loss:0.50137\n",
      "elapsed_time: 41.63s\n",
      "547996 loss:0.38198"
     ]
    },
    {
     "name": "stderr",
     "output_type": "stream",
     "text": [
      "INFO:absl: \n",
      "\t\t NumberOfEpisodes = 5202\n",
      "\t\t EnvironmentSteps = 2282156\n",
      "\t\t AverageReturn = 85.30000305175781\n",
      "\t\t AverageEpisodeLength = 524.2000122070312\n"
     ]
    },
    {
     "name": "stdout",
     "output_type": "stream",
     "text": [
      "548000 loss:0.34313\n",
      "elapsed_time: 41.26s\n",
      "548998 loss:0.45402"
     ]
    },
    {
     "name": "stderr",
     "output_type": "stream",
     "text": [
      "INFO:absl: \n",
      "\t\t NumberOfEpisodes = 5209\n",
      "\t\t EnvironmentSteps = 2286156\n",
      "\t\t AverageReturn = 105.9000015258789\n",
      "\t\t AverageEpisodeLength = 544.0\n"
     ]
    },
    {
     "name": "stdout",
     "output_type": "stream",
     "text": [
      "549000 loss:0.39219\n",
      "elapsed_time: 41.26s\n",
      "549999 loss:0.19720"
     ]
    },
    {
     "name": "stderr",
     "output_type": "stream",
     "text": [
      "INFO:absl: \n",
      "\t\t NumberOfEpisodes = 5218\n",
      "\t\t EnvironmentSteps = 2290156\n",
      "\t\t AverageReturn = 68.0999984741211\n",
      "\t\t AverageEpisodeLength = 455.29998779296875\n"
     ]
    },
    {
     "name": "stdout",
     "output_type": "stream",
     "text": [
      "550000 loss:0.38650\n",
      "elapsed_time: 41.28s\n",
      "550997 loss:0.39793"
     ]
    },
    {
     "name": "stderr",
     "output_type": "stream",
     "text": [
      "INFO:absl: \n",
      "\t\t NumberOfEpisodes = 5225\n",
      "\t\t EnvironmentSteps = 2294156\n",
      "\t\t AverageReturn = 80.30000305175781\n",
      "\t\t AverageEpisodeLength = 473.79998779296875\n"
     ]
    },
    {
     "name": "stdout",
     "output_type": "stream",
     "text": [
      "551000 loss:0.17563\n",
      "elapsed_time: 41.22s\n",
      "551998 loss:0.24020"
     ]
    },
    {
     "name": "stderr",
     "output_type": "stream",
     "text": [
      "INFO:absl: \n",
      "\t\t NumberOfEpisodes = 5233\n",
      "\t\t EnvironmentSteps = 2298156\n",
      "\t\t AverageReturn = 88.80000305175781\n",
      "\t\t AverageEpisodeLength = 528.0\n"
     ]
    },
    {
     "name": "stdout",
     "output_type": "stream",
     "text": [
      "552000 loss:0.35274\n",
      "elapsed_time: 41.24s\n",
      "552999 loss:0.34633"
     ]
    },
    {
     "name": "stderr",
     "output_type": "stream",
     "text": [
      "INFO:absl: \n",
      "\t\t NumberOfEpisodes = 5240\n",
      "\t\t EnvironmentSteps = 2302156\n",
      "\t\t AverageReturn = 94.5\n",
      "\t\t AverageEpisodeLength = 589.7000122070312\n"
     ]
    },
    {
     "name": "stdout",
     "output_type": "stream",
     "text": [
      "553000 loss:0.41172\n",
      "elapsed_time: 41.27s\n",
      "553996 loss:0.23918"
     ]
    },
    {
     "name": "stderr",
     "output_type": "stream",
     "text": [
      "INFO:absl: \n",
      "\t\t NumberOfEpisodes = 5248\n",
      "\t\t EnvironmentSteps = 2306156\n",
      "\t\t AverageReturn = 83.0\n",
      "\t\t AverageEpisodeLength = 539.5\n"
     ]
    },
    {
     "name": "stdout",
     "output_type": "stream",
     "text": [
      "554000 loss:0.37476\n",
      "elapsed_time: 41.24s\n",
      "554996 loss:0.31943"
     ]
    },
    {
     "name": "stderr",
     "output_type": "stream",
     "text": [
      "INFO:absl: \n",
      "\t\t NumberOfEpisodes = 5256\n",
      "\t\t EnvironmentSteps = 2310156\n",
      "\t\t AverageReturn = 68.69999694824219\n",
      "\t\t AverageEpisodeLength = 485.3999938964844\n"
     ]
    },
    {
     "name": "stdout",
     "output_type": "stream",
     "text": [
      "555000 loss:0.63476\n",
      "elapsed_time: 41.25s\n",
      "555998 loss:0.16608"
     ]
    },
    {
     "name": "stderr",
     "output_type": "stream",
     "text": [
      "INFO:absl: \n",
      "\t\t NumberOfEpisodes = 5264\n",
      "\t\t EnvironmentSteps = 2314156\n",
      "\t\t AverageReturn = 76.30000305175781\n",
      "\t\t AverageEpisodeLength = 516.4000244140625\n"
     ]
    },
    {
     "name": "stdout",
     "output_type": "stream",
     "text": [
      "556000 loss:0.69912\n",
      "elapsed_time: 41.33s\n",
      "556998 loss:0.16292"
     ]
    },
    {
     "name": "stderr",
     "output_type": "stream",
     "text": [
      "INFO:absl: \n",
      "\t\t NumberOfEpisodes = 5271\n",
      "\t\t EnvironmentSteps = 2318156\n",
      "\t\t AverageReturn = 79.30000305175781\n",
      "\t\t AverageEpisodeLength = 535.2000122070312\n"
     ]
    },
    {
     "name": "stdout",
     "output_type": "stream",
     "text": [
      "557000 loss:0.26965\n",
      "elapsed_time: 41.27s\n",
      "557995 loss:0.19453"
     ]
    },
    {
     "name": "stderr",
     "output_type": "stream",
     "text": [
      "INFO:absl: \n",
      "\t\t NumberOfEpisodes = 5279\n",
      "\t\t EnvironmentSteps = 2322156\n",
      "\t\t AverageReturn = 53.599998474121094\n",
      "\t\t AverageEpisodeLength = 510.1000061035156\n"
     ]
    },
    {
     "name": "stdout",
     "output_type": "stream",
     "text": [
      "558000 loss:0.71982\n",
      "elapsed_time: 41.28s\n",
      "558997 loss:0.34028"
     ]
    },
    {
     "name": "stderr",
     "output_type": "stream",
     "text": [
      "INFO:absl: \n",
      "\t\t NumberOfEpisodes = 5288\n",
      "\t\t EnvironmentSteps = 2326156\n",
      "\t\t AverageReturn = 56.900001525878906\n",
      "\t\t AverageEpisodeLength = 462.20001220703125\n"
     ]
    },
    {
     "name": "stdout",
     "output_type": "stream",
     "text": [
      "559000 loss:0.29454\n",
      "elapsed_time: 41.28s\n",
      "559997 loss:0.51588"
     ]
    },
    {
     "name": "stderr",
     "output_type": "stream",
     "text": [
      "INFO:absl: \n",
      "\t\t NumberOfEpisodes = 5297\n",
      "\t\t EnvironmentSteps = 2330156\n",
      "\t\t AverageReturn = 47.5\n",
      "\t\t AverageEpisodeLength = 413.29998779296875\n"
     ]
    },
    {
     "name": "stdout",
     "output_type": "stream",
     "text": [
      "560000 loss:1.03509\n",
      "elapsed_time: 41.29s\n",
      "560995 loss:0.64446"
     ]
    },
    {
     "name": "stderr",
     "output_type": "stream",
     "text": [
      "INFO:absl: \n",
      "\t\t NumberOfEpisodes = 5304\n",
      "\t\t EnvironmentSteps = 2334156\n",
      "\t\t AverageReturn = 87.5\n",
      "\t\t AverageEpisodeLength = 562.9000244140625\n"
     ]
    },
    {
     "name": "stdout",
     "output_type": "stream",
     "text": [
      "561000 loss:0.32403\n",
      "elapsed_time: 41.26s\n",
      "561996 loss:0.21598"
     ]
    },
    {
     "name": "stderr",
     "output_type": "stream",
     "text": [
      "INFO:absl: \n",
      "\t\t NumberOfEpisodes = 5312\n",
      "\t\t EnvironmentSteps = 2338156\n",
      "\t\t AverageReturn = 88.0\n",
      "\t\t AverageEpisodeLength = 545.4000244140625\n"
     ]
    },
    {
     "name": "stdout",
     "output_type": "stream",
     "text": [
      "562000 loss:0.42188\n",
      "elapsed_time: 41.29s\n",
      "562996 loss:0.64086"
     ]
    },
    {
     "name": "stderr",
     "output_type": "stream",
     "text": [
      "INFO:absl: \n",
      "\t\t NumberOfEpisodes = 5320\n",
      "\t\t EnvironmentSteps = 2342156\n",
      "\t\t AverageReturn = 48.599998474121094\n",
      "\t\t AverageEpisodeLength = 482.29998779296875\n"
     ]
    },
    {
     "name": "stdout",
     "output_type": "stream",
     "text": [
      "563000 loss:0.15942\n",
      "elapsed_time: 41.25s\n",
      "563997 loss:0.51810"
     ]
    },
    {
     "name": "stderr",
     "output_type": "stream",
     "text": [
      "INFO:absl: \n",
      "\t\t NumberOfEpisodes = 5327\n",
      "\t\t EnvironmentSteps = 2346156\n",
      "\t\t AverageReturn = 75.69999694824219\n",
      "\t\t AverageEpisodeLength = 505.5\n"
     ]
    },
    {
     "name": "stdout",
     "output_type": "stream",
     "text": [
      "564000 loss:0.39478\n",
      "elapsed_time: 41.26s\n",
      "564998 loss:0.23026"
     ]
    },
    {
     "name": "stderr",
     "output_type": "stream",
     "text": [
      "INFO:absl: \n",
      "\t\t NumberOfEpisodes = 5335\n",
      "\t\t EnvironmentSteps = 2350156\n",
      "\t\t AverageReturn = 32.900001525878906\n",
      "\t\t AverageEpisodeLength = 460.0\n"
     ]
    },
    {
     "name": "stdout",
     "output_type": "stream",
     "text": [
      "565000 loss:0.19474\n",
      "elapsed_time: 41.25s\n",
      "565998 loss:0.32087"
     ]
    },
    {
     "name": "stderr",
     "output_type": "stream",
     "text": [
      "INFO:absl: \n",
      "\t\t NumberOfEpisodes = 5341\n",
      "\t\t EnvironmentSteps = 2354156\n",
      "\t\t AverageReturn = 67.69999694824219\n",
      "\t\t AverageEpisodeLength = 566.5\n"
     ]
    },
    {
     "name": "stdout",
     "output_type": "stream",
     "text": [
      "566000 loss:0.32131\n",
      "elapsed_time: 41.22s\n",
      "566995 loss:0.31341"
     ]
    },
    {
     "name": "stderr",
     "output_type": "stream",
     "text": [
      "INFO:absl: \n",
      "\t\t NumberOfEpisodes = 5349\n",
      "\t\t EnvironmentSteps = 2358156\n",
      "\t\t AverageReturn = 94.5\n",
      "\t\t AverageEpisodeLength = 558.7999877929688\n"
     ]
    },
    {
     "name": "stdout",
     "output_type": "stream",
     "text": [
      "567000 loss:0.59945\n",
      "elapsed_time: 41.27s\n",
      "567996 loss:0.20603"
     ]
    },
    {
     "name": "stderr",
     "output_type": "stream",
     "text": [
      "INFO:absl: \n",
      "\t\t NumberOfEpisodes = 5355\n",
      "\t\t EnvironmentSteps = 2362156\n",
      "\t\t AverageReturn = 104.4000015258789\n",
      "\t\t AverageEpisodeLength = 560.2000122070312\n"
     ]
    },
    {
     "name": "stdout",
     "output_type": "stream",
     "text": [
      "568000 loss:0.37724\n",
      "elapsed_time: 41.20s\n",
      "568997 loss:0.36368"
     ]
    },
    {
     "name": "stderr",
     "output_type": "stream",
     "text": [
      "INFO:absl: \n",
      "\t\t NumberOfEpisodes = 5364\n",
      "\t\t EnvironmentSteps = 2366156\n",
      "\t\t AverageReturn = 89.0\n",
      "\t\t AverageEpisodeLength = 551.2999877929688\n"
     ]
    },
    {
     "name": "stdout",
     "output_type": "stream",
     "text": [
      "569000 loss:0.20529\n",
      "elapsed_time: 41.28s\n",
      "569995 loss:0.35941"
     ]
    },
    {
     "name": "stderr",
     "output_type": "stream",
     "text": [
      "INFO:absl: \n",
      "\t\t NumberOfEpisodes = 5371\n",
      "\t\t EnvironmentSteps = 2370156\n",
      "\t\t AverageReturn = 91.0999984741211\n",
      "\t\t AverageEpisodeLength = 545.5\n"
     ]
    },
    {
     "name": "stdout",
     "output_type": "stream",
     "text": [
      "570000 loss:0.10869\n",
      "elapsed_time: 41.26s\n",
      "570996 loss:0.68509"
     ]
    },
    {
     "name": "stderr",
     "output_type": "stream",
     "text": [
      "INFO:absl: \n",
      "\t\t NumberOfEpisodes = 5377\n",
      "\t\t EnvironmentSteps = 2374156\n",
      "\t\t AverageReturn = 133.3000030517578\n",
      "\t\t AverageEpisodeLength = 646.9000244140625\n"
     ]
    },
    {
     "name": "stdout",
     "output_type": "stream",
     "text": [
      "571000 loss:0.46689\n",
      "elapsed_time: 41.22s\n",
      "571996 loss:0.30544"
     ]
    },
    {
     "name": "stderr",
     "output_type": "stream",
     "text": [
      "INFO:absl: \n",
      "\t\t NumberOfEpisodes = 5385\n",
      "\t\t EnvironmentSteps = 2378156\n",
      "\t\t AverageReturn = 54.099998474121094\n",
      "\t\t AverageEpisodeLength = 474.79998779296875\n"
     ]
    },
    {
     "name": "stdout",
     "output_type": "stream",
     "text": [
      "572000 loss:0.27638\n",
      "elapsed_time: 41.22s\n",
      "572999 loss:0.40375"
     ]
    },
    {
     "name": "stderr",
     "output_type": "stream",
     "text": [
      "INFO:absl: \n",
      "\t\t NumberOfEpisodes = 5394\n",
      "\t\t EnvironmentSteps = 2382156\n",
      "\t\t AverageReturn = 82.80000305175781\n",
      "\t\t AverageEpisodeLength = 522.7000122070312\n"
     ]
    },
    {
     "name": "stdout",
     "output_type": "stream",
     "text": [
      "573000 loss:0.38422\n",
      "elapsed_time: 41.27s\n",
      "573995 loss:0.18744"
     ]
    },
    {
     "name": "stderr",
     "output_type": "stream",
     "text": [
      "INFO:absl: \n",
      "\t\t NumberOfEpisodes = 5402\n",
      "\t\t EnvironmentSteps = 2386156\n",
      "\t\t AverageReturn = 64.5\n",
      "\t\t AverageEpisodeLength = 470.8999938964844\n"
     ]
    },
    {
     "name": "stdout",
     "output_type": "stream",
     "text": [
      "574000 loss:0.94469\n",
      "elapsed_time: 41.24s\n",
      "574996 loss:0.66189"
     ]
    },
    {
     "name": "stderr",
     "output_type": "stream",
     "text": [
      "INFO:absl: \n",
      "\t\t NumberOfEpisodes = 5412\n",
      "\t\t EnvironmentSteps = 2390156\n",
      "\t\t AverageReturn = 44.400001525878906\n",
      "\t\t AverageEpisodeLength = 420.1000061035156\n"
     ]
    },
    {
     "name": "stdout",
     "output_type": "stream",
     "text": [
      "575000 loss:0.22314\n",
      "elapsed_time: 41.26s\n",
      "575996 loss:0.21824"
     ]
    },
    {
     "name": "stderr",
     "output_type": "stream",
     "text": [
      "INFO:absl: \n",
      "\t\t NumberOfEpisodes = 5423\n",
      "\t\t EnvironmentSteps = 2394156\n",
      "\t\t AverageReturn = 9.199999809265137\n",
      "\t\t AverageEpisodeLength = 303.79998779296875\n"
     ]
    },
    {
     "name": "stdout",
     "output_type": "stream",
     "text": [
      "576000 loss:0.55864\n",
      "elapsed_time: 41.49s\n",
      "576996 loss:0.31567"
     ]
    },
    {
     "name": "stderr",
     "output_type": "stream",
     "text": [
      "INFO:absl: \n",
      "\t\t NumberOfEpisodes = 5434\n",
      "\t\t EnvironmentSteps = 2398156\n",
      "\t\t AverageReturn = 21.600000381469727\n",
      "\t\t AverageEpisodeLength = 332.6000061035156\n"
     ]
    },
    {
     "name": "stdout",
     "output_type": "stream",
     "text": [
      "577000 loss:0.33856\n",
      "elapsed_time: 41.24s\n",
      "577997 loss:0.26545"
     ]
    },
    {
     "name": "stderr",
     "output_type": "stream",
     "text": [
      "INFO:absl: \n",
      "\t\t NumberOfEpisodes = 5444\n",
      "\t\t EnvironmentSteps = 2402156\n",
      "\t\t AverageReturn = 37.400001525878906\n",
      "\t\t AverageEpisodeLength = 390.20001220703125\n"
     ]
    },
    {
     "name": "stdout",
     "output_type": "stream",
     "text": [
      "578000 loss:0.21351\n",
      "elapsed_time: 41.25s\n",
      "578997 loss:0.19754"
     ]
    },
    {
     "name": "stderr",
     "output_type": "stream",
     "text": [
      "INFO:absl: \n",
      "\t\t NumberOfEpisodes = 5455\n",
      "\t\t EnvironmentSteps = 2406156\n",
      "\t\t AverageReturn = 35.79999923706055\n",
      "\t\t AverageEpisodeLength = 349.1000061035156\n"
     ]
    },
    {
     "name": "stdout",
     "output_type": "stream",
     "text": [
      "579000 loss:0.57740\n",
      "elapsed_time: 41.29s\n",
      "579999 loss:0.33086"
     ]
    },
    {
     "name": "stderr",
     "output_type": "stream",
     "text": [
      "INFO:absl: \n",
      "\t\t NumberOfEpisodes = 5464\n",
      "\t\t EnvironmentSteps = 2410156\n",
      "\t\t AverageReturn = 41.599998474121094\n",
      "\t\t AverageEpisodeLength = 399.0\n"
     ]
    },
    {
     "name": "stdout",
     "output_type": "stream",
     "text": [
      "580000 loss:0.49862\n",
      "elapsed_time: 41.26s\n",
      "580995 loss:0.35251"
     ]
    },
    {
     "name": "stderr",
     "output_type": "stream",
     "text": [
      "INFO:absl: \n",
      "\t\t NumberOfEpisodes = 5473\n",
      "\t\t EnvironmentSteps = 2414156\n",
      "\t\t AverageReturn = 41.0\n",
      "\t\t AverageEpisodeLength = 443.70001220703125\n"
     ]
    },
    {
     "name": "stdout",
     "output_type": "stream",
     "text": [
      "581000 loss:0.11573\n",
      "elapsed_time: 41.24s\n",
      "581996 loss:0.52450"
     ]
    },
    {
     "name": "stderr",
     "output_type": "stream",
     "text": [
      "INFO:absl: \n",
      "\t\t NumberOfEpisodes = 5482\n",
      "\t\t EnvironmentSteps = 2418156\n",
      "\t\t AverageReturn = 52.599998474121094\n",
      "\t\t AverageEpisodeLength = 426.5\n"
     ]
    },
    {
     "name": "stdout",
     "output_type": "stream",
     "text": [
      "582000 loss:0.37267\n",
      "elapsed_time: 41.28s\n",
      "582997 loss:0.29303"
     ]
    },
    {
     "name": "stderr",
     "output_type": "stream",
     "text": [
      "INFO:absl: \n",
      "\t\t NumberOfEpisodes = 5490\n",
      "\t\t EnvironmentSteps = 2422156\n",
      "\t\t AverageReturn = 55.099998474121094\n",
      "\t\t AverageEpisodeLength = 450.79998779296875\n"
     ]
    },
    {
     "name": "stdout",
     "output_type": "stream",
     "text": [
      "583000 loss:0.27182\n",
      "elapsed_time: 41.28s\n",
      "583998 loss:0.26376"
     ]
    },
    {
     "name": "stderr",
     "output_type": "stream",
     "text": [
      "INFO:absl: \n",
      "\t\t NumberOfEpisodes = 5500\n",
      "\t\t EnvironmentSteps = 2426156\n",
      "\t\t AverageReturn = 43.599998474121094\n",
      "\t\t AverageEpisodeLength = 433.79998779296875\n"
     ]
    },
    {
     "name": "stdout",
     "output_type": "stream",
     "text": [
      "584000 loss:0.10103\n",
      "elapsed_time: 41.30s\n",
      "584995 loss:0.25158"
     ]
    },
    {
     "name": "stderr",
     "output_type": "stream",
     "text": [
      "INFO:absl: \n",
      "\t\t NumberOfEpisodes = 5509\n",
      "\t\t EnvironmentSteps = 2430156\n",
      "\t\t AverageReturn = 33.599998474121094\n",
      "\t\t AverageEpisodeLength = 431.0\n"
     ]
    },
    {
     "name": "stdout",
     "output_type": "stream",
     "text": [
      "585000 loss:0.47368\n",
      "elapsed_time: 41.28s\n",
      "585997 loss:0.70562"
     ]
    },
    {
     "name": "stderr",
     "output_type": "stream",
     "text": [
      "INFO:absl: \n",
      "\t\t NumberOfEpisodes = 5517\n",
      "\t\t EnvironmentSteps = 2434156\n",
      "\t\t AverageReturn = 39.0\n",
      "\t\t AverageEpisodeLength = 444.6000061035156\n"
     ]
    },
    {
     "name": "stdout",
     "output_type": "stream",
     "text": [
      "586000 loss:0.24854\n",
      "elapsed_time: 41.24s\n",
      "586998 loss:0.33686"
     ]
    },
    {
     "name": "stderr",
     "output_type": "stream",
     "text": [
      "INFO:absl: \n",
      "\t\t NumberOfEpisodes = 5525\n",
      "\t\t EnvironmentSteps = 2438156\n",
      "\t\t AverageReturn = 98.69999694824219\n",
      "\t\t AverageEpisodeLength = 494.8999938964844\n"
     ]
    },
    {
     "name": "stdout",
     "output_type": "stream",
     "text": [
      "587000 loss:0.26830\n",
      "elapsed_time: 41.22s\n",
      "587999 loss:0.34033"
     ]
    },
    {
     "name": "stderr",
     "output_type": "stream",
     "text": [
      "INFO:absl: \n",
      "\t\t NumberOfEpisodes = 5533\n",
      "\t\t EnvironmentSteps = 2442156\n",
      "\t\t AverageReturn = 52.0\n",
      "\t\t AverageEpisodeLength = 444.70001220703125\n"
     ]
    },
    {
     "name": "stdout",
     "output_type": "stream",
     "text": [
      "588000 loss:0.41087\n",
      "elapsed_time: 41.27s\n",
      "588995 loss:0.52435"
     ]
    },
    {
     "name": "stderr",
     "output_type": "stream",
     "text": [
      "INFO:absl: \n",
      "\t\t NumberOfEpisodes = 5540\n",
      "\t\t EnvironmentSteps = 2446156\n",
      "\t\t AverageReturn = 105.0\n",
      "\t\t AverageEpisodeLength = 572.0\n"
     ]
    },
    {
     "name": "stdout",
     "output_type": "stream",
     "text": [
      "589000 loss:0.12671\n",
      "elapsed_time: 41.25s\n",
      "589996 loss:0.05729"
     ]
    },
    {
     "name": "stderr",
     "output_type": "stream",
     "text": [
      "INFO:absl: \n",
      "\t\t NumberOfEpisodes = 5546\n",
      "\t\t EnvironmentSteps = 2450156\n",
      "\t\t AverageReturn = 122.80000305175781\n",
      "\t\t AverageEpisodeLength = 607.2999877929688\n"
     ]
    },
    {
     "name": "stdout",
     "output_type": "stream",
     "text": [
      "590000 loss:0.49704\n",
      "elapsed_time: 41.30s\n",
      "590997 loss:0.20400"
     ]
    },
    {
     "name": "stderr",
     "output_type": "stream",
     "text": [
      "INFO:absl: \n",
      "\t\t NumberOfEpisodes = 5554\n",
      "\t\t EnvironmentSteps = 2454156\n",
      "\t\t AverageReturn = 70.19999694824219\n",
      "\t\t AverageEpisodeLength = 547.5\n"
     ]
    },
    {
     "name": "stdout",
     "output_type": "stream",
     "text": [
      "591000 loss:0.38272\n",
      "elapsed_time: 41.25s\n",
      "591998 loss:0.15452"
     ]
    },
    {
     "name": "stderr",
     "output_type": "stream",
     "text": [
      "INFO:absl: \n",
      "\t\t NumberOfEpisodes = 5559\n",
      "\t\t EnvironmentSteps = 2458156\n",
      "\t\t AverageReturn = 131.5\n",
      "\t\t AverageEpisodeLength = 664.2000122070312\n"
     ]
    },
    {
     "name": "stdout",
     "output_type": "stream",
     "text": [
      "592000 loss:0.17762\n",
      "elapsed_time: 41.23s\n",
      "592995 loss:0.27419"
     ]
    },
    {
     "name": "stderr",
     "output_type": "stream",
     "text": [
      "INFO:absl: \n",
      "\t\t NumberOfEpisodes = 5567\n",
      "\t\t EnvironmentSteps = 2462156\n",
      "\t\t AverageReturn = 103.80000305175781\n",
      "\t\t AverageEpisodeLength = 598.7000122070312\n"
     ]
    },
    {
     "name": "stdout",
     "output_type": "stream",
     "text": [
      "593000 loss:0.35861\n",
      "elapsed_time: 41.31s\n",
      "593996 loss:0.17808"
     ]
    },
    {
     "name": "stderr",
     "output_type": "stream",
     "text": [
      "INFO:absl: \n",
      "\t\t NumberOfEpisodes = 5575\n",
      "\t\t EnvironmentSteps = 2466156\n",
      "\t\t AverageReturn = 45.70000076293945\n",
      "\t\t AverageEpisodeLength = 510.3999938964844\n"
     ]
    },
    {
     "name": "stdout",
     "output_type": "stream",
     "text": [
      "594000 loss:0.41705\n",
      "elapsed_time: 41.24s\n",
      "594998 loss:0.22428"
     ]
    },
    {
     "name": "stderr",
     "output_type": "stream",
     "text": [
      "INFO:absl: \n",
      "\t\t NumberOfEpisodes = 5582\n",
      "\t\t EnvironmentSteps = 2470156\n",
      "\t\t AverageReturn = 63.70000076293945\n",
      "\t\t AverageEpisodeLength = 518.9000244140625\n"
     ]
    },
    {
     "name": "stdout",
     "output_type": "stream",
     "text": [
      "595000 loss:0.72174\n",
      "elapsed_time: 41.23s\n",
      "595997 loss:0.31667"
     ]
    },
    {
     "name": "stderr",
     "output_type": "stream",
     "text": [
      "INFO:absl: \n",
      "\t\t NumberOfEpisodes = 5588\n",
      "\t\t EnvironmentSteps = 2474156\n",
      "\t\t AverageReturn = 104.5999984741211\n",
      "\t\t AverageEpisodeLength = 604.0\n"
     ]
    },
    {
     "name": "stdout",
     "output_type": "stream",
     "text": [
      "596000 loss:0.26040\n",
      "elapsed_time: 41.24s\n",
      "596998 loss:0.23315"
     ]
    },
    {
     "name": "stderr",
     "output_type": "stream",
     "text": [
      "INFO:absl: \n",
      "\t\t NumberOfEpisodes = 5595\n",
      "\t\t EnvironmentSteps = 2478156\n",
      "\t\t AverageReturn = 118.19999694824219\n",
      "\t\t AverageEpisodeLength = 650.7999877929688\n"
     ]
    },
    {
     "name": "stdout",
     "output_type": "stream",
     "text": [
      "597000 loss:0.30263\n",
      "elapsed_time: 41.23s\n",
      "597996 loss:0.36077"
     ]
    },
    {
     "name": "stderr",
     "output_type": "stream",
     "text": [
      "INFO:absl: \n",
      "\t\t NumberOfEpisodes = 5603\n",
      "\t\t EnvironmentSteps = 2482156\n",
      "\t\t AverageReturn = 73.5999984741211\n",
      "\t\t AverageEpisodeLength = 551.0999755859375\n"
     ]
    },
    {
     "name": "stdout",
     "output_type": "stream",
     "text": [
      "598000 loss:0.23054\n",
      "elapsed_time: 41.24s\n",
      "598998 loss:0.60631"
     ]
    },
    {
     "name": "stderr",
     "output_type": "stream",
     "text": [
      "INFO:absl: \n",
      "\t\t NumberOfEpisodes = 5609\n",
      "\t\t EnvironmentSteps = 2486156\n",
      "\t\t AverageReturn = 104.0\n",
      "\t\t AverageEpisodeLength = 583.5\n"
     ]
    },
    {
     "name": "stdout",
     "output_type": "stream",
     "text": [
      "599000 loss:0.21128\n",
      "elapsed_time: 41.30s\n",
      "599999 loss:0.54986"
     ]
    },
    {
     "name": "stderr",
     "output_type": "stream",
     "text": [
      "INFO:absl: \n",
      "\t\t NumberOfEpisodes = 5616\n",
      "\t\t EnvironmentSteps = 2490156\n",
      "\t\t AverageReturn = 100.5999984741211\n",
      "\t\t AverageEpisodeLength = 592.0\n"
     ]
    },
    {
     "name": "stdout",
     "output_type": "stream",
     "text": [
      "600000 loss:0.27870\n",
      "elapsed_time: 41.28s\n",
      "600999 loss:0.43536"
     ]
    },
    {
     "name": "stderr",
     "output_type": "stream",
     "text": [
      "INFO:absl: \n",
      "\t\t NumberOfEpisodes = 5623\n",
      "\t\t EnvironmentSteps = 2494156\n",
      "\t\t AverageReturn = 95.5999984741211\n",
      "\t\t AverageEpisodeLength = 582.0999755859375\n"
     ]
    },
    {
     "name": "stdout",
     "output_type": "stream",
     "text": [
      "601000 loss:0.19878\n",
      "elapsed_time: 41.29s\n",
      "601999 loss:0.23735"
     ]
    },
    {
     "name": "stderr",
     "output_type": "stream",
     "text": [
      "INFO:absl: \n",
      "\t\t NumberOfEpisodes = 5629\n",
      "\t\t EnvironmentSteps = 2498156\n",
      "\t\t AverageReturn = 117.30000305175781\n",
      "\t\t AverageEpisodeLength = 618.0\n"
     ]
    },
    {
     "name": "stdout",
     "output_type": "stream",
     "text": [
      "602000 loss:0.26444\n",
      "elapsed_time: 41.32s\n",
      "602999 loss:0.49718"
     ]
    },
    {
     "name": "stderr",
     "output_type": "stream",
     "text": [
      "INFO:absl: \n",
      "\t\t NumberOfEpisodes = 5636\n",
      "\t\t EnvironmentSteps = 2502156\n",
      "\t\t AverageReturn = 121.4000015258789\n",
      "\t\t AverageEpisodeLength = 617.5\n"
     ]
    },
    {
     "name": "stdout",
     "output_type": "stream",
     "text": [
      "603000 loss:0.28938\n",
      "elapsed_time: 41.30s\n",
      "603996 loss:0.18330"
     ]
    },
    {
     "name": "stderr",
     "output_type": "stream",
     "text": [
      "INFO:absl: \n",
      "\t\t NumberOfEpisodes = 5642\n",
      "\t\t EnvironmentSteps = 2506156\n",
      "\t\t AverageReturn = 129.89999389648438\n",
      "\t\t AverageEpisodeLength = 617.2999877929688\n"
     ]
    },
    {
     "name": "stdout",
     "output_type": "stream",
     "text": [
      "604000 loss:0.14480\n",
      "elapsed_time: 41.45s\n",
      "604999 loss:0.29255"
     ]
    },
    {
     "name": "stderr",
     "output_type": "stream",
     "text": [
      "INFO:absl: \n",
      "\t\t NumberOfEpisodes = 5648\n",
      "\t\t EnvironmentSteps = 2510156\n",
      "\t\t AverageReturn = 141.10000610351562\n",
      "\t\t AverageEpisodeLength = 654.2000122070312\n"
     ]
    },
    {
     "name": "stdout",
     "output_type": "stream",
     "text": [
      "605000 loss:0.31150\n",
      "elapsed_time: 41.28s\n",
      "605995 loss:0.18133"
     ]
    },
    {
     "name": "stderr",
     "output_type": "stream",
     "text": [
      "INFO:absl: \n",
      "\t\t NumberOfEpisodes = 5656\n",
      "\t\t EnvironmentSteps = 2514156\n",
      "\t\t AverageReturn = 110.5999984741211\n",
      "\t\t AverageEpisodeLength = 574.9000244140625\n"
     ]
    },
    {
     "name": "stdout",
     "output_type": "stream",
     "text": [
      "606000 loss:0.33088\n",
      "elapsed_time: 41.29s\n",
      "606998 loss:0.32239"
     ]
    },
    {
     "name": "stderr",
     "output_type": "stream",
     "text": [
      "INFO:absl: \n",
      "\t\t NumberOfEpisodes = 5663\n",
      "\t\t EnvironmentSteps = 2518156\n",
      "\t\t AverageReturn = 92.30000305175781\n",
      "\t\t AverageEpisodeLength = 531.5\n"
     ]
    },
    {
     "name": "stdout",
     "output_type": "stream",
     "text": [
      "607000 loss:0.32925\n",
      "elapsed_time: 41.23s\n",
      "607997 loss:0.28094"
     ]
    },
    {
     "name": "stderr",
     "output_type": "stream",
     "text": [
      "INFO:absl: \n",
      "\t\t NumberOfEpisodes = 5670\n",
      "\t\t EnvironmentSteps = 2522156\n",
      "\t\t AverageReturn = 88.5999984741211\n",
      "\t\t AverageEpisodeLength = 545.5\n"
     ]
    },
    {
     "name": "stdout",
     "output_type": "stream",
     "text": [
      "608000 loss:0.27876\n",
      "elapsed_time: 41.36s\n",
      "608998 loss:0.54122"
     ]
    },
    {
     "name": "stderr",
     "output_type": "stream",
     "text": [
      "INFO:absl: \n",
      "\t\t NumberOfEpisodes = 5677\n",
      "\t\t EnvironmentSteps = 2526156\n",
      "\t\t AverageReturn = 83.69999694824219\n",
      "\t\t AverageEpisodeLength = 529.5999755859375\n"
     ]
    },
    {
     "name": "stdout",
     "output_type": "stream",
     "text": [
      "609000 loss:0.20808\n",
      "elapsed_time: 41.27s\n",
      "609999 loss:0.45613"
     ]
    },
    {
     "name": "stderr",
     "output_type": "stream",
     "text": [
      "INFO:absl: \n",
      "\t\t NumberOfEpisodes = 5685\n",
      "\t\t EnvironmentSteps = 2530156\n",
      "\t\t AverageReturn = 108.19999694824219\n",
      "\t\t AverageEpisodeLength = 569.4000244140625\n"
     ]
    },
    {
     "name": "stdout",
     "output_type": "stream",
     "text": [
      "610000 loss:0.33607\n",
      "elapsed_time: 41.23s\n",
      "610997 loss:0.16551"
     ]
    },
    {
     "name": "stderr",
     "output_type": "stream",
     "text": [
      "INFO:absl: \n",
      "\t\t NumberOfEpisodes = 5694\n",
      "\t\t EnvironmentSteps = 2534156\n",
      "\t\t AverageReturn = 24.5\n",
      "\t\t AverageEpisodeLength = 405.1000061035156\n"
     ]
    },
    {
     "name": "stdout",
     "output_type": "stream",
     "text": [
      "611000 loss:0.38443\n",
      "elapsed_time: 41.26s\n",
      "611998 loss:0.18789"
     ]
    },
    {
     "name": "stderr",
     "output_type": "stream",
     "text": [
      "INFO:absl: \n",
      "\t\t NumberOfEpisodes = 5702\n",
      "\t\t EnvironmentSteps = 2538156\n",
      "\t\t AverageReturn = 63.099998474121094\n",
      "\t\t AverageEpisodeLength = 517.9000244140625\n"
     ]
    },
    {
     "name": "stdout",
     "output_type": "stream",
     "text": [
      "612000 loss:0.23155\n",
      "elapsed_time: 41.24s\n",
      "612998 loss:0.21540"
     ]
    },
    {
     "name": "stderr",
     "output_type": "stream",
     "text": [
      "INFO:absl: \n",
      "\t\t NumberOfEpisodes = 5709\n",
      "\t\t EnvironmentSteps = 2542156\n",
      "\t\t AverageReturn = 61.900001525878906\n",
      "\t\t AverageEpisodeLength = 539.7000122070312\n"
     ]
    },
    {
     "name": "stdout",
     "output_type": "stream",
     "text": [
      "613000 loss:0.34367\n",
      "elapsed_time: 41.22s\n",
      "613998 loss:0.13889"
     ]
    },
    {
     "name": "stderr",
     "output_type": "stream",
     "text": [
      "INFO:absl: \n",
      "\t\t NumberOfEpisodes = 5717\n",
      "\t\t EnvironmentSteps = 2546156\n",
      "\t\t AverageReturn = 71.69999694824219\n",
      "\t\t AverageEpisodeLength = 512.5\n"
     ]
    },
    {
     "name": "stdout",
     "output_type": "stream",
     "text": [
      "614000 loss:0.48961\n",
      "elapsed_time: 41.29s\n",
      "614999 loss:0.18343"
     ]
    },
    {
     "name": "stderr",
     "output_type": "stream",
     "text": [
      "INFO:absl: \n",
      "\t\t NumberOfEpisodes = 5723\n",
      "\t\t EnvironmentSteps = 2550156\n",
      "\t\t AverageReturn = 110.4000015258789\n",
      "\t\t AverageEpisodeLength = 572.4000244140625\n"
     ]
    },
    {
     "name": "stdout",
     "output_type": "stream",
     "text": [
      "615000 loss:0.17168\n",
      "elapsed_time: 41.20s\n",
      "615999 loss:0.20069"
     ]
    },
    {
     "name": "stderr",
     "output_type": "stream",
     "text": [
      "INFO:absl: \n",
      "\t\t NumberOfEpisodes = 5729\n",
      "\t\t EnvironmentSteps = 2554156\n",
      "\t\t AverageReturn = 126.4000015258789\n",
      "\t\t AverageEpisodeLength = 603.5999755859375\n"
     ]
    },
    {
     "name": "stdout",
     "output_type": "stream",
     "text": [
      "616000 loss:0.24017\n",
      "elapsed_time: 41.19s\n",
      "616999 loss:0.26233"
     ]
    },
    {
     "name": "stderr",
     "output_type": "stream",
     "text": [
      "INFO:absl: \n",
      "\t\t NumberOfEpisodes = 5736\n",
      "\t\t EnvironmentSteps = 2558156\n",
      "\t\t AverageReturn = 102.30000305175781\n",
      "\t\t AverageEpisodeLength = 585.4000244140625\n"
     ]
    },
    {
     "name": "stdout",
     "output_type": "stream",
     "text": [
      "617000 loss:0.27416\n",
      "elapsed_time: 41.31s\n",
      "617999 loss:0.41699"
     ]
    },
    {
     "name": "stderr",
     "output_type": "stream",
     "text": [
      "INFO:absl: \n",
      "\t\t NumberOfEpisodes = 5745\n",
      "\t\t EnvironmentSteps = 2562156\n",
      "\t\t AverageReturn = 55.79999923706055\n",
      "\t\t AverageEpisodeLength = 486.3999938964844\n"
     ]
    },
    {
     "name": "stdout",
     "output_type": "stream",
     "text": [
      "618000 loss:0.20565\n",
      "elapsed_time: 41.85s\n",
      "618999 loss:0.11316"
     ]
    },
    {
     "name": "stderr",
     "output_type": "stream",
     "text": [
      "INFO:absl: \n",
      "\t\t NumberOfEpisodes = 5753\n",
      "\t\t EnvironmentSteps = 2566156\n",
      "\t\t AverageReturn = 45.70000076293945\n",
      "\t\t AverageEpisodeLength = 510.70001220703125\n"
     ]
    },
    {
     "name": "stdout",
     "output_type": "stream",
     "text": [
      "619000 loss:0.64458\n",
      "elapsed_time: 40.93s\n",
      "620000 loss:0.34842\n",
      "elapsed_time: 41.26s\n"
     ]
    },
    {
     "name": "stderr",
     "output_type": "stream",
     "text": [
      "INFO:absl: \n",
      "\t\t NumberOfEpisodes = 5758\n",
      "\t\t EnvironmentSteps = 2570156\n",
      "\t\t AverageReturn = 80.5999984741211\n",
      "\t\t AverageEpisodeLength = 586.7999877929688\n"
     ]
    },
    {
     "name": "stdout",
     "output_type": "stream",
     "text": [
      "620997 loss:0.25525"
     ]
    },
    {
     "name": "stderr",
     "output_type": "stream",
     "text": [
      "INFO:absl: \n",
      "\t\t NumberOfEpisodes = 5766\n",
      "\t\t EnvironmentSteps = 2574156\n",
      "\t\t AverageReturn = 66.30000305175781\n",
      "\t\t AverageEpisodeLength = 595.5999755859375\n"
     ]
    },
    {
     "name": "stdout",
     "output_type": "stream",
     "text": [
      "621000 loss:0.40182\n",
      "elapsed_time: 41.20s\n",
      "621999 loss:0.42746"
     ]
    },
    {
     "name": "stderr",
     "output_type": "stream",
     "text": [
      "INFO:absl: \n",
      "\t\t NumberOfEpisodes = 5771\n",
      "\t\t EnvironmentSteps = 2578156\n",
      "\t\t AverageReturn = 133.3000030517578\n",
      "\t\t AverageEpisodeLength = 669.5\n"
     ]
    },
    {
     "name": "stdout",
     "output_type": "stream",
     "text": [
      "622000 loss:0.44688\n",
      "elapsed_time: 41.31s\n",
      "622996 loss:0.31664"
     ]
    },
    {
     "name": "stderr",
     "output_type": "stream",
     "text": [
      "INFO:absl: \n",
      "\t\t NumberOfEpisodes = 5777\n",
      "\t\t EnvironmentSteps = 2582156\n",
      "\t\t AverageReturn = 170.60000610351562\n",
      "\t\t AverageEpisodeLength = 691.2999877929688\n"
     ]
    },
    {
     "name": "stdout",
     "output_type": "stream",
     "text": [
      "623000 loss:0.16774\n",
      "elapsed_time: 41.24s\n",
      "623998 loss:0.44729"
     ]
    },
    {
     "name": "stderr",
     "output_type": "stream",
     "text": [
      "INFO:absl: \n",
      "\t\t NumberOfEpisodes = 5782\n",
      "\t\t EnvironmentSteps = 2586156\n",
      "\t\t AverageReturn = 163.6999969482422\n",
      "\t\t AverageEpisodeLength = 698.0\n"
     ]
    },
    {
     "name": "stdout",
     "output_type": "stream",
     "text": [
      "624000 loss:0.65081\n",
      "elapsed_time: 41.25s\n",
      "624998 loss:0.43476"
     ]
    },
    {
     "name": "stderr",
     "output_type": "stream",
     "text": [
      "INFO:absl: \n",
      "\t\t NumberOfEpisodes = 5787\n",
      "\t\t EnvironmentSteps = 2590156\n",
      "\t\t AverageReturn = 206.89999389648438\n",
      "\t\t AverageEpisodeLength = 780.0999755859375\n"
     ]
    },
    {
     "name": "stdout",
     "output_type": "stream",
     "text": [
      "625000 loss:0.52943\n",
      "elapsed_time: 41.28s\n",
      "625999 loss:0.32780"
     ]
    },
    {
     "name": "stderr",
     "output_type": "stream",
     "text": [
      "INFO:absl: \n",
      "\t\t NumberOfEpisodes = 5795\n",
      "\t\t EnvironmentSteps = 2594156\n",
      "\t\t AverageReturn = 106.0999984741211\n",
      "\t\t AverageEpisodeLength = 581.4000244140625\n"
     ]
    },
    {
     "name": "stdout",
     "output_type": "stream",
     "text": [
      "626000 loss:0.66163\n",
      "elapsed_time: 41.24s\n",
      "626999 loss:0.37684"
     ]
    },
    {
     "name": "stderr",
     "output_type": "stream",
     "text": [
      "INFO:absl: \n",
      "\t\t NumberOfEpisodes = 5803\n",
      "\t\t EnvironmentSteps = 2598156\n",
      "\t\t AverageReturn = 84.4000015258789\n",
      "\t\t AverageEpisodeLength = 535.5999755859375\n"
     ]
    },
    {
     "name": "stdout",
     "output_type": "stream",
     "text": [
      "627000 loss:0.20456\n",
      "elapsed_time: 41.25s\n",
      "627999 loss:0.43973"
     ]
    },
    {
     "name": "stderr",
     "output_type": "stream",
     "text": [
      "INFO:absl: \n",
      "\t\t NumberOfEpisodes = 5810\n",
      "\t\t EnvironmentSteps = 2602156\n",
      "\t\t AverageReturn = 104.0999984741211\n",
      "\t\t AverageEpisodeLength = 567.5\n"
     ]
    },
    {
     "name": "stdout",
     "output_type": "stream",
     "text": [
      "628000 loss:0.25324\n",
      "elapsed_time: 41.26s\n",
      "628999 loss:0.40251"
     ]
    },
    {
     "name": "stderr",
     "output_type": "stream",
     "text": [
      "INFO:absl: \n",
      "\t\t NumberOfEpisodes = 5816\n",
      "\t\t EnvironmentSteps = 2606156\n",
      "\t\t AverageReturn = 104.5\n",
      "\t\t AverageEpisodeLength = 579.0999755859375\n"
     ]
    },
    {
     "name": "stdout",
     "output_type": "stream",
     "text": [
      "629000 loss:0.32826\n",
      "elapsed_time: 41.22s\n",
      "629995 loss:0.35749"
     ]
    },
    {
     "name": "stderr",
     "output_type": "stream",
     "text": [
      "INFO:absl: \n",
      "\t\t NumberOfEpisodes = 5823\n",
      "\t\t EnvironmentSteps = 2610156\n",
      "\t\t AverageReturn = 95.4000015258789\n",
      "\t\t AverageEpisodeLength = 566.0\n"
     ]
    },
    {
     "name": "stdout",
     "output_type": "stream",
     "text": [
      "630000 loss:0.26949\n",
      "elapsed_time: 41.27s\n",
      "630997 loss:0.39449"
     ]
    },
    {
     "name": "stderr",
     "output_type": "stream",
     "text": [
      "INFO:absl: \n",
      "\t\t NumberOfEpisodes = 5830\n",
      "\t\t EnvironmentSteps = 2614156\n",
      "\t\t AverageReturn = 115.0999984741211\n",
      "\t\t AverageEpisodeLength = 586.9000244140625\n"
     ]
    },
    {
     "name": "stdout",
     "output_type": "stream",
     "text": [
      "631000 loss:0.68879\n",
      "elapsed_time: 41.66s\n",
      "631998 loss:0.16519"
     ]
    },
    {
     "name": "stderr",
     "output_type": "stream",
     "text": [
      "INFO:absl: \n",
      "\t\t NumberOfEpisodes = 5836\n",
      "\t\t EnvironmentSteps = 2618156\n",
      "\t\t AverageReturn = 126.9000015258789\n",
      "\t\t AverageEpisodeLength = 643.7000122070312\n"
     ]
    },
    {
     "name": "stdout",
     "output_type": "stream",
     "text": [
      "632000 loss:0.30522\n",
      "elapsed_time: 41.34s\n",
      "632999 loss:0.38598"
     ]
    },
    {
     "name": "stderr",
     "output_type": "stream",
     "text": [
      "INFO:absl: \n",
      "\t\t NumberOfEpisodes = 5842\n",
      "\t\t EnvironmentSteps = 2622156\n",
      "\t\t AverageReturn = 128.10000610351562\n",
      "\t\t AverageEpisodeLength = 625.4000244140625\n"
     ]
    },
    {
     "name": "stdout",
     "output_type": "stream",
     "text": [
      "633000 loss:0.32360\n",
      "elapsed_time: 41.24s\n",
      "633999 loss:0.40704"
     ]
    },
    {
     "name": "stderr",
     "output_type": "stream",
     "text": [
      "INFO:absl: \n",
      "\t\t NumberOfEpisodes = 5849\n",
      "\t\t EnvironmentSteps = 2626156\n",
      "\t\t AverageReturn = 134.8000030517578\n",
      "\t\t AverageEpisodeLength = 655.0999755859375\n"
     ]
    },
    {
     "name": "stdout",
     "output_type": "stream",
     "text": [
      "634000 loss:0.30486\n",
      "elapsed_time: 41.29s\n",
      "634999 loss:0.40272"
     ]
    },
    {
     "name": "stderr",
     "output_type": "stream",
     "text": [
      "INFO:absl: \n",
      "\t\t NumberOfEpisodes = 5855\n",
      "\t\t EnvironmentSteps = 2630156\n",
      "\t\t AverageReturn = 85.5999984741211\n",
      "\t\t AverageEpisodeLength = 571.5999755859375\n"
     ]
    },
    {
     "name": "stdout",
     "output_type": "stream",
     "text": [
      "635000 loss:0.46883\n",
      "elapsed_time: 41.29s\n",
      "635995 loss:0.19161"
     ]
    },
    {
     "name": "stderr",
     "output_type": "stream",
     "text": [
      "INFO:absl: \n",
      "\t\t NumberOfEpisodes = 5861\n",
      "\t\t EnvironmentSteps = 2634156\n",
      "\t\t AverageReturn = 146.3000030517578\n",
      "\t\t AverageEpisodeLength = 644.7000122070312\n"
     ]
    },
    {
     "name": "stdout",
     "output_type": "stream",
     "text": [
      "636000 loss:0.23304\n",
      "elapsed_time: 41.26s\n",
      "636995 loss:0.32954"
     ]
    },
    {
     "name": "stderr",
     "output_type": "stream",
     "text": [
      "INFO:absl: \n",
      "\t\t NumberOfEpisodes = 5868\n",
      "\t\t EnvironmentSteps = 2638156\n",
      "\t\t AverageReturn = 97.30000305175781\n",
      "\t\t AverageEpisodeLength = 627.7999877929688\n"
     ]
    },
    {
     "name": "stdout",
     "output_type": "stream",
     "text": [
      "637000 loss:0.30501\n",
      "elapsed_time: 41.29s\n",
      "637997 loss:0.42005"
     ]
    },
    {
     "name": "stderr",
     "output_type": "stream",
     "text": [
      "INFO:absl: \n",
      "\t\t NumberOfEpisodes = 5874\n",
      "\t\t EnvironmentSteps = 2642156\n",
      "\t\t AverageReturn = 115.0999984741211\n",
      "\t\t AverageEpisodeLength = 641.0999755859375\n"
     ]
    },
    {
     "name": "stdout",
     "output_type": "stream",
     "text": [
      "638000 loss:0.31508\n",
      "elapsed_time: 41.20s\n",
      "638997 loss:0.29069"
     ]
    },
    {
     "name": "stderr",
     "output_type": "stream",
     "text": [
      "INFO:absl: \n",
      "\t\t NumberOfEpisodes = 5881\n",
      "\t\t EnvironmentSteps = 2646156\n",
      "\t\t AverageReturn = 90.30000305175781\n",
      "\t\t AverageEpisodeLength = 556.5\n"
     ]
    },
    {
     "name": "stdout",
     "output_type": "stream",
     "text": [
      "639000 loss:0.09536\n",
      "elapsed_time: 41.22s\n",
      "639997 loss:0.25229"
     ]
    },
    {
     "name": "stderr",
     "output_type": "stream",
     "text": [
      "INFO:absl: \n",
      "\t\t NumberOfEpisodes = 5887\n",
      "\t\t EnvironmentSteps = 2650156\n",
      "\t\t AverageReturn = 147.1999969482422\n",
      "\t\t AverageEpisodeLength = 648.2999877929688\n"
     ]
    },
    {
     "name": "stdout",
     "output_type": "stream",
     "text": [
      "640000 loss:0.19172\n",
      "elapsed_time: 41.24s\n",
      "640997 loss:0.29573"
     ]
    },
    {
     "name": "stderr",
     "output_type": "stream",
     "text": [
      "INFO:absl: \n",
      "\t\t NumberOfEpisodes = 5895\n",
      "\t\t EnvironmentSteps = 2654156\n",
      "\t\t AverageReturn = 57.900001525878906\n",
      "\t\t AverageEpisodeLength = 475.79998779296875\n"
     ]
    },
    {
     "name": "stdout",
     "output_type": "stream",
     "text": [
      "641000 loss:0.61466\n",
      "elapsed_time: 41.25s\n",
      "641997 loss:0.19504"
     ]
    },
    {
     "name": "stderr",
     "output_type": "stream",
     "text": [
      "INFO:absl: \n",
      "\t\t NumberOfEpisodes = 5902\n",
      "\t\t EnvironmentSteps = 2658156\n",
      "\t\t AverageReturn = 104.80000305175781\n",
      "\t\t AverageEpisodeLength = 553.4000244140625\n"
     ]
    },
    {
     "name": "stdout",
     "output_type": "stream",
     "text": [
      "642000 loss:0.15214\n",
      "elapsed_time: 41.23s\n",
      "642998 loss:0.15960"
     ]
    },
    {
     "name": "stderr",
     "output_type": "stream",
     "text": [
      "INFO:absl: \n",
      "\t\t NumberOfEpisodes = 5908\n",
      "\t\t EnvironmentSteps = 2662156\n",
      "\t\t AverageReturn = 87.5999984741211\n",
      "\t\t AverageEpisodeLength = 527.2000122070312\n"
     ]
    },
    {
     "name": "stdout",
     "output_type": "stream",
     "text": [
      "643000 loss:0.16723\n",
      "elapsed_time: 41.25s\n",
      "643999 loss:0.22646"
     ]
    },
    {
     "name": "stderr",
     "output_type": "stream",
     "text": [
      "INFO:absl: \n",
      "\t\t NumberOfEpisodes = 5915\n",
      "\t\t EnvironmentSteps = 2666156\n",
      "\t\t AverageReturn = 127.80000305175781\n",
      "\t\t AverageEpisodeLength = 608.7000122070312\n"
     ]
    },
    {
     "name": "stdout",
     "output_type": "stream",
     "text": [
      "644000 loss:0.34332\n",
      "elapsed_time: 41.22s\n",
      "644995 loss:0.30302"
     ]
    },
    {
     "name": "stderr",
     "output_type": "stream",
     "text": [
      "INFO:absl: \n",
      "\t\t NumberOfEpisodes = 5920\n",
      "\t\t EnvironmentSteps = 2670156\n",
      "\t\t AverageReturn = 156.89999389648438\n",
      "\t\t AverageEpisodeLength = 655.9000244140625\n"
     ]
    },
    {
     "name": "stdout",
     "output_type": "stream",
     "text": [
      "645000 loss:0.19598\n",
      "elapsed_time: 41.21s\n",
      "645995 loss:0.40436"
     ]
    },
    {
     "name": "stderr",
     "output_type": "stream",
     "text": [
      "INFO:absl: \n",
      "\t\t NumberOfEpisodes = 5926\n",
      "\t\t EnvironmentSteps = 2674156\n",
      "\t\t AverageReturn = 209.1999969482422\n",
      "\t\t AverageEpisodeLength = 753.5\n"
     ]
    },
    {
     "name": "stdout",
     "output_type": "stream",
     "text": [
      "646000 loss:0.25214\n",
      "elapsed_time: 41.26s\n",
      "646996 loss:0.29126"
     ]
    },
    {
     "name": "stderr",
     "output_type": "stream",
     "text": [
      "INFO:absl: \n",
      "\t\t NumberOfEpisodes = 5933\n",
      "\t\t EnvironmentSteps = 2678156\n",
      "\t\t AverageReturn = 149.0\n",
      "\t\t AverageEpisodeLength = 636.5999755859375\n"
     ]
    },
    {
     "name": "stdout",
     "output_type": "stream",
     "text": [
      "647000 loss:0.50035\n",
      "elapsed_time: 41.22s\n",
      "647997 loss:0.31553"
     ]
    },
    {
     "name": "stderr",
     "output_type": "stream",
     "text": [
      "INFO:absl: \n",
      "\t\t NumberOfEpisodes = 5939\n",
      "\t\t EnvironmentSteps = 2682156\n",
      "\t\t AverageReturn = 89.9000015258789\n",
      "\t\t AverageEpisodeLength = 566.5999755859375\n"
     ]
    },
    {
     "name": "stdout",
     "output_type": "stream",
     "text": [
      "648000 loss:0.18745\n",
      "elapsed_time: 41.24s\n",
      "648999 loss:0.35689"
     ]
    },
    {
     "name": "stderr",
     "output_type": "stream",
     "text": [
      "INFO:absl: \n",
      "\t\t NumberOfEpisodes = 5945\n",
      "\t\t EnvironmentSteps = 2686156\n",
      "\t\t AverageReturn = 78.30000305175781\n",
      "\t\t AverageEpisodeLength = 566.2000122070312\n"
     ]
    },
    {
     "name": "stdout",
     "output_type": "stream",
     "text": [
      "649000 loss:0.28364\n",
      "elapsed_time: 41.26s\n",
      "649999 loss:0.39861"
     ]
    },
    {
     "name": "stderr",
     "output_type": "stream",
     "text": [
      "INFO:absl: \n",
      "\t\t NumberOfEpisodes = 5952\n",
      "\t\t EnvironmentSteps = 2690156\n",
      "\t\t AverageReturn = 139.10000610351562\n",
      "\t\t AverageEpisodeLength = 664.0\n"
     ]
    },
    {
     "name": "stdout",
     "output_type": "stream",
     "text": [
      "650000 loss:0.61708\n",
      "elapsed_time: 41.24s\n",
      "650999 loss:0.57526"
     ]
    },
    {
     "name": "stderr",
     "output_type": "stream",
     "text": [
      "INFO:absl: \n",
      "\t\t NumberOfEpisodes = 5957\n",
      "\t\t EnvironmentSteps = 2694156\n",
      "\t\t AverageReturn = 144.5\n",
      "\t\t AverageEpisodeLength = 637.9000244140625\n"
     ]
    },
    {
     "name": "stdout",
     "output_type": "stream",
     "text": [
      "651000 loss:0.27994\n",
      "elapsed_time: 41.19s\n",
      "651999 loss:0.47537"
     ]
    },
    {
     "name": "stderr",
     "output_type": "stream",
     "text": [
      "INFO:absl: \n",
      "\t\t NumberOfEpisodes = 5963\n",
      "\t\t EnvironmentSteps = 2698156\n",
      "\t\t AverageReturn = 174.6999969482422\n",
      "\t\t AverageEpisodeLength = 695.2999877929688\n"
     ]
    },
    {
     "name": "stdout",
     "output_type": "stream",
     "text": [
      "652000 loss:0.51109\n",
      "elapsed_time: 41.25s\n",
      "652999 loss:0.47294"
     ]
    },
    {
     "name": "stderr",
     "output_type": "stream",
     "text": [
      "INFO:absl: \n",
      "\t\t NumberOfEpisodes = 5969\n",
      "\t\t EnvironmentSteps = 2702156\n",
      "\t\t AverageReturn = 144.8000030517578\n",
      "\t\t AverageEpisodeLength = 668.5999755859375\n"
     ]
    },
    {
     "name": "stdout",
     "output_type": "stream",
     "text": [
      "653000 loss:0.54476\n",
      "elapsed_time: 41.23s\n",
      "653999 loss:0.24616"
     ]
    },
    {
     "name": "stderr",
     "output_type": "stream",
     "text": [
      "INFO:absl: \n",
      "\t\t NumberOfEpisodes = 5975\n",
      "\t\t EnvironmentSteps = 2706156\n",
      "\t\t AverageReturn = 134.1999969482422\n",
      "\t\t AverageEpisodeLength = 703.4000244140625\n"
     ]
    },
    {
     "name": "stdout",
     "output_type": "stream",
     "text": [
      "654000 loss:0.36296\n",
      "elapsed_time: 41.21s\n",
      "654995 loss:0.15031"
     ]
    },
    {
     "name": "stderr",
     "output_type": "stream",
     "text": [
      "INFO:absl: \n",
      "\t\t NumberOfEpisodes = 5981\n",
      "\t\t EnvironmentSteps = 2710156\n",
      "\t\t AverageReturn = 109.4000015258789\n",
      "\t\t AverageEpisodeLength = 616.5\n"
     ]
    },
    {
     "name": "stdout",
     "output_type": "stream",
     "text": [
      "655000 loss:0.33355\n",
      "elapsed_time: 41.20s\n",
      "655995 loss:0.42968"
     ]
    },
    {
     "name": "stderr",
     "output_type": "stream",
     "text": [
      "INFO:absl: \n",
      "\t\t NumberOfEpisodes = 5987\n",
      "\t\t EnvironmentSteps = 2714156\n",
      "\t\t AverageReturn = 164.39999389648438\n",
      "\t\t AverageEpisodeLength = 675.5999755859375\n"
     ]
    },
    {
     "name": "stdout",
     "output_type": "stream",
     "text": [
      "656000 loss:0.37238\n",
      "elapsed_time: 41.23s\n",
      "656997 loss:0.32068"
     ]
    },
    {
     "name": "stderr",
     "output_type": "stream",
     "text": [
      "INFO:absl: \n",
      "\t\t NumberOfEpisodes = 5992\n",
      "\t\t EnvironmentSteps = 2718156\n",
      "\t\t AverageReturn = 147.8000030517578\n",
      "\t\t AverageEpisodeLength = 672.0\n"
     ]
    },
    {
     "name": "stdout",
     "output_type": "stream",
     "text": [
      "657000 loss:0.45401\n",
      "elapsed_time: 41.25s\n",
      "657997 loss:0.20189"
     ]
    },
    {
     "name": "stderr",
     "output_type": "stream",
     "text": [
      "INFO:absl: \n",
      "\t\t NumberOfEpisodes = 5997\n",
      "\t\t EnvironmentSteps = 2722156\n",
      "\t\t AverageReturn = 216.89999389648438\n",
      "\t\t AverageEpisodeLength = 779.9000244140625\n"
     ]
    },
    {
     "name": "stdout",
     "output_type": "stream",
     "text": [
      "658000 loss:0.34499\n",
      "elapsed_time: 41.39s\n",
      "658997 loss:0.48478"
     ]
    },
    {
     "name": "stderr",
     "output_type": "stream",
     "text": [
      "INFO:absl: \n",
      "\t\t NumberOfEpisodes = 6002\n",
      "\t\t EnvironmentSteps = 2726156\n",
      "\t\t AverageReturn = 243.89999389648438\n",
      "\t\t AverageEpisodeLength = 834.2999877929688\n"
     ]
    },
    {
     "name": "stdout",
     "output_type": "stream",
     "text": [
      "659000 loss:0.47286\n",
      "elapsed_time: 41.23s\n",
      "659995 loss:0.30696"
     ]
    },
    {
     "name": "stderr",
     "output_type": "stream",
     "text": [
      "INFO:absl: \n",
      "\t\t NumberOfEpisodes = 6007\n",
      "\t\t EnvironmentSteps = 2730156\n",
      "\t\t AverageReturn = 229.1999969482422\n",
      "\t\t AverageEpisodeLength = 812.7999877929688\n"
     ]
    },
    {
     "name": "stdout",
     "output_type": "stream",
     "text": [
      "660000 loss:0.87755\n",
      "elapsed_time: 41.25s\n",
      "660996 loss:1.28891"
     ]
    },
    {
     "name": "stderr",
     "output_type": "stream",
     "text": [
      "INFO:absl: \n",
      "\t\t NumberOfEpisodes = 6012\n",
      "\t\t EnvironmentSteps = 2734156\n",
      "\t\t AverageReturn = 222.39999389648438\n",
      "\t\t AverageEpisodeLength = 788.7000122070312\n"
     ]
    },
    {
     "name": "stdout",
     "output_type": "stream",
     "text": [
      "661000 loss:0.40512\n",
      "elapsed_time: 41.23s\n",
      "661996 loss:0.32077"
     ]
    },
    {
     "name": "stderr",
     "output_type": "stream",
     "text": [
      "INFO:absl: \n",
      "\t\t NumberOfEpisodes = 6019\n",
      "\t\t EnvironmentSteps = 2738156\n",
      "\t\t AverageReturn = 146.89999389648438\n",
      "\t\t AverageEpisodeLength = 654.5\n"
     ]
    },
    {
     "name": "stdout",
     "output_type": "stream",
     "text": [
      "662000 loss:0.31576\n",
      "elapsed_time: 41.25s\n",
      "662997 loss:0.23547"
     ]
    },
    {
     "name": "stderr",
     "output_type": "stream",
     "text": [
      "INFO:absl: \n",
      "\t\t NumberOfEpisodes = 6027\n",
      "\t\t EnvironmentSteps = 2742156\n",
      "\t\t AverageReturn = 82.9000015258789\n",
      "\t\t AverageEpisodeLength = 547.2999877929688\n"
     ]
    },
    {
     "name": "stdout",
     "output_type": "stream",
     "text": [
      "663000 loss:0.65445\n",
      "elapsed_time: 41.29s\n",
      "663998 loss:0.31200"
     ]
    },
    {
     "name": "stderr",
     "output_type": "stream",
     "text": [
      "INFO:absl: \n",
      "\t\t NumberOfEpisodes = 6033\n",
      "\t\t EnvironmentSteps = 2746156\n",
      "\t\t AverageReturn = 94.4000015258789\n",
      "\t\t AverageEpisodeLength = 567.5999755859375\n"
     ]
    },
    {
     "name": "stdout",
     "output_type": "stream",
     "text": [
      "664000 loss:0.36683\n",
      "elapsed_time: 41.23s\n",
      "664999 loss:0.35843"
     ]
    },
    {
     "name": "stderr",
     "output_type": "stream",
     "text": [
      "INFO:absl: \n",
      "\t\t NumberOfEpisodes = 6039\n",
      "\t\t EnvironmentSteps = 2750156\n",
      "\t\t AverageReturn = 126.5\n",
      "\t\t AverageEpisodeLength = 601.5\n"
     ]
    },
    {
     "name": "stdout",
     "output_type": "stream",
     "text": [
      "665000 loss:0.17823\n",
      "elapsed_time: 41.22s\n",
      "665996 loss:0.63506"
     ]
    },
    {
     "name": "stderr",
     "output_type": "stream",
     "text": [
      "INFO:absl: \n",
      "\t\t NumberOfEpisodes = 6044\n",
      "\t\t EnvironmentSteps = 2754156\n",
      "\t\t AverageReturn = 218.39999389648438\n",
      "\t\t AverageEpisodeLength = 763.9000244140625\n"
     ]
    },
    {
     "name": "stdout",
     "output_type": "stream",
     "text": [
      "666000 loss:0.54932\n",
      "elapsed_time: 41.25s\n",
      "666998 loss:0.24943"
     ]
    },
    {
     "name": "stderr",
     "output_type": "stream",
     "text": [
      "INFO:absl: \n",
      "\t\t NumberOfEpisodes = 6049\n",
      "\t\t EnvironmentSteps = 2758156\n",
      "\t\t AverageReturn = 200.0\n",
      "\t\t AverageEpisodeLength = 774.5\n"
     ]
    },
    {
     "name": "stdout",
     "output_type": "stream",
     "text": [
      "667000 loss:0.75042\n",
      "elapsed_time: 41.23s\n",
      "667997 loss:0.36991"
     ]
    },
    {
     "name": "stderr",
     "output_type": "stream",
     "text": [
      "INFO:absl: \n",
      "\t\t NumberOfEpisodes = 6054\n",
      "\t\t EnvironmentSteps = 2762156\n",
      "\t\t AverageReturn = 196.89999389648438\n",
      "\t\t AverageEpisodeLength = 761.7000122070312\n"
     ]
    },
    {
     "name": "stdout",
     "output_type": "stream",
     "text": [
      "668000 loss:0.26068\n",
      "elapsed_time: 41.23s\n",
      "668997 loss:0.61677"
     ]
    },
    {
     "name": "stderr",
     "output_type": "stream",
     "text": [
      "INFO:absl: \n",
      "\t\t NumberOfEpisodes = 6060\n",
      "\t\t EnvironmentSteps = 2766156\n",
      "\t\t AverageReturn = 179.0\n",
      "\t\t AverageEpisodeLength = 757.7999877929688\n"
     ]
    },
    {
     "name": "stdout",
     "output_type": "stream",
     "text": [
      "669000 loss:0.32722\n",
      "elapsed_time: 41.26s\n",
      "669997 loss:0.37933"
     ]
    },
    {
     "name": "stderr",
     "output_type": "stream",
     "text": [
      "INFO:absl: \n",
      "\t\t NumberOfEpisodes = 6067\n",
      "\t\t EnvironmentSteps = 2770156\n",
      "\t\t AverageReturn = 86.30000305175781\n",
      "\t\t AverageEpisodeLength = 613.7999877929688\n"
     ]
    },
    {
     "name": "stdout",
     "output_type": "stream",
     "text": [
      "670000 loss:0.12671\n",
      "elapsed_time: 41.25s\n",
      "670998 loss:0.36362"
     ]
    },
    {
     "name": "stderr",
     "output_type": "stream",
     "text": [
      "INFO:absl: \n",
      "\t\t NumberOfEpisodes = 6073\n",
      "\t\t EnvironmentSteps = 2774156\n",
      "\t\t AverageReturn = 117.9000015258789\n",
      "\t\t AverageEpisodeLength = 635.7999877929688\n"
     ]
    },
    {
     "name": "stdout",
     "output_type": "stream",
     "text": [
      "671000 loss:0.38348\n",
      "elapsed_time: 41.29s\n",
      "671995 loss:0.30327"
     ]
    },
    {
     "name": "stderr",
     "output_type": "stream",
     "text": [
      "INFO:absl: \n",
      "\t\t NumberOfEpisodes = 6079\n",
      "\t\t EnvironmentSteps = 2778156\n",
      "\t\t AverageReturn = 127.9000015258789\n",
      "\t\t AverageEpisodeLength = 645.2000122070312\n"
     ]
    },
    {
     "name": "stdout",
     "output_type": "stream",
     "text": [
      "672000 loss:0.41184\n",
      "elapsed_time: 41.31s\n",
      "672995 loss:0.27798"
     ]
    },
    {
     "name": "stderr",
     "output_type": "stream",
     "text": [
      "INFO:absl: \n",
      "\t\t NumberOfEpisodes = 6087\n",
      "\t\t EnvironmentSteps = 2782156\n",
      "\t\t AverageReturn = 66.5\n",
      "\t\t AverageEpisodeLength = 521.9000244140625\n"
     ]
    },
    {
     "name": "stdout",
     "output_type": "stream",
     "text": [
      "673000 loss:0.46569\n",
      "elapsed_time: 41.29s\n",
      "673995 loss:0.33625"
     ]
    },
    {
     "name": "stderr",
     "output_type": "stream",
     "text": [
      "INFO:absl: \n",
      "\t\t NumberOfEpisodes = 6094\n",
      "\t\t EnvironmentSteps = 2786156\n",
      "\t\t AverageReturn = 95.0\n",
      "\t\t AverageEpisodeLength = 595.5999755859375\n"
     ]
    },
    {
     "name": "stdout",
     "output_type": "stream",
     "text": [
      "674000 loss:0.52732\n",
      "elapsed_time: 41.26s\n",
      "674996 loss:0.37384"
     ]
    },
    {
     "name": "stderr",
     "output_type": "stream",
     "text": [
      "INFO:absl: \n",
      "\t\t NumberOfEpisodes = 6100\n",
      "\t\t EnvironmentSteps = 2790156\n",
      "\t\t AverageReturn = 131.60000610351562\n",
      "\t\t AverageEpisodeLength = 623.4000244140625\n"
     ]
    },
    {
     "name": "stdout",
     "output_type": "stream",
     "text": [
      "675000 loss:0.74148\n",
      "elapsed_time: 41.31s\n",
      "675996 loss:0.20393"
     ]
    },
    {
     "name": "stderr",
     "output_type": "stream",
     "text": [
      "INFO:absl: \n",
      "\t\t NumberOfEpisodes = 6105\n",
      "\t\t EnvironmentSteps = 2794156\n",
      "\t\t AverageReturn = 145.60000610351562\n",
      "\t\t AverageEpisodeLength = 655.7000122070312\n"
     ]
    },
    {
     "name": "stdout",
     "output_type": "stream",
     "text": [
      "676000 loss:0.26075\n",
      "elapsed_time: 41.25s\n",
      "676996 loss:0.18158"
     ]
    },
    {
     "name": "stderr",
     "output_type": "stream",
     "text": [
      "INFO:absl: \n",
      "\t\t NumberOfEpisodes = 6112\n",
      "\t\t EnvironmentSteps = 2798156\n",
      "\t\t AverageReturn = 129.89999389648438\n",
      "\t\t AverageEpisodeLength = 618.9000244140625\n"
     ]
    },
    {
     "name": "stdout",
     "output_type": "stream",
     "text": [
      "677000 loss:0.70888\n",
      "elapsed_time: 41.26s\n",
      "677995 loss:0.28307"
     ]
    },
    {
     "name": "stderr",
     "output_type": "stream",
     "text": [
      "INFO:absl: \n",
      "\t\t NumberOfEpisodes = 6118\n",
      "\t\t EnvironmentSteps = 2802156\n",
      "\t\t AverageReturn = 143.6999969482422\n",
      "\t\t AverageEpisodeLength = 655.0999755859375\n"
     ]
    },
    {
     "name": "stdout",
     "output_type": "stream",
     "text": [
      "678000 loss:0.36576\n",
      "elapsed_time: 41.28s\n",
      "678997 loss:0.44423"
     ]
    },
    {
     "name": "stderr",
     "output_type": "stream",
     "text": [
      "INFO:absl: \n",
      "\t\t NumberOfEpisodes = 6126\n",
      "\t\t EnvironmentSteps = 2806156\n",
      "\t\t AverageReturn = 123.4000015258789\n",
      "\t\t AverageEpisodeLength = 598.7999877929688\n"
     ]
    },
    {
     "name": "stdout",
     "output_type": "stream",
     "text": [
      "679000 loss:0.45482\n",
      "elapsed_time: 41.29s\n",
      "679998 loss:0.32692"
     ]
    },
    {
     "name": "stderr",
     "output_type": "stream",
     "text": [
      "INFO:absl: \n",
      "\t\t NumberOfEpisodes = 6133\n",
      "\t\t EnvironmentSteps = 2810156\n",
      "\t\t AverageReturn = 85.0999984741211\n",
      "\t\t AverageEpisodeLength = 503.5\n"
     ]
    },
    {
     "name": "stdout",
     "output_type": "stream",
     "text": [
      "680000 loss:0.21965\n",
      "elapsed_time: 41.26s\n",
      "680998 loss:0.18569"
     ]
    },
    {
     "name": "stderr",
     "output_type": "stream",
     "text": [
      "INFO:absl: \n",
      "\t\t NumberOfEpisodes = 6140\n",
      "\t\t EnvironmentSteps = 2814156\n",
      "\t\t AverageReturn = 114.30000305175781\n",
      "\t\t AverageEpisodeLength = 568.2000122070312\n"
     ]
    },
    {
     "name": "stdout",
     "output_type": "stream",
     "text": [
      "681000 loss:0.49349\n",
      "elapsed_time: 41.29s\n",
      "681999 loss:0.17516"
     ]
    },
    {
     "name": "stderr",
     "output_type": "stream",
     "text": [
      "INFO:absl: \n",
      "\t\t NumberOfEpisodes = 6146\n",
      "\t\t EnvironmentSteps = 2818156\n",
      "\t\t AverageReturn = 163.10000610351562\n",
      "\t\t AverageEpisodeLength = 666.0\n"
     ]
    },
    {
     "name": "stdout",
     "output_type": "stream",
     "text": [
      "682000 loss:0.48580\n",
      "elapsed_time: 41.60s\n",
      "682996 loss:0.30668"
     ]
    },
    {
     "name": "stderr",
     "output_type": "stream",
     "text": [
      "INFO:absl: \n",
      "\t\t NumberOfEpisodes = 6151\n",
      "\t\t EnvironmentSteps = 2822156\n",
      "\t\t AverageReturn = 183.39999389648438\n",
      "\t\t AverageEpisodeLength = 728.9000244140625\n"
     ]
    },
    {
     "name": "stdout",
     "output_type": "stream",
     "text": [
      "683000 loss:0.15856\n",
      "elapsed_time: 41.57s\n",
      "683996 loss:0.35878"
     ]
    },
    {
     "name": "stderr",
     "output_type": "stream",
     "text": [
      "INFO:absl: \n",
      "\t\t NumberOfEpisodes = 6157\n",
      "\t\t EnvironmentSteps = 2826156\n",
      "\t\t AverageReturn = 136.6999969482422\n",
      "\t\t AverageEpisodeLength = 652.7000122070312\n"
     ]
    },
    {
     "name": "stdout",
     "output_type": "stream",
     "text": [
      "684000 loss:0.41306\n",
      "elapsed_time: 40.79s\n",
      "684996 loss:0.51796"
     ]
    },
    {
     "name": "stderr",
     "output_type": "stream",
     "text": [
      "INFO:absl: \n",
      "\t\t NumberOfEpisodes = 6164\n",
      "\t\t EnvironmentSteps = 2830156\n",
      "\t\t AverageReturn = 105.0\n",
      "\t\t AverageEpisodeLength = 600.7000122070312\n"
     ]
    },
    {
     "name": "stdout",
     "output_type": "stream",
     "text": [
      "685000 loss:0.57283\n",
      "elapsed_time: 41.33s\n",
      "685996 loss:0.25101"
     ]
    },
    {
     "name": "stderr",
     "output_type": "stream",
     "text": [
      "INFO:absl: \n",
      "\t\t NumberOfEpisodes = 6169\n",
      "\t\t EnvironmentSteps = 2834156\n",
      "\t\t AverageReturn = 158.8000030517578\n",
      "\t\t AverageEpisodeLength = 684.0\n"
     ]
    },
    {
     "name": "stdout",
     "output_type": "stream",
     "text": [
      "686000 loss:0.15422\n",
      "elapsed_time: 41.35s\n",
      "686996 loss:0.30834"
     ]
    },
    {
     "name": "stderr",
     "output_type": "stream",
     "text": [
      "INFO:absl: \n",
      "\t\t NumberOfEpisodes = 6174\n",
      "\t\t EnvironmentSteps = 2838156\n",
      "\t\t AverageReturn = 236.60000610351562\n",
      "\t\t AverageEpisodeLength = 788.7000122070312\n"
     ]
    },
    {
     "name": "stdout",
     "output_type": "stream",
     "text": [
      "687000 loss:0.30504\n",
      "elapsed_time: 41.30s\n",
      "687998 loss:0.25075"
     ]
    },
    {
     "name": "stderr",
     "output_type": "stream",
     "text": [
      "INFO:absl: \n",
      "\t\t NumberOfEpisodes = 6180\n",
      "\t\t EnvironmentSteps = 2842156\n",
      "\t\t AverageReturn = 174.1999969482422\n",
      "\t\t AverageEpisodeLength = 685.5999755859375\n"
     ]
    },
    {
     "name": "stdout",
     "output_type": "stream",
     "text": [
      "688000 loss:0.37589\n",
      "elapsed_time: 41.59s\n",
      "688998 loss:0.36084"
     ]
    },
    {
     "name": "stderr",
     "output_type": "stream",
     "text": [
      "INFO:absl: \n",
      "\t\t NumberOfEpisodes = 6185\n",
      "\t\t EnvironmentSteps = 2846156\n",
      "\t\t AverageReturn = 144.1999969482422\n",
      "\t\t AverageEpisodeLength = 678.2000122070312\n"
     ]
    },
    {
     "name": "stdout",
     "output_type": "stream",
     "text": [
      "689000 loss:0.38883\n",
      "elapsed_time: 41.26s\n",
      "689998 loss:0.26112"
     ]
    },
    {
     "name": "stderr",
     "output_type": "stream",
     "text": [
      "INFO:absl: \n",
      "\t\t NumberOfEpisodes = 6191\n",
      "\t\t EnvironmentSteps = 2850156\n",
      "\t\t AverageReturn = 152.10000610351562\n",
      "\t\t AverageEpisodeLength = 716.5999755859375\n"
     ]
    },
    {
     "name": "stdout",
     "output_type": "stream",
     "text": [
      "690000 loss:0.33083\n",
      "elapsed_time: 41.23s\n",
      "690998 loss:0.65773"
     ]
    },
    {
     "name": "stderr",
     "output_type": "stream",
     "text": [
      "INFO:absl: \n",
      "\t\t NumberOfEpisodes = 6197\n",
      "\t\t EnvironmentSteps = 2854156\n",
      "\t\t AverageReturn = 152.0\n",
      "\t\t AverageEpisodeLength = 670.5999755859375\n"
     ]
    },
    {
     "name": "stdout",
     "output_type": "stream",
     "text": [
      "691000 loss:0.25963\n",
      "elapsed_time: 41.23s\n",
      "691998 loss:0.35123"
     ]
    },
    {
     "name": "stderr",
     "output_type": "stream",
     "text": [
      "INFO:absl: \n",
      "\t\t NumberOfEpisodes = 6204\n",
      "\t\t EnvironmentSteps = 2858156\n",
      "\t\t AverageReturn = 136.0\n",
      "\t\t AverageEpisodeLength = 630.0999755859375\n"
     ]
    },
    {
     "name": "stdout",
     "output_type": "stream",
     "text": [
      "692000 loss:0.29222\n",
      "elapsed_time: 41.30s\n",
      "692995 loss:0.18533"
     ]
    },
    {
     "name": "stderr",
     "output_type": "stream",
     "text": [
      "INFO:absl: \n",
      "\t\t NumberOfEpisodes = 6209\n",
      "\t\t EnvironmentSteps = 2862156\n",
      "\t\t AverageReturn = 132.3000030517578\n",
      "\t\t AverageEpisodeLength = 638.7000122070312\n"
     ]
    },
    {
     "name": "stdout",
     "output_type": "stream",
     "text": [
      "693000 loss:0.32461\n",
      "elapsed_time: 41.25s\n",
      "693995 loss:0.42122"
     ]
    },
    {
     "name": "stderr",
     "output_type": "stream",
     "text": [
      "INFO:absl: \n",
      "\t\t NumberOfEpisodes = 6214\n",
      "\t\t EnvironmentSteps = 2866156\n",
      "\t\t AverageReturn = 210.39999389648438\n",
      "\t\t AverageEpisodeLength = 776.0999755859375\n"
     ]
    },
    {
     "name": "stdout",
     "output_type": "stream",
     "text": [
      "694000 loss:0.22969\n",
      "elapsed_time: 41.23s\n",
      "694997 loss:0.70130"
     ]
    },
    {
     "name": "stderr",
     "output_type": "stream",
     "text": [
      "INFO:absl: \n",
      "\t\t NumberOfEpisodes = 6219\n",
      "\t\t EnvironmentSteps = 2870156\n",
      "\t\t AverageReturn = 213.8000030517578\n",
      "\t\t AverageEpisodeLength = 784.0999755859375\n"
     ]
    },
    {
     "name": "stdout",
     "output_type": "stream",
     "text": [
      "695000 loss:0.49858\n",
      "elapsed_time: 41.28s\n",
      "695998 loss:0.25489"
     ]
    },
    {
     "name": "stderr",
     "output_type": "stream",
     "text": [
      "INFO:absl: \n",
      "\t\t NumberOfEpisodes = 6224\n",
      "\t\t EnvironmentSteps = 2874156\n",
      "\t\t AverageReturn = 233.3000030517578\n",
      "\t\t AverageEpisodeLength = 824.9000244140625\n"
     ]
    },
    {
     "name": "stdout",
     "output_type": "stream",
     "text": [
      "696000 loss:0.46585\n",
      "elapsed_time: 41.21s\n",
      "696998 loss:0.34121"
     ]
    },
    {
     "name": "stderr",
     "output_type": "stream",
     "text": [
      "INFO:absl: \n",
      "\t\t NumberOfEpisodes = 6229\n",
      "\t\t EnvironmentSteps = 2878156\n",
      "\t\t AverageReturn = 252.10000610351562\n",
      "\t\t AverageEpisodeLength = 852.4000244140625\n"
     ]
    },
    {
     "name": "stdout",
     "output_type": "stream",
     "text": [
      "697000 loss:0.42206\n",
      "elapsed_time: 41.23s\n",
      "697999 loss:0.25472"
     ]
    },
    {
     "name": "stderr",
     "output_type": "stream",
     "text": [
      "INFO:absl: \n",
      "\t\t NumberOfEpisodes = 6235\n",
      "\t\t EnvironmentSteps = 2882156\n",
      "\t\t AverageReturn = 193.89999389648438\n",
      "\t\t AverageEpisodeLength = 746.5\n"
     ]
    },
    {
     "name": "stdout",
     "output_type": "stream",
     "text": [
      "698000 loss:0.34732\n",
      "elapsed_time: 41.26s\n",
      "698999 loss:0.26382"
     ]
    },
    {
     "name": "stderr",
     "output_type": "stream",
     "text": [
      "INFO:absl: \n",
      "\t\t NumberOfEpisodes = 6240\n",
      "\t\t EnvironmentSteps = 2886156\n",
      "\t\t AverageReturn = 189.0\n",
      "\t\t AverageEpisodeLength = 750.5999755859375\n"
     ]
    },
    {
     "name": "stdout",
     "output_type": "stream",
     "text": [
      "699000 loss:0.35193\n",
      "elapsed_time: 41.22s\n",
      "699999 loss:0.23370"
     ]
    },
    {
     "name": "stderr",
     "output_type": "stream",
     "text": [
      "INFO:absl: \n",
      "\t\t NumberOfEpisodes = 6246\n",
      "\t\t EnvironmentSteps = 2890156\n",
      "\t\t AverageReturn = 199.6999969482422\n",
      "\t\t AverageEpisodeLength = 762.0\n"
     ]
    },
    {
     "name": "stdout",
     "output_type": "stream",
     "text": [
      "700000 loss:0.56194\n",
      "elapsed_time: 41.26s\n",
      "700999 loss:0.41213"
     ]
    },
    {
     "name": "stderr",
     "output_type": "stream",
     "text": [
      "INFO:absl: \n",
      "\t\t NumberOfEpisodes = 6251\n",
      "\t\t EnvironmentSteps = 2894156\n",
      "\t\t AverageReturn = 183.89999389648438\n",
      "\t\t AverageEpisodeLength = 719.4000244140625\n"
     ]
    },
    {
     "name": "stdout",
     "output_type": "stream",
     "text": [
      "701000 loss:0.54639\n",
      "elapsed_time: 41.85s\n",
      "701995 loss:0.34205"
     ]
    },
    {
     "name": "stderr",
     "output_type": "stream",
     "text": [
      "INFO:absl: \n",
      "\t\t NumberOfEpisodes = 6258\n",
      "\t\t EnvironmentSteps = 2898156\n",
      "\t\t AverageReturn = 123.0\n",
      "\t\t AverageEpisodeLength = 576.7000122070312\n"
     ]
    },
    {
     "name": "stdout",
     "output_type": "stream",
     "text": [
      "702000 loss:0.42442\n",
      "elapsed_time: 41.29s\n",
      "702995 loss:0.21381"
     ]
    },
    {
     "name": "stderr",
     "output_type": "stream",
     "text": [
      "INFO:absl: \n",
      "\t\t NumberOfEpisodes = 6264\n",
      "\t\t EnvironmentSteps = 2902156\n",
      "\t\t AverageReturn = 164.89999389648438\n",
      "\t\t AverageEpisodeLength = 659.5999755859375\n"
     ]
    },
    {
     "name": "stdout",
     "output_type": "stream",
     "text": [
      "703000 loss:0.43788\n",
      "elapsed_time: 41.25s\n",
      "703996 loss:0.46713"
     ]
    },
    {
     "name": "stderr",
     "output_type": "stream",
     "text": [
      "INFO:absl: \n",
      "\t\t NumberOfEpisodes = 6269\n",
      "\t\t EnvironmentSteps = 2906156\n",
      "\t\t AverageReturn = 198.5\n",
      "\t\t AverageEpisodeLength = 761.5999755859375\n"
     ]
    },
    {
     "name": "stdout",
     "output_type": "stream",
     "text": [
      "704000 loss:0.39643\n",
      "elapsed_time: 41.27s\n",
      "704997 loss:0.47367"
     ]
    },
    {
     "name": "stderr",
     "output_type": "stream",
     "text": [
      "INFO:absl: \n",
      "\t\t NumberOfEpisodes = 6275\n",
      "\t\t EnvironmentSteps = 2910156\n",
      "\t\t AverageReturn = 195.39999389648438\n",
      "\t\t AverageEpisodeLength = 728.5\n"
     ]
    },
    {
     "name": "stdout",
     "output_type": "stream",
     "text": [
      "705000 loss:0.30166\n",
      "elapsed_time: 41.21s\n",
      "705997 loss:0.32599"
     ]
    },
    {
     "name": "stderr",
     "output_type": "stream",
     "text": [
      "INFO:absl: \n",
      "\t\t NumberOfEpisodes = 6281\n",
      "\t\t EnvironmentSteps = 2914156\n",
      "\t\t AverageReturn = 151.0\n",
      "\t\t AverageEpisodeLength = 632.7999877929688\n"
     ]
    },
    {
     "name": "stdout",
     "output_type": "stream",
     "text": [
      "706000 loss:0.43831\n",
      "elapsed_time: 41.24s\n",
      "706998 loss:0.33040"
     ]
    },
    {
     "name": "stderr",
     "output_type": "stream",
     "text": [
      "INFO:absl: \n",
      "\t\t NumberOfEpisodes = 6287\n",
      "\t\t EnvironmentSteps = 2918156\n",
      "\t\t AverageReturn = 156.1999969482422\n",
      "\t\t AverageEpisodeLength = 646.7999877929688\n"
     ]
    },
    {
     "name": "stdout",
     "output_type": "stream",
     "text": [
      "707000 loss:0.71067\n",
      "elapsed_time: 41.28s\n",
      "707995 loss:0.09044"
     ]
    },
    {
     "name": "stderr",
     "output_type": "stream",
     "text": [
      "INFO:absl: \n",
      "\t\t NumberOfEpisodes = 6294\n",
      "\t\t EnvironmentSteps = 2922156\n",
      "\t\t AverageReturn = 121.4000015258789\n",
      "\t\t AverageEpisodeLength = 597.0999755859375\n"
     ]
    },
    {
     "name": "stdout",
     "output_type": "stream",
     "text": [
      "708000 loss:0.25264\n",
      "elapsed_time: 41.23s\n",
      "708995 loss:0.24839"
     ]
    },
    {
     "name": "stderr",
     "output_type": "stream",
     "text": [
      "INFO:absl: \n",
      "\t\t NumberOfEpisodes = 6302\n",
      "\t\t EnvironmentSteps = 2926156\n",
      "\t\t AverageReturn = 72.4000015258789\n",
      "\t\t AverageEpisodeLength = 515.7000122070312\n"
     ]
    },
    {
     "name": "stdout",
     "output_type": "stream",
     "text": [
      "709000 loss:0.26069\n",
      "elapsed_time: 41.24s\n",
      "709995 loss:0.37135"
     ]
    },
    {
     "name": "stderr",
     "output_type": "stream",
     "text": [
      "INFO:absl: \n",
      "\t\t NumberOfEpisodes = 6308\n",
      "\t\t EnvironmentSteps = 2930156\n",
      "\t\t AverageReturn = 132.60000610351562\n",
      "\t\t AverageEpisodeLength = 612.0999755859375\n"
     ]
    },
    {
     "name": "stdout",
     "output_type": "stream",
     "text": [
      "710000 loss:0.19302\n",
      "elapsed_time: 41.24s\n",
      "710997 loss:0.51685"
     ]
    },
    {
     "name": "stderr",
     "output_type": "stream",
     "text": [
      "INFO:absl: \n",
      "\t\t NumberOfEpisodes = 6314\n",
      "\t\t EnvironmentSteps = 2934156\n",
      "\t\t AverageReturn = 157.5\n",
      "\t\t AverageEpisodeLength = 662.4000244140625\n"
     ]
    },
    {
     "name": "stdout",
     "output_type": "stream",
     "text": [
      "711000 loss:0.31788\n",
      "elapsed_time: 41.22s\n",
      "711999 loss:0.28965"
     ]
    },
    {
     "name": "stderr",
     "output_type": "stream",
     "text": [
      "INFO:absl: \n",
      "\t\t NumberOfEpisodes = 6319\n",
      "\t\t EnvironmentSteps = 2938156\n",
      "\t\t AverageReturn = 153.5\n",
      "\t\t AverageEpisodeLength = 684.9000244140625\n"
     ]
    },
    {
     "name": "stdout",
     "output_type": "stream",
     "text": [
      "712000 loss:0.19285\n",
      "elapsed_time: 41.22s\n",
      "712995 loss:0.88188"
     ]
    },
    {
     "name": "stderr",
     "output_type": "stream",
     "text": [
      "INFO:absl: \n",
      "\t\t NumberOfEpisodes = 6325\n",
      "\t\t EnvironmentSteps = 2942156\n",
      "\t\t AverageReturn = 157.60000610351562\n",
      "\t\t AverageEpisodeLength = 678.7999877929688\n"
     ]
    },
    {
     "name": "stdout",
     "output_type": "stream",
     "text": [
      "713000 loss:0.59384\n",
      "elapsed_time: 41.29s\n",
      "713996 loss:0.33615"
     ]
    },
    {
     "name": "stderr",
     "output_type": "stream",
     "text": [
      "INFO:absl: \n",
      "\t\t NumberOfEpisodes = 6331\n",
      "\t\t EnvironmentSteps = 2946156\n",
      "\t\t AverageReturn = 160.10000610351562\n",
      "\t\t AverageEpisodeLength = 678.2000122070312\n"
     ]
    },
    {
     "name": "stdout",
     "output_type": "stream",
     "text": [
      "714000 loss:0.44303\n",
      "elapsed_time: 41.60s\n",
      "714998 loss:0.38719"
     ]
    },
    {
     "name": "stderr",
     "output_type": "stream",
     "text": [
      "INFO:absl: \n",
      "\t\t NumberOfEpisodes = 6338\n",
      "\t\t EnvironmentSteps = 2950156\n",
      "\t\t AverageReturn = 138.10000610351562\n",
      "\t\t AverageEpisodeLength = 635.0999755859375\n"
     ]
    },
    {
     "name": "stdout",
     "output_type": "stream",
     "text": [
      "715000 loss:0.52394\n",
      "elapsed_time: 41.30s\n",
      "715995 loss:0.27299"
     ]
    },
    {
     "name": "stderr",
     "output_type": "stream",
     "text": [
      "INFO:absl: \n",
      "\t\t NumberOfEpisodes = 6343\n",
      "\t\t EnvironmentSteps = 2954156\n",
      "\t\t AverageReturn = 123.5\n",
      "\t\t AverageEpisodeLength = 596.5999755859375\n"
     ]
    },
    {
     "name": "stdout",
     "output_type": "stream",
     "text": [
      "716000 loss:0.27799\n",
      "elapsed_time: 41.21s\n",
      "716995 loss:0.36780"
     ]
    },
    {
     "name": "stderr",
     "output_type": "stream",
     "text": [
      "INFO:absl: \n",
      "\t\t NumberOfEpisodes = 6351\n",
      "\t\t EnvironmentSteps = 2958156\n",
      "\t\t AverageReturn = 106.0999984741211\n",
      "\t\t AverageEpisodeLength = 576.2999877929688\n"
     ]
    },
    {
     "name": "stdout",
     "output_type": "stream",
     "text": [
      "717000 loss:0.28447\n",
      "elapsed_time: 41.24s\n",
      "717997 loss:0.73509"
     ]
    },
    {
     "name": "stderr",
     "output_type": "stream",
     "text": [
      "INFO:absl: \n",
      "\t\t NumberOfEpisodes = 6356\n",
      "\t\t EnvironmentSteps = 2962156\n",
      "\t\t AverageReturn = 123.9000015258789\n",
      "\t\t AverageEpisodeLength = 616.7000122070312\n"
     ]
    },
    {
     "name": "stdout",
     "output_type": "stream",
     "text": [
      "718000 loss:0.42319\n",
      "elapsed_time: 41.22s\n",
      "718997 loss:0.39226"
     ]
    },
    {
     "name": "stderr",
     "output_type": "stream",
     "text": [
      "INFO:absl: \n",
      "\t\t NumberOfEpisodes = 6361\n",
      "\t\t EnvironmentSteps = 2966156\n",
      "\t\t AverageReturn = 207.1999969482422\n",
      "\t\t AverageEpisodeLength = 772.2999877929688\n"
     ]
    },
    {
     "name": "stdout",
     "output_type": "stream",
     "text": [
      "719000 loss:0.28232\n",
      "elapsed_time: 41.24s\n",
      "719995 loss:0.58102"
     ]
    },
    {
     "name": "stderr",
     "output_type": "stream",
     "text": [
      "INFO:absl: \n",
      "\t\t NumberOfEpisodes = 6368\n",
      "\t\t EnvironmentSteps = 2970156\n",
      "\t\t AverageReturn = 159.0\n",
      "\t\t AverageEpisodeLength = 664.4000244140625\n"
     ]
    },
    {
     "name": "stdout",
     "output_type": "stream",
     "text": [
      "720000 loss:0.35137\n",
      "elapsed_time: 41.25s\n",
      "720998 loss:0.41027"
     ]
    },
    {
     "name": "stderr",
     "output_type": "stream",
     "text": [
      "INFO:absl: \n",
      "\t\t NumberOfEpisodes = 6375\n",
      "\t\t EnvironmentSteps = 2974156\n",
      "\t\t AverageReturn = 103.19999694824219\n",
      "\t\t AverageEpisodeLength = 559.5\n"
     ]
    },
    {
     "name": "stdout",
     "output_type": "stream",
     "text": [
      "721000 loss:0.40413\n",
      "elapsed_time: 41.30s\n",
      "721998 loss:0.64502"
     ]
    },
    {
     "name": "stderr",
     "output_type": "stream",
     "text": [
      "INFO:absl: \n",
      "\t\t NumberOfEpisodes = 6381\n",
      "\t\t EnvironmentSteps = 2978156\n",
      "\t\t AverageReturn = 77.19999694824219\n",
      "\t\t AverageEpisodeLength = 544.2000122070312\n"
     ]
    },
    {
     "name": "stdout",
     "output_type": "stream",
     "text": [
      "722000 loss:0.17967\n",
      "elapsed_time: 41.22s\n",
      "722999 loss:0.33322"
     ]
    },
    {
     "name": "stderr",
     "output_type": "stream",
     "text": [
      "INFO:absl: \n",
      "\t\t NumberOfEpisodes = 6388\n",
      "\t\t EnvironmentSteps = 2982156\n",
      "\t\t AverageReturn = 142.10000610351562\n",
      "\t\t AverageEpisodeLength = 649.5999755859375\n"
     ]
    },
    {
     "name": "stdout",
     "output_type": "stream",
     "text": [
      "723000 loss:0.56601\n",
      "elapsed_time: 41.24s\n",
      "723999 loss:0.31339"
     ]
    },
    {
     "name": "stderr",
     "output_type": "stream",
     "text": [
      "INFO:absl: \n",
      "\t\t NumberOfEpisodes = 6393\n",
      "\t\t EnvironmentSteps = 2986156\n",
      "\t\t AverageReturn = 187.60000610351562\n",
      "\t\t AverageEpisodeLength = 745.7999877929688\n"
     ]
    },
    {
     "name": "stdout",
     "output_type": "stream",
     "text": [
      "724000 loss:0.34158\n",
      "elapsed_time: 41.26s\n",
      "724995 loss:0.46037"
     ]
    },
    {
     "name": "stderr",
     "output_type": "stream",
     "text": [
      "INFO:absl: \n",
      "\t\t NumberOfEpisodes = 6399\n",
      "\t\t EnvironmentSteps = 2990156\n",
      "\t\t AverageReturn = 164.8000030517578\n",
      "\t\t AverageEpisodeLength = 692.4000244140625\n"
     ]
    },
    {
     "name": "stdout",
     "output_type": "stream",
     "text": [
      "725000 loss:0.36022\n",
      "elapsed_time: 41.25s\n",
      "725995 loss:0.53704"
     ]
    },
    {
     "name": "stderr",
     "output_type": "stream",
     "text": [
      "INFO:absl: \n",
      "\t\t NumberOfEpisodes = 6406\n",
      "\t\t EnvironmentSteps = 2994156\n",
      "\t\t AverageReturn = 101.5\n",
      "\t\t AverageEpisodeLength = 558.7000122070312\n"
     ]
    },
    {
     "name": "stdout",
     "output_type": "stream",
     "text": [
      "726000 loss:0.32139\n",
      "elapsed_time: 41.25s\n",
      "726996 loss:0.43343"
     ]
    },
    {
     "name": "stderr",
     "output_type": "stream",
     "text": [
      "INFO:absl: \n",
      "\t\t NumberOfEpisodes = 6412\n",
      "\t\t EnvironmentSteps = 2998156\n",
      "\t\t AverageReturn = 153.1999969482422\n",
      "\t\t AverageEpisodeLength = 632.9000244140625\n"
     ]
    },
    {
     "name": "stdout",
     "output_type": "stream",
     "text": [
      "727000 loss:0.54633\n",
      "elapsed_time: 41.26s\n",
      "727996 loss:0.72750"
     ]
    },
    {
     "name": "stderr",
     "output_type": "stream",
     "text": [
      "INFO:absl: \n",
      "\t\t NumberOfEpisodes = 6417\n",
      "\t\t EnvironmentSteps = 3002156\n",
      "\t\t AverageReturn = 207.89999389648438\n",
      "\t\t AverageEpisodeLength = 755.2999877929688\n"
     ]
    },
    {
     "name": "stdout",
     "output_type": "stream",
     "text": [
      "728000 loss:0.18847\n",
      "elapsed_time: 41.25s\n",
      "728996 loss:0.46884"
     ]
    },
    {
     "name": "stderr",
     "output_type": "stream",
     "text": [
      "INFO:absl: \n",
      "\t\t NumberOfEpisodes = 6425\n",
      "\t\t EnvironmentSteps = 3006156\n",
      "\t\t AverageReturn = 127.0\n",
      "\t\t AverageEpisodeLength = 608.0999755859375\n"
     ]
    },
    {
     "name": "stdout",
     "output_type": "stream",
     "text": [
      "729000 loss:0.32762\n",
      "elapsed_time: 41.27s\n",
      "729998 loss:0.25403"
     ]
    },
    {
     "name": "stderr",
     "output_type": "stream",
     "text": [
      "INFO:absl: \n",
      "\t\t NumberOfEpisodes = 6434\n",
      "\t\t EnvironmentSteps = 3010156\n",
      "\t\t AverageReturn = 41.400001525878906\n",
      "\t\t AverageEpisodeLength = 441.20001220703125\n"
     ]
    },
    {
     "name": "stdout",
     "output_type": "stream",
     "text": [
      "730000 loss:0.22735\n",
      "elapsed_time: 41.30s\n",
      "730998 loss:0.46510"
     ]
    },
    {
     "name": "stderr",
     "output_type": "stream",
     "text": [
      "INFO:absl: \n",
      "\t\t NumberOfEpisodes = 6442\n",
      "\t\t EnvironmentSteps = 3014156\n",
      "\t\t AverageReturn = 58.5\n",
      "\t\t AverageEpisodeLength = 509.8999938964844\n"
     ]
    },
    {
     "name": "stdout",
     "output_type": "stream",
     "text": [
      "731000 loss:0.58329\n",
      "elapsed_time: 41.25s\n",
      "731999 loss:0.31183"
     ]
    },
    {
     "name": "stderr",
     "output_type": "stream",
     "text": [
      "INFO:absl: \n",
      "\t\t NumberOfEpisodes = 6449\n",
      "\t\t EnvironmentSteps = 3018156\n",
      "\t\t AverageReturn = 105.5999984741211\n",
      "\t\t AverageEpisodeLength = 580.0\n"
     ]
    },
    {
     "name": "stdout",
     "output_type": "stream",
     "text": [
      "732000 loss:0.29281\n",
      "elapsed_time: 41.24s\n",
      "732999 loss:0.50546"
     ]
    },
    {
     "name": "stderr",
     "output_type": "stream",
     "text": [
      "INFO:absl: \n",
      "\t\t NumberOfEpisodes = 6456\n",
      "\t\t EnvironmentSteps = 3022156\n",
      "\t\t AverageReturn = 106.0999984741211\n",
      "\t\t AverageEpisodeLength = 578.0999755859375\n"
     ]
    },
    {
     "name": "stdout",
     "output_type": "stream",
     "text": [
      "733000 loss:0.43406\n",
      "elapsed_time: 41.32s\n",
      "733999 loss:0.85458"
     ]
    },
    {
     "name": "stderr",
     "output_type": "stream",
     "text": [
      "INFO:absl: \n",
      "\t\t NumberOfEpisodes = 6462\n",
      "\t\t EnvironmentSteps = 3026156\n",
      "\t\t AverageReturn = 84.0999984741211\n",
      "\t\t AverageEpisodeLength = 552.0\n"
     ]
    },
    {
     "name": "stdout",
     "output_type": "stream",
     "text": [
      "734000 loss:0.27883\n",
      "elapsed_time: 41.28s\n",
      "734995 loss:0.53186"
     ]
    },
    {
     "name": "stderr",
     "output_type": "stream",
     "text": [
      "INFO:absl: \n",
      "\t\t NumberOfEpisodes = 6470\n",
      "\t\t EnvironmentSteps = 3030156\n",
      "\t\t AverageReturn = 119.9000015258789\n",
      "\t\t AverageEpisodeLength = 582.7000122070312\n"
     ]
    },
    {
     "name": "stdout",
     "output_type": "stream",
     "text": [
      "735000 loss:0.58998\n",
      "elapsed_time: 41.32s\n",
      "735996 loss:0.19844"
     ]
    },
    {
     "name": "stderr",
     "output_type": "stream",
     "text": [
      "INFO:absl: \n",
      "\t\t NumberOfEpisodes = 6478\n",
      "\t\t EnvironmentSteps = 3034156\n",
      "\t\t AverageReturn = 75.5999984741211\n",
      "\t\t AverageEpisodeLength = 480.8999938964844\n"
     ]
    },
    {
     "name": "stdout",
     "output_type": "stream",
     "text": [
      "736000 loss:0.41502\n",
      "elapsed_time: 41.33s\n",
      "736998 loss:0.53717"
     ]
    },
    {
     "name": "stderr",
     "output_type": "stream",
     "text": [
      "INFO:absl: \n",
      "\t\t NumberOfEpisodes = 6484\n",
      "\t\t EnvironmentSteps = 3038156\n",
      "\t\t AverageReturn = 126.69999694824219\n",
      "\t\t AverageEpisodeLength = 587.2000122070312\n"
     ]
    },
    {
     "name": "stdout",
     "output_type": "stream",
     "text": [
      "737000 loss:0.39368\n",
      "elapsed_time: 41.26s\n",
      "737998 loss:0.45484"
     ]
    },
    {
     "name": "stderr",
     "output_type": "stream",
     "text": [
      "INFO:absl: \n",
      "\t\t NumberOfEpisodes = 6491\n",
      "\t\t EnvironmentSteps = 3042156\n",
      "\t\t AverageReturn = 102.0\n",
      "\t\t AverageEpisodeLength = 585.5999755859375\n"
     ]
    },
    {
     "name": "stdout",
     "output_type": "stream",
     "text": [
      "738000 loss:0.44464\n",
      "elapsed_time: 41.30s\n",
      "738998 loss:0.51462"
     ]
    },
    {
     "name": "stderr",
     "output_type": "stream",
     "text": [
      "INFO:absl: \n",
      "\t\t NumberOfEpisodes = 6499\n",
      "\t\t EnvironmentSteps = 3046156\n",
      "\t\t AverageReturn = 73.80000305175781\n",
      "\t\t AverageEpisodeLength = 503.20001220703125\n"
     ]
    },
    {
     "name": "stdout",
     "output_type": "stream",
     "text": [
      "739000 loss:0.31859\n",
      "elapsed_time: 41.33s\n",
      "739998 loss:0.38634"
     ]
    },
    {
     "name": "stderr",
     "output_type": "stream",
     "text": [
      "INFO:absl: \n",
      "\t\t NumberOfEpisodes = 6507\n",
      "\t\t EnvironmentSteps = 3050156\n",
      "\t\t AverageReturn = 88.19999694824219\n",
      "\t\t AverageEpisodeLength = 519.7999877929688\n"
     ]
    },
    {
     "name": "stdout",
     "output_type": "stream",
     "text": [
      "740000 loss:0.42215\n",
      "elapsed_time: 41.27s\n",
      "740998 loss:1.24613"
     ]
    },
    {
     "name": "stderr",
     "output_type": "stream",
     "text": [
      "INFO:absl: \n",
      "\t\t NumberOfEpisodes = 6513\n",
      "\t\t EnvironmentSteps = 3054156\n",
      "\t\t AverageReturn = 144.60000610351562\n",
      "\t\t AverageEpisodeLength = 628.0999755859375\n"
     ]
    },
    {
     "name": "stdout",
     "output_type": "stream",
     "text": [
      "741000 loss:0.30284\n",
      "elapsed_time: 41.25s\n",
      "741998 loss:0.46989"
     ]
    },
    {
     "name": "stderr",
     "output_type": "stream",
     "text": [
      "INFO:absl: \n",
      "\t\t NumberOfEpisodes = 6519\n",
      "\t\t EnvironmentSteps = 3058156\n",
      "\t\t AverageReturn = 114.80000305175781\n",
      "\t\t AverageEpisodeLength = 593.4000244140625\n"
     ]
    },
    {
     "name": "stdout",
     "output_type": "stream",
     "text": [
      "742000 loss:0.36343\n",
      "elapsed_time: 41.26s\n",
      "742998 loss:0.42762"
     ]
    },
    {
     "name": "stderr",
     "output_type": "stream",
     "text": [
      "INFO:absl: \n",
      "\t\t NumberOfEpisodes = 6526\n",
      "\t\t EnvironmentSteps = 3062156\n",
      "\t\t AverageReturn = 116.9000015258789\n",
      "\t\t AverageEpisodeLength = 620.0999755859375\n"
     ]
    },
    {
     "name": "stdout",
     "output_type": "stream",
     "text": [
      "743000 loss:0.44745\n",
      "elapsed_time: 41.21s\n",
      "743999 loss:0.52237"
     ]
    },
    {
     "name": "stderr",
     "output_type": "stream",
     "text": [
      "INFO:absl: \n",
      "\t\t NumberOfEpisodes = 6531\n",
      "\t\t EnvironmentSteps = 3066156\n",
      "\t\t AverageReturn = 158.8000030517578\n",
      "\t\t AverageEpisodeLength = 705.4000244140625\n"
     ]
    },
    {
     "name": "stdout",
     "output_type": "stream",
     "text": [
      "744000 loss:0.28108\n",
      "elapsed_time: 41.25s\n",
      "744995 loss:0.37609"
     ]
    },
    {
     "name": "stderr",
     "output_type": "stream",
     "text": [
      "INFO:absl: \n",
      "\t\t NumberOfEpisodes = 6535\n",
      "\t\t EnvironmentSteps = 3070156\n",
      "\t\t AverageReturn = 225.1999969482422\n",
      "\t\t AverageEpisodeLength = 805.2000122070312\n"
     ]
    },
    {
     "name": "stdout",
     "output_type": "stream",
     "text": [
      "745000 loss:0.65045\n",
      "elapsed_time: 41.28s\n",
      "745996 loss:0.32387"
     ]
    },
    {
     "name": "stderr",
     "output_type": "stream",
     "text": [
      "INFO:absl: \n",
      "\t\t NumberOfEpisodes = 6540\n",
      "\t\t EnvironmentSteps = 3074156\n",
      "\t\t AverageReturn = 242.89999389648438\n",
      "\t\t AverageEpisodeLength = 823.4000244140625\n"
     ]
    },
    {
     "name": "stdout",
     "output_type": "stream",
     "text": [
      "746000 loss:0.37630\n",
      "elapsed_time: 41.24s\n",
      "746997 loss:0.99429"
     ]
    },
    {
     "name": "stderr",
     "output_type": "stream",
     "text": [
      "INFO:absl: \n",
      "\t\t NumberOfEpisodes = 6546\n",
      "\t\t EnvironmentSteps = 3078156\n",
      "\t\t AverageReturn = 199.6999969482422\n",
      "\t\t AverageEpisodeLength = 741.5999755859375\n"
     ]
    },
    {
     "name": "stdout",
     "output_type": "stream",
     "text": [
      "747000 loss:0.27393\n",
      "elapsed_time: 41.31s\n",
      "747998 loss:0.29449"
     ]
    },
    {
     "name": "stderr",
     "output_type": "stream",
     "text": [
      "INFO:absl: \n",
      "\t\t NumberOfEpisodes = 6552\n",
      "\t\t EnvironmentSteps = 3082156\n",
      "\t\t AverageReturn = 169.3000030517578\n",
      "\t\t AverageEpisodeLength = 690.2000122070312\n"
     ]
    },
    {
     "name": "stdout",
     "output_type": "stream",
     "text": [
      "748000 loss:0.20552\n",
      "elapsed_time: 41.26s\n",
      "748995 loss:0.24976"
     ]
    },
    {
     "name": "stderr",
     "output_type": "stream",
     "text": [
      "INFO:absl: \n",
      "\t\t NumberOfEpisodes = 6557\n",
      "\t\t EnvironmentSteps = 3086156\n",
      "\t\t AverageReturn = 203.3000030517578\n",
      "\t\t AverageEpisodeLength = 758.0\n"
     ]
    },
    {
     "name": "stdout",
     "output_type": "stream",
     "text": [
      "749000 loss:0.35977\n",
      "elapsed_time: 41.19s\n",
      "749997 loss:0.38133"
     ]
    },
    {
     "name": "stderr",
     "output_type": "stream",
     "text": [
      "INFO:absl: \n",
      "\t\t NumberOfEpisodes = 6562\n",
      "\t\t EnvironmentSteps = 3090156\n",
      "\t\t AverageReturn = 207.39999389648438\n",
      "\t\t AverageEpisodeLength = 774.4000244140625\n"
     ]
    },
    {
     "name": "stdout",
     "output_type": "stream",
     "text": [
      "750000 loss:0.27396\n",
      "elapsed_time: 41.29s\n",
      "750999 loss:0.46613"
     ]
    },
    {
     "name": "stderr",
     "output_type": "stream",
     "text": [
      "INFO:absl: \n",
      "\t\t NumberOfEpisodes = 6569\n",
      "\t\t EnvironmentSteps = 3094156\n",
      "\t\t AverageReturn = 158.39999389648438\n",
      "\t\t AverageEpisodeLength = 678.9000244140625\n"
     ]
    },
    {
     "name": "stdout",
     "output_type": "stream",
     "text": [
      "751000 loss:0.34920\n",
      "elapsed_time: 41.24s\n",
      "751999 loss:0.69121"
     ]
    },
    {
     "name": "stderr",
     "output_type": "stream",
     "text": [
      "INFO:absl: \n",
      "\t\t NumberOfEpisodes = 6576\n",
      "\t\t EnvironmentSteps = 3098156\n",
      "\t\t AverageReturn = 87.80000305175781\n",
      "\t\t AverageEpisodeLength = 513.5999755859375\n"
     ]
    },
    {
     "name": "stdout",
     "output_type": "stream",
     "text": [
      "752000 loss:0.73254\n",
      "elapsed_time: 41.28s\n",
      "752998 loss:0.44612"
     ]
    },
    {
     "name": "stderr",
     "output_type": "stream",
     "text": [
      "INFO:absl: \n",
      "\t\t NumberOfEpisodes = 6583\n",
      "\t\t EnvironmentSteps = 3102156\n",
      "\t\t AverageReturn = 102.5\n",
      "\t\t AverageEpisodeLength = 557.4000244140625\n"
     ]
    },
    {
     "name": "stdout",
     "output_type": "stream",
     "text": [
      "753000 loss:0.49273\n",
      "elapsed_time: 41.30s\n",
      "753999 loss:0.46291"
     ]
    },
    {
     "name": "stderr",
     "output_type": "stream",
     "text": [
      "INFO:absl: \n",
      "\t\t NumberOfEpisodes = 6588\n",
      "\t\t EnvironmentSteps = 3106156\n",
      "\t\t AverageReturn = 164.39999389648438\n",
      "\t\t AverageEpisodeLength = 691.5999755859375\n"
     ]
    },
    {
     "name": "stdout",
     "output_type": "stream",
     "text": [
      "754000 loss:0.38640\n",
      "elapsed_time: 41.24s\n",
      "754999 loss:0.41535"
     ]
    },
    {
     "name": "stderr",
     "output_type": "stream",
     "text": [
      "INFO:absl: \n",
      "\t\t NumberOfEpisodes = 6594\n",
      "\t\t EnvironmentSteps = 3110156\n",
      "\t\t AverageReturn = 209.60000610351562\n",
      "\t\t AverageEpisodeLength = 760.7999877929688\n"
     ]
    },
    {
     "name": "stdout",
     "output_type": "stream",
     "text": [
      "755000 loss:0.22674\n",
      "elapsed_time: 41.23s\n",
      "755995 loss:0.54732"
     ]
    },
    {
     "name": "stderr",
     "output_type": "stream",
     "text": [
      "INFO:absl: \n",
      "\t\t NumberOfEpisodes = 6599\n",
      "\t\t EnvironmentSteps = 3114156\n",
      "\t\t AverageReturn = 185.89999389648438\n",
      "\t\t AverageEpisodeLength = 727.7999877929688\n"
     ]
    },
    {
     "name": "stdout",
     "output_type": "stream",
     "text": [
      "756000 loss:0.23407\n",
      "elapsed_time: 41.21s\n",
      "756995 loss:0.40397"
     ]
    },
    {
     "name": "stderr",
     "output_type": "stream",
     "text": [
      "INFO:absl: \n",
      "\t\t NumberOfEpisodes = 6606\n",
      "\t\t EnvironmentSteps = 3118156\n",
      "\t\t AverageReturn = 151.8000030517578\n",
      "\t\t AverageEpisodeLength = 653.0\n"
     ]
    },
    {
     "name": "stdout",
     "output_type": "stream",
     "text": [
      "757000 loss:0.40072\n",
      "elapsed_time: 41.24s\n",
      "757997 loss:0.31461"
     ]
    },
    {
     "name": "stderr",
     "output_type": "stream",
     "text": [
      "INFO:absl: \n",
      "\t\t NumberOfEpisodes = 6612\n",
      "\t\t EnvironmentSteps = 3122156\n",
      "\t\t AverageReturn = 135.10000610351562\n",
      "\t\t AverageEpisodeLength = 615.4000244140625\n"
     ]
    },
    {
     "name": "stdout",
     "output_type": "stream",
     "text": [
      "758000 loss:0.40074\n",
      "elapsed_time: 41.23s\n",
      "758997 loss:0.40723"
     ]
    },
    {
     "name": "stderr",
     "output_type": "stream",
     "text": [
      "INFO:absl: \n",
      "\t\t NumberOfEpisodes = 6618\n",
      "\t\t EnvironmentSteps = 3126156\n",
      "\t\t AverageReturn = 163.60000610351562\n",
      "\t\t AverageEpisodeLength = 687.2999877929688\n"
     ]
    },
    {
     "name": "stdout",
     "output_type": "stream",
     "text": [
      "759000 loss:0.22888\n",
      "elapsed_time: 41.27s\n",
      "759997 loss:0.17637"
     ]
    },
    {
     "name": "stderr",
     "output_type": "stream",
     "text": [
      "INFO:absl: \n",
      "\t\t NumberOfEpisodes = 6624\n",
      "\t\t EnvironmentSteps = 3130156\n",
      "\t\t AverageReturn = 189.0\n",
      "\t\t AverageEpisodeLength = 727.2000122070312\n"
     ]
    },
    {
     "name": "stdout",
     "output_type": "stream",
     "text": [
      "760000 loss:0.30636\n",
      "elapsed_time: 41.25s\n",
      "760997 loss:0.82048"
     ]
    },
    {
     "name": "stderr",
     "output_type": "stream",
     "text": [
      "INFO:absl: \n",
      "\t\t NumberOfEpisodes = 6629\n",
      "\t\t EnvironmentSteps = 3134156\n",
      "\t\t AverageReturn = 195.0\n",
      "\t\t AverageEpisodeLength = 731.7999877929688\n"
     ]
    },
    {
     "name": "stdout",
     "output_type": "stream",
     "text": [
      "761000 loss:0.31486\n",
      "elapsed_time: 41.21s\n",
      "761998 loss:0.41454"
     ]
    },
    {
     "name": "stderr",
     "output_type": "stream",
     "text": [
      "INFO:absl: \n",
      "\t\t NumberOfEpisodes = 6635\n",
      "\t\t EnvironmentSteps = 3138156\n",
      "\t\t AverageReturn = 161.6999969482422\n",
      "\t\t AverageEpisodeLength = 697.9000244140625\n"
     ]
    },
    {
     "name": "stdout",
     "output_type": "stream",
     "text": [
      "762000 loss:0.29195\n",
      "elapsed_time: 41.25s\n",
      "762998 loss:0.43923"
     ]
    },
    {
     "name": "stderr",
     "output_type": "stream",
     "text": [
      "INFO:absl: \n",
      "\t\t NumberOfEpisodes = 6639\n",
      "\t\t EnvironmentSteps = 3142156\n",
      "\t\t AverageReturn = 187.10000610351562\n",
      "\t\t AverageEpisodeLength = 752.7999877929688\n"
     ]
    },
    {
     "name": "stdout",
     "output_type": "stream",
     "text": [
      "763000 loss:0.40767\n",
      "elapsed_time: 41.19s\n",
      "763998 loss:0.26145"
     ]
    },
    {
     "name": "stderr",
     "output_type": "stream",
     "text": [
      "INFO:absl: \n",
      "\t\t NumberOfEpisodes = 6645\n",
      "\t\t EnvironmentSteps = 3146156\n",
      "\t\t AverageReturn = 228.0\n",
      "\t\t AverageEpisodeLength = 824.7999877929688\n"
     ]
    },
    {
     "name": "stdout",
     "output_type": "stream",
     "text": [
      "764000 loss:0.33080\n",
      "elapsed_time: 41.23s\n",
      "764996 loss:0.20571"
     ]
    },
    {
     "name": "stderr",
     "output_type": "stream",
     "text": [
      "INFO:absl: \n",
      "\t\t NumberOfEpisodes = 6650\n",
      "\t\t EnvironmentSteps = 3150156\n",
      "\t\t AverageReturn = 171.0\n",
      "\t\t AverageEpisodeLength = 714.5999755859375\n"
     ]
    },
    {
     "name": "stdout",
     "output_type": "stream",
     "text": [
      "765000 loss:0.33921\n",
      "elapsed_time: 41.28s\n",
      "765996 loss:0.38744"
     ]
    },
    {
     "name": "stderr",
     "output_type": "stream",
     "text": [
      "INFO:absl: \n",
      "\t\t NumberOfEpisodes = 6654\n",
      "\t\t EnvironmentSteps = 3154156\n",
      "\t\t AverageReturn = 211.8000030517578\n",
      "\t\t AverageEpisodeLength = 778.0\n"
     ]
    },
    {
     "name": "stdout",
     "output_type": "stream",
     "text": [
      "766000 loss:0.33766\n",
      "elapsed_time: 41.16s\n",
      "766996 loss:0.40534"
     ]
    },
    {
     "name": "stderr",
     "output_type": "stream",
     "text": [
      "INFO:absl: \n",
      "\t\t NumberOfEpisodes = 6659\n",
      "\t\t EnvironmentSteps = 3158156\n",
      "\t\t AverageReturn = 274.5\n",
      "\t\t AverageEpisodeLength = 891.7999877929688\n"
     ]
    },
    {
     "name": "stdout",
     "output_type": "stream",
     "text": [
      "767000 loss:0.16826\n",
      "elapsed_time: 41.21s\n",
      "767997 loss:0.27590"
     ]
    },
    {
     "name": "stderr",
     "output_type": "stream",
     "text": [
      "INFO:absl: \n",
      "\t\t NumberOfEpisodes = 6665\n",
      "\t\t EnvironmentSteps = 3162156\n",
      "\t\t AverageReturn = 185.1999969482422\n",
      "\t\t AverageEpisodeLength = 722.2000122070312\n"
     ]
    },
    {
     "name": "stdout",
     "output_type": "stream",
     "text": [
      "768000 loss:0.28094\n",
      "elapsed_time: 41.25s\n",
      "768997 loss:0.39578"
     ]
    },
    {
     "name": "stderr",
     "output_type": "stream",
     "text": [
      "INFO:absl: \n",
      "\t\t NumberOfEpisodes = 6672\n",
      "\t\t EnvironmentSteps = 3166156\n",
      "\t\t AverageReturn = 118.4000015258789\n",
      "\t\t AverageEpisodeLength = 590.2999877929688\n"
     ]
    },
    {
     "name": "stdout",
     "output_type": "stream",
     "text": [
      "769000 loss:0.54908\n",
      "elapsed_time: 41.22s\n",
      "769998 loss:0.46225"
     ]
    },
    {
     "name": "stderr",
     "output_type": "stream",
     "text": [
      "INFO:absl: \n",
      "\t\t NumberOfEpisodes = 6678\n",
      "\t\t EnvironmentSteps = 3170156\n",
      "\t\t AverageReturn = 100.5\n",
      "\t\t AverageEpisodeLength = 577.0999755859375\n"
     ]
    },
    {
     "name": "stdout",
     "output_type": "stream",
     "text": [
      "770000 loss:0.22536\n",
      "elapsed_time: 41.23s\n",
      "770998 loss:0.80442"
     ]
    },
    {
     "name": "stderr",
     "output_type": "stream",
     "text": [
      "INFO:absl: \n",
      "\t\t NumberOfEpisodes = 6685\n",
      "\t\t EnvironmentSteps = 3174156\n",
      "\t\t AverageReturn = 99.19999694824219\n",
      "\t\t AverageEpisodeLength = 605.5999755859375\n"
     ]
    },
    {
     "name": "stdout",
     "output_type": "stream",
     "text": [
      "771000 loss:0.24981\n",
      "elapsed_time: 41.30s\n",
      "771998 loss:0.22021"
     ]
    },
    {
     "name": "stderr",
     "output_type": "stream",
     "text": [
      "INFO:absl: \n",
      "\t\t NumberOfEpisodes = 6693\n",
      "\t\t EnvironmentSteps = 3178156\n",
      "\t\t AverageReturn = 85.5\n",
      "\t\t AverageEpisodeLength = 526.9000244140625\n"
     ]
    },
    {
     "name": "stdout",
     "output_type": "stream",
     "text": [
      "772000 loss:0.31000\n",
      "elapsed_time: 41.29s\n",
      "772998 loss:0.33558"
     ]
    },
    {
     "name": "stderr",
     "output_type": "stream",
     "text": [
      "INFO:absl: \n",
      "\t\t NumberOfEpisodes = 6698\n",
      "\t\t EnvironmentSteps = 3182156\n",
      "\t\t AverageReturn = 125.80000305175781\n",
      "\t\t AverageEpisodeLength = 629.0999755859375\n"
     ]
    },
    {
     "name": "stdout",
     "output_type": "stream",
     "text": [
      "773000 loss:0.68633\n",
      "elapsed_time: 41.26s\n",
      "773998 loss:0.63322"
     ]
    },
    {
     "name": "stderr",
     "output_type": "stream",
     "text": [
      "INFO:absl: \n",
      "\t\t NumberOfEpisodes = 6703\n",
      "\t\t EnvironmentSteps = 3186156\n",
      "\t\t AverageReturn = 197.8000030517578\n",
      "\t\t AverageEpisodeLength = 765.2000122070312\n"
     ]
    },
    {
     "name": "stdout",
     "output_type": "stream",
     "text": [
      "774000 loss:0.09963\n",
      "elapsed_time: 41.31s\n",
      "774998 loss:0.52400"
     ]
    },
    {
     "name": "stderr",
     "output_type": "stream",
     "text": [
      "INFO:absl: \n",
      "\t\t NumberOfEpisodes = 6711\n",
      "\t\t EnvironmentSteps = 3190156\n",
      "\t\t AverageReturn = 111.5999984741211\n",
      "\t\t AverageEpisodeLength = 581.0999755859375\n"
     ]
    },
    {
     "name": "stdout",
     "output_type": "stream",
     "text": [
      "775000 loss:0.31963\n",
      "elapsed_time: 41.30s\n",
      "775999 loss:0.26885"
     ]
    },
    {
     "name": "stderr",
     "output_type": "stream",
     "text": [
      "INFO:absl: \n",
      "\t\t NumberOfEpisodes = 6717\n",
      "\t\t EnvironmentSteps = 3194156\n",
      "\t\t AverageReturn = 109.9000015258789\n",
      "\t\t AverageEpisodeLength = 542.0999755859375\n"
     ]
    },
    {
     "name": "stdout",
     "output_type": "stream",
     "text": [
      "776000 loss:0.61798\n",
      "elapsed_time: 41.26s\n",
      "776995 loss:0.41812"
     ]
    },
    {
     "name": "stderr",
     "output_type": "stream",
     "text": [
      "INFO:absl: \n",
      "\t\t NumberOfEpisodes = 6723\n",
      "\t\t EnvironmentSteps = 3198156\n",
      "\t\t AverageReturn = 152.89999389648438\n",
      "\t\t AverageEpisodeLength = 673.2999877929688\n"
     ]
    },
    {
     "name": "stdout",
     "output_type": "stream",
     "text": [
      "777000 loss:0.30938\n",
      "elapsed_time: 41.29s\n",
      "777996 loss:0.25944"
     ]
    },
    {
     "name": "stderr",
     "output_type": "stream",
     "text": [
      "INFO:absl: \n",
      "\t\t NumberOfEpisodes = 6728\n",
      "\t\t EnvironmentSteps = 3202156\n",
      "\t\t AverageReturn = 192.0\n",
      "\t\t AverageEpisodeLength = 745.0999755859375\n"
     ]
    },
    {
     "name": "stdout",
     "output_type": "stream",
     "text": [
      "778000 loss:0.65771\n",
      "elapsed_time: 41.21s\n",
      "778996 loss:0.23448"
     ]
    },
    {
     "name": "stderr",
     "output_type": "stream",
     "text": [
      "INFO:absl: \n",
      "\t\t NumberOfEpisodes = 6735\n",
      "\t\t EnvironmentSteps = 3206156\n",
      "\t\t AverageReturn = 135.60000610351562\n",
      "\t\t AverageEpisodeLength = 631.4000244140625\n"
     ]
    },
    {
     "name": "stdout",
     "output_type": "stream",
     "text": [
      "779000 loss:0.34669\n",
      "elapsed_time: 41.29s\n",
      "779997 loss:0.16420"
     ]
    },
    {
     "name": "stderr",
     "output_type": "stream",
     "text": [
      "INFO:absl: \n",
      "\t\t NumberOfEpisodes = 6740\n",
      "\t\t EnvironmentSteps = 3210156\n",
      "\t\t AverageReturn = 145.89999389648438\n",
      "\t\t AverageEpisodeLength = 687.5999755859375\n"
     ]
    },
    {
     "name": "stdout",
     "output_type": "stream",
     "text": [
      "780000 loss:0.28670\n",
      "elapsed_time: 41.21s\n",
      "780998 loss:0.32999"
     ]
    },
    {
     "name": "stderr",
     "output_type": "stream",
     "text": [
      "INFO:absl: \n",
      "\t\t NumberOfEpisodes = 6747\n",
      "\t\t EnvironmentSteps = 3214156\n",
      "\t\t AverageReturn = 125.0\n",
      "\t\t AverageEpisodeLength = 639.5\n"
     ]
    },
    {
     "name": "stdout",
     "output_type": "stream",
     "text": [
      "781000 loss:0.34235\n",
      "elapsed_time: 41.22s\n",
      "781999 loss:0.24946"
     ]
    },
    {
     "name": "stderr",
     "output_type": "stream",
     "text": [
      "INFO:absl: \n",
      "\t\t NumberOfEpisodes = 6753\n",
      "\t\t EnvironmentSteps = 3218156\n",
      "\t\t AverageReturn = 136.3000030517578\n",
      "\t\t AverageEpisodeLength = 644.9000244140625\n"
     ]
    },
    {
     "name": "stdout",
     "output_type": "stream",
     "text": [
      "782000 loss:0.12251\n",
      "elapsed_time: 41.24s\n",
      "782995 loss:0.37525"
     ]
    },
    {
     "name": "stderr",
     "output_type": "stream",
     "text": [
      "INFO:absl: \n",
      "\t\t NumberOfEpisodes = 6762\n",
      "\t\t EnvironmentSteps = 3222156\n",
      "\t\t AverageReturn = 47.79999923706055\n",
      "\t\t AverageEpisodeLength = 470.29998779296875\n"
     ]
    },
    {
     "name": "stdout",
     "output_type": "stream",
     "text": [
      "783000 loss:0.60136\n",
      "elapsed_time: 41.27s\n",
      "783995 loss:0.29075"
     ]
    },
    {
     "name": "stderr",
     "output_type": "stream",
     "text": [
      "INFO:absl: \n",
      "\t\t NumberOfEpisodes = 6767\n",
      "\t\t EnvironmentSteps = 3226156\n",
      "\t\t AverageReturn = 105.69999694824219\n",
      "\t\t AverageEpisodeLength = 573.7999877929688\n"
     ]
    },
    {
     "name": "stdout",
     "output_type": "stream",
     "text": [
      "784000 loss:0.35327\n",
      "elapsed_time: 41.21s\n",
      "784995 loss:0.35444"
     ]
    },
    {
     "name": "stderr",
     "output_type": "stream",
     "text": [
      "INFO:absl: \n",
      "\t\t NumberOfEpisodes = 6773\n",
      "\t\t EnvironmentSteps = 3230156\n",
      "\t\t AverageReturn = 162.39999389648438\n",
      "\t\t AverageEpisodeLength = 691.5\n"
     ]
    },
    {
     "name": "stdout",
     "output_type": "stream",
     "text": [
      "785000 loss:0.26166\n",
      "elapsed_time: 41.26s\n",
      "785995 loss:0.19523"
     ]
    },
    {
     "name": "stderr",
     "output_type": "stream",
     "text": [
      "INFO:absl: \n",
      "\t\t NumberOfEpisodes = 6778\n",
      "\t\t EnvironmentSteps = 3234156\n",
      "\t\t AverageReturn = 183.3000030517578\n",
      "\t\t AverageEpisodeLength = 741.9000244140625\n"
     ]
    },
    {
     "name": "stdout",
     "output_type": "stream",
     "text": [
      "786000 loss:0.36466\n",
      "elapsed_time: 41.23s\n",
      "786996 loss:0.50060"
     ]
    },
    {
     "name": "stderr",
     "output_type": "stream",
     "text": [
      "INFO:absl: \n",
      "\t\t NumberOfEpisodes = 6784\n",
      "\t\t EnvironmentSteps = 3238156\n",
      "\t\t AverageReturn = 182.3000030517578\n",
      "\t\t AverageEpisodeLength = 715.7000122070312\n"
     ]
    },
    {
     "name": "stdout",
     "output_type": "stream",
     "text": [
      "787000 loss:0.40383\n",
      "elapsed_time: 41.22s\n",
      "787997 loss:0.39868"
     ]
    },
    {
     "name": "stderr",
     "output_type": "stream",
     "text": [
      "INFO:absl: \n",
      "\t\t NumberOfEpisodes = 6790\n",
      "\t\t EnvironmentSteps = 3242156\n",
      "\t\t AverageReturn = 164.3000030517578\n",
      "\t\t AverageEpisodeLength = 694.0\n"
     ]
    },
    {
     "name": "stdout",
     "output_type": "stream",
     "text": [
      "788000 loss:0.38608\n",
      "elapsed_time: 41.29s\n",
      "788999 loss:0.27291"
     ]
    },
    {
     "name": "stderr",
     "output_type": "stream",
     "text": [
      "INFO:absl: \n",
      "\t\t NumberOfEpisodes = 6796\n",
      "\t\t EnvironmentSteps = 3246156\n",
      "\t\t AverageReturn = 171.0\n",
      "\t\t AverageEpisodeLength = 692.2000122070312\n"
     ]
    },
    {
     "name": "stdout",
     "output_type": "stream",
     "text": [
      "789000 loss:0.41565\n",
      "elapsed_time: 41.22s\n",
      "789995 loss:0.23212"
     ]
    },
    {
     "name": "stderr",
     "output_type": "stream",
     "text": [
      "INFO:absl: \n",
      "\t\t NumberOfEpisodes = 6802\n",
      "\t\t EnvironmentSteps = 3250156\n",
      "\t\t AverageReturn = 179.5\n",
      "\t\t AverageEpisodeLength = 682.0\n"
     ]
    },
    {
     "name": "stdout",
     "output_type": "stream",
     "text": [
      "790000 loss:0.32025\n",
      "elapsed_time: 41.24s\n",
      "790996 loss:0.38249"
     ]
    },
    {
     "name": "stderr",
     "output_type": "stream",
     "text": [
      "INFO:absl: \n",
      "\t\t NumberOfEpisodes = 6809\n",
      "\t\t EnvironmentSteps = 3254156\n",
      "\t\t AverageReturn = 121.5\n",
      "\t\t AverageEpisodeLength = 596.5\n"
     ]
    },
    {
     "name": "stdout",
     "output_type": "stream",
     "text": [
      "791000 loss:0.27748\n",
      "elapsed_time: 41.27s\n",
      "791996 loss:0.29587"
     ]
    },
    {
     "name": "stderr",
     "output_type": "stream",
     "text": [
      "INFO:absl: \n",
      "\t\t NumberOfEpisodes = 6815\n",
      "\t\t EnvironmentSteps = 3258156\n",
      "\t\t AverageReturn = 120.0\n",
      "\t\t AverageEpisodeLength = 610.9000244140625\n"
     ]
    },
    {
     "name": "stdout",
     "output_type": "stream",
     "text": [
      "792000 loss:0.48129\n",
      "elapsed_time: 41.24s\n",
      "792996 loss:0.42000"
     ]
    },
    {
     "name": "stderr",
     "output_type": "stream",
     "text": [
      "INFO:absl: \n",
      "\t\t NumberOfEpisodes = 6820\n",
      "\t\t EnvironmentSteps = 3262156\n",
      "\t\t AverageReturn = 165.5\n",
      "\t\t AverageEpisodeLength = 688.2999877929688\n"
     ]
    },
    {
     "name": "stdout",
     "output_type": "stream",
     "text": [
      "793000 loss:0.37112\n",
      "elapsed_time: 41.20s\n",
      "793997 loss:0.35384"
     ]
    },
    {
     "name": "stderr",
     "output_type": "stream",
     "text": [
      "INFO:absl: \n",
      "\t\t NumberOfEpisodes = 6826\n",
      "\t\t EnvironmentSteps = 3266156\n",
      "\t\t AverageReturn = 150.39999389648438\n",
      "\t\t AverageEpisodeLength = 667.9000244140625\n"
     ]
    },
    {
     "name": "stdout",
     "output_type": "stream",
     "text": [
      "794000 loss:0.23323\n",
      "elapsed_time: 41.25s\n",
      "794998 loss:0.40215"
     ]
    },
    {
     "name": "stderr",
     "output_type": "stream",
     "text": [
      "INFO:absl: \n",
      "\t\t NumberOfEpisodes = 6834\n",
      "\t\t EnvironmentSteps = 3270156\n",
      "\t\t AverageReturn = 158.8000030517578\n",
      "\t\t AverageEpisodeLength = 616.5999755859375\n"
     ]
    },
    {
     "name": "stdout",
     "output_type": "stream",
     "text": [
      "795000 loss:0.34102\n",
      "elapsed_time: 41.26s\n",
      "795998 loss:0.29323"
     ]
    },
    {
     "name": "stderr",
     "output_type": "stream",
     "text": [
      "INFO:absl: \n",
      "\t\t NumberOfEpisodes = 6840\n",
      "\t\t EnvironmentSteps = 3274156\n",
      "\t\t AverageReturn = 150.89999389648438\n",
      "\t\t AverageEpisodeLength = 613.7000122070312\n"
     ]
    },
    {
     "name": "stdout",
     "output_type": "stream",
     "text": [
      "796000 loss:0.38033\n",
      "elapsed_time: 41.23s\n",
      "796995 loss:0.49285"
     ]
    },
    {
     "name": "stderr",
     "output_type": "stream",
     "text": [
      "INFO:absl: \n",
      "\t\t NumberOfEpisodes = 6848\n",
      "\t\t EnvironmentSteps = 3278156\n",
      "\t\t AverageReturn = 73.4000015258789\n",
      "\t\t AverageEpisodeLength = 542.7000122070312\n"
     ]
    },
    {
     "name": "stdout",
     "output_type": "stream",
     "text": [
      "797000 loss:0.34594\n",
      "elapsed_time: 41.31s\n",
      "797998 loss:0.23836"
     ]
    },
    {
     "name": "stderr",
     "output_type": "stream",
     "text": [
      "INFO:absl: \n",
      "\t\t NumberOfEpisodes = 6854\n",
      "\t\t EnvironmentSteps = 3282156\n",
      "\t\t AverageReturn = 112.5999984741211\n",
      "\t\t AverageEpisodeLength = 635.2999877929688\n"
     ]
    },
    {
     "name": "stdout",
     "output_type": "stream",
     "text": [
      "798000 loss:0.26060\n",
      "elapsed_time: 41.25s\n",
      "798999 loss:0.23272"
     ]
    },
    {
     "name": "stderr",
     "output_type": "stream",
     "text": [
      "INFO:absl: \n",
      "\t\t NumberOfEpisodes = 6860\n",
      "\t\t EnvironmentSteps = 3286156\n",
      "\t\t AverageReturn = 145.1999969482422\n",
      "\t\t AverageEpisodeLength = 663.4000244140625\n"
     ]
    },
    {
     "name": "stdout",
     "output_type": "stream",
     "text": [
      "799000 loss:0.43302\n",
      "elapsed_time: 41.24s\n",
      "799996 loss:0.23682"
     ]
    },
    {
     "name": "stderr",
     "output_type": "stream",
     "text": [
      "INFO:absl: \n",
      "\t\t NumberOfEpisodes = 6867\n",
      "\t\t EnvironmentSteps = 3290156\n",
      "\t\t AverageReturn = 90.19999694824219\n",
      "\t\t AverageEpisodeLength = 495.3999938964844\n"
     ]
    },
    {
     "name": "stdout",
     "output_type": "stream",
     "text": [
      "800000 loss:0.70793\n",
      "elapsed_time: 41.32s\n",
      "800996 loss:0.31438"
     ]
    },
    {
     "name": "stderr",
     "output_type": "stream",
     "text": [
      "INFO:absl: \n",
      "\t\t NumberOfEpisodes = 6874\n",
      "\t\t EnvironmentSteps = 3294156\n",
      "\t\t AverageReturn = 105.5\n",
      "\t\t AverageEpisodeLength = 530.0\n"
     ]
    },
    {
     "name": "stdout",
     "output_type": "stream",
     "text": [
      "801000 loss:0.17723\n",
      "elapsed_time: 41.23s\n",
      "801996 loss:0.38420"
     ]
    },
    {
     "name": "stderr",
     "output_type": "stream",
     "text": [
      "INFO:absl: \n",
      "\t\t NumberOfEpisodes = 6881\n",
      "\t\t EnvironmentSteps = 3298156\n",
      "\t\t AverageReturn = 106.5\n",
      "\t\t AverageEpisodeLength = 580.9000244140625\n"
     ]
    },
    {
     "name": "stdout",
     "output_type": "stream",
     "text": [
      "802000 loss:0.28969\n",
      "elapsed_time: 41.23s\n",
      "802996 loss:0.23707"
     ]
    },
    {
     "name": "stderr",
     "output_type": "stream",
     "text": [
      "INFO:absl: \n",
      "\t\t NumberOfEpisodes = 6888\n",
      "\t\t EnvironmentSteps = 3302156\n",
      "\t\t AverageReturn = 119.4000015258789\n",
      "\t\t AverageEpisodeLength = 595.4000244140625\n"
     ]
    },
    {
     "name": "stdout",
     "output_type": "stream",
     "text": [
      "803000 loss:0.54419\n",
      "elapsed_time: 41.27s\n",
      "803996 loss:0.67015"
     ]
    },
    {
     "name": "stderr",
     "output_type": "stream",
     "text": [
      "INFO:absl: \n",
      "\t\t NumberOfEpisodes = 6894\n",
      "\t\t EnvironmentSteps = 3306156\n",
      "\t\t AverageReturn = 118.0\n",
      "\t\t AverageEpisodeLength = 572.7000122070312\n"
     ]
    },
    {
     "name": "stdout",
     "output_type": "stream",
     "text": [
      "804000 loss:0.56222\n",
      "elapsed_time: 41.24s\n",
      "804996 loss:0.39096"
     ]
    },
    {
     "name": "stderr",
     "output_type": "stream",
     "text": [
      "INFO:absl: \n",
      "\t\t NumberOfEpisodes = 6900\n",
      "\t\t EnvironmentSteps = 3310156\n",
      "\t\t AverageReturn = 124.9000015258789\n",
      "\t\t AverageEpisodeLength = 596.0\n"
     ]
    },
    {
     "name": "stdout",
     "output_type": "stream",
     "text": [
      "805000 loss:0.28456\n",
      "elapsed_time: 41.25s\n",
      "805997 loss:0.23492"
     ]
    },
    {
     "name": "stderr",
     "output_type": "stream",
     "text": [
      "INFO:absl: \n",
      "\t\t NumberOfEpisodes = 6908\n",
      "\t\t EnvironmentSteps = 3314156\n",
      "\t\t AverageReturn = 109.9000015258789\n",
      "\t\t AverageEpisodeLength = 574.7999877929688\n"
     ]
    },
    {
     "name": "stdout",
     "output_type": "stream",
     "text": [
      "806000 loss:0.33202\n",
      "elapsed_time: 41.30s\n",
      "806997 loss:0.38534"
     ]
    },
    {
     "name": "stderr",
     "output_type": "stream",
     "text": [
      "INFO:absl: \n",
      "\t\t NumberOfEpisodes = 6914\n",
      "\t\t EnvironmentSteps = 3318156\n",
      "\t\t AverageReturn = 102.0\n",
      "\t\t AverageEpisodeLength = 541.4000244140625\n"
     ]
    },
    {
     "name": "stdout",
     "output_type": "stream",
     "text": [
      "807000 loss:0.42571\n",
      "elapsed_time: 41.26s\n",
      "807997 loss:0.27650"
     ]
    },
    {
     "name": "stderr",
     "output_type": "stream",
     "text": [
      "INFO:absl: \n",
      "\t\t NumberOfEpisodes = 6921\n",
      "\t\t EnvironmentSteps = 3322156\n",
      "\t\t AverageReturn = 149.0\n",
      "\t\t AverageEpisodeLength = 617.9000244140625\n"
     ]
    },
    {
     "name": "stdout",
     "output_type": "stream",
     "text": [
      "808000 loss:0.28138\n",
      "elapsed_time: 41.28s\n",
      "808997 loss:0.59417"
     ]
    },
    {
     "name": "stderr",
     "output_type": "stream",
     "text": [
      "INFO:absl: \n",
      "\t\t NumberOfEpisodes = 6930\n",
      "\t\t EnvironmentSteps = 3326156\n",
      "\t\t AverageReturn = 71.0999984741211\n",
      "\t\t AverageEpisodeLength = 492.6000061035156\n"
     ]
    },
    {
     "name": "stdout",
     "output_type": "stream",
     "text": [
      "809000 loss:0.27857\n",
      "elapsed_time: 41.40s\n",
      "809997 loss:0.34334"
     ]
    },
    {
     "name": "stderr",
     "output_type": "stream",
     "text": [
      "INFO:absl: \n",
      "\t\t NumberOfEpisodes = 6937\n",
      "\t\t EnvironmentSteps = 3330156\n",
      "\t\t AverageReturn = 109.4000015258789\n",
      "\t\t AverageEpisodeLength = 567.0999755859375\n"
     ]
    },
    {
     "name": "stdout",
     "output_type": "stream",
     "text": [
      "810000 loss:0.40176\n",
      "elapsed_time: 41.28s\n",
      "810997 loss:0.41718"
     ]
    },
    {
     "name": "stderr",
     "output_type": "stream",
     "text": [
      "INFO:absl: \n",
      "\t\t NumberOfEpisodes = 6944\n",
      "\t\t EnvironmentSteps = 3334156\n",
      "\t\t AverageReturn = 110.80000305175781\n",
      "\t\t AverageEpisodeLength = 583.4000244140625\n"
     ]
    },
    {
     "name": "stdout",
     "output_type": "stream",
     "text": [
      "811000 loss:0.33077\n",
      "elapsed_time: 41.32s\n",
      "811998 loss:0.24286"
     ]
    },
    {
     "name": "stderr",
     "output_type": "stream",
     "text": [
      "INFO:absl: \n",
      "\t\t NumberOfEpisodes = 6950\n",
      "\t\t EnvironmentSteps = 3338156\n",
      "\t\t AverageReturn = 95.5\n",
      "\t\t AverageEpisodeLength = 572.7999877929688\n"
     ]
    },
    {
     "name": "stdout",
     "output_type": "stream",
     "text": [
      "812000 loss:0.40542\n",
      "elapsed_time: 41.27s\n",
      "812999 loss:0.41151"
     ]
    },
    {
     "name": "stderr",
     "output_type": "stream",
     "text": [
      "INFO:absl: \n",
      "\t\t NumberOfEpisodes = 6958\n",
      "\t\t EnvironmentSteps = 3342156\n",
      "\t\t AverageReturn = 68.30000305175781\n",
      "\t\t AverageEpisodeLength = 510.0\n"
     ]
    },
    {
     "name": "stdout",
     "output_type": "stream",
     "text": [
      "813000 loss:0.21812\n",
      "elapsed_time: 41.23s\n",
      "813995 loss:0.22082"
     ]
    },
    {
     "name": "stderr",
     "output_type": "stream",
     "text": [
      "INFO:absl: \n",
      "\t\t NumberOfEpisodes = 6964\n",
      "\t\t EnvironmentSteps = 3346156\n",
      "\t\t AverageReturn = 143.3000030517578\n",
      "\t\t AverageEpisodeLength = 623.5999755859375\n"
     ]
    },
    {
     "name": "stdout",
     "output_type": "stream",
     "text": [
      "814000 loss:0.49508\n",
      "elapsed_time: 41.27s\n",
      "814996 loss:0.43280"
     ]
    },
    {
     "name": "stderr",
     "output_type": "stream",
     "text": [
      "INFO:absl: \n",
      "\t\t NumberOfEpisodes = 6970\n",
      "\t\t EnvironmentSteps = 3350156\n",
      "\t\t AverageReturn = 213.3000030517578\n",
      "\t\t AverageEpisodeLength = 727.0999755859375\n"
     ]
    },
    {
     "name": "stdout",
     "output_type": "stream",
     "text": [
      "815000 loss:0.23928\n",
      "elapsed_time: 41.24s\n",
      "815996 loss:0.13677"
     ]
    },
    {
     "name": "stderr",
     "output_type": "stream",
     "text": [
      "INFO:absl: \n",
      "\t\t NumberOfEpisodes = 6975\n",
      "\t\t EnvironmentSteps = 3354156\n",
      "\t\t AverageReturn = 197.8000030517578\n",
      "\t\t AverageEpisodeLength = 720.7999877929688\n"
     ]
    },
    {
     "name": "stdout",
     "output_type": "stream",
     "text": [
      "816000 loss:0.13252\n",
      "elapsed_time: 41.24s\n",
      "816996 loss:0.52023"
     ]
    },
    {
     "name": "stderr",
     "output_type": "stream",
     "text": [
      "INFO:absl: \n",
      "\t\t NumberOfEpisodes = 6982\n",
      "\t\t EnvironmentSteps = 3358156\n",
      "\t\t AverageReturn = 127.9000015258789\n",
      "\t\t AverageEpisodeLength = 600.7000122070312\n"
     ]
    },
    {
     "name": "stdout",
     "output_type": "stream",
     "text": [
      "817000 loss:0.41043\n",
      "elapsed_time: 41.28s\n",
      "817998 loss:0.26138"
     ]
    },
    {
     "name": "stderr",
     "output_type": "stream",
     "text": [
      "INFO:absl: \n",
      "\t\t NumberOfEpisodes = 6988\n",
      "\t\t EnvironmentSteps = 3362156\n",
      "\t\t AverageReturn = 99.0\n",
      "\t\t AverageEpisodeLength = 513.5\n"
     ]
    },
    {
     "name": "stdout",
     "output_type": "stream",
     "text": [
      "818000 loss:0.16889\n",
      "elapsed_time: 41.24s\n",
      "818998 loss:0.73151"
     ]
    },
    {
     "name": "stderr",
     "output_type": "stream",
     "text": [
      "INFO:absl: \n",
      "\t\t NumberOfEpisodes = 6992\n",
      "\t\t EnvironmentSteps = 3366156\n",
      "\t\t AverageReturn = 217.3000030517578\n",
      "\t\t AverageEpisodeLength = 735.5\n"
     ]
    },
    {
     "name": "stdout",
     "output_type": "stream",
     "text": [
      "819000 loss:0.40087\n",
      "elapsed_time: 41.22s\n",
      "819999 loss:0.44533"
     ]
    },
    {
     "name": "stderr",
     "output_type": "stream",
     "text": [
      "INFO:absl: \n",
      "\t\t NumberOfEpisodes = 6999\n",
      "\t\t EnvironmentSteps = 3370156\n",
      "\t\t AverageReturn = 177.89999389648438\n",
      "\t\t AverageEpisodeLength = 681.0999755859375\n"
     ]
    },
    {
     "name": "stdout",
     "output_type": "stream",
     "text": [
      "820000 loss:0.33764\n",
      "elapsed_time: 41.32s\n",
      "820995 loss:0.35840"
     ]
    },
    {
     "name": "stderr",
     "output_type": "stream",
     "text": [
      "INFO:absl: \n",
      "\t\t NumberOfEpisodes = 7006\n",
      "\t\t EnvironmentSteps = 3374156\n",
      "\t\t AverageReturn = 130.8000030517578\n",
      "\t\t AverageEpisodeLength = 629.5\n"
     ]
    },
    {
     "name": "stdout",
     "output_type": "stream",
     "text": [
      "821000 loss:0.14308\n",
      "elapsed_time: 41.27s\n",
      "821995 loss:0.17923"
     ]
    },
    {
     "name": "stderr",
     "output_type": "stream",
     "text": [
      "INFO:absl: \n",
      "\t\t NumberOfEpisodes = 7011\n",
      "\t\t EnvironmentSteps = 3378156\n",
      "\t\t AverageReturn = 149.39999389648438\n",
      "\t\t AverageEpisodeLength = 667.4000244140625\n"
     ]
    },
    {
     "name": "stdout",
     "output_type": "stream",
     "text": [
      "822000 loss:0.32160\n",
      "elapsed_time: 41.24s\n",
      "822995 loss:0.43209"
     ]
    },
    {
     "name": "stderr",
     "output_type": "stream",
     "text": [
      "INFO:absl: \n",
      "\t\t NumberOfEpisodes = 7017\n",
      "\t\t EnvironmentSteps = 3382156\n",
      "\t\t AverageReturn = 168.89999389648438\n",
      "\t\t AverageEpisodeLength = 669.2000122070312\n"
     ]
    },
    {
     "name": "stdout",
     "output_type": "stream",
     "text": [
      "823000 loss:0.71391\n",
      "elapsed_time: 41.26s\n",
      "823996 loss:0.27466"
     ]
    },
    {
     "name": "stderr",
     "output_type": "stream",
     "text": [
      "INFO:absl: \n",
      "\t\t NumberOfEpisodes = 7022\n",
      "\t\t EnvironmentSteps = 3386156\n",
      "\t\t AverageReturn = 178.10000610351562\n",
      "\t\t AverageEpisodeLength = 725.5\n"
     ]
    },
    {
     "name": "stdout",
     "output_type": "stream",
     "text": [
      "824000 loss:0.17804\n",
      "elapsed_time: 41.22s\n",
      "824996 loss:0.64021"
     ]
    },
    {
     "name": "stderr",
     "output_type": "stream",
     "text": [
      "INFO:absl: \n",
      "\t\t NumberOfEpisodes = 7027\n",
      "\t\t EnvironmentSteps = 3390156\n",
      "\t\t AverageReturn = 220.5\n",
      "\t\t AverageEpisodeLength = 811.0\n"
     ]
    },
    {
     "name": "stdout",
     "output_type": "stream",
     "text": [
      "825000 loss:0.30343\n",
      "elapsed_time: 41.27s\n",
      "825996 loss:0.36856"
     ]
    },
    {
     "name": "stderr",
     "output_type": "stream",
     "text": [
      "INFO:absl: \n",
      "\t\t NumberOfEpisodes = 7032\n",
      "\t\t EnvironmentSteps = 3394156\n",
      "\t\t AverageReturn = 223.0\n",
      "\t\t AverageEpisodeLength = 790.2000122070312\n"
     ]
    },
    {
     "name": "stdout",
     "output_type": "stream",
     "text": [
      "826000 loss:0.12389\n",
      "elapsed_time: 41.61s\n",
      "826998 loss:0.86185"
     ]
    },
    {
     "name": "stderr",
     "output_type": "stream",
     "text": [
      "INFO:absl: \n",
      "\t\t NumberOfEpisodes = 7039\n",
      "\t\t EnvironmentSteps = 3398156\n",
      "\t\t AverageReturn = 159.0\n",
      "\t\t AverageEpisodeLength = 626.2999877929688\n"
     ]
    },
    {
     "name": "stdout",
     "output_type": "stream",
     "text": [
      "827000 loss:0.23563\n",
      "elapsed_time: 41.22s\n",
      "827998 loss:0.63214"
     ]
    },
    {
     "name": "stderr",
     "output_type": "stream",
     "text": [
      "INFO:absl: \n",
      "\t\t NumberOfEpisodes = 7044\n",
      "\t\t EnvironmentSteps = 3402156\n",
      "\t\t AverageReturn = 194.0\n",
      "\t\t AverageEpisodeLength = 707.2000122070312\n"
     ]
    },
    {
     "name": "stdout",
     "output_type": "stream",
     "text": [
      "828000 loss:0.22878\n",
      "elapsed_time: 41.20s\n",
      "828998 loss:0.20412"
     ]
    },
    {
     "name": "stderr",
     "output_type": "stream",
     "text": [
      "INFO:absl: \n",
      "\t\t NumberOfEpisodes = 7050\n",
      "\t\t EnvironmentSteps = 3406156\n",
      "\t\t AverageReturn = 141.3000030517578\n",
      "\t\t AverageEpisodeLength = 633.2999877929688\n"
     ]
    },
    {
     "name": "stdout",
     "output_type": "stream",
     "text": [
      "829000 loss:0.33003\n",
      "elapsed_time: 41.27s\n",
      "829998 loss:0.37777"
     ]
    },
    {
     "name": "stderr",
     "output_type": "stream",
     "text": [
      "INFO:absl: \n",
      "\t\t NumberOfEpisodes = 7056\n",
      "\t\t EnvironmentSteps = 3410156\n",
      "\t\t AverageReturn = 142.10000610351562\n",
      "\t\t AverageEpisodeLength = 629.5\n"
     ]
    },
    {
     "name": "stdout",
     "output_type": "stream",
     "text": [
      "830000 loss:0.42153\n",
      "elapsed_time: 41.25s\n",
      "830999 loss:0.32122"
     ]
    },
    {
     "name": "stderr",
     "output_type": "stream",
     "text": [
      "INFO:absl: \n",
      "\t\t NumberOfEpisodes = 7063\n",
      "\t\t EnvironmentSteps = 3414156\n",
      "\t\t AverageReturn = 135.60000610351562\n",
      "\t\t AverageEpisodeLength = 608.2999877929688\n"
     ]
    },
    {
     "name": "stdout",
     "output_type": "stream",
     "text": [
      "831000 loss:0.63357\n",
      "elapsed_time: 41.24s\n",
      "831999 loss:0.21802"
     ]
    },
    {
     "name": "stderr",
     "output_type": "stream",
     "text": [
      "INFO:absl: \n",
      "\t\t NumberOfEpisodes = 7069\n",
      "\t\t EnvironmentSteps = 3418156\n",
      "\t\t AverageReturn = 184.0\n",
      "\t\t AverageEpisodeLength = 691.0999755859375\n"
     ]
    },
    {
     "name": "stdout",
     "output_type": "stream",
     "text": [
      "832000 loss:0.29339\n",
      "elapsed_time: 41.29s\n",
      "832999 loss:0.39679"
     ]
    },
    {
     "name": "stderr",
     "output_type": "stream",
     "text": [
      "INFO:absl: \n",
      "\t\t NumberOfEpisodes = 7074\n",
      "\t\t EnvironmentSteps = 3422156\n",
      "\t\t AverageReturn = 194.60000610351562\n",
      "\t\t AverageEpisodeLength = 743.7999877929688\n"
     ]
    },
    {
     "name": "stdout",
     "output_type": "stream",
     "text": [
      "833000 loss:0.36108\n",
      "elapsed_time: 41.21s\n",
      "833999 loss:0.19065"
     ]
    },
    {
     "name": "stderr",
     "output_type": "stream",
     "text": [
      "INFO:absl: \n",
      "\t\t NumberOfEpisodes = 7079\n",
      "\t\t EnvironmentSteps = 3426156\n",
      "\t\t AverageReturn = 215.0\n",
      "\t\t AverageEpisodeLength = 800.7000122070312\n"
     ]
    },
    {
     "name": "stdout",
     "output_type": "stream",
     "text": [
      "834000 loss:0.26582\n",
      "elapsed_time: 41.23s\n",
      "834999 loss:0.41932"
     ]
    },
    {
     "name": "stderr",
     "output_type": "stream",
     "text": [
      "INFO:absl: \n",
      "\t\t NumberOfEpisodes = 7085\n",
      "\t\t EnvironmentSteps = 3430156\n",
      "\t\t AverageReturn = 178.0\n",
      "\t\t AverageEpisodeLength = 683.5\n"
     ]
    },
    {
     "name": "stdout",
     "output_type": "stream",
     "text": [
      "835000 loss:0.30263\n",
      "elapsed_time: 41.30s\n",
      "835999 loss:0.28544"
     ]
    },
    {
     "name": "stderr",
     "output_type": "stream",
     "text": [
      "INFO:absl: \n",
      "\t\t NumberOfEpisodes = 7090\n",
      "\t\t EnvironmentSteps = 3434156\n",
      "\t\t AverageReturn = 168.5\n",
      "\t\t AverageEpisodeLength = 669.2000122070312\n"
     ]
    },
    {
     "name": "stdout",
     "output_type": "stream",
     "text": [
      "836000 loss:0.22411\n",
      "elapsed_time: 41.24s\n",
      "836996 loss:0.34232"
     ]
    },
    {
     "name": "stderr",
     "output_type": "stream",
     "text": [
      "INFO:absl: \n",
      "\t\t NumberOfEpisodes = 7097\n",
      "\t\t EnvironmentSteps = 3438156\n",
      "\t\t AverageReturn = 153.0\n",
      "\t\t AverageEpisodeLength = 620.5999755859375\n"
     ]
    },
    {
     "name": "stdout",
     "output_type": "stream",
     "text": [
      "837000 loss:0.33346\n",
      "elapsed_time: 41.24s\n",
      "837996 loss:0.42332"
     ]
    },
    {
     "name": "stderr",
     "output_type": "stream",
     "text": [
      "INFO:absl: \n",
      "\t\t NumberOfEpisodes = 7104\n",
      "\t\t EnvironmentSteps = 3442156\n",
      "\t\t AverageReturn = 115.80000305175781\n",
      "\t\t AverageEpisodeLength = 608.2999877929688\n"
     ]
    },
    {
     "name": "stdout",
     "output_type": "stream",
     "text": [
      "838000 loss:0.20241\n",
      "elapsed_time: 41.29s\n",
      "838998 loss:0.37358"
     ]
    },
    {
     "name": "stderr",
     "output_type": "stream",
     "text": [
      "INFO:absl: \n",
      "\t\t NumberOfEpisodes = 7109\n",
      "\t\t EnvironmentSteps = 3446156\n",
      "\t\t AverageReturn = 170.8000030517578\n",
      "\t\t AverageEpisodeLength = 724.9000244140625\n"
     ]
    },
    {
     "name": "stdout",
     "output_type": "stream",
     "text": [
      "839000 loss:0.28372\n",
      "elapsed_time: 41.18s\n",
      "839999 loss:0.27355"
     ]
    },
    {
     "name": "stderr",
     "output_type": "stream",
     "text": [
      "INFO:absl: \n",
      "\t\t NumberOfEpisodes = 7115\n",
      "\t\t EnvironmentSteps = 3450156\n",
      "\t\t AverageReturn = 178.8000030517578\n",
      "\t\t AverageEpisodeLength = 714.5999755859375\n"
     ]
    },
    {
     "name": "stdout",
     "output_type": "stream",
     "text": [
      "840000 loss:0.73385\n",
      "elapsed_time: 41.24s\n",
      "840996 loss:0.38664"
     ]
    },
    {
     "name": "stderr",
     "output_type": "stream",
     "text": [
      "INFO:absl: \n",
      "\t\t NumberOfEpisodes = 7120\n",
      "\t\t EnvironmentSteps = 3454156\n",
      "\t\t AverageReturn = 177.6999969482422\n",
      "\t\t AverageEpisodeLength = 711.2999877929688\n"
     ]
    },
    {
     "name": "stdout",
     "output_type": "stream",
     "text": [
      "841000 loss:0.26985\n",
      "elapsed_time: 41.25s\n",
      "841998 loss:0.40644"
     ]
    },
    {
     "name": "stderr",
     "output_type": "stream",
     "text": [
      "INFO:absl: \n",
      "\t\t NumberOfEpisodes = 7125\n",
      "\t\t EnvironmentSteps = 3458156\n",
      "\t\t AverageReturn = 222.39999389648438\n",
      "\t\t AverageEpisodeLength = 799.2000122070312\n"
     ]
    },
    {
     "name": "stdout",
     "output_type": "stream",
     "text": [
      "842000 loss:1.28732\n",
      "elapsed_time: 41.24s\n",
      "842998 loss:0.24785"
     ]
    },
    {
     "name": "stderr",
     "output_type": "stream",
     "text": [
      "INFO:absl: \n",
      "\t\t NumberOfEpisodes = 7133\n",
      "\t\t EnvironmentSteps = 3462156\n",
      "\t\t AverageReturn = 109.5999984741211\n",
      "\t\t AverageEpisodeLength = 584.7000122070312\n"
     ]
    },
    {
     "name": "stdout",
     "output_type": "stream",
     "text": [
      "843000 loss:0.56398\n",
      "elapsed_time: 41.36s\n",
      "843999 loss:0.28393"
     ]
    },
    {
     "name": "stderr",
     "output_type": "stream",
     "text": [
      "INFO:absl: \n",
      "\t\t NumberOfEpisodes = 7140\n",
      "\t\t EnvironmentSteps = 3466156\n",
      "\t\t AverageReturn = 81.30000305175781\n",
      "\t\t AverageEpisodeLength = 527.2999877929688\n"
     ]
    },
    {
     "name": "stdout",
     "output_type": "stream",
     "text": [
      "844000 loss:0.57239\n",
      "elapsed_time: 41.31s\n",
      "844996 loss:0.23664"
     ]
    },
    {
     "name": "stderr",
     "output_type": "stream",
     "text": [
      "INFO:absl: \n",
      "\t\t NumberOfEpisodes = 7148\n",
      "\t\t EnvironmentSteps = 3470156\n",
      "\t\t AverageReturn = 128.5\n",
      "\t\t AverageEpisodeLength = 555.2000122070312\n"
     ]
    },
    {
     "name": "stdout",
     "output_type": "stream",
     "text": [
      "845000 loss:0.79231\n",
      "elapsed_time: 41.31s\n",
      "845996 loss:0.22423"
     ]
    },
    {
     "name": "stderr",
     "output_type": "stream",
     "text": [
      "INFO:absl: \n",
      "\t\t NumberOfEpisodes = 7154\n",
      "\t\t EnvironmentSteps = 3474156\n",
      "\t\t AverageReturn = 116.9000015258789\n",
      "\t\t AverageEpisodeLength = 524.2000122070312\n"
     ]
    },
    {
     "name": "stdout",
     "output_type": "stream",
     "text": [
      "846000 loss:0.47243\n",
      "elapsed_time: 41.34s\n",
      "846997 loss:0.37143"
     ]
    },
    {
     "name": "stderr",
     "output_type": "stream",
     "text": [
      "INFO:absl: \n",
      "\t\t NumberOfEpisodes = 7163\n",
      "\t\t EnvironmentSteps = 3478156\n",
      "\t\t AverageReturn = 99.80000305175781\n",
      "\t\t AverageEpisodeLength = 516.5999755859375\n"
     ]
    },
    {
     "name": "stdout",
     "output_type": "stream",
     "text": [
      "847000 loss:0.27075\n",
      "elapsed_time: 41.32s\n",
      "847997 loss:0.31877"
     ]
    },
    {
     "name": "stderr",
     "output_type": "stream",
     "text": [
      "INFO:absl: \n",
      "\t\t NumberOfEpisodes = 7169\n",
      "\t\t EnvironmentSteps = 3482156\n",
      "\t\t AverageReturn = 130.0\n",
      "\t\t AverageEpisodeLength = 582.9000244140625\n"
     ]
    },
    {
     "name": "stdout",
     "output_type": "stream",
     "text": [
      "848000 loss:0.12414\n",
      "elapsed_time: 41.23s\n",
      "848997 loss:1.12795"
     ]
    },
    {
     "name": "stderr",
     "output_type": "stream",
     "text": [
      "INFO:absl: \n",
      "\t\t NumberOfEpisodes = 7176\n",
      "\t\t EnvironmentSteps = 3486156\n",
      "\t\t AverageReturn = 110.80000305175781\n",
      "\t\t AverageEpisodeLength = 534.7999877929688\n"
     ]
    },
    {
     "name": "stdout",
     "output_type": "stream",
     "text": [
      "849000 loss:0.37456\n",
      "elapsed_time: 41.30s\n",
      "849997 loss:0.25103"
     ]
    },
    {
     "name": "stderr",
     "output_type": "stream",
     "text": [
      "INFO:absl: \n",
      "\t\t NumberOfEpisodes = 7185\n",
      "\t\t EnvironmentSteps = 3490156\n",
      "\t\t AverageReturn = 86.5\n",
      "\t\t AverageEpisodeLength = 533.4000244140625\n"
     ]
    },
    {
     "name": "stdout",
     "output_type": "stream",
     "text": [
      "850000 loss:0.28897\n",
      "elapsed_time: 41.25s\n",
      "850997 loss:0.32026"
     ]
    },
    {
     "name": "stderr",
     "output_type": "stream",
     "text": [
      "INFO:absl: \n",
      "\t\t NumberOfEpisodes = 7189\n",
      "\t\t EnvironmentSteps = 3494156\n",
      "\t\t AverageReturn = 148.10000610351562\n",
      "\t\t AverageEpisodeLength = 659.4000244140625\n"
     ]
    },
    {
     "name": "stdout",
     "output_type": "stream",
     "text": [
      "851000 loss:0.22009\n",
      "elapsed_time: 41.23s\n",
      "851998 loss:0.27623"
     ]
    },
    {
     "name": "stderr",
     "output_type": "stream",
     "text": [
      "INFO:absl: \n",
      "\t\t NumberOfEpisodes = 7195\n",
      "\t\t EnvironmentSteps = 3498156\n",
      "\t\t AverageReturn = 218.89999389648438\n",
      "\t\t AverageEpisodeLength = 774.0\n"
     ]
    },
    {
     "name": "stdout",
     "output_type": "stream",
     "text": [
      "852000 loss:0.50128\n",
      "elapsed_time: 41.25s\n",
      "852998 loss:0.24858"
     ]
    },
    {
     "name": "stderr",
     "output_type": "stream",
     "text": [
      "INFO:absl: \n",
      "\t\t NumberOfEpisodes = 7201\n",
      "\t\t EnvironmentSteps = 3502156\n",
      "\t\t AverageReturn = 128.5\n",
      "\t\t AverageEpisodeLength = 624.7999877929688\n"
     ]
    },
    {
     "name": "stdout",
     "output_type": "stream",
     "text": [
      "853000 loss:0.33891\n",
      "elapsed_time: 41.24s\n",
      "853999 loss:0.39949"
     ]
    },
    {
     "name": "stderr",
     "output_type": "stream",
     "text": [
      "INFO:absl: \n",
      "\t\t NumberOfEpisodes = 7209\n",
      "\t\t EnvironmentSteps = 3506156\n",
      "\t\t AverageReturn = 40.900001525878906\n",
      "\t\t AverageEpisodeLength = 494.79998779296875\n"
     ]
    },
    {
     "name": "stdout",
     "output_type": "stream",
     "text": [
      "854000 loss:0.37299\n",
      "elapsed_time: 41.28s\n",
      "854995 loss:0.78983"
     ]
    },
    {
     "name": "stderr",
     "output_type": "stream",
     "text": [
      "INFO:absl: \n",
      "\t\t NumberOfEpisodes = 7216\n",
      "\t\t EnvironmentSteps = 3510156\n",
      "\t\t AverageReturn = 97.69999694824219\n",
      "\t\t AverageEpisodeLength = 547.5999755859375\n"
     ]
    },
    {
     "name": "stdout",
     "output_type": "stream",
     "text": [
      "855000 loss:0.39709\n",
      "elapsed_time: 41.28s\n",
      "855995 loss:0.37496"
     ]
    },
    {
     "name": "stderr",
     "output_type": "stream",
     "text": [
      "INFO:absl: \n",
      "\t\t NumberOfEpisodes = 7222\n",
      "\t\t EnvironmentSteps = 3514156\n",
      "\t\t AverageReturn = 136.3000030517578\n",
      "\t\t AverageEpisodeLength = 603.7000122070312\n"
     ]
    },
    {
     "name": "stdout",
     "output_type": "stream",
     "text": [
      "856000 loss:0.29658\n",
      "elapsed_time: 41.20s\n",
      "856996 loss:0.52676"
     ]
    },
    {
     "name": "stderr",
     "output_type": "stream",
     "text": [
      "INFO:absl: \n",
      "\t\t NumberOfEpisodes = 7229\n",
      "\t\t EnvironmentSteps = 3518156\n",
      "\t\t AverageReturn = 127.69999694824219\n",
      "\t\t AverageEpisodeLength = 575.5999755859375\n"
     ]
    },
    {
     "name": "stdout",
     "output_type": "stream",
     "text": [
      "857000 loss:0.37237\n",
      "elapsed_time: 41.21s\n",
      "857999 loss:0.38315"
     ]
    },
    {
     "name": "stderr",
     "output_type": "stream",
     "text": [
      "INFO:absl: \n",
      "\t\t NumberOfEpisodes = 7234\n",
      "\t\t EnvironmentSteps = 3522156\n",
      "\t\t AverageReturn = 142.5\n",
      "\t\t AverageEpisodeLength = 665.4000244140625\n"
     ]
    },
    {
     "name": "stdout",
     "output_type": "stream",
     "text": [
      "858000 loss:0.32082\n",
      "elapsed_time: 41.28s\n",
      "858997 loss:0.35812"
     ]
    },
    {
     "name": "stderr",
     "output_type": "stream",
     "text": [
      "INFO:absl: \n",
      "\t\t NumberOfEpisodes = 7239\n",
      "\t\t EnvironmentSteps = 3526156\n",
      "\t\t AverageReturn = 218.8000030517578\n",
      "\t\t AverageEpisodeLength = 825.2000122070312\n"
     ]
    },
    {
     "name": "stdout",
     "output_type": "stream",
     "text": [
      "859000 loss:0.18017\n",
      "elapsed_time: 41.24s\n",
      "859998 loss:0.25017"
     ]
    },
    {
     "name": "stderr",
     "output_type": "stream",
     "text": [
      "INFO:absl: \n",
      "\t\t NumberOfEpisodes = 7244\n",
      "\t\t EnvironmentSteps = 3530156\n",
      "\t\t AverageReturn = 207.89999389648438\n",
      "\t\t AverageEpisodeLength = 777.2000122070312\n"
     ]
    },
    {
     "name": "stdout",
     "output_type": "stream",
     "text": [
      "860000 loss:0.48800\n",
      "elapsed_time: 41.21s\n",
      "860995 loss:0.40863"
     ]
    },
    {
     "name": "stderr",
     "output_type": "stream",
     "text": [
      "INFO:absl: \n",
      "\t\t NumberOfEpisodes = 7250\n",
      "\t\t EnvironmentSteps = 3534156\n",
      "\t\t AverageReturn = 197.0\n",
      "\t\t AverageEpisodeLength = 763.7000122070312\n"
     ]
    },
    {
     "name": "stdout",
     "output_type": "stream",
     "text": [
      "861000 loss:0.32947\n",
      "elapsed_time: 41.28s\n",
      "861995 loss:0.28316"
     ]
    },
    {
     "name": "stderr",
     "output_type": "stream",
     "text": [
      "INFO:absl: \n",
      "\t\t NumberOfEpisodes = 7255\n",
      "\t\t EnvironmentSteps = 3538156\n",
      "\t\t AverageReturn = 177.1999969482422\n",
      "\t\t AverageEpisodeLength = 768.7000122070312\n"
     ]
    },
    {
     "name": "stdout",
     "output_type": "stream",
     "text": [
      "862000 loss:0.26992\n",
      "elapsed_time: 41.21s\n",
      "862995 loss:0.37478"
     ]
    },
    {
     "name": "stderr",
     "output_type": "stream",
     "text": [
      "INFO:absl: \n",
      "\t\t NumberOfEpisodes = 7260\n",
      "\t\t EnvironmentSteps = 3542156\n",
      "\t\t AverageReturn = 181.0\n",
      "\t\t AverageEpisodeLength = 749.7999877929688\n"
     ]
    },
    {
     "name": "stdout",
     "output_type": "stream",
     "text": [
      "863000 loss:0.20669\n",
      "elapsed_time: 41.25s\n",
      "863997 loss:0.19493"
     ]
    },
    {
     "name": "stderr",
     "output_type": "stream",
     "text": [
      "INFO:absl: \n",
      "\t\t NumberOfEpisodes = 7267\n",
      "\t\t EnvironmentSteps = 3546156\n",
      "\t\t AverageReturn = 145.6999969482422\n",
      "\t\t AverageEpisodeLength = 606.9000244140625\n"
     ]
    },
    {
     "name": "stdout",
     "output_type": "stream",
     "text": [
      "864000 loss:0.51946\n",
      "elapsed_time: 41.29s\n",
      "864997 loss:0.81478"
     ]
    },
    {
     "name": "stderr",
     "output_type": "stream",
     "text": [
      "INFO:absl: \n",
      "\t\t NumberOfEpisodes = 7273\n",
      "\t\t EnvironmentSteps = 3550156\n",
      "\t\t AverageReturn = 135.1999969482422\n",
      "\t\t AverageEpisodeLength = 603.0999755859375\n"
     ]
    },
    {
     "name": "stdout",
     "output_type": "stream",
     "text": [
      "865000 loss:0.21149\n",
      "elapsed_time: 41.25s\n",
      "865999 loss:0.24886"
     ]
    },
    {
     "name": "stderr",
     "output_type": "stream",
     "text": [
      "INFO:absl: \n",
      "\t\t NumberOfEpisodes = 7278\n",
      "\t\t EnvironmentSteps = 3554156\n",
      "\t\t AverageReturn = 145.89999389648438\n",
      "\t\t AverageEpisodeLength = 656.5\n"
     ]
    },
    {
     "name": "stdout",
     "output_type": "stream",
     "text": [
      "866000 loss:0.43184\n",
      "elapsed_time: 41.24s\n",
      "866999 loss:0.40163"
     ]
    },
    {
     "name": "stderr",
     "output_type": "stream",
     "text": [
      "INFO:absl: \n",
      "\t\t NumberOfEpisodes = 7283\n",
      "\t\t EnvironmentSteps = 3558156\n",
      "\t\t AverageReturn = 213.1999969482422\n",
      "\t\t AverageEpisodeLength = 793.5\n"
     ]
    },
    {
     "name": "stdout",
     "output_type": "stream",
     "text": [
      "867000 loss:0.19753\n",
      "elapsed_time: 41.24s\n",
      "867999 loss:0.35005"
     ]
    },
    {
     "name": "stderr",
     "output_type": "stream",
     "text": [
      "INFO:absl: \n",
      "\t\t NumberOfEpisodes = 7290\n",
      "\t\t EnvironmentSteps = 3562156\n",
      "\t\t AverageReturn = 126.19999694824219\n",
      "\t\t AverageEpisodeLength = 624.0999755859375\n"
     ]
    },
    {
     "name": "stdout",
     "output_type": "stream",
     "text": [
      "868000 loss:0.33955\n",
      "elapsed_time: 41.27s\n",
      "868998 loss:0.52181"
     ]
    },
    {
     "name": "stderr",
     "output_type": "stream",
     "text": [
      "INFO:absl: \n",
      "\t\t NumberOfEpisodes = 7296\n",
      "\t\t EnvironmentSteps = 3566156\n",
      "\t\t AverageReturn = 162.0\n",
      "\t\t AverageEpisodeLength = 661.9000244140625\n"
     ]
    },
    {
     "name": "stdout",
     "output_type": "stream",
     "text": [
      "869000 loss:0.41720\n",
      "elapsed_time: 41.22s\n",
      "869995 loss:0.67848"
     ]
    },
    {
     "name": "stderr",
     "output_type": "stream",
     "text": [
      "INFO:absl: \n",
      "\t\t NumberOfEpisodes = 7303\n",
      "\t\t EnvironmentSteps = 3570156\n",
      "\t\t AverageReturn = 84.4000015258789\n",
      "\t\t AverageEpisodeLength = 505.20001220703125\n"
     ]
    },
    {
     "name": "stdout",
     "output_type": "stream",
     "text": [
      "870000 loss:0.18692\n",
      "elapsed_time: 41.27s\n",
      "870997 loss:0.20106"
     ]
    },
    {
     "name": "stderr",
     "output_type": "stream",
     "text": [
      "INFO:absl: \n",
      "\t\t NumberOfEpisodes = 7308\n",
      "\t\t EnvironmentSteps = 3574156\n",
      "\t\t AverageReturn = 196.10000610351562\n",
      "\t\t AverageEpisodeLength = 700.2999877929688\n"
     ]
    },
    {
     "name": "stdout",
     "output_type": "stream",
     "text": [
      "871000 loss:0.34510\n",
      "elapsed_time: 41.20s\n",
      "871999 loss:0.37087"
     ]
    },
    {
     "name": "stderr",
     "output_type": "stream",
     "text": [
      "INFO:absl: \n",
      "\t\t NumberOfEpisodes = 7314\n",
      "\t\t EnvironmentSteps = 3578156\n",
      "\t\t AverageReturn = 175.3000030517578\n",
      "\t\t AverageEpisodeLength = 665.2999877929688\n"
     ]
    },
    {
     "name": "stdout",
     "output_type": "stream",
     "text": [
      "872000 loss:0.32446\n",
      "elapsed_time: 41.23s\n",
      "872996 loss:0.34967"
     ]
    },
    {
     "name": "stderr",
     "output_type": "stream",
     "text": [
      "INFO:absl: \n",
      "\t\t NumberOfEpisodes = 7319\n",
      "\t\t EnvironmentSteps = 3582156\n",
      "\t\t AverageReturn = 214.89999389648438\n",
      "\t\t AverageEpisodeLength = 731.7999877929688\n"
     ]
    },
    {
     "name": "stdout",
     "output_type": "stream",
     "text": [
      "873000 loss:0.25942\n",
      "elapsed_time: 41.27s\n",
      "873996 loss:0.34555"
     ]
    },
    {
     "name": "stderr",
     "output_type": "stream",
     "text": [
      "INFO:absl: \n",
      "\t\t NumberOfEpisodes = 7323\n",
      "\t\t EnvironmentSteps = 3586156\n",
      "\t\t AverageReturn = 270.3999938964844\n",
      "\t\t AverageEpisodeLength = 844.0\n"
     ]
    },
    {
     "name": "stdout",
     "output_type": "stream",
     "text": [
      "874000 loss:0.42640\n",
      "elapsed_time: 41.20s\n",
      "874996 loss:0.44618"
     ]
    },
    {
     "name": "stderr",
     "output_type": "stream",
     "text": [
      "INFO:absl: \n",
      "\t\t NumberOfEpisodes = 7328\n",
      "\t\t EnvironmentSteps = 3590156\n",
      "\t\t AverageReturn = 256.3999938964844\n",
      "\t\t AverageEpisodeLength = 846.0999755859375\n"
     ]
    },
    {
     "name": "stdout",
     "output_type": "stream",
     "text": [
      "875000 loss:0.76011\n",
      "elapsed_time: 41.26s\n",
      "875997 loss:0.35463"
     ]
    },
    {
     "name": "stderr",
     "output_type": "stream",
     "text": [
      "INFO:absl: \n",
      "\t\t NumberOfEpisodes = 7335\n",
      "\t\t EnvironmentSteps = 3594156\n",
      "\t\t AverageReturn = 125.5999984741211\n",
      "\t\t AverageEpisodeLength = 620.4000244140625\n"
     ]
    },
    {
     "name": "stdout",
     "output_type": "stream",
     "text": [
      "876000 loss:0.31550\n",
      "elapsed_time: 41.82s\n",
      "876997 loss:0.45234"
     ]
    },
    {
     "name": "stderr",
     "output_type": "stream",
     "text": [
      "INFO:absl: \n",
      "\t\t NumberOfEpisodes = 7340\n",
      "\t\t EnvironmentSteps = 3598156\n",
      "\t\t AverageReturn = 180.1999969482422\n",
      "\t\t AverageEpisodeLength = 679.2999877929688\n"
     ]
    },
    {
     "name": "stdout",
     "output_type": "stream",
     "text": [
      "877000 loss:0.50942\n",
      "elapsed_time: 41.29s\n",
      "877998 loss:0.20214"
     ]
    },
    {
     "name": "stderr",
     "output_type": "stream",
     "text": [
      "INFO:absl: \n",
      "\t\t NumberOfEpisodes = 7347\n",
      "\t\t EnvironmentSteps = 3602156\n",
      "\t\t AverageReturn = 123.5\n",
      "\t\t AverageEpisodeLength = 563.9000244140625\n"
     ]
    },
    {
     "name": "stdout",
     "output_type": "stream",
     "text": [
      "878000 loss:0.24029\n",
      "elapsed_time: 41.47s\n",
      "878999 loss:0.35566"
     ]
    },
    {
     "name": "stderr",
     "output_type": "stream",
     "text": [
      "INFO:absl: \n",
      "\t\t NumberOfEpisodes = 7353\n",
      "\t\t EnvironmentSteps = 3606156\n",
      "\t\t AverageReturn = 124.0\n",
      "\t\t AverageEpisodeLength = 581.9000244140625\n"
     ]
    },
    {
     "name": "stdout",
     "output_type": "stream",
     "text": [
      "879000 loss:0.14459\n",
      "elapsed_time: 41.22s\n",
      "879995 loss:0.16640"
     ]
    },
    {
     "name": "stderr",
     "output_type": "stream",
     "text": [
      "INFO:absl: \n",
      "\t\t NumberOfEpisodes = 7358\n",
      "\t\t EnvironmentSteps = 3610156\n",
      "\t\t AverageReturn = 194.10000610351562\n",
      "\t\t AverageEpisodeLength = 715.0999755859375\n"
     ]
    },
    {
     "name": "stdout",
     "output_type": "stream",
     "text": [
      "880000 loss:0.37380\n",
      "elapsed_time: 41.20s\n",
      "880996 loss:0.30578"
     ]
    },
    {
     "name": "stderr",
     "output_type": "stream",
     "text": [
      "INFO:absl: \n",
      "\t\t NumberOfEpisodes = 7362\n",
      "\t\t EnvironmentSteps = 3614156\n",
      "\t\t AverageReturn = 252.8000030517578\n",
      "\t\t AverageEpisodeLength = 802.9000244140625\n"
     ]
    },
    {
     "name": "stdout",
     "output_type": "stream",
     "text": [
      "881000 loss:0.35430\n",
      "elapsed_time: 41.24s\n",
      "881997 loss:0.34194"
     ]
    },
    {
     "name": "stderr",
     "output_type": "stream",
     "text": [
      "INFO:absl: \n",
      "\t\t NumberOfEpisodes = 7368\n",
      "\t\t EnvironmentSteps = 3618156\n",
      "\t\t AverageReturn = 240.89999389648438\n",
      "\t\t AverageEpisodeLength = 792.5\n"
     ]
    },
    {
     "name": "stdout",
     "output_type": "stream",
     "text": [
      "882000 loss:0.17869\n",
      "elapsed_time: 41.26s\n",
      "882995 loss:0.39254"
     ]
    },
    {
     "name": "stderr",
     "output_type": "stream",
     "text": [
      "INFO:absl: \n",
      "\t\t NumberOfEpisodes = 7375\n",
      "\t\t EnvironmentSteps = 3622156\n",
      "\t\t AverageReturn = 108.4000015258789\n",
      "\t\t AverageEpisodeLength = 595.2000122070312\n"
     ]
    },
    {
     "name": "stdout",
     "output_type": "stream",
     "text": [
      "883000 loss:0.41419\n",
      "elapsed_time: 41.26s\n",
      "883995 loss:0.20159"
     ]
    },
    {
     "name": "stderr",
     "output_type": "stream",
     "text": [
      "INFO:absl: \n",
      "\t\t NumberOfEpisodes = 7383\n",
      "\t\t EnvironmentSteps = 3626156\n",
      "\t\t AverageReturn = 58.5\n",
      "\t\t AverageEpisodeLength = 498.8999938964844\n"
     ]
    },
    {
     "name": "stdout",
     "output_type": "stream",
     "text": [
      "884000 loss:0.27504\n",
      "elapsed_time: 41.33s\n",
      "884995 loss:0.35412"
     ]
    },
    {
     "name": "stderr",
     "output_type": "stream",
     "text": [
      "INFO:absl: \n",
      "\t\t NumberOfEpisodes = 7389\n",
      "\t\t EnvironmentSteps = 3630156\n",
      "\t\t AverageReturn = 115.30000305175781\n",
      "\t\t AverageEpisodeLength = 582.9000244140625\n"
     ]
    },
    {
     "name": "stdout",
     "output_type": "stream",
     "text": [
      "885000 loss:0.35296\n",
      "elapsed_time: 41.30s\n",
      "885996 loss:0.25766"
     ]
    },
    {
     "name": "stderr",
     "output_type": "stream",
     "text": [
      "INFO:absl: \n",
      "\t\t NumberOfEpisodes = 7395\n",
      "\t\t EnvironmentSteps = 3634156\n",
      "\t\t AverageReturn = 164.10000610351562\n",
      "\t\t AverageEpisodeLength = 656.5999755859375\n"
     ]
    },
    {
     "name": "stdout",
     "output_type": "stream",
     "text": [
      "886000 loss:0.27692\n",
      "elapsed_time: 41.28s\n",
      "886998 loss:0.30426"
     ]
    },
    {
     "name": "stderr",
     "output_type": "stream",
     "text": [
      "INFO:absl: \n",
      "\t\t NumberOfEpisodes = 7401\n",
      "\t\t EnvironmentSteps = 3638156\n",
      "\t\t AverageReturn = 179.39999389648438\n",
      "\t\t AverageEpisodeLength = 685.9000244140625\n"
     ]
    },
    {
     "name": "stdout",
     "output_type": "stream",
     "text": [
      "887000 loss:0.54343\n",
      "elapsed_time: 41.34s\n",
      "887998 loss:0.33736"
     ]
    },
    {
     "name": "stderr",
     "output_type": "stream",
     "text": [
      "INFO:absl: \n",
      "\t\t NumberOfEpisodes = 7406\n",
      "\t\t EnvironmentSteps = 3642156\n",
      "\t\t AverageReturn = 160.10000610351562\n",
      "\t\t AverageEpisodeLength = 697.5\n"
     ]
    },
    {
     "name": "stdout",
     "output_type": "stream",
     "text": [
      "888000 loss:0.46492\n",
      "elapsed_time: 41.22s\n",
      "888998 loss:0.23727"
     ]
    },
    {
     "name": "stderr",
     "output_type": "stream",
     "text": [
      "INFO:absl: \n",
      "\t\t NumberOfEpisodes = 7412\n",
      "\t\t EnvironmentSteps = 3646156\n",
      "\t\t AverageReturn = 228.89999389648438\n",
      "\t\t AverageEpisodeLength = 777.5999755859375\n"
     ]
    },
    {
     "name": "stdout",
     "output_type": "stream",
     "text": [
      "889000 loss:0.57014\n",
      "elapsed_time: 41.21s\n",
      "889999 loss:0.63599"
     ]
    },
    {
     "name": "stderr",
     "output_type": "stream",
     "text": [
      "INFO:absl: \n",
      "\t\t NumberOfEpisodes = 7419\n",
      "\t\t EnvironmentSteps = 3650156\n",
      "\t\t AverageReturn = 132.89999389648438\n",
      "\t\t AverageEpisodeLength = 580.5999755859375\n"
     ]
    },
    {
     "name": "stdout",
     "output_type": "stream",
     "text": [
      "890000 loss:0.36363\n",
      "elapsed_time: 41.28s\n",
      "890999 loss:0.31456"
     ]
    },
    {
     "name": "stderr",
     "output_type": "stream",
     "text": [
      "INFO:absl: \n",
      "\t\t NumberOfEpisodes = 7425\n",
      "\t\t EnvironmentSteps = 3654156\n",
      "\t\t AverageReturn = 166.5\n",
      "\t\t AverageEpisodeLength = 716.7999877929688\n"
     ]
    },
    {
     "name": "stdout",
     "output_type": "stream",
     "text": [
      "891000 loss:0.19941\n",
      "elapsed_time: 41.22s\n",
      "891995 loss:0.32348"
     ]
    },
    {
     "name": "stderr",
     "output_type": "stream",
     "text": [
      "INFO:absl: \n",
      "\t\t NumberOfEpisodes = 7431\n",
      "\t\t EnvironmentSteps = 3658156\n",
      "\t\t AverageReturn = 140.8000030517578\n",
      "\t\t AverageEpisodeLength = 656.5999755859375\n"
     ]
    },
    {
     "name": "stdout",
     "output_type": "stream",
     "text": [
      "892000 loss:0.69226\n",
      "elapsed_time: 41.20s\n",
      "892996 loss:0.53874"
     ]
    },
    {
     "name": "stderr",
     "output_type": "stream",
     "text": [
      "INFO:absl: \n",
      "\t\t NumberOfEpisodes = 7438\n",
      "\t\t EnvironmentSteps = 3662156\n",
      "\t\t AverageReturn = 77.5\n",
      "\t\t AverageEpisodeLength = 549.9000244140625\n"
     ]
    },
    {
     "name": "stdout",
     "output_type": "stream",
     "text": [
      "893000 loss:0.18701\n",
      "elapsed_time: 41.30s\n",
      "893996 loss:0.58465"
     ]
    },
    {
     "name": "stderr",
     "output_type": "stream",
     "text": [
      "INFO:absl: \n",
      "\t\t NumberOfEpisodes = 7443\n",
      "\t\t EnvironmentSteps = 3666156\n",
      "\t\t AverageReturn = 164.0\n",
      "\t\t AverageEpisodeLength = 690.7000122070312\n"
     ]
    },
    {
     "name": "stdout",
     "output_type": "stream",
     "text": [
      "894000 loss:0.41156\n",
      "elapsed_time: 41.21s\n",
      "894997 loss:0.57304"
     ]
    },
    {
     "name": "stderr",
     "output_type": "stream",
     "text": [
      "INFO:absl: \n",
      "\t\t NumberOfEpisodes = 7450\n",
      "\t\t EnvironmentSteps = 3670156\n",
      "\t\t AverageReturn = 165.1999969482422\n",
      "\t\t AverageEpisodeLength = 694.9000244140625\n"
     ]
    },
    {
     "name": "stdout",
     "output_type": "stream",
     "text": [
      "895000 loss:0.67079\n",
      "elapsed_time: 41.24s\n",
      "895997 loss:0.34402"
     ]
    },
    {
     "name": "stderr",
     "output_type": "stream",
     "text": [
      "INFO:absl: \n",
      "\t\t NumberOfEpisodes = 7456\n",
      "\t\t EnvironmentSteps = 3674156\n",
      "\t\t AverageReturn = 69.19999694824219\n",
      "\t\t AverageEpisodeLength = 575.0999755859375\n"
     ]
    },
    {
     "name": "stdout",
     "output_type": "stream",
     "text": [
      "896000 loss:0.31169\n",
      "elapsed_time: 41.30s\n",
      "896997 loss:0.51283"
     ]
    },
    {
     "name": "stderr",
     "output_type": "stream",
     "text": [
      "INFO:absl: \n",
      "\t\t NumberOfEpisodes = 7461\n",
      "\t\t EnvironmentSteps = 3678156\n",
      "\t\t AverageReturn = 149.3000030517578\n",
      "\t\t AverageEpisodeLength = 716.9000244140625\n"
     ]
    },
    {
     "name": "stdout",
     "output_type": "stream",
     "text": [
      "897000 loss:0.26354\n",
      "elapsed_time: 41.22s\n",
      "897997 loss:0.52968"
     ]
    },
    {
     "name": "stderr",
     "output_type": "stream",
     "text": [
      "INFO:absl: \n",
      "\t\t NumberOfEpisodes = 7467\n",
      "\t\t EnvironmentSteps = 3682156\n",
      "\t\t AverageReturn = 187.89999389648438\n",
      "\t\t AverageEpisodeLength = 774.0\n"
     ]
    },
    {
     "name": "stdout",
     "output_type": "stream",
     "text": [
      "898000 loss:0.31744\n",
      "elapsed_time: 41.23s\n",
      "898997 loss:0.47598"
     ]
    },
    {
     "name": "stderr",
     "output_type": "stream",
     "text": [
      "INFO:absl: \n",
      "\t\t NumberOfEpisodes = 7470\n",
      "\t\t EnvironmentSteps = 3686156\n",
      "\t\t AverageReturn = 201.60000610351562\n",
      "\t\t AverageEpisodeLength = 800.2999877929688\n"
     ]
    },
    {
     "name": "stdout",
     "output_type": "stream",
     "text": [
      "899000 loss:0.86774\n",
      "elapsed_time: 41.22s\n",
      "899998 loss:0.23954"
     ]
    },
    {
     "name": "stderr",
     "output_type": "stream",
     "text": [
      "INFO:absl: \n",
      "\t\t NumberOfEpisodes = 7477\n",
      "\t\t EnvironmentSteps = 3690156\n",
      "\t\t AverageReturn = 201.6999969482422\n",
      "\t\t AverageEpisodeLength = 782.4000244140625\n"
     ]
    },
    {
     "name": "stdout",
     "output_type": "stream",
     "text": [
      "900000 loss:0.63617\n",
      "elapsed_time: 41.24s\n",
      "900998 loss:0.27126"
     ]
    },
    {
     "name": "stderr",
     "output_type": "stream",
     "text": [
      "INFO:absl: \n",
      "\t\t NumberOfEpisodes = 7482\n",
      "\t\t EnvironmentSteps = 3694156\n",
      "\t\t AverageReturn = 183.3000030517578\n",
      "\t\t AverageEpisodeLength = 715.4000244140625\n"
     ]
    },
    {
     "name": "stdout",
     "output_type": "stream",
     "text": [
      "901000 loss:0.19231\n",
      "elapsed_time: 41.25s\n",
      "901999 loss:0.62431"
     ]
    },
    {
     "name": "stderr",
     "output_type": "stream",
     "text": [
      "INFO:absl: \n",
      "\t\t NumberOfEpisodes = 7488\n",
      "\t\t EnvironmentSteps = 3698156\n",
      "\t\t AverageReturn = 204.0\n",
      "\t\t AverageEpisodeLength = 732.9000244140625\n"
     ]
    },
    {
     "name": "stdout",
     "output_type": "stream",
     "text": [
      "902000 loss:0.31657\n",
      "elapsed_time: 41.28s\n",
      "902999 loss:0.29899"
     ]
    },
    {
     "name": "stderr",
     "output_type": "stream",
     "text": [
      "INFO:absl: \n",
      "\t\t NumberOfEpisodes = 7493\n",
      "\t\t EnvironmentSteps = 3702156\n",
      "\t\t AverageReturn = 170.8000030517578\n",
      "\t\t AverageEpisodeLength = 680.7999877929688\n"
     ]
    },
    {
     "name": "stdout",
     "output_type": "stream",
     "text": [
      "903000 loss:0.34917\n",
      "elapsed_time: 41.23s\n",
      "903065 loss:0.23244"
     ]
    },
    {
     "ename": "KeyboardInterrupt",
     "evalue": "",
     "output_type": "error",
     "traceback": [
      "\u001b[0;31m---------------------------------------------------------------------------\u001b[0m",
      "\u001b[0;31mKeyboardInterrupt\u001b[0m                         Traceback (most recent call last)",
      "Input \u001b[0;32mIn [55]\u001b[0m, in \u001b[0;36m<cell line: 2>\u001b[0;34m()\u001b[0m\n\u001b[1;32m      1\u001b[0m \u001b[38;5;66;03m### doing this trains the algorism\u001b[39;00m\n\u001b[0;32m----> 2\u001b[0m \u001b[43mtrain_agent\u001b[49m\u001b[43m(\u001b[49m\u001b[38;5;241;43m1000000\u001b[39;49m\u001b[43m)\u001b[49m\n",
      "Input \u001b[0;32mIn [54]\u001b[0m, in \u001b[0;36mtrain_agent\u001b[0;34m(n_iterations)\u001b[0m\n\u001b[1;32m     10\u001b[0m time_step, policy_state \u001b[38;5;241m=\u001b[39m collect_driver\u001b[38;5;241m.\u001b[39mrun(time_step, policy_state) \u001b[38;5;66;03m# 탐색 \u001b[39;00m\n\u001b[1;32m     11\u001b[0m trajectories, buffer_info \u001b[38;5;241m=\u001b[39m \u001b[38;5;28mnext\u001b[39m(iterator) \u001b[38;5;66;03m# 가져옴\u001b[39;00m\n\u001b[0;32m---> 12\u001b[0m train_loss \u001b[38;5;241m=\u001b[39m \u001b[43magent\u001b[49m\u001b[38;5;241;43m.\u001b[39;49m\u001b[43mtrain\u001b[49m\u001b[43m(\u001b[49m\u001b[43mtrajectories\u001b[49m\u001b[43m)\u001b[49m \u001b[38;5;66;03m# 훈련\u001b[39;00m\n\u001b[1;32m     13\u001b[0m \u001b[38;5;28mprint\u001b[39m(\u001b[38;5;124m\"\u001b[39m\u001b[38;5;130;01m\\r\u001b[39;00m\u001b[38;5;132;01m{}\u001b[39;00m\u001b[38;5;124m loss:\u001b[39m\u001b[38;5;132;01m{:.5f}\u001b[39;00m\u001b[38;5;124m\"\u001b[39m\u001b[38;5;241m.\u001b[39mformat( iteration, train_loss\u001b[38;5;241m.\u001b[39mloss\u001b[38;5;241m.\u001b[39mnumpy()), end\u001b[38;5;241m=\u001b[39m\u001b[38;5;124m\"\u001b[39m\u001b[38;5;124m\"\u001b[39m)\n\u001b[1;32m     15\u001b[0m \u001b[38;5;28;01mif\u001b[39;00m iteration \u001b[38;5;241m%\u001b[39m \u001b[38;5;241m1000\u001b[39m \u001b[38;5;241m==\u001b[39m \u001b[38;5;241m0\u001b[39m:\n",
      "File \u001b[0;32m~/.local/lib/python3.10/site-packages/tensorflow/python/util/traceback_utils.py:150\u001b[0m, in \u001b[0;36mfilter_traceback.<locals>.error_handler\u001b[0;34m(*args, **kwargs)\u001b[0m\n\u001b[1;32m    148\u001b[0m filtered_tb \u001b[38;5;241m=\u001b[39m \u001b[38;5;28;01mNone\u001b[39;00m\n\u001b[1;32m    149\u001b[0m \u001b[38;5;28;01mtry\u001b[39;00m:\n\u001b[0;32m--> 150\u001b[0m   \u001b[38;5;28;01mreturn\u001b[39;00m \u001b[43mfn\u001b[49m\u001b[43m(\u001b[49m\u001b[38;5;241;43m*\u001b[39;49m\u001b[43margs\u001b[49m\u001b[43m,\u001b[49m\u001b[43m \u001b[49m\u001b[38;5;241;43m*\u001b[39;49m\u001b[38;5;241;43m*\u001b[39;49m\u001b[43mkwargs\u001b[49m\u001b[43m)\u001b[49m\n\u001b[1;32m    151\u001b[0m \u001b[38;5;28;01mexcept\u001b[39;00m \u001b[38;5;167;01mException\u001b[39;00m \u001b[38;5;28;01mas\u001b[39;00m e:\n\u001b[1;32m    152\u001b[0m   filtered_tb \u001b[38;5;241m=\u001b[39m _process_traceback_frames(e\u001b[38;5;241m.\u001b[39m__traceback__)\n",
      "File \u001b[0;32m~/.local/lib/python3.10/site-packages/tensorflow/python/eager/def_function.py:915\u001b[0m, in \u001b[0;36mFunction.__call__\u001b[0;34m(self, *args, **kwds)\u001b[0m\n\u001b[1;32m    912\u001b[0m compiler \u001b[38;5;241m=\u001b[39m \u001b[38;5;124m\"\u001b[39m\u001b[38;5;124mxla\u001b[39m\u001b[38;5;124m\"\u001b[39m \u001b[38;5;28;01mif\u001b[39;00m \u001b[38;5;28mself\u001b[39m\u001b[38;5;241m.\u001b[39m_jit_compile \u001b[38;5;28;01melse\u001b[39;00m \u001b[38;5;124m\"\u001b[39m\u001b[38;5;124mnonXla\u001b[39m\u001b[38;5;124m\"\u001b[39m\n\u001b[1;32m    914\u001b[0m \u001b[38;5;28;01mwith\u001b[39;00m OptionalXlaContext(\u001b[38;5;28mself\u001b[39m\u001b[38;5;241m.\u001b[39m_jit_compile):\n\u001b[0;32m--> 915\u001b[0m   result \u001b[38;5;241m=\u001b[39m \u001b[38;5;28;43mself\u001b[39;49m\u001b[38;5;241;43m.\u001b[39;49m\u001b[43m_call\u001b[49m\u001b[43m(\u001b[49m\u001b[38;5;241;43m*\u001b[39;49m\u001b[43margs\u001b[49m\u001b[43m,\u001b[49m\u001b[43m \u001b[49m\u001b[38;5;241;43m*\u001b[39;49m\u001b[38;5;241;43m*\u001b[39;49m\u001b[43mkwds\u001b[49m\u001b[43m)\u001b[49m\n\u001b[1;32m    917\u001b[0m new_tracing_count \u001b[38;5;241m=\u001b[39m \u001b[38;5;28mself\u001b[39m\u001b[38;5;241m.\u001b[39mexperimental_get_tracing_count()\n\u001b[1;32m    918\u001b[0m without_tracing \u001b[38;5;241m=\u001b[39m (tracing_count \u001b[38;5;241m==\u001b[39m new_tracing_count)\n",
      "File \u001b[0;32m~/.local/lib/python3.10/site-packages/tensorflow/python/eager/def_function.py:947\u001b[0m, in \u001b[0;36mFunction._call\u001b[0;34m(self, *args, **kwds)\u001b[0m\n\u001b[1;32m    944\u001b[0m   \u001b[38;5;28mself\u001b[39m\u001b[38;5;241m.\u001b[39m_lock\u001b[38;5;241m.\u001b[39mrelease()\n\u001b[1;32m    945\u001b[0m   \u001b[38;5;66;03m# In this case we have created variables on the first call, so we run the\u001b[39;00m\n\u001b[1;32m    946\u001b[0m   \u001b[38;5;66;03m# defunned version which is guaranteed to never create variables.\u001b[39;00m\n\u001b[0;32m--> 947\u001b[0m   \u001b[38;5;28;01mreturn\u001b[39;00m \u001b[38;5;28;43mself\u001b[39;49m\u001b[38;5;241;43m.\u001b[39;49m\u001b[43m_stateless_fn\u001b[49m\u001b[43m(\u001b[49m\u001b[38;5;241;43m*\u001b[39;49m\u001b[43margs\u001b[49m\u001b[43m,\u001b[49m\u001b[43m \u001b[49m\u001b[38;5;241;43m*\u001b[39;49m\u001b[38;5;241;43m*\u001b[39;49m\u001b[43mkwds\u001b[49m\u001b[43m)\u001b[49m  \u001b[38;5;66;03m# pylint: disable=not-callable\u001b[39;00m\n\u001b[1;32m    948\u001b[0m \u001b[38;5;28;01melif\u001b[39;00m \u001b[38;5;28mself\u001b[39m\u001b[38;5;241m.\u001b[39m_stateful_fn \u001b[38;5;129;01mis\u001b[39;00m \u001b[38;5;129;01mnot\u001b[39;00m \u001b[38;5;28;01mNone\u001b[39;00m:\n\u001b[1;32m    949\u001b[0m   \u001b[38;5;66;03m# Release the lock early so that multiple threads can perform the call\u001b[39;00m\n\u001b[1;32m    950\u001b[0m   \u001b[38;5;66;03m# in parallel.\u001b[39;00m\n\u001b[1;32m    951\u001b[0m   \u001b[38;5;28mself\u001b[39m\u001b[38;5;241m.\u001b[39m_lock\u001b[38;5;241m.\u001b[39mrelease()\n",
      "File \u001b[0;32m~/.local/lib/python3.10/site-packages/tensorflow/python/eager/function.py:2956\u001b[0m, in \u001b[0;36mFunction.__call__\u001b[0;34m(self, *args, **kwargs)\u001b[0m\n\u001b[1;32m   2953\u001b[0m \u001b[38;5;28;01mwith\u001b[39;00m \u001b[38;5;28mself\u001b[39m\u001b[38;5;241m.\u001b[39m_lock:\n\u001b[1;32m   2954\u001b[0m   (graph_function,\n\u001b[1;32m   2955\u001b[0m    filtered_flat_args) \u001b[38;5;241m=\u001b[39m \u001b[38;5;28mself\u001b[39m\u001b[38;5;241m.\u001b[39m_maybe_define_function(args, kwargs)\n\u001b[0;32m-> 2956\u001b[0m \u001b[38;5;28;01mreturn\u001b[39;00m \u001b[43mgraph_function\u001b[49m\u001b[38;5;241;43m.\u001b[39;49m\u001b[43m_call_flat\u001b[49m\u001b[43m(\u001b[49m\n\u001b[1;32m   2957\u001b[0m \u001b[43m    \u001b[49m\u001b[43mfiltered_flat_args\u001b[49m\u001b[43m,\u001b[49m\u001b[43m \u001b[49m\u001b[43mcaptured_inputs\u001b[49m\u001b[38;5;241;43m=\u001b[39;49m\u001b[43mgraph_function\u001b[49m\u001b[38;5;241;43m.\u001b[39;49m\u001b[43mcaptured_inputs\u001b[49m\u001b[43m)\u001b[49m\n",
      "File \u001b[0;32m~/.local/lib/python3.10/site-packages/tensorflow/python/eager/function.py:1853\u001b[0m, in \u001b[0;36mConcreteFunction._call_flat\u001b[0;34m(self, args, captured_inputs, cancellation_manager)\u001b[0m\n\u001b[1;32m   1849\u001b[0m possible_gradient_type \u001b[38;5;241m=\u001b[39m gradients_util\u001b[38;5;241m.\u001b[39mPossibleTapeGradientTypes(args)\n\u001b[1;32m   1850\u001b[0m \u001b[38;5;28;01mif\u001b[39;00m (possible_gradient_type \u001b[38;5;241m==\u001b[39m gradients_util\u001b[38;5;241m.\u001b[39mPOSSIBLE_GRADIENT_TYPES_NONE\n\u001b[1;32m   1851\u001b[0m     \u001b[38;5;129;01mand\u001b[39;00m executing_eagerly):\n\u001b[1;32m   1852\u001b[0m   \u001b[38;5;66;03m# No tape is watching; skip to running the function.\u001b[39;00m\n\u001b[0;32m-> 1853\u001b[0m   \u001b[38;5;28;01mreturn\u001b[39;00m \u001b[38;5;28mself\u001b[39m\u001b[38;5;241m.\u001b[39m_build_call_outputs(\u001b[38;5;28;43mself\u001b[39;49m\u001b[38;5;241;43m.\u001b[39;49m\u001b[43m_inference_function\u001b[49m\u001b[38;5;241;43m.\u001b[39;49m\u001b[43mcall\u001b[49m\u001b[43m(\u001b[49m\n\u001b[1;32m   1854\u001b[0m \u001b[43m      \u001b[49m\u001b[43mctx\u001b[49m\u001b[43m,\u001b[49m\u001b[43m \u001b[49m\u001b[43margs\u001b[49m\u001b[43m,\u001b[49m\u001b[43m \u001b[49m\u001b[43mcancellation_manager\u001b[49m\u001b[38;5;241;43m=\u001b[39;49m\u001b[43mcancellation_manager\u001b[49m\u001b[43m)\u001b[49m)\n\u001b[1;32m   1855\u001b[0m forward_backward \u001b[38;5;241m=\u001b[39m \u001b[38;5;28mself\u001b[39m\u001b[38;5;241m.\u001b[39m_select_forward_and_backward_functions(\n\u001b[1;32m   1856\u001b[0m     args,\n\u001b[1;32m   1857\u001b[0m     possible_gradient_type,\n\u001b[1;32m   1858\u001b[0m     executing_eagerly)\n\u001b[1;32m   1859\u001b[0m forward_function, args_with_tangents \u001b[38;5;241m=\u001b[39m forward_backward\u001b[38;5;241m.\u001b[39mforward()\n",
      "File \u001b[0;32m~/.local/lib/python3.10/site-packages/tensorflow/python/eager/function.py:499\u001b[0m, in \u001b[0;36m_EagerDefinedFunction.call\u001b[0;34m(self, ctx, args, cancellation_manager)\u001b[0m\n\u001b[1;32m    497\u001b[0m \u001b[38;5;28;01mwith\u001b[39;00m _InterpolateFunctionError(\u001b[38;5;28mself\u001b[39m):\n\u001b[1;32m    498\u001b[0m   \u001b[38;5;28;01mif\u001b[39;00m cancellation_manager \u001b[38;5;129;01mis\u001b[39;00m \u001b[38;5;28;01mNone\u001b[39;00m:\n\u001b[0;32m--> 499\u001b[0m     outputs \u001b[38;5;241m=\u001b[39m \u001b[43mexecute\u001b[49m\u001b[38;5;241;43m.\u001b[39;49m\u001b[43mexecute\u001b[49m\u001b[43m(\u001b[49m\n\u001b[1;32m    500\u001b[0m \u001b[43m        \u001b[49m\u001b[38;5;28;43mstr\u001b[39;49m\u001b[43m(\u001b[49m\u001b[38;5;28;43mself\u001b[39;49m\u001b[38;5;241;43m.\u001b[39;49m\u001b[43msignature\u001b[49m\u001b[38;5;241;43m.\u001b[39;49m\u001b[43mname\u001b[49m\u001b[43m)\u001b[49m\u001b[43m,\u001b[49m\n\u001b[1;32m    501\u001b[0m \u001b[43m        \u001b[49m\u001b[43mnum_outputs\u001b[49m\u001b[38;5;241;43m=\u001b[39;49m\u001b[38;5;28;43mself\u001b[39;49m\u001b[38;5;241;43m.\u001b[39;49m\u001b[43m_num_outputs\u001b[49m\u001b[43m,\u001b[49m\n\u001b[1;32m    502\u001b[0m \u001b[43m        \u001b[49m\u001b[43minputs\u001b[49m\u001b[38;5;241;43m=\u001b[39;49m\u001b[43margs\u001b[49m\u001b[43m,\u001b[49m\n\u001b[1;32m    503\u001b[0m \u001b[43m        \u001b[49m\u001b[43mattrs\u001b[49m\u001b[38;5;241;43m=\u001b[39;49m\u001b[43mattrs\u001b[49m\u001b[43m,\u001b[49m\n\u001b[1;32m    504\u001b[0m \u001b[43m        \u001b[49m\u001b[43mctx\u001b[49m\u001b[38;5;241;43m=\u001b[39;49m\u001b[43mctx\u001b[49m\u001b[43m)\u001b[49m\n\u001b[1;32m    505\u001b[0m   \u001b[38;5;28;01melse\u001b[39;00m:\n\u001b[1;32m    506\u001b[0m     outputs \u001b[38;5;241m=\u001b[39m execute\u001b[38;5;241m.\u001b[39mexecute_with_cancellation(\n\u001b[1;32m    507\u001b[0m         \u001b[38;5;28mstr\u001b[39m(\u001b[38;5;28mself\u001b[39m\u001b[38;5;241m.\u001b[39msignature\u001b[38;5;241m.\u001b[39mname),\n\u001b[1;32m    508\u001b[0m         num_outputs\u001b[38;5;241m=\u001b[39m\u001b[38;5;28mself\u001b[39m\u001b[38;5;241m.\u001b[39m_num_outputs,\n\u001b[0;32m   (...)\u001b[0m\n\u001b[1;32m    511\u001b[0m         ctx\u001b[38;5;241m=\u001b[39mctx,\n\u001b[1;32m    512\u001b[0m         cancellation_manager\u001b[38;5;241m=\u001b[39mcancellation_manager)\n",
      "File \u001b[0;32m~/.local/lib/python3.10/site-packages/tensorflow/python/eager/execute.py:54\u001b[0m, in \u001b[0;36mquick_execute\u001b[0;34m(op_name, num_outputs, inputs, attrs, ctx, name)\u001b[0m\n\u001b[1;32m     52\u001b[0m \u001b[38;5;28;01mtry\u001b[39;00m:\n\u001b[1;32m     53\u001b[0m   ctx\u001b[38;5;241m.\u001b[39mensure_initialized()\n\u001b[0;32m---> 54\u001b[0m   tensors \u001b[38;5;241m=\u001b[39m \u001b[43mpywrap_tfe\u001b[49m\u001b[38;5;241;43m.\u001b[39;49m\u001b[43mTFE_Py_Execute\u001b[49m\u001b[43m(\u001b[49m\u001b[43mctx\u001b[49m\u001b[38;5;241;43m.\u001b[39;49m\u001b[43m_handle\u001b[49m\u001b[43m,\u001b[49m\u001b[43m \u001b[49m\u001b[43mdevice_name\u001b[49m\u001b[43m,\u001b[49m\u001b[43m \u001b[49m\u001b[43mop_name\u001b[49m\u001b[43m,\u001b[49m\n\u001b[1;32m     55\u001b[0m \u001b[43m                                      \u001b[49m\u001b[43minputs\u001b[49m\u001b[43m,\u001b[49m\u001b[43m \u001b[49m\u001b[43mattrs\u001b[49m\u001b[43m,\u001b[49m\u001b[43m \u001b[49m\u001b[43mnum_outputs\u001b[49m\u001b[43m)\u001b[49m\n\u001b[1;32m     56\u001b[0m \u001b[38;5;28;01mexcept\u001b[39;00m core\u001b[38;5;241m.\u001b[39m_NotOkStatusException \u001b[38;5;28;01mas\u001b[39;00m e:\n\u001b[1;32m     57\u001b[0m   \u001b[38;5;28;01mif\u001b[39;00m name \u001b[38;5;129;01mis\u001b[39;00m \u001b[38;5;129;01mnot\u001b[39;00m \u001b[38;5;28;01mNone\u001b[39;00m:\n",
      "\u001b[0;31mKeyboardInterrupt\u001b[0m: "
     ]
    }
   ],
   "source": [
    "### doing this trains the algorism\n",
    "train_agent(1000000)"
   ]
  },
  {
   "cell_type": "code",
   "execution_count": 59,
   "id": "3dabf7ad",
   "metadata": {},
   "outputs": [],
   "source": [
    "frames = []\n",
    "def save_frames(trajectory):\n",
    "    global frames\n",
    "    frames.append(tf_env.pyenv.envs[0].render(mode=\"rgb_array\")) # envs[0] calls the first of the stacked ones?\n",
    "\n",
    "watch_driver = DynamicStepDriver(\n",
    "    tf_env,\n",
    "    agent.policy, # just use agent's policy -> no probalistic method\n",
    "    observers=[save_frames],\n",
    "    num_steps=1000\n",
    ") #running this \n",
    "final_time_step, final_policy_state = watch_driver.run() "
   ]
  },
  {
   "cell_type": "code",
   "execution_count": 87,
   "id": "3d252f41",
   "metadata": {},
   "outputs": [],
   "source": [
    "import PIL\n",
    "\n",
    "image_path = os.path.join(\"images\", \"breakout.gif\")\n",
    "frame_images = [PIL.Image.fromarray(frame) for frame in frames[0:400]]\n",
    "frame_images[0].save(image_path, format='GIF',\n",
    "                     append_images=frame_images[1:],\n",
    "                     save_all=True,\n",
    "                     duration=20,\n",
    "                     loop=0)"
   ]
  },
  {
   "cell_type": "code",
   "execution_count": 81,
   "id": "26ca3c8e",
   "metadata": {},
   "outputs": [
    {
     "data": {
      "text/html": [
       "<img src=\"images/breakout.gif\" />\n"
      ],
      "text/plain": [
       "<IPython.core.display.HTML object>"
      ]
     },
     "metadata": {},
     "output_type": "display_data"
    }
   ],
   "source": [
    "%%html\n",
    "<img src=\"images/breakout.gif\" />"
   ]
  },
  {
   "cell_type": "code",
   "execution_count": null,
   "id": "ebb37323",
   "metadata": {},
   "outputs": [],
   "source": []
  }
 ],
 "metadata": {
  "kernelspec": {
   "display_name": "Python [conda env:HOML]",
   "language": "python",
   "name": "conda-env-HOML-py"
  },
  "language_info": {
   "codemirror_mode": {
    "name": "ipython",
    "version": 3
   },
   "file_extension": ".py",
   "mimetype": "text/x-python",
   "name": "python",
   "nbconvert_exporter": "python",
   "pygments_lexer": "ipython3",
   "version": "3.10.3"
  }
 },
 "nbformat": 4,
 "nbformat_minor": 5
}
