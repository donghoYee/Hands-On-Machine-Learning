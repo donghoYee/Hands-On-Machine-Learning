{
 "cells": [
  {
   "cell_type": "code",
   "execution_count": 1,
   "id": "4eaebec9",
   "metadata": {},
   "outputs": [],
   "source": [
    "import tensorflow\n",
    "from tensorflow import keras\n",
    "import numpy as np\n",
    "import matplotlib.pyplot as plt"
   ]
  },
  {
   "cell_type": "code",
   "execution_count": 2,
   "id": "997f54b9",
   "metadata": {},
   "outputs": [],
   "source": [
    "#SELU activation\n",
    "layer = keras.layers.Dense(10, activation=\"selu\", kernel_initializer=\"lecun_normal\")"
   ]
  },
  {
   "cell_type": "markdown",
   "id": "bc50dd74",
   "metadata": {},
   "source": [
    "## Batch Normalization with Keras"
   ]
  },
  {
   "cell_type": "code",
   "execution_count": 3,
   "id": "15d6f81f",
   "metadata": {},
   "outputs": [
    {
     "name": "stderr",
     "output_type": "stream",
     "text": [
      "2022-05-29 22:29:46.162103: I tensorflow/stream_executor/cuda/cuda_gpu_executor.cc:936] successful NUMA node read from SysFS had negative value (-1), but there must be at least one NUMA node, so returning NUMA node zero\n",
      "2022-05-29 22:29:46.190495: I tensorflow/stream_executor/cuda/cuda_gpu_executor.cc:936] successful NUMA node read from SysFS had negative value (-1), but there must be at least one NUMA node, so returning NUMA node zero\n",
      "2022-05-29 22:29:46.190665: I tensorflow/stream_executor/cuda/cuda_gpu_executor.cc:936] successful NUMA node read from SysFS had negative value (-1), but there must be at least one NUMA node, so returning NUMA node zero\n",
      "2022-05-29 22:29:46.191395: I tensorflow/core/platform/cpu_feature_guard.cc:151] This TensorFlow binary is optimized with oneAPI Deep Neural Network Library (oneDNN) to use the following CPU instructions in performance-critical operations:  AVX2 FMA\n",
      "To enable them in other operations, rebuild TensorFlow with the appropriate compiler flags.\n",
      "2022-05-29 22:29:46.192361: I tensorflow/stream_executor/cuda/cuda_gpu_executor.cc:936] successful NUMA node read from SysFS had negative value (-1), but there must be at least one NUMA node, so returning NUMA node zero\n",
      "2022-05-29 22:29:46.192532: I tensorflow/stream_executor/cuda/cuda_gpu_executor.cc:936] successful NUMA node read from SysFS had negative value (-1), but there must be at least one NUMA node, so returning NUMA node zero\n",
      "2022-05-29 22:29:46.192667: I tensorflow/stream_executor/cuda/cuda_gpu_executor.cc:936] successful NUMA node read from SysFS had negative value (-1), but there must be at least one NUMA node, so returning NUMA node zero\n",
      "2022-05-29 22:29:46.545770: I tensorflow/stream_executor/cuda/cuda_gpu_executor.cc:936] successful NUMA node read from SysFS had negative value (-1), but there must be at least one NUMA node, so returning NUMA node zero\n",
      "2022-05-29 22:29:46.545936: I tensorflow/stream_executor/cuda/cuda_gpu_executor.cc:936] successful NUMA node read from SysFS had negative value (-1), but there must be at least one NUMA node, so returning NUMA node zero\n",
      "2022-05-29 22:29:46.546064: I tensorflow/stream_executor/cuda/cuda_gpu_executor.cc:936] successful NUMA node read from SysFS had negative value (-1), but there must be at least one NUMA node, so returning NUMA node zero\n",
      "2022-05-29 22:29:46.546170: I tensorflow/core/common_runtime/gpu/gpu_device.cc:1525] Created device /job:localhost/replica:0/task:0/device:GPU:0 with 7203 MB memory:  -> device: 0, name: NVIDIA GeForce GTX 1070, pci bus id: 0000:01:00.0, compute capability: 6.1\n"
     ]
    }
   ],
   "source": [
    "model  = keras.models.Sequential([\n",
    "    keras.layers.Flatten(input_shape=[28,28]),\n",
    "    keras.layers.BatchNormalization(),\n",
    "    keras.layers.Dense(300, activation=\"elu\", kernel_initializer=\"he_normal\"),\n",
    "    keras.layers.BatchNormalization(),\n",
    "    keras.layers.Dense(100, activation=\"elu\", kernel_initializer=\"he_normal\"),\n",
    "    keras.layers.BatchNormalization(),\n",
    "    keras.layers.Dense(10, activation=\"softmax\")\n",
    "])"
   ]
  },
  {
   "cell_type": "code",
   "execution_count": 4,
   "id": "308779b9",
   "metadata": {},
   "outputs": [
    {
     "name": "stdout",
     "output_type": "stream",
     "text": [
      "Model: \"sequential\"\n",
      "_________________________________________________________________\n",
      " Layer (type)                Output Shape              Param #   \n",
      "=================================================================\n",
      " flatten (Flatten)           (None, 784)               0         \n",
      "                                                                 \n",
      " batch_normalization (BatchN  (None, 784)              3136      \n",
      " ormalization)                                                   \n",
      "                                                                 \n",
      " dense_1 (Dense)             (None, 300)               235500    \n",
      "                                                                 \n",
      " batch_normalization_1 (Batc  (None, 300)              1200      \n",
      " hNormalization)                                                 \n",
      "                                                                 \n",
      " dense_2 (Dense)             (None, 100)               30100     \n",
      "                                                                 \n",
      " batch_normalization_2 (Batc  (None, 100)              400       \n",
      " hNormalization)                                                 \n",
      "                                                                 \n",
      " dense_3 (Dense)             (None, 10)                1010      \n",
      "                                                                 \n",
      "=================================================================\n",
      "Total params: 271,346\n",
      "Trainable params: 268,978\n",
      "Non-trainable params: 2,368\n",
      "_________________________________________________________________\n",
      "None\n"
     ]
    }
   ],
   "source": [
    "print(model.summary())"
   ]
  },
  {
   "cell_type": "code",
   "execution_count": 5,
   "id": "5f28a5c4",
   "metadata": {},
   "outputs": [
    {
     "name": "stdout",
     "output_type": "stream",
     "text": [
      "[('batch_normalization/gamma:0', True), ('batch_normalization/beta:0', True), ('batch_normalization/moving_mean:0', False), ('batch_normalization/moving_variance:0', False)]\n"
     ]
    }
   ],
   "source": [
    "first_BN_var = [(var.name, var.trainable) for var in model.layers[1].variables]\n",
    "print(first_BN_var)"
   ]
  },
  {
   "cell_type": "code",
   "execution_count": 6,
   "id": "a36bb42d",
   "metadata": {},
   "outputs": [
    {
     "name": "stderr",
     "output_type": "stream",
     "text": [
      "/tmp/ipykernel_1449616/3873162892.py:1: UserWarning: `layer.updates` will be removed in a future version. This property should not be used in TensorFlow 2.0, as `updates` are applied automatically.\n",
      "  model.layers[1].updates\n"
     ]
    },
    {
     "data": {
      "text/plain": [
       "[]"
      ]
     },
     "execution_count": 6,
     "metadata": {},
     "output_type": "execute_result"
    }
   ],
   "source": [
    "model.layers[1].updates"
   ]
  },
  {
   "cell_type": "code",
   "execution_count": 7,
   "id": "9470d998",
   "metadata": {},
   "outputs": [],
   "source": [
    "# Batch-Normalization Before Activation function\n",
    "model1 = keras.models.Sequential([\n",
    "    keras.layers.Flatten(input_shape=[28,28]), #flatten image!\n",
    "    keras.layers.BatchNormalization(),\n",
    "    keras.layers.Dense(300, kernel_initializer=\"he_normal\", use_bias=False), # do not specify acrivation, do not use bias!\n",
    "    keras.layers.BatchNormalization(),\n",
    "    keras.layers.Activation(\"elu\"), # add activation function like this!!\n",
    "    keras.layers.Dense(100, kernel_initializer=\"he_normal\", use_bias=False), # do not specify acrivation, do not use bias!\n",
    "    keras.layers.BatchNormalization(),\n",
    "    keras.layers.Activation(\"elu\"), # add activation function like this!!\n",
    "    \n",
    "    keras.layers.Dense(10, activation=\"softmax\")\n",
    "])"
   ]
  },
  {
   "cell_type": "code",
   "execution_count": 8,
   "id": "b1bec1c4",
   "metadata": {},
   "outputs": [
    {
     "name": "stdout",
     "output_type": "stream",
     "text": [
      "Model: \"sequential_1\"\n",
      "_________________________________________________________________\n",
      " Layer (type)                Output Shape              Param #   \n",
      "=================================================================\n",
      " flatten_1 (Flatten)         (None, 784)               0         \n",
      "                                                                 \n",
      " batch_normalization_3 (Batc  (None, 784)              3136      \n",
      " hNormalization)                                                 \n",
      "                                                                 \n",
      " dense_4 (Dense)             (None, 300)               235200    \n",
      "                                                                 \n",
      " batch_normalization_4 (Batc  (None, 300)              1200      \n",
      " hNormalization)                                                 \n",
      "                                                                 \n",
      " activation (Activation)     (None, 300)               0         \n",
      "                                                                 \n",
      " dense_5 (Dense)             (None, 100)               30000     \n",
      "                                                                 \n",
      " batch_normalization_5 (Batc  (None, 100)              400       \n",
      " hNormalization)                                                 \n",
      "                                                                 \n",
      " activation_1 (Activation)   (None, 100)               0         \n",
      "                                                                 \n",
      " dense_6 (Dense)             (None, 10)                1010      \n",
      "                                                                 \n",
      "=================================================================\n",
      "Total params: 270,946\n",
      "Trainable params: 268,578\n",
      "Non-trainable params: 2,368\n",
      "_________________________________________________________________\n"
     ]
    }
   ],
   "source": [
    "model1.summary()"
   ]
  },
  {
   "cell_type": "code",
   "execution_count": 9,
   "id": "e20353a0",
   "metadata": {},
   "outputs": [],
   "source": [
    "# Gradient Clipping\n",
    "optimizer = keras.optimizers.SGD(clipvalue=1.0)\n",
    "model1.compile(loss=\"mse\", optimizer = optimizer)"
   ]
  },
  {
   "cell_type": "markdown",
   "id": "afd77dce",
   "metadata": {},
   "source": [
    "## Transfer Learning"
   ]
  },
  {
   "cell_type": "markdown",
   "id": "c3e85e1f",
   "metadata": {},
   "source": [
    "## Optimizers"
   ]
  },
  {
   "cell_type": "code",
   "execution_count": 13,
   "id": "35e49215",
   "metadata": {},
   "outputs": [],
   "source": [
    "# 거급제곱 기반 스캐일링\n",
    "optimizer = keras.optimizers.SGD(learning_rate=0.01, decay=1e-4)"
   ]
  },
  {
   "cell_type": "code",
   "execution_count": 14,
   "id": "e88972b4",
   "metadata": {},
   "outputs": [],
   "source": [
    "# 지수기반 스케일링\n",
    "def exponential_decay(lr0, s): # a function that returns a function with given params!\n",
    "    def exponential_decay_fn(epoch):\n",
    "        return lr0 * 0.1 ** (epoch / s)\n",
    "    return exponential_decay_fn # return function with set paramitors\n",
    "\n",
    "exponential_decay_fn = exponential_decay(lr0=0.01, s=20)\n",
    "\n",
    "lr_scheduler = keras.callbacks.LearningRateScheduler(exponential_decay_fn) # this callback acceps epoch and returns lr!\n",
    "\n"
   ]
  },
  {
   "cell_type": "markdown",
   "id": "eebafcc8",
   "metadata": {},
   "source": [
    "## using learning rate scheduler\n",
    "* model.fit(X_train, y_train, callbacks=[lr_scheduler]) "
   ]
  },
  {
   "cell_type": "code",
   "execution_count": 15,
   "id": "a41a7681",
   "metadata": {},
   "outputs": [],
   "source": [
    "# scheduling function can input now's learning rate!\n",
    "def exponential_decay_fn(epoch, lr):\n",
    "    return lr * 0.1 ** (1 / 20)"
   ]
  },
  {
   "cell_type": "code",
   "execution_count": 16,
   "id": "960f2cfc",
   "metadata": {},
   "outputs": [],
   "source": [
    "# 구간 기반 스케줄링\n",
    "def piecewise_constant_fn(epoch):\n",
    "    if(epoch < 5):\n",
    "        return 0.01\n",
    "    elif (epoch < 15):\n",
    "        return 0.005\n",
    "    else:\n",
    "        return 0.001"
   ]
  },
  {
   "cell_type": "code",
   "execution_count": 17,
   "id": "8ccdcdb4",
   "metadata": {},
   "outputs": [],
   "source": [
    "lr_scheduler = keras.callbacks.LearningRateScheduler(piecewise_constant_fn)"
   ]
  },
  {
   "cell_type": "code",
   "execution_count": 18,
   "id": "972706a8",
   "metadata": {},
   "outputs": [],
   "source": [
    "# 성능기반 스케줄러 -> ReduceLROnPlateau\n",
    "lr_scheduler = keras.callbacks.ReduceLROnPlateau(factor=0.5, patience=5)"
   ]
  },
  {
   "cell_type": "code",
   "execution_count": 20,
   "id": "535aa852",
   "metadata": {},
   "outputs": [],
   "source": [
    "X_train = np.random.randn(100,10)\n",
    "# 학습률 스케줄링을 위한 또 다른 방법\n",
    "s = 20 * len(X_train) // 32\n",
    "learning_rate = keras.optimizers.schedules.ExponentialDecay(0.01, s, 0.1)\n",
    "optimizer = keras.optimizers.SGD(learning_rate) # 이렇게 설정하면 step마다 1번씩 호출됨!"
   ]
  },
  {
   "cell_type": "code",
   "execution_count": 21,
   "id": "dcc6dcd8",
   "metadata": {},
   "outputs": [],
   "source": [
    "layer = keras.layers.Dense(100, activation=\"elu\",\n",
    "                           kernel_initializer=\"he_normal\", # how to initialize weights\n",
    "                           kernel_regularizer=keras.regularizers.l2(0.01)) # apply 0.01 to regularize!"
   ]
  },
  {
   "cell_type": "markdown",
   "id": "cc6b59ca",
   "metadata": {},
   "source": [
    "## 규제"
   ]
  },
  {
   "cell_type": "code",
   "execution_count": 22,
   "id": "4495fc55",
   "metadata": {},
   "outputs": [],
   "source": [
    "# using python's functools.partial() to make layers with set params\n",
    "from functools import partial\n",
    "\n",
    "RegularizedDense = partial( keras.layers.Dense,\n",
    "                           activation=\"relu\",\n",
    "                           kernel_initializer = \"he_normal\",\n",
    "                           kernel_regularizer = keras.regularizers.l2(0.02))\n",
    "\n",
    "model = keras.models.Sequential([\n",
    "    keras.layers.Flatten(input_shape=[28,28]),\n",
    "    RegularizedDense(300),\n",
    "    RegularizedDense(100),\n",
    "    RegularizedDense(10, activation=\"softmax\", kernel_initializer=\"glorot_uniform\"),\n",
    "])"
   ]
  },
  {
   "cell_type": "code",
   "execution_count": 25,
   "id": "e49cd17b",
   "metadata": {},
   "outputs": [],
   "source": [
    "# dropout\n",
    "model = keras.models.Sequential([\n",
    "    keras.layers.Flatten(input_shape=[28,28]),\n",
    "    keras.layers.Dropout(rate=0.2),\n",
    "    RegularizedDense(300),\n",
    "    keras.layers.Dropout(rate=0.2),\n",
    "    RegularizedDense(100),\n",
    "    keras.layers.Dropout(rate=0.2),\n",
    "    keras.layers.Dense(10, activation=\"softmax\")\n",
    "])"
   ]
  },
  {
   "cell_type": "markdown",
   "id": "dd4e6014",
   "metadata": {},
   "source": [
    "### 몬태 카를로 드롭아웃\n",
    "```\n",
    "y_probas = np.stack([ model(X_test, training=True) for sample in range(100)] # 이렇게 해서 앙상블 추론\n",
    "y_proba = y_probas.mean(axis=0) # 앙상블 추론한 것 평균!\n",
    "```\n"
   ]
  },
  {
   "cell_type": "code",
   "execution_count": 26,
   "id": "d5475a6d",
   "metadata": {},
   "outputs": [],
   "source": [
    "#when using layers like BatchNormalization that acts differently in training, we shouldn't force it to use training mode when making predictions\n",
    "# so we create our own custom class\n",
    "\n",
    "class MCDropout(keras.layers.Dropout): # __init__ function is the same as Dropout!\n",
    "    def call(self, inputs):\n",
    "        return super().call(inputs, training=True) # set training to true!"
   ]
  },
  {
   "cell_type": "code",
   "execution_count": 28,
   "id": "37f4da4f",
   "metadata": {},
   "outputs": [],
   "source": [
    "model = keras.models.Sequential([\n",
    "    keras.layers.Flatten(input_shape=[28,28]),\n",
    "    keras.layers.BatchNormalization(),\n",
    "    MCDropout(rate=0.5),\n",
    "    RegularizedDense(300),\n",
    "    keras.layers.BatchNormalization(),\n",
    "    MCDropout(rate=0.5),\n",
    "    RegularizedDense(100),\n",
    "    keras.layers.BatchNormalization(),\n",
    "    MCDropout(rate=0.5),\n",
    "    keras.layers.Dense(10, activation=\"softmax\")\n",
    "])"
   ]
  },
  {
   "cell_type": "code",
   "execution_count": 29,
   "id": "8abae91d",
   "metadata": {},
   "outputs": [],
   "source": [
    "# max-norm regulazation\n",
    "layer = keras.layers.Dense(100, activation=\"elu\", kernel_initializer=\"he_normal\", kernel_constraint=keras.constraints.max_norm(1.)) \n",
    "# kernel_constraint 가 weight의 크기를 조절해줌!"
   ]
  },
  {
   "cell_type": "code",
   "execution_count": null,
   "id": "49ebd9dd",
   "metadata": {},
   "outputs": [],
   "source": []
  }
 ],
 "metadata": {
  "kernelspec": {
   "display_name": "Python [conda env:HOML]",
   "language": "python",
   "name": "conda-env-HOML-py"
  },
  "language_info": {
   "codemirror_mode": {
    "name": "ipython",
    "version": 3
   },
   "file_extension": ".py",
   "mimetype": "text/x-python",
   "name": "python",
   "nbconvert_exporter": "python",
   "pygments_lexer": "ipython3",
   "version": "3.10.3"
  }
 },
 "nbformat": 4,
 "nbformat_minor": 5
}
