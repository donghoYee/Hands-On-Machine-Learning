{
 "cells": [
  {
   "cell_type": "markdown",
   "id": "8a1a38ac",
   "metadata": {},
   "source": [
    "# 층 정규화를 사용하는 사용자 정의 층"
   ]
  },
  {
   "cell_type": "code",
   "execution_count": 1,
   "id": "d48955bc",
   "metadata": {},
   "outputs": [],
   "source": [
    "import numpy as np\n",
    "import tensorflow as tf\n",
    "from tensorflow import keras"
   ]
  },
  {
   "cell_type": "code",
   "execution_count": 2,
   "id": "2d787669",
   "metadata": {},
   "outputs": [
    {
     "name": "stderr",
     "output_type": "stream",
     "text": [
      "2022-06-08 15:37:54.099472: I tensorflow/stream_executor/cuda/cuda_gpu_executor.cc:936] successful NUMA node read from SysFS had negative value (-1), but there must be at least one NUMA node, so returning NUMA node zero\n",
      "2022-06-08 15:37:54.125957: I tensorflow/stream_executor/cuda/cuda_gpu_executor.cc:936] successful NUMA node read from SysFS had negative value (-1), but there must be at least one NUMA node, so returning NUMA node zero\n",
      "2022-06-08 15:37:54.126131: I tensorflow/stream_executor/cuda/cuda_gpu_executor.cc:936] successful NUMA node read from SysFS had negative value (-1), but there must be at least one NUMA node, so returning NUMA node zero\n",
      "2022-06-08 15:37:54.126771: I tensorflow/core/platform/cpu_feature_guard.cc:151] This TensorFlow binary is optimized with oneAPI Deep Neural Network Library (oneDNN) to use the following CPU instructions in performance-critical operations:  AVX2 FMA\n",
      "To enable them in other operations, rebuild TensorFlow with the appropriate compiler flags.\n",
      "2022-06-08 15:37:54.127368: I tensorflow/stream_executor/cuda/cuda_gpu_executor.cc:936] successful NUMA node read from SysFS had negative value (-1), but there must be at least one NUMA node, so returning NUMA node zero\n",
      "2022-06-08 15:37:54.127517: I tensorflow/stream_executor/cuda/cuda_gpu_executor.cc:936] successful NUMA node read from SysFS had negative value (-1), but there must be at least one NUMA node, so returning NUMA node zero\n",
      "2022-06-08 15:37:54.127645: I tensorflow/stream_executor/cuda/cuda_gpu_executor.cc:936] successful NUMA node read from SysFS had negative value (-1), but there must be at least one NUMA node, so returning NUMA node zero\n",
      "2022-06-08 15:37:54.501483: I tensorflow/stream_executor/cuda/cuda_gpu_executor.cc:936] successful NUMA node read from SysFS had negative value (-1), but there must be at least one NUMA node, so returning NUMA node zero\n",
      "2022-06-08 15:37:54.501653: I tensorflow/stream_executor/cuda/cuda_gpu_executor.cc:936] successful NUMA node read from SysFS had negative value (-1), but there must be at least one NUMA node, so returning NUMA node zero\n",
      "2022-06-08 15:37:54.501783: I tensorflow/stream_executor/cuda/cuda_gpu_executor.cc:936] successful NUMA node read from SysFS had negative value (-1), but there must be at least one NUMA node, so returning NUMA node zero\n",
      "2022-06-08 15:37:54.501891: I tensorflow/core/common_runtime/gpu/gpu_device.cc:1525] Created device /job:localhost/replica:0/task:0/device:GPU:0 with 7408 MB memory:  -> device: 0, name: NVIDIA GeForce GTX 1070, pci bus id: 0000:01:00.0, compute capability: 6.1\n"
     ]
    },
    {
     "data": {
      "text/plain": [
       "(<tf.Tensor: shape=(2, 1), dtype=float32, numpy=\n",
       " array([[2.       ],\n",
       "        [5.3333335]], dtype=float32)>,\n",
       " <tf.Tensor: shape=(2, 1), dtype=float32, numpy=\n",
       " array([[0.6666667],\n",
       "        [1.5555555]], dtype=float32)>)"
      ]
     },
     "execution_count": 2,
     "metadata": {},
     "output_type": "execute_result"
    }
   ],
   "source": [
    "a = tf.constant([[1.,2.,3.],[4.,5.,7.]])\n",
    "tf.nn.moments(a, axes=-1, keepdims=True)"
   ]
  },
  {
   "cell_type": "code",
   "execution_count": 3,
   "id": "975444d5",
   "metadata": {},
   "outputs": [],
   "source": [
    "class MyLayerNormalization(keras.layers.Layer):\n",
    "    def __init__(self, **kwargs):\n",
    "        super().__init__(**kwargs)\n",
    "    \n",
    "    def build(self, batch_input_shape):\n",
    "        self.alpha = self.add_weight(name=\"alpha\", shape=batch_input_shape[-1:], initializer='ones', dtype=tf.float32)\n",
    "        self.betha = self.add_weight(name=\"betha\", shape=batch_input_shape[-1:], initializer='zeros', dtype=tf.float32)\n",
    "        \n",
    "        super().build(batch_input_shape)\n",
    "        pass\n",
    "    \n",
    "    def call(self, X):\n",
    "        mean, dis = tf.nn.moments(X, axes=-1, keepdims=True) # keepdims = True -> N X 1 array\n",
    "        std = tf.sqrt(dis)\n",
    "        return self.alpha * (X - mean) / (std + 1e-6) + self.betha\n",
    "    \n",
    "    def compute_output_shape(self, batch_input_shape):\n",
    "        return tf.TensorShape(batch_input_shape.as_list())\n",
    "    \n",
    "    def get_config(self):\n",
    "        base_config = super().get_config()\n",
    "        return {**base_config, \"alpha\": self.alpha, \"betha\":self.betha}"
   ]
  },
  {
   "cell_type": "code",
   "execution_count": 4,
   "id": "62c9ef17",
   "metadata": {},
   "outputs": [],
   "source": [
    "my_normalization = MyLayerNormalization()"
   ]
  },
  {
   "cell_type": "code",
   "execution_count": 5,
   "id": "d26f0491",
   "metadata": {},
   "outputs": [],
   "source": [
    "norm_a = my_normalization(a)"
   ]
  },
  {
   "cell_type": "code",
   "execution_count": 6,
   "id": "fa13a6dc",
   "metadata": {},
   "outputs": [
    {
     "data": {
      "text/plain": [
       "<tf.Tensor: shape=(2, 3), dtype=float32, numpy=\n",
       "array([[-1.2247434 ,  0.        ,  1.2247434 ],\n",
       "       [-1.0690444 , -0.26726118,  1.3363051 ]], dtype=float32)>"
      ]
     },
     "execution_count": 6,
     "metadata": {},
     "output_type": "execute_result"
    }
   ],
   "source": [
    "norm_a"
   ]
  },
  {
   "cell_type": "code",
   "execution_count": 7,
   "id": "090eaf6e",
   "metadata": {},
   "outputs": [
    {
     "data": {
      "text/plain": [
       "<tf.Tensor: shape=(2, 3), dtype=float32, numpy=\n",
       "array([[1., 2., 3.],\n",
       "       [4., 5., 7.]], dtype=float32)>"
      ]
     },
     "execution_count": 7,
     "metadata": {},
     "output_type": "execute_result"
    }
   ],
   "source": [
    "a"
   ]
  },
  {
   "cell_type": "code",
   "execution_count": 8,
   "id": "e8e8598c",
   "metadata": {},
   "outputs": [
    {
     "data": {
      "text/plain": [
       "(<tf.Tensor: shape=(2, 1), dtype=float32, numpy=\n",
       " array([[ 0.0000000e+00],\n",
       "        [-1.1920929e-07]], dtype=float32)>,\n",
       " <tf.Tensor: shape=(2, 1), dtype=float32, numpy=\n",
       " array([[0.99999756],\n",
       "        [0.99999857]], dtype=float32)>)"
      ]
     },
     "execution_count": 8,
     "metadata": {},
     "output_type": "execute_result"
    }
   ],
   "source": [
    "tf.nn.moments(norm_a, axes=-1, keepdims=True)"
   ]
  },
  {
   "cell_type": "markdown",
   "id": "d9f87c7c",
   "metadata": {},
   "source": [
    "# 사용자 정의 훈련 반복을 사용해 패션 MNIST 훈련"
   ]
  },
  {
   "cell_type": "code",
   "execution_count": 24,
   "id": "0678c684",
   "metadata": {},
   "outputs": [],
   "source": [
    "fashion_mnist = keras.datasets.fashion_mnist\n",
    "(X_train_full, y_train_full), (X_test, y_test) = fashion_mnist.load_data()"
   ]
  },
  {
   "cell_type": "code",
   "execution_count": 25,
   "id": "65ffe0d7",
   "metadata": {},
   "outputs": [],
   "source": [
    "X_train_full = X_train_full / 255.0\n",
    "X_test = X_test / 255.0"
   ]
  },
  {
   "cell_type": "code",
   "execution_count": 26,
   "id": "c6910122",
   "metadata": {},
   "outputs": [],
   "source": [
    "from sklearn.model_selection import train_test_split"
   ]
  },
  {
   "cell_type": "code",
   "execution_count": 27,
   "id": "d832ba32",
   "metadata": {},
   "outputs": [],
   "source": [
    "X_train, X_val, y_train, y_val = train_test_split(X_train_full, y_train_full)"
   ]
  },
  {
   "cell_type": "code",
   "execution_count": 13,
   "id": "52b93f93",
   "metadata": {},
   "outputs": [
    {
     "data": {
      "text/plain": [
       "(45000, 28, 28)"
      ]
     },
     "execution_count": 13,
     "metadata": {},
     "output_type": "execute_result"
    }
   ],
   "source": [
    "X_train.shape"
   ]
  },
  {
   "cell_type": "code",
   "execution_count": 14,
   "id": "710dabdc",
   "metadata": {},
   "outputs": [
    {
     "data": {
      "text/plain": [
       "(15000, 28, 28)"
      ]
     },
     "execution_count": 14,
     "metadata": {},
     "output_type": "execute_result"
    }
   ],
   "source": [
    "X_test.shape"
   ]
  },
  {
   "cell_type": "code",
   "execution_count": 15,
   "id": "e7c6da41",
   "metadata": {},
   "outputs": [],
   "source": [
    "l2_reg = keras.regularizers.l2(0.05)\n",
    "model = keras.models.Sequential([\n",
    "    keras.layers.Flatten(input_shape=[28,28]),\n",
    "    keras.layers.Dense(300, activation=\"elu\", kernel_initializer=\"he_normal\", kernel_regularizer=l2_reg),\n",
    "    MyLayerNormalization(),\n",
    "    keras.layers.Dense(100, activation=\"elu\", kernel_initializer=\"he_normal\", kernel_regularizer=l2_reg),\n",
    "    MyLayerNormalization(),\n",
    "    keras.layers.Dense(10, activation=\"softmax\", kernel_initializer=\"he_normal\", kernel_regularizer=l2_reg),\n",
    "])"
   ]
  },
  {
   "cell_type": "code",
   "execution_count": 16,
   "id": "ebab2046",
   "metadata": {},
   "outputs": [],
   "source": [
    "def random_batch(X, y, batch_size=32):\n",
    "    idx = np.random.randint(len(X), size=batch_size)\n",
    "    return X[idx], y[idx]"
   ]
  },
  {
   "cell_type": "code",
   "execution_count": 21,
   "id": "154164a5",
   "metadata": {},
   "outputs": [],
   "source": [
    "def print_status_bar(iteration, total, loss, metrics=None):\n",
    "    metrics = \" - \".join([\"{}: {:.4f}\".format(m.name, m.result()) for m in [loss] + (metrics or [])])\n",
    "    end = \"\" if iteration <= total else \"\\n\"\n",
    "    print(\"\\r{}/{} - \".format(iteration, total) + metrics, end=end)\n"
   ]
  },
  {
   "cell_type": "code",
   "execution_count": 32,
   "id": "997ea38c",
   "metadata": {},
   "outputs": [],
   "source": [
    "n_epochs = 20\n",
    "batch_size= 100\n",
    "n_steps = len(X_train) // batch_size\n",
    "optimizer1 = keras.optimizers.Nadam(learning_rate = 0.01)\n",
    "optimizer2 = keras.optimizers.Nadam(learning_rate = 0.001)\n",
    "loss_fn = keras.losses.sparse_categorical_crossentropy\n",
    "mean_loss = keras.metrics.Mean()\n",
    "metrics = [keras.metrics.Accuracy()]"
   ]
  },
  {
   "cell_type": "code",
   "execution_count": 34,
   "id": "419afad9",
   "metadata": {
    "scrolled": true
   },
   "outputs": [
    {
     "name": "stdout",
     "output_type": "stream",
     "text": [
      "\n",
      " epoch 1/20\n",
      "45000/45000 - mean: 1.3175 - accuracy: 0.6340\n",
      "validation: loss 1.2215467691421509 accuracy 0.6700666546821594\n",
      "\n",
      " epoch 2/20\n",
      "45000/45000 - mean: 1.1593 - accuracy: 0.6784\n",
      "validation: loss 1.4261993169784546 accuracy 0.6229333281517029\n",
      "\n",
      " epoch 3/20\n",
      "45000/45000 - mean: 1.1275 - accuracy: 0.6921\n",
      "validation: loss 1.0662237405776978 accuracy 0.7019333243370056\n",
      "\n",
      " epoch 4/20\n",
      "45000/45000 - mean: 1.1361 - accuracy: 0.6826\n",
      "validation: loss 1.0653562545776367 accuracy 0.7075999975204468\n",
      "\n",
      " epoch 5/20\n",
      "45000/45000 - mean: 1.1535 - accuracy: 0.6801\n",
      "validation: loss 1.1222496032714844 accuracy 0.7170666456222534\n",
      "\n",
      " epoch 6/20\n",
      "45000/45000 - mean: 1.1033 - accuracy: 0.6925\n",
      "validation: loss 1.1769856214523315 accuracy 0.6540666818618774\n",
      "\n",
      " epoch 7/20\n",
      "45000/45000 - mean: 1.1042 - accuracy: 0.6889\n",
      "validation: loss 1.147184133529663 accuracy 0.6760666370391846\n",
      "\n",
      " epoch 8/20\n",
      "45000/45000 - mean: 1.0270 - accuracy: 0.7124\n",
      "validation: loss 1.0247336626052856 accuracy 0.7282666563987732\n",
      "\n",
      " epoch 9/20\n",
      "45000/45000 - mean: 1.0755 - accuracy: 0.6936\n",
      "validation: loss 0.9491486549377441 accuracy 0.741599977016449\n",
      "\n",
      " epoch 10/20\n",
      "45000/45000 - mean: 1.1498 - accuracy: 0.6828\n",
      "validation: loss 0.9308798313140869 accuracy 0.7282666563987732\n",
      "\n",
      " epoch 11/20\n",
      "45000/45000 - mean: 0.7875 - accuracy: 0.7681\n",
      "validation: loss 0.7394523024559021 accuracy 0.7771999835968018\n",
      "\n",
      " epoch 12/20\n",
      "45000/45000 - mean: 0.7152 - accuracy: 0.7857\n",
      "validation: loss 0.6891104578971863 accuracy 0.8004666566848755\n",
      "\n",
      " epoch 13/20\n",
      "45000/45000 - mean: 0.7125 - accuracy: 0.7924\n",
      "validation: loss 0.6979973912239075 accuracy 0.7955333590507507\n",
      "\n",
      " epoch 14/20\n",
      "45000/45000 - mean: 0.6840 - accuracy: 0.8001\n",
      "validation: loss 0.6672393083572388 accuracy 0.8096666932106018\n",
      "\n",
      " epoch 15/20\n",
      "45000/45000 - mean: 0.6689 - accuracy: 0.8063\n",
      "validation: loss 0.660267174243927 accuracy 0.81086665391922\n",
      "\n",
      " epoch 16/20\n",
      "45000/45000 - mean: 0.6625 - accuracy: 0.8045\n",
      "validation: loss 0.6542937159538269 accuracy 0.8090000152587891\n",
      "\n",
      " epoch 17/20\n",
      "45000/45000 - mean: 0.6622 - accuracy: 0.8051\n",
      "validation: loss 0.647062361240387 accuracy 0.8073333501815796\n",
      "\n",
      " epoch 18/20\n",
      "45000/45000 - mean: 0.6699 - accuracy: 0.7965\n",
      "validation: loss 0.6536863446235657 accuracy 0.8092666864395142\n",
      "\n",
      " epoch 19/20\n",
      "45000/45000 - mean: 0.6459 - accuracy: 0.8046\n",
      "validation: loss 0.6826215982437134 accuracy 0.7954000234603882\n",
      "\n",
      " epoch 20/20\n",
      "45000/45000 - mean: 0.6329 - accuracy: 0.8090\n",
      "validation: loss 0.6535017490386963 accuracy 0.8062666654586792\n"
     ]
    }
   ],
   "source": [
    "for epoch in range(1, n_epochs + 1):\n",
    "    print(\"\\n epoch {}/{}\".format(epoch, n_epochs))\n",
    "    for step in range(1, n_steps + 1):\n",
    "        X_batch, y_batch = random_batch(X_train, y_train)\n",
    "        \n",
    "        with tf.GradientTape() as tape:\n",
    "            y_pred = model(X_batch)\n",
    "            main_loss = tf.reduce_mean(loss_fn(y_batch, y_pred))\n",
    "            loss = tf.add_n([main_loss] + model.losses)\n",
    "        gradients = tape.gradient(loss, model.trainable_variables)\n",
    "        if(epoch <= 10):\n",
    "            optimizer1.apply_gradients(zip(gradients, model.trainable_variables))\n",
    "        else:\n",
    "            optimizer2.apply_gradients(zip(gradients, model.trainable_variables))\n",
    "        mean_loss(loss)\n",
    "        for metric in metrics:\n",
    "            metric(y_batch, np.argmax(y_pred, axis=1))\n",
    "        print_status_bar(step * batch_size, len(y_train), mean_loss, metrics)\n",
    "    for metric in [mean_loss] + metrics:\n",
    "        metric.reset_states()\n",
    "    \n",
    "    ## val\n",
    "    y_val_pred = model(X_val)\n",
    "    main_loss = tf.reduce_mean(loss_fn(y_val, y_val_pred))\n",
    "    loss = tf.add_n([main_loss] + model.losses)\n",
    "    accuracy = keras.metrics.Accuracy()(np.argmax(y_val_pred, axis=1), y_val)\n",
    "    \n",
    "    print(\"\\nvalidation: loss {} accuracy {}\".format(loss, accuracy.numpy()))"
   ]
  },
  {
   "cell_type": "code",
   "execution_count": 43,
   "id": "703ac90f",
   "metadata": {},
   "outputs": [
    {
     "data": {
      "text/plain": [
       "<matplotlib.image.AxesImage at 0x7f08a9828c40>"
      ]
     },
     "execution_count": 43,
     "metadata": {},
     "output_type": "execute_result"
    },
    {
     "data": {
      "image/png": "[encoded data removed]",
      "text/plain": [
       "<Figure size 432x288 with 1 Axes>"
      ]
     },
     "metadata": {
      "needs_background": "light"
     },
     "output_type": "display_data"
    }
   ],
   "source": [
    "import matplotlib.pyplot as plt\n",
    "plt.imshow(X_test[1])"
   ]
  },
  {
   "cell_type": "code",
   "execution_count": 44,
   "id": "6b347190",
   "metadata": {},
   "outputs": [
    {
     "data": {
      "text/plain": [
       "array([9, 2])"
      ]
     },
     "execution_count": 44,
     "metadata": {},
     "output_type": "execute_result"
    }
   ],
   "source": [
    "np.argmax(model(X_test[:2]), axis=1)"
   ]
  },
  {
   "cell_type": "code",
   "execution_count": null,
   "id": "31122626",
   "metadata": {},
   "outputs": [],
   "source": []
  }
 ],
 "metadata": {
  "kernelspec": {
   "display_name": "Python [conda env:HOML]",
   "language": "python",
   "name": "conda-env-HOML-py"
  },
  "language_info": {
   "codemirror_mode": {
    "name": "ipython",
    "version": 3
   },
   "file_extension": ".py",
   "mimetype": "text/x-python",
   "name": "python",
   "nbconvert_exporter": "python",
   "pygments_lexer": "ipython3",
   "version": "3.10.3"
  }
 },
 "nbformat": 4,
 "nbformat_minor": 5
}
