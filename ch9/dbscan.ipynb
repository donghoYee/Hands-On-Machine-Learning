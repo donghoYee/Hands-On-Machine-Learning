{
 "cells": [
  {
   "cell_type": "code",
   "execution_count": 1,
   "id": "cdae637e",
   "metadata": {},
   "outputs": [
    {
     "data": {
      "text/plain": [
       "DBSCAN(eps=0.05)"
      ]
     },
     "execution_count": 1,
     "metadata": {},
     "output_type": "execute_result"
    }
   ],
   "source": [
    "from sklearn.cluster import DBSCAN\n",
    "from sklearn.datasets import make_moons\n",
    "\n",
    "X, y = make_moons(n_samples=1000, noise = 0.05)\n",
    "dbscan = DBSCAN(eps = 0.05, min_samples=5)\n",
    "dbscan.fit(X)"
   ]
  },
  {
   "cell_type": "code",
   "execution_count": 2,
   "id": "5b56fd04",
   "metadata": {
    "scrolled": true
   },
   "outputs": [
    {
     "name": "stdout",
     "output_type": "stream",
     "text": [
      "[ 0  1  2  3  4  7  8 10 13 14]\n",
      "794\n"
     ]
    }
   ],
   "source": [
    "print(dbscan.core_sample_indices_[:10]) # the indexes of core samples -> the ones that are not outliers\n",
    "print(len(dbscan.core_sample_indices_))"
   ]
  },
  {
   "cell_type": "code",
   "execution_count": 3,
   "id": "67fa8cf3",
   "metadata": {},
   "outputs": [
    {
     "name": "stdout",
     "output_type": "stream",
     "text": [
      "794\n"
     ]
    }
   ],
   "source": [
    "print(len(dbscan.components_)) # only the core components!"
   ]
  },
  {
   "cell_type": "code",
   "execution_count": 4,
   "id": "6de3676d",
   "metadata": {},
   "outputs": [],
   "source": [
    "dbscan = DBSCAN(eps = 0.2, min_samples=5)"
   ]
  },
  {
   "cell_type": "code",
   "execution_count": 5,
   "id": "2bacf590",
   "metadata": {},
   "outputs": [
    {
     "name": "stdout",
     "output_type": "stream",
     "text": [
      "1\n"
     ]
    }
   ],
   "source": [
    "print(max(dbscan.fit_predict(X)))"
   ]
  },
  {
   "cell_type": "code",
   "execution_count": 6,
   "id": "84d93877",
   "metadata": {},
   "outputs": [
    {
     "data": {
      "text/plain": [
       "KNeighborsClassifier(n_neighbors=50)"
      ]
     },
     "execution_count": 6,
     "metadata": {},
     "output_type": "execute_result"
    }
   ],
   "source": [
    "from sklearn.neighbors import KNeighborsClassifier\n",
    "\n",
    "knn = KNeighborsClassifier(n_neighbors=50)\n",
    "knn.fit(dbscan.components_, dbscan.labels_[dbscan.core_sample_indices_])"
   ]
  },
  {
   "cell_type": "code",
   "execution_count": 7,
   "id": "17a15303",
   "metadata": {},
   "outputs": [
    {
     "name": "stdout",
     "output_type": "stream",
     "text": [
      "[1 0 1 0]\n",
      "[[0.16 0.84]\n",
      " [1.   0.  ]\n",
      " [0.16 0.84]\n",
      " [1.   0.  ]]\n"
     ]
    }
   ],
   "source": [
    "import numpy as np\n",
    "X_new = np.array([[-0.5, 0], [0,0.5],[1, -0.1], [2,1]])\n",
    "print(knn.predict(X_new))\n",
    "print(knn.predict_proba(X_new))"
   ]
  },
  {
   "cell_type": "code",
   "execution_count": 8,
   "id": "1b912dce",
   "metadata": {},
   "outputs": [
    {
     "name": "stdout",
     "output_type": "stream",
     "text": [
      "[[-1 -1 -1]\n",
      " [ 0  0  0]\n",
      " [ 1  1  1]\n",
      " [-1 -1 -1]]\n"
     ]
    }
   ],
   "source": [
    "y_dist, y_pred_idx = knn.kneighbors(X_new, n_neighbors=3)\n",
    "y_pred = dbscan.labels_[dbscan.core_sample_indices_][y_pred_idx]\n",
    "y_pred[y_dist > 0.2] = -1\n",
    "print(y_pred)"
   ]
  },
  {
   "cell_type": "code",
   "execution_count": 9,
   "id": "76260401",
   "metadata": {},
   "outputs": [
    {
     "data": {
      "text/plain": [
       "GaussianMixture(n_components=5, n_init=10)"
      ]
     },
     "execution_count": 9,
     "metadata": {},
     "output_type": "execute_result"
    }
   ],
   "source": [
    "from sklearn.mixture import GaussianMixture\n",
    "\n",
    "gm = GaussianMixture(n_components=5, n_init=10)\n",
    "gm.fit(X)"
   ]
  },
  {
   "cell_type": "code",
   "execution_count": 10,
   "id": "e88fc1d3",
   "metadata": {},
   "outputs": [
    {
     "data": {
      "text/plain": [
       "array([0.24971901, 0.1708909 , 0.25164495, 0.16736297, 0.16038218])"
      ]
     },
     "execution_count": 10,
     "metadata": {},
     "output_type": "execute_result"
    }
   ],
   "source": [
    "gm.weights_"
   ]
  },
  {
   "cell_type": "code",
   "execution_count": 11,
   "id": "16228c4e",
   "metadata": {},
   "outputs": [
    {
     "data": {
      "text/plain": [
       "array([[ 0.35421142, -0.12277049],\n",
       "       [-0.02005658,  0.95040642],\n",
       "       [ 1.63706396, -0.13326274],\n",
       "       [ 0.82773143,  0.47295539],\n",
       "       [-0.83562183,  0.46124395]])"
      ]
     },
     "execution_count": 11,
     "metadata": {},
     "output_type": "execute_result"
    }
   ],
   "source": [
    "gm.means_"
   ]
  },
  {
   "cell_type": "code",
   "execution_count": 12,
   "id": "49200f84",
   "metadata": {},
   "outputs": [
    {
     "data": {
      "text/plain": [
       "(1000, 2)"
      ]
     },
     "execution_count": 12,
     "metadata": {},
     "output_type": "execute_result"
    }
   ],
   "source": [
    "X.shape"
   ]
  },
  {
   "cell_type": "code",
   "execution_count": 13,
   "id": "5a6e7716",
   "metadata": {},
   "outputs": [
    {
     "data": {
      "text/plain": [
       "array([[[ 0.09974149, -0.09075264],\n",
       "        [-0.09075264,  0.10121056]],\n",
       "\n",
       "       [[ 0.09341738,  0.00183327],\n",
       "        [ 0.00183327,  0.00400261]],\n",
       "\n",
       "       [[ 0.09610852,  0.08581421],\n",
       "        [ 0.08581421,  0.09698997]],\n",
       "\n",
       "       [[ 0.02636335, -0.03821978],\n",
       "        [-0.03821978,  0.06791222]],\n",
       "\n",
       "       [[ 0.02224108,  0.03400239],\n",
       "        [ 0.03400239,  0.06524356]]])"
      ]
     },
     "execution_count": 13,
     "metadata": {},
     "output_type": "execute_result"
    }
   ],
   "source": [
    "gm.covariances_"
   ]
  },
  {
   "cell_type": "code",
   "execution_count": 14,
   "id": "9a8b9747",
   "metadata": {},
   "outputs": [
    {
     "name": "stdout",
     "output_type": "stream",
     "text": [
      "converged True\n",
      "number of iterations 10\n"
     ]
    }
   ],
   "source": [
    "print(\"converged\", gm.converged_)\n",
    "print(\"number of iterations\", gm.n_init)"
   ]
  },
  {
   "cell_type": "code",
   "execution_count": 15,
   "id": "b710b916",
   "metadata": {},
   "outputs": [
    {
     "name": "stdout",
     "output_type": "stream",
     "text": [
      "[0 2 2 3 0 0 4 3 1 1]\n",
      "[[1.00000000e+000 6.07656299e-016 1.15634181e-050 2.38505012e-036\n",
      "  1.69329528e-032]\n",
      " [7.97086554e-043 1.94504599e-044 1.00000000e+000 4.71588698e-043\n",
      "  0.00000000e+000]\n",
      " [2.97136190e-008 2.23643883e-110 9.96229373e-001 3.77059695e-003\n",
      "  0.00000000e+000]\n",
      " [6.10521150e-018 1.47350311e-003 5.64924846e-035 9.98526497e-001\n",
      "  3.25016206e-091]\n",
      " [1.00000000e+000 4.07220981e-039 1.33854461e-034 2.15929707e-041\n",
      "  1.67430428e-058]\n",
      " [1.00000000e+000 7.16478192e-037 1.25846497e-038 5.95838920e-048\n",
      "  2.61018778e-048]\n",
      " [3.16448050e-018 2.50556172e-050 1.21133763e-080 2.38189888e-196\n",
      "  1.00000000e+000]\n",
      " [1.53544960e-008 4.62487937e-039 2.74758022e-010 9.99999984e-001\n",
      "  6.20596453e-180]\n",
      " [2.96381546e-010 9.99999999e-001 7.02876704e-075 1.03293965e-009\n",
      "  1.75463370e-020]\n",
      " [5.43862047e-003 5.94689902e-001 2.36856272e-109 6.74620480e-056\n",
      "  3.99871477e-001]]\n"
     ]
    }
   ],
   "source": [
    "print(gm.predict(X)[:10])\n",
    "print(gm.predict_proba(X)[:10])"
   ]
  },
  {
   "cell_type": "code",
   "execution_count": 16,
   "id": "24274b9a",
   "metadata": {},
   "outputs": [
    {
     "name": "stdout",
     "output_type": "stream",
     "text": [
      "[[ 0.14064589  0.26933649]\n",
      " [-0.44717819  1.01693085]\n",
      " [ 0.65862805  0.96073295]\n",
      " [ 1.55031451 -0.25902256]\n",
      " [ 0.92974716  0.27142307]\n",
      " [-0.57479651  0.77930873]]\n",
      "[0 1 1 2 3 4]\n"
     ]
    }
   ],
   "source": [
    "X_new, y_new = gm.sample(6)\n",
    "print(X_new)\n",
    "print(y_new)"
   ]
  },
  {
   "cell_type": "code",
   "execution_count": 17,
   "id": "77170166",
   "metadata": {},
   "outputs": [
    {
     "data": {
      "text/plain": [
       "array([[-0.03890946,  0.40795804],\n",
       "       [ 1.96228417,  0.18948814],\n",
       "       [ 1.40827443, -0.40828534],\n",
       "       [ 0.70044521,  0.77441904],\n",
       "       [ 0.07839779,  0.11130546],\n",
       "       [-0.00983885,  0.13197537]])"
      ]
     },
     "execution_count": 17,
     "metadata": {},
     "output_type": "execute_result"
    }
   ],
   "source": [
    "X[:6]"
   ]
  },
  {
   "cell_type": "code",
   "execution_count": 18,
   "id": "6f61b942",
   "metadata": {},
   "outputs": [
    {
     "name": "stdout",
     "output_type": "stream",
     "text": [
      "[-1.65941669 -0.67553486 -0.49095153 -0.46928476 -0.47039454 -0.90276914\n",
      " -2.15028165 -0.96756701 -0.34304582 -0.63499814]\n"
     ]
    }
   ],
   "source": [
    "print(gm.score_samples(X)[:10])"
   ]
  },
  {
   "cell_type": "code",
   "execution_count": 19,
   "id": "0ee14e47",
   "metadata": {},
   "outputs": [],
   "source": [
    "    densities = gm.score_samples(X)\n",
    "    density_threshold = np.percentile(densities, 4)\n",
    "    outliers = X[densities < density_threshold] # Slice list by boolian integers"
   ]
  },
  {
   "cell_type": "code",
   "execution_count": 20,
   "id": "36816b5e",
   "metadata": {},
   "outputs": [
    {
     "data": {
      "text/plain": [
       "array([[ 9.52885321e-01, -4.66029251e-01],\n",
       "       [ 9.41614119e-01, -4.32225863e-01],\n",
       "       [-9.26334363e-01,  3.30171266e-02],\n",
       "       [ 1.07565018e+00,  3.38071898e-01],\n",
       "       [-2.46833042e-02,  4.93251135e-01],\n",
       "       [ 1.04949034e-03,  5.23465819e-01],\n",
       "       [ 1.98170130e+00,  4.87463953e-01],\n",
       "       [ 9.97786233e-01, -4.05025658e-01],\n",
       "       [-8.67217842e-01,  5.92276596e-02],\n",
       "       [-5.01522091e-01,  7.61039624e-01],\n",
       "       [ 3.41443827e-01,  7.84685029e-01],\n",
       "       [ 1.94523695e+00,  5.64521770e-01],\n",
       "       [ 1.95166707e+00,  4.30207366e-01],\n",
       "       [ 9.57988319e-01, -3.61873215e-03],\n",
       "       [ 9.67423888e-03,  4.67164577e-01],\n",
       "       [ 1.98554723e+00,  4.70836290e-01],\n",
       "       [ 1.94387482e+00,  4.28522793e-01],\n",
       "       [-9.70678788e-01,  5.20959006e-01],\n",
       "       [ 5.98616816e-02,  4.48828446e-01],\n",
       "       [ 8.37982770e-01,  5.13152885e-02],\n",
       "       [ 3.52947903e-01,  8.00438362e-01],\n",
       "       [ 1.97913840e+00,  4.67190964e-01],\n",
       "       [ 1.20725791e-02,  5.19725002e-01],\n",
       "       [ 1.02618169e+00, -4.61090531e-01],\n",
       "       [ 1.99633310e+00,  4.85725762e-01],\n",
       "       [ 1.94653556e+00,  5.19613996e-01],\n",
       "       [ 8.82387884e-01,  1.10723524e-01],\n",
       "       [ 9.92246082e-01, -4.75504588e-01],\n",
       "       [ 1.93015243e+00,  4.52673815e-01],\n",
       "       [ 9.68482621e-01, -4.93088963e-01],\n",
       "       [ 4.40663868e-01,  8.24161625e-01],\n",
       "       [ 1.02313758e+00, -4.80830742e-01],\n",
       "       [ 1.06404859e+00, -4.42624550e-01],\n",
       "       [ 1.95442994e+00,  4.42587896e-01],\n",
       "       [-1.68694721e-01,  1.12893557e+00],\n",
       "       [ 9.51419820e-01,  2.94550312e-02],\n",
       "       [ 1.27465091e-02,  4.97699055e-01],\n",
       "       [ 6.69895490e-03,  5.14577658e-01],\n",
       "       [ 1.96826041e+00,  4.84710933e-01],\n",
       "       [ 1.02447038e+00, -4.72488869e-01]])"
      ]
     },
     "execution_count": 20,
     "metadata": {},
     "output_type": "execute_result"
    }
   ],
   "source": [
    "outliers"
   ]
  },
  {
   "cell_type": "code",
   "execution_count": 21,
   "id": "0d3ae07f",
   "metadata": {},
   "outputs": [
    {
     "name": "stdout",
     "output_type": "stream",
     "text": [
      "[1 3]\n"
     ]
    }
   ],
   "source": [
    "a = np.array([1,2,3,4])\n",
    "print(a[[True, False, True, False]]) # this only works on numpy arrays!"
   ]
  },
  {
   "cell_type": "code",
   "execution_count": 22,
   "id": "8bdee9a0",
   "metadata": {},
   "outputs": [
    {
     "data": {
      "text/plain": [
       "<matplotlib.collections.PathCollection at 0x7f494c984730>"
      ]
     },
     "execution_count": 22,
     "metadata": {},
     "output_type": "execute_result"
    },
    {
     "data": {
      "image/png": "[encoded data removed]",
      "text/plain": [
       "<Figure size 432x288 with 1 Axes>"
      ]
     },
     "metadata": {
      "needs_background": "light"
     },
     "output_type": "display_data"
    }
   ],
   "source": [
    "import matplotlib.pyplot as plt\n",
    "plt.scatter(X[:,0], X[:,1])\n",
    "plt.scatter(outliers[:,0], outliers[:, 1])"
   ]
  },
  {
   "cell_type": "code",
   "execution_count": 23,
   "id": "816c8e3b",
   "metadata": {},
   "outputs": [
    {
     "data": {
      "text/plain": [
       "1812.3767707878808"
      ]
     },
     "execution_count": 23,
     "metadata": {},
     "output_type": "execute_result"
    }
   ],
   "source": [
    "gm.bic(X)"
   ]
  },
  {
   "cell_type": "code",
   "execution_count": 24,
   "id": "04218e50",
   "metadata": {},
   "outputs": [
    {
     "data": {
      "text/plain": [
       "1670.0518676973988"
      ]
     },
     "execution_count": 24,
     "metadata": {},
     "output_type": "execute_result"
    }
   ],
   "source": [
    "gm.aic(X)"
   ]
  },
  {
   "cell_type": "code",
   "execution_count": 25,
   "id": "c1e13d18",
   "metadata": {},
   "outputs": [
    {
     "data": {
      "text/plain": [
       "array([0.13, 0.13, 0.1 , 0.11, 0.11, 0.15, 0.15, 0.11, 0.  , 0.  ])"
      ]
     },
     "execution_count": 25,
     "metadata": {},
     "output_type": "execute_result"
    }
   ],
   "source": [
    "from sklearn.mixture import BayesianGaussianMixture\n",
    "\n",
    "bgm = BayesianGaussianMixture(n_components=10, n_init = 15)\n",
    "bgm.fit(X)\n",
    "np.round(bgm.weights_, 2)"
   ]
  },
  {
   "cell_type": "code",
   "execution_count": null,
   "id": "8b7888b3",
   "metadata": {},
   "outputs": [],
   "source": []
  }
 ],
 "metadata": {
  "kernelspec": {
   "display_name": "Python [conda env:HOML]",
   "language": "python",
   "name": "conda-env-HOML-py"
  },
  "language_info": {
   "codemirror_mode": {
    "name": "ipython",
    "version": 3
   },
   "file_extension": ".py",
   "mimetype": "text/x-python",
   "name": "python",
   "nbconvert_exporter": "python",
   "pygments_lexer": "ipython3",
   "version": "3.10.3"
  }
 },
 "nbformat": 4,
 "nbformat_minor": 5
}
